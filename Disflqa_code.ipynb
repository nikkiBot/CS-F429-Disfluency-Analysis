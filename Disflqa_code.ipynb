{
 "cells": [
  {
   "cell_type": "code",
   "execution_count": 1,
   "id": "1f940b60",
   "metadata": {
    "execution": {
     "iopub.execute_input": "2023-11-24T19:26:21.941173Z",
     "iopub.status.busy": "2023-11-24T19:26:21.940780Z",
     "iopub.status.idle": "2023-11-24T19:26:21.951672Z",
     "shell.execute_reply": "2023-11-24T19:26:21.950890Z"
    },
    "papermill": {
     "duration": 0.020823,
     "end_time": "2023-11-24T19:26:21.953662",
     "exception": false,
     "start_time": "2023-11-24T19:26:21.932839",
     "status": "completed"
    },
    "tags": []
   },
   "outputs": [],
   "source": [
    "# Importing libraries\n",
    "\n",
    "import csv\n",
    "import random"
   ]
  },
  {
   "cell_type": "code",
   "execution_count": 2,
   "id": "b02c0dcb",
   "metadata": {
    "execution": {
     "iopub.execute_input": "2023-11-24T19:26:21.967063Z",
     "iopub.status.busy": "2023-11-24T19:26:21.966286Z",
     "iopub.status.idle": "2023-11-24T19:26:22.697492Z",
     "shell.execute_reply": "2023-11-24T19:26:22.696699Z"
    },
    "papermill": {
     "duration": 0.740157,
     "end_time": "2023-11-24T19:26:22.699890",
     "exception": false,
     "start_time": "2023-11-24T19:26:21.959733",
     "status": "completed"
    },
    "tags": []
   },
   "outputs": [],
   "source": [
    "import pandas as pd"
   ]
  },
  {
   "cell_type": "code",
   "execution_count": 3,
   "id": "67d2bdde",
   "metadata": {
    "execution": {
     "iopub.execute_input": "2023-11-24T19:26:22.713130Z",
     "iopub.status.busy": "2023-11-24T19:26:22.712715Z",
     "iopub.status.idle": "2023-11-24T19:26:22.820815Z",
     "shell.execute_reply": "2023-11-24T19:26:22.819722Z"
    },
    "papermill": {
     "duration": 0.117284,
     "end_time": "2023-11-24T19:26:22.823115",
     "exception": false,
     "start_time": "2023-11-24T19:26:22.705831",
     "status": "completed"
    },
    "tags": []
   },
   "outputs": [],
   "source": [
    "# Reading the dataset\n",
    "\n",
    "import numpy as np\n",
    "\n",
    "df_train = pd.read_csv(\"/kaggle/input/disflq-train/disflqa-annotated-train.csv\")\n",
    "df_val = pd.read_csv(\"/kaggle/input/disfqa/disflqa-annotated-dev.csv\")\n",
    "df_test = pd.read_csv(\"/kaggle/input/disfqa/disflqa-annotated-test.csv\")"
   ]
  },
  {
   "cell_type": "code",
   "execution_count": 4,
   "id": "81cf794e",
   "metadata": {
    "execution": {
     "iopub.execute_input": "2023-11-24T19:26:22.835940Z",
     "iopub.status.busy": "2023-11-24T19:26:22.835631Z",
     "iopub.status.idle": "2023-11-24T19:26:22.861627Z",
     "shell.execute_reply": "2023-11-24T19:26:22.860723Z"
    },
    "papermill": {
     "duration": 0.034816,
     "end_time": "2023-11-24T19:26:22.863855",
     "exception": false,
     "start_time": "2023-11-24T19:26:22.829039",
     "status": "completed"
    },
    "tags": []
   },
   "outputs": [
    {
     "name": "stdout",
     "output_type": "stream",
     "text": [
      "{'BR', 'IR', 'O'}\n"
     ]
    }
   ],
   "source": [
    "# Determining labels and assigning them to integers for mapping\n",
    "\n",
    "labels = [i.split() for i in df_train['annotation'].values.tolist()]\n",
    "\n",
    "# Check how many labels are there in the dataset\n",
    "unique_labels = set()\n",
    "\n",
    "for lb in labels:\n",
    "  [unique_labels.add(i) for i in lb if i not in unique_labels]\n",
    " \n",
    "print(unique_labels)"
   ]
  },
  {
   "cell_type": "code",
   "execution_count": 5,
   "id": "e5da5d96",
   "metadata": {
    "execution": {
     "iopub.execute_input": "2023-11-24T19:26:22.877031Z",
     "iopub.status.busy": "2023-11-24T19:26:22.876737Z",
     "iopub.status.idle": "2023-11-24T19:26:22.882283Z",
     "shell.execute_reply": "2023-11-24T19:26:22.881399Z"
    },
    "papermill": {
     "duration": 0.014454,
     "end_time": "2023-11-24T19:26:22.884314",
     "exception": false,
     "start_time": "2023-11-24T19:26:22.869860",
     "status": "completed"
    },
    "tags": []
   },
   "outputs": [
    {
     "name": "stdout",
     "output_type": "stream",
     "text": [
      "{0: 'BR', 1: 'IR', 2: 'O'}\n",
      "{'BR': 0, 'IR': 1, 'O': 2}\n"
     ]
    }
   ],
   "source": [
    "labels_to_ids = {k: v for v, k in enumerate(sorted(unique_labels))}\n",
    "ids_to_labels = {v: k for v, k in enumerate(sorted(unique_labels))}\n",
    "print(ids_to_labels)\n",
    "print(labels_to_ids)"
   ]
  },
  {
   "cell_type": "code",
   "execution_count": 6,
   "id": "70db49f0",
   "metadata": {
    "execution": {
     "iopub.execute_input": "2023-11-24T19:26:22.897818Z",
     "iopub.status.busy": "2023-11-24T19:26:22.897051Z",
     "iopub.status.idle": "2023-11-24T19:26:28.056460Z",
     "shell.execute_reply": "2023-11-24T19:26:28.055499Z"
    },
    "papermill": {
     "duration": 5.168591,
     "end_time": "2023-11-24T19:26:28.058815",
     "exception": false,
     "start_time": "2023-11-24T19:26:22.890224",
     "status": "completed"
    },
    "tags": []
   },
   "outputs": [],
   "source": [
    "from transformers import BertTokenizerFast"
   ]
  },
  {
   "cell_type": "code",
   "execution_count": 7,
   "id": "78668813",
   "metadata": {
    "execution": {
     "iopub.execute_input": "2023-11-24T19:26:28.072209Z",
     "iopub.status.busy": "2023-11-24T19:26:28.071746Z",
     "iopub.status.idle": "2023-11-24T19:26:29.764502Z",
     "shell.execute_reply": "2023-11-24T19:26:29.763707Z"
    },
    "papermill": {
     "duration": 1.701766,
     "end_time": "2023-11-24T19:26:29.766734",
     "exception": false,
     "start_time": "2023-11-24T19:26:28.064968",
     "status": "completed"
    },
    "tags": []
   },
   "outputs": [
    {
     "data": {
      "application/vnd.jupyter.widget-view+json": {
       "model_id": "36200814e51045c3bd37c353ee55622e",
       "version_major": 2,
       "version_minor": 0
      },
      "text/plain": [
       "Downloading tokenizer_config.json:   0%|          | 0.00/29.0 [00:00<?, ?B/s]"
      ]
     },
     "metadata": {},
     "output_type": "display_data"
    },
    {
     "data": {
      "application/vnd.jupyter.widget-view+json": {
       "model_id": "211701c8748b42e590a993937b823713",
       "version_major": 2,
       "version_minor": 0
      },
      "text/plain": [
       "Downloading vocab.txt:   0%|          | 0.00/213k [00:00<?, ?B/s]"
      ]
     },
     "metadata": {},
     "output_type": "display_data"
    },
    {
     "data": {
      "application/vnd.jupyter.widget-view+json": {
       "model_id": "91d5b5ab63ce41aa9ded1d3dd4d3fd3e",
       "version_major": 2,
       "version_minor": 0
      },
      "text/plain": [
       "Downloading tokenizer.json:   0%|          | 0.00/436k [00:00<?, ?B/s]"
      ]
     },
     "metadata": {},
     "output_type": "display_data"
    },
    {
     "data": {
      "application/vnd.jupyter.widget-view+json": {
       "model_id": "267fdcb9b90649e8a9c4376a807b12ab",
       "version_major": 2,
       "version_minor": 0
      },
      "text/plain": [
       "Downloading config.json:   0%|          | 0.00/570 [00:00<?, ?B/s]"
      ]
     },
     "metadata": {},
     "output_type": "display_data"
    }
   ],
   "source": [
    "tokenizer = BertTokenizerFast.from_pretrained('bert-base-cased')"
   ]
  },
  {
   "cell_type": "code",
   "execution_count": 8,
   "id": "e45ea803",
   "metadata": {
    "execution": {
     "iopub.execute_input": "2023-11-24T19:26:29.781269Z",
     "iopub.status.busy": "2023-11-24T19:26:29.780959Z",
     "iopub.status.idle": "2023-11-24T19:26:29.792568Z",
     "shell.execute_reply": "2023-11-24T19:26:29.791727Z"
    },
    "papermill": {
     "duration": 0.020928,
     "end_time": "2023-11-24T19:26:29.794391",
     "exception": false,
     "start_time": "2023-11-24T19:26:29.773463",
     "status": "completed"
    },
    "tags": []
   },
   "outputs": [],
   "source": [
    "import torch\n",
    "\n",
    "def align_label(texts, labels):\n",
    "    tokenized_inputs = tokenizer(texts, padding='max_length', max_length=100, truncation=True)\n",
    "\n",
    "    word_ids = tokenized_inputs.word_ids()\n",
    "\n",
    "    previous_word_idx = None\n",
    "    label_ids = []\n",
    "\n",
    "    for word_idx in word_ids:\n",
    "\n",
    "        if word_idx is None:\n",
    "            label_ids.append(-100)\n",
    "\n",
    "        elif word_idx != previous_word_idx:\n",
    "            try:\n",
    "                label_ids.append(labels_to_ids[labels[word_idx]])\n",
    "            except:\n",
    "                label_ids.append(-100)\n",
    "        else:\n",
    "            try:\n",
    "                label_ids.append(labels_to_ids[labels[word_idx]] if label_all_tokens else -100)\n",
    "            except:\n",
    "                label_ids.append(-100)\n",
    "        previous_word_idx = word_idx\n",
    "\n",
    "    return label_ids\n",
    "\n",
    "class DataSequence(torch.utils.data.Dataset):\n",
    "\n",
    "    def __init__(self, df):\n",
    "\n",
    "        lb = [i.split() for i in df['annotation'].values.tolist()]\n",
    "        txt = df['disfluent'].values.tolist()\n",
    "        self.texts = [tokenizer(str(i),\n",
    "                               padding='max_length', max_length = 100, truncation=True, return_tensors=\"pt\") for i in txt]\n",
    "        self.labels = [align_label(i,j) for i,j in zip(txt, lb)]\n",
    "\n",
    "    def __len__(self):\n",
    "\n",
    "        return len(self.labels)\n",
    "\n",
    "    def get_batch_data(self, idx):\n",
    "\n",
    "        return self.texts[idx]\n",
    "\n",
    "    def get_batch_labels(self, idx):\n",
    "\n",
    "        return torch.LongTensor(self.labels[idx])\n",
    "\n",
    "    def __getitem__(self, idx):\n",
    "\n",
    "        batch_data = self.get_batch_data(idx)\n",
    "        batch_labels = self.get_batch_labels(idx)\n",
    "\n",
    "        return batch_data, batch_labels"
   ]
  },
  {
   "cell_type": "code",
   "execution_count": 9,
   "id": "74b3a63d",
   "metadata": {
    "execution": {
     "iopub.execute_input": "2023-11-24T19:26:29.808247Z",
     "iopub.status.busy": "2023-11-24T19:26:29.807975Z",
     "iopub.status.idle": "2023-11-24T19:26:30.082958Z",
     "shell.execute_reply": "2023-11-24T19:26:30.081977Z"
    },
    "papermill": {
     "duration": 0.284525,
     "end_time": "2023-11-24T19:26:30.085309",
     "exception": false,
     "start_time": "2023-11-24T19:26:29.800784",
     "status": "completed"
    },
    "tags": []
   },
   "outputs": [],
   "source": [
    "from transformers import BertForTokenClassification\n",
    "\n",
    "class BertModel(torch.nn.Module):\n",
    "\n",
    "    def __init__(self):\n",
    "\n",
    "        super(BertModel, self).__init__()\n",
    "\n",
    "        self.bert = BertForTokenClassification.from_pretrained('bert-base-cased', num_labels=len(unique_labels))\n",
    "\n",
    "    def forward(self, input_id, mask, label):\n",
    "\n",
    "        output = self.bert(input_ids=input_id, attention_mask=mask, labels=label, return_dict=False)\n",
    "\n",
    "        return output"
   ]
  },
  {
   "cell_type": "code",
   "execution_count": 10,
   "id": "5d19d4fc",
   "metadata": {
    "execution": {
     "iopub.execute_input": "2023-11-24T19:26:30.100933Z",
     "iopub.status.busy": "2023-11-24T19:26:30.100413Z",
     "iopub.status.idle": "2023-11-24T19:37:09.022963Z",
     "shell.execute_reply": "2023-11-24T19:37:09.022001Z"
    },
    "papermill": {
     "duration": 639.292052,
     "end_time": "2023-11-24T19:37:09.384336",
     "exception": false,
     "start_time": "2023-11-24T19:26:30.092284",
     "status": "completed"
    },
    "tags": []
   },
   "outputs": [
    {
     "data": {
      "application/vnd.jupyter.widget-view+json": {
       "model_id": "d2f487d6e6604799a7d398117c03d59e",
       "version_major": 2,
       "version_minor": 0
      },
      "text/plain": [
       "Downloading model.safetensors:   0%|          | 0.00/436M [00:00<?, ?B/s]"
      ]
     },
     "metadata": {},
     "output_type": "display_data"
    },
    {
     "name": "stderr",
     "output_type": "stream",
     "text": [
      "Some weights of BertForTokenClassification were not initialized from the model checkpoint at bert-base-cased and are newly initialized: ['classifier.bias', 'classifier.weight']\n",
      "You should probably TRAIN this model on a down-stream task to be able to use it for predictions and inference.\n",
      "100%|██████████| 3590/3590 [01:58<00:00, 30.31it/s]\n"
     ]
    },
    {
     "name": "stdout",
     "output_type": "stream",
     "text": [
      "Epochs: 1 | Loss:  0.433 | Accuracy:  0.843 | Val_Loss:  0.326 | Accuracy:  0.886\n"
     ]
    },
    {
     "name": "stderr",
     "output_type": "stream",
     "text": [
      "100%|██████████| 3590/3590 [01:55<00:00, 30.96it/s]\n"
     ]
    },
    {
     "name": "stdout",
     "output_type": "stream",
     "text": [
      "Epochs: 2 | Loss:  0.310 | Accuracy:  0.896 | Val_Loss:  0.288 | Accuracy:  0.907\n"
     ]
    },
    {
     "name": "stderr",
     "output_type": "stream",
     "text": [
      "100%|██████████| 3590/3590 [01:55<00:00, 31.04it/s]\n"
     ]
    },
    {
     "name": "stdout",
     "output_type": "stream",
     "text": [
      "Epochs: 3 | Loss:  0.257 | Accuracy:  0.915 | Val_Loss:  0.276 | Accuracy:  0.915\n"
     ]
    },
    {
     "name": "stderr",
     "output_type": "stream",
     "text": [
      "100%|██████████| 3590/3590 [01:55<00:00, 31.09it/s]\n"
     ]
    },
    {
     "name": "stdout",
     "output_type": "stream",
     "text": [
      "Epochs: 4 | Loss:  0.217 | Accuracy:  0.929 | Val_Loss:  0.279 | Accuracy:  0.917\n"
     ]
    },
    {
     "name": "stderr",
     "output_type": "stream",
     "text": [
      "100%|██████████| 3590/3590 [01:55<00:00, 31.11it/s]\n"
     ]
    },
    {
     "name": "stdout",
     "output_type": "stream",
     "text": [
      "Epochs: 5 | Loss:  0.180 | Accuracy:  0.941 | Val_Loss:  0.297 | Accuracy:  0.915\n"
     ]
    }
   ],
   "source": [
    "from torch.utils.data import DataLoader\n",
    "from torch.optim import SGD\n",
    "from tqdm import tqdm\n",
    "\n",
    "# Defining train loop\n",
    "def train_loop(model, df_train, df_val):\n",
    "    # Load train and val datasets\n",
    "    train_dataset = DataSequence(df_train)\n",
    "    val_dataset = DataSequence(df_val)\n",
    "\n",
    "    train_dataloader = DataLoader(train_dataset, batch_size=BATCH_SIZE, shuffle=False)\n",
    "    val_dataloader = DataLoader(val_dataset, batch_size=BATCH_SIZE)\n",
    "    # use gpu or cpu according to machine\n",
    "    use_cuda = torch.cuda.is_available()\n",
    "    device = torch.device(\"cuda\" if use_cuda else \"cpu\")\n",
    "    optimizer = SGD(model.parameters(), lr=LEARNING_RATE)\n",
    "\n",
    "    for epoch_num in range(EPOCHS):\n",
    "        # print('test')\n",
    "        total_acc_train = 0\n",
    "        total_loss_train = 0\n",
    "\n",
    "        model.train()\n",
    "        model = model.to(device)\n",
    "        # print('test4')\n",
    "        #forward pass and backpropagation through the model\n",
    "        for train_data, train_label in tqdm(train_dataloader):\n",
    "            # print('test2')\n",
    "            train_label = train_label.to(device)\n",
    "            mask = train_data['attention_mask'].squeeze(1).to(device)\n",
    "            input_id = train_data['input_ids'].squeeze(1).to(device)\n",
    "\n",
    "            optimizer.zero_grad()\n",
    "            loss, logits = model(input_id, mask, train_label)\n",
    "            for i in range(logits.shape[0]):\n",
    "              # print('test3')                \n",
    "              logits_clean = logits[i][train_label[i] != -100]\n",
    "              label_clean = train_label[i][train_label[i] != -100]\n",
    "\n",
    "              predictions = logits_clean.argmax(dim=1)\n",
    "              acc = (predictions == label_clean).float().mean()\n",
    "              total_acc_train += acc\n",
    "              total_loss_train += loss.item()\n",
    "\n",
    "            loss.backward()\n",
    "            optimizer.step()\n",
    "\n",
    "        model.eval()\n",
    "\n",
    "        total_acc_val = 0\n",
    "        total_loss_val = 0\n",
    "        # calculate validation scores\n",
    "        for val_data, val_label in val_dataloader:\n",
    "\n",
    "            val_label = val_label.to(device)\n",
    "            mask = val_data['attention_mask'].squeeze(1).to(device)\n",
    "            input_id = val_data['input_ids'].squeeze(1).to(device)\n",
    "\n",
    "            loss, logits = model(input_id, mask, val_label)\n",
    "\n",
    "            for i in range(logits.shape[0]):\n",
    "\n",
    "              logits_clean = logits[i][val_label[i] != -100]\n",
    "              label_clean = val_label[i][val_label[i] != -100]\n",
    "\n",
    "              predictions = logits_clean.argmax(dim=1)\n",
    "              acc = (predictions == label_clean).float().mean()\n",
    "              total_acc_val += acc\n",
    "              total_loss_val += loss.item()\n",
    "              # print('test1')\n",
    "\n",
    "        val_accuracy = total_acc_val / len(df_val)\n",
    "        val_loss = total_loss_val / len(df_val)\n",
    "        torch.save(model.state_dict(), 'checkpoint_disq_data.pth')\n",
    "        print(\n",
    "            f'Epochs: {epoch_num + 1} | Loss: {total_loss_train / len(df_train): .3f} | Accuracy: {total_acc_train / len(df_train): .3f} | Val_Loss: {total_loss_val / len(df_val): .3f} | Accuracy: {total_acc_val / len(df_val): .3f}')\n",
    "\n",
    "LEARNING_RATE = 5e-3\n",
    "EPOCHS = 5\n",
    "BATCH_SIZE = 2\n",
    "\n",
    "model = BertModel()\n",
    "\n",
    "train_loop(model, df_train, df_val)"
   ]
  },
  {
   "cell_type": "code",
   "execution_count": 11,
   "id": "dc6e4e6e",
   "metadata": {
    "execution": {
     "iopub.execute_input": "2023-11-24T19:37:10.084368Z",
     "iopub.status.busy": "2023-11-24T19:37:10.083992Z",
     "iopub.status.idle": "2023-11-24T19:37:25.819239Z",
     "shell.execute_reply": "2023-11-24T19:37:25.818210Z"
    },
    "papermill": {
     "duration": 16.089024,
     "end_time": "2023-11-24T19:37:25.821499",
     "exception": false,
     "start_time": "2023-11-24T19:37:09.732475",
     "status": "completed"
    },
    "tags": []
   },
   "outputs": [
    {
     "name": "stderr",
     "output_type": "stream",
     "text": [
      "huggingface/tokenizers: The current process just got forked, after parallelism has already been used. Disabling parallelism to avoid deadlocks...\n",
      "To disable this warning, you can either:\n",
      "\t- Avoid using `tokenizers` before the fork if possible\n",
      "\t- Explicitly set the environment variable TOKENIZERS_PARALLELISM=(true | false)\n"
     ]
    },
    {
     "name": "stdout",
     "output_type": "stream",
     "text": [
      "Collecting seqeval\r\n",
      "  Downloading seqeval-1.2.2.tar.gz (43 kB)\r\n",
      "\u001b[2K     \u001b[90m━━━━━━━━━━━━━━━━━━━━━━━━━━━━━━━━━━━━━━━━\u001b[0m \u001b[32m43.6/43.6 kB\u001b[0m \u001b[31m2.8 MB/s\u001b[0m eta \u001b[36m0:00:00\u001b[0m\r\n",
      "\u001b[?25h  Preparing metadata (setup.py) ... \u001b[?25l-\b \b\\\b \b|\b \bdone\r\n",
      "\u001b[?25hRequirement already satisfied: numpy>=1.14.0 in /opt/conda/lib/python3.10/site-packages (from seqeval) (1.24.3)\r\n",
      "Requirement already satisfied: scikit-learn>=0.21.3 in /opt/conda/lib/python3.10/site-packages (from seqeval) (1.2.2)\r\n",
      "Requirement already satisfied: scipy>=1.3.2 in /opt/conda/lib/python3.10/site-packages (from scikit-learn>=0.21.3->seqeval) (1.11.3)\r\n",
      "Requirement already satisfied: joblib>=1.1.1 in /opt/conda/lib/python3.10/site-packages (from scikit-learn>=0.21.3->seqeval) (1.3.2)\r\n",
      "Requirement already satisfied: threadpoolctl>=2.0.0 in /opt/conda/lib/python3.10/site-packages (from scikit-learn>=0.21.3->seqeval) (3.2.0)\r\n",
      "Building wheels for collected packages: seqeval\r\n",
      "  Building wheel for seqeval (setup.py) ... \u001b[?25l-\b \b\\\b \b|\b \bdone\r\n",
      "\u001b[?25h  Created wheel for seqeval: filename=seqeval-1.2.2-py3-none-any.whl size=16162 sha256=391f9e63a4b249d843d0366351becdf854ad553e1ee398d5bd2a9b9740cb857f\r\n",
      "  Stored in directory: /root/.cache/pip/wheels/1a/67/4a/ad4082dd7dfc30f2abfe4d80a2ed5926a506eb8a972b4767fa\r\n",
      "Successfully built seqeval\r\n",
      "Installing collected packages: seqeval\r\n",
      "Successfully installed seqeval-1.2.2\r\n"
     ]
    }
   ],
   "source": [
    "!pip install seqeval"
   ]
  },
  {
   "cell_type": "code",
   "execution_count": 12,
   "id": "040eedca",
   "metadata": {
    "execution": {
     "iopub.execute_input": "2023-11-24T19:37:26.598801Z",
     "iopub.status.busy": "2023-11-24T19:37:26.598410Z",
     "iopub.status.idle": "2023-11-24T19:38:10.510770Z",
     "shell.execute_reply": "2023-11-24T19:38:10.509814Z"
    },
    "papermill": {
     "duration": 44.633674,
     "end_time": "2023-11-24T19:38:10.877236",
     "exception": false,
     "start_time": "2023-11-24T19:37:26.243562",
     "status": "completed"
    },
    "tags": []
   },
   "outputs": [
    {
     "name": "stdout",
     "output_type": "stream",
     "text": [
      "Test Accuracy:  0.890\n"
     ]
    }
   ],
   "source": [
    "# Function to evaluate accuracy of the model\n",
    "\n",
    "def evaluate2(model, df_test):\n",
    "\n",
    "    test_dataset = DataSequence(df_test)\n",
    "\n",
    "    test_dataloader = DataLoader(test_dataset, batch_size=1)\n",
    "\n",
    "    use_cuda = torch.cuda.is_available()\n",
    "    device = torch.device(\"cuda\" if use_cuda else \"cpu\")\n",
    "\n",
    "    if use_cuda:\n",
    "        model = model.cuda()\n",
    "\n",
    "    total_acc_test = 0.0\n",
    "\n",
    "    for test_data, test_label in test_dataloader:\n",
    "\n",
    "            test_label = test_label.to(device)\n",
    "            mask = test_data['attention_mask'].squeeze(1).to(device)\n",
    "\n",
    "            input_id = test_data['input_ids'].squeeze(1).to(device)\n",
    "\n",
    "            loss, logits = model(input_id, mask, test_label)\n",
    "\n",
    "            for i in range(logits.shape[0]):\n",
    "\n",
    "              logits_clean = logits[i][test_label[i] != -100]\n",
    "              label_clean = test_label[i][test_label[i] != -100]\n",
    "\n",
    "              predictions = logits_clean.argmax(dim=1)\n",
    "              acc = (predictions == label_clean).float().mean()\n",
    "              total_acc_test += acc\n",
    "\n",
    "    val_accuracy = total_acc_test / len(df_test)\n",
    "    print(f'Test Accuracy: {total_acc_test / len(df_test): .3f}')\n",
    "\n",
    "\n",
    "evaluate2(model, df_test)"
   ]
  },
  {
   "cell_type": "code",
   "execution_count": 13,
   "id": "59f6b732",
   "metadata": {
    "execution": {
     "iopub.execute_input": "2023-11-24T19:38:11.590755Z",
     "iopub.status.busy": "2023-11-24T19:38:11.589899Z",
     "iopub.status.idle": "2023-11-24T19:39:00.059739Z",
     "shell.execute_reply": "2023-11-24T19:39:00.058703Z"
    },
    "papermill": {
     "duration": 48.829152,
     "end_time": "2023-11-24T19:39:00.061821",
     "exception": false,
     "start_time": "2023-11-24T19:38:11.232669",
     "status": "completed"
    },
    "tags": []
   },
   "outputs": [
    {
     "name": "stderr",
     "output_type": "stream",
     "text": [
      "/opt/conda/lib/python3.10/site-packages/scipy/__init__.py:146: UserWarning: A NumPy version >=1.16.5 and <1.23.0 is required for this version of SciPy (detected version 1.24.3\n",
      "  warnings.warn(f\"A NumPy version >={np_minversion} and <{np_maxversion}\"\n"
     ]
    },
    {
     "name": "stdout",
     "output_type": "stream",
     "text": [
      "[[2, 2, 2, 2, 0, 1, 1, 1, 2, 0, 1], [0, 1, 1, 1, 1, 1, 2, 2, 2, 2, 2, 2], [2, 2, 0, 1, 1, 1, 2, 2, 2, 2, 2], [0, 1, 1, 2, 2, 2, 2, 2], [0, 1, 2, 2, 2, 2, 2, 2, 2, 2, 2, 2], [2, 2, 2, 2, 2, 0, 1, 1, 1, 1, 1, 1, 2], [2, 2, 0, 1, 1, 1, 1, 1, 2], [2, 2, 2, 0, 1, 1, 1, 2, 2, 2, 2, 2], [2, 2, 0, 1, 1, 1, 1, 1, 1, 1], [2, 2, 2, 2, 2, 2, 0, 1, 1, 1, 1, 1, 2, 2, 2], [2, 0, 1, 1, 1, 1, 2, 2, 2, 2, 2], [2, 0, 1, 1, 1, 2, 2, 2, 2], [2, 2, 2, 2, 2, 2, 2, 2, 2, 2, 2, 0, 1, 1, 1, 1, 1, 1, 1, 1, 1, 1, 1, 1, 2, 2], [2, 2, 2, 2, 2, 0, 1, 1, 1, 1, 1, 2, 2], [2, 0, 1, 1, 1, 2, 2, 2, 2], [2, 2, 2, 0, 1, 1, 1, 1, 2], [0, 1, 1, 1, 1, 1, 1, 1, 2, 2, 2, 2, 2, 0, 1], [0, 1, 2, 2, 2, 2, 2, 2, 2, 2, 2], [2, 2, 2, 2, 2, 2, 2, 2, 2, 2, 0, 1, 1, 1, 2], [2, 0, 1, 1, 1, 1, 1, 1, 1, 1, 1, 1, 1, 1, 1, 1, 2, 2, 2, 2, 2, 2, 2], [0, 1, 1, 2, 2, 2, 2, 2, 2, 2, 2, 2, 2, 2], [2, 0, 1, 1, 1, 1, 1, 1, 1, 1, 1, 1, 1, 1, 1, 1, 1, 1, 2, 0], [0, 1, 1, 1, 2, 2, 2, 2, 2, 2, 2, 2, 2], [2, 2, 2, 0, 1, 1, 1, 1, 1, 1, 1, 1], [2, 0, 1, 1, 1, 1, 1, 2, 0, 1, 1, 1, 1, 1], [2, 2, 2, 2, 2, 2, 0, 1, 1, 1, 2, 2], [2, 2, 2, 2, 2, 2, 0, 1, 1, 1, 2, 2, 2, 2, 2], [2, 2, 2, 0, 1, 1, 2, 2, 2, 2, 2, 2, 2, 2, 2], [0, 1, 1, 2, 2, 2, 2, 2, 2, 2, 2, 2, 2, 2], [2, 0, 1, 1, 1, 1, 1, 1, 1, 1, 1, 1, 1, 1, 1, 1], [2, 2, 2, 2, 0, 1, 1, 2, 2, 2], [2, 2, 2, 0, 1, 2, 2], [2, 0, 1, 1, 1, 1, 2, 2, 2, 2, 2, 2, 2], [2, 0, 1, 1, 1, 2, 2, 2, 2, 2, 2], [2, 0, 1, 1, 1, 1, 1, 1, 1, 1], [2, 0, 1, 1, 1, 2, 2, 2, 2, 2], [0, 1, 1, 1, 1, 1, 1, 2, 2, 2, 2, 2, 2, 2, 2], [0, 1, 1, 1, 1, 1, 1, 1, 1, 1, 1, 1, 1, 2, 2, 2, 0, 1, 1, 1, 1], [0, 1, 1, 1, 1, 1, 1, 1, 1, 2, 2, 2, 2, 2, 2, 2, 2], [0, 1, 1, 2, 2, 2, 2, 2, 2, 2], [2, 2, 2, 0, 1, 1, 1, 1, 1, 1, 1, 1, 1, 1, 1, 2], [2, 2, 0, 1, 1, 1, 1, 2, 0, 1, 1, 1], [2, 2, 2, 0, 1, 1, 1, 2, 2, 2, 2], [2, 2, 2, 2, 0, 1, 1, 1, 1, 2, 2, 2, 2, 2, 2], [2, 2, 2, 2, 2, 0, 1, 1, 1, 2, 2, 2, 2], [2, 2, 2, 2, 2, 2, 0, 1, 1, 1, 1, 1, 2, 0], [0, 1, 1, 1, 1, 1, 2, 2, 2, 2, 2, 2, 2, 2, 2], [0, 1, 1, 2, 2, 2, 2, 2, 2, 2, 2, 2, 2], [2, 2, 2, 2, 0, 1, 1, 2, 2, 2, 2, 2, 2, 2], [0, 1, 1, 1, 1, 1, 1, 1, 1, 1, 2, 2, 2, 2, 2, 2, 2, 2], [2, 2, 0, 1, 1, 1, 1, 1, 1, 2, 2, 2, 2, 2, 2, 2], [2, 2, 0, 1, 1, 1, 1, 2, 2, 2, 2, 2, 2], [0, 1, 1, 1, 1, 1, 2, 2, 2, 0, 1, 1], [2, 2, 2, 2, 2, 2, 0, 1, 1, 1, 1, 1, 1, 1, 1, 1, 1, 1, 1, 2, 2, 2, 2, 2], [2, 2, 2, 0, 1, 1, 1, 1, 1, 1, 1, 1, 2], [0, 1, 1, 2, 2, 2, 2, 2, 2, 2, 2, 2, 2], [2, 2, 2, 0, 1, 1, 1, 1, 1, 2, 2, 2, 2, 2], [2, 0, 1, 1, 2, 2, 2, 2], [2, 2, 2, 0, 1, 1, 1, 1, 1, 1, 1], [0, 1, 1, 2, 2, 2, 2, 2, 2, 2, 2], [2, 2, 2, 0, 1, 1, 2, 2, 0, 1, 1], [2, 0, 1, 1, 1, 1, 1, 1, 1, 1, 1, 1, 1, 1, 1, 1, 1, 1, 1, 1], [2, 2, 2, 0, 1, 1, 1, 1, 2, 2, 2, 2, 2, 2, 2], [0], [2, 2, 0, 1, 1, 2, 2, 2, 2, 2], [0, 1, 1, 2, 2, 2, 2, 2, 2, 2], [2, 0, 1, 1, 1, 1, 1, 1, 1, 1, 1, 1, 1, 1], [2, 2, 2, 0, 1, 1, 2, 2], [2, 2, 2, 2, 0, 1, 1, 2, 2, 2, 2, 2], [2, 2, 2, 2, 2, 2, 0, 1, 1, 1, 1, 1, 1, 1, 2], [0, 1, 1, 1, 1, 1, 1, 1, 1, 1, 1, 1, 1, 1, 1, 2], [2, 2, 0, 1, 1, 1, 2], [2, 0, 1, 2, 2, 2, 2, 2], [2, 2, 2, 2, 2, 2, 2, 0, 1, 1, 2, 2], [0, 1, 1, 1, 2, 2, 2, 2, 0, 1, 1, 1], [0, 1, 1, 1, 2, 2, 2, 2], [0, 1, 1, 1, 2, 2, 2, 2, 2, 2], [0, 1, 1, 2, 2, 2, 2, 2, 2], [0, 1, 1, 2, 2, 2, 2], [0, 1, 1, 1, 1, 1, 2, 2, 2], [0, 1, 1, 1, 2, 2, 2, 2], [2, 2, 2, 2, 2, 2, 0, 1, 1, 2], [2, 2, 0, 1, 1, 1, 1, 1, 1, 1, 1, 1, 1, 2, 0], [2, 2, 0, 1, 1, 1, 2, 2], [0, 1, 1, 1, 1, 1, 1, 1, 1, 2], [2, 2, 0, 1, 1, 1, 1, 1, 2], [2, 2, 0, 1, 1, 1, 1, 1, 1, 2, 2, 2], [2, 2, 0, 1, 1, 2, 2, 2, 2, 2], [0, 1, 1, 2, 2, 2, 2, 2, 2, 2, 2], [2, 2, 0, 1, 1, 2, 2, 2, 2], [2, 2, 0, 1, 1, 1, 1, 1, 1, 2], [2, 0, 1, 1, 1, 1, 1, 1, 1, 1, 1, 1, 1], [0, 1, 2, 2, 2, 2, 2, 2, 2, 2, 2, 2, 2], [2, 2, 2, 2, 2, 0, 1, 1, 1, 1, 1, 2, 2], [0, 1, 1, 2, 2, 2, 2, 2, 2, 2, 2], [0, 1, 1, 1, 2, 2, 2, 2, 2], [2, 2, 0, 1, 1, 1, 1, 1, 2, 2], [0, 1, 1, 1, 2, 2, 2, 2, 2, 2], [2, 2, 2, 0, 1, 1, 2, 2, 2, 2, 2, 2], [2, 0, 1, 1, 1, 1, 1, 1, 1, 1, 1, 1, 1, 1, 1], [2, 0, 1, 1, 1, 1, 1, 1, 1, 2], [2, 2, 2, 0, 1, 1, 2, 2, 2, 2, 2], [2, 2, 2, 2, 0, 1, 1, 1, 1, 1, 1, 1, 1, 1, 1, 1, 1, 2, 2, 2, 0, 2, 2, 2, 2], [0, 1, 1, 1, 1, 2, 2, 2, 2, 2, 2, 2], [2, 2, 2, 2, 0, 1, 1, 1, 1, 1, 1, 1, 2], [2, 2, 2, 2, 2, 0, 1, 1, 1, 2, 2], [2, 0, 1, 1, 1, 2, 2, 2, 2, 2, 2], [0, 1, 1, 1, 2, 2, 2, 2, 2, 2, 2, 2, 2, 2], [2, 2, 2, 2, 2, 2, 2, 0, 1, 2], [2, 0, 1, 2, 2, 2, 2, 2, 2, 2, 2], [0, 1, 1, 2, 2, 2, 2, 2, 2, 2, 2, 2], [2, 2, 2, 0, 1, 1, 1, 1, 1, 1, 2, 2, 2, 2, 2, 2, 2], [2, 2, 2, 2, 2, 2, 0, 1, 1, 1, 1, 2], [2, 0, 1, 1, 1, 2, 2, 2], [2, 2, 0, 1, 1, 2, 2], [0, 1, 1, 2, 2, 2, 2, 2, 2], [0, 1, 1, 1, 2, 2, 2, 2], [0, 1, 2, 0, 1, 1], [2, 2, 0, 1, 1, 2, 2, 2, 2, 2], [0, 1, 1, 1, 2, 2, 2, 2, 2, 2, 2], [0, 1, 1, 2, 2, 2, 2, 2], [2, 2, 2, 0, 1, 2, 2, 2, 2, 2], [2, 2, 0, 1, 1, 1, 1, 1, 1, 1, 2, 2, 2, 2, 2, 2], [2, 2, 0, 1, 1, 2, 2, 2], [0, 1, 1, 1, 1, 1, 1, 1, 1, 1, 1, 1, 1, 2], [2, 2, 0, 1, 1, 1, 1, 1, 2, 2], [0, 1, 1, 1, 2, 2, 2, 2, 2, 2, 2, 2, 2, 2, 2], [0, 1, 1, 2, 2, 2, 2, 2, 2], [0, 1, 1, 1, 1, 1, 1, 1, 1, 1, 1, 1, 1, 1, 1, 1, 1, 1], [2, 2, 2, 0, 1, 1, 1, 2, 2, 2, 2, 2], [2, 0, 1, 1, 1, 1, 1, 2, 2, 2, 0, 1], [0, 1, 1, 2, 2, 2, 2, 2, 2, 2, 2, 2, 2, 2, 2, 2, 2, 2], [0, 1, 1, 1, 2, 2, 2, 2, 2, 2, 2, 2, 2, 2, 0, 2], [2, 2, 2, 2, 0, 1, 1, 1, 2, 2, 2, 2, 2, 2, 2, 2], [0, 1, 2, 2, 2, 2, 2, 2, 2, 2, 2, 2, 2], [2, 2, 2, 2, 2, 2, 2, 2, 0, 1, 1, 2, 2], [0, 1, 1, 2, 2, 0, 1, 1, 1, 1], [2, 2, 2, 0, 1, 1, 1, 2, 2, 2, 2, 2], [2, 2, 2, 2, 2, 0, 1, 1, 1, 2, 2], [0, 1, 1, 1, 1, 1, 1, 1, 1, 1, 1, 1, 1], [2, 2, 0, 1, 1, 1, 1, 1, 1, 1, 2], [0, 1, 1, 1, 1, 1, 2, 2, 2, 2, 2, 0, 1, 1, 2, 2], [0, 1, 1, 2, 2, 2, 2, 2, 2, 2], [2, 0, 1, 2, 2, 2, 2, 2, 2, 2], [0, 1, 1, 1, 1, 1, 1, 1, 1], [2, 0, 1, 1, 1, 1, 2, 0, 1, 1, 1, 1], [0, 1, 1, 2, 2, 2, 2], [2, 2, 2, 2, 2, 2, 0, 1, 2, 2], [2, 2, 0, 1, 1, 1, 2], [2, 2, 0, 1, 1, 1, 1, 2, 2, 2, 0, 2, 2], [0, 1, 1, 2, 2, 0, 1, 1, 1, 1], [2, 2, 0, 1, 1, 1, 1, 1, 1, 2], [2, 2, 0, 1, 2, 2], [2, 2, 0, 1, 1, 1, 1, 1, 1, 1, 1, 1, 1, 1], [2, 2, 2, 2, 2, 0, 1, 1, 1, 1, 2, 2, 2], [0, 1, 1, 2, 2, 2, 2, 2, 2, 2], [0, 1, 1, 1, 1, 1, 1, 1, 1, 1, 1, 1], [2, 2, 0, 1, 1, 1, 1], [2, 0, 1, 1, 2, 2, 2, 2, 2, 2, 2, 2, 2], [2, 0, 1, 1, 2, 2, 2, 2, 2, 2, 2, 2], [0, 1, 1, 1, 1, 2, 2, 2, 0, 1, 1, 2, 0], [2, 0, 1, 1, 1, 1, 2, 2, 2, 2, 2, 2, 2], [2, 0, 1, 1, 1, 2, 2, 2], [2, 0, 1, 1, 1, 2, 2, 2], [0, 1, 1, 1, 1, 2, 2, 2, 2, 2, 2, 2, 2, 2, 2], [2, 2, 2, 0, 1, 1, 1, 1, 2, 2, 2, 2, 2, 2, 2, 2], [0], [2, 2, 2, 2, 0, 2, 2, 2, 0, 1, 1, 2], [0, 1, 1, 2, 2, 2, 0, 1, 1, 1, 1, 1], [0, 1, 1, 1, 2, 2, 2, 2, 2], [2, 0, 1, 1, 2, 2, 2, 2, 2, 2], [2, 0, 1, 1, 1, 1, 1, 1, 1, 1, 1, 1, 1, 1, 1, 1, 1, 1, 1, 1, 1, 1, 1, 2, 0, 1], [2, 0, 1, 1, 1, 1, 1, 1, 1, 1, 1, 2, 2, 2, 2, 2, 2, 2], [2, 2, 2, 0, 1, 1, 1, 1, 2, 2, 2, 2, 2], [2, 2, 2, 2, 0, 1, 1, 2, 2, 2, 2], [2, 2, 2, 2, 0, 1, 1, 1, 1, 1, 2, 2], [2, 2, 2, 2, 0, 1, 1, 2, 2, 2, 2], [2, 0, 1, 1, 1, 1, 1, 1, 1, 2, 2, 2, 2, 2, 2], [2, 0, 1, 1, 1, 2, 2, 2, 2, 2, 2], [2, 0, 1, 1, 1, 1, 1, 1, 1, 1, 1, 1, 1, 1, 1, 1, 1, 1, 1, 1, 1, 1, 1], [0, 1, 1, 1, 1, 1, 1, 1, 2, 2, 2, 2, 2, 2], [2, 2, 2, 0, 1, 1, 2, 2, 2, 2], [2, 2, 2, 2, 2, 2, 0, 1, 1, 1, 2, 2, 2, 2, 2, 2], [0], [2, 2, 2, 2, 0, 1, 1, 2, 2], [0], [0, 1, 1, 2, 2, 2, 2, 2, 2, 2], [2, 2, 2, 2, 2, 2, 2, 0, 1, 1, 1, 1, 2], [2, 2, 2, 2, 2, 2, 0, 1, 1, 1, 1, 1, 1, 1], [2, 2, 2, 0, 1, 1, 2, 2, 2, 2, 2, 2, 2, 2, 2, 2], [2, 2, 0, 1, 1, 1, 1, 1, 1, 2], [2, 0, 1, 1, 1, 2, 2, 2], [2, 2, 2, 2, 2, 2, 0, 1, 1, 1, 1, 1, 1, 1], [2, 2, 0, 1, 1, 2, 2, 2, 2, 2, 2, 2], [2, 2, 2, 2, 2, 2, 2, 0, 1, 1, 2, 2, 2, 2, 2], [2, 2, 0, 1, 1, 1, 1, 1, 1, 1, 1, 2, 2], [2, 2, 2, 2, 2, 2, 2, 0, 1, 1, 1, 2, 2, 2, 2], [2, 2, 2, 2, 2, 0, 1, 1, 1, 1, 2], [0, 1, 1, 1, 1, 1, 1, 1, 1, 1, 1, 1, 1, 1, 2, 0], [2, 2, 2, 2, 2, 2, 0, 1, 1, 1], [2, 2, 2, 0, 1, 1, 1, 1, 2, 2, 2, 2], [2, 2, 0, 1, 1, 1, 1, 1, 2, 2], [0, 1, 1, 1, 1, 2, 2, 2, 2, 2, 2], [0, 1, 1, 1, 2, 2, 0, 2, 2, 0, 1, 2, 0, 1, 1], [0, 1, 1, 2, 2, 2, 2, 2, 2], [0, 1, 1, 1, 2, 2, 2, 2, 2, 2, 2, 2], [2, 2, 2, 2, 0, 1, 1, 1, 1, 1, 2], [2, 2, 2, 0, 1, 1, 1, 2, 2, 2, 2, 2, 2, 2, 2, 2, 2, 2, 2, 2, 2, 2], [2, 2, 2, 0, 1, 1, 2, 2, 2, 2, 2, 2, 2, 2, 2], [0, 2, 0, 1, 1, 1, 1, 1, 2, 2, 2, 2, 2, 2, 2, 2, 2, 2, 2, 2, 2, 2, 2, 2], [2, 2, 0, 1, 1, 1, 1, 1, 1, 2, 2, 2], [0, 1, 1, 1, 1, 2, 0, 1, 1, 1, 1, 1, 1, 1, 1, 1, 1, 1, 2, 2, 2, 2, 2], [2, 0, 1, 1, 2, 2, 2, 2, 2, 2, 2, 2, 2, 2, 2, 2, 2, 2, 2, 2, 2, 2], [2, 0, 1, 1, 1, 1, 1, 1, 1, 1, 1, 2, 2, 2, 2, 2, 2, 2, 2, 2], [2, 0, 1, 1, 1, 2, 2, 2, 2, 2, 2, 2], [2, 0, 1, 1, 1, 2, 2, 2, 2, 2, 2, 2, 2, 2, 2, 2, 2, 2], [2, 0, 1, 1, 1, 2, 2, 2, 2, 2, 2, 2, 2, 2, 2, 2, 2, 2, 2, 2, 2, 2, 2], [2, 2, 2, 2, 0, 1, 1, 2, 2, 2, 2, 2, 2], [2, 2, 2, 0, 1, 2, 2, 2, 2, 2], [2, 0, 1, 1, 1, 1, 1, 1, 1, 1, 1, 1, 1, 1, 1, 1, 2, 2, 2, 0, 1], [2, 2, 2, 0, 1, 1, 1, 1, 2, 2, 2, 2, 2, 2, 2, 2, 2, 2], [2, 0, 1, 1, 1, 2, 2, 2, 2, 2, 2, 2, 2, 2, 2, 2, 2, 2, 2, 2, 2, 2, 2, 2], [2, 2, 0, 1, 1, 1, 1, 1, 1, 1, 1, 1], [0, 1, 1, 1, 1, 2, 2, 2, 2, 2, 2, 2, 2], [2, 2, 2, 0, 1, 1, 1, 1, 1, 1, 1], [2, 0, 1, 1, 2, 2, 2, 2, 2, 2, 2, 2, 2, 2, 2], [0, 1, 1, 1, 1, 1, 2, 2, 2, 2, 2, 2, 2, 2, 2, 2, 2, 2, 2, 2, 2, 2, 2, 2, 2, 2], [2, 2, 2, 2, 2, 0, 1, 1, 2, 2, 2, 2, 2, 2, 2, 2, 2, 2, 2, 2, 2, 2, 2, 2, 2, 2], [2, 2, 2, 2, 2, 2, 0, 1, 1, 2, 2, 2, 2, 2, 2, 2, 2, 2, 2, 2, 2, 2, 2, 2, 2, 2, 2], [2, 2, 2, 2, 2, 0, 1, 2, 2, 2, 2, 2, 2, 2, 2, 2], [2, 2, 2, 2, 2, 2, 2, 2, 2, 2, 2, 0, 1, 1, 1, 2, 2, 2], [0, 1, 1, 1, 1, 1, 2, 2, 2, 2, 2, 2, 2, 2, 2, 2, 2, 2, 2, 2, 2, 2, 2, 2, 2], [0, 1, 1, 1, 2, 2, 2, 2, 2, 2, 2, 2, 2, 2, 2, 2, 2, 2, 2, 2, 2, 2, 2, 2, 2, 2, 2, 2], [2, 0, 1, 2, 0, 1, 1, 1, 1, 1, 1, 1, 1, 1, 1, 1, 1, 1, 1, 1, 1, 1, 1, 1, 1, 1, 1, 1, 2, 2, 2, 2, 2, 2, 2, 2, 2, 2, 2, 2], [2, 2, 0, 1, 1, 1, 1, 1, 2, 2, 2, 2, 2, 2, 2, 2, 2, 2, 2], [2, 2, 2, 2, 0, 1, 1, 2, 2, 2, 2, 2, 2, 2, 2, 2, 2, 2, 2, 2, 2, 2], [0, 1, 1, 2, 2, 2, 2, 2, 2, 2, 2, 2, 2], [2, 2, 2, 2, 2, 0, 1, 1, 1, 1, 1, 1, 1, 1, 1, 1, 1, 1, 1, 2, 2, 2, 2, 2], [2, 2, 2, 2, 2, 2, 2, 2, 2, 0, 1, 1, 1, 1, 1, 1, 1, 1, 1, 1, 2, 2, 2, 2, 2, 2, 2, 2, 2], [0, 1, 1, 1, 2, 2, 2, 2, 2, 2, 2, 2, 2, 2, 2, 2, 2, 2, 2, 2, 2], [0, 1, 1, 1, 1, 2, 2, 2, 2, 2, 2, 2, 2, 2, 2, 2, 2, 2], [2, 2, 0, 1, 1, 1, 1, 2, 2, 2, 2, 2, 2, 2, 2], [2, 2, 2, 0, 1, 1, 1, 1, 2, 2, 2, 2, 2, 2], [2, 0, 1, 1, 1, 2, 2, 2, 2, 2, 2, 2, 2, 2, 2], [0, 1, 1, 1, 2, 2, 2, 2, 2, 2, 2, 2, 2, 2, 2, 2, 2, 2, 2, 2, 2, 2, 2, 2, 2], [0, 1, 2, 2, 0, 1, 2, 2, 2, 2, 2, 2, 2, 2, 2, 2, 2, 2, 2, 2, 2, 2, 2], [2, 2, 2, 0, 1, 1, 1, 1, 1, 1, 1, 1, 1, 1, 1, 1, 1, 2], [2, 2, 0, 1, 1, 1, 1, 1, 1, 1, 1, 1, 1, 1, 1, 1, 1, 1, 1, 1, 1, 1, 1, 1, 2], [0, 1, 1, 1, 1, 2, 2, 2, 2, 2, 2, 2, 2, 2, 2], [2, 2, 2, 2, 2, 2, 2, 2, 2, 0, 1, 1, 1, 1, 1, 1, 1, 1, 1, 1, 1, 1, 1, 2], [2, 2, 2, 2, 2, 2, 2, 2, 2, 0, 1, 1, 1, 1, 2], [2, 2, 2, 2, 0, 1, 2, 2, 2, 2, 2, 2, 2, 2, 2, 2], [0, 1, 1, 1, 1, 2, 2, 2, 2, 2, 2, 2, 2, 2, 2, 2, 2, 2, 2, 2], [2, 2, 0, 1, 1, 1, 1, 1, 2, 2, 2, 2, 2, 2, 2, 2, 2], [2, 2, 2, 2, 2, 2, 2, 2, 2, 2, 2, 2, 0, 1, 1, 1, 1, 1, 2, 0], [2, 2, 0, 1, 1, 2, 2, 2, 2, 2, 2, 2, 2], [2, 2, 2, 2, 2, 2, 0, 1, 1, 1, 2, 2, 2, 2, 2, 2, 2], [2, 2, 2, 2, 2, 2, 2, 2, 2, 0, 1, 1, 1, 1, 1, 1, 1, 1, 1, 1, 1, 1, 1], [2, 2, 2, 2, 2, 2, 2, 0, 1, 2, 2, 2, 2, 2], [2, 2, 2, 2, 0, 1, 1, 2, 2, 2, 2, 2, 2, 2, 2], [2, 2, 0, 1, 1, 1, 1, 1, 1, 2], [2, 2, 2, 0, 1, 1, 1, 1, 2, 2, 2, 2, 2, 2, 2, 2, 2, 2, 2, 2], [0, 1, 1, 1, 1, 1, 2, 2, 2, 2, 2, 2, 2, 2, 2, 2, 2], [2, 2, 2, 0, 1, 1, 1, 1, 1, 1, 1, 1, 1, 2, 0, 1], [2, 2, 2, 0, 1, 1, 1, 2, 2, 2, 2, 2, 2, 2, 2, 2, 2, 2, 2], [2, 0, 1, 1, 1, 1, 1, 1, 1, 1, 1, 1, 1, 1, 1], [2, 2, 2, 0, 1, 1, 1, 1, 1, 1, 1, 1, 1, 1, 1, 1, 1, 1, 1, 1, 1, 1, 2, 2, 2, 2, 2, 2, 2, 2, 2, 2, 2, 2, 2], [2, 0, 1, 1, 1, 2, 2, 2, 2, 2, 2, 2, 2, 2, 2, 2, 2, 2, 2], [2, 2, 2, 2, 2, 2, 2, 2, 2, 2, 2, 2, 2, 2, 2, 0, 1, 1, 2], [2, 0, 1, 1, 1, 2, 2, 2, 2, 2, 2, 2, 2, 2], [2, 0, 1, 1, 2, 2, 2, 2, 0, 1, 2, 2, 2, 2, 2, 2], [2, 0, 1, 1, 1, 1, 2, 2, 2, 2, 2, 2, 2, 2, 2, 2, 2, 2, 2, 2], [0, 1, 1, 1, 2, 2, 2, 2, 2, 2, 2, 2, 2, 2, 2, 2, 2, 2, 2, 2], [2, 0, 1, 1, 1, 2, 2, 0, 2, 2, 2, 2, 2, 2, 2, 2, 2, 2, 2, 2, 2, 2, 2], [2, 2, 2, 0, 1, 1, 2, 2, 2, 2, 2, 2, 2, 2, 2, 2, 2, 2], [2, 0, 1, 1, 1, 2, 2, 2, 2, 2, 2, 2, 2, 2, 2, 2, 2, 2, 2, 2], [0, 1, 1, 2, 2, 2, 2, 2, 2, 2, 2, 2, 2, 2, 2, 0, 1, 1, 1, 1, 1], [0, 1, 1, 1, 2, 2, 2, 2, 2, 2, 2, 2, 2, 2], [2, 2, 2, 0, 1, 1, 2, 0, 1, 1, 1, 1, 1, 1, 1, 2, 2, 2, 2], [2, 2, 0, 1, 1, 1, 1, 2, 2, 2, 2, 2, 2, 2, 2, 2, 2], [2, 0, 1, 1, 1, 1, 1, 2, 2, 2, 2, 2, 2, 2, 2, 2, 2, 2], [0, 1, 1, 1, 1, 2, 0, 1, 1, 1, 1, 1, 2, 2, 2, 2, 2, 2, 0, 1, 2, 2, 2, 2, 2, 0], [0, 1, 1, 1, 1, 1, 2, 0, 1, 1, 2, 2, 2, 2, 2, 2, 2, 2, 2, 2, 2, 2, 2, 2], [0, 1, 1, 1, 1, 1, 1, 1, 1, 2, 0, 1], [2, 2, 0, 1, 1, 1, 1, 1, 2, 2, 2, 2, 2, 2, 2, 2, 2, 2, 2, 2, 2], [0, 1, 1, 1, 1, 2, 2, 2, 2, 2, 2, 2, 2], [2, 2, 2, 0, 1, 1, 1, 1, 1, 1, 2, 2], [2, 2, 2, 2, 2, 2, 2, 0, 1, 1, 2, 2, 2, 2, 2, 2, 2, 2], [0, 1, 1, 1, 1, 1, 1, 1, 1, 1, 1, 1, 1, 1, 2, 2, 0, 1, 1, 1], [2, 2, 2, 2, 2, 2, 2, 2, 2, 0, 1, 1, 1, 2, 2, 2, 2, 2, 2], [2, 0, 1, 1, 2, 2, 2, 2, 2, 2, 2], [2, 2, 2, 2, 2, 2, 2, 0, 1, 1, 1, 1, 1, 1, 1, 2, 0, 1, 1], [2, 0, 1, 1, 1, 1, 1, 1, 1, 2, 2, 2, 2, 2, 2, 2, 2, 2], [2, 2, 0, 1, 1, 1, 1, 1, 1, 2, 2, 2, 2, 2, 2, 2, 2, 2, 2, 2, 2, 2], [2, 2, 2, 0, 1, 2, 2, 2, 2, 2, 2, 2, 2, 2], [2, 2, 2, 2, 2, 2, 0, 1, 1, 2, 2, 2, 2, 2, 2, 2], [2, 2, 0, 1, 1, 2, 2, 2, 2, 2, 2, 2, 2], [0, 1, 1, 1, 1, 2, 2, 2, 2, 2, 2, 2, 2, 2, 2, 2, 2, 2, 2, 2, 2, 2, 2], [0, 1, 1, 1, 1, 2, 2, 2, 2, 2, 2, 2, 2, 2, 2], [2, 2, 2, 2, 2, 2, 2, 2, 2, 2, 2, 2, 0, 1, 1, 2], [0, 1, 1, 1, 1, 1, 2, 2, 2, 2, 2, 2, 2, 2, 2, 2, 2, 2, 2], [2, 2, 0, 1, 1, 1, 1, 1, 1, 1, 1, 1, 1, 1, 1, 1, 1, 1, 1, 2, 2, 2, 2, 2, 2, 2, 2, 2, 2, 2, 2], [0, 1, 1, 1, 1, 1, 1, 2, 2, 0, 1, 1, 1, 1, 1, 1, 1], [2, 2, 2, 2, 2, 2, 2, 2, 2, 2, 2, 2, 2, 2, 2, 2, 2, 2, 2, 2, 2, 0, 1, 1, 2], [0, 1, 1, 1, 1, 1, 1, 1, 1, 1, 1, 1, 2, 0, 2, 2, 2, 0, 1, 1], [2, 0, 1, 1, 2, 0, 2, 2, 2, 2, 2, 2, 2, 2, 2, 2, 2, 2], [2, 2, 2, 2, 2, 2, 2, 0, 1, 2, 2], [2, 2, 2, 0, 1, 1, 1, 1, 1, 1, 1, 1, 2, 2, 2, 2, 2, 2, 2, 2, 2, 2, 2, 2, 2, 2], [2, 2, 2, 2, 0, 1, 1, 1, 2, 2, 2, 2, 2, 2], [2, 2, 2, 2, 2, 2, 2, 2, 2, 2, 2, 2, 2, 2, 2, 2, 2, 2, 0, 1, 1, 1, 1, 1, 1, 1, 1, 1, 1, 1, 1], [2, 2, 2, 2, 2, 0, 1, 1, 1, 2, 2, 2, 2, 2, 2, 2, 2, 2, 2], [2, 2, 0, 1, 1, 1, 1, 1, 1, 1, 1, 1, 1, 2, 2, 2, 0, 1, 1, 1, 1, 2, 2, 2, 2], [0, 1, 1, 1, 2, 2, 2, 2, 2, 2, 2, 2, 2, 2, 2, 2, 2, 2, 0, 1, 1], [2, 2, 2, 2, 0, 1, 1, 1, 1, 1, 1, 1, 2, 2, 2, 2], [2, 2, 2, 2, 2, 2, 2, 2, 2, 0, 1, 1, 2, 2, 2, 2, 2, 2, 2, 2, 2], [2, 2, 2, 2, 2, 2, 2, 2, 0, 1, 2, 2], [2, 2, 2, 0, 1, 1, 1, 1, 1, 1, 1, 1, 1, 1, 1, 1, 1, 1, 2, 2, 0, 1, 1, 1, 1, 1], [0, 1, 1, 1, 2, 0, 1, 1, 2, 0, 1, 1], [2, 2, 2, 2, 0, 1, 1, 1, 1, 1, 1, 1, 1, 1, 1, 1, 1, 1, 2, 2, 2, 2, 2, 2, 2, 2, 2, 2], [2, 0, 1, 1, 1, 2, 2, 2, 2, 2, 2, 2], [2, 2, 2, 0, 1, 1, 2, 2, 2, 2, 2, 2, 2, 2, 0, 1, 2], [0, 1, 1, 1, 1, 1, 2, 2, 0, 2, 2, 2, 2, 2, 2, 2, 2, 2, 2, 2, 2], [2, 2, 2, 2, 2, 0, 1, 2, 2, 2, 2, 2, 2, 2, 2], [2, 2, 2, 0, 1, 1, 1, 1, 2, 2, 2, 2, 2, 2, 2, 2, 2, 2, 2, 2, 2], [2, 2, 2, 0, 1, 1, 1, 1, 1, 1, 1, 1, 1, 1, 1, 1, 1, 1, 1, 1, 1, 1, 1, 2, 2], [0, 1, 1, 1, 1, 1, 2, 2, 2, 2, 2, 2, 2, 2, 2, 2, 2], [0, 1, 1, 1, 1, 2, 2, 2, 2, 2, 2, 2, 2, 2, 2, 2, 2], [2, 2, 2, 2, 2, 2, 0, 1, 1, 1, 1, 2, 2, 2, 2, 2, 2, 2], [0, 1, 1, 2, 2, 2, 2, 2, 2, 2, 2, 2, 2], [2, 2, 0, 1, 1, 1, 1, 1, 1, 1, 1, 1, 1, 1, 2, 2, 2, 2, 2, 2, 2, 2, 2, 2, 2, 2, 2], [0, 1, 1, 1, 1, 1, 2, 2, 2, 2, 2, 2, 2, 2, 2, 2], [0, 1, 1, 1, 1, 1, 1, 2, 2, 2, 2, 2, 2, 2, 2], [0, 1, 1, 1, 1, 1, 2, 2, 2, 0, 1, 2, 2, 2, 0, 1, 1, 1, 1, 1, 1, 1, 1, 1, 1], [2, 2, 2, 2, 2, 2, 2, 2, 0, 1, 1, 1, 1, 1, 1, 1, 1, 1, 1, 2, 0], [2, 0, 1, 1, 1, 2, 2, 2, 2, 2, 2, 2, 2, 2], [0, 1, 1, 1, 2, 2, 2, 2, 2, 2, 2, 2, 2, 2, 2, 2, 2, 2, 2, 2, 2], [2, 0, 1, 1, 1, 2, 2, 2, 2, 2, 2, 2], [2, 0, 1, 1, 1, 1, 1, 1, 1, 1, 1, 1, 1, 1, 1, 1, 2, 2, 2, 2, 2, 2, 2, 2, 2, 2, 2, 2, 2, 2, 2, 2], [2, 2, 2, 2, 2, 0, 1, 1, 1, 1, 2, 2, 2, 2, 2, 2, 2, 2, 2, 2, 2, 2], [0, 1, 1, 1, 1, 1, 1, 1, 1, 1, 1, 1, 1, 1, 1, 1, 1, 1, 1, 1, 1, 1, 1], [2, 0, 1, 1, 2, 2, 2, 2, 2, 2, 2, 2, 2, 2, 2, 2], [2, 0, 1, 1, 1, 1, 1, 1, 1, 1, 1, 2, 2, 2, 2, 2, 2, 2, 2, 2, 2, 2, 2, 2, 2], [2, 2, 0, 1, 1, 1, 1, 1, 1, 1, 1, 1, 1, 1, 1, 1, 1, 1, 1, 1, 1, 1, 1, 1, 1, 2, 2, 2, 2, 2, 2, 2, 2, 2, 2, 2, 2, 2, 2, 2, 2], [0, 1, 1, 1, 2, 2, 2, 2, 2, 2, 2, 2, 2], [2, 0, 1, 2, 2, 0, 1, 1, 1, 1, 1, 1, 1, 2, 0, 1, 1, 1], [0, 1, 1, 1, 1, 1, 2, 2, 2, 2, 2, 2, 2, 2, 2], [0, 1, 1, 1, 1, 1, 2, 2, 2, 2, 2, 2, 2, 2, 2, 2, 2, 2, 2, 2, 2, 2], [2, 0, 1, 1, 1, 1, 1, 1, 1, 1, 2, 2, 2, 2, 2, 2, 2, 2, 2, 2], [2, 2, 0, 1, 1, 1, 2, 2, 2, 2, 2, 2, 2, 2, 2, 2, 2, 2], [0, 1, 2, 2, 2, 2, 2, 2, 2, 2, 2, 2, 2, 2, 2, 2, 2, 2, 2], [2, 2, 0, 1, 1, 1, 1, 1, 1, 2, 2, 2, 2, 2, 2, 2, 2, 2], [2, 2, 2, 0, 1, 1, 2, 2, 2, 2, 2, 2, 2, 2, 2, 2, 2, 2, 2, 2, 2, 2, 2, 2, 2], [2, 0, 1, 1, 2, 2, 2, 2, 2, 2, 2, 2, 2, 2, 2, 2, 2], [2, 0, 1, 1, 2, 2, 2, 2, 2, 2, 2, 2, 2, 2, 2, 2, 2, 2, 2], [0, 1, 1, 1, 1, 1, 1, 2, 2, 2, 2, 2, 2, 2, 2, 2, 2, 2, 2, 2, 2, 2, 2, 2], [2, 0, 1, 1, 1, 1, 1, 1, 1, 1, 1, 1, 1, 1, 1, 1, 1, 1, 1, 1, 1, 2, 2], [2, 2, 2, 0, 1, 2, 2, 2, 2, 2, 2], [0, 1, 1, 1, 1, 2, 2, 2, 2, 2, 2, 2, 2, 2, 2, 2, 2, 2, 2, 2, 2, 2, 2, 2, 2, 2, 2, 2], [2, 2, 2, 0, 1, 1, 1, 1, 2, 2, 2, 2, 2, 2, 2, 2, 2, 2, 2, 2, 2, 2, 2, 2, 2, 2, 2, 2, 2], [0, 1, 1, 1, 2, 2, 2, 2, 2, 2, 2, 2, 2, 2, 2, 2, 2, 2, 2, 2, 2, 2, 2, 2, 2, 2, 2, 2], [2, 2, 2, 2, 2, 2, 0, 1, 1, 1, 1, 1, 1, 1, 2, 2, 2], [0, 1, 1, 1, 1, 1, 1, 1, 1, 1, 1, 1, 1, 1, 1, 1, 1, 1, 1, 1, 1, 1, 1, 2, 2, 2, 2, 2], [2, 2, 2, 0, 1, 1, 1, 1, 1, 1, 1, 1, 1, 1, 1, 1, 1, 1, 1, 1, 1, 1, 1, 1, 1, 1, 2, 2, 2, 0], [0, 1, 2, 2, 2, 2, 2, 2, 2, 2, 2, 2], [2, 2, 2, 2, 2, 2, 2, 2, 2, 2, 0, 1, 2], [0, 1, 1, 1, 1, 1, 2, 2, 2, 2, 2, 2, 2, 2, 2, 2, 2, 2, 2], [2, 2, 0, 1, 1, 2, 2, 2, 2, 2, 2, 2], [2, 2, 2, 0, 1, 1, 2, 2, 2, 2, 2, 2, 2], [2, 2, 2, 2, 2, 2, 2, 2, 2, 0, 1, 1, 2], [0, 1, 1, 1, 2, 2, 2, 2, 2, 2, 2, 2], [0, 1, 1, 1, 1, 2, 2, 2, 2, 2, 2, 2, 2], [2, 2, 2, 2, 2, 0, 1, 1, 1, 2, 2], [2, 2, 2, 2, 2, 0, 1, 1, 2, 2, 2, 2, 2], [2, 2, 2, 0, 1, 1, 1, 1, 1, 2, 2, 2, 2, 2, 2, 2, 2], [2, 0, 1, 1, 1, 1, 1, 1, 1, 1, 1, 1, 1, 1, 1, 1], [0, 1, 1, 1, 1, 1, 1, 1, 1, 1, 2, 2, 2, 2, 2, 2], [2, 0, 1, 1, 1, 1, 1, 1, 1, 1, 1, 1, 1], [2, 2, 2, 0, 1, 1, 1, 1, 1, 1, 1, 1, 1, 1, 1, 1, 2, 2], [2, 0, 1, 1, 1, 2, 2, 2, 2, 2, 2, 2, 2, 2, 2], [0, 1, 1, 1, 1, 2, 2, 2, 2, 2, 2, 2, 2, 2, 2], [2, 0, 1, 1, 1, 1, 2, 2, 2, 2, 2, 2, 2, 2, 2, 2], [2, 0, 1, 1, 2, 2, 2, 2, 2, 2, 2, 2, 2, 2, 2, 2, 2, 2], [2, 0, 1, 1, 2, 2, 2, 2, 2, 2, 2, 2, 2, 2, 2, 2, 0, 1, 1, 1], [0, 1, 1, 2, 2, 2, 2, 2, 2, 2, 2, 2, 2, 2, 2, 2], [2, 2, 2, 2, 2, 2, 2, 2, 0, 1, 1, 1, 1, 1, 2, 2, 2, 2, 2, 2, 2, 2], [2, 2, 2, 2, 2, 2, 2, 2, 2, 2, 2, 0, 1, 2, 2, 2, 2, 2, 2, 2], [0, 1, 1, 1, 2, 2, 2, 2, 2, 2, 2, 2], [2, 2, 2, 2, 2, 2, 0, 1, 1, 1, 1, 1, 1, 1, 1, 1, 1, 1, 2, 2, 2, 2, 2, 2, 2], [2, 2, 2, 2, 0, 1, 1, 1, 1, 1, 1, 1, 1, 1, 1, 1, 2, 2], [2, 0, 1, 1, 1, 1, 2, 2, 2, 2, 2, 2, 2, 2, 2, 2, 2, 2, 2, 2, 2, 2, 2, 2], [2, 2, 2, 2, 2, 2, 2, 2, 2, 2, 2, 2, 2, 0, 1, 1, 1, 1, 1, 1, 2, 2, 0, 1], [0, 1, 1, 1, 1, 1, 1, 2, 2, 2, 2, 2, 2, 2, 2, 2, 2, 2, 2, 2, 2, 2], [0, 1, 1, 1, 2, 2, 2, 2, 2, 2, 2, 2, 2], [2, 2, 2, 2, 2, 0, 1, 2, 2, 2, 2, 2, 2], [2, 2, 2, 2, 2, 2, 2, 0, 1, 1, 2, 2, 2, 2, 2, 2, 2, 2, 2, 2, 2], [0, 1, 1, 1, 1, 1, 1, 2, 2, 2, 2, 2, 2, 2, 2, 2, 2, 2], [2, 2, 2, 2, 2, 2, 2, 2, 0, 1, 1, 1, 1, 2, 2, 2, 2], [2, 2, 0, 1, 1, 1, 1, 1, 2, 0, 1, 1, 1, 1, 1, 1], [0, 1, 1, 2, 2, 2, 2, 2, 2, 2, 2, 2, 2, 2, 2, 2, 2, 2, 2, 2, 2, 2], [0, 1, 1, 2, 2, 2, 2, 2, 2, 2], [2, 0, 1, 1, 2, 2, 2, 2, 2, 2, 2, 2, 2, 2], [0, 1, 1, 2, 0, 2, 2, 2, 2, 2, 2], [2, 2, 2, 0, 1, 1, 1, 2, 2, 2, 2, 2, 2, 2, 2, 2], [2, 2, 2, 2, 0, 1, 1, 2, 2, 2, 2, 2, 2, 2, 2, 2, 2], [2, 0, 1, 1, 1, 1, 1, 1, 1, 1, 1, 2, 2, 2, 2, 2, 2, 2, 2, 2], [0, 1, 1, 2, 2, 2, 2, 2, 2, 2, 2, 2], [0, 1, 1, 1, 1, 2, 2, 2, 2, 2, 2, 2, 2, 2, 2, 2, 2, 2], [0, 1, 1, 1, 1, 1, 2, 2, 2, 2, 2, 2, 2, 2, 2, 2, 0], [2, 0, 1, 1, 2, 2, 2, 2, 2, 2, 2, 2, 2], [2, 2, 2, 2, 0, 1, 2, 2, 2], [0, 1, 1, 1, 1, 1, 1, 1, 1, 1, 1, 1, 1, 1, 1, 1, 1, 1, 1, 2, 2, 0, 1], [0, 1, 1, 1, 1, 1, 2, 2, 2, 2, 2, 2, 2], [2, 0, 1, 1, 2, 2, 2, 2, 2, 2, 2, 2, 2], [2, 2, 2, 0, 1, 1, 2, 2, 2, 2, 2], [2, 0, 1, 1, 2, 2, 2, 2, 2, 2, 2, 2, 2, 2, 2], [2, 2, 2, 2, 2, 2, 2, 2, 2, 2, 2, 0, 1, 1, 2], [2, 2, 2, 2, 0, 1, 1, 1, 2, 2, 2, 2, 2, 2, 2, 2], [2, 2, 2, 2, 2, 2, 0, 1, 1, 2, 2, 2, 2, 2, 2, 2, 2, 2], [2, 2, 2, 2, 2, 0, 1, 1, 2, 2, 2, 2, 2, 2, 2, 2, 2, 2], [0, 1, 1, 1, 1, 1, 1, 2, 2, 2, 2, 2, 2, 2, 2, 2, 2, 2, 2, 2, 2, 2, 2, 2, 2, 2, 2, 2], [0, 1, 1, 2, 2, 2, 2, 2, 2, 2, 2, 2, 2, 2, 2, 2, 2], [2, 2, 2, 0, 1, 1, 1, 1, 1, 1, 1, 1, 1, 1, 1, 1, 1, 1, 1, 1, 1, 1, 1, 2, 2, 2, 2, 2, 2, 2, 2, 2, 2, 2], [2, 0, 1, 1, 1, 2, 2, 2, 2, 2, 2, 2, 2, 2, 2, 2], [2, 2, 2, 2, 0, 1, 1, 1, 1, 1, 1, 2, 2], [2, 2, 2, 2, 2, 0, 1, 1, 1, 1, 1, 1, 1, 1, 1, 1, 1, 1, 1, 1, 1, 1, 1, 1, 1, 1, 2], [2, 2, 2, 2, 2, 0, 1, 2, 0, 2, 2, 2, 2, 2, 2, 2, 2], [2, 0, 1, 2, 2, 2, 2, 2, 2, 2, 2, 2, 2, 2, 2], [2, 2, 2, 2, 2, 0, 1, 1, 1, 1, 1, 1, 1, 1, 2, 0, 1, 1, 1, 1, 1, 1], [2, 0, 1, 1, 1, 2, 2, 2, 2, 2, 2, 2, 2, 2, 2, 2, 2, 2], [2, 0, 1, 1, 1, 2, 2, 2, 2, 2, 2, 2, 2, 2, 2, 2, 2, 2, 2], [2, 0, 1, 1, 1, 2, 2, 2, 2, 2, 2, 2, 2, 2, 2, 2, 2], [2, 0, 1, 1, 1, 2, 2, 2, 2, 2, 2, 2, 2, 2, 2, 2, 2, 2], [2, 2, 0, 1, 1, 1, 1, 1, 1, 2, 2, 2, 0, 2, 2, 2, 2, 2, 2, 2, 2, 2, 2], [2, 2, 2, 2, 2, 2, 2, 2, 2, 0, 1, 1, 1, 1, 2, 2, 2, 2], [2, 2, 2, 2, 2, 2, 0, 1, 1, 1, 1, 1, 1, 2, 2, 0, 1, 1, 1, 1, 1, 1], [2, 2, 2, 2, 0, 1, 1, 2, 2, 2, 2, 2, 2, 2, 2, 2], [0, 1, 1, 2, 2, 2, 2, 2, 2, 2, 2, 0, 1, 2, 2, 2, 2, 2], [2, 2, 2, 2, 0, 1, 1, 1, 1, 1, 1, 1, 2, 0, 1, 1], [2, 2, 0, 1, 1, 1, 1, 1, 1, 1, 1, 2, 2, 2, 0], [2, 0, 1, 1, 1, 2, 2, 2, 2, 2, 2, 2], [2, 2, 2, 2, 2, 2, 2, 0, 1, 1, 1, 1, 1, 1, 2, 2], [0, 1, 1, 2, 2, 2, 2, 0, 1, 1, 1, 1, 1], [2, 0, 2, 2, 2, 2, 2, 2, 2, 2, 0, 1, 2, 2, 2, 2, 2, 2, 2, 2, 2, 2, 2, 2, 2, 2, 2], [0], [0, 2, 0, 1, 1, 2, 2, 2, 2, 2, 2, 2, 2, 2, 2, 2], [2, 2, 2, 2, 0, 1, 1, 1, 2, 2, 2, 2, 2], [0, 1, 1, 1, 2, 2, 2, 2, 2, 2, 2, 2, 2, 2, 2, 2, 2, 2, 2, 2, 2, 2, 2, 2, 2, 2, 2, 2, 2], [2, 2, 2, 2, 2, 2, 2, 0, 1, 1, 1, 1, 1, 1, 2, 2, 2, 2, 2, 2, 2, 2, 2, 2, 2, 2, 2, 2, 2, 2, 2, 2], [2, 0, 1, 1, 2, 2, 2, 2, 2, 2, 2, 2], [0, 1, 1, 1, 1, 1, 2, 2, 2, 2, 2, 2, 2], [0, 1, 1, 1, 1, 2, 2, 2, 2, 2, 2, 2, 2, 2, 2, 2, 2, 2, 2, 2, 2], [2, 2, 2, 0, 1, 1, 1, 2, 2, 2, 2, 2, 2, 2, 2, 2, 2, 2, 2, 2, 2, 2, 2, 2, 2, 2, 2, 2, 2, 2], [2, 2, 0, 1, 2, 2, 0, 2, 2, 2, 2, 2, 2], [2, 2, 2, 2, 0, 1, 1, 1, 1, 1, 1, 1, 2, 2, 2, 2, 2, 0, 1, 1], [2, 2, 2, 2, 0, 1, 1, 1, 1, 1, 1, 1, 1, 1, 1, 2, 0, 1], [0, 1, 1, 1, 2, 2, 2, 2, 2, 2, 2, 2, 2, 2, 2, 2, 0], [2, 0, 1, 1, 1, 2, 2, 2, 2, 2, 2, 2, 2, 2, 2, 2, 2], [2, 2, 2, 2, 2, 2, 0, 1, 1, 2], [2, 2, 2, 2, 0, 1, 1, 2, 2, 2], [2, 0, 1, 1, 1, 1, 1, 2, 2, 2, 2, 2, 2, 2, 2], [0, 1, 1, 2, 0, 1, 1, 1, 1, 1, 1, 1, 1, 1, 1, 1, 1], [2, 2, 0, 1, 2, 2, 2, 2, 2, 2, 2, 2, 2, 2, 2, 2, 2, 2, 2, 2, 2, 2, 2, 2, 2], [2, 0, 1, 1, 1, 1, 2, 2, 2, 2, 2, 2, 2, 2], [2, 2, 0, 1, 2, 2, 2, 2, 2, 2], [2, 2, 2, 0, 1, 2, 2, 2, 2, 2], [2, 2, 2, 0, 1, 1, 1, 1, 1, 1, 1, 1, 1, 1, 1, 1, 1, 1, 1, 1, 1, 1, 2, 2, 2, 2, 2, 2], [2, 2, 2, 2, 2, 0, 1, 1, 1, 1, 1, 1, 2, 2, 2, 2, 2, 2], [0, 1, 1, 1, 2, 2, 2, 2, 2, 2, 2, 2, 2, 2, 2, 2, 2, 2, 2, 2], [0, 1, 1, 1, 2, 2, 2, 2, 2, 2, 2], [2, 2, 2, 0, 1, 1, 1, 1, 1, 1, 1, 1, 2, 0, 1], [0, 1, 1, 1, 2, 0, 1, 1, 1, 1, 1, 1, 1, 1, 2, 2, 2, 2, 2], [2, 0, 1, 1, 1, 2, 2, 2, 2, 2, 2, 2, 2, 2], [2, 2, 2, 2, 2, 2, 2, 2, 2, 2, 2, 2, 2, 2, 2, 2, 2, 2, 2, 0, 1, 1, 2, 2], [2, 2, 0, 1, 1, 1, 1, 1, 2, 2, 2, 2, 2, 0, 1, 1, 1], [2, 2, 2, 0, 1, 1, 1, 1, 1, 1, 1, 2, 2, 2, 2, 2], [2, 2, 2, 2, 2, 0, 1, 1, 1, 1, 2, 2], [2, 0, 1, 1, 1, 1, 1, 1, 1, 1, 2, 2, 2, 2, 2, 2, 2, 2, 2, 2], [2, 0, 1, 1, 1, 2, 2, 2, 2, 2, 2, 2, 2, 2, 2, 2, 2, 2, 2, 2, 2, 2, 2, 2, 2, 2, 2], [2, 0, 1, 1, 1, 2, 2, 2, 2, 2], [2, 2, 2, 2, 0, 1, 1, 1, 1, 1, 1, 1, 1, 1, 1, 1, 1, 1, 1, 1, 1, 2], [2, 2, 0, 2, 2, 2, 2, 2, 2, 2, 2, 2, 2, 2, 2, 2, 2, 2], [0, 1, 1, 1, 2, 2, 2, 2, 2, 2, 2, 2, 2, 2, 2, 2, 2], [0, 1, 1, 1, 1, 2, 2, 2, 2, 2, 2, 2, 2, 2, 2, 2, 2, 2, 2, 2, 2], [2, 2, 2, 2, 2, 0, 1, 2, 2, 2, 2, 2], [2, 2, 0, 1, 1, 1, 1, 1, 1, 1, 1, 1, 1, 1, 1, 1, 1, 1, 1, 1, 1, 1, 1, 1, 2, 2, 2, 2, 0, 1, 1], [0, 1, 1, 1, 1, 1, 1, 1, 1, 1, 1, 1], [0, 1, 1, 2, 2, 2, 2, 2, 2, 2, 2, 2, 2, 2, 2, 2], [2, 2, 2, 2, 2, 2, 2, 0, 1, 2, 2, 2, 2, 2, 2, 2], [2, 2, 2, 2, 2, 0, 1, 1, 2, 2, 2, 2, 2, 2, 2, 2, 2], [2, 2, 2, 2, 2, 2, 2, 2, 2, 2, 2, 2, 2, 2, 2, 2, 2, 0, 1, 1, 1, 1, 1, 1, 1, 1, 1, 1, 1, 1], [2, 0, 1, 1, 1, 1, 2, 2, 2, 2, 2, 2, 2, 2, 2, 2, 2, 2, 2, 2, 2, 2, 2], [2, 2, 2, 2, 2, 0, 1, 1, 1, 1, 1, 2, 2, 2, 2, 2, 2, 2, 2], [2, 2, 2, 0, 1, 1, 1, 1, 1, 2, 2, 2, 2], [0, 1, 1, 1, 1, 2, 2, 2, 2, 2, 2, 2, 2, 2, 2, 2], [0, 1, 1, 1, 1, 1, 2, 2, 2, 2, 2, 2, 2, 2, 2, 2, 2, 0], [0, 1, 1, 1, 1, 1, 2, 2, 2, 2, 2, 2, 2, 2, 0, 1, 1, 1], [2, 0, 1, 1, 1, 1, 2, 2, 2, 2, 0, 1, 1, 1, 1, 1, 1, 1, 1, 1, 1, 1], [2, 0, 1, 2, 2, 2, 2, 2, 2, 2, 2, 2, 2, 2], [2, 2, 2, 2, 2, 2, 2, 2, 2, 2, 2, 0, 1, 1, 2, 2, 2], [0, 1, 1, 1, 2, 2, 2, 2, 2, 2, 2, 2, 2, 2, 2, 2, 2, 2, 2, 2, 2, 2], [0, 1, 1, 1, 2, 2, 2, 2, 2, 2, 2, 2, 2, 2, 2, 2, 2, 2, 2, 2, 2], [0, 1, 2, 2, 2, 2, 2, 2], [2, 2, 2, 2, 2, 2, 2, 2, 2, 0, 1, 1, 2, 2, 2, 2], [2, 0, 1, 1, 1, 2, 2, 2, 2, 2, 2, 2, 2, 2, 2, 2, 2, 2], [0, 2, 2, 2, 0, 1, 1, 1, 1, 1, 1, 1, 1, 1, 1, 1, 1, 1, 1, 1, 1, 1, 1, 1, 1], [2, 2, 2, 0, 1, 1, 1, 1, 1, 1, 1, 1, 1, 1, 1, 1, 1, 1, 1, 1, 1, 1, 1, 1, 1, 1, 1, 1, 1, 1], [2, 2, 2, 0, 1, 1, 1, 1, 1, 1, 1, 1, 1, 1, 1, 1, 1], [2, 0, 1, 2, 2, 2, 2, 2, 2, 2, 2, 2, 2], [2, 2, 2, 2, 2, 0, 1, 2, 2, 2, 2, 2, 2, 2, 2], [2, 0, 1, 2, 2, 2, 2, 2, 2, 2, 2, 2, 2, 2, 2], [2, 2, 2, 2, 2, 2, 0, 1, 1, 1, 1, 2, 2, 2, 2, 2, 2, 2, 2, 2], [2, 0, 1, 1, 1, 1, 2, 2, 2, 2, 2, 2, 2, 2, 2, 2, 2, 2], [2, 2, 0, 1, 1, 1, 1, 1, 2, 2, 2, 2, 2, 2, 2, 2, 2, 2, 0, 1, 1], [0, 1, 1, 1, 1, 1, 1, 1, 1, 1, 2, 2, 2, 0, 1, 1, 1, 1, 1, 2, 0, 1], [2, 2, 2, 0, 1, 1, 1, 2, 2, 2, 2, 2, 2, 2, 2], [2, 2, 0, 1, 1, 1, 1, 2, 2, 2, 2, 2, 2, 2, 2, 2, 2, 2, 2, 2, 2], [0, 1, 1, 1, 2, 2, 2, 2, 2, 2, 2, 2, 2, 2, 2, 2, 2, 2, 2, 2, 2], [0, 1, 1, 1, 2, 2, 2, 2, 2, 2, 2, 2, 2, 2, 2], [2, 2, 0, 1, 1, 1, 1, 1, 2, 0, 1, 1, 1, 1, 1, 1, 1, 1, 1, 2], [2, 2, 2, 2, 2, 0, 1, 1, 1, 1], [2, 0, 1, 2, 2, 2, 2, 2, 2, 2, 2, 2, 2, 2, 2], [2, 2, 2, 2, 2, 2, 2, 2, 2, 0, 1, 1, 1, 2, 2, 2, 2, 2, 2, 2, 2], [0, 1, 1, 1, 1, 1, 1, 1, 1, 2, 2, 2, 2, 2, 0, 1, 1], [2, 2, 2, 2, 2, 0, 1, 1, 2, 2, 2, 2, 2, 2, 2, 2, 2], [0, 1, 2, 2, 2, 2, 2, 2, 2, 2, 2, 2, 2, 2, 2, 2, 2, 2, 2, 2, 2, 2, 2], [2, 2, 2, 2, 0, 1, 1, 2, 2], [0, 1, 1, 1, 1, 2, 2, 2, 2, 2, 2, 2, 2, 2, 2, 2, 2, 2], [0, 1, 1, 1, 1, 1, 2, 2, 2, 2, 2, 2, 2, 2, 2], [0, 1, 1, 2, 2, 2, 2, 2, 2, 2, 2, 0, 1, 1], [0, 1, 1, 1, 1, 2, 2, 2, 2, 2, 2, 2, 2, 2, 2, 2], [2, 2, 2, 2, 2, 2, 2, 0, 1, 1, 1, 2, 2], [2, 2, 2, 2, 2, 2, 2, 2, 2, 2, 2, 2, 2, 2, 2, 2, 2, 2, 2, 0, 1, 1, 2], [2, 2, 2, 2, 2, 2, 2, 2, 2, 2, 2, 2, 0, 1, 2, 2], [2, 2, 2, 2, 2, 2, 2, 2, 2, 0, 1, 1, 1, 1, 1, 2, 2, 2], [2, 2, 2, 2, 0, 1, 1, 1, 1, 1, 2, 2], [0, 1, 1, 1, 2, 2, 2, 2, 2, 2, 2, 2, 2, 2], [2, 0, 1, 1, 1, 1, 1, 1, 1, 2, 2, 0, 1, 1, 1, 1, 1, 1, 1, 1, 1, 1, 1], [2, 0, 1, 1, 1, 2, 0, 1, 1, 1, 2, 2, 2, 2, 2, 2, 2, 2, 2, 2, 2, 2], [2, 2, 2, 0, 1, 1, 2, 2, 2, 2, 2, 2, 2, 0, 1, 1], [2, 2, 2, 0, 1, 2, 2, 2, 2, 2, 2, 2, 2, 2, 2], [2, 2, 0, 1, 1, 1, 1, 1, 1, 1, 1, 1, 1, 1, 1, 1, 1, 1, 1, 1], [2, 2, 0, 1, 1, 1, 1, 1, 1, 1, 1, 1, 1, 1, 1, 1, 1, 1, 1], [0, 1, 1, 1, 1, 1, 2, 2, 0, 2, 2, 2, 2, 2, 2, 2, 2, 2, 2, 2, 2, 2], [2, 2, 2, 0, 1, 1, 1, 1, 2, 2, 2, 2, 2, 2, 2, 2, 2, 2], [2, 2, 2, 0, 1, 1, 2, 2, 0, 1, 1, 1, 1, 1, 1, 1, 1, 1, 1, 1], [0, 1, 1, 1, 2, 2, 2, 2, 2, 2, 2, 2, 2, 2, 2, 2, 2], [2, 2, 0, 1, 1, 1, 1, 1, 2, 2, 2, 2, 2, 2, 2, 2, 2, 2, 2, 2], [2, 0, 1, 1, 1, 1, 1, 2, 2, 2, 2, 2, 2, 2, 2, 2], [0, 1, 1, 1, 2, 2, 2, 2, 2, 2, 2, 2, 2, 2, 2], [0, 1, 1, 1, 2, 2, 2, 2, 2, 2, 2, 2, 2, 2, 2, 2], [2, 2, 2, 2, 2, 2, 2, 0, 1, 1, 1, 1, 1, 1, 2, 2, 2, 2, 2, 2], [2, 2, 2, 2, 0, 1, 1, 2, 2, 2, 2, 2, 2, 2, 2, 2, 2, 2, 2, 2, 2], [0, 1, 1, 1, 2, 2, 2, 2, 2, 2, 2, 2, 2, 2], [0, 1, 1, 2, 2, 2, 2, 2, 2, 2, 2, 2, 2, 2, 2], [2, 0, 1, 1, 1, 2, 2, 2, 2, 2, 2, 2, 2, 2, 2, 2, 2, 2], [2, 2, 2, 2, 2, 2, 2, 2, 2, 2, 2, 2, 2, 2, 2, 2, 2, 2, 0, 1, 1, 1, 2], [2, 0, 1, 1, 1, 2, 2, 2, 2, 2, 2, 2, 2, 2, 2], [2, 0, 1, 1, 1, 1, 1, 1, 1, 1, 1, 1, 1, 1, 1, 1, 1], [2, 2, 2, 0, 1, 1, 1, 1, 1, 1, 1, 1, 1, 1, 1, 2, 2, 2, 0, 1, 1, 1, 1, 1, 1, 1, 1, 1], [0, 1, 1, 2, 2, 2, 2, 2, 2, 2, 2, 2], [2, 0, 2, 0, 1, 1, 1, 1, 2, 2, 2, 2, 2, 2, 2, 2, 2, 2, 2, 2, 2, 2, 2, 2, 2, 2, 2, 2], [2, 2, 2, 2, 2, 2, 2, 2, 2, 2, 0, 1, 1, 2, 2], [0, 1, 1, 1, 1, 1, 2, 2, 2, 2, 2, 2, 2, 2, 2, 2, 2, 2, 2], [2, 0, 1, 1, 1, 2, 2, 2, 2, 2, 2, 2, 2, 2, 2, 2, 2, 2, 2, 2, 2, 2, 2, 2], [2, 0, 1, 1, 1, 1, 1, 1, 2, 0, 2, 2, 2, 2, 2, 2, 2], [2, 2, 2, 2, 2, 2, 0, 1, 1, 2, 2, 2, 2, 2, 2, 2, 2, 2, 2, 2, 2, 2], [2, 2, 2, 0, 1, 1, 1, 1, 1, 1, 1, 1, 1, 1, 1, 1, 2, 2], [2, 2, 2, 2, 2, 2, 2, 2, 2, 2, 2, 2, 2, 2, 2, 0, 1, 2], [2, 2, 2, 2, 2, 0, 1, 1, 1, 1, 1, 1, 2, 2, 2, 2, 2, 2, 2, 2, 2, 2, 2, 2, 2, 2, 2], [2, 0, 1, 1, 2, 2, 2, 2, 2, 2, 2, 2, 2, 2, 2, 2, 2, 2, 2, 2, 2, 2, 2, 2, 2], [0, 1, 1, 1, 1, 2, 2, 2, 2, 2, 2, 2, 2, 2, 2], [2, 0, 1, 1, 1, 1, 2, 2, 2, 2, 2, 2, 2, 2, 2, 2, 2, 2, 2, 2, 2, 2, 2, 2, 2], [0, 1, 1, 1, 2, 2, 2, 2, 2, 2, 2, 2, 2, 2, 2, 2, 2, 2, 2, 2, 2, 2, 2, 2, 2, 2, 2, 2, 2, 2], [2, 0, 1, 1, 2, 2, 2, 2], [2, 0, 1, 1, 1, 1, 1, 1, 1, 1, 1, 1, 1, 1, 1, 1, 2, 2, 0, 1, 1, 1], [2, 2, 0, 1, 1, 1, 1, 2, 2, 2, 2, 2, 2, 2, 2, 2, 2, 2, 2, 2, 2, 2, 2, 2, 2, 2], [2, 2, 0, 1, 1, 1, 1, 1, 1, 1, 1, 1, 1, 1, 1, 1, 1, 1, 1, 1, 1, 1, 1, 1, 1, 1, 1, 1, 1], [2, 2, 2, 2, 2, 2, 0, 1, 1, 1, 1, 2, 2, 2, 2], [0, 2, 2, 2, 2, 2, 2, 2, 2, 2, 2, 2, 2, 2, 2, 2, 2, 0, 1, 1, 1, 1, 1, 1, 1, 1, 1], [2, 2, 0, 1, 2, 2, 2, 2, 2, 2, 2, 2, 2, 2, 2], [2, 0, 1, 1, 1, 1, 1, 1, 1, 1, 1, 1, 1, 1, 1, 2, 0, 1, 1, 1, 1, 1, 1, 1, 1, 1, 1, 1, 1, 2, 2, 2], [2, 2, 2, 2, 2, 0, 1, 1, 1, 2, 2, 2, 2, 2, 2, 2, 2, 2, 2, 2, 2, 2, 2], [0, 1, 1, 1, 2, 2, 2, 2, 2, 2, 2, 2, 0, 1, 1], [0, 1, 1, 1, 1, 2, 2, 2, 2, 2, 2, 2, 2, 2, 2, 2, 2, 2, 2, 2, 2, 2, 2], [0, 1, 1, 2, 2, 2, 2, 2, 2, 2, 2, 2, 2, 2, 2, 2, 2, 2, 2, 2, 2, 2, 2, 2], [2, 0, 1, 1, 1, 2, 2, 2, 2, 2, 2, 2], [0, 1, 1, 1, 1, 1, 1, 1, 1, 1, 1, 1, 1, 1, 1, 1, 1, 1, 1, 1, 1, 1, 1, 1, 1], [2, 2, 2, 2, 2, 2, 2, 2, 0, 1, 1, 2, 2, 2], [0, 1, 1, 2, 2, 2, 2, 2, 2, 2], [2, 0, 1, 1, 1, 2, 2, 2, 2, 2, 2, 2, 2, 2, 2, 2, 2, 2, 2, 2, 2, 2], [0, 1, 1, 2, 2, 2, 2, 2, 2, 2, 2, 2, 2, 2, 2, 2, 2], [2, 2, 2, 2, 2, 2, 2, 0, 1, 1, 2], [2, 0, 1, 1, 1, 2, 2, 2, 2, 2, 2, 2, 2, 2, 2], [0, 2, 0, 1, 1, 2, 2, 2, 2, 2, 2, 2, 2, 2, 2, 2, 2], [0, 1, 1, 2, 2, 2, 2, 2, 2, 2, 2, 2, 2, 2, 2, 2], [0, 1, 1, 1, 2, 2, 2, 2, 2, 2, 2, 2, 2, 2, 2, 2], [0, 1, 1, 1, 1, 2, 2, 2, 2, 2, 2, 2, 2, 2], [2, 0, 1, 1, 2, 2, 2, 2, 2, 2, 2, 2, 2, 2], [0, 1, 1, 2, 2, 2, 2, 2, 2, 2, 2], [2, 2, 2, 2, 2, 2, 2, 2, 2, 2, 2, 2, 0, 1, 1, 2], [2, 0, 1, 1, 1, 1, 1, 2, 2, 2, 2, 2, 2, 2, 2, 2, 2, 2], [0, 1, 1, 1, 1, 2, 2, 2, 2, 2, 2, 2, 2, 2, 2], [2, 0, 1, 1, 1, 1, 1, 2, 2, 2, 2, 2, 2, 2, 2, 2, 2, 2], [0, 1, 1, 1, 1, 2, 2, 0, 1, 1, 1, 1, 1, 1, 1, 1, 1, 1], [2, 0, 1, 1, 1, 1, 1, 1, 1, 1, 1, 1, 1], [2, 2, 2, 2, 2, 2, 2, 2, 2, 0, 1, 1, 2], [2, 2, 2, 0, 1, 1, 2, 2, 2, 2, 2, 2, 2, 2], [2, 2, 2, 2, 2, 0, 1, 1, 1, 1, 1, 2, 2, 2, 2, 2], [2, 0, 1, 1, 1, 1, 1, 1, 1, 1, 1, 1, 1, 1, 2, 2, 2, 2, 2, 2, 2, 2, 2], [2, 0, 1, 1, 1, 1, 1, 1, 1, 1, 2, 2, 2, 2, 2, 2, 2, 2, 2, 2], [2, 2, 2, 2, 2, 2, 2, 2, 0, 1, 2, 2, 2, 2, 2, 2, 2], [2, 2, 2, 2, 0, 1, 1, 1, 1, 2, 2, 2, 2, 2, 2, 2, 2, 2, 2, 2], [0, 1, 1, 1, 1, 1, 2, 2, 2, 2, 2, 2, 2, 2, 2, 2, 2], [0, 1, 1, 1, 2, 2, 2, 2, 2, 2, 2, 2, 2, 2, 2], [0, 1, 1, 1, 1, 2, 2, 2, 2, 2, 2, 2, 2, 2, 2, 2, 2, 2, 2, 2], [0, 1, 2, 2, 2, 2, 0, 1, 1, 2, 2, 2], [2, 2, 2, 2, 2, 0, 1, 1, 1, 2, 2], [2, 2, 2, 2, 0, 1, 1, 2, 2, 2, 2, 2, 2, 2, 2, 2, 2, 2, 2, 2, 2, 2, 2, 2, 2, 2], [2, 2, 0, 2, 2, 2, 2, 2, 2, 2, 2, 2, 2, 2, 2, 2, 0, 1, 1, 1, 2], [0, 1, 1, 1, 1, 1, 1, 1, 1, 1, 2, 2, 0, 1, 1, 1, 1, 1, 1, 1], [2, 2, 0, 1, 2, 2, 2, 2, 2, 2, 2, 2], [0, 1, 1, 1, 1, 1, 1, 1, 1, 1, 1, 1, 1, 1, 1, 1, 1, 1, 1], [2, 2, 2, 2, 2, 2, 2, 2, 2, 0, 1, 1, 2], [0, 1, 1, 1, 1, 2, 2, 2, 2, 2, 2, 2, 2, 2, 2, 2, 2, 2, 2, 2, 2], [0, 1, 1, 1, 1, 2, 2, 2, 2, 2, 2, 2], [0, 1, 1, 1, 1, 1, 1, 1, 1, 1, 1, 1, 1, 1], [0, 1, 1, 2, 2, 2, 2, 2, 2, 2, 2, 2, 2, 2, 2, 2, 2, 2, 2], [2, 2, 2, 2, 2, 0, 1, 2, 2, 2, 2, 2, 2, 2, 2, 2], [0, 1, 1, 1, 1, 2, 2, 0, 2, 2, 0, 1, 1, 1, 1, 1, 1, 1, 1], [2, 0, 1, 1, 1, 1, 1, 2, 0, 2, 2, 2, 2, 2, 2, 2, 0], [2, 2, 2, 2, 2, 2, 2, 2, 2, 2, 2, 2, 0, 1, 1, 1, 1, 2, 2], [0, 1, 1, 1, 1, 1, 1, 1, 1, 1, 1, 1, 1, 1, 1], [0, 1, 1, 1, 1, 1, 2, 2, 2, 2, 2, 2, 2, 2, 2, 2, 2, 2, 2, 2, 2, 2, 2, 2], [2, 2, 0, 1, 1, 1, 1, 1, 1, 1, 1, 2], [0, 1, 1, 1, 2, 2, 2, 2, 2, 2, 2, 2, 2, 2, 2, 2, 2, 2, 2], [0, 1, 1, 1, 1, 1, 1, 1, 1, 1, 2, 0, 1, 1, 1, 1, 1], [2, 2, 2, 2, 2, 2, 0, 1, 1, 1, 1, 1, 1, 1, 2, 2, 2, 2, 2, 2, 2, 2, 2], [0, 1, 1, 1, 2, 2, 2, 2, 2, 2, 2, 2, 2, 2, 2], [2, 2, 2, 2, 2, 0, 1, 1, 1, 2, 2, 2], [2, 2, 0, 1, 1, 2, 2, 2, 2, 2, 2, 2, 2], [0, 1, 1, 2, 2, 2, 2, 2, 2], [2, 2, 0, 1, 2, 2, 2, 0, 2, 2, 2, 2], [2, 2, 0, 1, 2, 2, 2, 2, 2, 2, 2], [2, 2, 2, 0, 1, 1, 1, 2, 2, 2, 2, 2, 2, 2, 2, 2, 2], [2, 2, 0, 1, 1, 1, 2, 2, 2, 2, 2, 2, 2, 2], [2, 2, 2, 2, 2, 2, 2, 2, 2, 0, 1, 1, 1, 1, 1, 1, 1, 1, 2, 2], [0, 1, 1, 2, 2, 2, 2, 2], [2, 2, 0, 1, 2, 2, 2, 2], [2, 2, 0, 1, 1, 2, 2, 2], [2, 2, 2, 2, 2, 2, 0, 1, 1, 2, 2, 2, 2, 2, 2, 2, 2], [2, 2, 2, 2, 2, 2, 0, 1, 2, 2, 2, 2, 2, 2], [2, 2, 2, 2, 2, 2, 2, 0, 1, 1, 1, 1, 1, 1, 1], [2, 2, 2, 2, 2, 2, 0, 1, 1, 2, 2, 2, 2], [2, 2, 2, 2, 2, 0, 1, 1, 2, 2, 2], [2, 2, 2, 2, 2, 0, 1, 1, 1, 1, 2], [2, 0, 1, 1, 1, 1, 1, 2, 2, 2, 2, 2], [0, 1, 1, 2, 2, 2, 2, 2, 2, 2, 2, 2, 2, 2, 2, 0, 1], [0, 1, 1, 2, 2, 2, 2, 2, 0, 1, 1, 2, 2], [0, 1, 1, 1, 1, 1, 1, 1, 1, 1, 1, 1], [2, 2, 2, 2, 0, 1, 1, 2, 2, 2, 2, 2, 2], [2, 2, 0, 1, 1, 1, 1, 1, 1, 2, 2, 0, 1], [0, 1, 2, 2, 2, 2, 2, 2, 2, 2, 2, 2, 0, 1, 2, 2], [2, 2, 2, 2, 2, 2, 0, 1, 1, 1, 1, 2], [2, 2, 2, 2, 2, 2, 0, 1, 1, 1, 1, 1, 2], [2, 2, 2, 2, 2, 2, 2, 2, 0, 1, 1, 1, 1, 1, 1, 1, 2, 2], [0, 1, 1, 1, 1, 1, 1, 1, 1, 1, 1, 1, 1, 1, 2, 2, 2, 2, 2, 2, 2], [2, 0, 1, 2, 2, 2, 2, 2, 2], [2, 2, 2, 2, 2, 2, 2, 2, 2, 2, 0, 1, 1, 2], [2, 2, 2, 0, 1, 1, 1, 1, 1, 1, 1, 1, 1, 1, 1, 1, 1, 1, 1, 1, 1, 1, 1, 1, 1, 2, 2], [2, 2, 2, 0, 1, 1, 1, 1, 1, 1, 1, 1, 2], [2, 2, 2, 2, 0, 1, 1, 1, 1, 2, 0, 1, 1, 1, 1, 1, 1, 1, 1, 1, 1, 1, 1, 1, 2, 2, 2, 2, 2, 2], [0, 1, 1, 1, 1, 2, 2, 2, 2, 2, 2, 2, 2, 2], [2, 0, 1, 1, 1, 1, 1, 1, 1, 1, 1, 1, 1, 1, 1, 1, 1, 2, 2, 0, 1, 1, 1], [0, 1, 1, 1, 1, 1, 2, 2, 2, 2, 2, 2, 2, 2, 2, 2, 2, 2, 2, 2, 2, 2], [2, 0, 1, 1, 2, 2, 2, 2, 2, 2, 2], [0, 1, 1, 1, 1, 1, 1, 1, 1, 1, 1, 1, 1, 1], [2, 2, 2, 2, 2, 2, 2, 2, 0, 1, 1, 2, 2, 2, 2, 2, 2, 2, 2, 2], [2, 2, 0, 1, 1, 1, 1, 1, 1, 1, 2, 2, 2, 2, 2, 2, 2, 2, 2, 2, 2, 2], [0, 1, 1, 2, 2, 2, 2], [0, 1, 1, 1, 2, 2, 2, 2, 2, 2, 2], [0, 1, 1, 2, 2, 2, 2, 2, 2, 2], [2, 2, 2, 2, 2, 2, 0, 1, 1, 1, 1, 2, 2], [2, 2, 2, 0, 1, 1, 1, 2, 2, 2, 2, 2, 2, 2, 2], [2, 2, 2, 2, 2, 2, 2, 0, 1, 1, 1, 1, 1, 1, 1, 1, 1, 1, 1, 1, 2, 0], [2, 2, 0, 1, 2, 2, 2, 2, 2], [0, 1, 2, 2, 2, 2, 2, 2, 2, 2, 2, 2, 2, 2, 2], [0, 1, 1, 1, 1, 1, 1, 1, 1, 1, 1, 1, 1, 1, 1, 1, 1, 1, 1, 2], [2, 2, 0, 2, 0, 1, 2, 2, 2, 2], [2, 2, 0, 1, 1, 1, 1, 2, 2, 2, 2, 2], [0, 1, 1, 1, 1, 2, 2, 2, 2, 2, 2, 2], [2, 2, 0, 1, 1, 1, 1, 2, 2, 2, 2, 2, 2], [0, 1, 1, 1, 1, 2, 2, 2, 2, 2, 2, 2, 2, 2, 2, 2, 2, 2], [2, 2, 2, 0, 1, 1, 1, 1, 1, 2, 2, 2, 2, 2], [2, 2, 0, 1, 1, 1, 1, 1, 2, 2, 2, 2, 2, 2, 2, 2, 2, 2, 2, 2], [0, 1, 1, 1, 1, 1, 1, 1, 2, 2, 2, 2], [2, 2, 2, 2, 0, 2, 2, 2, 2, 0, 1, 2, 2, 2, 2], [2, 2, 2, 2, 2, 0, 1, 1, 1, 1, 1, 1, 1, 1, 1], [2, 2, 2, 2, 2, 0, 1, 1, 1, 1, 1, 1, 2, 2, 2, 2], [2, 0, 1, 2, 2, 2, 2, 2], [2, 2, 2, 2, 2, 2, 0, 1, 1, 1, 2, 2, 2, 2, 2, 2, 2], [2, 2, 2, 0, 1, 2, 2, 2, 2, 2, 2, 2, 2, 2, 2, 2], [2, 2, 2, 2, 2, 0, 1, 1, 2, 2, 2, 2, 2, 2, 2, 2, 2, 2, 2], [0, 1, 1, 1, 1, 2, 2, 2, 2, 2, 2, 2, 2, 2, 2, 2, 2, 0, 1, 1, 1, 1], [2, 2, 2, 2, 2, 2, 2, 2, 0, 1, 1, 1, 1, 1, 1, 1, 1, 1, 1, 1], [2, 2, 2, 0, 1, 1, 1, 1, 1, 1, 1], [0, 1, 1, 1, 1, 1, 2, 2, 2, 2, 2, 2, 2, 2, 2], [2, 2, 2, 0, 1, 1, 1, 1, 1, 1, 1, 1], [2, 0, 1, 1, 2, 2, 2, 2, 2, 2, 2, 2, 2, 2, 2], [2, 2, 2, 2, 2, 0, 1, 1, 1, 1, 2], [0, 1, 1, 1, 1, 1, 1, 1, 1, 2, 2, 0, 1, 1, 1, 1], [2, 2, 2, 2, 2, 2, 0, 1, 2, 2], [2, 2, 2, 2, 2, 2, 2, 2, 2, 0, 1, 1, 2], [2, 2, 2, 0, 1, 1, 1, 2, 2, 2, 2, 2, 2, 2, 2, 2, 2, 2, 2], [2, 2, 2, 0, 1, 1, 1, 2, 2, 2], [0, 1, 1, 1, 1, 1, 1, 1, 1, 1, 2, 2, 2, 2, 2], [2, 0, 1, 1, 1, 1, 1, 1, 1, 1, 1, 1, 1, 2, 2, 2, 2, 2, 2, 2], [2, 2, 2, 2, 0, 1, 1, 1, 2], [2, 2, 2, 2, 2, 2, 2, 2, 2, 0, 1, 1, 1, 1, 1, 2, 2], [2, 2, 2, 0, 1, 2, 2, 2, 2, 2, 2, 2, 2, 2, 2, 2, 2], [2, 2, 2, 2, 0, 1, 1, 2, 2, 2, 2, 2, 0, 1], [0, 1, 1, 1, 1, 1, 1, 1, 1, 1, 1, 1, 1, 1, 1, 1], [0, 1, 1, 2, 2, 2, 2, 2, 2, 2, 2, 0, 1, 1, 2, 2], [2, 2, 2, 2, 2, 2, 2, 2, 0, 1, 1, 1, 1, 1, 1, 2], [2, 0, 1, 2, 2, 2, 0, 1, 2], [2, 2, 2, 2, 2, 2, 2, 0, 1, 1, 1, 2], [0, 1, 1, 1, 2, 2, 2, 2, 2], [2, 0, 1, 1, 1, 2, 2, 2, 2, 2], [0, 1, 1, 1, 1, 1, 1, 1, 1, 1, 1, 2, 2, 0, 1], [2, 2, 2, 2, 2, 0, 1, 1, 2, 2, 2, 2], [0, 1, 1, 1, 2, 2, 2, 2, 2, 2, 2, 2, 2, 2], [0, 1, 1, 1, 2, 2, 2, 2, 2, 2, 2, 2, 2], [0, 1, 1, 1, 2, 2, 2, 2, 2, 2, 2, 2, 2, 2, 2], [2, 2, 2, 2, 2, 2, 2, 0, 1, 1, 1, 2, 2, 2, 2], [2, 2, 2, 2, 2, 2, 2, 2, 2, 2, 2, 0, 1, 1, 1, 1, 2, 2, 2, 2], [0, 1, 1, 1, 1, 1, 1, 2, 2, 2, 2, 2, 2, 2], [2, 0, 1, 1, 2, 2, 2, 2, 2, 2, 2, 2], [2, 2, 2, 2, 2, 2, 2, 2, 2, 2, 0, 1, 1, 2, 2, 2, 2, 2, 2, 2, 2], [2, 2, 2, 2, 2, 2, 2, 2, 2, 2, 2, 2, 2, 2, 0, 1, 1, 1, 1, 1, 2], [2, 0, 1, 2, 2, 2, 2, 2, 2, 2, 2], [0, 1, 1, 1, 1, 1, 1, 1, 1, 1, 1, 1, 2, 2, 2, 2, 2, 2, 2, 2, 2, 2, 2, 2, 2, 2, 2, 2, 2, 2, 2, 2, 2, 2], [2, 2, 2, 2, 2, 2, 0, 1, 1, 1, 1, 1, 1, 2, 2, 2, 2], [2, 2, 2, 0, 1, 1, 1, 2, 2, 2, 2, 2, 2, 2], [0, 1, 1, 1, 2, 2, 2, 2, 2, 2, 2, 2, 2], [2, 2, 2, 2, 0, 1, 2, 2, 2, 2, 2, 2, 2, 2], [2, 2, 2, 2, 0, 1, 1, 2, 0, 1, 1, 1, 1, 1], [2, 0, 1, 2, 2, 2, 2, 2, 2, 2, 2, 2, 2, 2, 2, 2, 2, 2, 2, 2], [0, 1, 2, 2, 2, 2, 2, 2, 2, 2, 2, 2, 2, 2, 2, 2, 2], [2, 2, 2, 2, 2, 2, 0, 1, 1, 1, 1, 1, 2, 2, 2, 2, 2, 2, 2, 2], [2, 2, 2, 2, 2, 2, 2, 2, 2, 0, 1, 2, 2, 2, 2, 2], [2, 2, 2, 2, 2, 2, 2, 2, 2, 2, 0, 1, 1, 1, 1, 2, 2], [2, 2, 2, 2, 2, 2, 0, 1, 1, 1, 2, 2], [2, 2, 2, 0, 1, 2, 2, 2, 2, 2, 2], [2, 2, 2, 2, 2, 0, 1, 1, 1, 1, 1, 1, 1, 1, 1, 1, 1, 1, 1, 2, 2, 2], [2, 2, 2, 0, 1, 1, 1, 1, 1, 1, 1, 1, 1, 1, 1, 1, 1, 1, 1, 1, 1, 1, 1, 1, 1, 2, 2, 2, 2, 0, 1, 1], [0, 1, 1, 2, 2, 2, 2, 2, 2, 2, 2, 2, 2, 2], [2, 2, 2, 2, 2, 0, 1, 1, 1, 2, 2, 2, 2, 2, 2], [2, 2, 2, 0, 1, 1, 1, 1, 2, 0, 1, 1, 1, 1, 1, 1, 1, 1], [0, 1, 1, 1, 1, 1, 1, 2, 2, 2], [0, 1, 2, 2, 2, 2, 2, 2, 2], [2, 2, 2, 2, 0, 1, 1, 1, 2, 2, 2, 2, 2, 2], [0, 1, 1, 2, 2, 2, 2, 2, 2, 2, 2, 2], [2, 2, 2, 0, 1, 1, 1, 2, 2, 2, 2, 2], [2, 2, 2, 2, 2, 2, 0, 1, 2, 2, 2, 2, 2, 2, 2, 0, 1], [2, 2, 2, 2, 2, 2, 2, 0, 1, 2, 2, 2, 2], [2, 2, 2, 2, 2, 2, 0, 1, 2, 2, 2, 2], [2, 2, 2, 0, 1, 1, 1, 1, 1, 2, 2, 2, 2, 2, 2, 2, 2], [2, 0, 1, 1, 1, 1, 2, 2, 2, 2, 2, 2], [0, 1, 1, 2, 2, 2, 2, 2, 2], [0, 1, 1, 1, 2, 2, 2, 2, 2, 2], [2, 2, 2, 2, 2, 0, 1, 1, 2, 2, 2, 2], [2, 0, 1, 1, 1, 1, 1, 1, 1, 1, 1, 1, 1, 1, 1, 1], [2, 2, 2, 2, 2, 2, 2, 2, 0, 1, 1, 1, 1, 1, 1, 1, 1, 1, 1], [2, 0, 1, 1, 1, 1, 1, 2, 2, 2, 0, 1, 1, 1, 1, 1, 1, 1, 1, 1, 1, 1, 1], [2, 2, 2, 2, 0, 1, 1, 2, 0, 2, 2, 2, 2, 2], [2, 2, 2, 0, 1, 1, 2, 2, 2, 2, 2, 2, 2, 2], [2, 0, 1, 1, 2, 2, 2, 2, 2, 2, 2], [2, 0, 1, 1, 1, 1, 1, 1, 1, 1, 2, 2, 2, 2, 2, 2, 2], [2, 0, 1, 1, 1, 1, 2, 2, 2, 2, 2, 2, 2], [2, 2, 2, 2, 2, 2, 2, 2, 2, 2, 0, 1, 1, 1, 1, 1, 2], [2, 2, 2, 2, 0, 1, 1, 2, 2, 2, 2, 2, 2], [2, 2, 2, 0, 1, 1, 1, 2, 2, 2, 2, 2, 2, 2, 2], [2, 0, 1, 1, 1, 1, 1, 1, 1, 1, 1, 1, 1, 2], [0, 1, 1, 1, 1, 2, 2, 2, 2, 2, 2, 2, 0, 1, 1, 1, 1, 1, 1, 1], [0, 1, 1, 1, 1, 2, 2, 2, 2, 2, 2, 2, 2, 2, 2], [2, 0, 1, 1, 1, 1, 1, 1, 1, 1, 1, 1, 1, 1, 1, 1, 1, 1, 1, 2, 0, 1, 1, 1, 1, 1, 1, 1, 1, 2], [2, 0, 1, 1, 1, 2, 2, 2, 2, 2, 2], [2, 2, 2, 2, 0, 1, 1, 2, 2, 2, 2, 2, 2, 2], [2, 2, 0, 1, 1, 1, 2, 2, 2, 2, 2, 2, 2], [2, 2, 2, 2, 2, 2, 0, 1, 1, 1, 1, 2, 0, 2, 2], [2, 0, 1, 1, 2, 2, 2, 2, 2, 2, 2], [0, 1, 1, 1, 1, 1, 1, 1, 1, 1, 1, 1, 2, 2, 2, 2, 2, 2, 2, 2, 2, 2], [2, 0, 1, 1, 1, 2, 2, 2, 2, 2, 2], [2, 2, 2, 2, 2, 0, 1, 1, 1, 1, 1, 1, 1, 1, 2, 0, 1], [2, 2, 2, 2, 2, 2, 0, 1, 1, 1, 2], [0, 1, 2, 2, 2, 2, 2, 2, 2, 2, 2, 2, 2, 2, 2], [0, 1, 1, 1, 1, 1, 1, 1, 2], [2, 0, 1, 1, 2, 2, 2, 2, 2, 2, 2], [2, 2, 2, 2, 2, 2, 2, 2, 2, 0, 1, 1, 1, 1, 2, 2, 2], [2, 2, 2, 2, 2, 2, 2, 2, 2, 0, 1, 1, 1, 1, 1, 1, 1, 1, 1, 1, 1, 1, 1], [0, 1, 1, 1, 1, 2, 2, 2, 2, 2, 2, 2, 2, 2, 2, 2, 2, 2, 2], [2, 2, 0, 1, 2, 2, 2, 2, 2, 2, 2], [2, 2, 2, 2, 2, 0, 1, 1, 1, 1, 2, 2], [2, 2, 2, 0, 1, 1, 2], [2, 2, 2, 2, 2, 2, 2, 2, 2, 2, 2, 0, 1, 2, 0, 1, 1, 2, 2], [2, 2, 2, 0, 1, 2, 2, 2, 2, 2], [2, 2, 2, 0, 1, 1, 2, 0, 1, 1, 2, 2, 2], [2, 2, 2, 2, 2, 2, 2, 2, 2, 2, 2, 0, 1, 1, 1, 2, 2], [2, 2, 2, 2, 2, 2, 2, 2, 2, 2, 0, 1, 2], [0, 1, 1, 2, 2, 2, 2, 2, 2, 2, 2, 2, 2, 0], [2, 2, 2, 2, 2, 2, 2, 2, 2, 0, 1, 2], [0, 1, 1, 1, 1, 1, 1, 1, 2, 2, 2, 2, 2, 2, 2, 2, 2], [0, 1, 1, 1, 1, 1, 1, 1, 1, 1, 1, 1], [2, 2, 2, 0, 1, 1, 1, 1, 1, 1, 1, 1, 2, 2, 2, 2, 2, 2, 2, 2, 2, 2, 2, 2, 2, 2], [2, 2, 2, 0, 1, 1, 2, 2, 2, 2], [0, 1, 1, 1, 1, 1, 1, 1, 2, 2, 2, 2, 0, 1, 1, 1, 1, 1, 1, 1], [0, 1, 2, 2, 2, 2, 2, 2, 2, 2, 2, 2, 2, 2, 2, 2], [0, 1, 1, 1, 1, 1, 1, 1, 1, 1, 1, 1, 1, 2], [0, 1, 1, 1, 1, 1, 2, 2, 2, 2, 2, 2, 2], [0, 1, 1, 2, 2, 2, 2, 2, 2, 2], [0, 1, 1, 1, 2, 2, 2, 2, 2, 2, 2], [2, 2, 2, 2, 2, 2, 0, 1, 1, 1, 1, 2], [2, 0, 1, 1, 1, 2, 2, 2, 2, 2, 2, 2], [0, 1, 1, 1, 1, 2, 2, 2, 2, 2, 2, 2, 2, 2], [0, 1, 1, 1, 1, 1, 1, 1, 1, 1, 1, 1, 1, 1, 2], [2, 2, 2, 2, 0, 1, 1, 1, 1, 1, 1, 1, 1, 2, 2], [2, 2, 0, 1, 1, 1, 1, 2, 2, 2, 2, 2, 2, 2, 2, 2, 2, 2, 2], [0, 1, 1, 1, 1, 1, 1, 2, 0, 1, 1, 1, 1, 1, 1, 1, 1, 1, 1, 1, 1, 1, 1], [2, 0, 1, 1, 1, 1, 2, 2, 2, 2, 2, 2, 2, 2, 2], [0, 1, 1, 1, 1, 2, 2, 2, 2, 2, 2, 0, 1, 1], [0, 1, 1, 1, 1, 2, 2, 2, 2, 2, 2, 2, 2, 2], [0, 1, 1, 1, 2, 2, 2, 2, 2, 2, 2, 2, 2], [0, 1, 1, 1, 1, 2, 2, 2, 0, 1, 1], [0, 1, 1, 2, 0, 1, 1, 2, 2, 2, 2, 0, 1], [2, 2, 2, 2, 2, 2, 0, 1, 1, 2, 2, 2, 2, 2, 2], [2, 2, 2, 2, 2, 2, 2, 2, 2, 0, 1, 1, 2, 2], [2, 2, 0, 1, 2, 2, 2, 2, 2, 2, 2, 2, 2, 2, 2, 2, 2, 2, 2, 2, 2], [0, 1, 1, 2, 2, 2, 2, 2, 2, 2, 2, 2, 2, 2], [0, 1, 1, 1, 2, 2, 2, 2, 2, 2, 2, 2, 2, 2, 2], [0, 1, 1, 1, 1, 1, 1, 2, 2, 2, 2, 2], [2, 2, 2, 2, 2, 2, 0, 1, 1, 2, 2], [0, 1, 1, 1, 1, 2, 2, 2, 2, 2], [0, 1, 1, 1, 1, 1, 1, 1, 1, 2, 2, 2, 2, 2, 2, 2, 2, 2, 2], [2, 0, 1, 1, 1, 2, 2, 2, 2, 2, 0, 1, 2, 2, 2, 2, 2], [0, 1, 1, 1, 1, 1, 1, 1, 1, 1, 1, 1, 1, 1, 1, 1, 1, 1, 1, 1, 1], [0, 1, 1, 1, 1, 1, 1, 1, 1, 1, 1, 1, 1, 1, 1, 1, 1, 1, 1], [2, 2, 2, 2, 2, 0, 1, 1, 2, 2, 2, 2, 2], [2, 2, 2, 2, 2, 2, 0, 1, 1, 1, 1, 2], [2, 2, 2, 0, 1, 1, 2, 2, 2, 2, 2, 2, 2], [0, 1, 1, 2, 2, 2, 2, 2, 2, 2, 2, 2], [2, 2, 2, 0, 1, 1, 1, 1, 2, 2, 2, 2], [2, 2, 2, 0, 1, 1, 2, 2, 2, 2, 2, 2, 2, 2], [2, 0, 1, 1, 1, 1, 2, 2, 2, 2], [0, 1, 1, 1, 1, 2, 2, 2, 2, 2, 2, 2, 2, 2, 2, 2, 2, 2, 2, 2], [2, 0, 1, 1, 1, 2, 2, 2, 2], [2, 2, 0, 1, 1, 1, 1, 2, 2], [2, 0, 1, 1, 2, 2, 2, 2], [2, 2, 2, 2, 2, 2, 2, 2, 2, 0, 1, 2], [2, 2, 2, 2, 2, 2, 2, 2, 2, 2, 0, 1, 1, 1, 2, 2], [2, 2, 2, 2, 2, 0, 1, 1, 1, 2, 2], [0, 1, 1, 1, 1, 1, 1, 1, 1, 1, 1, 1, 1, 1, 1, 2, 2], [2, 2, 2, 2, 0, 1, 2, 2, 2, 2, 2, 2], [2, 2, 2, 2, 2, 2, 2, 0, 1, 1, 1, 1, 1, 2, 2, 2], [2, 0, 1, 1, 1, 2, 2, 2, 2, 2, 2, 2, 2, 2], [0, 1, 1, 1, 2, 2, 2, 2, 2, 2, 2, 2, 2, 2], [2, 2, 2, 2, 2, 2, 2, 0, 1, 1, 2, 2, 2, 2, 2, 2, 2, 2, 2, 2, 2, 2], [2, 2, 2, 2, 2, 2, 2, 2, 2, 2, 2, 2, 2, 0, 1, 1, 1, 1, 1, 1, 1, 1, 2, 2, 2, 2, 2, 2, 2, 2], [2, 2, 2, 2, 2, 0, 1, 1, 2, 2, 2, 2], [2, 2, 2, 2, 2, 0, 1, 1, 1, 1, 1, 1, 2, 2, 0, 1, 1], [0, 1, 1, 1, 1, 2, 2, 2, 2, 2, 2, 2], [0, 1, 1, 2, 2, 2, 2, 2], [0, 1, 1, 1, 1, 1, 1, 1, 1, 1, 1, 1, 1, 2, 2, 2], [2, 0, 1, 1, 1, 1, 1, 1, 1, 1, 1, 1, 1, 1, 1, 1, 1, 1, 1, 1, 1, 1, 1, 1, 1, 1], [2, 2, 2, 2, 2, 2, 2, 0, 1, 1, 1, 1, 1, 2, 2, 2], [2, 0, 1, 1, 2, 2, 2, 2, 2, 2, 0, 1, 2, 2, 2], [2, 0, 1, 1, 1, 1, 1, 1, 1, 2], [2, 0, 1, 1, 1, 2, 2, 2, 2, 2, 2, 2, 2, 2], [2, 2, 0, 1, 1, 1, 1, 1, 2, 2, 2, 2, 2, 2, 2], [0, 1, 2, 2, 2, 2, 2, 2, 2, 2, 2], [0, 1, 1, 1, 1, 1, 1, 1, 1, 1, 1, 1, 1, 1, 1, 1, 1, 1], [2, 2, 2, 2, 0, 1, 1, 1, 1, 2, 2, 2, 2, 2, 2, 2], [2, 2, 2, 2, 2, 2, 2, 2, 2, 2, 2, 0, 1, 1, 1, 2, 2], [2, 2, 2, 2, 2, 2, 2, 2, 0, 1, 1, 1, 1, 1, 2, 2], [2, 2, 2, 2, 0, 1, 1, 1, 1, 2, 2, 2, 2], [2, 2, 2, 2, 2, 2, 2, 2, 0, 1, 1, 1, 1, 1, 1, 2, 2], [2, 0, 1, 1, 1, 1, 2, 2, 0, 1, 1, 2, 2], [2, 0, 1, 1, 1, 1, 2, 0, 1, 1, 1, 1, 1, 1, 1, 1], [2, 2, 2, 2, 2, 2, 2, 2, 2, 2, 2, 2, 2, 0, 1, 1, 2, 2, 2, 2], [2, 2, 2, 0, 1, 2, 2, 0, 1, 1, 1, 1, 2, 2, 2, 2, 2, 2, 2], [2, 2, 2, 0, 1, 1, 1, 1, 1, 1, 2, 2, 2, 2, 2], [2, 2, 2, 0, 2, 2, 0, 1, 1, 1, 1, 1, 1, 1, 1, 1, 1, 2, 2, 2, 2, 2, 2, 2], [2, 2, 2, 2, 0, 1, 1, 1, 1, 1, 1, 1, 2, 2, 2, 2, 2, 2], [2, 2, 2, 0, 1, 1, 1, 1, 2, 2, 2, 2], [2, 2, 2, 2, 2, 2, 2, 0, 1, 1, 1, 1, 1, 1, 2, 2], [0, 1, 2, 2, 2, 2, 2, 2, 2, 2, 2], [2, 2, 2, 2, 2, 2, 2, 2, 0, 1, 1, 2], [2, 2, 0, 1, 1, 2, 2, 2, 2, 2, 2, 2], [2, 2, 2, 0, 1, 1, 2, 2, 2, 2, 2, 2, 2, 2], [0, 1, 1, 1, 1, 1, 2, 2, 0, 2, 2, 2, 0, 2, 2, 2, 2], [2, 2, 2, 2, 2, 2, 0, 1, 1, 1, 2, 2, 2, 2], [0, 1, 1, 2, 2, 2, 2, 2, 2, 2, 2, 2, 2, 2, 2, 2, 2], [2, 2, 0, 1, 1, 2, 2, 2, 0, 1, 1, 2, 2, 2], [0, 1, 1, 2, 2, 2, 2, 2, 2, 2, 2, 2, 2, 2], [2, 2, 2, 0, 1, 1, 1, 1, 2, 2, 2, 2, 2, 2, 2, 2], [2, 2, 2, 2, 0, 1, 1, 1, 2, 2], [2, 2, 2, 0, 1, 1, 2, 2, 2, 2, 2, 2, 2], [2, 2, 2, 2, 2, 0, 1, 1, 1, 1, 1, 1, 1, 2, 2, 2, 2], [0, 1, 2, 2, 2, 2, 2, 2, 2, 2], [0, 1, 1, 2, 2, 2, 2, 2, 2, 2, 2, 2, 2, 2, 2, 2, 2], [2, 0, 1, 1, 1, 2, 2, 2, 2, 2, 2, 2, 2], [0, 1, 1, 2, 2, 2, 2, 0, 1, 1, 1, 1], [2, 2, 0, 2, 2, 2, 0, 1, 1, 1, 1, 1, 2, 2, 2, 2], [0, 1, 1, 1, 1, 1, 2, 2, 2, 2, 2, 2, 2, 2, 2], [0, 1, 1, 1, 2, 2, 2, 2, 2, 2, 2], [0, 1, 1, 1, 2, 0, 1, 2, 2, 2, 2, 2, 2], [2, 2, 0, 1, 1, 1, 1, 1, 1, 1, 1, 1, 1, 2, 2, 2, 2, 2, 2, 2], [0, 1, 1, 1, 2, 2, 2, 2, 2], [2, 2, 0, 1, 1, 1, 1, 1, 1, 2, 2, 2], [2, 2, 2, 0, 1, 1, 1, 2, 2, 2, 2, 2, 2, 2, 2, 2, 2], [2, 2, 2, 0, 1, 1, 1, 1, 1, 1, 1, 1, 1, 1, 1, 1, 1, 2], [2, 2, 2, 0, 1, 1, 1, 2, 2, 2, 2, 2, 2, 2], [2, 2, 2, 0, 1, 1, 1, 1, 1, 1, 2, 0, 1, 1, 1, 1, 1, 1, 1, 1, 1, 1], [2, 2, 0, 1, 2, 0, 1, 1, 1, 1, 1, 1, 1, 1, 1, 2, 2, 2], [2, 0, 1, 1, 1, 1, 1, 1, 1], [2, 0, 1, 1, 1, 1, 1, 1, 2], [2, 0, 1, 1, 1, 1, 1, 1, 1], [2, 2, 2, 2, 0, 1, 1, 1, 1, 1, 1, 1, 1, 1, 1, 1, 2, 2, 2], [2, 0, 1, 1, 2, 2, 2, 2, 2, 2], [2, 2, 2, 2, 2, 2, 0, 1, 1, 1, 2], [0, 1, 1, 1, 2, 2, 2, 2, 2, 2, 0, 1, 1, 1, 1], [2, 2, 2, 2, 2, 2, 2, 0, 1, 1, 1, 1, 1, 1, 1, 1, 2, 2, 0], [0, 1, 1, 1, 2, 2, 2, 2, 2, 2, 2, 2, 2, 2, 2, 2], [2, 0, 1, 1, 2, 2, 2, 2, 2, 2, 2], [0, 1, 1, 1, 2, 2, 2, 2, 2, 2, 2, 2, 2, 2, 2, 2], [0, 1, 1, 1, 2, 2, 2, 2, 2, 2, 2, 2, 2, 2, 2], [0, 1, 1, 1, 2, 2, 2, 2, 2, 2], [0, 1, 1, 1, 2, 2, 2, 2, 2, 2, 2, 2, 2], [2, 2, 2, 2, 0, 1, 1, 1, 1, 1, 1, 2, 2, 2, 2, 2, 2], [0, 1, 1, 1, 1, 1, 2, 0, 1, 1, 1, 2], [2, 2, 2, 2, 2, 2, 2, 2, 0, 1, 2], [0, 1, 1, 1, 1, 1, 2, 2, 2, 2, 2, 2, 2, 2, 2, 2], [0, 1, 1, 1, 1, 1, 1, 1, 2, 2, 2, 0, 1, 1], [2, 2, 2, 0, 1, 1, 1, 1, 1, 1, 1], [2, 2, 2, 0, 1, 1, 1, 1, 1, 1, 1, 2], [2, 2, 2, 0, 1, 1, 1, 1, 1, 1, 1, 1, 1, 1, 1], [0, 1, 1, 1, 1, 1, 2, 2, 2, 2, 2, 2, 2, 2], [0, 1, 1, 1, 1, 2, 2, 2, 2, 2, 2, 2, 2, 2, 2, 2], [2, 2, 0, 1, 2, 2, 2, 2, 2, 2], [2, 2, 2, 2, 2, 2, 0, 1, 1, 1, 2, 2], [0, 1, 2, 2, 2, 2, 2, 2, 2, 2, 2, 2, 2, 2, 2, 2], [2, 2, 2, 0, 1, 1, 1, 1, 2, 2, 2, 2, 2, 2], [2, 0, 1, 1, 1, 1, 2, 2, 2, 2, 2, 2], [2, 2, 2, 0, 1, 2, 2, 2, 2, 2, 2, 2], [2, 2, 2, 2, 2, 2, 0, 1, 1, 2, 2, 2, 2, 2], [0, 1, 1, 1, 2, 2, 2, 2, 2, 2, 2, 2, 2, 2, 2, 2, 2, 2], [2, 2, 0, 1, 1, 2, 2, 2, 2, 2, 2, 2], [2, 2, 2, 2, 2, 2, 0, 1, 1, 1, 1, 2], [2, 2, 2, 2, 2, 2, 0, 1, 1, 1, 1, 2, 2, 2], [0, 1, 1, 1, 1, 2, 2, 2, 2, 2, 2, 2], [2, 2, 0, 1, 1, 1, 1, 1, 1, 1, 1, 1, 1, 1, 2, 0, 1, 1, 1, 1, 1], [2, 2, 2, 2, 0, 1, 1, 2, 2, 2, 2, 2, 2, 2, 2, 2], [2, 0, 1, 1, 1, 1, 1, 1, 1, 1, 1], [0, 1, 1, 1, 1, 1, 1, 1, 1, 1, 1, 1, 1, 1, 1, 1, 1, 1], [0, 1, 1, 1, 1, 1, 1, 1, 1, 2, 2, 2, 2, 0, 1, 1, 1, 1, 1], [0, 1, 1, 1, 1, 2, 2, 2, 2, 2, 2, 2, 2, 2, 2], [0, 1, 1, 2, 2, 2, 2, 2], [0, 1, 1, 2, 2, 2, 2, 2, 2, 2, 2, 2, 2, 2], [0, 1, 1, 2, 2, 2, 2, 2, 2, 2], [2, 2, 2, 0, 1, 1, 1, 1, 2, 2, 2], [2, 2, 0, 1, 1, 1, 1, 1, 1, 1, 1, 1, 1, 1, 1, 1, 1, 1, 1, 1, 2], [0, 1, 1, 1, 1, 2, 2, 2, 2, 2, 2, 2, 0, 1, 1, 1], [2, 2, 2, 0, 1, 1, 1, 1, 1, 2, 2], [2, 0, 1, 1, 1, 2, 2, 2, 2, 2, 2], [2, 0, 1, 1, 1, 1, 1, 2, 2, 0, 1, 1], [2, 2, 0, 1, 1, 1, 1, 1, 1, 2, 2, 0, 1, 1, 1], [2, 0, 1, 1, 1, 1, 1, 1, 2, 2, 2, 0], [2, 2, 0, 1, 1, 2, 2, 2, 2, 2, 2, 2, 2, 2, 2, 2], [0, 1, 1, 1, 2, 2, 2, 2, 2], [2, 2, 2, 2, 0, 1, 1, 1, 1, 1, 1, 1, 1, 1, 1, 1, 1, 1, 1, 1, 1], [2, 2, 0, 2, 2, 2, 2, 2, 2, 2, 0, 1, 1, 2, 2], [2, 2, 2, 2, 2, 2, 2, 2, 0, 2, 0, 2, 2, 2, 2, 2, 2], [2, 0, 1, 1, 1, 2, 0, 1, 1, 1, 1, 1, 1, 1, 1], [0, 2, 2, 2, 2], [2, 2, 2, 2, 0, 1, 1, 1, 1, 1, 1, 2, 2, 2, 2, 2], [2, 2, 2, 2, 2, 2, 2, 2, 2, 2, 0, 1, 1, 1, 2], [2, 2, 2, 2, 0, 1, 1, 2, 2, 2, 2, 2, 2, 2, 2, 2, 2, 2, 2, 2], [2, 2, 2, 0, 1, 1, 1, 2, 2, 2, 2], [0, 1, 1, 1, 1, 1, 1, 1, 1, 1, 1, 1, 2, 2, 2, 2, 2], [2, 2, 2, 2, 2, 2, 2, 2, 2, 0, 1, 1, 1, 2], [2, 2, 0, 1, 1, 1, 1, 2], [2, 2, 2, 2, 2, 2, 0, 1, 1, 1, 1, 1, 1, 1, 2], [2, 0, 1, 1, 1, 1, 1, 2, 0, 2, 2, 2, 2, 0, 1, 1, 1, 1, 1, 1, 2, 0, 1, 1], [0, 1, 1, 1, 2, 2, 2, 2, 2, 2, 2, 2, 2, 2, 2, 2, 2], [2, 2, 2, 2, 2, 2, 2, 2, 2, 0, 1, 1, 2, 2, 2], [2, 0, 1, 1, 1, 1, 1, 1, 1, 2, 2, 2, 2, 2, 2, 2, 2], [0, 1, 1, 1, 1, 2, 2, 2, 2, 2, 2, 2], [2, 2, 2, 2, 2, 2, 0, 1, 1, 2], [2, 0, 1, 1, 2, 2, 2, 2, 2, 2, 2, 2, 2, 2, 2, 2], [2, 2, 2, 2, 2, 2, 2, 2, 0, 1, 1, 2, 2, 2, 2, 2, 2, 2, 2, 2, 2, 2], [2, 2, 2, 0, 1, 1, 1, 1, 1, 1, 1, 1, 1, 1, 2], [2, 2, 0, 1, 2, 2, 2, 2, 2, 2, 2, 2, 2, 2, 2, 0, 2, 2], [2, 0, 1, 1, 1, 1, 1, 1, 1, 1, 1, 1, 1, 1, 1, 1, 1, 1], [2, 0, 1, 1, 2, 0, 1, 1, 1, 1, 1, 1, 1, 1, 1, 1, 1, 1, 1, 1], [2, 0, 1, 1, 1, 2, 2, 2, 2, 2, 2, 2, 2, 2, 2, 2, 2, 2, 2, 2, 2, 2, 2], [0, 1, 1, 2, 2, 2, 2, 2, 2, 2, 2], [2, 2, 2, 2, 0, 1, 2, 2, 2, 2, 2, 2, 2, 2, 2, 2, 2], [2, 2, 2, 0, 1, 1, 1, 1, 1, 1, 1, 1, 1, 2], [2, 2, 2, 2, 2, 2, 2, 0, 1, 1, 1, 1, 2], [0, 1, 1, 1, 2, 2, 2, 2, 2, 2, 2, 2, 2, 2, 2, 2, 2, 2, 2, 2, 2], [0, 1, 1, 1, 1, 1, 1, 1, 1, 1, 1, 1, 1, 1], [2, 2, 2, 2, 2, 2, 2, 2, 2, 0, 1, 1, 1, 1, 2], [2, 2, 2, 2, 2, 2, 2, 2, 0, 1, 1, 1, 1, 1, 1], [2, 0, 1, 1, 2, 2, 2, 2, 2, 2, 2], [0, 1, 1, 1, 2, 2, 2, 2, 2, 2, 2, 2, 2, 2, 0, 1, 1, 1, 1, 1, 1, 1, 1, 1, 1, 1, 1, 1, 1, 1], [0, 1, 1, 2, 2, 2, 2, 2, 2, 2, 2], [2, 0, 2, 0, 1, 1, 1, 1, 1, 1, 1, 2, 0, 1, 1, 1, 1, 1, 1, 1], [2, 2, 0, 1, 1, 1, 2, 2, 2, 2, 2, 2, 2, 2, 2, 2], [2, 2, 0, 1, 1, 1, 1, 2, 2, 2, 2, 2, 2, 2], [2, 2, 2, 0, 1, 1, 1, 2, 2, 2, 2, 2, 2, 2], [0, 1, 2, 2, 2, 2, 2, 2, 2, 2, 2, 0, 1, 2], [0, 1, 1, 1, 1, 1, 1, 1, 2, 2, 2, 2, 2, 2, 2], [0, 1, 1, 1, 1, 1, 1, 1, 1, 1, 2, 2, 2, 2, 2, 2, 2, 2, 2], [0, 1, 1, 1, 1, 1, 1, 1, 1, 1, 1, 2, 2, 0, 1, 1, 1, 1, 1, 1], [0, 1, 1, 1, 2, 2, 2, 2, 2, 2, 2, 2, 2, 2], [2, 0, 1, 1, 2, 2, 2, 2, 2, 2], [2, 2, 0, 1, 1, 2, 2, 2, 2, 2, 2, 2, 2, 2, 2], [0, 1, 1, 1, 2, 2, 2, 2, 2, 2, 2, 2, 2, 2, 2, 2, 2], [0, 1, 1, 1, 2, 2, 2, 2, 2, 2], [2, 2, 2, 2, 0, 1, 1, 2, 2, 2, 2, 2], [0, 1, 1, 1, 2, 2, 2, 2, 2, 2, 2, 2], [2, 2, 0, 1, 1, 2, 2, 2, 2, 2, 2, 2, 2, 2, 2, 2, 2, 2], [2, 2, 2, 2, 2, 0, 1, 1, 1, 1, 1, 1, 1, 1, 2, 2, 2, 2, 2, 2, 2], [0, 1, 1, 1, 1, 2, 2, 2, 2, 2, 2, 2, 2, 2], [0, 1, 1, 2, 2, 2, 2, 2, 2, 2, 2, 2], [2, 2, 2, 2, 2, 2, 2, 0, 1, 1, 1, 1, 1, 1, 1, 1, 1, 1, 1, 1, 1, 1, 1, 1, 1, 1], [2, 2, 0, 1, 1, 1, 1, 1, 2, 2, 2, 2, 2, 2, 2, 2], [2, 2, 2, 2, 2, 0, 1, 1, 1, 1, 1, 1, 2], [2, 2, 2, 0, 1, 1, 2, 2, 2, 2, 2, 2], [0, 1, 2, 2, 2, 2, 2, 2, 2, 2, 2, 2, 2, 2, 2], [0, 1, 1, 2, 2, 2, 2, 2, 2, 2, 2, 2, 2, 2], [2, 2, 2, 2, 2, 2, 0, 1, 1, 1, 1, 1, 1, 1, 2, 2], [2, 0, 1, 1, 1, 1, 1, 1, 1, 1, 1, 1, 1, 1, 1, 1, 1, 1, 1, 1, 1, 1, 1, 1], [0, 1, 1, 1, 2, 2, 2, 2, 2, 2, 2, 2, 2], [2, 2, 2, 2, 2, 0, 1, 1, 1, 1, 1, 1, 2, 2, 2, 2], [2, 2, 0, 2, 2, 2, 2, 2, 0, 1, 2, 2, 2, 2], [2, 0, 1, 1, 1, 1, 2, 2, 0, 1, 1, 1, 2, 2, 2, 2, 2, 2, 2], [0, 1, 2, 2, 2, 2, 2, 2, 2, 2], [2, 2, 2, 2, 2, 2, 2, 2, 0, 1, 1, 1, 2, 2, 2], [2, 0, 2, 2, 2, 0, 1, 1, 1, 1, 1, 2, 2, 2], [2, 2, 2, 2, 2, 2, 0, 1, 1, 1, 1, 1, 2], [2, 2, 2, 2, 2, 2, 2, 0, 1, 1, 2, 2, 2, 2], [2, 0, 1, 1, 1, 2, 0, 1, 1], [2, 2, 2, 0, 1, 1, 1, 2, 2, 2, 2, 2, 2], [2, 0, 1, 1, 2, 2, 2, 2, 2, 2], [2, 0, 1, 1, 1, 1, 1, 1, 1, 1, 2, 2, 2, 2, 2, 2, 2, 2, 2, 2, 2, 2, 2, 2], [0, 1, 1, 1, 1, 1, 2, 2, 2, 2, 2], [2, 0, 1, 1, 2, 2, 2, 2, 2, 2, 2, 2], [2, 0, 1, 1, 2, 2, 2, 2, 2, 2, 2, 2, 2, 2, 2], [2, 2, 2, 2, 2, 2, 2, 2, 2, 0, 1, 1, 1, 2, 2, 2], [0, 1, 1, 2, 2, 2, 2, 2, 2, 2, 2, 2, 2, 2, 2, 2, 2, 0, 1, 1, 1, 1], [0, 1, 1, 1, 1, 1, 1, 1, 1, 1, 1, 1, 1], [0, 1, 1, 1, 1, 2, 2, 2, 2, 2, 2, 2, 2, 2, 2, 2, 2, 2, 2, 2], [2, 2, 2, 2, 2, 2, 2, 2, 0, 1, 1, 2, 2, 2, 2, 2], [0, 1, 1, 1, 2, 2, 2, 2, 2, 2], [0, 1, 1, 1, 1, 2, 2, 2, 2, 2, 2, 2], [0, 1, 1, 2, 2, 2, 2, 2, 2, 2, 2, 2, 2, 2, 2, 2], [0, 1, 1, 2, 2, 2, 2, 2, 2, 2, 2, 2, 2, 2, 2, 2, 2, 2, 2], [2, 2, 2, 2, 2, 0, 1, 2, 2, 2, 2, 2, 2, 2, 2, 2, 2, 2, 2, 2, 2, 2], [2, 2, 2, 2, 2, 2, 2, 2, 2, 2, 2, 2, 2, 0, 1, 1, 1, 1, 2, 2, 2], [0, 1, 1, 1, 2, 2, 2, 2, 2, 2, 2, 2], [0, 1, 1, 2, 2, 2, 2, 2, 2, 2, 2, 2, 2], [2, 2, 2, 0, 1, 1, 1, 1, 1, 1, 1, 1, 2, 2, 2, 2, 2, 2, 2, 2, 2, 2], [0, 1, 1, 2, 2, 2, 2, 2, 2, 2, 2, 2, 2, 2, 2], [0, 1, 1, 1, 1, 1, 1, 1, 1, 1, 1, 1, 1, 1, 1, 1, 1], [0, 1, 1, 1, 1, 1, 2, 2, 2, 2, 2, 2, 2, 2, 2, 2, 2, 2], [2, 2, 0, 1, 1, 2, 2, 2, 2, 2, 2, 2, 2, 2, 2], [0, 1, 1, 2, 2, 2, 2, 2, 2, 2, 2, 2], [2, 0, 1, 1, 1, 1, 2, 2, 2, 2, 2], [2, 0, 1, 1, 2, 2, 2, 2, 2], [2, 2, 0, 1, 1, 1, 2, 2, 2, 2, 2, 2, 2, 2, 2, 2], [2, 2, 0, 1, 1, 1, 1, 1, 2, 2, 2, 2, 2, 2, 2, 2, 2, 2, 2, 2, 2, 2, 2], [0, 1, 1, 1, 1, 1, 1, 1, 1, 1, 1, 1, 1, 1, 1, 1, 1, 1, 1], [2, 0, 1, 1, 1, 1, 1, 1, 1, 1, 1, 2, 2, 2, 2, 2], [2, 0, 1, 1, 2, 2, 2, 2, 2, 2, 2, 2], [2, 2, 2, 0, 1, 1, 1, 2, 2, 2, 2], [0, 1, 1, 1, 2, 2, 2, 2, 2, 2, 2, 2], [2, 2, 2, 2, 2, 2, 2, 0, 1, 1, 1, 2, 2, 2, 2, 2, 2], [2, 0, 1, 1, 2, 2, 2, 2, 2, 2, 0, 1, 1, 1, 1, 1, 1, 1], [2, 0, 1, 1, 1, 1, 1, 2, 0, 1, 1, 1, 1, 1, 2, 0, 1, 1], [2, 2, 0, 2, 2, 0, 1, 1, 2, 2], [2, 0, 1, 1, 1, 2, 2, 2, 2, 2, 2, 2, 2, 2, 2, 2, 2], [2, 2, 2, 2, 2, 2, 2, 2, 2, 2, 2, 2, 0, 1, 1, 1, 1, 1, 1, 2, 2], [2, 2, 2, 2, 2, 2, 2, 2, 0, 1, 1, 1, 1, 1, 1, 1, 2, 2, 2, 2], [0, 1, 1, 1, 1, 2, 2, 2, 2, 2, 2, 2, 2, 2, 2, 2], [0, 1, 1, 1, 2, 2, 2, 2, 2, 2, 0, 1, 1, 1, 1, 1, 1, 1, 1, 1, 1, 1, 1, 1, 1], [0, 1, 2, 2, 2, 2, 2, 2, 2, 2, 2, 2], [0, 1, 1, 1, 1, 2, 2, 2, 2, 2, 2, 2, 2, 2, 2, 2, 2, 2, 2, 2, 2, 2, 2], [2, 0, 1, 1, 1, 1, 1, 1, 1, 2, 2, 2, 2, 2, 2, 2, 2, 2], [0, 1, 2, 2, 2, 2, 2, 2, 2, 2, 2, 0, 1, 1], [0, 1, 1, 1, 2, 2, 2, 2, 2, 2, 2, 2, 2], [2, 2, 2, 0, 1, 1, 2, 2, 2, 2, 2, 2, 2, 2, 2, 2], [0, 1, 1, 1, 1, 2, 2, 2, 2, 2, 2, 2, 2, 2], [2, 0, 1, 1, 1, 1, 1, 1, 1, 1, 1, 1, 1, 1, 2, 0, 1, 1], [2, 0, 1, 1, 1, 1, 1, 1, 1, 1, 1, 1, 1, 1, 1, 1], [2, 2, 2, 2, 2, 2, 0, 1, 1, 2, 2, 2], [2, 2, 2, 2, 2, 2, 2, 2, 2, 0, 1, 2], [2, 0, 1, 1, 1, 1, 1, 1, 1, 1, 1, 2], [2, 0, 1, 1, 2, 2, 2, 2, 2, 2, 2, 2, 2, 2, 2], [0, 1, 1, 1, 2, 2, 2, 2, 2, 2, 2, 2], [0, 1, 1, 1, 2, 2, 2, 2, 2, 2, 2, 2, 2, 2, 2, 2], [0, 1, 1, 1, 1, 2, 2, 2, 2, 2, 2, 2, 2, 2], [2, 2, 0, 1, 1, 1, 1, 1, 1, 1, 1, 2, 2, 2, 2], [0, 1, 2, 2, 2, 2, 2, 2], [2, 2, 2, 2, 2, 0, 1, 1, 1, 1, 1, 2], [0, 1, 1, 2, 2, 2, 2, 2, 2, 2], [2, 2, 2, 0, 1, 1, 1, 1, 1, 1, 2, 2, 2], [2, 2, 2, 2, 2, 2, 0, 1, 1, 2, 2, 2, 2], [2, 2, 2, 0, 1, 1, 1, 2, 2, 2, 2], [0, 1, 2, 2, 2, 2, 2, 2], [2, 2, 2, 2, 2, 2, 2, 2, 0, 1, 1, 1, 1, 1, 1, 2], [0, 1, 1, 1, 1, 2, 2, 2, 2, 2, 2, 2, 2, 2, 2], [2, 2, 0, 1, 1, 1, 1, 1, 2, 2, 2, 2, 2, 2], [2, 2, 2, 2, 2, 2, 2, 0, 1, 1, 1, 2], [0, 1, 2, 2, 2, 2, 2, 2, 2, 2, 2, 2, 2], [2, 2, 2, 2, 2, 2, 2, 0, 1, 1, 1, 1, 1, 1, 1, 1, 1, 1, 2, 2], [2, 0, 1, 1, 1, 1, 1, 1, 1, 2, 2, 2, 2, 2, 2, 2, 2, 0, 1, 1, 1, 1, 1], [2, 2, 0, 1, 1, 2, 2, 2, 2, 2, 2], [0, 1, 1, 1, 1, 1, 2, 2, 2, 2, 2, 2, 2, 2, 2], [0, 1, 1, 1, 2, 2, 2, 2, 2, 2, 2, 2, 2, 2, 2, 2, 2, 2, 2, 2], [2, 0, 1, 1, 1, 1, 1, 1, 1, 1, 1, 1, 1, 1, 1], [2, 2, 0, 1, 2, 2, 2, 2, 2, 2, 2, 2, 2, 2, 2], [0, 1, 1, 2, 2, 2, 2, 2, 2, 2, 2, 2, 2], [0, 1, 2, 2, 2, 2, 2, 2, 2, 2], [2, 2, 2, 0, 1, 1, 2, 2, 2, 2, 2, 2, 2, 2], [2, 2, 0, 1, 1, 1, 1, 1, 1, 1, 2, 2, 2, 2, 2, 2, 2, 2, 2], [2, 2, 2, 2, 2, 2, 2, 2, 0, 1, 1, 1, 1, 1, 1, 1, 1, 1, 2, 0, 1], [0, 1, 1, 1, 1, 2, 2, 2, 2, 2, 2, 2, 2, 2, 2], [2, 2, 2, 2, 2, 2, 2, 0, 1, 1, 1, 1, 1, 1, 1, 1, 1, 1, 1, 1, 1, 1], [0, 1, 2, 2, 2, 2, 2, 2, 2, 2, 0, 1, 1, 1, 2, 2, 2, 2], [2, 0, 1, 2, 2, 2, 2, 2, 2, 2, 2, 2, 2, 2], [2, 0, 1, 1, 1, 2, 2, 2, 2, 2, 2, 2], [2, 2, 0, 1, 1, 1, 1, 2, 2, 0, 1, 1, 1, 1, 1, 1, 1], [2, 2, 2, 0, 1, 2, 2, 2, 0, 1, 1, 1], [2, 2, 2, 2, 2, 0, 1, 1, 1, 2, 0, 2, 2, 2, 2, 2, 2], [2, 0, 1, 1, 1, 2, 2, 2, 2, 2, 2, 2, 2, 2, 2, 2], [2, 2, 2, 0, 1, 1, 1, 1, 1, 2, 2, 2, 2, 2, 2], [2, 2, 2, 0, 1, 1, 2, 0, 1, 1, 1, 1, 1, 1, 1], [2, 0, 1, 1, 2, 2, 2, 2, 2, 2, 2, 2, 2, 2, 2, 2], [2, 0, 1, 1, 1, 1, 1, 1, 1, 1, 1, 1, 1, 1], [2, 2, 2, 0, 1, 1, 2, 2, 2, 2, 2, 2], [2, 2, 2, 2, 2, 0, 1, 1, 1, 1, 2, 2, 2, 2, 2, 2], [0, 1, 1, 1, 2, 2, 2, 2, 2, 2, 2, 2, 2, 2], [2, 2, 2, 2, 2, 2, 2, 2, 2, 0, 1, 1, 1, 2, 2], [2, 0, 1, 1, 2, 2, 2, 2, 2, 2, 2], [2, 2, 2, 0, 1, 1, 2, 2, 2, 2, 2, 2], [2, 2, 2, 2, 2, 2, 2, 2, 2, 2, 2, 0, 1, 1, 1, 1, 1, 2], [0, 1, 1, 1, 2, 2, 2, 2, 2, 2, 2, 2], [2, 0, 1, 1, 2, 2, 2, 2, 2, 2, 2, 2, 2, 2, 2], [2, 2, 2, 2, 0, 1, 1, 2, 2, 2, 2, 2], [0, 1, 2, 2, 2, 2, 2, 2, 2], [0, 1, 1, 1, 1, 1, 2, 0, 1, 2, 2, 2, 2, 2], [2, 2, 2, 0, 1, 1, 1, 1, 1, 1, 1, 1, 1, 1, 1], [2, 0, 1, 1, 1, 1, 1, 1, 1, 2, 2, 2, 2, 2, 2, 2, 2, 2, 2], [2, 0, 1, 1, 1, 2, 2, 2, 2, 2, 2], [2, 2, 2, 2, 2, 0, 1, 1, 2, 2], [2, 2, 2, 2, 2, 2, 2, 0, 1, 1, 2, 2, 2, 2], [2, 2, 2, 2, 2, 2, 2, 0, 1, 1, 1, 2], [0, 1, 1, 1, 1, 1, 1, 2, 2, 2, 2, 2, 2, 2, 2, 2, 2, 2], [2, 2, 2, 2, 2, 2, 0, 1, 1, 1, 1, 1, 1, 1, 1, 2], [2, 2, 2, 0, 1, 2, 2, 2, 2, 2], [2, 2, 2, 0, 1, 1, 1, 2, 2, 2], [2, 2, 2, 2, 0, 1, 1, 1, 1, 1, 1, 1, 2], [0, 1, 1, 1, 1, 2, 2, 0, 1, 2, 2, 0, 1, 1, 1, 1, 2, 0], [2, 0, 1, 1, 1, 1, 1, 1, 1, 1, 1, 1, 1, 1, 1, 1, 2, 2, 2, 2, 0, 2], [2, 0, 1, 1, 1, 1, 1, 1, 1, 1, 1, 1, 1, 1, 1, 1], [0, 1, 1, 2, 2, 2, 2, 2], [2, 2, 2, 0, 1, 1, 1, 2], [0, 1, 1, 1, 1, 1, 1, 1, 1, 1, 1, 1, 1, 1], [0, 1, 1, 1, 1, 1, 1, 1, 1, 1, 1, 1, 2], [2, 2, 2, 0, 1, 2, 2, 2, 2, 2, 2, 2, 2], [0, 1, 1, 2, 2, 2, 2, 2, 2, 2, 2, 2], [2, 2, 0, 1, 1, 1, 1, 1, 1, 1, 1, 2, 2, 2, 2, 2], [0, 1, 2, 2, 2, 2, 2, 2, 2, 2, 2, 2], [2, 0, 1, 2, 2, 2, 2, 2, 2, 2, 2], [2, 0, 1, 1, 2, 2, 2, 2, 2, 2, 2], [0, 1, 1, 1, 1, 2, 2, 2, 2, 2, 2, 2], [2, 0, 1, 1, 1, 2, 2, 2, 2, 2, 2, 2, 2], [0, 1, 1, 1, 2, 2, 2, 2, 2, 2, 2, 2, 2], [2, 2, 2, 2, 2, 2, 0, 1, 1, 1, 2, 2, 2, 2], [2, 2, 2, 2, 2, 2, 0, 1, 1, 1, 1, 1, 2, 2], [2, 0, 1, 1, 1, 2, 2, 2, 2, 2, 2, 2, 2, 2], [2, 2, 2, 2, 0, 1, 2, 2, 2], [2, 2, 0, 1, 1, 1, 2, 2, 2, 2, 2, 2], [2, 2, 2, 2, 2, 2, 0, 1, 1, 2, 2, 2, 2], [2, 2, 2, 2, 2, 0, 1, 1, 2, 2, 2], [0, 1, 1, 1, 2, 2, 2, 2, 2, 2, 2, 2], [2, 2, 0, 1, 2, 2, 2], [2, 2, 2, 2, 2, 2, 2, 2, 0, 1, 1, 1, 1, 1, 2], [0, 1, 1, 1, 1, 2, 2, 0], [2, 2, 0, 2, 2, 0, 2], [2, 2, 2, 0, 1, 1, 1, 1, 1, 1, 1], [0, 1, 1, 1, 2, 2, 2, 2, 2], [2, 0, 1, 1, 2, 2, 2, 2], [2, 2, 2, 2, 2, 0, 1, 1, 1, 1, 2, 2], [2, 2, 0, 1, 1, 1, 1, 2, 0, 1, 1, 1], [2, 2, 2, 2, 2, 2, 0, 1, 1, 1, 1, 1, 1, 1, 1, 1, 1, 1, 1, 2, 2, 2, 2], [2, 2, 2, 0, 1, 1, 1, 1, 1, 1, 1, 1, 1, 1, 2, 2, 2, 2], [0, 1, 1, 1, 2, 2, 2, 2, 2], [2, 2, 2, 2, 0, 1, 1, 1, 2, 0], [0, 1, 1, 2, 2, 2, 2, 2, 2, 2, 2], [2, 2, 2, 0, 1, 1, 1, 1, 1, 1, 2], [2, 0, 1, 1, 2, 2, 2, 2, 2, 2], [2, 2, 2, 0, 1, 1, 2, 2, 2, 2, 2, 2, 2, 2], [0, 1, 1, 2, 2, 2, 2, 2, 2, 2], [2, 2, 0, 1, 1, 2, 2, 2, 2, 2], [0, 1, 1, 1, 1, 1, 1, 1, 1, 1, 2, 2, 2, 2, 2, 2, 2, 2, 2], [0, 1, 1, 1, 1, 1, 1, 1, 1, 1], [2, 2, 2, 2, 2, 2, 2, 2, 2, 2, 0, 1, 1, 1, 1, 2], [2, 2, 2, 2, 2, 2, 2, 2, 2, 2, 0, 1, 1, 1, 2], [2, 2, 2, 2, 0, 1, 1, 2, 0, 1], [2, 2, 0, 1, 2, 2, 2, 2, 2, 2, 2, 2], [0, 1, 1, 2, 2, 2, 2, 2, 2, 2], [0, 1, 1, 2, 2, 2, 2, 2], [0, 1, 1, 1, 1, 1, 1, 1, 1, 1, 1, 1, 1], [2, 2, 0, 1, 1, 1, 2, 2, 2, 2], [0, 1, 1, 1, 1, 1, 2, 2, 2, 2, 2, 2, 2, 2, 2, 2, 2], [2, 2, 2, 2, 2, 2, 0, 1, 1, 1, 1, 1, 1, 2], [0, 1, 1, 1, 2, 2, 2, 2, 2, 2, 2, 2, 2], [2, 2, 2, 2, 2, 2, 2, 0, 1, 1, 1, 1, 1, 2], [0, 1, 1, 1, 1, 1, 1, 2, 2], [0, 1, 2, 2, 2, 2, 2, 2, 2], [2, 2, 0, 1, 1, 1, 1, 1, 1, 1, 1, 1, 1], [2, 0, 1, 1, 1, 1, 1, 2, 2, 2, 2, 2, 2, 2], [2, 2, 2, 2, 2, 2, 0, 1, 1, 1, 1, 1, 1, 1], [2, 2, 2, 2, 2, 0, 1, 1, 2], [0, 1, 1, 2, 2, 2, 2, 2, 2, 2, 2], [0, 1, 1, 1, 2, 2, 2, 2, 2, 2, 2], [2, 2, 2, 2, 0, 1, 1, 1, 1, 1, 1, 1, 1, 1, 1, 1, 2, 0, 1], [0, 1, 1, 1, 1, 1, 2, 2, 0, 1, 1, 1], [2, 0, 1, 1, 1, 2, 2, 2, 2, 2], [2, 2, 2, 2, 2, 0, 1, 1, 1, 1, 1, 2, 2], [2, 2, 2, 2, 2, 2, 2, 2, 0, 1, 1, 1, 2, 2, 2, 2, 2], [2, 0, 1, 1, 1, 1, 1, 2, 2, 2, 2, 2, 2], [2, 2, 2, 0, 1, 1, 1, 1, 1, 1, 1, 1, 1, 1, 1, 1, 1], [2, 2, 2, 2, 0, 1, 2, 0, 1, 1, 1, 1, 2, 2, 0], [0, 1, 1, 1, 2, 2, 2, 2, 2, 2, 2, 2], [2, 2, 2, 2, 2, 2, 0, 1, 1, 1, 2, 0, 1, 2, 2, 2, 2, 2], [0, 1, 1, 2, 2, 2, 2, 2, 2, 2, 2], [0, 1, 1, 1, 1, 1, 2, 2, 2, 2, 2, 2, 2, 2, 2, 2], [0, 1, 1, 1, 1, 1, 2, 0, 1, 1, 1, 1, 1, 1, 1], [2, 0, 1, 1, 1, 1, 1, 1, 2, 2, 2, 2, 2, 2, 2, 2, 2, 0], [2, 2, 0, 1, 2, 2, 2, 2], [2, 2, 2, 2, 2, 2, 0, 1, 1, 1, 1, 1, 2], [2, 2, 2, 2, 2, 2, 2, 2, 0, 1, 1, 1, 1, 1, 2], [2, 2, 2, 2, 2, 2, 2, 0, 1, 1, 2], [0, 1, 1, 1, 1, 1, 2, 2, 2, 2, 2, 2, 2, 2], [2, 2, 2, 2, 0, 1, 1, 2, 2, 2, 2], [0, 1, 1, 1, 2, 2, 2, 2, 2, 2, 2, 2, 2, 2, 2], [2, 2, 0, 1, 1, 1, 1, 1, 2, 2], [2, 2, 2, 2, 0, 1, 1, 2, 2, 2, 2], [2, 2, 2, 2, 2, 2, 0, 1, 1, 2, 2, 2, 2, 2, 2, 2, 2, 2, 2], [2, 0, 1, 1, 2, 2, 2, 2, 2, 2, 2], [2, 2, 2, 2, 0, 1, 1, 1, 1, 1, 1, 1, 1, 1, 1], [0, 1, 1, 1, 1, 1, 1, 2, 2, 2, 2, 2, 2], [2, 2, 2, 2, 0, 1, 1, 1, 1, 1, 1, 1, 1, 1, 1, 1, 2, 2], [0, 1, 1, 2, 2, 2, 2, 2, 2, 2, 2, 2, 2], [2, 0, 1, 1, 2, 2, 2, 2, 2, 2], [2, 2, 2, 2, 2, 0, 1, 1, 1, 1, 1, 1, 1, 1, 1, 2, 2, 2, 2, 2, 2], [2, 2, 2, 2, 2, 2, 0, 1, 1, 1, 1, 2], [0, 1, 1, 1, 1, 1, 1, 2, 2, 2, 2, 2, 2, 2, 2, 0, 1, 2], [2, 2, 2, 2, 2, 2, 2, 0, 1, 1, 1, 1, 1, 2, 0], [0, 1, 1, 1, 1, 2, 2, 2, 2, 2, 2], [0, 1, 2, 2, 2, 2, 2, 2, 2, 2], [2, 0, 1, 1, 1, 1, 1, 1, 2, 2, 2, 2], [2, 2, 0, 1, 1, 1, 1, 2, 2, 2, 2, 2, 2, 2, 2, 2, 2, 2, 2], [2, 2, 2, 2, 2, 2, 2, 0, 1, 1, 1, 1, 1, 1, 1, 1, 1, 1, 1, 1, 2, 2, 2, 2], [2, 2, 0, 1, 1, 2, 2, 2, 2, 2], [2, 2, 2, 0, 1, 1, 1, 1, 1, 1, 1, 1, 2, 0, 1, 1, 1, 2, 2, 0], [0, 1, 1, 1, 1, 2, 2, 2, 2, 2, 2], [2, 2, 2, 0, 1, 2, 2, 2, 2], [0, 1, 1, 1, 2, 2, 2, 2, 2, 2], [2, 2, 2, 2, 2, 2, 2, 2, 2, 2, 0, 1, 1, 2], [2, 2, 2, 2, 2, 0, 1, 1, 2], [2, 2, 2, 0, 1, 2, 2, 2], [2, 2, 2, 0, 1, 1, 1, 2, 2, 2, 2], [2, 2, 2, 2, 2, 0, 1, 1, 1, 1, 1, 1, 1, 1, 2], [0, 1, 1, 2, 2, 2, 2, 2, 2], [2, 2, 2, 0, 1, 1, 1, 1, 1, 2, 2, 2], [2, 2, 2, 0, 1, 2, 2, 2, 2], [2, 2, 2, 2, 2, 2, 0, 1, 1, 1, 1, 1, 1, 1, 2, 2, 2, 2], [2, 2, 0, 1, 1, 1, 2, 2, 2, 2, 2, 2], [2, 2, 2, 0, 1, 1, 1, 1, 1, 1, 2, 2, 2, 2, 2, 2, 2, 2, 2, 2, 2], [0, 1, 1, 2, 2, 2, 2, 2, 2, 2, 2], [2, 2, 2, 2, 2, 2, 0, 1, 1, 2], [2, 2, 2, 2, 2, 2, 0, 1, 1, 1, 1, 1, 1, 2, 2, 0], [0, 1, 1, 2, 2, 2, 2, 2, 2, 2, 2], [2, 2, 2, 2, 2, 2, 2, 2, 2, 2, 2, 2, 0, 1, 1, 2], [2, 2, 2, 2, 2, 2, 2, 2, 0, 1, 1, 1, 1, 1, 1, 2], [2, 0, 1, 1, 1, 1, 1, 1, 1, 2, 2, 2, 2, 2, 2], [0, 1, 1, 1, 2, 2, 2, 2, 2, 2], [2, 0, 1, 1, 2, 2, 2], [2, 2, 2, 2, 2, 2, 0, 1, 1, 1, 1, 1, 2, 2], [2, 2, 2, 2, 2, 0, 1, 1, 1, 1, 1, 1, 1, 1, 1, 1, 1], [2, 2, 2, 2, 2, 2, 0, 1, 1, 1, 1, 2], [2, 2, 2, 2, 0, 1, 1, 1, 2, 2, 0, 2], [2, 0, 1, 1, 1, 2, 2, 2, 2, 2, 2, 2, 2], [2, 0, 1, 1, 2, 2, 2, 2, 2], [2, 0, 1, 1, 1, 2, 2, 2, 2, 2], [0, 1, 1, 1, 1, 1, 1, 1, 1, 1, 1, 1, 1, 1, 1, 1], [0, 1, 1, 1, 1, 1, 2, 2, 2, 2, 2, 2, 2, 2, 2], [2, 2, 2, 0, 1, 1, 1, 1, 1, 1, 1, 1, 1, 1, 2], [2, 2, 2, 0, 1, 1, 1, 1, 1, 1, 1, 2, 2, 2, 2, 2, 2, 2], [2, 2, 2, 2, 0, 1, 1, 1, 1, 2, 2, 2], [2, 2, 2, 2, 0, 1, 2, 2, 2, 2, 0, 1, 1, 2, 2, 2], [0, 1, 1, 1, 2, 2, 2, 2, 2, 2, 2, 2, 2], [2, 2, 2, 0, 1, 2, 2, 2, 2, 2, 2, 2, 2, 2, 2], [0, 1, 1, 2, 2, 2, 2, 2, 2, 2, 2, 2, 2, 2, 2], [2, 0, 1, 1, 1, 1, 1, 2, 2, 2, 2, 2, 2], [0, 1, 2, 2, 2, 2, 0, 2, 2, 2, 2, 2, 2, 2], [0, 1, 1, 1, 2, 2, 2, 2, 2, 2], [0, 1, 1, 1, 2, 2, 2, 2, 2, 2, 2, 2, 2], [2, 2, 2, 2, 2, 2, 2, 2, 2, 0, 1, 1, 1, 1, 1, 2, 2, 2, 2, 2, 2, 2], [2, 2, 2, 2, 2, 0, 1, 2, 2, 2, 2, 2, 2], [2, 2, 0, 1, 1, 2, 2, 2, 2, 2, 2, 2, 2, 2, 2, 2], [2, 2, 2, 0, 1, 1, 1, 1, 2, 2, 2], [0, 1, 1, 2, 2, 2, 2, 2, 2, 2, 2], [2, 2, 2, 2, 2, 0, 1, 1, 1, 1, 1, 1, 1, 2, 2, 2, 2, 2, 2, 2, 2, 2, 2, 2, 2], [2, 2, 2, 2, 2, 2, 2, 0, 1, 1, 2], [2, 0, 1, 1, 2, 2, 2, 2, 2, 2, 2, 2, 2], [2, 2, 0, 1, 1, 2, 2, 2, 2, 2], [2, 2, 0, 1, 2, 2, 2, 2, 2, 2, 2, 2], [2, 2, 0, 1, 1, 2, 2, 2, 2, 2, 2], [0, 1, 1, 1, 1, 1, 1, 1, 1, 1, 1, 1], [2, 2, 2, 2, 2, 0, 1, 1, 1, 2, 2, 2, 2, 2], [0, 1, 1, 1, 2, 2, 2, 2, 2, 2, 2], [2, 2, 2, 2, 2, 2, 0, 1, 1, 1, 1, 1, 2, 2, 2, 2], [0, 1, 1, 2, 2, 2, 2, 2, 2, 2, 2], [2, 2, 2, 0, 1, 2, 2, 2, 2, 2, 2, 2], [2, 0, 1, 1, 1, 1, 1, 1, 1, 1, 2, 0, 1], [2, 2, 2, 2, 2, 2, 2, 0, 1, 1, 1, 1, 2], [2, 0, 1, 1, 1, 2, 2, 2, 0, 1, 1, 1, 1], [2, 0, 1, 1, 1, 1, 1, 2, 2, 0, 1, 1, 1, 1, 1, 1, 1], [0, 1, 1, 1, 1, 1, 1, 1, 1, 1, 1, 1, 1, 1, 1, 1, 1, 1, 1, 1, 1, 1, 1, 1, 1, 1], [0, 1, 1, 1, 1, 2, 2, 2, 2, 2, 2, 2], [2, 2, 2, 2, 2, 2, 2, 2, 0, 1, 1, 1, 1, 1, 2], [0, 1, 1, 2, 2, 2, 2, 2, 2, 2, 2, 2, 2], [0, 1, 1, 1, 2, 2, 2, 2, 2, 2, 2, 2, 2], [0, 1, 1, 1, 2, 2, 2, 2, 2, 2, 2, 2, 2, 2, 2, 2, 2], [2, 2, 2, 0, 1, 1, 2, 2, 2, 2, 2, 2], [2, 2, 2, 2, 2, 2, 2, 2, 2, 2, 0, 1, 1, 1, 2, 0, 1], [0, 1, 1, 2, 2, 2, 2, 2, 2, 2, 2, 2, 2], [2, 2, 2, 2, 2, 2, 2, 0, 1, 1, 1, 1, 1, 1, 1, 2], [2, 2, 0, 1, 1, 1, 1, 1, 1, 1, 1, 1, 1, 2, 2, 2, 2, 2, 2, 2, 2], [0, 1, 1, 1, 1, 1, 2, 2, 2, 2, 2, 2, 2, 2, 2], [2, 2, 2, 2, 2, 2, 2, 0, 1, 1, 2, 2, 2, 2], [0, 1, 1, 2, 2, 2, 2, 2, 2, 2, 2, 2, 2, 2], [0, 1, 1, 1, 2, 2, 2, 2, 2, 2, 2, 2, 2, 2], [0, 1, 1, 1, 1, 2, 2, 2, 2, 2, 2, 2, 2, 2, 2], [2, 2, 2, 2, 2, 2, 0, 1, 1, 1, 1, 2, 2, 0, 1], [2, 2, 2, 2, 2, 2, 2, 2, 2, 2, 2, 2, 0, 1, 2], [2, 0, 1, 2, 0, 1, 1, 1, 1, 1, 1, 1, 1, 1, 1, 1], [0, 1, 1, 2, 0, 1, 2, 2, 2, 2, 2, 2, 2, 2, 2, 2, 2, 2], [2, 2, 0, 1, 1, 2, 2, 2, 2, 2, 2, 2], [2, 2, 2, 2, 2, 2, 2, 2, 2, 0, 1, 1, 1, 1, 1, 2], [2, 2, 2, 2, 2, 2, 2, 2, 0, 1, 1, 2], [0, 1, 1, 1, 1, 1, 1, 1, 1, 1, 1, 1, 1, 1, 1, 2, 2, 2, 0, 1, 1, 2, 2, 2, 2, 2, 2], [0, 1, 1, 1, 1, 1, 1, 1, 1, 1, 1, 1, 1, 1, 1, 2, 2, 0], [2, 0, 1, 1, 1, 2, 2, 2, 2, 2, 2, 2, 2], [0, 1, 1, 2, 2, 2, 2, 2, 2, 2, 2], [2, 2, 0, 1, 1, 1, 2, 2, 2, 2, 2, 2, 2, 2], [2, 2, 2, 2, 2, 2, 2, 2, 2, 0, 1, 1, 1, 2], [2, 2, 2, 0, 1, 1, 1, 1, 1, 1, 1, 1, 1, 1, 1, 1, 1, 1], [2, 2, 2, 2, 2, 2, 2, 2, 0, 1, 1, 1, 1, 1, 2], [2, 2, 2, 2, 2, 2, 2, 2, 2, 2, 0, 1, 1, 2, 2, 2, 2], [2, 2, 2, 2, 2, 2, 0, 1, 1, 1, 1, 1, 2, 2, 2], [0, 1, 1, 1, 1, 1, 1, 2, 2, 2, 2, 2], [0, 1, 1, 1, 1, 1, 1, 1, 1, 1, 1, 2, 0, 1, 1, 1, 1], [0, 1, 1, 1, 2, 2, 2, 2, 2, 2, 2], [0, 1, 2, 2, 2, 2, 2, 2, 2], [0, 1, 1, 1, 1, 1, 1, 1, 1, 1, 1, 1, 1, 1], [2, 2, 0, 1, 1, 2, 2, 2, 2], [2, 2, 2, 0, 1, 2, 2, 2, 2, 2, 2, 2, 2], [2, 0, 1, 2, 2, 2, 2, 2, 2], [2, 0, 1, 1, 2, 2, 2, 2, 2, 2, 2], [2, 0, 1, 1, 1, 1, 2, 2, 2, 2, 2, 2], [0, 1, 1, 1, 1, 2, 2, 2, 2, 2, 2], [0, 1, 1, 2, 2, 2, 2, 2, 2, 2, 2, 2, 2], [2, 0, 1, 1, 2, 2, 2, 2, 2, 2, 2, 2, 2], [2, 0, 1, 1, 1, 2, 2, 2, 0, 1, 1], [2, 2, 0, 1, 1, 1, 1, 1, 2, 2, 2, 2, 2, 2], [0, 1, 1, 1, 1, 2, 2, 2, 2, 2, 2, 2, 2, 2, 2, 2], [0, 1, 1, 1, 2, 2, 2, 2, 2, 2, 2, 2, 2, 2], [2, 2, 2, 2, 2, 2, 2, 2, 2, 0, 1, 1, 1, 1, 2], [2, 2, 0, 1, 1, 2, 2, 2, 2, 2, 2], [0, 1, 1, 2, 2, 2, 2, 0, 1, 1, 1, 1, 1, 1], [2, 2, 2, 2, 2, 2, 2, 2, 2, 2, 0, 1, 1, 2, 2], [2, 2, 0, 1, 1, 1, 1, 1, 1, 1, 1], [2, 2, 2, 0, 1, 1, 1, 2, 2, 2, 2, 2, 2, 2], [2, 2, 0, 1, 1, 1, 1, 1, 1, 1, 1, 1, 1, 1, 1], [2, 2, 2, 2, 2, 2, 2, 0, 1, 1, 2, 2, 2, 2], [2, 2, 2, 2, 2, 0, 1, 2, 2, 2, 2], [2, 2, 2, 0, 1, 1, 1, 1, 2, 2, 2, 2, 2, 2], [2, 2, 2, 2, 2, 2, 2, 2, 0, 1, 1, 2, 2], [2, 0, 1, 1, 1, 1, 1, 1, 1, 1, 1, 1, 1, 1, 2, 2, 2, 2, 2, 2], [2, 2, 2, 2, 2, 2, 2, 0, 1, 1, 1, 1, 1, 1, 2, 2, 2, 2], [2, 2, 2, 2, 2, 0, 1, 1, 1, 1, 1, 2, 2, 2, 2], [0, 1, 1, 2, 2, 2, 0, 1, 1, 1, 1], [0, 1, 1, 2, 2, 2, 2, 2, 2, 2, 2, 2, 2, 2], [0, 1, 2, 2, 2, 2, 2, 2, 2], [2, 0, 1, 1, 1, 1, 1, 1, 1, 2, 2, 0], [0, 1, 1, 1, 1, 1, 1, 1, 2, 2, 0, 1, 1], [0, 1, 1, 2, 2, 2, 2, 2, 2], [2, 2, 0, 2, 0, 1, 1, 1, 1, 1, 1, 2, 2, 2, 2], [2, 0, 1, 1, 1, 1, 1, 1, 1, 1, 2, 2, 0], [2, 2, 2, 2, 2, 2, 0, 1, 2], [0, 1, 1, 2, 2, 2, 2, 2, 2, 2, 2], [0, 1, 1, 1, 1, 2, 2, 2, 2, 2, 2, 2, 2], [2, 2, 2, 2, 2, 2, 2, 2, 2, 0, 1, 1, 2], [2, 2, 2, 2, 2, 0, 1, 1, 1, 1, 1, 1, 1, 1, 1, 1, 1, 2, 2, 2, 2, 2], [2, 2, 2, 2, 2, 2, 2, 2, 2, 2, 2, 2, 0, 1, 1, 1, 1, 1, 2, 2, 2, 2], [0, 1, 1, 2, 2, 2, 2, 2, 2], [2, 2, 2, 0, 1, 1, 1, 1, 1, 1, 1, 1, 2, 0], [2, 2, 2, 2, 2, 2, 0, 1, 1, 1, 1, 1, 2], [2, 0, 1, 2, 2, 2, 2, 2, 2], [2, 0, 1, 1, 1, 1, 1, 1, 1, 1, 1, 1, 1, 1, 1, 2, 0, 1, 2], [0, 1, 1, 1, 1, 1, 1, 1, 1, 1, 1, 1, 1, 1, 1], [2, 2, 2, 0, 1, 1, 1, 1, 1, 2, 0], [2, 2, 2, 2, 0, 1, 1, 2, 2, 2, 2], [0, 1, 2, 2, 2, 2, 2, 2, 2], [0, 1, 1, 1, 1, 1, 1, 1, 1, 1, 1, 1, 1, 1, 1, 1, 1, 1, 1, 1, 1, 1], [0, 1, 1, 1, 1, 1, 1, 1, 1, 1, 1, 1, 1, 1, 1, 1, 1, 2, 2, 2, 0], [2, 2, 0, 1, 1, 1, 2, 2, 2, 2, 2, 2, 2, 2], [2, 2, 0, 1, 1, 1, 1, 2, 0, 1, 1, 1, 1, 1], [0, 1, 1, 1, 1, 1, 1, 1, 1, 1, 2, 2, 2, 2, 2, 2, 2, 2, 2, 2, 2], [0, 1, 1, 1, 2, 2, 2, 2, 2, 2, 2, 2, 2, 2], [2, 2, 0, 1, 1, 1, 1, 1, 1, 1, 2, 2, 2, 2], [2, 2, 2, 2, 2, 2, 2, 2, 2, 0, 1, 1, 1, 2], [0, 1, 2, 2, 2, 2, 2, 2, 2, 2, 2, 2], [2, 2, 2, 2, 2, 0, 1, 1, 1, 2, 2, 2], [0, 2, 0, 1, 1, 2, 2, 2, 2, 2, 2], [0, 1, 1, 1, 1, 1, 2, 2, 2, 2, 2], [2, 0, 1, 1, 1, 1, 1, 1, 1, 1, 1, 1, 1, 1, 1, 1, 1, 2, 2, 2, 0, 1, 1, 1, 1, 1, 2, 2], [2, 2, 2, 2, 2, 2, 2, 2, 0, 1, 1, 1, 2], [0, 1, 1, 1, 2, 2, 2, 2, 2, 2, 2], [0, 1, 1, 2, 2, 2, 2, 2, 2, 2, 2, 2, 2], [0, 1, 1, 2, 2, 2, 2, 2, 2, 2, 2, 2, 2, 2, 2], [0, 1, 1, 1, 1, 1, 1, 2, 2, 2, 2, 2, 2, 2], [2, 2, 2, 2, 2, 2, 2, 2, 0, 1, 1, 1, 1, 1, 2, 2], [2, 2, 2, 2, 2, 2, 0, 1, 1, 1, 1, 1, 1, 1, 2, 2, 2, 2, 2, 2, 2], [0, 1, 1, 1, 2, 2, 2, 2, 2, 2, 2, 2, 2], [0, 1, 1, 1, 2, 2, 2, 2, 2, 2, 0, 1, 1, 1, 1, 1, 1, 2], [0, 1, 1, 1, 1, 1], [2, 2, 2, 2, 2, 2, 0, 1, 1, 1, 2, 2], [0, 1, 1, 1, 2, 2, 2, 2, 0, 1, 1, 1, 1, 1, 1, 1, 1, 1, 1], [2, 2, 2, 0, 1, 1, 2, 2, 2, 2], [2, 0, 1, 1, 2, 2, 2, 2, 2, 2, 2, 2, 2], [0, 1, 1, 1, 1, 1, 1, 1, 2, 2, 0, 1, 1], [0, 1, 1, 2, 2, 2, 2, 2, 2, 2, 2], [2, 2, 2, 2, 2, 2, 2, 2, 2, 2, 0, 1, 1, 1, 1, 2, 2, 2], [0, 1, 1, 1, 1, 1, 1, 1, 1, 1, 1, 1, 1, 1, 1, 1, 1, 1, 1], [2, 2, 2, 2, 2, 2, 2, 2, 2, 2, 2, 0, 1, 2, 2, 2], [2, 0, 1, 1, 1, 1, 1, 1, 2, 2, 0, 1, 1], [2, 2, 2, 2, 2, 0, 1, 1, 1, 2, 2, 2, 2, 2, 2, 2, 2], [0, 1, 1, 1, 2, 2, 2, 2, 2, 2, 2, 2, 2, 2, 2, 2], [2, 0, 1, 1, 2, 2, 2, 2, 2, 2, 2, 2, 2, 2], [2, 2, 2, 2, 2, 2, 2, 2, 2, 2, 2, 2, 2], [0, 1, 1, 1, 1, 1, 2, 2, 2, 2, 2, 2, 2, 2], [0, 1, 1, 1, 2, 0, 2, 2, 2, 2, 0, 1, 1], [0, 1, 1, 1, 2, 0, 1, 2, 0, 1, 2, 0, 1, 1, 1, 1, 1, 1], [2, 2, 2, 2, 2, 2, 0, 1, 1, 2, 2, 2, 2, 2], [2, 2, 0, 1, 1, 1, 1, 1, 1, 1, 1, 1, 1, 2, 2], [2, 0, 1, 2, 2, 2, 2, 2, 2, 2], [2, 0, 1, 1, 1, 1, 1, 1, 1, 1, 1], [2, 2, 2, 2, 0, 1, 1, 1, 1, 1, 1, 1, 1, 1, 1, 1, 1, 1, 1, 1, 1, 1, 1, 1, 1, 1, 1, 1, 1, 1], [2, 2, 2, 0, 1, 1, 1, 1, 1, 1, 1, 1, 1, 1, 1, 1, 1, 1, 1, 1, 1, 1, 1, 1, 1, 1, 1, 1, 1, 1, 1, 1, 1], [0, 1, 1, 2, 2, 2, 2, 2, 2, 2, 2], [2, 2, 0, 1, 1, 1, 1, 1, 1, 1, 1, 1, 2, 2], [0, 1, 1, 2, 2, 2, 2, 2, 2], [2, 2, 2, 2, 2, 2, 0, 1, 1, 1, 1, 1, 1, 2, 2, 2], [0, 1, 1, 1, 2, 2, 2, 2, 2, 2, 2, 2, 2, 2, 2, 2], [0, 1, 1, 1, 1, 1, 1, 2, 2, 0, 1, 1, 1, 1, 1, 1, 1], [0, 1, 1, 2, 2, 2, 2, 2, 2, 2, 2, 2, 2], [2, 2, 2, 0, 1, 1, 1, 1, 1, 2, 2, 2, 2], [0, 1, 1, 1, 1, 1, 2, 2, 2, 2, 2, 2, 2, 2, 2, 2, 2, 2, 2, 2], [2, 2, 2, 2, 2, 2, 2, 2, 0, 1, 1, 1, 2, 2, 2, 2], [0, 1, 2, 2, 2, 2, 2, 2], [0, 1, 2, 2, 2, 2, 2], [2, 0, 1, 2, 2, 2, 2, 2], [0, 1, 1, 1, 1, 1, 1, 1, 1, 1, 1], [0, 1, 1, 1, 1, 1, 1, 1, 1, 1, 1, 1], [2, 2, 2, 2, 2, 2, 2, 2, 0, 1, 1, 1, 1, 2], [2, 2, 2, 2, 2, 2, 0, 1, 1, 1, 1, 1, 1, 2], [0, 1, 1, 1, 1, 1, 1, 1, 1, 1, 1, 1, 1, 1, 1, 1, 1, 1, 1], [2, 0, 1, 2, 2, 2, 2, 2], [2, 0, 1, 1, 2, 2, 2, 2, 2, 2, 2, 2], [0, 1, 1, 1, 1, 1, 1, 1, 1, 1], [2, 0, 1, 1, 1, 1, 1, 1, 2, 0, 1, 1], [0, 1, 1, 1, 2, 2, 2, 2, 2, 2, 2, 2], [0, 1, 1, 1, 1, 2, 2, 2, 2, 2, 2, 2, 2, 2, 2], [2, 2, 2, 0, 1, 1, 2, 2, 2], [0, 1, 1, 2, 2, 2, 2, 2, 2, 2, 2, 2], [2, 2, 2, 2, 2, 2, 2, 2, 0, 1, 1, 1, 1, 1, 1, 2, 2, 2], [2, 2, 2, 0, 1, 1, 2, 2, 2, 2, 2, 2, 2], [0, 1, 2, 2, 2, 2, 2, 2], [0, 1, 1, 1, 2, 2, 2, 2, 2, 2], [2, 2, 2, 2, 2, 0, 1, 1, 1, 2, 2, 2, 2, 2, 2, 2, 2], [2, 2, 2, 0, 1, 1, 1, 2, 2, 2, 2, 2, 2], [2, 2, 2, 0, 1, 1, 2, 2, 2], [2, 2, 2, 2, 0, 1, 1, 1, 1, 1, 2, 2, 2], [2, 0, 1, 1, 1, 1, 1, 1, 1, 2, 2, 0, 1], [0, 1, 1, 1, 1, 2, 2, 2, 2, 2, 2, 2, 2, 2, 2, 2, 2, 2], [2, 2, 2, 2, 2, 2, 2, 0, 1, 1, 2], [2, 2, 2, 2, 2, 0, 1, 1, 1, 2, 2], [2, 2, 2, 0, 1, 1, 1, 1, 1, 1, 1, 1, 2], [2, 0, 2, 2, 2, 0, 1, 2, 2, 2, 2, 2, 2], [2, 2, 2, 0, 1, 1, 1, 1, 1, 1, 1, 2, 2], [2, 0, 1, 1, 1, 2, 2, 2, 2, 2, 2, 2, 2, 2], [0, 1, 1, 1, 1, 2, 2, 2, 2, 2, 2, 2, 2, 2, 2], [2, 2, 2, 2, 2, 2, 0, 1, 1, 1, 1, 1, 2, 2, 2, 2], [2, 2, 2, 2, 2, 0, 1, 1, 2, 2, 2], [2, 2, 2, 2, 2, 0, 1, 1, 1, 1, 1, 1, 2], [0, 1, 1, 1, 2, 2, 2, 2, 2, 2, 2, 2, 2, 2], [2, 2, 2, 2, 2, 0, 1, 2, 2, 2, 2, 2], [0, 1, 1, 1, 1, 1, 2, 0, 1, 1, 1, 1, 1, 1, 1, 1, 1], [2, 2, 2, 0, 1, 1, 2, 0, 2, 2, 2, 2, 2], [2, 0, 2, 0, 1, 1, 1, 1, 1, 1, 1, 1, 2, 2, 2, 2], [2, 2, 0, 1, 1, 1, 1, 1, 1, 1, 1, 1, 1, 2], [2, 0, 1, 1, 1, 1, 1, 1, 1, 1, 1, 1, 1, 1, 1], [2, 2, 2, 0, 1, 1, 1, 1, 2, 2, 2, 2, 2], [2, 0, 1, 1, 1, 1, 1, 1, 1, 1, 1, 1, 1, 1, 1, 1, 1, 1, 2, 0, 1, 1, 1, 1, 1, 2], [2, 2, 2, 2, 2, 0, 1, 1, 1, 2, 2, 2, 2], [2, 2, 2, 0, 2, 0, 1, 1, 2, 2], [2, 0, 1, 2, 2, 2, 2, 2, 2, 2, 2, 2], [0, 1, 1, 1, 1, 1, 1, 1, 2, 2, 2], [0, 1, 1, 1, 2, 2, 2, 2, 2, 2, 2, 2, 2, 2, 2], [2, 2, 2, 2, 2, 0, 1, 1, 2, 2, 2, 2, 2, 2, 2, 2, 2], [2, 2, 2, 2, 2, 2, 0, 1, 1, 1, 1, 2, 2], [2, 2, 2, 2, 2, 2, 2, 2, 0, 1, 1, 2], [2, 2, 0, 1, 2, 2, 2, 2, 2, 0, 1, 1, 1, 1, 1, 2], [0, 1, 1, 2, 2, 2, 2, 2, 2, 2, 2, 2], [0, 1, 1, 1, 1, 2, 2, 2, 2, 2, 2, 2, 2, 2, 2, 2, 2, 2, 2], [2, 2, 0, 1, 1, 1, 1, 1, 1, 2, 2, 0, 1, 1], [0, 1, 1, 2, 2, 2, 2, 2, 2, 2], [0, 1, 1, 1, 2, 0, 1, 1, 2, 2, 2, 0, 2, 0, 1, 1], [0, 1, 2, 2, 2, 2, 2], [2, 0, 1, 1, 1, 2, 2, 2, 2, 2, 2, 2], [2, 2, 2, 2, 2, 2, 0, 1, 1, 1, 1, 2, 2, 2, 2, 2, 2, 2, 2], [2, 2, 2, 2, 0, 1, 1, 1, 1, 1, 1, 1, 1, 1, 1, 1, 1, 2, 0, 2], [2, 2, 2, 2, 0, 1, 1, 1, 1, 1, 1, 1, 1, 1, 2, 2, 2], [0, 1, 1, 2, 2, 2, 2, 2, 2, 2, 2], [2, 2, 2, 2, 0, 1, 1, 1, 1, 1, 1, 2, 2, 2, 2, 2], [0, 1, 1, 1, 2, 2, 2, 2, 2, 2, 2, 2, 2], [0, 1, 1, 1, 1, 1, 2, 2, 2, 2, 2, 2, 2, 2], [0, 1, 1, 1, 2, 2, 2, 2, 2, 2, 2, 2, 2, 2, 2], [2, 2, 2, 2, 0, 1, 1, 2, 2, 2, 2, 2], [2, 0, 1, 1, 1, 1, 1, 1, 1, 1, 2, 2, 2, 2, 0, 1, 1, 1], [0, 1, 1, 1, 1, 2, 2, 2, 2, 2, 2, 2, 2, 2, 2, 2], [0, 1, 1, 1, 2, 2, 2, 0, 1, 1, 1, 1], [0, 1, 1, 1, 1, 1, 1, 2, 2, 2, 2, 2, 2, 2, 2, 2], [2, 2, 2, 2, 2, 2, 2, 0, 1, 1, 1, 1, 1, 1, 2, 2], [2, 0, 1, 1, 1, 1, 2, 2, 2, 2, 2, 2, 2], [0, 1, 1, 1, 1, 2, 2, 2, 2, 2, 2, 2, 2], [2, 2, 0, 1, 1, 2, 2, 0, 1, 1, 1, 1, 1, 1], [0, 1, 1, 1, 1, 1, 1, 1, 2, 2, 2, 2, 0, 2, 0], [0, 1, 1, 2, 2, 2, 2], [0, 1, 1, 1, 1, 1, 1, 1, 2, 2], [0, 1, 2, 2, 2, 2, 0, 1, 1, 1, 1, 1, 1, 2], [2, 2, 0, 1, 1, 1, 2, 2, 2, 2, 2, 2, 2, 2, 2, 2, 2, 2], [0, 1, 1, 2, 2, 2, 2, 2, 2, 2, 2, 2], [2, 2, 2, 2, 2, 2, 2, 0, 1, 1, 1, 1, 1, 1, 1, 1, 1, 1, 1, 1, 1, 1, 2, 2, 2], [0, 1, 1, 2, 2, 2, 2, 2, 2, 2, 2, 2, 2], [0, 1, 1, 1, 1, 2, 2, 2, 2, 2], [2, 2, 2, 2, 2, 2, 2, 2, 2, 2, 2, 2, 0, 1, 2, 2, 2, 2, 2], [2, 2, 2, 2, 2, 0, 1, 1, 1, 2, 2, 2, 2, 2, 2, 2], [2, 2, 2, 2, 2, 2, 2, 2, 0, 1, 1, 1, 1, 1, 2, 2], [2, 2, 2, 0, 1, 1, 1, 1, 2, 0, 1, 1, 1, 1, 1, 1, 1, 1], [0, 1, 1, 1, 1, 1, 1, 1, 1, 1, 1, 1], [0, 1, 1, 2, 2, 2, 2, 2, 2, 2, 2, 2, 2], [2, 2, 2, 2, 2, 2, 2, 0, 1, 2, 2], [2, 2, 2, 2, 2, 2, 2, 2, 2, 2, 0, 1, 1, 1, 2, 2], [2, 0, 1, 1, 1, 1, 2, 2, 2, 2, 2], [2, 2, 2, 2, 2, 2, 0, 1, 1, 1, 1, 1, 2, 2, 2, 2], [0, 1, 1, 2, 2, 2, 2, 2, 2, 2, 2], [0, 1, 1, 1, 1, 1, 1, 2, 2, 0, 1, 1, 1, 1, 1], [2, 2, 2, 0, 1, 1, 2, 2, 2, 2], [0, 1, 1, 2, 2, 2, 2, 2, 2, 2, 2, 2], [0, 1, 1, 2, 2, 2, 2, 2, 2, 2, 2], [0, 1, 1, 1, 2, 2, 2, 2, 2, 2, 2, 2, 2, 2], [0, 1, 1, 1, 2, 2, 2, 2, 2, 2, 2, 2, 2, 2, 2, 2, 2, 2, 2], [2, 2, 2, 2, 2, 2, 2, 2, 0, 1, 1, 1, 1, 1, 2, 2, 2, 2], [2, 2, 2, 2, 0, 1, 1, 2, 2, 2, 2, 2, 2, 2], [0, 1, 2, 0, 1, 1, 1, 1, 1, 1, 1, 1, 1, 1, 1, 1, 1], [2, 2, 2, 2, 2, 2, 2, 2, 0, 1, 1, 1, 2], [0, 1, 1, 1, 2, 2, 2, 2, 2, 2, 2, 2, 2, 2], [2, 2, 2, 2, 2, 2, 2, 2, 0, 1, 1, 2, 2, 2], [0, 1, 1, 1, 2, 2, 2, 2, 2, 2, 2], [0, 1, 1, 1, 1, 1, 1, 1, 1, 1, 1, 1, 1, 1, 2, 2], [0, 1, 1, 1, 1, 1, 1, 1, 1, 1, 1, 1, 1, 1, 2, 2, 2, 2, 2, 2, 2, 0, 1, 2, 2, 0, 1, 2, 2], [2, 2, 0, 1, 1, 1, 1, 1, 1, 1, 1, 1, 2, 2, 2, 2, 2, 2, 2, 2, 2], [2, 2, 2, 0, 1, 1, 1, 1, 1, 1, 1, 1, 1, 1, 2, 2, 2, 2, 2], [2, 0, 1, 1, 1, 1, 1, 1, 1, 1, 1], [2, 2, 2, 0, 1, 1, 1, 1, 1, 1, 2, 2, 2, 2, 2, 2, 2], [2, 2, 2, 0, 1, 1, 1, 2, 2, 2, 2], [2, 2, 2, 2, 2, 2, 0, 1, 1, 2], [2, 2, 2, 2, 2, 2, 2, 2, 2, 2, 2, 0, 1, 1, 1, 1, 1, 1, 1, 2, 2, 2], [2, 2, 2, 2, 2, 2, 2, 2, 2, 2, 0, 1, 1, 2, 2, 2, 2], [2, 0, 1, 1, 1, 2, 2, 2, 2, 2, 2], [2, 2, 2, 2, 0, 1, 1, 2, 2, 2, 2, 2, 2, 2, 2], [2, 2, 0, 1, 1, 1, 1, 1, 1, 1, 1, 1, 1, 1, 1, 1, 2], [0, 1, 1, 1, 1, 2, 2, 2, 2, 0, 1, 1, 1, 1], [0, 1, 1, 1, 1, 2, 2, 2, 2, 2, 2, 2, 2], [0, 1, 1, 1, 2, 2, 2, 2, 2, 2, 2, 2, 2, 2, 2], [2, 0, 1, 1, 1, 2, 2, 2, 2, 2, 2, 2, 2, 2], [2, 2, 2, 2, 2, 2, 2, 2, 2, 0, 1, 2], [2, 2, 2, 2, 2, 2, 2, 2, 2, 0, 1, 1, 1, 1, 1, 1, 2], [2, 2, 2, 2, 2, 2, 2, 2, 2, 0, 1, 1, 1, 2], [2, 0, 1, 1, 1, 2, 2, 2, 2, 2, 2, 2, 2, 2, 2, 2, 2], [0, 1, 1, 1, 2, 2, 2, 2, 2, 2, 2, 2, 2], [2, 2, 2, 2, 2, 2, 2, 2, 0, 1, 2, 2, 2], [0, 1, 2, 2, 2, 2, 2, 2, 2, 2, 2, 2, 2], [0, 1, 1, 1, 1, 2, 0, 1, 1, 1, 1, 1, 1, 1, 1, 1, 1, 1, 1, 1, 1], [2, 2, 0, 1, 2, 2, 2, 2, 2, 2, 2], [2, 2, 0, 1, 1, 1, 2, 2, 2, 2, 2, 2, 2, 2, 2, 2], [0, 1, 1, 1, 1, 1, 1, 1, 1, 1, 1, 1, 1], [0, 1, 1, 1, 1, 1, 1, 1, 2, 2, 2, 2, 2, 2, 2, 2, 2, 2], [2, 2, 2, 0, 1, 1, 1, 2, 2], [2, 2, 2, 2, 2, 0, 1, 1, 1, 1, 1, 1, 1, 2, 2], [2, 2, 2, 0, 1, 1, 1, 1, 1, 1, 1, 1, 1, 1, 2, 2, 2], [2, 2, 2, 2, 2, 2, 2, 2, 2, 2, 2, 0, 1, 1, 1, 2, 2], [2, 2, 2, 2, 2, 0, 1, 1, 1, 2, 2, 2, 2, 2, 2], [2, 2, 2, 2, 0, 1, 1, 2], [0, 1, 2, 2, 2, 2, 2, 2, 2, 2], [0, 1, 1, 1, 1, 2, 2, 2, 2, 2, 2, 2, 2, 2], [2, 2, 2, 2, 2, 0, 1, 1, 1, 1, 1, 1, 2], [2, 2, 2, 2, 0, 1, 1, 1, 2, 2, 2, 2, 2, 2, 2], [2, 2, 2, 2, 2, 2, 0, 1, 1, 1, 1, 1, 1, 1, 1], [2, 0, 1, 1, 1, 1, 1, 1, 1, 1, 1, 1, 1, 1], [0, 1, 1, 1, 1, 2, 2, 2, 2, 2, 2, 2, 2, 2, 2, 2, 2], [0, 1, 1, 1, 1, 1, 1, 2, 2, 2, 2, 2, 2, 2], [2, 2, 2, 2, 2, 2, 0, 1, 1, 2, 2], [2, 2, 0, 1, 1, 1, 1, 1, 2, 2, 2, 2, 2, 2, 2, 2], [2, 0, 1, 1, 2, 2, 2, 2, 2, 2], [2, 2, 2, 2, 2, 2, 0, 1, 1, 1, 2], [2, 2, 2, 2, 2, 2, 0, 1, 1, 1, 2], [0, 1, 1, 2, 2, 2, 2, 2, 2, 2, 2, 2, 2], [2, 2, 2, 2, 2, 0, 1, 1, 1, 1], [2, 2, 2, 0, 1, 2, 2, 2, 2, 2, 2, 2], [2, 2, 2, 0, 1, 1, 1, 1, 1, 1, 2], [2, 2, 2, 2, 0, 1, 1, 1, 2, 2, 2, 2, 2], [0, 1, 1, 1, 1, 1, 1, 1, 1, 1, 1, 1, 1, 2, 0, 1], [2, 2, 2, 2, 2, 2, 2, 0, 1, 1, 2, 2, 2, 2, 2], [2, 2, 0, 1, 1, 1, 1, 1, 1, 1, 1, 1, 1, 2, 2, 2, 2], [2, 2, 2, 2, 0, 1, 1, 2, 2, 2, 2, 2], [2, 2, 2, 2, 2, 2, 0, 1, 1, 1, 1, 2], [0, 1, 1, 1, 1, 2, 2, 2, 2, 2, 2, 2, 2, 2, 2, 2, 2, 2, 2], [2, 2, 2, 2, 2, 0, 1, 1, 1, 1, 1, 1, 1, 1, 1, 1, 2, 2, 0, 1], [0, 1, 1, 1, 1, 1, 2, 2, 2, 2, 2, 2, 2, 2, 2, 2], [2, 2, 2, 2, 2, 2, 0, 1, 1, 2, 2, 2], [0, 1, 2, 2, 2, 2, 2, 2, 2], [0, 1, 1, 1, 1, 1, 1, 2, 2, 2, 2, 2], [0, 1, 1, 1, 1, 1, 1, 1, 1, 1, 1, 1, 1, 1], [2, 2, 2, 2, 0, 1, 1, 1, 1, 2, 2, 2, 2, 2, 2, 2], [2, 2, 2, 2, 2, 2, 0, 1, 1, 1, 1, 1, 1, 1, 1, 2, 2], [0, 1, 1, 1, 1, 1, 2, 2, 0, 1, 1, 1, 1, 1, 1, 1, 1, 1, 1], [0, 1, 1, 1, 2, 2, 2, 0, 1, 1, 1, 1, 1], [0, 1, 1, 2, 2, 2, 2, 2, 2, 2], [2, 0, 1, 1, 2, 2, 2, 2, 2, 2, 2, 2], [2, 2, 0, 1, 1, 1, 1, 1, 1, 1, 1, 1, 2], [2, 2, 2, 2, 2, 0, 1, 1, 2, 2, 2, 2], [2, 2, 2, 2, 2, 2, 2, 2, 0, 1, 1, 1, 1, 1, 1], [2, 2, 2, 2, 2, 2, 2, 2, 0, 1, 1, 1, 1, 1, 1, 1, 1, 1, 2], [2, 2, 2, 2, 0, 1, 1, 1, 2, 2, 2, 2, 2], [2, 2, 2, 2, 0, 1, 1, 1, 1, 1, 1, 2, 2, 2, 2, 2, 2, 2, 2, 2, 2, 2, 2, 2], [2, 2, 2, 2, 2, 0, 1, 1, 1, 1, 2, 2, 2, 2, 2, 2, 2, 2], [0, 1, 1, 1, 2, 0, 1, 1, 1, 1, 2, 2, 2, 2], [2, 2, 2, 2, 2, 0, 1, 1, 1, 1, 1, 1, 1, 1, 1, 1, 1, 1, 2, 2, 0, 1], [0, 1, 1, 1, 1, 1, 1, 1, 2, 2, 2, 2, 2, 2, 2, 2, 2, 2], [0, 1, 1, 1, 2, 2, 2, 0, 1, 1, 1], [2, 2, 2, 0, 1, 1, 1, 2, 2, 2, 2, 2], [2, 2, 2, 0, 1, 1, 2, 2, 2, 2, 2, 2, 2, 2], [2, 2, 0, 1, 1, 1, 2, 2, 2, 2, 2, 2, 2, 2, 2, 2], [2, 2, 2, 2, 2, 2, 0, 1, 1, 1, 2, 2, 2, 2, 2, 2, 2, 2, 2], [2, 2, 0, 1, 1, 1, 1, 1, 1, 1, 1, 2, 2, 2, 2, 2, 2, 2], [2, 2, 2, 2, 0, 1, 1, 1, 2, 2, 2, 2, 2], [0, 1, 1, 1, 1, 1, 1, 1, 2, 2, 0], [2, 2, 2, 2, 2, 2, 2, 0, 1, 1, 1, 1, 2, 2], [0, 1, 1, 1, 1, 2, 2, 2, 2, 2, 2, 2], [0, 1, 1, 1, 1, 1, 1, 1, 1, 1], [2, 2, 2, 2, 2, 0, 1, 1, 1, 2, 2], [0, 1, 1, 2, 2, 2, 2, 2, 2, 2, 2, 2, 2], [0, 1, 1, 1, 1, 2, 0, 1, 1, 1, 1, 1], [2, 2, 0, 1, 1, 1, 1, 1, 1, 1, 2], [2, 2, 2, 2, 2, 2, 2, 2, 2, 0, 1, 1, 1, 1, 2, 2], [2, 2, 2, 2, 0, 1, 1, 1, 1, 2, 2], [2, 0, 1, 2, 2, 2, 2, 2, 2, 2, 2, 2], [0, 1, 1, 1, 1, 1, 1, 1, 1, 1, 1, 1, 1, 1, 2, 2, 0, 1], [0, 1, 1, 1, 1, 1, 1, 1, 1, 1, 1, 1, 1, 1, 1, 1, 1, 1], [2, 2, 2, 2, 2, 2, 2, 2, 2, 0, 1, 2], [2, 2, 2, 2, 2, 2, 0, 1, 2, 2, 2], [2, 2, 0, 1, 1, 1, 1, 1, 1, 1, 1, 1, 1, 1, 1, 1, 1, 1, 1, 1, 2, 2, 0, 1, 1, 1, 1, 1], [0, 1, 1, 1, 1, 1, 1, 1, 1, 1, 1, 1, 1, 1, 1, 1, 1, 1, 1, 1], [2, 2, 0, 1, 2, 2, 2, 2], [0, 1, 1, 1, 1, 2, 2, 2, 2, 2, 2, 2], [2, 2, 2, 2, 2, 2, 2, 2, 0, 1, 1, 1, 1, 1, 1, 1, 1, 1, 1], [0, 1, 1, 1, 1, 1, 1, 1, 1, 1, 1, 1, 1], [2, 2, 2, 2, 2, 0, 1, 1, 1, 2, 2, 2, 2, 2], [2, 2, 2, 2, 0, 1, 1, 1, 1, 1, 1, 1, 1, 1, 1, 2, 2, 2], [0, 1, 2, 0, 1, 2, 2, 2, 2, 2, 2, 2, 0, 1, 1, 1], [2, 0, 1, 1, 2, 2, 2, 2, 2, 2, 2, 2, 2], [2, 2, 2, 2, 2, 2, 2, 2, 0, 1, 1, 2], [2, 2, 2, 2, 2, 2, 0, 1, 1, 1, 2], [2, 2, 2, 2, 2, 2, 0, 1, 1, 1, 2, 2, 2, 2, 2, 2], [2, 2, 2, 2, 0, 1, 1, 1, 1, 1, 1, 1, 1, 1, 2, 2, 2, 2, 2], [2, 0, 1, 1, 1, 1, 1, 1, 2, 2, 2, 2, 2, 2, 2, 2], [0, 1, 1, 1, 1, 1, 2, 2, 2, 2, 2, 2, 2, 2, 2], [0, 1, 1, 2, 2, 2, 2, 2, 2, 2, 2, 2], [2, 0, 1, 2, 2, 2, 2, 2, 2, 2, 2], [2, 2, 0, 1, 1, 1, 1, 1, 1, 1, 1, 1, 1, 1, 1, 1, 1], [2, 2, 2, 2, 2, 2, 2, 2, 2, 0, 1, 1, 1, 2, 0], [0, 1, 1, 1, 1, 2, 2, 2, 2, 2, 2, 2, 2, 2], [2, 2, 0, 1, 1, 1, 1, 1, 1, 2, 2, 2, 2, 2, 2, 2, 2], [0, 1, 1, 1, 1, 2, 2, 2, 2, 2, 2, 2], [2, 2, 2, 2, 0, 1, 1, 1, 1, 2, 2, 2, 2, 0, 1, 1], [0, 1, 1, 1, 1, 1, 2, 2, 2, 2, 2, 2, 2, 2, 2, 2, 2, 2], [0, 1, 1, 1, 1, 1, 1, 2, 2, 2, 2], [2, 2, 2, 0, 1, 1, 1, 1, 1, 1, 2, 2, 0, 1], [2, 2, 2, 0, 1, 1, 1, 1, 2, 2, 2, 2, 2], [0, 1, 2, 2, 2, 2, 2, 2, 2], [2, 2, 2, 2, 2, 2, 0, 1, 1, 1, 2, 2, 2, 2], [0, 1, 1, 1, 1, 1, 1, 1, 2, 0, 1, 1, 1, 1, 1, 1, 1, 1, 1], [0, 1, 1, 1, 1, 1, 1, 1, 2, 2, 2, 2, 2, 2, 2, 2], [2, 2, 2, 2, 2, 2, 0, 1, 1, 1, 1, 1, 2], [2, 2, 2, 2, 2, 2, 0, 1, 1, 2], [2, 2, 0, 1, 1, 2, 2, 2, 2, 2, 2, 2, 2], [0, 1, 1, 2, 2, 2, 2, 2, 2, 2, 2], [2, 2, 2, 2, 0, 1, 1, 1, 2, 2, 2, 2, 2, 2], [2, 2, 2, 2, 0, 1, 2, 2, 2, 2, 2, 2, 2, 2], [0, 1, 1, 2, 2, 2, 2, 2, 2, 2, 2, 2, 2, 2, 2], [0, 1, 1, 2, 2, 2, 2, 2], [2, 2, 2, 0, 1, 1, 2, 2], [2, 2, 0, 1, 1, 1, 1, 1, 1, 1, 1, 1, 1, 1, 1, 1, 1, 1, 1, 1, 2, 2, 0, 2, 2], [0, 1, 2, 2, 2, 2, 2, 2, 2, 2, 2, 2, 2], [0, 1, 1, 2, 2, 2, 2, 2, 2], [0, 1, 1, 1, 1, 2, 2, 2, 2, 2, 2, 2, 2, 2], [2, 2, 2, 2, 0, 1, 1, 2, 2, 2, 2, 2, 2, 2], [2, 2, 2, 0, 1, 1, 1, 2, 2, 2, 2, 2, 2, 2, 2, 2], [2, 2, 0, 1, 1, 1, 1, 1, 1, 1, 1, 1, 1, 1, 1, 1, 1, 1, 1], [2, 2, 2, 0, 1, 1, 1, 1, 1, 1, 1, 1, 1, 1, 1, 1, 2, 0], [2, 2, 2, 2, 0, 1, 1, 2, 2, 2, 2, 2, 2, 2, 2], [2, 2, 2, 2, 0, 1, 1, 1, 1, 1, 1, 2, 2, 2, 2, 2], [0, 1, 1, 1, 2, 2, 2, 2, 2, 2, 2, 2, 2], [2, 2, 2, 0, 1, 1, 1, 1, 1, 1, 2, 2, 2, 2], [0, 1, 1, 1, 1, 2, 2, 2, 2, 2, 2], [2, 2, 0, 1, 2, 2, 2, 2, 2], [2, 2, 0, 1, 1, 1, 1, 1, 1, 1, 1, 2, 2, 0, 1, 1, 1, 1, 1, 1], [2, 2, 2, 2, 0, 1, 2, 2, 2, 2, 2, 2, 2, 2], [2, 2, 2, 2, 2, 2, 0, 1, 1, 1, 2], [2, 2, 0, 1, 1, 1, 1, 1, 1, 1, 1, 1, 1], [2, 2, 0, 1, 1, 1, 1, 1, 1, 2], [2, 2, 2, 2, 0, 1, 1, 1, 1, 1, 1, 1, 1, 1, 1], [2, 2, 2, 2, 2, 2, 0, 1, 1, 1, 1, 1, 2], [2, 2, 2, 2, 0, 1, 1, 1, 2], [2, 2, 2, 2, 2, 2, 2, 2, 0, 1, 2], [2, 2, 2, 2, 2, 2, 2, 0, 1, 1, 1, 2, 2], [2, 0, 1, 1, 2, 2, 2, 2, 2, 2, 2, 2], [0, 1, 1, 1, 1, 1, 1, 1, 1, 1, 1, 1, 2, 0, 1, 1, 1, 1, 1, 1, 1, 1, 1], [0, 1, 1, 1, 2, 2, 2, 2, 2, 2, 2], [2, 2, 2, 2, 2, 2, 2, 2, 0, 1, 1, 2, 2, 2, 2, 2, 2], [0, 1, 1, 1, 1, 2, 2, 2, 2, 2, 2, 2, 2, 2, 2, 2, 2, 2, 2, 2, 2, 2], [2, 2, 2, 0, 1, 1, 1, 1, 1, 1, 1, 1, 1, 1, 1, 1, 1, 1, 1, 1, 2, 0], [0, 1, 1, 1, 1, 1, 2, 2, 2, 2, 2, 2, 2], [2, 2, 2, 2, 2, 0, 1, 1, 1, 2, 2, 0], [2, 2, 0, 1, 1, 1, 1, 1, 2, 2, 2, 2, 2, 2, 2], [0, 1, 1, 1, 1, 1, 1, 1, 1, 1, 1, 1, 1, 1, 2, 0, 1, 1, 1, 1, 1, 1, 1, 1], [2, 2, 2, 2, 0, 1, 2, 2, 2, 2], [2, 2, 2, 2, 2, 2, 0, 1, 1, 1, 1, 1, 1, 1, 1, 1, 2, 0, 1, 1, 1], [0, 1, 1, 1, 2, 2, 2, 2, 2, 2, 2], [2, 2, 2, 2, 2, 0, 1, 1, 1, 1, 1, 1, 1, 2, 2, 2, 2, 0, 2, 2, 2, 2, 2, 2, 2, 2], [2, 2, 2, 2, 2, 2, 2, 2, 2, 2, 0, 1, 1, 1, 2], [0, 1, 1, 1, 2, 2, 2, 2, 2, 2, 2, 2, 2, 2], [2, 2, 2, 2, 2, 2, 2, 2, 0, 1, 1, 1, 1, 1, 2, 2, 2, 2, 2], [0, 1, 2, 2, 2, 2, 2, 2, 2, 2, 2, 2, 2], [0, 2, 0, 2, 0, 1, 1, 1, 2, 2, 2, 2, 2, 2, 2, 2, 2], [0, 1, 1, 2, 2, 2, 2, 2, 2, 2], [2, 2, 2, 2, 0, 1, 2, 2, 2, 2, 2, 2], [2, 2, 2, 2, 2, 0, 1, 1, 1, 2, 2], [2, 2, 2, 0, 1, 1, 1, 1, 1, 1, 1], [2, 2, 0, 1, 2, 2, 2, 2, 2, 0, 1, 1], [2, 2, 2, 0, 1, 1, 1, 1, 1, 1, 1, 2], [2, 2, 2, 0, 1, 1, 1, 1, 1, 2, 2, 2, 2, 2, 2, 2, 2, 2, 2], [0, 1, 1, 1, 1, 2, 2, 2, 2, 2], [0, 1, 1, 1, 2, 2, 2, 2, 2], [2, 0, 1, 2, 2, 2, 2], [2, 2, 2, 2, 2, 2, 2, 2, 0, 1, 1, 1, 2], [2, 2, 2, 0, 1, 1, 2, 2, 2, 2, 2], [0, 1, 2, 2, 2, 2, 2, 2, 2, 2, 2, 2, 2, 2, 2, 2, 2, 2, 2], [0, 1, 1, 1, 2, 2, 2, 2, 2, 2, 2, 2, 2, 2, 2], [2, 2, 2, 2, 2, 2, 2, 0, 1, 1, 1, 1, 1, 1, 1, 2, 2, 2, 2, 2, 2, 2], [0, 1, 1, 1, 2, 2, 2, 2, 2, 2, 2, 2], [0, 1, 1, 2, 2, 2, 2, 2, 2, 2, 2], [2, 2, 2, 0, 1, 1, 1, 1, 1, 1, 1, 1, 2, 2, 2, 2, 2], [2, 2, 2, 0, 1, 1, 1, 1, 1, 1, 1, 2, 2], [2, 0, 1, 1, 2, 2, 2, 2, 2], [2, 2, 2, 0, 1, 1, 1, 1, 1, 1, 1, 1, 1, 1, 2, 2, 2, 0, 2], [0, 1, 1, 1, 1, 1, 1, 1, 1, 1, 1, 1, 1, 1], [2, 2, 2, 2, 0, 1, 1, 1, 1, 1, 1, 1, 1, 1, 1, 2, 2, 2, 2, 2, 2, 2, 2, 2, 2, 2], [2, 2, 0, 1, 1, 1, 2, 2, 2, 2, 2], [2, 0, 1, 1, 1, 1, 1, 1, 1, 1, 1, 1], [0, 1, 1, 1, 1, 1, 1, 1, 1, 1, 1, 2, 0], [2, 0, 1, 2, 2, 2, 2, 2, 2, 2, 2, 2, 2], [2, 2, 2, 0, 1, 1, 2, 2, 2, 2, 2], [2, 2, 2, 0, 1, 1, 1, 1, 2, 2, 2, 2, 2], [2, 2, 2, 2, 0, 1, 1, 2, 2, 2], [2, 0, 1, 1, 2, 2, 2, 2, 2, 2, 2, 2, 2], [2, 2, 2, 2, 2, 0, 1, 1, 1, 2, 2, 2, 2, 2, 2], [0, 1, 2, 2, 2, 2, 2, 2, 2, 2, 2, 2, 2, 2], [2, 2, 0, 1, 1, 1, 1, 1, 1, 1, 1, 2, 0, 1], [2, 2, 0, 1, 1, 2, 2, 2, 2, 2, 2, 2, 2, 2], [2, 2, 2, 2, 2, 2, 0, 1, 1, 1, 1, 1, 1, 1, 1, 1, 2, 2, 2, 2], [2, 0, 1, 1, 1, 1, 2, 2, 2, 2, 2], [2, 2, 0, 1, 1, 1, 1, 1, 2, 2, 2, 2, 2], [2, 2, 2, 2, 2, 2, 2, 2, 0, 1, 1, 1, 2, 2], [0, 1, 1, 1, 1, 2, 2, 2, 2, 2, 2, 2, 2, 2], [0, 1, 1, 1, 2, 2, 2, 2, 2, 2, 2, 2, 2, 2], [0, 1, 1, 1, 1, 1, 1, 2, 2, 0, 1, 1, 1, 2, 2, 2, 2, 2], [2, 2, 2, 2, 2, 0, 1, 1, 2, 2, 2, 2], [0, 1, 1, 1, 1, 2, 2, 2, 2, 2, 2, 2, 2, 2, 2], [0, 1, 1, 1, 1, 1, 1, 1, 1, 1, 1, 2, 2], [2, 2, 0, 1, 1, 1, 1, 1, 1, 1, 1, 1, 1, 1, 1, 1, 1, 1, 2, 2, 0, 1, 1, 2, 2, 0], [2, 2, 2, 2, 2, 0, 1, 2, 2, 2, 2, 2, 2, 2], [2, 0, 1, 1, 1, 2, 2, 2, 2, 2, 2, 2, 2, 2, 2, 2], [2, 2, 2, 2, 2, 2, 0, 1, 1, 2, 2, 2, 2, 2], [2, 2, 2, 2, 0, 1, 1, 2, 2, 2, 2, 2, 2], [2, 2, 2, 0, 1, 2, 2, 2, 2], [2, 2, 0, 1, 1, 1, 2, 2, 2, 2, 2, 2, 2, 2, 2, 2], [2, 2, 0, 1, 1, 2, 2, 2, 2, 2, 2, 2, 2, 2, 2], [2, 2, 2, 2, 0, 1, 2, 2, 2, 2, 2, 2, 2, 2], [2, 2, 0, 1, 1, 2, 2, 2, 2, 2, 2, 2, 2, 2], [2, 2, 2, 2, 2, 0, 1, 1, 1, 2, 2], [2, 2, 0, 1, 1, 1, 1, 2, 2, 2, 2, 2, 2, 2, 2], [0, 1, 1, 2, 2, 2, 2, 2, 2, 2, 2], [0, 1, 2, 2, 2, 2, 2, 2, 2, 2], [0, 1, 1, 1, 1, 2, 2, 2, 2, 2], [2, 2, 2, 0, 1, 1, 1, 1, 2], [2, 2, 2, 2, 2, 0, 1, 1, 1, 1, 1, 1, 1, 1, 1, 1, 1, 1, 1, 2, 2, 2, 2, 2], [2, 2, 2, 2, 2, 2, 0, 1, 1, 1, 1, 1, 2], [2, 2, 2, 2, 2, 0, 1, 1, 1, 2, 2, 2], [0, 1, 1, 1, 2, 2, 2, 2, 2, 2, 2], [2, 0, 1, 1, 2, 2, 2], [2, 2, 0, 2, 0, 1, 1, 1, 1, 1, 1, 2, 2, 2, 2, 2, 2, 2, 2, 2], [0, 1, 1, 2, 2, 2, 2, 2, 0, 2, 2, 2, 2, 2, 2, 2], [2, 0, 1, 1, 1, 1, 1, 1, 1, 1, 1, 1, 1, 1, 1, 1, 1, 1, 1, 1], [2, 2, 2, 2, 2, 2, 2, 2, 2, 0, 1, 1, 1, 1, 2, 2], [2, 2, 2, 2, 2, 2, 2, 0, 1, 1, 1, 1, 2], [2, 2, 2, 2, 2, 2, 2, 2, 2, 0, 1, 1, 1, 1, 1, 1, 1, 2, 0, 1, 2, 2], [2, 2, 2, 2, 2, 2, 2, 2, 2, 0, 1, 1, 2, 2], [2, 2, 2, 0, 1, 1, 1, 1, 1, 2, 2, 2, 2, 2], [2, 0, 1, 1, 1, 1, 1, 1, 1, 1, 1, 1, 1, 1, 1, 1], [2, 2, 2, 2, 2, 0, 1, 1, 1, 1, 1, 1, 2, 2, 2, 2], [2, 2, 2, 2, 2, 2, 2, 2, 2, 2, 2, 0, 1, 1, 1, 1, 2, 2], [2, 2, 2, 0, 1, 1, 1, 1, 1, 1, 1, 2, 2, 2, 2, 2, 2, 2], [0, 1, 1, 1, 2, 2, 2, 2, 2, 2, 2, 2, 2, 2], [2, 2, 2, 2, 2, 2, 0, 1, 1, 1, 2, 2], [2, 2, 0, 1, 1, 1, 1, 1, 2, 2, 2, 2], [2, 2, 2, 2, 2, 2, 2, 2, 2, 2, 0, 1, 1, 1, 2, 2, 2], [2, 2, 2, 0, 1, 1, 2, 2, 2, 2, 2, 2, 2], [2, 0, 1, 1, 1, 1, 1, 2, 2, 2, 2, 2, 2, 2, 2, 2], [2, 0, 1, 1, 1, 2, 2, 2, 2, 2, 2, 2, 2], [2, 0, 1, 1, 2, 2, 2, 2, 2, 2], [2, 2, 2, 2, 0, 1, 1, 1, 1, 1, 1, 1, 1, 1], [2, 2, 0, 1, 1, 1, 1, 1, 1, 2, 2, 2, 2, 2, 2, 2], [0, 1, 1, 1, 1, 2, 2, 2, 2, 2, 2, 2, 2, 2], [0, 1, 2, 2, 2, 2, 2, 2, 2, 2, 2], [2, 2, 2, 2, 2, 2, 2, 2, 0, 1, 1, 1, 1, 2, 2, 2], [2, 2, 2, 2, 2, 2, 2, 2, 2, 0, 1, 1, 1, 2], [2, 2, 0, 1, 1, 1, 2, 2, 2, 2, 2, 2, 2], [0, 1, 1, 1, 2, 2, 2, 2, 2, 2, 2, 2, 2], [0, 2, 0, 1, 1, 2, 2, 2, 2, 2, 2, 2, 2], [2, 0, 1, 1, 1, 1, 2, 2, 2, 2, 2, 2, 2, 2, 2, 2], [2, 2, 2, 2, 2, 0, 1, 1, 2, 2, 2, 2, 2, 2, 2, 2, 2, 2, 2, 2, 2, 2], [2, 2, 0, 1, 1, 1, 2, 2, 2, 2, 2, 2, 2, 2, 2, 2, 2], [2, 0, 1, 1, 2, 2, 2, 2, 2, 2, 2, 2, 2], [2, 2, 2, 0, 1, 1, 1, 2, 2, 2, 2, 2, 2, 2, 2, 2, 2, 2, 2, 2, 2, 2, 2], [0, 1, 1, 1, 1, 1, 1, 2, 2, 2, 2, 2, 2, 2, 2, 2, 2, 2, 2], [2, 2, 0, 1, 1, 1, 1, 2, 2, 2, 2, 2, 2, 2, 2], [0, 1, 1, 2, 2, 2, 2, 2, 2, 2, 2], [2, 2, 0, 1, 1, 2, 2, 2, 2, 2, 2, 2], [2, 2, 2, 2, 2, 2, 0, 1, 1, 2, 2, 2, 2, 2, 2, 2, 2, 2], [2, 2, 2, 2, 0, 1, 1, 1, 2, 2], [2, 2, 2, 2, 2, 2, 2, 2, 2, 2, 2, 0, 1, 1, 1, 2, 2, 2, 2, 2], [2, 2, 2, 0, 1, 1, 2, 2, 2, 2, 2, 2, 2, 2, 2, 2, 2, 2, 2], [2, 0, 1, 1, 1, 1, 2, 2, 2, 2, 2, 2, 2, 2], [0, 1, 1, 1, 2, 2, 2, 2, 2, 2, 2, 2, 2, 2, 2, 2, 2, 2, 2], [2, 2, 2, 2, 0, 1, 1, 2, 2], [2, 2, 2, 2, 0, 1, 1, 1, 1, 2, 2, 2, 2, 2, 2, 2, 2, 2, 2, 2, 2], [2, 0, 1, 1, 2, 2, 2, 2, 2, 2, 2, 2, 2, 2, 2, 2, 2, 2, 2], [2, 2, 2, 2, 2, 2, 0, 1, 1, 2], [2, 0, 1, 1, 1, 2, 2, 2, 2, 2, 2, 2, 2, 2], [0, 1, 1, 1, 1, 2, 2, 2, 2, 2, 2], [0, 1, 1, 2, 2, 2, 2, 2, 2, 2, 2, 2], [0, 1, 1, 1, 1, 1, 1, 2, 2, 2, 2, 2, 2, 2, 2, 2], [2, 0, 1, 1, 1, 1, 1, 1, 1, 1, 2, 0], [2, 2, 2, 2, 2, 0, 1, 1, 2, 2, 2, 0], [2, 2, 2, 2, 0, 1, 1, 1, 1, 2, 2], [2, 2, 2, 2, 2, 0, 1, 1, 1, 1, 1, 1, 1, 2, 2, 2, 2], [0, 1, 2, 0, 1, 1, 2, 2, 2, 2, 2, 2, 2, 2, 2], [2, 2, 2, 2, 2, 2, 2, 2, 2, 0, 1, 1, 1, 1, 1, 2, 0], [2, 2, 2, 0, 1, 1, 1, 2], [2, 2, 0, 1, 1, 1, 1, 1, 1, 1, 2, 2, 2, 2], [2, 0, 1, 1, 1, 2, 2, 2, 2, 2, 2], [0, 1, 1, 2, 2, 2, 2, 0, 1, 1, 1, 1, 1, 1, 1, 1, 1, 1, 1], [0, 1, 1, 1, 2, 2, 2, 2, 2, 2, 2, 2, 2, 2, 2], [0, 1, 1, 1, 1, 1, 1, 1], [0, 1, 1, 1, 1, 2, 2, 2, 2, 2, 2], [2, 0, 1, 1, 1, 1, 1, 1, 1, 1, 1, 1, 1, 1], [2, 2, 2, 2, 2, 2, 2, 2, 2, 2, 2, 2, 2, 2, 2, 0, 1, 1, 2], [2, 2, 2, 0, 1, 2, 2, 2, 2, 2, 2, 2, 2, 2, 2], [2, 0, 1, 1, 1, 1, 2, 2, 2, 2, 2, 2, 2, 2], [2, 0, 1, 1, 1, 1, 2, 2, 2, 0, 2, 2, 2, 2, 2, 2], [2, 0, 1, 1, 1, 1, 2, 2, 2, 2, 2, 2, 2, 2, 2, 2, 2, 2, 2], [2, 2, 2, 2, 2, 2, 2, 2, 2, 2, 2, 2, 0, 1, 1, 1, 1, 2, 2], [2, 2, 2, 2, 2, 2, 2, 2, 2, 2, 2, 0, 1, 1, 2, 2], [2, 2, 2, 0, 1, 2, 2, 2, 2, 2, 2], [2, 2, 0, 1, 1, 1, 1, 1, 1, 1, 1, 1, 1, 1, 2], [0, 1, 1, 1, 2, 2, 2, 2, 2, 2, 2, 2, 2, 2, 2, 2, 2, 2], [0, 1, 1, 1, 1, 1, 1, 1, 1, 1, 1, 1, 2, 2, 2, 2], [2, 2, 2, 2, 0, 1, 1, 1, 2, 2, 2, 2, 2, 2, 2, 2, 2, 2], [0, 1, 1, 1, 1, 1, 1, 1, 1, 1, 1, 1, 1, 2], [2, 2, 2, 2, 2, 0, 1, 1, 2, 2, 2, 2, 2, 2, 2, 2, 2, 2, 2], [2, 2, 2, 2, 2, 2, 2, 2, 2, 2, 2, 2, 0, 1, 1, 1, 2, 2], [0, 1, 1, 1, 1, 1, 1, 1, 1, 2, 2, 2, 2, 2, 2, 2, 2, 2, 2, 2], [0, 2, 0, 1, 1, 1, 2, 2, 2, 2, 2, 2, 2, 2, 2, 2], [2, 2, 2, 2, 2, 2, 2, 2, 0, 1, 1, 1, 1, 2, 2], [2, 0, 1, 1, 2, 2, 2, 2, 2, 2, 2, 2, 2, 2, 2, 2, 2, 2], [0, 1, 1, 1, 1, 1, 2, 2, 2, 2, 2, 2, 2, 2, 2, 2, 2, 2, 2], [2, 0, 1, 1, 2, 2, 2, 2, 2, 2, 2, 2, 2], [2, 2, 2, 2, 0, 1, 1, 1, 1, 2, 2, 2, 2, 2, 2, 2, 2, 2, 2], [2, 2, 2, 2, 2, 2, 2, 2, 2, 0, 1, 2, 2, 2, 2, 2, 2, 2, 2, 2, 2], [2, 2, 2, 2, 2, 2, 2, 2, 2, 2, 2, 2, 2, 2, 2, 2, 2, 2, 2, 0, 1, 1, 1, 2, 2, 2], [2, 2, 2, 2, 2, 2, 0, 1, 1, 1, 1, 1, 1, 1, 1], [2, 0, 1, 1, 1, 2, 0, 1, 1, 1, 1, 1, 1, 1, 1, 1, 2, 2, 2, 2, 2, 2, 2, 2, 2, 2, 2, 2], [2, 2, 2, 2, 2, 2, 2, 2, 2, 2, 2, 2, 2, 2, 2, 2, 2, 2, 0, 1, 1, 1, 1, 2, 0, 1], [2, 2, 2, 2, 2, 2, 2, 2, 2, 0, 1, 1, 1, 1, 1, 1, 2, 2, 2], [2, 2, 2, 2, 2, 2, 2, 2, 2, 2, 2, 2, 2, 2, 0, 1, 1, 2, 2, 2, 2, 2, 2], [2, 2, 2, 2, 2, 2, 2, 2, 2, 0, 1, 1, 1, 1, 1, 1, 1, 2, 2, 2], [2, 0, 1, 1, 2, 2, 2, 2, 2, 2, 2, 2], [2, 2, 2, 2, 2, 2, 2, 2, 2, 2, 2, 0, 1, 1, 1, 2], [2, 0, 1, 1, 2, 2, 2, 2, 2, 2, 2, 2], [2, 2, 2, 2, 2, 2, 0, 1, 1, 1, 1, 1, 2, 2, 2, 2], [2, 2, 2, 2, 0, 1, 1, 1, 1, 1, 1, 1, 1, 2, 2, 2], [2, 2, 2, 2, 0, 1, 1, 1, 2, 2, 2, 2], [0, 1, 1, 2, 2, 2, 2, 2, 2, 2, 2, 2, 2], [2, 2, 2, 2, 0, 1, 1, 2, 2, 2, 2], [0, 1, 1, 2, 2, 2, 2, 2, 2, 2, 2, 2], [0, 1, 1, 2, 2, 2, 2, 2, 2, 2, 2], [0, 1, 1, 1, 1, 1, 1, 1, 1, 1, 1, 1, 1, 1, 1, 1, 1, 1, 1], [2, 2, 2, 2, 2, 2, 0, 1, 1, 2, 2, 2, 2, 2, 2, 2], [2, 2, 2, 2, 2, 2, 2, 2, 2, 2, 2, 2, 2, 2, 2, 2, 0, 1, 1, 1, 1, 1, 1, 1], [2, 2, 2, 2, 2, 0, 1, 1, 1, 1, 2, 2, 2, 2, 2, 2, 2, 2, 2], [2, 2, 2, 2, 2, 2, 2, 2, 2, 2, 2, 0, 1, 1, 1, 1, 1, 1, 1, 2, 2], [2, 2, 2, 2, 2, 2, 2, 2, 0, 1, 1, 1, 1, 1, 1, 1, 1, 1, 1, 1, 1, 1, 2, 2, 2, 2, 0, 1, 1, 1, 1, 1], [0, 2, 0, 1, 1, 1, 1, 2, 2, 2, 2, 2, 2, 2, 2], [0, 1, 1, 1, 1, 1, 2, 2, 2, 2, 2, 2, 2, 2, 2, 2, 2], [0, 1, 1, 1, 1, 1, 1, 1, 1, 1, 2, 2, 2, 2, 2, 2, 2, 2, 2, 2, 0, 1, 1, 1], [2, 2, 0, 1, 1, 2, 2, 2, 2, 2, 2, 2], [2, 2, 0, 1, 1, 2, 2, 2, 2, 2, 2, 2, 2], [0, 1, 1, 1, 2, 2, 2, 2, 2, 2, 2, 2], [0, 1, 1, 1, 1, 1, 1, 1, 1, 1, 1, 1, 1, 1, 1, 1, 1, 1, 1, 1, 1, 1, 1, 1, 1], [2, 2, 2, 2, 2, 2, 2, 2, 2, 2, 2, 2, 0, 1, 1, 2, 2, 2, 2, 2], [2, 2, 0, 1, 1, 1, 2, 2, 2, 2, 2, 2, 2], [2, 2, 0, 1, 1, 1, 1, 1, 1, 1, 1, 1, 2, 2, 2, 2, 2, 2, 2, 2], [2, 0, 1, 1, 1, 1, 1, 2, 2, 2, 2, 2, 2, 2], [0, 1, 1, 1, 2, 2, 2, 2, 2, 2, 2, 2, 2, 2, 2, 2, 2, 2], [2, 0, 2, 0, 1, 2, 0, 1, 1, 1, 1, 1, 1, 2, 0, 1, 1, 1, 1, 1, 1, 1, 1, 1, 1, 1, 1, 1, 1], [2, 2, 2, 2, 2, 2, 2, 2, 2, 2, 2, 2, 2, 0, 1, 1, 1, 2, 2], [0, 1, 2, 2, 2, 2, 2, 2, 2, 2, 2, 2, 2, 2, 2, 2, 2, 2], [0, 1, 1, 1, 1, 1, 2, 2, 2, 0, 1, 1, 1, 1, 1, 1, 1, 1, 1, 1, 1, 1, 1, 1], [2, 0, 1, 2, 2, 2, 2, 2, 2, 2, 2, 2, 2, 2, 2], [0, 1, 1, 2, 2, 2, 2, 2, 2, 2, 2, 2, 2, 2, 2, 2, 2, 2, 2], [2, 0, 1, 1, 1, 1, 2, 2, 2, 2, 2, 2, 2, 2, 2], [2, 2, 2, 0, 1, 1, 2, 2, 2, 2, 2], [2, 2, 2, 0, 1, 1, 2, 2, 2, 2, 2, 2, 2, 2], [2, 2, 0, 1, 1, 1, 1, 1, 1, 2, 2, 2, 2, 2, 2], [2, 2, 2, 0, 1, 2, 2, 2, 2, 2, 2, 2, 2], [0, 1, 1, 1, 2, 2, 2, 2, 2, 2, 2, 2, 2, 2, 2, 2, 2], [2, 2, 2, 2, 2, 2, 2, 2, 2, 2, 0, 1, 1, 1, 1, 1, 1, 2], [0, 1, 1, 1, 1, 1, 2, 2, 2, 0, 1, 1, 1, 1], [2, 2, 2, 2, 2, 0, 1, 1, 1, 2, 2, 2, 2, 2, 2], [2, 0, 1, 1, 2, 2, 2, 2, 2, 2, 2, 2, 2, 2, 2, 2], [2, 0, 1, 1, 1, 1, 1, 1, 1, 2, 2, 2, 2, 2, 2, 2, 2, 2], [2, 2, 2, 2, 2, 2, 2, 2, 0, 1, 1, 1, 1, 1, 2, 2, 2], [2, 2, 2, 0, 1, 1, 1, 1, 2, 2, 2, 2, 2, 2, 2, 2], [2, 0, 1, 1, 1, 2, 2, 2, 2, 2, 2, 2, 2, 2], [2, 2, 2, 2, 2, 2, 2, 2, 0, 1, 1, 1, 1, 2, 2], [2, 2, 2, 2, 2, 2, 2, 2, 0, 1, 1, 1, 1, 1, 1, 2, 2], [2, 0, 1, 1, 1, 2, 2, 2, 2, 2, 2, 2, 2, 2, 2], [0, 1, 1, 1, 1, 1, 1, 1, 2, 2, 2, 2, 2], [2, 0, 1, 1, 1, 1, 1, 1, 1, 1, 2, 2, 2, 2, 2, 2, 2, 2, 2], [2, 2, 2, 2, 2, 2, 2, 2, 2, 0, 1, 1, 1, 2, 2], [2, 0, 1, 1, 1, 2, 2, 2, 2, 2], [2, 2, 2, 2, 2, 2, 2, 2, 0, 1, 1, 1, 1, 1, 1, 1, 1, 1, 1, 2, 2], [2, 2, 0, 1, 1, 1, 1, 1, 1, 2, 0, 1, 1, 1, 1, 1], [2, 2, 2, 0, 1, 2, 2, 2, 2, 2, 2], [0, 1, 1, 1, 2, 2, 2, 2, 2, 2, 2], [2, 2, 2, 2, 2, 0, 1, 1, 1, 2], [0, 1, 1, 1, 1, 2, 2, 2, 2, 2, 2, 2, 2, 2, 2, 2, 2, 2], [2, 2, 2, 2, 2, 2, 0, 1, 1, 1, 1, 1, 2], [2, 2, 2, 2, 2, 2, 2, 0, 1, 1, 1, 2, 2], [2, 2, 0, 1, 1, 1, 1, 1, 2, 2, 2, 2, 2], [2, 0, 1, 1, 1, 1, 1, 1, 1, 1, 1, 1, 1, 1, 1, 2], [0, 1, 1, 1, 1, 1, 1, 1, 1, 1, 1, 2, 2, 2, 2, 2, 2, 2, 0, 1, 1, 1, 1, 1, 1, 1], [2, 2, 2, 2, 2, 2, 2, 0, 1, 1, 2], [2, 2, 2, 2, 2, 0, 1, 1, 1, 1, 1, 1, 1, 1, 1, 2, 2, 2, 2, 2, 2, 2, 2], [2, 0, 1, 1, 2, 2, 2, 2, 2, 2, 2, 2, 2, 2], [2, 0, 1, 1, 1, 2, 2, 2, 2, 2, 2, 2, 2, 2, 2], [2, 2, 2, 2, 2, 2, 2, 0, 1, 1, 1, 1, 1, 1, 1, 1, 1, 1, 1, 1, 1, 1, 1, 1, 1], [0, 1, 1, 1, 2, 2, 2, 2, 2, 2, 2, 2], [2, 2, 2, 2, 2, 2, 0, 1, 1, 1, 1, 1, 2, 2, 2, 2, 2, 2, 2], [2, 0, 1, 1, 1, 1, 1, 1, 1, 1, 1, 2, 2, 2, 2, 2, 2, 2, 2, 2], [2, 2, 2, 2, 2, 2, 2, 2, 2, 2, 0, 1, 1, 1, 2], [2, 0, 1, 1, 2, 2], [2, 2, 2, 2, 2, 0, 1, 1, 1, 1, 1, 2], [0, 1, 1, 1, 1, 1, 1, 1, 1, 1], [2, 2, 2, 2, 0, 1, 1, 2, 2, 2, 2, 2, 2], [2, 2, 2, 2, 2, 2, 2, 2, 2, 2, 0, 1, 1, 1, 2], [2, 0, 1, 1, 1, 1, 1, 1, 1, 1, 1, 1, 1, 1, 1, 1, 1, 2, 2], [2, 2, 2, 2, 2, 0, 1, 1, 1, 1, 1, 1, 2], [2, 2, 2, 2, 0, 1, 1, 1, 1, 2, 2], [2, 2, 2, 2, 0, 1, 1, 1, 1, 1, 1, 1, 1, 1, 2, 0], [0, 1, 1, 1, 1, 1, 1, 1, 1, 1, 2, 0, 1], [0, 1, 1, 1, 2, 2, 2, 2, 2], [2, 2, 0, 1, 1, 2, 2, 2, 2, 2, 2, 2], [0, 1, 1, 1, 1, 1, 1, 2, 2, 2, 2, 2, 2, 2, 2, 2, 2, 0, 1, 1, 1], [2, 2, 2, 2, 2, 2, 2, 0, 1, 1, 2], [2, 2, 2, 2, 0, 1, 1, 2], [2, 2, 0, 1, 2, 2, 2, 2, 2, 2, 2], [0, 1, 1, 2, 2, 2, 2, 2, 2, 2, 2, 2, 2, 2, 2, 2, 2, 2], [0, 1, 1, 1, 1, 1, 1, 2, 2, 2, 2, 2, 2], [2, 2, 2, 2, 2, 2, 2, 2, 2, 2, 2, 0, 1, 1, 2], [2, 2, 2, 2, 0, 1, 1, 2, 2, 2, 2, 2], [0, 1, 1, 1, 1, 1, 1, 1, 1, 1, 1, 1, 1, 1, 2, 2, 2, 2], [2, 0, 2, 0, 1, 2, 2, 2, 2, 2, 2, 2, 2, 2, 2, 2], [2, 0, 1, 1, 2, 2, 2, 2, 2, 2, 2, 2, 2, 2, 2, 2], [2, 2, 2, 2, 2, 2, 2, 2, 2, 2, 2, 0, 1, 1, 2], [0, 1, 1, 1, 1, 1, 1, 1, 1, 1, 1, 1, 1, 1], [2, 0, 1, 1, 1, 1, 2, 2, 2, 2, 2, 2, 2, 2, 2, 2, 2, 2], [2, 0, 1, 1, 2, 2, 2, 2, 2, 2, 2, 2, 2, 2, 2, 2, 2], [2, 2, 2, 2, 2, 2, 2, 2, 0, 1, 1, 1, 1, 2, 2, 2], [2, 0, 1, 1, 1, 1, 1, 2, 2, 2, 2, 2, 2], [2, 2, 2, 2, 2, 0, 1, 1, 2, 2, 2, 2], [2, 0, 1, 1, 1, 1, 1, 1, 1, 1, 1, 2, 2, 2, 0, 1, 1, 1, 2, 0, 1], [0, 1, 1, 1, 1, 1, 1, 1, 1, 1, 1, 1, 1, 2, 2, 2, 2, 2, 2], [0, 2, 0, 1, 1, 2, 2, 2, 2], [2, 2, 2, 0, 1, 1, 1, 1, 1, 1, 1, 1, 2, 2, 2], [2, 2, 2, 0, 1, 1, 1, 2, 2, 2, 2, 2], [2, 2, 2, 2, 2, 2, 2, 0, 1, 1, 2, 2, 2, 2, 2], [2, 2, 2, 2, 2, 2, 2, 2, 2, 0, 1, 1, 1, 2, 2], [2, 2, 0, 1, 1, 1, 1, 2, 2, 2], [2, 2, 2, 2, 2, 2, 0, 1, 1, 1, 1, 1, 1, 2, 2, 0, 1, 1, 1], [2, 2, 2, 0, 1, 1, 1, 1, 1, 1, 1, 1, 2, 2, 2, 2, 2, 2], [2, 2, 2, 0, 1, 2, 2, 2, 2, 2, 2, 2, 2], [2, 2, 2, 0, 2, 2, 2, 2, 0, 1, 2, 2], [2, 2, 2, 0, 1, 1, 2, 2, 2, 2, 2, 2, 2], [0, 1, 1, 2, 2, 2, 2, 2, 2, 2, 2, 2, 2], [0, 1, 1, 1, 1, 1, 2, 2, 2, 2, 2, 2, 2, 2, 2], [0, 1, 1, 1, 2, 2, 2, 2, 2, 2, 2, 2, 2, 2, 2], [2, 0, 1, 1, 1, 1, 1, 1, 1, 2, 2, 2, 2, 2, 2, 2, 2], [2, 2, 2, 0, 1, 1, 1, 1, 1, 1, 1, 1, 1, 1, 1, 1, 2, 2], [0, 1, 1, 1, 2, 0, 2, 2, 2, 2, 2, 2, 2, 2, 2, 2, 2, 2], [2, 2, 2, 2, 2, 2, 2, 2, 2, 2, 2, 2, 0, 1, 2, 2], [2, 2, 2, 0, 1, 1, 1, 1, 1, 1, 2, 2, 2, 2, 2, 2, 2, 2, 2], [0, 1, 1, 1, 1, 1, 1, 1, 1, 1, 1, 2, 2, 2, 2, 0, 1, 1, 1], [2, 2, 2, 2, 0, 1, 1, 1, 1, 1, 1, 1, 1, 1, 1], [2, 2, 2, 2, 2, 2, 2, 2, 2, 2, 2, 2, 0, 1, 1, 2, 2], [0, 1, 1, 1, 1, 2, 2, 2, 2, 2, 2, 2, 2, 2, 2, 2, 2], [2, 2, 0, 1, 1, 1, 1, 1, 2, 2, 2, 2, 2, 2, 2, 2], [2, 2, 2, 2, 2, 2, 2, 2, 2, 2, 2, 2, 0, 1, 1, 1, 1, 1, 2, 2], [0, 1, 1, 1, 2, 2, 2, 2, 2, 2, 2, 2], [0, 2, 0, 1, 2, 2, 0, 1, 2, 2, 2, 2, 2, 2], [0, 1, 1, 1, 1, 1, 1, 1, 1, 1, 1, 1], [2, 0, 1, 1, 2, 2, 2, 2, 2, 2], [2, 2, 2, 2, 0, 1, 1, 1, 1, 1, 1, 1, 1, 1, 2, 2, 2], [0, 1, 1, 1, 2, 2, 2, 2, 2, 2, 2, 2], [0, 1, 1, 2, 2, 2, 2, 2, 2, 2, 2], [2, 2, 2, 2, 2, 2, 2, 2, 2, 0, 1, 1, 2], [0, 1, 1, 1, 2, 2, 2, 2, 2, 2, 2], [2, 2, 2, 2, 0, 1, 1, 1, 1, 1, 1, 1, 1, 2, 2, 2], [0, 1, 1, 2, 2, 2, 2, 2, 2, 2, 2], [2, 2, 2, 2, 2, 2, 2, 2, 2, 0, 1, 1, 2], [2, 2, 2, 2, 2, 2, 0, 1, 1, 1, 2, 2, 2], [2, 2, 2, 2, 2, 2, 2, 0, 2, 2, 2, 2, 2, 2, 2, 2], [2, 2, 0, 1, 1, 1, 1, 1, 1, 1, 1, 2, 2, 0], [0, 1, 1, 1, 1, 1, 2, 0, 1, 2, 2, 2, 2, 2, 2, 2], [2, 2, 2, 2, 2, 2, 2, 2, 0, 1, 1, 1, 2], [2, 0, 2, 2, 2, 0, 1, 1, 1, 2, 2, 2, 2, 2], [2, 2, 2, 2, 2, 2, 2, 2, 2, 2, 2, 2, 2, 0, 1, 1, 1, 2, 2], [0, 1, 1, 1, 1, 1, 2, 2, 2, 2, 2, 2, 2, 2, 2], [2, 2, 2, 2, 2, 2, 2, 2, 2, 2, 2, 2, 0, 1, 1, 2, 2], [2, 0, 2, 2, 2, 0, 1, 1, 1, 1, 1, 2], [2, 2, 0, 1, 2, 2, 2, 2, 2, 2, 2], [2, 0, 1, 1, 1, 1, 2, 2, 2, 2, 2, 2, 2, 2, 2, 2, 2, 2, 2], [2, 0, 1, 1, 1, 1, 1, 2, 2, 2, 2, 2, 2, 2, 2, 2, 0, 1, 1, 1], [2, 2, 2, 2, 2, 2, 2, 2, 2, 0, 1, 1, 1, 1, 1, 1, 1, 1, 1, 1, 1, 2, 0], [2, 2, 0, 1, 2, 2, 2], [2, 2, 2, 2, 2, 2, 2, 0, 1, 1, 2], [2, 2, 0, 1, 1, 1, 1, 2, 2, 2, 2, 2, 2, 2, 2, 2, 2, 2, 2], [2, 2, 2, 2, 2, 2, 2, 2, 2, 2, 0, 1, 1, 1, 1, 1, 2, 2, 2], [0, 1, 1, 2, 2, 2, 2, 2, 2, 2, 2, 2, 2, 2, 2, 2, 2, 2, 2], [2, 2, 2, 2, 0, 1, 1, 2, 2, 2, 2, 2], [2, 2, 2, 2, 2, 2, 0, 1, 1, 1, 1, 2, 2, 2, 0], [0, 1, 1, 1, 1, 1, 1, 1, 1, 1, 1, 1, 1, 1, 1, 1, 1, 1, 1, 1, 1, 1, 1, 1], [2, 2, 2, 0, 2, 2, 0, 2, 2, 2, 2, 2, 2, 2, 0, 1, 1, 1, 1, 1, 1, 1, 1, 1], [0, 1, 1, 1, 2, 2, 2, 2, 2, 2, 2, 2, 2, 2, 2, 2, 2, 2, 2, 2], [2, 2, 2, 0, 1, 1, 1, 2, 2, 2, 2], [0, 1, 1, 2, 2, 2, 2, 2, 2, 2, 2], [0, 1, 1, 1, 2, 2, 2, 2, 2, 2, 2, 2, 2, 2, 2, 2, 2, 2], [2, 2, 2, 0, 1, 1, 1, 2, 2, 2, 2, 2, 2, 2, 2, 2, 2, 2, 2, 2, 2, 2, 2, 2], [2, 0, 2, 2, 0, 1, 1, 1, 1, 1, 1, 1, 1, 1, 1, 1], [2, 2, 2, 2, 2, 0, 1, 1, 2], [2, 2, 2, 2, 2, 2, 2, 2, 0, 1, 1, 2], [2, 2, 2, 2, 2, 2, 2, 2, 0, 1, 2, 2, 2, 2, 2, 2, 2], [2, 2, 2, 2, 2, 0, 1, 1, 1, 1, 2, 2, 2], [2, 2, 0, 1, 1, 2, 2, 2, 2, 2, 2, 2, 2, 2], [2, 2, 2, 2, 2, 0, 1, 1, 1, 1, 1, 2, 2], [2, 2, 2, 2, 2, 2, 2, 2, 0, 1, 2], [2, 2, 2, 2, 2, 2, 2, 2, 0, 1, 2, 2, 2, 2, 2, 2, 2], [0, 1, 1, 1, 1, 1, 1, 2, 2, 2, 2, 2, 2, 2, 2, 2, 2], [2, 2, 2, 2, 2, 2, 2, 2, 0, 1, 1, 2, 2], [0, 1, 1, 1, 2, 0, 1, 2, 2, 2, 2, 2, 2, 2, 2, 2], [2, 2, 2, 0, 1, 1, 1, 2, 2, 2, 2, 2, 2, 2, 2], [0, 1, 1, 1, 2, 2, 2, 2, 2, 2, 2, 2, 2, 2, 2], [2, 2, 2, 2, 2, 2, 2, 0, 1, 2, 2, 2, 2, 2, 2], [2, 2, 2, 2, 2, 0, 1, 1, 2, 2, 2, 2, 2], [2, 2, 2, 2, 2, 0, 1, 1, 1, 2, 2, 2, 2, 2], [0, 1, 1, 1, 1, 1, 2, 2, 2, 2, 2, 2, 2, 2, 2, 2], [2, 2, 2, 2, 0, 1, 1, 2, 2, 2, 2, 2, 2, 2, 2], [2, 2, 2, 2, 2, 2, 2, 2, 2, 0, 1, 2, 2, 2, 2, 2], [2, 2, 2, 2, 2, 0, 1, 2, 2, 2, 2], [2, 2, 2, 0, 1, 2, 2, 2, 2], [2, 0, 1, 1, 1, 2, 2, 2, 2, 2, 2, 2, 2, 2, 2, 2, 2, 2, 2], [2, 2, 2, 2, 2, 2, 2, 2, 2, 2, 2, 0, 1, 2, 2, 2], [2, 2, 2, 2, 2, 0, 2, 0, 1, 1, 1, 1, 1, 2, 2, 2], [2, 0, 1, 1, 1, 1, 1, 2, 2, 2, 2, 2, 2], [2, 2, 2, 0, 1, 1, 1, 1, 1, 2, 2, 2, 2, 2, 2, 2, 2, 2, 2, 2, 2], [2, 2, 0, 1, 1, 2, 2, 2, 2, 2, 2, 2, 2, 2, 2, 2, 2], [2, 0, 1, 1, 2, 2, 2, 2, 2, 2, 2, 2, 2, 2], [0, 1, 1, 1, 1, 1, 1, 1, 1, 1, 1, 2, 2, 0], [0, 1, 1, 1, 2, 2, 2, 2, 2, 0, 1, 1, 1, 1], [2, 2, 2, 2, 0, 1, 1, 1, 1, 1, 1, 1, 1, 1, 1, 1], [2, 2, 2, 2, 0, 1, 1, 1, 2, 2, 2, 2, 2], [2, 2, 2, 2, 0, 1, 1, 1, 1, 1, 1, 1, 1, 1, 1], [0, 1, 1, 2, 2, 2, 2, 2, 2, 2], [2, 2, 2, 2, 2, 0, 1, 1, 1, 1, 1, 2, 2], [0, 1, 1, 1, 1, 1, 1, 2, 2, 2, 2, 2, 2, 2, 2, 2, 2, 2], [2, 2, 2, 2, 0, 1, 1, 2, 2, 2, 2, 2], [2, 2, 2, 2, 0, 1, 2, 2, 2, 2, 2, 2], [2, 2, 2, 2, 2, 0, 1, 1, 1, 2], [2, 2, 2, 2, 0, 1, 2, 2, 2, 2, 2], [2, 2, 2, 2, 2, 2, 2, 0, 1, 1, 1, 2], [2, 2, 0, 1, 1, 2, 2, 2], [2, 0, 1, 1, 1, 1, 1, 1, 2, 0, 1, 1, 1, 1, 1, 1, 1, 1, 1, 1, 1, 1], [0, 1, 1, 2, 2, 2, 2, 2, 2], [2, 2, 2, 2, 2, 2, 0, 1, 1, 1, 2, 2, 2], [2, 0, 1, 1, 1, 2, 2, 2, 2, 2, 2, 2, 2], [2, 2, 0, 1, 1, 2, 2, 2], [2, 0, 1, 1, 1, 1, 2, 0, 2, 2, 2, 2, 2, 2, 2, 2, 2, 2, 2, 2], [0, 1, 1, 1, 1, 2, 0, 1, 2, 2, 2, 2, 2, 2, 2, 2, 2, 2, 2, 2, 2, 2, 2, 2], [2, 2, 0, 1, 1, 1, 2, 2, 2, 2, 2, 2, 2, 2, 2, 2, 2], [2, 0, 1, 2, 2, 2, 2, 2], [2, 2, 2, 2, 2, 2, 2, 2, 0, 1, 1, 2, 2, 2, 2, 2, 2, 2, 2, 2, 2], [2, 2, 2, 2, 0, 1, 2, 2, 2, 2, 2, 2, 2, 2, 2, 2, 2, 2], [2, 2, 2, 0, 1, 1, 1, 1, 1, 2, 2, 2, 2, 2, 2, 2, 2, 2, 2, 2, 2, 2], [2, 2, 2, 2, 2, 0, 1, 1, 2, 2, 2, 2, 2, 2, 2, 2], [2, 0, 1, 1, 1, 1, 1, 2], [2, 2, 2, 2, 2, 2, 2, 2, 2, 0, 1, 1, 1, 1, 2, 2, 2, 2, 2, 2, 2, 2, 2], [2, 2, 2, 2, 0, 1, 1, 1, 1, 1, 2, 2, 2, 2, 2, 2, 2, 2, 2, 2, 2], [2, 2, 2, 2, 2, 0, 1, 1, 1, 2, 2, 2, 2, 2], [0, 1, 1, 1, 1, 1, 1, 1, 1, 1, 2, 2, 0, 1, 1, 1, 1, 1, 1, 1, 1], [2, 2, 2, 0, 1, 2, 2, 2, 2, 2, 2, 2, 2, 2, 2, 2, 2, 2, 2, 2], [2, 2, 2, 2, 2, 2, 0, 1, 1, 2, 2, 2, 2], [2, 2, 2, 2, 2, 2, 0, 1, 1, 1, 1, 1, 1, 1, 1, 1, 1, 1, 1, 1, 1, 1, 2, 2], [2, 2, 2, 2, 2, 2, 2, 0, 1, 1, 1, 1, 2, 2, 2, 2, 2, 2, 2, 2, 2, 2, 2], [0, 1, 2, 2, 2, 2, 2], [2, 2, 2, 2, 2, 2, 0, 1, 1, 1, 1, 2, 2, 2], [2, 2, 0, 1, 2, 2, 2, 2, 2, 2, 2, 2, 2, 2], [0, 1, 1, 2, 2, 0, 1, 2, 0, 2, 2, 2, 2, 2, 2, 2, 2], [0, 1, 1, 1, 1, 1, 1, 1, 1, 1, 1, 2, 2, 2, 2, 2, 2, 2], [0, 1, 1, 1, 1, 1, 1, 2, 2, 2, 2, 2, 2, 2, 2, 2, 2, 2, 2, 2], [2, 2, 2, 2, 0, 1, 2, 2, 2, 2, 2, 2], [0, 1, 1, 2, 2, 2, 2, 2, 2, 2, 2, 2, 2, 2, 2], [2, 0, 1, 1, 1, 1, 1, 1, 1, 1, 1, 1, 1, 1, 1, 1, 1, 1, 1, 1, 1, 1, 1, 1, 1, 1], [2, 2, 2, 2, 2, 2, 2, 2, 0, 1, 1, 2, 2, 2, 2, 2, 2], [2, 2, 2, 2, 0, 1, 1, 1, 1, 1, 1, 1, 2, 2, 2, 2, 2, 2, 2, 2, 2, 2], [2, 2, 0, 1, 1, 1, 2, 2, 2, 2, 2, 2, 2, 2], [2, 2, 2, 2, 2, 2, 2, 2, 2, 2, 2, 2, 2, 2, 2, 2, 0, 1, 1, 1, 2], [2, 0, 1, 1, 1, 2, 2, 2, 2, 2, 2, 2, 2, 2, 2, 2], [2, 2, 2, 0, 1, 1, 2, 2, 2, 2, 2, 2, 2], [2, 2, 2, 2, 2, 2, 2, 2, 2, 0, 1, 1, 1, 1, 1, 1, 1, 1, 1, 1, 1, 1, 1, 1, 2], [2, 2, 2, 2, 2, 2, 2, 2, 0, 1, 2, 2, 2, 2, 2, 2, 2, 2, 2, 2, 2, 2, 2], [2, 2, 2, 2, 2, 0, 1, 1, 2, 2, 2, 2, 2, 2, 2, 2, 2, 2, 2, 2], [2, 2, 2, 0, 1, 1, 2, 2, 2, 2, 2, 2, 2, 2, 2], [2, 2, 2, 0, 1, 1, 1, 1, 1, 1, 2, 2, 2, 2, 2, 2], [0, 1, 1, 1, 1, 1, 1, 1, 1, 1, 1, 1, 1, 1, 1, 1, 1, 1, 1, 1, 1, 1, 1, 1, 1, 1, 1], [0, 1, 1, 1, 1, 2, 2, 2, 2, 2, 2, 2, 2, 2, 2, 2, 2, 2, 2, 2, 2, 2, 2, 2, 2], [0, 1, 1, 1, 1, 1, 1, 1, 1, 1, 2, 2, 0, 1, 1], [0, 1, 1, 1, 1, 1, 1, 1, 1, 1, 1, 1, 1], [2, 2, 2, 2, 2, 0, 1, 1, 1, 2], [0, 2, 0, 1, 1, 1, 1, 1, 1, 2, 0, 1, 1], [2, 0, 1, 1, 1, 2, 2, 2, 0, 2, 2, 2, 2, 2, 2, 2, 2, 2, 2], [0, 1, 1, 2, 2, 2, 2, 2, 2, 2, 2, 2], [0, 1, 1, 2, 2, 2, 2, 2, 2, 2, 2], [2, 2, 2, 2, 2, 0, 1, 1, 2, 2, 2], [0, 1, 1, 1, 1, 2, 2, 2, 2, 2, 2], [0], [0, 1, 1, 1, 2, 2, 2, 2, 2, 2, 2, 2, 2, 2, 2], [2, 0, 1, 1, 1, 1, 2, 2, 2, 2, 2, 2, 2, 2], [2, 2, 2, 2, 0, 1, 1, 1, 1, 1, 1, 1, 2], [0, 1, 1, 1, 1, 1, 2, 2, 0, 1, 1, 1, 1], [2, 2, 0, 1, 1, 1, 1, 1, 2, 2, 2, 2], [2, 2, 2, 2, 2, 2, 2, 2, 2, 0, 1, 1, 1, 1, 2, 2], [0, 1, 1, 1, 2, 2, 2, 2, 2, 2, 2, 2, 2], [2, 2, 2, 2, 0, 1, 1, 2, 2, 2, 2, 2, 2], [2, 2, 0, 1, 1, 2, 2, 2, 2, 2], [2, 2, 0, 1, 1, 1, 1, 1, 1, 1, 1, 1, 1, 1, 1], [0, 1, 1, 2, 2, 2, 2, 2, 2, 2, 2, 2], [2, 2, 2, 2, 2, 2, 0, 1, 1, 1, 2, 2, 2, 2, 2, 2, 2, 2, 2], [2, 2, 2, 2, 2, 2, 2, 2, 2, 0, 1, 1, 1, 1, 1, 1, 2, 2, 2, 2, 2, 2], [0, 1, 1, 2, 2, 2, 2, 2, 2, 2, 2, 2, 2, 2], [0, 1, 1, 1, 1, 2, 2, 2, 2, 2, 2, 2, 2, 2], [2, 2, 2, 2, 2, 2, 0, 1, 1, 2, 2, 2, 2, 2, 2, 2, 2, 2], [2, 2, 0, 1, 1, 1, 1, 2, 2, 2, 2, 2, 2, 2, 2, 2, 2, 2, 2], [2, 2, 2, 2, 2, 2, 2, 0, 1, 1, 1, 2, 0, 1, 1, 1, 1, 1, 1, 2, 2, 2], [0, 1, 1, 1, 2, 2, 2, 2, 2, 2, 2, 2, 2, 2, 2, 2, 2, 2, 2, 2, 2], [2, 2, 2, 2, 2, 2, 0, 1, 2, 2], [2, 2, 2, 2, 2, 2, 2, 0, 1, 1, 2, 2], [2, 2, 2, 2, 2, 2, 2, 2, 0, 1, 1, 1, 1, 1, 2, 2], [2, 2, 2, 2, 2, 2, 0, 1, 1, 2, 2, 2], [2, 0, 1, 2, 2, 2, 2, 2, 2, 2, 2, 2], [0, 1, 1, 1, 1, 1, 2, 2, 2, 2, 2, 2, 2], [2, 2, 2, 2, 2, 2, 2, 0, 1, 2, 2], [2, 2, 2, 0, 1, 1, 2, 2, 2, 2, 2, 2, 2], [0, 1, 1, 1, 1, 1, 1, 1, 1, 1, 1], [2, 2, 2, 2, 2, 2, 0, 1, 1, 2, 0, 1, 1, 1, 1, 2, 2, 2], [2, 2, 2, 2, 2, 0, 1, 1, 2, 2, 2, 2, 2, 2, 2, 2, 2, 2, 2, 2], [2, 2, 2, 0, 2, 2, 2, 2, 2], [0, 1, 1, 1, 1, 1, 2, 2, 2, 2, 2, 2, 2, 2, 2, 2, 2, 2, 2], [2, 2, 2, 2, 2, 2, 2, 0, 1, 1, 1, 1, 1, 1, 1, 1, 2, 2], [0, 1, 1, 1, 1, 1, 1, 1, 1], [2, 2, 2, 2, 2, 2, 2, 2, 2, 2, 2, 2, 2, 2, 2, 2, 0, 1, 1, 1, 2], [2, 2, 0, 1, 1, 1, 1, 2, 2, 2, 2, 2, 2], [2, 2, 2, 2, 2, 2, 2, 2, 0, 1, 1, 1, 2, 2, 2, 2, 2], [2, 2, 2, 2, 2, 2, 0, 1, 1, 1, 1, 1, 1, 2, 2, 2], [2, 2, 2, 2, 2, 2, 0, 1, 2, 0, 1, 1, 1, 1, 1], [2, 2, 2, 2, 2, 2, 2, 2, 0, 1, 1, 1, 1, 1, 2], [2, 2, 2, 0, 1, 1, 1, 2, 2, 2, 2, 2, 2, 2, 2], [2, 2, 2, 2, 2, 0, 1, 2, 2, 2, 2, 2, 2, 2], [0, 1, 1, 1, 1, 1, 2, 2, 0, 1, 1, 1, 1, 1, 1, 1, 1, 1, 1, 1], [0, 1, 1, 1, 1, 1, 2, 2, 2, 2, 2, 2, 2, 2, 2, 2, 2], [2, 0, 1, 1, 1, 1, 1, 1, 1, 1, 1, 1, 1, 1, 1, 1, 1, 1, 1], [2, 2, 2, 0, 1, 1, 1, 1, 2, 2, 2, 2, 2, 2, 2], [0, 1, 1, 2, 2, 2, 2, 2, 2, 2, 2, 2, 2, 2, 2], [0, 1, 1, 1, 1, 2, 2, 0, 1, 1, 1, 2, 2, 2, 2, 2, 2, 2, 2, 2, 2, 2, 2], [2, 2, 0, 1, 1, 1, 1, 2, 2, 2, 2, 2, 2, 2, 2, 2], [0, 1, 1, 1, 2, 2, 2, 2, 2, 2, 2], [0, 1, 1, 2, 2, 2, 2, 2, 2, 2, 2, 2], [0, 1, 1, 1, 2, 0, 1, 1, 1, 1], [2, 0, 1, 1, 2, 2, 2, 2, 2, 2, 2], [2, 2, 2, 2, 2, 2, 2, 2, 2, 2, 0, 1, 1, 2, 2, 2, 2, 2], [2, 2, 2, 0, 1, 1, 1, 2, 2, 2, 2], [2, 2, 2, 2, 2, 2, 2, 0, 1, 1, 1, 1, 1, 1, 1, 2, 2], [2, 2, 0, 1, 2, 2], [2, 2, 2, 0, 1, 1, 1, 2, 2, 2, 2, 2], [2, 2, 0, 1, 1, 1, 1, 2, 2, 2, 2, 2, 2, 2, 2, 2, 2, 2, 2, 2], [0, 1, 1, 1, 1, 1, 1, 1, 1, 1, 2, 2, 2, 0, 1, 1, 1, 1, 1], [2, 2, 2, 0, 1, 1, 1, 1, 2, 2, 2, 2], [0, 1, 1, 1, 1, 2, 2, 2, 2, 2, 2, 2, 2, 2], [2, 2, 2, 2, 2, 2, 0, 1, 1, 1, 2], [2, 2, 2, 0, 1, 1, 2, 2, 2, 2, 2, 2], [2, 2, 2, 0, 1, 1, 1, 2, 2, 2, 2, 2, 2], [2, 2, 2, 2, 2, 2, 2, 2, 0, 1, 1, 2, 2, 2], [0, 1, 1, 2, 0, 1, 1, 1, 1, 1, 1, 2, 2, 2, 2, 2, 2, 2, 2], [2, 2, 2, 2, 2, 2, 2, 0, 1, 1, 2, 0], [0, 1, 1, 1, 1, 2, 2, 2, 2, 2, 2, 2, 2, 2, 2], [2, 2, 0, 1, 2, 2, 2, 2, 2, 2], [2, 2, 2, 2, 0, 1, 1, 2, 2, 2, 2], [2, 2, 2, 0, 2, 0, 1, 1, 2, 2, 2, 2, 2, 2, 2, 2, 2, 2], [2, 2, 0, 1, 1, 2, 2, 2, 2, 2], [0, 1, 1, 1, 1, 1, 2, 2, 2, 2, 2, 2, 2], [0, 1, 1, 1, 1, 1, 2, 0, 1, 1, 1, 1, 1, 1, 1, 1, 1, 1, 1, 1, 1, 1], [0], [2, 0, 1, 1, 1, 1, 1, 1, 1, 1, 1, 1, 1, 1, 2, 0, 1, 1], [0, 1, 1, 1, 1, 1, 1, 1, 1, 1, 1, 1, 1, 2], [2, 0, 1, 1, 1, 1, 1, 1, 1, 1, 1, 2, 2, 2, 2, 2, 2, 2, 2, 2], [0, 1, 1, 2, 2, 2, 2, 2, 2], [2, 2, 2, 0, 1, 1, 2, 2, 2, 2, 2, 2, 2], [2, 0, 1, 1, 1, 1, 1, 2, 2, 2, 2, 2], [2, 2, 2, 2, 0, 1, 1, 1, 1, 1, 2, 2, 2, 2, 2, 2], [2, 2, 0, 1, 2, 2], [2, 2, 0, 1, 1, 1, 1, 2, 2, 2, 2, 2, 2, 2, 2], [0, 1, 1, 1, 1, 1, 2, 2, 2, 2, 2, 2, 2, 2], [2, 0, 1, 1, 2, 2, 2, 2, 2, 2, 2, 2], [2, 0, 1, 1, 1, 2, 2, 2, 2, 2, 2, 2], [0, 1, 1, 1, 2, 0, 1, 1, 1, 1, 2, 0, 1], [2, 2, 2, 2, 2, 2, 0, 2, 2, 2, 0, 1, 1, 1, 1, 1, 2], [2, 2, 0, 1, 1, 1, 1, 2, 2, 0, 1, 1, 2, 2, 2, 2, 2, 2, 2, 2], [0, 1, 2, 2, 2, 2, 0, 2, 2, 2, 2, 2, 2], [2, 2, 0, 1, 1, 1, 1, 1, 2, 0, 1, 1, 2, 2, 2, 2, 2, 2, 2, 2], [2, 0, 1, 1, 1, 1, 1, 2, 2, 2, 2, 2, 2, 2, 2, 2, 2], [0, 1, 1, 2, 2, 2, 2, 2, 2, 2, 2, 2, 2], [2, 2, 2, 2, 2, 0, 1, 1, 1, 2, 2], [0, 1, 1, 1, 2, 2, 2, 2, 2, 2, 2], [0, 1, 1, 1, 1, 1, 1, 1, 1, 2], [2, 0, 1, 1, 1, 1, 1, 1, 1, 1, 1, 1, 2, 0, 1, 1], [2, 2, 0, 1, 1, 1, 1, 1, 1], [2, 2, 0, 1, 1, 1, 2, 2, 2, 2, 2, 2, 2, 2, 2, 2, 2, 2, 2, 2], [2, 0, 1, 1, 1, 2, 2, 2, 2, 2], [2, 0, 1, 2, 2, 2, 2, 2, 2, 2, 2, 2], [0, 1, 1, 2, 2, 2, 2, 2, 2, 2, 2, 0, 1, 2], [0, 1, 1, 1, 1, 1, 1, 1, 1, 1, 1, 1, 1, 1, 1], [0, 1, 1, 1, 2, 2, 0, 1, 1, 1, 1, 1, 1, 1, 1, 1], [2, 2, 2, 2, 2, 0, 1, 2, 2, 2, 2, 2, 2, 2], [0, 1, 1, 2, 2, 2, 2, 2, 2, 2, 2], [2, 2, 2, 2, 2, 2, 2, 0, 1, 1, 1, 2, 2, 2], [2, 0, 2, 0, 2, 0, 1, 1, 1, 2, 2, 2], [2, 2, 2, 2, 2, 0, 1, 1, 1, 1, 1, 1, 1, 1, 2, 2, 2], [2, 0, 1, 1, 2, 2, 2, 2, 2, 2, 2, 2, 2, 2], [2, 2, 2, 2, 2, 0, 1, 2, 2], [0, 1, 1, 2, 2, 2, 2, 2, 2, 2, 2, 2, 2, 2, 2, 2], [2, 2, 2, 2, 2, 2, 2, 2, 2, 0, 1, 1, 1, 2], [0, 1, 1, 1, 1, 2, 2, 2, 2, 2, 2, 2, 2, 2, 2], [2, 0, 1, 1, 1, 2, 2, 2, 2, 2, 2, 2, 2], [2, 2, 2, 0, 1, 1, 1, 1, 2, 2, 2, 2], [2, 2, 0, 1, 1, 1, 1, 1, 1, 1, 1, 1, 2, 0, 1], [0, 1, 1, 1, 1, 2, 2, 2, 2, 2, 2, 2, 2, 2, 2, 2, 2], [0, 1, 1, 1, 2, 2, 2, 2, 2, 2, 2, 2, 0], [2, 2, 2, 2, 0, 1, 1, 1, 1, 1, 1, 2, 2, 2, 2, 2, 2, 2, 2], [0, 1, 1, 1, 2, 2, 2, 2, 2, 2, 2], [0, 1, 1, 2, 2, 2, 2, 2, 2], [2, 0, 1, 1, 1, 2, 2, 2, 2, 2, 2], [0, 1, 1, 1, 1, 2, 0, 1, 1, 1, 1, 1, 1, 1], [2, 2, 2, 2, 2, 2, 2, 2, 2, 2, 0, 1, 2], [0, 1, 1, 1, 1, 1, 1, 1, 1, 1, 1, 1, 1, 1, 1, 1, 1, 1, 1, 1, 1, 1, 1, 1], [2, 2, 0, 1, 1, 1, 1, 2, 2, 2], [0, 1, 1, 2, 2, 2, 2, 2, 2, 2, 2, 2, 2, 2, 2], [2, 2, 2, 0, 1, 1, 2, 2, 2, 2, 2, 2, 2], [0, 1, 1, 1, 1, 2, 0, 1, 1, 1, 1, 1, 1], [2, 2, 0, 1, 2, 2, 2, 2, 2, 2, 2, 2, 2, 2], [2, 0, 1, 1, 1, 2, 2, 2, 2, 2, 2, 2], [2, 0, 1, 1, 1, 2, 2, 2, 2, 2, 2], [2, 2, 2, 0, 1, 2, 2, 2], [2, 2, 2, 2, 2, 0, 1, 1, 2], [2, 0, 1, 1, 1, 1, 1, 2, 2, 2, 2, 2, 2], [0, 1, 1, 1, 1, 1, 1, 1, 1, 1, 1, 1, 1, 1, 1], [2, 0, 1, 1, 2, 0, 1, 1, 1, 1, 1, 1, 1, 1, 1, 1, 1, 1, 1], [2, 0, 1, 2, 2, 2, 2, 2, 0, 1, 1, 1, 1, 1, 1, 1], [2, 0, 1, 1, 1, 1, 1, 2, 2, 2, 2, 2, 2], [0, 1, 1, 2, 2, 2, 2, 2, 2, 2, 2, 2, 2, 2, 2, 2, 2, 2], [2, 2, 2, 2, 2, 2, 2, 2, 0, 1, 1, 1, 1, 1, 1, 1, 2, 2, 2, 2, 2], [0, 1, 1, 2, 2, 2, 2, 2, 2, 2, 2], [0, 1, 1, 1, 2, 2, 2, 2, 2, 2, 2, 2], [0, 1, 1, 1, 1, 1, 2, 2, 2, 2, 2, 2, 2, 2, 2], [0, 1, 1, 1, 1, 2, 2, 2, 2, 2, 2, 2, 2], [2, 2, 2, 2, 2, 2, 2, 2, 2, 2, 0, 1, 1, 1], [0, 1, 1, 1, 2, 2, 2, 2, 2, 2, 2, 2, 2], [0, 1, 1, 1, 2, 2, 2, 2, 2, 2, 2, 2, 2], [2, 2, 2, 2, 0, 1, 1, 2, 2, 2, 2, 2, 2, 2, 2], [2, 0, 1, 2, 2, 2, 2, 2, 2, 2], [0, 1, 1, 1, 1, 1, 2, 2, 2, 2, 2, 2, 2, 2, 2, 2, 2, 2, 2, 2, 2], [2, 2, 2, 2, 2, 2, 2, 2, 0, 1, 2, 2, 0, 1], [2, 2, 2, 2, 2, 2, 2, 2, 0, 1, 1, 1, 1, 1, 1, 1, 1, 2, 2, 2, 2, 0], [2, 2, 0, 1, 1, 1, 1, 2], [0, 2, 0, 1, 1, 1, 2, 2], [0, 1, 1, 1, 2, 2, 2], [2, 0, 1, 1, 1, 1, 1, 2, 0, 1, 1, 1, 1, 1, 1, 1, 1, 1, 2], [2, 2, 0, 1, 1, 1, 1, 1, 1, 1, 1, 1, 1, 1, 1, 1], [2, 0, 1, 2, 2, 2, 2, 2, 0, 1, 1, 1, 1, 1], [2, 2, 0, 1, 1, 2, 2, 2, 2, 2], [2, 2, 2, 0, 1, 1, 1, 1, 1, 1, 2, 2, 2, 2, 2, 2, 2, 2, 2, 2, 2, 2, 2, 2, 2], [2, 2, 2, 2, 2, 2, 0, 1, 1, 1, 2, 2, 2, 2, 2, 2, 2, 2], [2, 2, 2, 2, 2, 2, 0, 1, 2], [2, 2, 0, 1, 1, 1, 1, 1, 1, 2], [2, 0, 2, 0, 1, 1, 1, 1, 1, 1, 1, 1, 1, 1, 1, 1, 1, 1, 1, 1, 1, 1, 2, 2, 2, 2, 2, 2, 2, 2, 2, 2], [2, 2, 2, 0, 1, 1, 2, 2, 2, 2, 2, 2, 2, 2, 2], [2, 2, 2, 2, 2, 0, 1, 1, 2], [2, 2, 2, 2, 2, 2, 0, 1, 1, 1, 1, 1, 2, 0, 1, 1], [2, 0, 1, 1, 1, 1, 2, 2, 2, 2, 2, 2, 2, 2, 2, 2], [2, 2, 2, 2, 2, 2, 0, 1, 1, 1, 1, 1, 1, 1, 1, 2], [2, 2, 2, 2, 2, 0, 1, 1, 2, 2, 2, 2, 2, 2, 2, 2, 2, 2], [2, 2, 2, 2, 0, 1, 1, 2, 2, 2, 2], [2, 2, 0, 1, 1, 1, 1, 2, 2, 2, 2, 2, 2, 2], [2, 2, 2, 2, 0, 1, 2], [0, 1, 1, 1, 2, 2, 2, 2, 2, 2, 2, 2, 2, 2, 2], [2, 2, 0, 1, 2, 2, 2, 2, 2, 2, 2], [0, 1, 1, 1, 2, 2, 2, 2, 2, 2], [2, 0, 1, 1, 2, 2, 2, 2, 2, 2, 2], [0, 1, 1, 1, 2, 2, 2, 2, 2, 2, 2, 2, 2, 2], [2, 0, 1, 1, 1, 2, 2, 2, 2, 2, 2, 2, 2, 2], [2, 2, 2, 2, 0, 1, 1, 1, 1, 2, 2, 2], [2, 2, 2, 0, 1, 1, 1, 2, 2, 2, 2], [0, 1, 1, 1, 1, 1, 2, 2, 0, 2, 2, 2, 2, 2], [0, 1, 1, 1, 1, 2, 2, 2, 2, 2, 2, 2, 2], [2, 2, 0, 1, 1, 2, 2, 2, 2, 2, 2, 2, 2, 2], [0, 1, 1, 1, 2, 2, 2, 2, 2, 2, 2], [0, 1, 1, 1, 1, 1, 1, 1, 1, 1, 1], [2, 2, 0, 1, 1, 1, 1, 1, 1, 1, 1, 1, 1, 1, 1, 1, 1, 1, 1, 1, 1, 2], [2, 2, 2, 0, 1, 1, 1, 1, 2, 2, 2, 2], [2, 2, 2, 2, 0, 1, 1, 1, 1, 2, 0, 1], [2, 2, 2, 0, 1, 1, 1, 1, 1, 2], [2, 2, 0, 1, 1, 1, 2, 2, 2, 2], [2, 2, 2, 2, 2, 2, 0, 1, 1, 1, 1, 1, 2], [2, 2, 2, 0, 1, 2, 2, 2, 2, 2, 2, 2, 2, 2, 2], [2, 2, 2, 0, 1, 1, 2, 2, 2, 2, 2, 2, 2, 2, 2, 0, 1, 2], [2, 2, 2, 2, 2, 2, 2, 2, 2, 0, 1, 2, 2], [2, 2, 0, 1, 1, 1, 2, 2, 2, 2, 2], [2, 0, 1, 1, 2, 2, 2, 2, 2, 2, 2, 2, 2, 2, 2], [2, 2, 2, 2, 2, 2, 2, 2, 0, 1, 1, 2], [2, 2, 2, 2, 2, 2, 2, 0, 1, 1, 1, 1, 1, 2, 2, 0, 1, 1, 1, 2, 2, 2], [2, 0, 1, 1, 1, 1, 1, 1, 1, 1, 1, 2, 2, 2, 2, 2, 2], [2, 2, 0, 1, 1, 2, 2, 2, 2, 2], [2, 0, 1, 1, 1, 2, 2, 2, 2, 2, 2, 2, 2, 2, 2], [2, 2, 2, 2, 2, 2, 2, 0, 1, 1, 1, 1, 2, 2, 2, 2], [2, 2, 2, 2, 2, 2, 2, 2, 0, 1, 1, 2, 2, 2, 2, 2, 2, 2, 2], [0, 1, 1, 1, 1, 1, 1, 1, 1, 1, 1, 1, 1, 1, 1, 1, 1, 1, 2], [2, 2, 2, 2, 0, 1, 1, 1, 2, 2, 2, 2, 2, 2], [0, 2, 0, 1, 1, 1, 2, 2, 2, 2, 2, 2, 2, 2, 2], [2, 2, 2, 2, 2, 0, 1, 1, 2, 2], [2, 2, 2, 2, 2, 2, 0, 1, 2], [0, 1, 2, 2, 2, 2, 2, 2], [2, 2, 2, 2, 2, 0, 1, 1, 2, 2, 2, 2], [0, 1, 1, 1, 2, 2, 2, 2, 2, 2, 2, 2, 2], [2, 0, 1, 1, 2, 2, 2, 2, 2, 2, 2], [0, 1, 1, 1, 1, 2, 2, 2, 2, 2, 0, 1], [2, 2, 2, 2, 2, 0, 1, 1, 2], [0, 1, 1, 1, 2, 2, 2, 0, 1], [2, 2, 2, 0, 1, 1, 1, 2, 2, 2, 2, 2], [2, 2, 2, 2, 2, 2, 2, 2, 2, 0, 1, 1, 1, 1, 1, 1, 2, 2, 2], [2, 2, 2, 2, 0, 1, 1, 1, 2, 0, 2, 2, 2, 2], [2, 2, 2, 2, 2, 2, 2, 0, 1, 2, 2, 2, 2], [2, 2, 2, 2, 2, 2, 0, 1, 2], [2, 2, 2, 2, 2, 2, 2, 0, 1, 1, 1, 1, 1, 1, 1, 1, 2], [2, 0, 1, 1, 2, 2, 2, 2, 2, 2, 2, 2], [0, 1, 1, 1, 1, 1, 1, 1, 1, 1], [0, 1, 1, 1, 2, 2, 2, 2, 2, 2, 2, 2, 2], [2, 2, 0, 1, 1, 1, 2, 2, 2, 2, 2, 2], [0, 1, 1, 2, 2, 2, 2, 2, 2, 2, 0], [2, 2, 2, 2, 0, 1, 1, 2, 2, 2, 2], [2, 0, 1, 1, 1, 1, 1, 1, 1, 1, 1, 1, 1, 1, 1, 2, 0, 1], [2, 2, 2, 2, 0, 1, 2, 2, 2, 2, 2], [2, 2, 0, 1, 1, 1, 1, 1, 1, 2, 2, 2, 2, 2, 2], [2, 2, 2, 2, 2, 2, 0, 1, 1, 1, 1, 2], [2, 2, 2, 2, 2, 2, 2, 0, 1, 1, 2], [2, 2, 0, 1, 1, 2, 2, 2], [2, 2, 2, 2, 2, 2, 0, 1, 1, 1, 1, 1, 1, 2], [0, 1, 1, 1, 2, 2, 2, 2, 2, 2, 2, 2, 2], [2, 0, 1, 1, 1, 2, 2, 2, 2, 2, 2, 2, 0], [2, 2, 2, 2, 2, 0, 1, 2, 2, 2], [0, 1, 1, 2, 2, 2, 2, 2, 2, 2, 2, 2, 2, 2, 2, 2, 2], [2, 2, 2, 2, 2, 2, 0, 1, 1, 1, 1, 1, 1, 2, 2, 2, 2], [2, 2, 2, 0, 1, 2, 2, 2, 2, 2, 2, 2, 2, 2, 2, 2], [2, 0, 1, 1, 1, 2, 2, 2, 2, 2, 2], [2, 2, 2, 2, 0, 1, 1, 1, 1, 1, 2], [0, 1, 1, 1, 1, 1, 2, 2, 2, 2, 2, 2, 2, 2, 2], [2, 0, 1, 1, 2, 0, 1, 1, 1, 1, 2, 2, 2, 2], [0, 1, 1, 1, 1, 2, 2, 2, 2, 2, 2, 2, 2, 2, 2], [2, 2, 0, 1, 1, 1, 1, 1, 1, 1, 2], [2, 2, 2, 2, 0, 1, 1, 1, 1, 1, 2, 2, 2, 2, 2, 2], [0, 1, 1, 1, 1, 1, 1, 1, 1, 2, 2, 2, 2, 0, 1, 1, 1], [2, 2, 2, 2, 2, 0, 1, 1, 1, 1, 2, 2, 2, 2, 2, 2, 2, 2, 2, 2], [0, 1, 1, 1, 1, 1, 1, 2, 2, 2, 2, 2, 2, 2, 2, 2, 2, 2], [2, 0, 1, 1, 1, 1, 1, 1, 1, 1, 1, 1, 1, 1, 1, 1, 2, 2, 2, 2, 2, 2, 2, 2, 2, 2], [0, 1, 1, 1, 1, 2, 2, 2, 2, 2, 2, 2, 2], [2, 2, 2, 2, 2, 2, 2, 2, 2, 0, 1, 1, 2], [0, 1, 1, 1, 1, 2, 2, 2, 2, 2, 2, 2, 2], [2, 2, 2, 2, 0, 1, 1, 2, 2, 2, 2, 2, 2, 2], [2, 2, 2, 2, 0, 1, 1, 1, 2, 2, 2, 2, 2], [2, 2, 2, 2, 0, 1, 1, 1, 1, 2, 2, 2, 2, 2, 2, 0, 1, 1, 1, 1], [2, 2, 2, 2, 2, 2, 2, 2, 0, 1, 1, 1, 1, 2, 2, 2, 2], [0, 1, 1, 2, 2, 2, 2, 2, 2, 2, 2, 2, 2], [2, 2, 0, 1, 1, 1, 1, 1, 1, 1, 2, 2, 2, 2], [2, 0, 1, 1, 2, 2, 2, 2, 2, 2], [2, 2, 2, 2, 2, 2, 2, 2, 2, 2, 2, 2, 2, 2, 0, 1, 1, 2], [2, 0, 1, 2, 2, 2, 2, 2, 2, 2, 2, 2, 2], [0, 1, 1, 2, 2, 2, 2, 2, 2, 2, 2, 2], [2, 2, 2, 2, 2, 2, 2, 0, 1, 1, 2], [2, 2, 2, 2, 0, 1, 1, 2, 2, 2, 2, 2, 2, 2], [2, 0, 1, 1, 1, 1, 1, 1, 2, 2, 2, 2, 2, 2, 2, 2, 2, 2, 2], [2, 2, 2, 2, 2, 2, 2, 0, 1, 2, 0, 1, 1, 1, 1, 1, 1, 1], [0, 1, 1, 1, 1, 1, 1, 1, 1, 1, 1, 1, 1, 1, 1, 2, 0, 1], [2, 2, 2, 2, 2, 0, 1, 1, 1, 1, 2, 2], [2, 2, 2, 2, 0, 1, 2, 2, 2, 2], [2, 2, 2, 2, 0, 1, 1, 1, 1, 2, 2], [2, 2, 2, 0, 1, 1, 1, 1, 1, 1, 1, 1, 1, 2], [2, 2, 2, 0, 1, 1, 1, 2, 2, 2, 2, 2, 2, 2, 2, 2, 2, 2], [2, 2, 2, 0, 1, 1, 1, 1, 2, 2, 0, 1], [0, 1, 1, 1, 2, 2, 2, 2, 2, 2, 2, 2], [2, 2, 2, 2, 2, 2, 2, 2, 2, 0, 1, 1, 1, 1, 1, 1, 1], [2, 0, 1, 1, 2, 2, 2, 2, 2, 2, 2, 2, 2], [2, 2, 0, 1, 1, 2, 2, 2, 2, 2, 2, 2], [2, 2, 0, 1, 1, 1, 1, 1, 1, 1, 1, 1, 1, 1, 2, 0, 2], [2, 2, 2, 0, 1, 1, 2, 2], [2, 0, 1, 1, 1, 1, 1, 1, 1, 1, 1, 2, 2, 2, 2, 2, 2, 2], [2, 2, 2, 2, 2, 2, 2, 2, 2, 2, 0, 1, 1, 2, 2, 2, 2], [0, 1, 1, 1, 1, 1, 1, 1, 1, 1], [2, 2, 0, 1, 1, 2, 2, 2, 2, 2, 2, 2], [2, 2, 2, 2, 2, 2, 2, 2, 2, 2, 2, 2, 0, 1, 1, 1, 1, 1, 2, 0, 1], [0, 2, 2, 2, 2, 0, 1, 2, 2, 2, 2, 2, 2, 2, 2, 2], [2, 0, 1, 1, 1, 1, 1, 1, 1, 1, 1, 1, 1, 1, 1, 2, 2, 2, 2, 2, 2, 2, 2, 2], [2, 2, 0, 1, 1, 1, 2, 2, 2, 2, 2], [2, 2, 0, 1, 1, 2, 2, 2], [2, 2, 2, 0, 1, 1, 1, 1, 2, 2, 2, 2], [0, 1, 1, 1, 1, 1, 1, 1, 1, 1, 1, 1], [2, 2, 2, 2, 2, 2, 0, 1, 2, 2, 2, 2, 2], [0, 1, 1, 1, 1, 1, 2, 2, 2, 2, 2, 2, 2, 2], [2, 2, 2, 2, 2, 2, 2, 2, 0, 1, 1, 1, 2], [2, 2, 2, 2, 2, 2, 2, 2, 0, 1, 1, 1, 2, 2, 2, 2, 2], [2, 2, 2, 0, 1, 2, 2, 2, 2, 2], [2, 0, 1, 1, 1, 1, 1, 1, 1, 1, 2, 2, 2, 2, 2, 2, 2, 2, 2], [2, 0, 1, 1, 1, 1, 1, 1, 1, 1, 1, 1, 1, 2, 2, 2, 2, 2, 2], [2, 0, 1, 1, 1, 1, 2, 2, 0, 1, 1, 1], [2, 2, 2, 0, 1, 1, 1, 1, 1, 1, 1, 1, 1, 1, 1, 1, 1, 1, 2, 2, 2, 2, 0], [2, 2, 2, 2, 2, 0, 1, 1, 1, 1, 1, 1, 1, 1, 2], [2, 2, 2, 2, 2, 2, 2, 2, 2, 2, 2, 2, 0, 2, 0, 1, 1, 1, 2], [2, 2, 2, 2, 2, 0, 1, 1, 1, 2, 2, 2, 2, 2, 2, 2, 2], [2, 2, 0, 1, 1, 1, 2, 2, 2, 2, 2], [0, 1, 1, 1, 2, 2, 2, 2, 2], [0, 1, 1, 1, 1, 2, 2, 2, 2, 2, 2, 2, 2, 2, 2], [2, 2, 2, 2, 2, 2, 2, 2, 2, 0, 1, 1, 1, 2], [2, 2, 2, 2, 0, 1, 1, 1, 2, 2, 2, 2, 2], [2, 2, 2, 2, 2, 2, 2, 0, 1, 2, 2], [2, 2, 2, 2, 0, 1, 1, 2, 2, 2, 2], [0, 1, 1, 2, 2, 2, 2, 2, 2, 2, 2, 2], [2, 2, 0, 1, 1, 1, 1, 1, 1, 1, 1, 1, 1, 1, 1, 1, 1, 2], [0, 1, 1, 1, 1, 2, 2, 0, 2, 2, 0, 1, 1], [2, 2, 2, 2, 0, 1, 1, 2, 2, 2, 2], [0, 1, 1, 1, 1, 2, 2, 2, 2, 2, 2, 2, 2], [2, 2, 2, 0, 1, 2, 2, 2, 2], [0, 1, 1, 1, 1, 2, 2, 2, 2, 2, 2], [2, 2, 2, 0, 1, 1, 1, 2, 2, 2, 2], [2, 0, 1, 1, 1, 1, 1, 1, 1, 1, 1, 1, 1, 2, 0], [2, 0, 1, 1, 2, 2, 2, 2, 2, 2, 2, 2, 2, 2, 2, 2, 2], [2, 2, 2, 2, 2, 2, 2, 2, 2, 0, 1, 2], [2, 0, 1, 1, 2, 2, 2, 2], [2, 0, 1, 2, 2, 2, 2], [2, 2, 0, 1, 1, 1, 1, 1, 2, 2, 2, 2, 2, 2, 2, 2], [2, 2, 0, 1, 1, 1, 1, 1, 1, 2, 2, 2, 2], [2, 2, 2, 0, 1, 1, 1, 2, 2, 2, 2], [0, 1, 1, 1, 1, 1, 1, 2, 2, 2], [0, 1, 1, 1, 2, 2, 2, 2, 2, 2, 2, 2, 2, 2, 2], [0, 1, 1, 2, 2, 2, 2, 2, 2, 2, 2, 2, 2, 2], [2, 2, 2, 2, 2, 2, 2, 2, 2, 2, 2, 2, 0, 1, 1, 1, 1, 2], [0, 1, 1, 1, 2, 2, 2, 2, 2, 2, 2, 2, 2], [2, 2, 2, 2, 2, 2, 2, 0, 1, 1, 1, 2], [2, 2, 2, 2, 2, 0, 1, 1, 2, 2, 2, 2, 2], [2, 2, 2, 0, 1, 1, 2, 2, 2, 2, 2, 2], [0, 1, 1, 1, 1, 2, 2, 2, 2, 2, 2, 2], [0, 1, 1, 1, 1, 2, 2, 2, 2, 2, 2, 2, 2, 2, 2], [2, 2, 2, 2, 2, 2, 2, 0, 1, 1, 1, 2, 2, 2], [2, 2, 2, 2, 2, 0, 1, 2, 2, 2, 2, 2, 2], [0, 1, 1, 1, 2, 2, 2, 2, 2, 2, 2, 2, 2, 2, 2, 2], [2, 2, 0, 1, 1, 1, 1, 1, 2, 2, 2, 2], [2, 0, 1, 1, 1, 1, 1, 1, 1, 2, 2, 2, 2, 2, 2, 2, 2, 2, 2], [2, 2, 0, 1, 1, 1, 1, 1, 1, 1, 1, 2, 2, 2, 2], [0, 1, 1, 2, 2, 2, 2, 2, 2, 2, 2], [2, 2, 2, 0, 1, 1, 1, 1, 1, 1, 1, 2, 2], [2, 2, 2, 0, 1, 1, 1, 2, 2, 2, 2, 2], [0, 1, 1, 1, 2, 2, 2, 2, 2, 2, 2, 2, 2, 2], [2, 0, 1, 1, 2, 2, 2, 2, 2, 2, 2, 2], [2, 0, 1, 1, 1, 2, 2, 2, 2, 2, 2, 2], [2, 2, 0, 1, 1, 2, 2, 2, 2, 2], [0, 1, 1, 1, 1, 2, 2, 2, 2, 2, 2, 2, 2, 2], [2, 0, 1, 1, 2, 2, 2, 2, 2, 2, 2, 2, 2, 2, 2, 2, 2, 2], [2, 0, 1, 1, 1, 2, 2, 2, 2, 2, 2, 2, 2, 2, 2], [2, 2, 2, 2, 2, 2, 2, 0, 1, 1, 2], [2, 0, 1, 1, 2, 2, 2, 2, 2, 2, 2, 2], [0, 1, 1, 1, 1, 1, 1, 1, 1, 1, 1, 1, 1], [2, 2, 2, 0, 1, 1, 2, 2, 2, 2, 2, 2, 2, 2], [2, 2, 2, 2, 2, 2, 2, 0, 1, 1, 1, 1, 1, 1, 2, 2, 0, 1], [2, 2, 2, 0, 1, 1, 2], [0, 1, 2, 2, 2, 2, 2, 2, 2], [0, 1, 1, 2, 2, 2, 2, 2, 2, 2, 2, 2, 2, 2, 2], [2, 2, 2, 2, 2, 2, 2, 2, 0, 1, 1, 1, 2, 2, 2], [2, 0, 1, 1, 1, 1, 1, 1, 1, 1, 1, 1, 1, 1], [2, 2, 2, 0, 1, 2, 2, 2, 2, 2, 2], [0, 1, 1, 2, 2, 2, 2, 2, 2, 2, 2, 2, 2], [0, 1, 1, 1, 2, 2, 2, 2, 2, 2, 2, 2, 2], [2, 2, 2, 0, 1, 1, 1, 1, 1, 1, 1, 1, 1, 1, 2], [2, 2, 0, 1, 1, 1, 1, 1, 1, 2, 2, 2, 2, 2], [2, 2, 2, 0, 1, 1, 2, 2, 2, 2, 2, 2, 2], [2, 0, 1, 1, 1, 2, 2, 2, 2], [2, 2, 0, 1, 1, 1, 1, 2, 2, 2, 2, 2, 2, 2], [2, 2, 2, 2, 2, 0, 1, 1, 1, 1, 2, 2, 2], [2, 2, 2, 2, 2, 2, 0, 1, 1, 1, 1, 1, 1, 1, 2, 0, 1], [2, 2, 2, 0, 1, 1, 2, 2, 2, 2, 2, 2, 2, 2, 2, 2, 2], [2, 2, 2, 0, 1, 1, 2, 2, 2, 2, 2, 2], [2, 0, 1, 1, 2, 2, 2, 2, 2, 2, 2], [2, 0, 1, 2, 2, 2, 2, 2, 2], [0, 1, 1, 1, 1, 1, 2, 2, 2, 2, 2, 2, 2], [2, 2, 2, 2, 2, 2, 0, 1, 1, 2, 2, 2, 2, 2, 2, 2, 2, 2], [0, 1, 1, 1, 1, 1, 2, 2, 2, 2, 2, 2, 0, 1, 1, 1, 1, 1], [2, 2, 0, 1, 1, 1, 1, 1, 1, 2, 2, 2, 0], [2, 2, 2, 2, 2, 2, 2, 2, 0, 1, 1, 1, 1, 1, 1, 1, 1, 2, 2], [2, 2, 2, 2, 2, 2, 2, 2, 2, 2, 2, 0, 1, 1, 2], [2, 2, 2, 2, 0, 1, 2, 2, 2], [2, 0, 1, 1, 1, 1, 1, 1, 1, 2, 2, 2, 2, 2], [2, 2, 0, 1, 1, 1, 1, 1, 1, 1, 2, 2, 2, 2, 2, 2, 2, 2, 2], [2, 2, 0, 1, 1, 1, 1, 1, 1, 1, 1, 2, 2, 2], [0, 1, 1, 1, 1, 1, 1, 1, 1, 1, 1, 1, 1, 1, 1, 1, 1, 1, 1, 1, 1], [2, 2, 2, 2, 2, 2, 0, 1, 1, 1, 1, 1, 1, 1, 1, 1, 2, 2, 2, 2, 2, 2], [2, 0, 1, 1, 2, 2, 2, 2, 2, 2, 2, 2, 2, 2, 2, 2, 2, 2], [2, 2, 2, 2, 2, 2, 0, 1, 1, 2, 2, 2, 2, 2, 2, 2], [2, 2, 0, 1, 1, 2, 2, 2, 2, 2, 2, 2, 2], [2, 0, 1, 1, 1, 1, 2, 2, 2, 2, 2, 2], [2, 2, 2, 0, 1, 1, 2, 2, 2], [2, 0, 1, 1, 2, 2, 2, 2, 2, 2, 2], [2, 2, 0, 1, 1, 1, 1, 1, 2, 2, 2], [2, 2, 2, 0, 1, 2, 2, 2, 2, 2, 2, 2, 2, 2], [0, 1, 1, 1, 2, 2, 2, 2, 2, 2, 2, 2], [0, 1, 1, 1, 2, 2, 2, 2, 2], [2, 2, 0, 1, 1, 1, 1, 1, 1, 2], [2, 2, 0, 1, 1, 1, 1, 1, 1, 1, 2, 2, 2, 2], [2, 2, 0, 1, 1, 2, 2, 2, 2, 2, 2, 2, 2], [2, 2, 0, 1, 2, 2, 2, 2, 2, 2, 2, 2, 2], [0, 1, 1, 2, 2, 2, 2, 2, 2, 2], [2, 2, 0, 1, 1, 1, 1, 1, 2, 2, 2, 2], [2, 0, 1, 1, 2, 2, 2, 2, 2, 2, 2, 2, 2, 2, 2, 2], [2, 2, 2, 0, 1, 2, 2, 2, 2, 2, 2, 2, 2, 2], [2, 2, 2, 0, 1, 1, 1, 2, 2, 2, 2, 2, 2, 2, 2, 2, 2, 2], [2, 0, 1, 1, 1, 1, 2, 2, 2, 2, 2, 2, 2], [0, 1, 1, 1, 2, 2, 2, 2, 2, 2], [0, 1, 1, 1, 1, 2, 2, 2, 2, 2, 2, 2], [2, 2, 2, 2, 2, 2, 2, 2, 2, 0, 1, 1, 2], [2, 2, 2, 2, 2, 0, 1, 1, 2, 2, 2, 2], [0, 2, 0, 1, 1, 1, 2, 2, 2, 2, 2, 2, 2, 2, 2, 2, 2], [0, 1, 1, 1, 1, 2, 2, 2, 2, 2, 2, 2, 2], [0, 1, 1, 1, 2, 2, 2, 2, 2, 2, 2], [2, 2, 2, 2, 2, 2, 2, 0, 1, 1, 1, 2, 2], [2, 2, 2, 0, 1, 1, 2, 2, 2, 2, 2, 2, 2, 2], [0, 1, 1, 1, 1, 2, 2, 2, 2, 2, 2, 2, 2, 2], [0, 1, 1, 1, 2, 2, 2, 2, 2, 2, 2], [0, 2, 0, 2, 0, 1, 1, 1, 1, 1, 1, 1, 1, 1, 1, 2, 2, 2, 2, 2, 2, 2], [0, 1, 1, 1, 1, 1, 2, 2, 2, 2, 0], [2, 2, 2, 2, 2, 2, 0, 1, 1, 1, 1], [2, 2, 0, 1, 2, 2, 2, 2, 2, 2, 2, 2], [2, 2, 2, 0, 1, 1, 2, 2, 2, 2, 2, 2, 2, 2, 2, 2, 2, 2, 2], [2, 2, 0, 1, 1, 1, 2, 2, 2, 2, 2, 2, 2, 2], [2, 2, 2, 2, 2, 2, 2, 0, 1, 1, 1, 2, 2, 2], [2, 2, 2, 2, 0, 1, 1, 2], [0, 1, 1, 1, 1, 1, 1, 1, 1, 1, 1, 1, 1, 1, 1], [0, 1, 2, 0, 1, 1, 1, 1, 1, 2, 2], [2, 2, 0, 1, 2], [2, 0, 1, 1, 1, 1, 2, 2], [0, 1, 1, 2, 2, 2, 2, 2, 2, 2, 2], [2, 2, 2, 2, 0, 2, 0, 1, 1, 2], [2, 2, 2, 2, 2, 0, 1, 1, 1, 1, 1, 1, 1, 1, 2, 2], [2, 2, 2, 2, 2, 2, 0, 1, 1, 1, 1, 1, 1, 1, 1, 1], [2, 2, 0, 1, 1, 1, 1, 1, 1, 1, 1, 2, 2, 2, 2, 2, 2, 0], [0, 1, 1, 1, 1, 2, 2, 2, 2, 2, 2, 2], [2, 2, 2, 0, 1, 2, 2, 2, 2, 2], [2, 0, 1, 1, 1, 1, 1, 1, 1, 1, 2, 0, 1, 1], [0, 1, 1, 1, 1, 1, 2, 2, 2, 2, 2, 2, 2, 2, 2], [2, 0, 1, 1, 1, 1, 1, 2, 2, 2, 2, 2, 2, 2], [2, 2, 2, 2, 2, 2, 2, 2, 2, 2, 2, 0, 1, 2, 2, 2], [2, 0, 1, 1, 1, 1, 1, 1, 1, 1, 2], [2, 0, 1, 1, 1, 1, 2, 2, 2, 2, 2, 2, 2, 2, 2, 2], [2, 2, 2, 2, 0, 1, 1, 1, 1, 1, 1, 1, 2, 2, 2, 2], [2, 2, 2, 2, 0, 1, 1, 2, 2, 2, 2, 2, 2], [2, 2, 0, 1, 1, 1, 1, 1, 1, 1, 1, 1, 1, 1, 1, 1, 1, 1, 2, 2, 2, 2, 2, 2, 2, 2, 2, 2], [2, 2, 2, 0, 1, 2, 2, 2, 2, 2, 2, 2], [2, 2, 2, 2, 0, 1, 1, 1, 1, 2, 2, 2], [2, 2, 2, 0, 1, 1, 1, 1, 1, 1, 1, 1, 1, 1, 1, 2, 2, 0, 1, 1, 1, 1], [2, 2, 2, 2, 2, 2, 0, 1, 1, 1, 1, 1, 1, 1, 2, 2, 2], [2, 2, 0, 1, 1, 1, 1, 1, 1, 1, 1, 1, 1], [0, 2, 2, 2, 2, 2, 2, 2, 2, 2, 2, 2, 2, 2, 2], [0, 1, 1, 1, 2, 2, 2, 2, 2, 2, 2, 2, 2, 2], [0, 1, 1, 2, 2, 2, 2, 2, 2, 2, 2, 2, 2, 2], [2, 0, 1, 1, 1, 1, 1, 1, 1, 1, 1, 1, 1, 2, 2, 2, 2, 2, 2, 2, 2, 2, 2, 2], [2, 0, 1, 1, 1, 1, 1, 1, 1, 1, 1, 1, 1, 2, 2, 2, 2], [2, 2, 2, 0, 1, 1, 1, 1, 2, 2, 2, 2, 2, 2, 2], [2, 2, 2, 2, 2, 2, 0, 1, 1, 2, 2], [0, 1, 1, 2, 2, 2, 2, 2, 2, 2, 2, 2], [0, 1, 1, 1, 2, 2, 2, 2, 2, 2], [2, 2, 2, 2, 2, 2, 2, 2, 0, 1, 1, 1, 2, 2], [2, 2, 2, 2, 2, 2, 2, 2, 2, 0, 1, 1, 1, 1, 1, 1, 1, 2, 2], [0, 1, 1, 1, 1, 2, 2, 2, 2, 2, 2], [0, 1, 1, 1, 1, 2, 2, 2, 2, 2, 2, 2], [2, 2, 2, 0, 1, 1, 1, 1, 1, 1, 1, 2, 2], [2, 2, 0, 1, 1, 1, 1, 1, 1, 1, 1, 1, 1, 1, 1, 2, 2, 2, 2, 2, 2], [0, 1, 1, 1, 2, 2, 2, 2, 2, 2, 2], [0, 1, 1, 1, 1, 1, 2, 2, 2, 2, 2, 2, 2, 2, 2, 2], [2, 2, 2, 0, 1, 2, 2, 2], [2, 2, 2, 2, 2, 2, 2, 2, 0, 1, 1, 1, 1, 2], [2, 2, 2, 2, 0, 1, 1, 1, 2], [0, 1, 1, 2, 2, 2, 2], [0, 1, 1, 2, 2, 2, 2, 2, 2, 2, 2, 2, 2, 2, 2], [2, 0, 1, 1, 2, 2, 2, 2, 2, 2, 0, 1, 2, 2, 2, 2], [2, 2, 2, 2, 2, 2, 2, 2, 2, 0, 1, 1, 2, 2], [2, 2, 2, 2, 2, 2, 2, 2, 2, 0, 1, 1, 2, 2, 2, 2, 2, 2, 2, 2, 2], [0, 1, 1, 2, 2, 2, 2, 2, 2, 2], [2, 2, 0, 1, 1, 2, 2], [0], [2, 0, 1, 1, 1, 1, 1, 1, 1, 1, 1, 1, 1, 1, 1], [2, 0, 1, 1, 1, 1, 1, 1, 1, 1, 1, 1, 1, 2, 2, 2], [2, 2, 2, 0, 1, 1, 1, 1, 1, 1, 1, 1, 1, 1, 1, 1, 1, 1, 1, 1], [2, 2, 2, 0, 1, 1, 1, 2, 2, 2, 2, 2, 2, 2], [2, 2, 2, 2, 0, 1, 1, 1, 1, 1, 1, 1, 1, 1, 1, 1, 2, 2, 0, 1], [2, 2, 2, 0, 1, 1, 1, 1, 1, 2, 2, 2], [0, 1, 1, 1, 2, 2, 2, 2, 2, 2], [2, 2, 2, 2, 2, 2, 2, 2, 2, 2, 2, 0, 1, 1, 1, 2, 2], [2, 2, 2, 2, 0, 1, 1, 1, 2, 2, 2, 2], [0, 1, 1, 1, 1, 1, 1, 2, 2, 2], [2, 2, 0, 1, 1, 1, 1, 1, 1, 1, 1, 2, 0, 1, 1, 1], [0, 1, 2, 2, 2, 2, 2, 2, 2, 2, 2], [0, 1, 1, 1, 2, 2, 2, 2, 2, 2, 2, 2, 2, 2, 2, 2, 2], [0, 1, 1, 2, 2, 2, 2, 2, 2, 2, 2], [2, 2, 2, 0, 1, 1, 1, 1, 1, 1, 2, 2, 2], [2, 2, 2, 2, 2, 2, 2, 2, 0, 1, 1, 1, 1, 1, 1, 2, 0], [2, 2, 0, 1, 2, 2, 2, 2, 2, 2, 2, 2, 2], [0, 1, 1, 2, 2, 2, 2, 2, 2, 2, 2, 2, 2], [2, 2, 2, 2, 2, 2, 2, 2, 2, 2, 0, 1, 1, 1, 2], [2, 2, 2, 2, 2, 2, 2, 0, 1, 1, 1, 2, 2, 2], [0, 1, 1, 1, 2, 2, 2, 2, 2, 2, 2, 2, 2, 2, 2, 2], [2, 2, 2, 2, 2, 2, 2, 2, 0, 1, 1, 1, 2, 2, 2], [2, 2, 0, 1, 1, 1, 1, 1, 1, 1, 1, 1, 2], [0, 1, 1, 1, 1, 2, 2, 2, 2, 2], [2, 0, 1, 1, 2, 2, 2, 2, 2, 2, 2], [0, 1, 2, 2, 2, 2, 2, 2, 2, 2], [2, 2, 0, 1, 1, 2, 2, 2], [2, 0, 1, 1, 1, 1, 1, 1, 1, 1, 1, 2, 0, 1, 1, 1, 1, 2, 0, 1, 1, 1, 1, 1, 2, 2, 2], [0, 1, 1, 1, 1, 1, 2, 2, 2, 2, 2, 2, 2, 2, 2], [0, 1, 2, 2, 2, 2, 2, 2, 2], [2, 0, 1, 1, 1, 2, 2, 2, 2, 2, 2, 2, 2, 2, 2, 2], [0, 1, 1, 1, 2, 2, 2, 2, 2, 2, 2, 2], [2, 2, 0, 1, 1, 1, 1, 1, 1, 1, 1, 1, 1, 1, 1, 1, 2], [2, 2, 2, 2, 2, 2, 2, 0, 1, 1, 1, 1, 1, 1, 1, 2, 2, 2, 2], [2, 2, 2, 2, 2, 2, 0, 1, 2, 2, 2, 2], [0, 1, 1, 1, 2, 2, 2, 2, 2, 2, 2, 2, 2, 2, 2], [0, 1, 1, 1, 2, 2, 2, 2, 2, 2, 2, 2, 2, 2, 2, 2, 2, 2, 2, 2], [2, 2, 2, 2, 2, 0, 1, 1, 1, 2, 2, 2, 2, 2], [0, 1, 1, 1, 1, 2, 2, 2, 2, 2, 2, 2], [2, 2, 2, 2, 2, 0, 1, 1, 1, 1, 2], [2, 2, 2, 2, 0, 1, 1, 2, 2, 2, 2, 2, 2, 2, 2, 2], [2, 2, 2, 0, 1, 1, 2], [0, 1, 1, 2, 2, 2, 2, 2], [2, 2, 2, 2, 2, 2, 2, 2, 2, 2, 0, 1, 1, 2], [0, 1, 1, 1, 2, 2, 2, 2, 2, 2, 2, 2], [0, 1, 1, 1, 1, 2, 2, 2, 2, 2, 2, 2, 2, 2, 2, 2, 2, 2, 2, 2, 2, 2], [2, 2, 2, 2, 2, 2, 2, 2, 0, 1, 2, 2, 2], [2, 2, 2, 2, 2, 2, 0, 1, 1, 1, 1, 1, 1, 1, 1, 1, 1, 2, 0, 1], [2, 2, 0, 1, 1, 2, 2, 2, 2, 2, 2, 2, 2, 2], [2, 2, 2, 2, 0, 1, 2, 2, 2, 2, 2, 2, 2, 2], [2, 2, 0, 1, 1, 2, 2, 2, 2, 2, 2, 2, 2, 2, 2, 2, 2], [2, 2, 0, 1, 1, 1, 2, 2, 2, 2, 2, 2, 2, 2, 2, 2, 2, 2], [2, 0, 1, 1, 1, 1, 1, 1, 1, 1, 1, 1, 1, 1, 1, 1, 1, 1, 1, 1, 1, 1, 1, 1, 1, 1, 1, 1], [2, 2, 2, 2, 2, 2, 2, 0, 1, 1, 1, 2, 2, 2], [0, 1, 1, 2, 2, 2, 2, 2, 2, 2, 2, 2], [2, 2, 0, 1, 1, 2, 2, 2, 2], [2, 2, 2, 2, 2, 0, 1, 1, 2, 2, 2, 2, 2], [0, 1, 1, 1, 1, 1, 2, 2, 2, 2, 2, 2, 2, 2, 2, 2, 2, 2], [2, 2, 0, 1, 1, 2, 2, 2, 2, 2, 2, 2, 2], [0, 1, 1, 2, 2, 2, 2, 2, 2, 2, 2, 2, 2], [0, 1, 1, 1, 2, 2, 2, 2, 2, 2, 2, 2, 2, 2, 2, 2], [2, 2, 2, 2, 2, 2, 2, 0, 1, 1, 1, 1, 1, 2], [2, 0, 1, 1, 1, 1, 2, 2, 2, 2, 2, 2, 2, 2, 2], [2, 2, 0, 1, 1, 1, 1, 1, 1, 1, 1, 1, 1, 1, 1, 1, 1, 1, 1, 1, 1, 1, 1, 1, 1], [2, 2, 2, 2, 2, 2, 0, 1, 2], [2, 2, 2, 2, 0, 1, 1, 1, 1, 1, 2, 2, 2, 2, 2, 2], [2, 2, 2, 0, 1, 1, 1, 1, 2, 2, 2, 2, 2], [0, 1, 1, 1, 1, 1, 1, 1, 1, 1, 2, 2, 2, 2, 2, 2, 2, 2], [0, 1, 1, 2, 2, 2, 2, 2, 2, 2, 2, 2, 2, 2], [2, 0, 1, 1, 1, 2, 2, 2, 2, 2, 2, 2, 2], [2, 2, 2, 0, 1, 1, 2, 2, 2, 2, 2, 2], [2, 2, 2, 2, 2, 2, 2, 2, 0, 1, 1, 2, 2], [0, 1, 1, 1, 1, 1, 1, 1, 1, 1, 2, 2, 2, 2, 2, 2, 2], [2, 2, 2, 0, 1, 1, 1, 1, 2, 2, 2, 2, 2, 2], [2, 2, 2, 2, 2, 2, 2, 2, 2, 2, 2, 0, 1, 1, 1, 1, 1, 1, 2, 2], [2, 2, 2, 2, 2, 2, 2, 2, 2, 0, 1, 1, 1, 1, 1, 1, 1, 2, 0, 1], [2, 2, 2, 2, 2, 2, 2, 0, 1, 2, 2, 2, 2, 2, 2, 2, 2], [2, 2, 2, 2, 0, 1, 1, 2, 2, 2, 2], [2, 2, 2, 2, 2, 2, 2, 2, 2, 2, 0, 1, 1, 1, 2], [2, 2, 2, 2, 2, 2, 2, 2, 2, 2, 2, 2, 2, 2, 0, 1, 1, 1, 2], [0, 1, 1, 1, 1, 1, 1, 1, 1, 1, 1, 1, 1, 1, 1, 1, 1, 2, 2, 2, 2, 2, 2, 2, 2, 2, 2], [0, 1, 1, 1, 1, 1, 1, 2, 2, 2, 0, 1, 1, 1, 1], [2, 2, 2, 2, 2, 2, 2, 0, 1, 1, 1, 1, 1, 2, 2, 2, 2], [2, 2, 2, 2, 2, 2, 2, 0, 1, 1, 1, 1, 1, 1, 1, 1, 1, 1, 1, 1, 1, 1, 1, 1, 2, 0, 1], [0, 1, 1, 1, 1, 2, 2, 0, 1, 1, 2, 2, 0, 2, 2, 2, 2, 2], [2, 2, 2, 2, 2, 2, 2, 2, 0, 1, 1, 2, 2, 2, 2, 2, 2, 2, 2], [2, 2, 2, 2, 2, 2, 2, 2, 2, 0, 1, 1, 1, 1, 2, 2, 2, 2, 2, 2], [0, 1, 1, 1, 1, 1, 2, 0, 1, 1, 1, 1, 1, 1, 1], [2, 2, 2, 2, 0, 2, 0, 1, 2, 0, 2, 2, 2], [0, 1, 1, 2, 2, 2, 2, 2, 2, 2, 2, 2], [2, 0, 1, 1, 1, 1, 1, 2, 2, 2, 2, 2, 2, 2], [2, 0, 1, 1, 1, 2, 2, 2, 2, 2, 2, 2, 2, 2], [0, 1, 1, 1, 1, 1, 1, 1, 2, 0, 2, 2, 2, 2, 2, 2, 2, 2], [2, 2, 0, 1, 1, 1, 1, 1, 2, 2, 2, 2, 2, 2, 2, 2], [2, 0, 1, 2, 2, 2, 2, 2, 2, 2, 2], [0], [2, 2, 2, 2, 2, 2, 0, 1, 1, 1, 1, 1, 1, 1, 1, 2, 2, 0, 1, 1], [0, 1, 1, 2, 2, 2, 2, 2, 2, 2, 2, 2, 2, 2], [2, 2, 0, 1, 1, 1, 1, 2, 2, 2, 2, 2, 2, 2, 2], [2, 2, 0, 1, 1, 1, 1, 2, 2, 2, 2, 2, 2, 2], [2, 0, 1, 1, 1, 1, 1, 1, 2, 2, 2, 2, 2, 2, 2, 2, 2, 2, 2, 2, 2, 2], [2, 2, 2, 2, 2, 0, 1, 2, 2, 2, 2, 2], [2, 0, 1, 1, 1, 1, 1, 1, 1, 1, 1, 1, 1, 1, 1], [2, 2, 2, 2, 2, 0, 1, 1, 1, 1, 1, 1, 1, 1, 1, 1, 1, 1, 1, 1, 1, 1, 1], [0, 1, 1, 1, 2, 2, 2, 2, 2, 2, 2, 2], [0, 1, 1, 1, 1, 2, 0, 1, 1, 1, 1, 1, 1, 1, 1], [2, 2, 0, 1, 2, 2, 2, 2, 2, 2], [2, 2, 2, 2, 2, 2, 0, 1, 1, 1, 2], [2, 2, 2, 2, 2, 2, 0, 1, 1, 2, 2, 2, 2, 2], [2, 2, 2, 2, 2, 2, 2, 0, 1, 1, 2, 2], [2, 2, 0, 1, 1, 2, 2, 2, 2, 2], [2, 2, 2, 2, 2, 2, 2, 2, 2, 2, 0, 1, 2], [0, 1, 1, 2, 2, 2, 2, 2, 2, 2, 2, 2], [2, 2, 2, 2, 2, 2, 0, 1, 1, 1, 1, 1, 1, 2, 2], [2, 2, 2, 2, 2, 2, 0, 1, 1, 1, 1], [2, 2, 2, 2, 0, 1, 1, 1, 1, 1, 1, 1, 1, 2, 0, 1], [2, 2, 0, 1, 1, 1, 2, 2, 2, 2, 2], [0, 1, 1, 1, 1, 2, 2, 2, 2, 2, 2, 2, 2, 2, 2, 2], [2, 2, 0, 1, 1, 1, 2, 2, 2, 2], [2, 2, 2, 0, 1, 1, 2, 2, 2, 2, 2, 2, 2, 2, 2, 2, 2], [2, 2, 2, 2, 2, 2, 2, 2, 0, 1, 1, 1, 2, 2, 2], [2, 0, 1, 1, 1, 1, 1, 1, 2, 2, 2, 2, 2, 2, 2, 2, 2], [2, 2, 2, 0, 1, 1, 2, 0, 1, 1, 1, 1, 1, 1], [0, 1, 1, 2, 2, 2, 2, 2, 2, 2, 2, 2, 2], [0, 1, 2, 2, 2, 2, 2, 2, 2, 2], [0, 1, 1, 2, 2, 2, 2, 2, 2, 2], [2, 2, 0, 1, 1, 1, 1, 1, 1, 1, 2, 2], [0, 1, 1, 2, 2, 2, 2, 2, 2, 2, 2, 2, 2], [0, 1, 1, 1, 1, 2, 2, 2, 2, 2, 2, 2, 2, 2], [0, 1, 1, 2, 2, 2, 2, 2, 2, 2, 2], [2, 2, 2, 0, 2, 2, 2, 2, 0, 1, 1, 1, 1, 1, 1, 1, 1, 1], [0, 1, 1, 2, 2, 2, 2, 2, 2, 2, 2, 2, 2], [2, 2, 0, 1, 1, 1, 2, 2, 2, 2], [0, 1, 1, 1, 2, 2, 2, 2, 2, 2, 2], [2, 2, 2, 2, 2, 2, 2, 2, 2, 0, 1, 1, 1, 1, 1, 1, 1, 1, 1, 1], [2, 2, 2, 2, 2, 2, 2, 2, 2, 2, 2, 0, 1, 1, 2], [0, 1, 1, 1, 1, 2, 2, 0, 1, 1, 2, 2, 0, 1], [0, 1, 1, 1, 1, 2, 2, 2, 2, 2, 2, 2, 2, 2], [2, 2, 2, 2, 2, 0, 1, 1, 1, 1, 2, 2, 2, 2, 2], [2, 2, 0, 1, 2, 2, 2, 2, 2, 2], [0, 1, 1, 1, 2, 2, 2, 2, 2, 2, 2, 2, 2], [2, 2, 2, 0, 1, 1, 1, 2, 2, 2, 2, 2, 2, 2, 2, 2], [0, 1, 1, 1, 2, 2, 2, 2, 2, 2, 2, 2], [2, 2, 2, 0, 1, 2, 2, 2, 2, 2], [2, 2, 2, 0, 1, 1, 1, 1, 1, 2, 2, 2, 2], [0, 1, 2, 2, 2, 2, 2, 2, 2, 2, 2, 2, 2, 2, 2, 2], [0, 1, 1, 2, 2, 2, 2, 2, 2, 2, 2, 2, 2, 2, 2], [2, 2, 2, 2, 2, 2, 2, 2, 0, 1, 1, 2], [2, 0, 1, 1, 1, 1, 1, 1, 1, 1, 1, 1, 1, 1, 1, 1, 1, 1], [2, 0, 1, 1, 1, 1, 1, 2, 2, 2, 2, 2, 2, 2, 2, 2, 2, 2, 0], [0, 1, 1, 1, 2, 2, 2, 2, 2, 2, 2, 2, 2, 2, 2], [2, 2, 2, 2, 2, 0, 1, 1, 1, 1, 1, 1, 2, 2, 2, 2, 2, 2, 2, 2, 2, 2], [2, 2, 2, 2, 0, 1, 1, 2, 2, 2, 2, 2, 2, 2, 2, 2], [0, 1, 1, 2, 2, 2, 2, 2, 2, 2, 2, 2, 2], [2, 2, 2, 0, 1, 1, 2, 2, 2, 2, 2, 2], [0, 1, 1, 2, 2, 2, 2, 2, 2, 2, 2, 2], [2, 2, 0, 1, 1, 1, 1, 2, 2, 0, 1, 1, 1], [2, 2, 2, 2, 0, 1, 2, 2, 2, 2, 2, 2, 2], [2, 2, 0, 1, 1, 1, 1, 1, 1, 1, 1, 1, 1, 1, 1, 1], [2, 2, 2, 2, 2, 2, 2, 2, 2, 0, 1, 1, 1, 2, 2, 2], [2, 2, 2, 2, 2, 2, 2, 2, 2, 2, 2, 2, 2, 2, 2, 0, 1, 1, 1, 1, 1, 1, 1, 1, 1, 1, 2, 2, 2], [2, 2, 2, 2, 0, 1, 1, 1, 1, 1, 2], [2, 2, 2, 2, 2, 2, 2, 2, 2, 0, 1, 2, 2, 2, 2, 2, 2], [2, 2, 2, 2, 2, 2, 0, 1, 1, 1, 2, 2, 2, 2, 2, 2, 2, 2, 2, 2], [2, 2, 0, 1, 1, 1, 1, 1, 1, 1, 2, 2, 2, 2, 2, 2, 2, 2, 2, 2, 2, 2], [2, 2, 0, 1, 2, 2, 2, 2, 2, 2, 2, 2, 2, 2, 2, 2, 2, 2], [2, 2, 2, 2, 2, 2, 2, 0, 1, 1, 2, 2, 2], [2, 0, 1, 1, 1, 1, 1, 1, 1, 1, 1, 2], [0, 1, 1, 1, 2, 2, 2, 2, 2, 2, 2, 2, 2], [2, 2, 2, 2, 2, 2, 2, 2, 2, 2, 2, 2, 0, 1, 1, 2, 2, 2, 0, 1], [2, 2, 2, 0, 1, 1, 2, 2, 2, 2, 2, 2, 2, 2, 2, 2, 2], [2, 2, 0, 1, 1, 1, 2, 2, 2, 2, 2, 2], [2, 2, 2, 0, 2, 0, 1, 1, 1, 1, 1, 1, 1, 1, 1, 1, 1, 2, 2, 2, 0], [2, 2, 2, 2, 2, 0, 1, 1, 1, 1, 1, 1, 2, 2, 2, 2, 2, 2, 2, 2, 2, 2], [2, 2, 0, 1, 1, 1, 2, 2, 2, 2, 2, 2, 2, 2, 2, 2, 2, 2, 2], [2, 2, 0, 1, 1, 1, 1, 1, 1, 1, 1, 1, 2], [2, 2, 0, 1, 1, 2, 2, 2, 2, 2, 2, 2, 2, 2, 2, 2, 2, 2, 2, 2, 2, 2, 2, 2], [0, 1, 1, 1, 1, 1, 1, 1, 1, 2, 0, 1, 1, 1, 1, 1, 1, 1, 1], [2, 2, 2, 0, 1, 2, 2, 2, 2, 2, 2, 2], [2, 2, 2, 2, 2, 2, 2, 2, 0, 1, 2, 2, 2, 2, 0, 1, 2], [0, 1, 1, 2, 2, 2, 2, 2, 2, 2, 2], [2, 2, 2, 0, 1, 1, 1, 1, 1, 2, 0, 1, 1, 1, 1], [2, 2, 2, 2, 2, 2, 2, 0, 1, 1, 1, 2], [2, 2, 2, 2, 2, 0, 1, 1, 1, 1, 1, 1, 2, 2, 2], [2, 0, 1, 1, 2, 2, 2, 2, 2, 2, 2, 2, 2, 2], [0, 1, 1, 1, 1, 1, 1, 1, 2, 2, 2, 2, 0, 1, 1, 1], [2, 2, 2, 2, 2, 2, 2, 0, 1, 1, 1, 1, 1], [2, 0, 1, 2, 2, 2, 2, 2, 2, 2, 2, 2, 2], [2, 2, 0, 1, 1, 2, 2, 2, 2, 2, 2, 2, 2, 2, 2, 2, 2], [2, 2, 2, 2, 2, 2, 0, 1, 2, 2, 2, 2], [0, 1, 1, 1, 2, 2, 2, 2, 2, 2, 2, 2, 2, 2], [0, 1, 1, 2, 2, 2, 2, 2, 2, 2, 2, 2, 2], [0, 1, 1, 1, 1, 1, 2, 2, 2, 2, 2, 2, 2, 2, 2, 2, 2, 2], [2, 2, 2, 2, 2, 2, 0, 1, 1, 1, 2, 2, 2, 2, 2], [2, 0, 1, 1, 2, 2, 2, 2, 2, 2, 2, 2], [2, 2, 2, 2, 2, 2, 0, 1, 1, 1, 1, 2, 2, 2], [2, 2, 2, 2, 2, 2, 0, 1, 1, 1, 1, 1, 1, 2, 0, 1, 2], [2, 2, 2, 2, 2, 2, 2, 2, 2, 2, 2, 2, 2, 0, 1, 1, 1, 1, 1, 2, 2, 2], [0], [0], [2, 2, 2, 2, 0, 1, 1, 2, 2, 2, 2, 2], [0, 1, 2, 2, 2, 2, 2, 2, 2, 2, 2], [2, 2, 2, 2, 2, 2, 2, 2, 2, 2, 0, 1, 1, 1, 1, 2, 2, 2, 2], [2, 2, 0, 1, 1, 1, 2, 2, 2, 2, 2, 2], [2, 2, 2, 2, 2, 2, 2, 2, 2, 2, 2, 0, 1, 1, 2], [0, 1, 1, 1, 2, 2, 2, 2, 2, 2, 0], [2, 2, 0, 1, 1, 2, 2, 2, 2, 2], [0, 1, 1, 1, 2, 2, 2, 2, 2, 2, 2, 2, 2, 2, 2], [2, 2, 2, 2, 2, 2, 2, 2, 2, 2, 0, 1, 2, 0, 2, 2, 2], [0, 1, 1, 2, 2, 2, 2, 2, 2, 2], [2, 2, 2, 0, 1, 1, 2, 2, 2, 2, 2, 2], [2, 0, 1, 1, 1, 1, 1, 2, 2, 2, 2, 2, 2, 2, 2, 2, 2], [0, 1, 1, 2, 2, 2, 2, 2, 2, 2, 2, 2], [2, 0, 1, 1, 2, 2, 2, 2, 2, 2, 2], [2, 2, 0, 1, 1, 1, 1, 1, 1, 1, 1, 1, 1, 1, 2, 2, 2, 2, 0], [2, 2, 2, 2, 2, 0, 1, 1, 1, 1, 1, 2, 2], [0, 1, 1, 1, 2, 2, 2, 2, 2, 2, 2, 2, 2, 2, 2], [0], [0, 1, 1, 1, 2, 2, 2, 2, 2, 2, 2], [0, 1, 1, 1, 2, 2, 2, 2, 2, 2, 2, 2, 2, 2, 2, 2], [2, 0, 1, 1, 1, 1, 2, 2, 2, 2, 2, 2, 2, 2, 2], [0, 1, 1, 1, 2, 2, 2, 2, 2, 2, 2, 2, 2, 2, 2], [2, 2, 2, 2, 2, 2, 2, 2, 2, 2, 0, 1, 1, 1, 1, 2], [2, 2, 2, 2, 2, 2, 2, 2, 2, 2, 0, 1, 1, 1, 2], [2, 0, 1, 1, 2, 2, 2, 2, 2, 2, 2, 2, 2, 2, 2], [2, 2, 2, 2, 0, 1, 1, 2, 2, 2, 2, 2, 2, 2], [2, 2, 2, 2, 0, 1, 1, 1, 1, 2, 2, 2, 2], [2, 2, 2, 2, 2, 2, 0, 1, 1, 1, 1, 1, 2], [2, 2, 2, 2, 2, 2, 2, 0, 1, 1, 1, 1, 2, 2, 2], [2, 2, 2, 0, 1, 1, 1, 1, 2, 2, 2, 2, 2, 2, 2, 2, 2], [2, 2, 2, 2, 2, 0, 1, 1, 2, 2, 2, 2, 2], [2, 2, 2, 2, 2, 0, 1, 2, 2, 2, 2, 2, 2, 2], [2, 2, 2, 2, 2, 2, 0, 1, 1, 1, 1, 1, 1, 1, 1, 1, 2, 2], [0, 1, 1, 1, 2, 2, 2, 2, 2, 2, 2, 2, 2, 2, 2, 2], [2, 2, 2, 2, 2, 2, 2, 2, 2, 0, 1, 1, 1, 1, 1, 1, 1, 2, 2], [0, 1, 1, 1, 1, 1, 1, 1, 1, 1, 1, 1, 1, 1, 1, 1, 1, 1, 1, 1, 1], [2, 2, 2, 0, 1, 1, 1, 1, 1, 1, 1, 1, 1, 1, 1, 1, 1, 1], [0, 1, 1, 1, 1, 1, 2, 2, 2, 2, 2, 2, 2, 2, 2, 2], [2, 2, 2, 2, 2, 2, 2, 2, 2, 2, 2, 0, 1, 1, 2], [2, 2, 2, 2, 2, 2, 2, 2, 2, 2, 0, 1, 1, 2], [2, 2, 2, 2, 2, 2, 2, 2, 2, 2, 0, 1, 1, 1, 1, 1, 2, 0], [2, 2, 0, 1, 1, 1, 1, 1, 2, 2, 2], [2, 2, 2, 2, 2, 2, 0, 1, 1, 2, 2], [2, 2, 2, 0, 1, 1, 1, 2, 2, 2, 2, 2], [2, 2, 2, 0, 1, 1, 1, 2, 2, 2, 2, 2, 2, 2, 2, 2], [0, 1, 1, 2, 0, 1, 1, 1, 1], [2, 2, 2, 0, 1, 1, 1, 1, 1, 2, 2, 2, 2, 2, 2, 2, 2, 2], [0, 1, 1, 1, 1, 1, 1, 1, 2, 0, 1, 1, 1, 1, 1, 1, 1, 2, 0], [2, 0, 1, 1, 1, 2, 2, 2, 2, 2, 2, 2, 2, 2], [2, 2, 2, 2, 2, 0, 1, 1, 2, 2, 2, 2, 2], [0, 1, 1, 1, 2, 2, 2, 2, 2, 2, 2, 2], [2, 2, 2, 0, 1, 1, 2, 2, 2, 2, 2, 2, 2], [2, 2, 0, 1, 1, 1, 2, 2, 2, 2, 2, 2, 2], [2, 2, 2, 2, 2, 2, 0, 1, 1, 1, 1, 2, 0], [2, 2, 0, 1, 1, 2, 2, 2, 2, 2, 2], [2, 2, 0, 1, 1, 1, 1, 1, 2, 2, 2, 2, 2, 2, 2, 2], [2, 2, 2, 2, 2, 2, 2, 2, 0, 1, 2], [2, 2, 2, 0, 1, 2, 2, 2, 2, 2, 2, 2], [0, 1, 1, 1, 1, 2, 2, 2, 2, 2], [2, 0, 1, 1, 2, 2, 2, 2, 2, 2, 2, 2, 2, 2, 2, 2], [2, 2, 2, 0, 1, 2, 2, 2, 2, 2, 2], [0, 1, 1, 1, 2, 2, 2, 2, 2, 2, 2, 2, 2, 2, 2], [2, 0, 1, 1, 1, 1, 1, 1, 1, 1, 2, 2], [2, 2, 0, 1, 2, 2, 2, 2, 2, 2, 2, 2, 2, 2], [2, 2, 2, 2, 2, 2, 0, 1, 1, 1, 1, 1, 1, 1, 1, 1], [2, 2, 2, 0, 1, 1, 1, 1, 1, 1, 1, 2, 2], [0, 1, 1, 1, 2, 2, 2, 2, 2, 2, 2], [2, 0, 1, 1, 1, 2, 2, 2, 2, 2], [2, 2, 2, 0, 1, 1, 1, 1, 2, 2, 2, 2, 2, 2], [0, 1, 1, 1, 2, 2, 2, 2, 2, 2, 2, 2, 2], [0, 1, 1, 2, 2, 2, 2, 2], [2, 2, 2, 2, 0, 1, 1, 1, 1, 1, 1, 1, 1, 1, 1, 1, 1, 2, 2], [2, 2, 2, 0, 1, 1, 1, 1, 1, 1, 2, 2], [2, 2, 2, 0, 1, 1, 1, 2, 2, 2, 2, 2, 2], [2, 0, 1, 1, 1, 1, 1, 1, 1, 1, 1, 1, 1, 2, 2, 2, 2], [2, 0, 1, 1, 1, 1, 1, 1, 1, 1, 1, 1, 1], [0, 1, 1, 1, 2, 2, 2, 2, 2, 2, 2, 2, 2, 2, 2], [2, 2, 2, 2, 2, 2, 0, 1, 1, 1, 1, 1, 1, 1, 2, 2], [0, 1, 1, 1, 1, 1, 1, 1, 1, 2, 2], [0, 1, 1, 2, 2, 2, 2, 2, 2, 2, 2, 2, 2, 2, 2], [2, 2, 0, 1, 1, 2, 2, 2], [0, 1, 1, 1, 2, 2, 2, 2, 2, 2, 2, 2, 2, 2], [0, 1, 1, 1, 1, 2, 2, 2, 2, 0, 1, 1, 1, 1, 2, 0, 1], [2, 2, 2, 2, 2, 2, 0, 1, 1, 1, 1, 2, 2], [2, 2, 2, 2, 2, 2, 2, 2, 2, 0, 1, 1, 2, 2, 2], [0, 1, 1, 1, 1, 1, 1, 1, 1, 1, 2, 2, 2, 2, 2, 2, 2, 2, 2, 2, 2, 2, 2, 2, 2, 2], [2, 2, 2, 0, 1, 1, 1, 1, 1, 1, 1, 1, 1, 1, 1, 1, 1, 1, 2, 0, 1], [2, 0, 1, 2, 2, 2, 2, 2, 2, 2, 2, 2, 2, 2, 2, 2, 2, 2], [2, 2, 2, 2, 2, 2, 2, 0, 1, 1, 1, 1, 2, 2, 2, 2, 2, 2, 2, 2, 2, 2], [0, 1, 1, 1, 2, 2, 2, 2], [2, 2, 2, 2, 2, 2, 2, 2, 2, 2, 2, 0, 1, 1, 1, 1, 2, 2, 2], [2, 2, 2, 2, 2, 2, 2, 2, 2, 2, 2, 2, 2, 0, 1, 1, 1, 2, 2], [0, 1, 1, 1, 2, 2, 2, 2, 2, 2], [0, 1, 1, 1, 2, 2, 2, 2, 2, 2, 2], [0, 1, 1, 2, 2, 2, 2, 2, 2, 2, 2, 2], [2, 2, 2, 2, 0, 1, 1, 1, 1, 1, 1, 2, 2, 2, 2], [2, 2, 2, 0, 1, 1, 2, 0], [2, 2, 2, 0, 1, 1, 1, 1, 1, 1, 2, 2, 2, 0], [2, 2, 2, 2, 0, 1, 1, 1, 1, 1, 2, 2, 2, 2, 2, 2, 2], [0, 1, 1, 2, 2, 2, 2, 2, 2, 2, 2, 2, 2, 2], [2, 2, 0, 1, 1, 1, 2, 2, 2, 2, 2, 2, 2, 2, 2], [2, 2, 2, 2, 0, 1, 1, 1, 1, 1, 2, 2, 2, 2, 2, 2, 2], [2, 2, 2, 0, 1, 2, 2, 2, 2, 2, 2, 2], [2, 2, 2, 0, 1, 1, 2, 2, 2, 2, 2, 2, 2, 2, 2], [0, 1, 1, 1, 2, 2, 2, 2, 2, 2, 2, 2, 2, 2, 2, 2, 2], [2, 2, 2, 2, 0, 1, 1, 1, 1, 1, 1, 1, 1], [2, 2, 2, 0, 1, 1, 1, 1, 1, 1, 2, 2, 2, 2], [2, 2, 2, 0, 1, 1, 2, 2, 2], [2, 2, 0, 1, 1, 1, 2, 2, 2, 2, 2, 2, 2, 2], [2, 0, 1, 1, 1, 1, 1, 1, 1, 1, 1, 1], [0, 1, 1, 2, 2, 2, 2, 2, 2, 2, 2, 2, 2, 2], [0, 1, 1, 2, 2, 0, 1, 1, 1, 1, 1, 1, 1], [0, 1, 1, 1, 2, 2, 2, 2, 2, 2, 2, 2, 2, 2, 2], [0, 1, 1, 2, 2, 2, 2, 2, 2, 2, 2, 2, 2, 2, 2, 2, 2], [2, 2, 2, 2, 2, 2, 2, 2, 0, 1, 1, 1, 2, 2, 2, 2], [0, 1, 1, 1, 2, 2, 2, 2, 2, 2, 2, 2, 2], [2, 2, 2, 2, 0, 1, 1, 1, 2, 2, 0, 1, 1, 1, 1, 1, 1, 1, 2, 2, 2, 2], [2, 2, 2, 2, 2, 2, 0, 1, 1, 1, 2, 2], [0, 1, 1, 2, 2, 2, 2, 2, 2, 2, 2, 2, 2, 2, 2, 2], [0, 1, 1, 1, 1, 1, 1, 1, 1, 1, 2, 2], [2, 2, 2, 2, 2, 2, 2, 2, 0, 1, 1, 1, 2, 2], [2, 2, 2, 0, 1, 1, 2, 2, 2, 2, 2, 2], [0, 1, 1, 2, 2, 2, 2, 2, 2, 2, 2], [0, 1, 1, 1, 1, 1, 2, 2, 2, 2, 2, 2, 2, 2], [2, 2, 2, 0, 1, 1, 1, 1, 1, 1, 2, 0, 1, 1], [2, 2, 2, 2, 2, 2, 0, 1, 1, 2, 2], [2, 0, 1, 1, 2, 2, 2, 2, 2], [2, 0, 1, 1, 1, 1, 1, 1, 1, 1, 1, 1, 1, 1, 2, 2, 2, 2, 2, 2, 2], [2, 2, 2, 0, 1, 1, 1, 1, 2, 2, 2, 2, 2, 2], [2, 0, 1, 1, 1, 1, 1, 2, 2, 2, 2, 2, 2, 2, 2, 2, 2], [2, 2, 2, 2, 0, 1, 1, 2, 2, 2, 2, 2, 2, 2, 2, 2, 2], [2, 2, 2, 2, 0, 1, 1, 2, 2, 2, 2, 2, 2, 2, 2, 2, 2, 2], [2, 2, 2, 2, 0, 1, 1, 1, 1, 1, 1, 1, 1, 1, 1, 1, 1, 2, 0, 1], [2, 0, 1, 1, 1, 2, 0, 1, 2, 2, 2, 2, 2, 2, 2, 2, 2, 2, 2, 2, 2, 2, 2, 2, 2, 2, 2, 2], [2, 2, 2, 0, 1, 1, 1, 1, 1, 1, 1, 1, 1, 1, 1, 2, 2, 2, 2, 2], [0, 1, 1, 1, 2, 2, 2, 2, 2, 2, 2, 2, 2, 2], [2, 2, 0, 1, 1, 1, 1, 1, 1, 1, 1, 1, 1, 1, 1, 1, 1, 1, 2, 2, 0, 1, 1, 1], [0, 1, 1, 1, 2, 2, 2, 2, 2, 2, 2, 2, 2], [0, 1, 1, 2, 2, 2, 2, 2, 2, 2, 2, 2, 2], [0, 1, 1, 2, 2, 2, 2, 2, 2, 2, 2, 2, 2, 2, 2], [2, 2, 0, 1, 2, 2, 2, 2, 2, 0, 1, 1, 2, 2], [0, 1, 1, 1, 1, 1, 1, 1, 1, 1, 1, 1, 1, 1, 1, 1, 1, 1, 1], [2, 2, 2, 2, 2, 2, 2, 2, 2, 2, 0, 1, 1, 1, 1, 2, 2, 2], [2, 2, 2, 2, 2, 0, 1, 1, 1, 1, 1, 1, 1, 1, 1, 1, 1, 1, 1, 1, 1, 2, 0, 1], [0, 1, 1, 1, 2, 2, 2, 2, 2, 2, 2, 2, 2, 2, 2, 2, 2, 2, 2, 2, 2, 2, 2, 2], [0, 1, 1, 1, 1, 2, 2, 2, 2, 2, 2, 2, 2, 2, 2, 2, 2, 2], [2, 2, 2, 2, 2, 2, 0, 1, 1, 1, 1, 1, 2, 2, 2], [0, 1, 1, 1, 1, 1, 1, 1, 1, 1, 1, 1, 1, 1, 1, 2, 2, 2, 2, 2, 2, 2, 2, 0], [2, 2, 2, 2, 2, 0, 1, 1, 1, 2, 2, 2], [2, 2, 2, 2, 0, 1, 1, 1, 1, 1, 1, 1, 2, 2, 2, 2, 2, 2, 2], [0, 1, 1, 1, 2, 2, 2, 0, 1, 1, 1, 1, 1, 1, 1, 1, 1, 1], [2, 2, 0, 1, 1, 2, 2, 2, 2, 2, 2, 2, 2, 2, 2, 2, 2, 2, 2], [2, 2, 2, 2, 2, 2, 2, 0, 1, 1, 1, 2, 2], [0, 1, 1, 2, 2, 2, 2, 2, 2, 2, 2], [2, 0, 1, 1, 1, 1, 1, 1, 2, 2, 2, 2, 2, 2, 2, 2, 2, 2], [2, 2, 0, 1, 1, 1, 1, 1, 1, 1, 1, 1, 1, 1, 2, 2, 2, 2, 2, 2, 2, 2], [2, 0, 1, 2, 2, 2, 2, 2, 2, 2, 2, 2], [0, 1, 1, 1, 1, 1, 1, 2, 2, 2, 2, 2, 2, 2, 2, 2, 2, 2, 2, 2], [2, 0, 1, 2, 2, 2, 2, 2, 0, 1, 1, 1, 1, 1], [0, 1, 1, 1, 2, 2, 2, 2, 2, 2, 2, 2], [2, 2, 2, 0, 1, 1, 2, 2, 2, 2, 2, 2, 2, 2, 2, 2, 2, 2], [2, 2, 2, 2, 2, 2, 2, 2, 0, 1, 1, 2, 2, 2, 2, 2, 2], [2, 0, 1, 1, 1, 2, 2, 2, 2, 2, 2, 2, 2, 2, 2, 2, 2, 2, 2], [2, 0, 1, 2, 2, 2, 2, 2, 2], [2, 2, 2, 2, 0, 1, 1, 1, 1, 1, 2, 2, 0], [2, 0, 1, 1, 1, 2, 2, 2, 2, 2, 2, 2, 2], [0, 1, 1, 1, 1, 2, 2, 2, 2, 2, 2, 2], [2, 2, 2, 0, 1, 1, 1, 1, 2, 2], [2, 0, 1, 2, 2, 2, 2, 2], [2, 2, 2, 2, 0, 1, 1, 1, 1, 2, 2, 2, 2], [2, 2, 2, 0, 1, 1, 1, 2, 2], [2, 2, 2, 0, 1, 1, 2, 0, 1, 1, 1, 1, 1, 1, 1, 2, 2, 2, 2, 2, 2, 2, 2, 2, 2, 2], [2, 2, 2, 0, 1, 1, 1, 2, 2, 2, 2, 2, 2, 2, 2, 2, 2, 2, 2, 2, 2, 2], [2, 2, 2, 2, 2, 2, 0, 1, 1, 1, 1, 1, 1, 1, 1, 1, 1, 1, 1, 1, 1, 1, 1, 1, 2, 2], [2, 2, 2, 2, 2, 2, 2, 0, 1, 1, 1, 1, 1, 2, 2], [2, 2, 2, 2, 2, 2, 0, 1, 1, 2, 2, 2, 2, 2], [2, 2, 0, 1, 1, 1, 2, 2, 2, 2, 2, 2, 2, 2, 2, 2, 2, 2, 2], [2, 2, 2, 2, 2, 2, 2, 2, 2, 0, 1, 1, 1, 1, 1, 1, 1, 1, 1, 1, 1, 1, 1, 1, 1, 1, 1, 1, 1, 1], [0, 1, 1, 2, 2, 2, 2, 2], [0, 1, 1, 2, 2, 2, 2, 2, 2, 2, 2, 2, 2, 2, 2, 2], [0, 1, 1, 1, 1, 1, 2, 2, 2, 2, 2, 2, 2, 2, 2, 2, 2, 2, 2, 2, 2, 2, 2], [2, 2, 0, 1, 1, 1, 1, 1, 1, 2, 2], [2, 2, 2, 0, 1, 1, 2, 2, 2, 2], [2, 2, 2, 0, 1, 1, 2, 2, 2, 2, 2, 2, 2, 2, 2, 2, 2, 2, 2, 2, 2, 2], [0, 1, 1, 1, 2, 2, 2, 2, 2, 2, 2, 2, 2, 2, 2, 2, 2, 2], [2, 2, 2, 2, 2, 0, 1, 1, 1, 2, 2, 2, 2, 2, 2, 2, 2, 2, 2, 2, 2, 2], [2, 0, 1, 1, 2, 2, 2, 2, 2, 2, 2, 2, 2, 2, 2, 2, 2, 2, 2], [2, 2, 2, 2, 2, 2, 2, 2, 0, 1, 1, 1, 2], [0, 1, 1, 1, 1, 1, 1, 1, 1, 1, 1, 1, 1, 1, 1, 1, 1], [2, 2, 0, 1, 1, 2, 2, 2, 2, 2, 2], [0, 1, 1, 1, 1, 1, 2, 2, 2, 2, 2], [2, 2, 2, 0, 1, 1, 1, 1, 1, 1, 1, 1, 1, 1, 1, 1, 1, 1, 2, 2], [2, 2, 2, 2, 2, 2, 2, 2, 2, 0, 1, 1, 2], [2, 2, 2, 2, 2, 0, 1, 1, 1, 1, 1, 1, 1, 1, 1, 2, 2], [2, 0, 1, 1, 2, 2, 2, 2, 2, 2, 2, 2, 2, 2, 2], [2, 2, 2, 2, 0, 1, 1, 1, 1, 1, 2, 2, 2, 2, 2, 2, 2, 2, 2, 2, 2, 2, 2, 2], [0, 1, 2, 2, 2, 2, 2, 2, 2, 2, 2, 2], [2, 2, 2, 2, 2, 2, 2, 2, 2, 0, 1, 1, 1, 1, 1, 2], [0, 1, 1, 2, 2, 2, 2, 2, 2, 2, 2], [2, 2, 2, 0, 1, 1, 2, 2, 2, 2], [0, 1, 1, 2, 2, 2, 2, 2, 2, 2, 2, 2, 2, 2, 2, 2, 2, 2], [0, 1, 1, 2, 2, 2, 2, 2, 2, 2, 2, 2, 2, 2, 2, 2, 2, 2, 2, 2, 2, 2, 2], [0, 1, 1, 2, 2, 2, 2, 2, 2, 2, 2, 2, 2, 2, 2, 2, 2, 2, 2, 2, 2], [2, 0, 1, 2, 2, 2, 2, 2, 2, 2, 2, 2, 2, 2, 2, 2, 2, 2], [2, 2, 0, 1, 1, 1, 1, 1, 1, 1, 2, 2, 2, 2, 2], [0, 1, 1, 1, 1, 1, 1, 1, 1, 1, 1, 2, 0, 1, 1, 1, 1, 1, 1, 1, 1, 1, 1, 1, 1, 1], [0, 1, 1, 2, 0, 1, 2, 2, 2, 2, 2, 2, 2, 2, 2, 2, 2, 2], [2, 2, 2, 2, 2, 0, 1, 1, 1, 2, 2, 2, 2, 2, 2, 2, 2, 2, 2], [2, 2, 2, 2, 2, 2, 0, 1, 1, 1, 1, 1, 1, 1, 1, 1, 1, 1, 1, 1, 1, 1, 1, 1, 1, 1, 1], [0, 1, 1, 1, 2, 2, 2, 2, 2, 2, 2, 2, 2, 2, 2, 2, 2, 2, 2], [2, 2, 2, 2, 2, 2, 2, 2, 2, 0, 1, 1, 1, 1, 1, 1, 1, 2, 2], [2, 2, 2, 0, 1, 2, 2, 2, 2, 2, 2, 2, 2, 2, 2, 2, 2, 2, 2], [0, 1, 1, 1, 1, 1, 1, 1, 1, 1, 1], [2, 2, 2, 2, 2, 2, 0, 1, 1, 1, 1, 1, 1, 1, 1, 1, 1, 1, 1, 1, 1, 1, 1], [0, 1, 1, 2, 2, 2, 2, 2, 2, 2], [2, 2, 2, 0, 1, 1, 1, 1, 2, 2, 2, 2, 2, 2], [2, 2, 0, 1, 1, 2, 0, 1, 1, 1, 1, 1, 1], [2, 2, 2, 2, 2, 2, 0, 1, 1, 1, 1, 1, 1], [0, 1, 1, 1, 1, 1, 1, 1, 1, 1, 1, 1, 1, 1, 1, 1, 1, 1, 1, 1, 1, 1, 2], [0, 1, 1, 1, 2, 2, 2, 2, 2, 2, 2, 2], [2, 2, 2, 0, 1, 1, 2, 2, 2, 2, 2, 2, 2, 2, 2, 2, 2], [0, 1, 1, 1, 1, 1, 1, 1, 1, 1, 1, 1, 1, 1, 1, 1, 1, 1, 1, 1, 1], [2, 2, 2, 0, 1, 1, 1, 1, 1, 1, 1, 1, 1, 1, 1, 2], [2, 2, 2, 0, 1, 1, 2, 2, 2, 2, 2, 2], [2, 0, 1, 1, 1, 1, 1, 2, 0, 1, 1, 1, 1, 1, 1, 1, 1, 1, 1], [0, 1, 1, 1, 2, 2, 2, 2, 0, 1, 1, 2, 2, 2, 2, 2, 2, 2, 2, 2, 2, 2, 2, 2, 2, 2], [0, 1, 1, 2, 2, 2, 2, 2, 2, 2, 2, 2, 2, 2, 2, 2], [2, 2, 2, 2, 2, 2, 2, 2, 2, 0, 1, 1, 1, 2, 2], [2, 2, 2, 2, 0, 1, 1, 1, 1, 1, 1, 1, 1, 2, 2, 2, 2, 2, 2, 2], [0, 1, 1, 1, 1, 1, 1, 1, 1, 1, 1, 1, 1, 1, 1, 1, 1, 1, 1, 1, 1, 1, 1, 1, 1, 1, 1, 1, 1], [0, 1, 1, 1, 2, 2, 2, 2, 2, 2, 2, 2, 2, 2, 2, 2, 2], [2, 2, 2, 2, 2, 0, 1, 1, 1, 1, 1, 2, 2, 2, 2], [2, 2, 0, 1, 1, 1, 1, 2, 2, 2, 2, 2, 2, 2, 2, 2, 2], [2, 0, 1, 1, 1, 1, 1, 1, 1, 1, 1, 1, 2, 2, 2, 2, 2, 2, 2], [2, 2, 2, 0, 1, 1, 1, 2, 2, 2, 2, 2, 2, 2, 2], [2, 0, 1, 1, 1, 1, 1, 1, 1, 1], [0, 1, 1, 1, 1, 1, 1, 1, 1, 1, 2, 0, 1, 1, 1, 1, 1], [2, 2, 2, 2, 2, 2, 2, 0, 1, 1, 1, 1, 2, 2, 2, 2, 2, 2, 2, 2, 2], [2, 2, 2, 2, 2, 2, 2, 2, 2, 0, 1, 2], [2, 2, 2, 2, 2, 2, 2, 2, 2, 0, 1, 2, 2, 2, 2, 2, 2, 2, 2], [2, 2, 2, 0, 2, 0, 1, 1, 2, 2, 2, 2, 2], [2, 2, 0, 1, 1, 1, 1, 1, 2, 2, 2, 2, 2], [0, 1, 1, 2, 2, 2, 2, 2, 2, 2, 2, 2, 2, 2, 2, 2, 2, 2, 2], [0, 1, 1, 1, 1, 2, 2, 2, 2, 2, 2, 2, 2, 2, 2, 2], [2, 2, 2, 2, 0, 1, 1, 1, 1, 1, 1, 1, 1, 1, 1], [0, 1, 1, 1, 2, 0, 1, 1, 1, 1, 1, 1, 1, 1], [2, 2, 2, 2, 0, 1, 1, 1, 1, 1, 2, 2, 2, 2, 2, 2, 2, 2, 2, 2, 2], [0, 1, 1, 1, 1, 1, 1, 2, 2, 2, 2, 2, 2, 2], [2, 2, 0, 1, 1, 1, 2, 2, 2, 2, 2, 2, 2, 2, 2, 2], [0, 1, 1, 1, 1, 2, 2, 2, 2, 2, 2, 2, 2], [2, 0, 1, 1, 1, 1, 1, 1, 1, 1, 1, 1, 1, 1, 1, 1, 1, 1, 1, 1], [0, 1, 1, 1, 1, 2, 0, 2, 0, 1, 1, 1, 1], [2, 0, 1, 1, 2, 2, 2, 2, 0, 1, 1, 1, 1, 1, 1, 1, 1, 1], [0, 1, 1, 1, 2, 2, 2, 2, 2, 2, 2], [2, 2, 2, 2, 2, 2, 2, 0, 1, 1, 1, 1, 1, 1, 1, 2, 0, 1, 2], [0, 1, 1, 2, 2, 2, 2, 2, 2, 2, 2, 2, 2], [2, 2, 2, 0, 1, 1, 1, 2, 2, 2, 2, 2, 2, 2, 2, 2], [2, 0, 1, 1, 1, 2, 2, 2, 2, 2, 2, 2, 2, 2, 2, 2, 2, 2], [0, 1, 1, 2, 2, 2, 2, 2, 2, 2, 2, 2, 2, 2, 2, 2, 2, 2], [2, 2, 2, 0, 1, 1, 1, 2, 2, 2, 2, 2, 2, 2, 2], [2, 2, 2, 2, 2, 2, 0, 1, 1, 2, 2], [2, 2, 2, 0, 1, 1, 2, 2, 2, 2, 2, 2, 2, 2, 2, 2], [2, 2, 2, 0, 1, 1, 1, 1, 1, 1, 1, 1, 1, 1, 1, 1, 1, 1, 1, 1, 1, 1, 1], [0, 1, 1, 1, 2, 2, 2, 2, 2, 2, 2, 2, 2], [2, 0, 1, 1, 1, 1, 2, 2, 2, 2, 2, 2, 2, 2, 2, 2, 2], [2, 2, 2, 0, 1, 2, 2, 2, 2, 2, 2, 2, 2], [2, 0, 1, 1, 2, 2, 2, 2, 2, 2, 2, 2], [2, 2, 2, 2, 2, 0, 1, 1, 1, 1, 2, 2, 2, 2, 2, 2, 2], [0, 1, 1, 1, 1, 2, 2, 2, 2, 2, 2, 2, 2, 2, 2], [0, 1, 1, 2, 2, 2, 2, 2, 0, 2, 2, 2, 2, 2, 2, 2, 2, 2, 2], [2, 2, 2, 0, 1, 1, 2, 2, 2, 2, 2, 2, 2, 2], [2, 0, 1, 2, 2, 2, 2, 2, 2, 2, 2, 2, 2, 2], [0, 1, 1, 2, 2, 2, 0, 1, 1, 1, 1, 1, 1, 1, 1, 1, 1, 1, 1], [2, 2, 2, 0, 1, 1, 1, 1, 1, 2, 2, 2, 2, 2, 2], [2, 2, 2, 0, 1, 1, 1, 1, 1, 1, 1, 1, 1, 1, 2, 2, 2, 2, 2, 2, 2, 2, 2, 2], [2, 2, 2, 2, 2, 2, 2, 2, 2, 2, 0, 1, 1, 1, 2, 2], [0, 1, 1, 1, 1, 2, 2, 2, 2, 2, 2, 2, 2, 2, 2, 2], [2, 2, 2, 2, 0, 1, 2, 2, 2, 2, 2, 2, 2, 2, 2, 2, 2, 2, 2, 2, 2, 2], [2, 0, 1, 2, 2, 2, 2, 2], [2, 2, 2, 2, 2, 2, 0, 1, 1, 1, 2, 2, 2, 2, 2, 2, 2, 2, 2], [0, 1, 1, 2, 2, 2, 2, 2, 2, 2, 2, 2, 2], [0, 1, 1, 1, 1, 1, 1, 2, 2, 2, 2, 2, 2, 2, 2, 2, 2, 2, 0, 2, 2, 2], [0, 1, 1, 2, 2, 2, 2, 2, 2, 2, 2, 2, 2], [2, 0, 1, 2, 2, 2, 2, 2, 2, 2], [2, 2, 2, 2, 2, 0, 1, 2, 2, 2, 2, 2, 2, 2, 2, 2, 2, 2], [2, 0, 1, 1, 1, 1, 2, 2, 2, 2, 2, 2, 2, 2, 2, 2, 2, 2, 2], [2, 2, 2, 0, 1, 1, 2, 2, 2, 2, 2, 2, 2, 2, 2], [2, 2, 2, 2, 2, 0, 1, 1, 1, 1, 1, 1, 1, 1, 1, 1, 2, 2, 2, 2, 2, 2, 2, 2], [2, 2, 2, 2, 0, 1, 1, 1, 1, 1, 1, 2, 2, 2, 2, 2, 2, 2, 2], [2, 2, 2, 0, 1, 1, 1, 1, 2, 2, 2, 2, 2, 2, 2, 2, 2, 2, 2, 2], [2, 2, 2, 2, 0, 1, 1, 1, 1, 1, 1, 1, 1, 2, 2, 2, 2, 0, 2], [0, 1, 1, 1, 1, 1, 1, 2, 2, 2, 2, 2, 2, 2, 2, 2, 2, 2, 2], [2, 2, 2, 0, 1, 1, 2, 2, 2, 2, 2, 2, 2], [2, 2, 2, 0, 2, 2, 2, 2, 2, 2, 2, 2], [2, 2, 2, 2, 2, 2, 2, 2, 0, 1, 1, 2], [2, 2, 0, 1, 2, 2, 2, 2, 2, 2, 2, 2, 2, 2, 2, 2, 2, 2], [0, 1, 1, 2, 2, 2, 2, 2, 2, 2, 2, 2, 2, 2, 2, 2, 2, 2, 2], [2, 2, 2, 2, 2, 2, 2, 0, 1, 1, 1, 1, 1, 1, 1, 1, 1, 1, 1, 2, 2, 2, 2, 2], [0, 1, 1, 1, 2, 0, 1, 1, 1, 1, 1, 1, 1, 1, 1, 1], [0, 1, 1, 1, 1, 1, 1, 2, 2, 2, 2, 2, 2, 2, 2, 2], [2, 2, 2, 2, 2, 2, 2, 2, 2, 2, 2, 2, 2, 0, 1, 1, 1, 1, 1, 2, 2, 2, 2], [0, 1, 1, 1, 1, 1, 2, 2, 2, 2, 2, 2, 2, 2, 2], [2, 2, 2, 0, 1, 1, 1, 1, 1, 2, 2], [2, 0, 1, 1, 2, 2, 2, 2, 2, 2, 2, 2, 2], [2, 2, 0, 1, 1, 1, 1, 2, 2, 2, 2, 2, 2, 2, 2, 2, 2, 2], [2, 2, 0, 1, 1, 1, 1, 1, 1, 1, 1, 1, 1, 1, 1, 1, 1, 1, 1], [0, 1, 1, 1, 1, 2, 2, 2, 2, 2, 2], [2, 2, 0, 1, 1, 1, 1, 2, 2, 2, 2, 0, 1, 1, 1, 1], [0, 1, 1, 1, 2, 2, 2, 2, 2, 2, 2, 2, 2, 2, 2], [0, 1, 1, 2, 2, 2, 2, 2, 2, 2], [2, 2, 2, 2, 2, 2, 2, 2, 2, 2, 2, 0, 1, 2, 2, 2], [0, 1, 1, 1, 2, 2, 2, 2, 2, 2, 2, 2, 2], [2, 2, 2, 2, 0, 1, 1, 1, 1, 1, 2, 2, 2], [0, 1, 1, 1, 1, 1, 1, 1, 1, 1, 1, 1, 1], [2, 2, 2, 2, 2, 2, 2, 2, 0, 2], [2, 2, 2, 2, 2, 2, 2, 0, 1, 1, 1, 1, 1, 1, 1, 1, 2, 2, 2, 2, 2, 2], [2, 0, 1, 1, 1, 2, 2, 2, 2, 2, 2, 2, 2, 2], [0, 1, 1, 1, 2, 2, 2, 2, 2, 2, 2, 2, 2, 2, 2, 2, 2], [0, 1, 1, 1, 1, 2, 2, 2, 2, 2, 2, 2, 2, 2, 2, 2], [2, 2, 2, 0, 1, 1, 1, 2, 2, 2, 2, 2, 2, 2, 2], [2, 2, 2, 2, 2, 0, 1, 1, 1, 1, 1, 1, 1, 2, 2, 2, 2, 2, 2, 2, 2, 2], [0, 1, 1, 2, 2, 2, 2, 2, 2, 2, 2, 2, 2], [2, 0, 1, 2, 2, 2, 2, 2, 2, 2, 2], [0, 1, 1, 1, 1, 2, 2, 2, 2, 2, 2, 2, 2, 2, 2, 2, 2, 2, 2, 2], [2, 2, 2, 2, 0, 1, 1, 1, 1, 1, 1, 1, 1, 1, 1, 2, 2, 2], [0, 1, 1, 2, 2, 2, 2, 2, 2, 2], [0, 1, 1, 2, 2, 2, 2, 2, 2, 2], [2, 0, 1, 1, 1, 2, 2, 2, 2, 2, 2, 2, 2, 2, 2, 2, 2, 2, 2, 2, 2], [2, 0, 1, 1, 1, 1, 1, 1, 1, 1, 1, 1, 1, 2, 2, 2, 2, 2, 2, 2, 2, 2, 2, 2, 2, 2, 2, 2, 2, 2, 2, 2, 2, 2, 0, 1], [2, 2, 2, 2, 0, 1, 1, 1, 1, 2, 2, 2, 2, 2, 2, 2, 2, 2, 2, 2, 2], [2, 2, 2, 2, 0, 1, 1, 1, 1, 1, 1, 1, 1, 1, 1], [0, 1, 1, 2, 2, 2, 2, 2, 2, 2, 2, 2, 2, 2, 2], [2, 0, 1, 1, 1, 1, 1, 1, 1, 1, 1], [0, 1, 1, 1, 2, 2, 2, 2, 2, 2, 2], [2, 2, 2, 0, 1, 1, 1, 2, 2, 2, 2], [2, 2, 2, 2, 2, 0, 1, 1, 1, 1, 1, 1, 1, 1, 2, 2, 2, 2, 2, 2, 2, 2], [2, 2, 2, 0, 1, 1, 1, 1, 2, 2, 2, 2, 2, 2, 2, 2, 2, 2], [0, 1, 1, 1, 2, 2, 2, 2, 2, 2, 2, 2], [0, 1, 1, 2, 2, 2, 2, 2, 2, 2], [0, 1, 1, 1, 2, 2, 2, 2, 2, 2, 2, 2, 2, 2, 2, 2, 2, 2], [0, 1, 1, 1, 2, 2, 2, 2, 2, 2, 2, 2, 2, 2, 2], [2, 2, 2, 2, 2, 0, 1, 1, 2, 2], [2, 2, 2, 2, 2, 2, 0, 1, 1, 1, 2, 2], [0, 1, 1, 2, 2, 2, 2, 2, 2, 2, 2, 2, 2, 2, 2, 2, 2, 2, 2, 2], [2, 2, 2, 2, 2, 2, 2, 2, 2, 0, 1, 1, 1, 1, 2], [0, 1, 1, 1, 1, 2, 2, 2, 2, 2, 2, 2, 2, 2, 2, 2, 2, 2], [2, 2, 2, 2, 2, 2, 2, 2, 2, 0, 1, 2], [2, 2, 2, 0, 1, 1, 1, 1, 1, 1, 1, 1, 1, 1, 1, 1, 2], [2, 2, 2, 2, 0, 1, 1, 1, 2, 2, 2], [2, 2, 2, 0, 1, 1, 1, 1, 2, 2, 2, 2, 2], [2, 2, 2, 2, 2, 2, 2, 2, 0, 1, 1, 1, 2, 2, 2], [2, 2, 2, 0, 1, 2, 2, 2, 2, 2, 2, 2], [2, 2, 0, 1, 1, 2, 2, 2, 2, 2, 2, 2, 2, 2, 2, 2, 2, 2, 2], [2, 0, 1, 1, 2, 2, 2, 2, 2, 2, 2, 2, 2, 2], [2, 2, 2, 0, 1, 1, 1, 1, 1, 2, 2, 2], [2, 2, 2, 0, 1, 1, 2, 2, 2], [2, 2, 2, 0, 1, 1, 2, 2, 2, 2, 2, 2, 2, 2], [0, 1, 1, 1, 1, 1, 1, 1, 1, 1, 2, 0, 1, 1, 1, 1, 1, 1, 1, 1, 1, 1, 1, 1, 1, 1, 1, 1], [2, 2, 2, 0, 1, 1, 1, 1, 2, 2, 2, 2], [2, 2, 2, 2, 2, 0, 1, 1, 1, 1, 2, 2, 2, 2, 2, 2, 2, 2], [0, 1, 1, 1, 2, 2, 2, 2, 2, 2, 2, 2, 2, 2, 2, 2], [0, 1, 1, 1, 1, 1, 1, 2, 2, 2, 2, 2, 2, 2, 2, 2, 2, 2, 2, 0, 1, 1], [2, 2, 2, 0, 1, 2, 2, 2], [2, 0, 1, 1, 1, 2, 2, 2, 2, 2, 2, 2, 2, 2, 2, 2, 2, 2, 2, 2, 2, 2, 2, 2, 2, 2], [2, 2, 2, 2, 2, 2, 2, 2, 0, 1, 1, 2], [2, 2, 2, 2, 2, 2, 2, 2, 2, 2, 2, 2, 0, 1, 1, 1, 1, 1, 1, 1, 1, 2], [2, 0, 1, 1, 2, 2, 2, 2, 2, 2, 2, 2, 2], [2, 2, 2, 0, 1, 1, 1, 1, 2, 2, 2], [0, 1, 1, 1, 2, 2, 2, 0, 1, 1, 1, 1, 1, 1, 1, 1, 1, 1, 1, 1, 1, 1, 1, 1, 1, 1, 1, 1], [2, 0, 1, 1, 2, 2, 2, 2, 2, 2, 2, 2], [2, 2, 2, 2, 0, 1, 2, 2, 2, 2, 2, 2, 2, 2, 2], [2, 0, 1, 1, 1, 1, 1, 1, 1, 1, 1, 2], [2, 2, 0, 1, 1, 1, 1, 2, 2, 2, 2, 2, 2, 2, 2, 2], [2, 2, 2, 2, 2, 2, 2, 2, 2, 2, 2, 2, 2, 0, 1, 1, 2, 2, 2, 2, 2, 2, 2, 2, 2, 2, 2, 2], [2, 2, 2, 0, 1, 2, 2, 2, 2, 2, 2], [2, 2, 2, 0, 1, 1, 1, 2, 2, 2, 2], [2, 2, 2, 2, 0, 1, 2, 2, 2, 2, 2], [2, 0, 1, 1, 1, 2, 2, 2, 2, 2, 2, 2, 2], [2, 2, 2, 2, 2, 2, 0, 1, 1, 2, 2, 2, 2], [2, 2, 2, 2, 2, 2, 2, 2, 2, 0, 1, 2, 2, 2, 2, 2, 2, 2, 2, 2], [2, 2, 2, 2, 2, 0, 1, 1, 1, 1, 1, 1, 1, 1, 1, 1, 1, 1, 1, 1], [2, 2, 2, 2, 2, 2, 2, 2, 2, 2, 2, 0, 1, 1, 1, 1, 1, 1, 2, 2], [2, 0, 1, 2, 2, 2, 2, 2, 2, 2], [2, 2, 2, 2, 2, 2, 2, 2, 2, 2, 2, 0, 1, 1, 1, 1, 1, 2, 2, 2, 2, 2, 2, 2, 2, 2, 2], [2, 2, 0, 1, 1, 1, 2, 2, 2, 2, 2, 2, 2, 2, 2, 2, 2, 2, 2, 2, 2], [0, 1, 1, 1, 1, 2, 2, 0, 1, 1, 1, 1, 1, 1, 1], [2, 2, 2, 0, 1, 1, 1, 1, 1, 2, 2, 2, 2, 2, 2, 2, 2, 2, 2], [0, 1, 1, 1, 1, 1, 2, 0, 1, 1, 1, 1, 1, 1, 1, 1, 1, 1, 1], [2, 0, 1, 1, 2, 2, 2, 2, 2, 2, 2, 2, 2, 2, 2, 2, 2, 2, 2, 2, 2, 2, 2], [0, 1, 2, 2, 2, 2, 0, 1, 1, 1, 2, 2, 2], [2, 2, 2, 2, 2, 2, 2, 2, 0, 2, 2, 2, 2, 2, 2, 2, 2, 2, 2], [0, 1, 1, 2, 2, 2, 2, 2, 2, 2, 2, 2, 0, 1, 1], [2, 2, 2, 2, 2, 2, 2, 2, 0, 1, 1, 2, 2, 2, 2, 2, 2, 2, 2, 2, 2, 2, 2, 2], [2, 2, 2, 2, 2, 2, 2, 2, 2, 0, 1, 1, 1, 1, 1, 2, 2, 2], [0, 1, 1, 1, 1, 1, 2, 2, 2, 2, 2, 2, 2, 2, 2, 2, 2], [2, 2, 2, 2, 2, 2, 2, 2, 2, 0, 1, 2, 2, 2, 2, 2, 2, 2, 0, 1], [2, 2, 2, 0, 1, 2, 2, 2, 2, 2, 2, 2], [2, 2, 2, 2, 2, 2, 2, 2, 0, 1, 1, 1, 2], [2, 2, 2, 2, 2, 2, 2, 2, 2, 2, 2, 0, 1, 1, 1, 1, 1, 1, 1, 1, 1, 1, 1, 1, 1, 1, 1, 1, 1, 2, 2, 0, 2, 0], [0, 1, 1, 1, 1, 2, 2, 2, 2, 2, 2, 2, 2, 2, 2, 2], [2, 2, 2, 0, 1, 1, 2, 2, 2, 2, 2, 2, 2, 2], [2, 0, 1, 1, 2, 2, 2, 2, 2, 2, 2, 2], [0, 1, 1, 2, 2, 2, 2, 2, 2, 2, 2, 0, 1, 1, 1, 1, 1], [2, 2, 0, 1, 2, 2, 2, 2, 2, 2, 2], [2, 0, 1, 1, 1, 1, 1, 1, 1, 1, 1, 1, 1, 1, 1, 1, 2, 2, 2, 2, 2, 2, 2, 2, 2, 2, 2, 2, 2, 2], [2, 0, 1, 2, 2, 2, 2, 2, 2, 2, 2, 2, 2, 2, 2, 2, 2, 2, 2, 2, 2], [2, 0, 1, 1, 1, 1, 1, 1, 1, 1, 1, 1, 1, 1, 1, 1, 1, 1, 1, 1, 1, 1, 1, 1, 1, 1, 2, 2, 0, 1], [0, 1, 1, 1, 1, 1, 1, 1, 2, 2, 2, 2, 2, 2, 2, 2, 2, 2, 2, 2, 2, 2, 2, 2, 2, 2, 2, 2, 2, 2, 2], [2, 2, 2, 0, 1, 1, 1, 1, 2, 2, 2, 2, 2, 2, 2, 2, 2, 2, 2, 2, 2, 2, 2], [0, 1, 1, 1, 1, 1, 1, 1, 1, 1, 2, 0, 1, 1, 1, 1, 2, 2, 2, 2, 2, 2], [2, 2, 2, 2, 2, 2, 0, 1, 1, 2, 2, 2, 2, 2, 2, 2], [2, 2, 2, 2, 2, 0, 1, 2, 2, 2, 2, 2, 2], [2, 0, 1, 1, 1, 2, 2, 2, 2, 2, 2, 2, 2, 2, 2, 2, 2, 2, 2, 2, 2, 2, 2], [2, 0, 1, 1, 1, 2, 2, 2, 2, 2, 2, 2, 2], [2, 0, 1, 1, 1, 1, 1, 1, 1, 1, 1, 1, 2, 2, 2, 0, 1, 1, 1, 1, 1, 1, 1, 1], [2, 2, 2, 2, 0, 1, 1, 1, 1, 1, 1, 1, 1, 1, 1, 1, 1, 1, 1, 1, 1, 1, 1, 1], [0, 1, 1, 1, 2, 2, 2, 2, 2, 2, 2], [2, 2, 2, 2, 2, 2, 2, 2, 2, 2, 0, 1, 1, 1, 1, 1, 1, 1, 1, 1, 1, 1, 1, 1, 1, 1, 1, 1, 1, 1, 1, 1, 2, 2], [2, 2, 2, 0, 1, 1, 1, 2, 2, 2, 2, 2, 2], [0, 1, 1, 2, 2, 2, 2, 2, 2, 2, 2, 2, 2, 2, 2, 2, 2, 2, 2, 2, 2, 2], [0, 1, 1, 1, 1, 1, 2, 2, 2, 2, 2, 2, 2], [2, 2, 2, 2, 2, 2, 2, 0, 1, 1, 1, 1, 2, 2, 2, 2, 2, 2, 2, 2, 2, 2, 2, 2, 2], [0, 1, 1, 2, 2, 2, 2, 2, 2, 2, 2, 2], [2, 0, 1, 1, 2, 2, 2, 2, 2, 2, 2, 2, 2, 2, 2, 2], [2, 0, 1, 1, 1, 1, 1, 2, 2, 2, 2, 2, 2, 2, 2, 2, 2, 2, 2, 2, 2, 2, 2, 2, 2, 2, 2, 2, 2], [2, 2, 2, 2, 2, 0, 1, 1, 1, 1, 2, 2, 2, 2, 2, 2, 2, 2, 2, 2, 2, 2, 2, 2, 2, 2, 2, 2, 2, 2, 2, 2, 2, 2, 2, 2], [0, 2, 0, 1, 1, 2, 2, 2, 2, 2, 2, 2, 2, 2, 2, 2, 2, 2, 2, 2, 2, 2, 2], [2, 2, 2, 2, 2, 2, 2, 2, 2, 2, 2, 2, 2, 2, 2, 2, 2, 2, 2, 2, 2, 2, 2, 2, 2, 2, 2, 2, 0, 1, 1, 1, 1], [2, 2, 2, 0, 1, 1, 2, 2, 2, 2, 2], [0, 1, 1, 1, 2, 2, 2, 2, 2, 2, 2, 2, 2, 2, 2, 2, 2], [0, 1, 1, 2, 2, 2, 2, 2, 2, 2, 2, 2, 2, 2, 2, 2, 2], [0, 1, 1, 1, 1, 1, 2, 2, 2, 2, 2, 2, 2, 2, 2, 2, 2, 2, 2], [0, 1, 1, 1, 1, 2, 2, 2, 2, 2, 2, 2, 2, 2, 2, 2, 2, 2, 2, 2], [0, 1, 1, 1, 2, 2, 2, 2, 2, 2, 2, 2, 2, 2, 2, 2, 2, 2, 2, 2, 2, 2, 2, 2, 2], [2, 2, 2, 2, 2, 2, 0, 1, 1, 1, 1, 1, 1, 1, 1, 1, 2], [0, 1, 1, 1, 1, 2, 2, 2, 2, 2, 2, 2, 2, 2, 2, 2, 2, 2, 2, 2, 2, 2, 2, 2, 2], [0, 1, 1, 1, 2, 2, 2, 2, 2, 2, 2, 2, 2, 2, 2, 2, 2, 2, 2], [2, 2, 2, 2, 2, 2, 2, 2, 2, 0, 1, 2, 2, 2, 2, 2, 2, 2, 2, 2, 2, 2], [2, 2, 2, 2, 2, 0, 1, 1, 2, 2, 2, 2, 2], [0, 1, 1, 1, 2, 2, 2, 2, 2, 2, 2, 2, 2, 2, 2, 2, 2], [2, 0, 1, 1, 1, 1, 1, 1, 1, 1, 1, 2, 2, 2, 2, 2, 2, 2, 2, 2, 2, 2, 2, 2, 2, 2, 2, 2, 2], [2, 2, 2, 2, 2, 2, 2, 2, 2, 2, 2, 0, 1, 1, 1, 1, 2], [0, 1, 1, 1, 1, 1, 1, 1, 1, 1, 1, 1, 1, 1, 1, 1, 1, 1, 1, 1, 2, 2, 0, 1, 1, 1, 1], [2, 2, 2, 0, 1, 1, 1, 2, 2, 2, 2, 2, 2, 2, 2, 2, 2, 2, 2, 2, 2, 2, 2], [2, 2, 2, 0, 1, 1, 1, 1, 1, 1, 2, 2, 2, 2, 2, 2, 2, 2, 2, 2, 2], [2, 2, 2, 0, 1, 1, 1, 1, 2, 2, 2, 2, 2, 2], [0, 1, 1, 1, 1, 1, 1, 2, 2, 2, 2, 2, 2, 2, 2, 2, 2, 2, 2], [2, 2, 2, 2, 2, 2, 2, 2, 2, 2, 2, 2, 0, 1, 1, 1, 1, 1, 2, 2, 2, 2], [2, 2, 0, 1, 1, 1, 1, 1, 1, 1, 2, 2, 2, 2, 2, 2], [2, 2, 2, 2, 2, 2, 0, 1, 1, 1, 2, 2, 2, 2], [2, 2, 2, 2, 2, 0, 1, 1, 1, 2, 2, 2, 2, 2, 2, 2, 2, 2, 2], [2, 2, 2, 2, 0, 1, 1, 1, 1, 1, 1, 1, 1, 1, 1, 2, 2], [2, 2, 0, 1, 1, 1, 2, 2, 2, 2, 2, 2, 2, 2, 2], [2, 2, 0, 1, 1, 1, 2, 2, 2, 2, 2, 2], [2, 2, 2, 2, 2, 2, 2, 2, 2, 2, 2, 2, 2, 2, 2, 2, 2, 2, 2, 2, 2, 2, 2, 2, 2, 2, 2, 0, 1, 1, 1, 1, 1, 1, 2], [2, 2, 2, 2, 0, 1, 2, 2, 2, 2, 2, 2, 2, 2, 2, 2, 2, 2, 2, 2, 2, 2, 2], [2, 2, 2, 0, 1, 1, 2, 2, 2, 2, 2, 2, 2, 2], [2, 2, 2, 2, 0, 2, 2, 2, 2, 2], [2, 2, 2, 2, 2, 0, 1, 1, 2, 2, 2, 2, 2, 2, 2], [2, 2, 2, 0, 1, 1, 1, 1, 1, 2, 2, 2, 2, 2, 2, 2], [2, 2, 2, 2, 2, 2, 2, 2, 2, 2, 2, 0, 1, 1, 2], [2, 2, 2, 2, 2, 2, 2, 0, 1, 2, 2, 2, 2], [2, 2, 0, 1, 1, 2, 2, 2, 2, 2, 2], [0, 1, 1, 1, 1, 1, 2, 2, 2, 2, 2, 2, 2, 2], [2, 2, 0, 1, 1, 1, 1, 1, 1, 1, 1, 1, 1, 2, 2, 2, 0], [2, 2, 2, 0, 1, 2, 2, 2, 2, 2, 2], [2, 0, 1, 1, 2, 2, 2, 2, 2, 2, 2, 2, 2, 2, 2], [0, 1, 1, 2, 2, 2, 2, 2, 2, 0, 1, 1, 1], [0, 1, 2, 0, 1, 1, 1, 1, 1, 1, 1, 2, 2, 2, 2, 2, 2, 2, 2, 2], [0, 1, 1, 1, 1, 1, 1, 1, 2, 2, 2, 2, 2, 2, 2, 2, 2, 2, 2, 2], [2, 0, 1, 1, 1, 1, 2, 2, 2, 2, 2, 2, 2], [0, 1, 1, 2, 2, 2, 2, 2, 2, 2, 2], [2, 2, 2, 2, 2, 0, 1, 1, 1, 1, 1, 1, 2, 2, 2], [2, 0, 1, 1, 2, 2, 2, 2, 2, 2, 2, 2], [0, 1, 1, 1, 1, 1, 1, 1, 1, 1, 1, 1, 1, 1, 1, 1, 1, 1, 1], [2, 2, 2, 2, 2, 2, 0, 1, 2, 0, 1, 1, 2, 2, 2, 2, 2, 2], [2, 0, 1, 1, 2, 2, 2, 2, 2, 2, 2, 2, 2], [0, 1, 1, 1, 1, 2, 2, 2, 2, 2, 2, 2], [2, 2, 2, 0, 1, 1, 2, 2, 2, 2], [0, 1, 1, 2, 2, 2, 2, 2, 2, 2, 2, 2, 2, 2], [2, 2, 2, 0, 1, 1, 1, 2, 2, 2, 2, 2, 2, 2, 2, 2, 2, 2], [2, 2, 2, 2, 2, 0, 1, 1, 1, 1, 1, 1, 1, 1, 2, 2], [2, 2, 2, 2, 2, 2, 0, 1, 1, 2, 2, 2, 2], [0, 1, 1, 2, 2, 2, 2, 2, 2, 2, 2], [2, 2, 0, 1, 1, 1, 1, 2, 0, 1, 1, 1, 1], [2, 2, 2, 2, 0, 1, 1, 1, 1, 1, 1, 1, 1, 1, 1, 1, 1], [2, 2, 2, 0, 1, 2, 2, 2, 2, 0, 1, 1, 1, 1, 1], [2, 2, 2, 2, 2, 2, 0, 1, 1, 2, 2, 2, 2, 2, 2, 2, 2, 2, 2, 2, 2], [2, 2, 0, 1, 1, 1, 2, 2, 2, 2, 2, 2, 2, 2, 2, 2, 2, 2], [0, 1, 1, 1, 2, 2, 2, 2, 2, 2, 2, 2, 2, 2], [2, 2, 2, 2, 2, 2, 2, 2, 2, 2, 2, 2, 2, 0, 1, 1, 1, 1, 2, 2], [2, 2, 2, 2, 2, 2, 2, 0, 1, 1, 1, 1, 1, 1, 1, 1, 1, 1, 1, 1, 1, 2, 2, 0, 1, 1, 1], [2, 2, 0, 1, 1, 1, 2, 2, 2, 2, 2, 2, 2, 2, 2, 2, 2, 2], [0, 1, 1, 2, 2, 2, 2, 2, 2, 2, 2, 2, 2, 2, 2], [0, 1, 1, 1, 1, 1, 1, 2, 2, 2, 2, 2, 2, 2, 2, 2], [2, 2, 2, 2, 2, 2, 2, 2, 2, 2, 0, 1, 1, 1, 1, 2], [2, 2, 2, 0, 1, 1, 2, 2, 2, 2, 2, 2, 2], [2, 2, 2, 2, 0, 1, 2, 2, 0], [2, 2, 2, 2, 2, 0, 1, 1, 1, 2, 2, 2, 2], [2, 2, 2, 2, 2, 0, 1, 1, 2, 2, 2, 2], [2, 2, 2, 2, 2, 0, 1, 1, 2, 2, 2, 2, 2, 2], [2, 2, 2, 2, 2, 2, 0, 1, 1, 2, 2, 2, 2, 2], [0, 1, 1, 2, 2, 2, 2, 2, 2, 2, 2, 2, 2, 2, 2, 2, 2], [0, 1, 1, 1, 1, 2, 2, 2, 2, 2, 2, 2, 2, 2, 2, 2, 2, 2], [2, 2, 2, 0, 1, 1, 1, 1, 1, 1, 1, 1, 1, 1, 2], [0, 1, 1, 2, 2, 2, 2, 2, 2, 2, 2, 2, 2, 2, 2, 2, 2, 2, 2, 2, 2], [2, 2, 0, 1, 1, 2, 2, 2, 2, 2, 2, 2, 2, 2, 2, 2], [2, 2, 2, 2, 2, 2, 2, 2, 0, 1, 1, 1, 1, 2, 2, 2, 2, 2], [2, 2, 0, 2, 2, 2, 0, 1, 2, 2, 2, 2, 2, 2, 2, 2, 2, 2], [0, 1, 1, 1, 1, 2, 2, 2, 2, 2, 2, 2, 2, 2], [2, 2, 2, 0, 2, 2, 2, 2, 2, 0, 1, 1, 2, 2, 2], [0, 1, 1, 1, 2, 2, 2, 2, 2, 2, 2, 2, 2, 2, 2, 2, 2], [2, 2, 0, 2, 0, 1, 1, 2, 2, 2, 2, 2, 2, 2, 2, 2, 2, 2, 2], [2, 2, 2, 2, 2, 2, 0, 1, 1, 1, 2, 2, 2, 2, 2, 2, 2], [0, 1, 1, 1, 1, 2, 2, 2, 2, 2, 2, 2, 2, 2, 2, 2, 2, 2, 2, 2, 2], [2, 2, 2, 0, 1, 1, 1, 1, 1, 1, 1, 2, 2, 2, 2, 2, 2, 2, 2, 2, 2], [2, 2, 2, 0, 1, 1, 2, 2, 0, 1, 1, 1, 1], [2, 2, 2, 2, 2, 2, 2, 2, 2, 2, 0, 1, 1, 1, 2, 2, 2], [0, 1, 2, 0, 1, 2, 2, 2, 2, 2, 2, 2, 2], [0, 1, 2, 0, 1, 1, 1, 1, 1, 1, 1, 1, 1, 1, 1, 1], [2, 0, 1, 1, 1, 1, 2, 2, 2, 2], [2, 2, 2, 2, 0, 1, 2, 2, 0, 1, 1, 2, 2, 2], [2, 0, 1, 1, 1, 1, 1, 1, 1, 1, 1, 2, 2, 2, 0, 1], [2, 0, 1, 1, 1, 2, 2, 2, 2, 2], [2, 2, 2, 2, 0, 1, 1, 1, 1, 1, 2], [0, 1, 2, 0, 1, 1, 1, 1, 1, 1, 2, 0, 2, 2, 2, 2, 2, 2, 2, 2, 2, 2, 2, 2, 2], [2, 0, 1, 1, 2, 2, 2, 2, 2, 2, 2], [2, 0, 1, 1, 1, 2, 2, 2, 2, 2, 2, 2, 2, 2, 2, 2, 2], [2, 2, 2, 0, 1, 1, 2, 2, 2, 2, 2, 2, 2, 2, 2, 2, 2], [2, 2, 2, 2, 2, 2, 2, 2, 2, 0, 1, 1, 1, 1, 1, 1, 1, 1, 1, 1, 1, 1, 1, 1, 1, 1, 1, 1, 1, 1, 1], [2, 2, 2, 2, 2, 2, 2, 2, 2, 2, 0, 1, 1, 2, 2, 2, 2, 2, 2, 2, 2, 2], [2, 2, 0, 1, 2, 2, 2, 2, 2, 2, 2, 2, 2, 2, 2], [0, 1, 1, 1, 1, 2, 2, 2, 2, 2, 2, 2, 2, 2, 2, 2, 2, 2, 2, 2, 2, 2, 2, 2, 2, 2, 2, 2], [0, 1, 1, 2, 2, 2, 2, 2, 2, 2, 2, 2, 2, 2, 2, 2, 2], [0, 2, 0, 1, 1, 1, 2, 2, 2, 2, 2, 2, 2, 2, 2, 2, 2, 2, 2, 2], [0, 1, 1, 1, 1, 2, 2, 2, 2, 2, 2, 2, 2, 2], [0, 1, 1, 1, 1, 1, 2, 2, 2, 2, 2, 2, 2, 2, 2], [2, 2, 2, 2, 2, 0, 1, 1, 2, 2, 2, 2], [2, 2, 2, 2, 2, 2, 0, 1, 1, 2, 2, 2, 2, 2, 2, 2], [2, 0, 1, 1, 1, 1, 1, 2, 2, 2, 2, 2, 2, 2, 2, 2, 2, 2], [2, 2, 0, 1, 1, 2, 2, 2, 2, 2, 2, 2, 2, 2], [2, 2, 2, 2, 0, 1, 1, 2, 2, 2, 2], [2, 2, 0, 1, 2, 2, 2, 2, 2, 2, 2], [2, 2, 2, 2, 2, 2, 2, 0, 1, 1, 1, 2, 2, 2, 2, 2, 2, 2, 2, 2], [0, 1, 1, 1, 1, 2, 2, 2, 2, 2, 2, 2, 2, 2, 2, 2], [2, 2, 2, 2, 2, 2, 2, 2, 2, 2, 0, 1, 1, 1, 2], [2, 2, 2, 2, 0, 1, 1, 1, 1, 1, 2, 2, 2, 2, 2, 2, 2, 2, 2], [0, 1, 1, 2, 2, 2, 2, 2, 2, 2, 2, 2, 2, 2, 2, 2, 2], [2, 0, 1, 1, 2, 2, 2, 2, 2, 2, 2, 2, 2, 2, 2, 2, 2, 2], [2, 2, 2, 2, 2, 2, 2, 0, 1, 1, 1, 1, 1, 1, 1, 1, 1, 1, 1, 1, 1, 1, 1, 1, 2, 2, 2, 2, 2, 2], [0, 1, 1, 1, 1, 1, 1, 1, 2, 2, 2, 2, 2, 2, 2, 2, 2], [2, 2, 2, 2, 0, 1, 1, 1, 1, 1, 1, 1, 1, 1, 1, 1, 2, 2, 2], [2, 2, 2, 2, 2, 2, 2, 2, 2, 0, 1, 1, 1, 1, 1, 2, 2, 0], [2, 2, 2, 0, 1, 1, 2, 2, 2, 2, 2, 2, 2, 2, 2, 2, 2, 2, 2, 2, 2, 2, 2], [0, 1, 1, 1, 2, 2, 2, 2, 2, 2, 2, 2, 2, 2, 2, 2, 2], [2, 2, 2, 0, 1, 1, 1, 1, 1, 1, 1, 1, 1, 1, 1], [2, 2, 2, 2, 2, 2, 2, 0, 1, 1, 2, 2, 2], [2, 2, 2, 2, 2, 2, 0, 1, 2, 2, 2, 2, 2, 2], [0, 1, 1, 1, 2, 2, 2, 2, 2, 2, 2, 2, 2, 2, 2, 2], [2, 2, 2, 2, 0, 1, 1, 2, 0, 1, 1, 1, 1, 1, 1, 1, 1, 1, 1, 1, 1, 1, 1, 1, 2, 0, 1, 1], [2, 0, 1, 1, 1, 1, 1, 1, 1, 1, 1, 1, 1, 1, 1, 1], [2, 2, 0, 1, 1, 2, 2, 2, 2, 2, 2, 2], [0, 1, 1, 2, 2, 2, 2, 2, 2, 2, 2, 2, 2, 2, 2, 2], [2, 0, 1, 2, 2, 2, 2, 2, 2, 2, 2, 2, 2, 2, 2], [2, 0, 1, 1, 1, 2, 2, 2, 2, 2, 2, 2, 2, 2], [2, 2, 2, 2, 2, 2, 2, 2, 2, 2, 0, 1, 1, 1, 1, 1, 2, 2, 2, 2, 2], [2, 2, 2, 2, 0, 1, 1, 1, 1, 1, 1, 1, 1, 1, 1, 2, 2], [2, 2, 2, 2, 2, 2, 2, 2, 2, 0, 1, 1, 1, 1, 1, 1, 1, 1, 1, 1, 1], [2, 2, 2, 2, 2, 2, 0, 1, 1, 2, 2, 2, 2, 2, 2], [0, 1, 1, 1, 2, 2, 2, 2, 2, 2, 2, 2, 2, 2, 2, 2, 2, 2], [2, 0, 1, 1, 1, 1, 1, 1, 1, 1, 1, 1, 1, 1, 1, 1, 1, 1, 1, 1, 2, 2], [2, 2, 0, 1, 1, 1, 1, 1, 1, 1, 1, 1, 1, 1, 1, 1, 1, 1, 2], [0, 1, 1, 1, 2, 2, 2, 2, 2, 2, 2, 2, 2, 2, 2, 2], [2, 2, 2, 2, 2, 2, 2, 2, 0, 1, 1, 1, 1, 2, 2, 2, 2], [2, 2, 2, 2, 0, 1, 1, 1, 1, 1, 1, 1, 1, 1, 1, 1, 2, 2, 2, 2, 2, 2, 2, 2, 2, 2, 0], [2, 2, 2, 2, 0, 1, 1, 2, 2, 2, 2, 2, 2, 2, 2, 2], [0, 1, 1, 1, 1, 2, 2, 2, 2, 2, 2, 2, 2, 2, 2, 2, 2], [2, 2, 2, 2, 0, 1, 1, 1, 1, 1, 1, 1, 1, 1, 2, 0, 1], [2, 2, 2, 2, 2, 2, 2, 2, 0, 1, 1, 1, 1, 1, 1, 1, 1, 1, 1, 1, 1, 1], [2, 2, 2, 2, 2, 2, 2, 2, 0, 1, 1, 2, 2, 2, 2], [0, 1, 1, 1, 1, 1, 2, 2, 2, 2, 2, 2, 2, 2, 2, 2, 2, 2, 2], [0, 1, 1, 2, 2, 2, 2, 2, 2, 2, 2, 2], [2, 2, 2, 0, 1, 1, 2, 2, 2, 2, 2, 2, 2, 2, 2, 2, 2], [0, 1, 1, 1, 2, 2, 2, 2, 2, 2, 2, 2, 2, 2, 2, 2, 2, 2, 2], [2, 2, 2, 0, 1, 1, 1, 2, 2, 2, 2, 2, 2, 2, 2, 2, 2, 2], [2, 2, 2, 2, 2, 0, 1, 2, 2, 2, 2, 2, 2], [2, 2, 2, 2, 2, 2, 2, 2, 0, 1, 1, 1, 2, 2, 2, 2, 2], [2, 2, 2, 2, 0, 1, 1, 1, 1, 1, 1, 1, 1, 1, 1, 2], [2, 2, 0, 1, 1, 2, 2, 2, 2, 2, 2, 2, 2, 2], [2, 2, 0, 1, 1, 2, 2, 2, 2, 2, 2, 2], [0, 1, 1, 2, 2, 2, 2, 2, 2], [0, 1, 1, 1, 1, 1, 1, 1, 1, 1, 2, 0, 1, 1, 1, 1, 1, 1, 1, 1, 1, 2, 2, 0, 1, 1, 1, 1, 1, 1, 1, 1, 1, 1], [2, 2, 0, 1, 1, 1, 1, 2, 2], [0, 1, 1, 1, 1, 2, 2, 2, 2, 2, 2, 2, 2, 2, 2], [2, 2, 2, 2, 2, 2, 2, 2, 0, 1, 1, 1, 1, 1, 1, 1, 2], [2, 2, 0, 2, 0, 1, 1, 1, 1, 1, 1, 1], [2, 2, 2, 2, 2, 2, 2, 0, 1, 1, 1, 1, 1, 2, 2], [0, 1, 1, 1, 1, 1, 2, 2, 2, 2, 2, 2, 2, 2, 2, 2, 2, 2, 2, 2, 2, 2, 2, 2], [2, 2, 2, 0, 1, 1, 1, 1, 2, 2, 2, 2, 2, 2, 2, 2, 2, 2, 2], [2, 2, 2, 2, 2, 2, 2, 2, 2, 2, 0, 1, 1, 1, 1, 1, 2, 2], [2, 2, 2, 2, 0, 1, 1, 1, 1, 1, 1, 1, 2, 2, 2], [0, 1, 1, 1, 1, 2, 2, 2, 2, 2, 2, 2, 2, 2, 2], [0, 1, 1, 1, 1, 1, 1, 2, 2, 0, 1, 1, 1, 1, 1, 1, 1], [2, 2, 0, 1, 1, 1, 1, 1, 1, 2, 2, 2, 2, 2, 2], [0, 1, 1, 1, 2, 2, 2, 2, 2, 2, 2, 2, 2, 2, 2, 2], [2, 0, 1, 1, 1, 1, 1, 1, 1, 1, 1, 1, 1, 1, 1, 1, 1, 1, 2, 0, 1], [2, 2, 2, 2, 0, 1, 2, 2, 2, 2, 2, 2, 2, 2, 2, 2, 2], [2, 2, 2, 2, 2, 2, 2, 2, 0, 1, 1, 1, 1, 1, 2, 2], [0, 1, 1, 1, 1, 2, 2, 2, 2, 2, 2, 2, 2, 2, 2, 2, 2, 2, 2], [2, 2, 0, 1, 1, 2, 2, 2, 2, 2, 2, 2, 2, 2], [2, 2, 2, 2, 2, 2, 2, 0, 1, 1, 1, 1, 1, 1, 2, 2], [2, 2, 2, 2, 2, 2, 2, 0, 1, 1, 1, 1, 2], [2, 2, 2, 2, 2, 2, 2, 2, 0, 1, 2, 2, 2], [2, 2, 2, 2, 0, 1, 1, 1, 1, 1, 1, 1, 1, 1, 1, 2, 2, 2], [2, 2, 0, 1, 1, 1, 2, 2, 2, 2, 2, 2, 2, 2, 2, 2], [2, 2, 0, 1, 1, 1, 1, 1, 1, 1, 1, 1, 1, 2, 0, 1], [2, 2, 2, 0, 1, 1, 2, 2, 2, 2, 2, 2, 2, 2, 2, 2], [2, 0, 1, 1, 2, 2, 2, 2, 2, 2, 2], [2, 2, 2, 2, 2, 2, 0, 1, 1, 1, 1, 2, 2], [2, 2, 2, 2, 0, 1, 1, 1, 1, 2, 2, 2, 2], [2, 2, 2, 2, 2, 2, 2, 2, 0, 1, 2], [2, 2, 2, 2, 2, 2, 2, 0, 1, 1, 1, 1, 1, 2, 2], [2, 2, 2, 0, 1, 1, 1, 1, 1, 1, 1, 2], [0, 1, 1, 1, 2, 2, 2, 2, 2, 2, 2, 2, 2, 2], [2, 2, 2, 0, 1, 2, 2, 2], [0, 1, 1, 1, 2, 2, 2, 2, 2, 2, 2, 2, 2, 2, 2, 2], [0, 1, 1, 2, 2, 2, 2, 2, 2, 2, 2, 2, 2, 2, 2, 2, 2, 2], [2, 2, 0, 1, 1, 1, 1, 1, 1, 1, 1, 2, 2, 2, 2, 2, 2, 2, 2, 2, 2, 2, 2, 2], [2, 2, 2, 2, 0, 1, 1, 1, 1, 2, 2, 2, 2, 2, 2, 2, 2, 2, 2, 2, 2, 2, 2, 2, 2], [2, 2, 2, 2, 2, 2, 2, 2, 2, 0, 1, 1, 1, 1, 1, 1, 1, 2, 0, 1, 1], [2, 2, 0, 1, 1, 2, 2, 2, 2, 2, 2, 2, 2, 2, 2, 2, 2, 2, 2], [2, 0, 1, 1, 1, 1, 1, 2, 2, 2, 2, 2, 2, 2, 2], [0, 1, 1, 1, 1, 1, 1, 1, 1, 1, 1, 1, 1, 1, 1], [0, 1, 1, 1, 1, 1, 1, 1, 1, 1, 1, 1, 1, 1, 1, 1, 1, 1, 2, 2, 2, 2, 2, 2, 0, 1, 1, 1, 1, 1, 1, 1, 1], [0, 1, 2, 2, 2, 2, 2, 2, 2], [2, 0, 1, 1, 2, 2, 2, 2, 2, 2, 2, 2, 2], [2, 0, 1, 1, 1, 1, 2, 0, 1, 1, 1, 1, 1, 1, 1], [2, 2, 2, 2, 2, 2, 0, 1, 1, 1, 1, 2, 2, 2, 2, 2, 2, 2, 2, 2, 2, 2], [2, 0, 1, 2, 2, 2, 2, 2, 2, 2, 2, 2, 2, 2], [2, 2, 2, 2, 0, 1, 1, 1, 1, 1], [2, 2, 2, 0, 1, 1, 1, 1, 1, 1, 1, 1, 1, 1, 1, 1, 1, 1], [0, 1, 1, 1, 1, 2, 2, 2, 2, 2, 2, 2, 2, 2, 2, 2], [0, 1, 2, 2, 0, 1, 1, 2, 2, 2, 2, 2, 2, 2, 2, 2], [2, 0, 1, 1, 1, 1, 2, 2, 2, 2, 2], [2, 2, 2, 0, 1, 1, 1, 1, 2, 2, 2], [0, 1, 1, 1, 1, 1, 2, 2, 0, 1], [2, 2, 2, 2, 2, 0, 1, 1, 1, 1, 1, 1, 1, 1, 1, 1, 1, 1, 1, 1, 2, 2, 2, 2, 2], [2, 2, 2, 2, 2, 0, 1, 1, 2, 2, 2, 2], [0, 1, 1, 1, 1, 2, 2, 2, 2, 2, 2, 2, 2, 2, 2, 2, 2, 2, 2], [2, 0, 1, 1, 2, 2, 2, 2, 2, 2, 2, 2, 2, 2, 2, 2, 2, 2, 2], [2, 2, 2, 2, 2, 2, 0, 1, 1, 1, 1, 1, 1, 1, 1, 1, 1, 2, 0], [2, 0, 1, 1, 1, 1, 1, 1, 1, 1, 2, 2, 2, 2, 2, 2, 2, 2, 2, 2, 2, 2], [2, 2, 2, 2, 2, 2, 0, 1, 2, 2, 2, 2], [2, 2, 2, 2, 0, 1, 1, 2, 2, 2, 2, 2, 2], [2, 2, 0, 1, 1, 1, 1, 1, 1, 2, 2, 2, 2, 2, 2, 2, 2, 2, 2], [2, 2, 0, 1, 2, 2, 2, 2, 2, 2, 2, 2, 2, 2], [2, 2, 2, 2, 2, 2, 2, 2, 2, 2, 2, 0, 1, 1, 1, 2], [2, 2, 2, 0, 1, 1, 2, 2, 2, 2, 2, 2, 2, 2, 2, 2, 2, 2], [0, 1, 1, 1, 1, 1, 1, 1, 1, 1, 1, 1, 2, 2, 2, 2, 2, 2, 2, 0, 1], [0, 1, 1, 1, 1, 1, 2, 2, 2, 0, 1, 1, 1], [2, 2, 2, 2, 0, 1, 1, 2, 2, 2, 2, 2, 2, 2, 2, 2, 2], [2, 2, 2, 2, 0, 1, 1, 1, 1, 1, 2, 0, 1, 1, 1, 1, 1], [0, 1, 2, 2, 2, 2, 2, 2, 2, 2, 2], [2, 2, 0, 1, 1, 2, 2, 2, 2, 2], [0, 1, 1, 1, 1, 2, 2, 2, 2, 2, 2, 2, 2, 2], [2, 2, 2, 2, 2, 2, 2, 2, 2, 2, 2, 2, 2, 0, 1, 1, 2], [0, 1, 1, 1, 2, 2, 2, 2, 2, 2, 2, 2, 2, 2], [0, 1, 1, 1, 2, 2, 2, 2, 2, 2, 2, 2, 2, 2, 2, 2, 2, 2, 2, 2, 2], [2, 2, 2, 2, 2, 2, 2, 0, 1, 2, 2, 2, 2, 2, 2, 2, 2, 2, 2], [2, 2, 2, 2, 2, 2, 0, 1, 1, 1, 1, 1, 1, 1, 1, 1, 1, 1, 2, 2, 2, 2, 2, 2, 2, 2, 2, 2, 2], [2, 2, 2, 0, 1, 1, 1, 1, 1, 1, 1, 1, 1, 1, 1, 1, 2, 2, 2, 2, 2, 2, 2, 2, 2, 2, 2], [2, 0, 1, 1, 1, 1, 1, 1, 1, 1, 1, 1, 1, 1, 2, 2, 2, 2, 2, 2, 2, 2, 2, 2, 2], [0, 1, 1, 2, 2, 2, 2, 2, 2, 2, 2], [2, 2, 2, 0, 1, 1, 1, 2, 0, 2, 2, 2], [0, 1, 1, 1, 2, 2, 2, 2, 2, 2, 2], [2, 0, 1, 1, 1, 2, 2, 2, 2, 2, 2, 2, 2, 2], [2, 2, 2, 0, 1, 1, 1, 1, 1, 1, 1, 1, 1, 1, 1, 1, 1, 1, 1, 1, 2, 2, 2, 2, 2, 2, 2], [2, 0, 1, 1, 1, 1, 2, 2, 2, 2, 2, 2, 2, 2, 2, 2], [2, 2, 2, 2, 2, 0, 1, 1, 2, 2, 2, 2, 2, 2, 2], [2, 2, 2, 2, 2, 2, 2, 2, 2, 2, 0, 1, 1, 1, 1, 1, 1, 1, 1, 1, 1, 1, 1, 2, 2, 2, 2], [2, 2, 2, 2, 2, 2, 0, 1, 1, 1, 2, 2, 2], [2, 2, 2, 2, 2, 0, 1, 1, 1, 2, 2, 2, 2, 2], [0, 1, 1, 1, 1, 2, 2, 2, 2, 2, 2, 2, 2, 2, 2, 2], [2, 2, 2, 2, 2, 0, 1, 1, 1, 1, 1, 1, 1, 1, 1, 1, 1, 1, 1, 2, 0, 1, 1, 1], [0, 1, 1, 1, 2, 2, 2, 2, 2, 2, 2, 2, 2, 2], [2, 2, 2, 2, 2, 2, 2, 2, 2, 2, 2, 0, 1, 1, 1, 1, 1, 1, 1, 1, 1, 1, 2, 2, 2], [2, 2, 2, 2, 2, 2, 2, 2, 2, 2, 2, 2, 2, 2, 2, 2, 0, 1, 1, 1, 1, 1, 2, 2, 2, 2, 2, 2, 2], [0, 1, 1, 1, 1, 1, 1, 1, 2, 2, 2, 2, 2, 2, 2, 2, 2, 2, 2, 2, 2], [2, 0, 1, 1, 1, 1, 2, 2, 2, 2, 2, 2, 2, 2, 2, 2, 2, 2], [2, 2, 2, 0, 1, 1, 1, 1, 1, 1, 1, 2, 2, 2, 2, 2, 2], [2, 2, 2, 0, 1, 1, 1, 1, 2, 2, 2, 2, 2, 2, 2, 2, 2, 2], [0, 1, 1, 1, 1, 1, 1, 1, 1, 1, 1, 1, 2, 2, 2, 2, 2, 2, 2, 2, 2, 2, 2, 2], [2, 2, 2, 2, 2, 2, 0, 1, 1, 2, 2, 2], [0, 1, 1, 1, 1, 2, 2, 2, 2, 2, 2, 2, 2], [2, 2, 2, 0, 1, 1, 1, 1, 1, 1, 1, 1, 1, 1, 2], [2, 2, 2, 0, 1, 1, 1, 1, 1, 2, 2, 2, 2, 2, 2, 2, 2], [2, 2, 2, 0, 1, 1, 1, 1, 2, 2, 2, 2, 2, 2, 2], [0, 1, 1, 2, 2, 2, 2, 2, 2, 2, 2, 2, 2, 2, 2, 2, 2, 2, 2], [2, 2, 2, 2, 2, 2, 0, 1, 2, 2, 2, 2, 2], [2, 2, 2, 2, 2, 2, 2, 0, 1, 2], [0, 1, 1, 1, 2, 2, 2, 0, 1], [2, 0, 1, 1, 1, 1, 2, 2, 2, 2, 2, 2, 2, 2, 2, 2, 2, 2, 2, 2], [0, 1, 1, 1, 1, 2, 2, 2, 2, 2, 2, 2, 2, 0], [0, 1, 1, 1, 2, 2, 0, 1, 1, 1, 1, 1, 1, 1, 1, 2, 0, 1, 2, 2], [2, 2, 2, 2, 2, 2, 2, 2, 2, 0, 1, 1, 1, 2, 2, 2, 2, 2, 2], [0, 1, 1, 1, 1, 2, 2, 2, 2, 2, 2, 2, 2], [2, 2, 2, 2, 2, 2, 2, 2, 2, 2, 2, 0, 1, 1, 2, 2], [0, 1, 1, 1, 1, 2, 2, 2, 2, 2, 2, 2, 2, 2], [0, 1, 1, 1, 2, 2, 2, 2, 2, 2, 2, 2], [0, 1, 1, 1, 1, 1, 1, 1, 1, 1, 1, 1, 2, 2, 0], [2, 0, 1, 1, 1, 1, 2, 2, 2, 2, 2, 2, 2, 2, 2, 2], [0, 1, 1, 1, 1, 1, 1, 1, 1, 1], [0, 1, 1, 1, 1, 1, 1, 1, 1, 1, 1, 1, 1, 1, 1, 1, 1, 1, 2, 2, 0, 1, 1, 1], [2, 2, 2, 2, 2, 2, 0, 1, 1, 2, 2, 2], [2, 2, 2, 2, 2, 2, 2, 2, 2, 2, 2, 0, 1, 1, 1, 2, 2], [2, 2, 2, 2, 2, 2, 2, 2, 2, 2, 2, 2, 2, 2, 2, 0, 1, 1, 1, 1, 1, 2], [2, 2, 2, 2, 2, 2, 2, 2, 0, 1, 1, 2, 2], [0, 1, 1, 1, 2, 2, 2, 2, 2, 2, 2, 2, 2, 2, 2, 2, 2, 2, 2, 2], [2, 2, 2, 0, 1, 1, 2, 2, 2, 2, 2, 2, 2, 2, 2], [2, 2, 2, 0, 1, 1, 1, 1, 1, 1, 1, 1, 1, 1, 1, 2, 2], [0, 1, 1, 1, 1, 1, 2, 2, 2, 2, 2, 2, 2, 2, 2, 2], [0, 1, 1, 1, 2, 2, 2, 2, 0, 2, 2, 2, 2, 2, 2, 2, 2, 2], [0], [2, 2, 0, 1, 1, 1, 1, 1, 2, 2, 2], [0, 1, 1, 1, 1, 1, 1, 1, 2, 2, 2, 2, 2, 2, 2, 2, 2, 2, 2, 2, 2], [0, 2, 0, 1, 1, 2, 2, 2, 2, 2, 2, 2, 2, 2, 2, 2, 2, 2], [2, 2, 2, 2, 2, 2, 2, 2, 2, 2, 0, 1, 1, 1, 1, 1, 2, 2, 2, 2, 2, 2, 2, 2], [0, 1, 1, 1, 2, 2, 2, 2, 2, 2, 2, 2, 2, 2, 2, 2, 2, 2, 2, 2, 2, 2], [0, 1, 1, 1, 2, 2, 2, 2, 2, 2, 2, 2, 2, 2, 2, 2, 2, 2, 2, 2], [0, 1, 1, 2, 2, 2, 2, 2, 2, 2, 2, 2, 2, 2, 2, 2, 2], [0, 1, 2, 2, 2, 2, 2, 2, 2, 2, 2, 2, 2, 2, 2, 2, 2], [0, 1, 1, 1, 2, 2, 2, 2, 2, 2, 2, 2, 2, 2], [2, 2, 2, 2, 2, 2, 2, 2, 0, 1, 1, 2, 2, 2], [0, 1, 1, 2, 2, 2, 2, 2, 2, 2, 2, 2, 2], [2, 2, 2, 2, 2, 2, 2, 2, 2, 2, 2, 2, 2, 0, 1, 1, 1, 1, 1, 1, 2, 2, 2, 2, 2], [0, 1, 1, 1, 1, 1, 2, 2, 2, 2, 2, 2, 2, 2, 2, 2, 2, 2, 2], [2, 2, 0, 1, 2, 2, 2, 2, 2, 2, 2, 2, 2, 2, 2, 2, 2], [2, 0, 1, 1, 2, 2, 2, 2, 2, 2, 2, 2, 2, 2, 2, 2, 2, 2], [2, 2, 2, 2, 2, 2, 0, 1, 2, 2, 2, 2, 2, 2, 2], [2, 2, 2, 2, 2, 2, 2, 2, 0, 1, 1, 2, 2], [2, 2, 2, 2, 2, 0, 1, 1, 2, 2, 2, 2], [0, 1, 1, 2, 2, 2, 2, 2, 2, 2, 2, 2], [2, 0, 1, 1, 1, 1, 1, 1, 1, 1, 1, 2], [2, 2, 2, 2, 0, 1, 1, 1, 1, 1, 2, 2, 2, 2, 2]]\n",
      "[['O', 'O', 'O', 'O', 'BR', 'IR', 'IR', 'IR', 'O', 'BR', 'IR'], ['BR', 'IR', 'IR', 'IR', 'IR', 'IR', 'O', 'O', 'O', 'O', 'O', 'O'], ['O', 'O', 'BR', 'IR', 'IR', 'IR', 'O', 'O', 'O', 'O', 'O'], ['BR', 'IR', 'IR', 'O', 'O', 'O', 'O', 'O'], ['BR', 'IR', 'O', 'O', 'O', 'O', 'O', 'O', 'O', 'O', 'O', 'O'], ['O', 'O', 'O', 'O', 'O', 'BR', 'IR', 'IR', 'IR', 'IR', 'IR', 'IR', 'O'], ['O', 'O', 'BR', 'IR', 'IR', 'IR', 'IR', 'IR', 'O'], ['O', 'O', 'O', 'BR', 'IR', 'IR', 'IR', 'O', 'O', 'O', 'O', 'O'], ['O', 'O', 'BR', 'IR', 'IR', 'IR', 'IR', 'IR', 'IR', 'IR'], ['O', 'O', 'O', 'O', 'O', 'O', 'BR', 'IR', 'IR', 'IR', 'IR', 'IR', 'O', 'O', 'O'], ['O', 'BR', 'IR', 'IR', 'IR', 'IR', 'O', 'O', 'O', 'O', 'O'], ['O', 'BR', 'IR', 'IR', 'IR', 'O', 'O', 'O', 'O'], ['O', 'O', 'O', 'O', 'O', 'O', 'O', 'O', 'O', 'O', 'O', 'BR', 'IR', 'IR', 'IR', 'IR', 'IR', 'IR', 'IR', 'IR', 'IR', 'IR', 'IR', 'IR', 'O', 'O'], ['O', 'O', 'O', 'O', 'O', 'BR', 'IR', 'IR', 'IR', 'IR', 'IR', 'O', 'O'], ['O', 'BR', 'IR', 'IR', 'IR', 'O', 'O', 'O', 'O'], ['O', 'O', 'O', 'BR', 'IR', 'IR', 'IR', 'IR', 'O'], ['BR', 'IR', 'IR', 'IR', 'IR', 'IR', 'IR', 'IR', 'O', 'O', 'O', 'O', 'O', 'BR', 'IR'], ['BR', 'IR', 'O', 'O', 'O', 'O', 'O', 'O', 'O', 'O', 'O'], ['O', 'O', 'O', 'O', 'O', 'O', 'O', 'O', 'O', 'O', 'BR', 'IR', 'IR', 'IR', 'O'], ['O', 'BR', 'IR', 'IR', 'IR', 'IR', 'IR', 'IR', 'IR', 'IR', 'IR', 'IR', 'IR', 'IR', 'IR', 'IR', 'O', 'O', 'O', 'O', 'O', 'O', 'O'], ['BR', 'IR', 'IR', 'O', 'O', 'O', 'O', 'O', 'O', 'O', 'O', 'O', 'O', 'O'], ['O', 'BR', 'IR', 'IR', 'IR', 'IR', 'IR', 'IR', 'IR', 'IR', 'IR', 'IR', 'IR', 'IR', 'IR', 'IR', 'IR', 'IR', 'O', 'BR'], ['BR', 'IR', 'IR', 'IR', 'O', 'O', 'O', 'O', 'O', 'O', 'O', 'O', 'O'], ['O', 'O', 'O', 'BR', 'IR', 'IR', 'IR', 'IR', 'IR', 'IR', 'IR', 'IR'], ['O', 'BR', 'IR', 'IR', 'IR', 'IR', 'IR', 'O', 'BR', 'IR', 'IR', 'IR', 'IR', 'IR'], ['O', 'O', 'O', 'O', 'O', 'O', 'BR', 'IR', 'IR', 'IR', 'O', 'O'], ['O', 'O', 'O', 'O', 'O', 'O', 'BR', 'IR', 'IR', 'IR', 'O', 'O', 'O', 'O', 'O'], ['O', 'O', 'O', 'BR', 'IR', 'IR', 'O', 'O', 'O', 'O', 'O', 'O', 'O', 'O', 'O'], ['BR', 'IR', 'IR', 'O', 'O', 'O', 'O', 'O', 'O', 'O', 'O', 'O', 'O', 'O'], ['O', 'BR', 'IR', 'IR', 'IR', 'IR', 'IR', 'IR', 'IR', 'IR', 'IR', 'IR', 'IR', 'IR', 'IR', 'IR'], ['O', 'O', 'O', 'O', 'BR', 'IR', 'IR', 'O', 'O', 'O'], ['O', 'O', 'O', 'BR', 'IR', 'O', 'O'], ['O', 'BR', 'IR', 'IR', 'IR', 'IR', 'O', 'O', 'O', 'O', 'O', 'O', 'O'], ['O', 'BR', 'IR', 'IR', 'IR', 'O', 'O', 'O', 'O', 'O', 'O'], ['O', 'BR', 'IR', 'IR', 'IR', 'IR', 'IR', 'IR', 'IR', 'IR'], ['O', 'BR', 'IR', 'IR', 'IR', 'O', 'O', 'O', 'O', 'O'], ['BR', 'IR', 'IR', 'IR', 'IR', 'IR', 'IR', 'O', 'O', 'O', 'O', 'O', 'O', 'O', 'O'], ['BR', 'IR', 'IR', 'IR', 'IR', 'IR', 'IR', 'IR', 'IR', 'IR', 'IR', 'IR', 'IR', 'O', 'O', 'O', 'BR', 'IR', 'IR', 'IR', 'IR'], ['BR', 'IR', 'IR', 'IR', 'IR', 'IR', 'IR', 'IR', 'IR', 'O', 'O', 'O', 'O', 'O', 'O', 'O', 'O'], ['BR', 'IR', 'IR', 'O', 'O', 'O', 'O', 'O', 'O', 'O'], ['O', 'O', 'O', 'BR', 'IR', 'IR', 'IR', 'IR', 'IR', 'IR', 'IR', 'IR', 'IR', 'IR', 'IR', 'O'], ['O', 'O', 'BR', 'IR', 'IR', 'IR', 'IR', 'O', 'BR', 'IR', 'IR', 'IR'], ['O', 'O', 'O', 'BR', 'IR', 'IR', 'IR', 'O', 'O', 'O', 'O'], ['O', 'O', 'O', 'O', 'BR', 'IR', 'IR', 'IR', 'IR', 'O', 'O', 'O', 'O', 'O', 'O'], ['O', 'O', 'O', 'O', 'O', 'BR', 'IR', 'IR', 'IR', 'O', 'O', 'O', 'O'], ['O', 'O', 'O', 'O', 'O', 'O', 'BR', 'IR', 'IR', 'IR', 'IR', 'IR', 'O', 'BR'], ['BR', 'IR', 'IR', 'IR', 'IR', 'IR', 'O', 'O', 'O', 'O', 'O', 'O', 'O', 'O', 'O'], ['BR', 'IR', 'IR', 'O', 'O', 'O', 'O', 'O', 'O', 'O', 'O', 'O', 'O'], ['O', 'O', 'O', 'O', 'BR', 'IR', 'IR', 'O', 'O', 'O', 'O', 'O', 'O', 'O'], ['BR', 'IR', 'IR', 'IR', 'IR', 'IR', 'IR', 'IR', 'IR', 'IR', 'O', 'O', 'O', 'O', 'O', 'O', 'O', 'O'], ['O', 'O', 'BR', 'IR', 'IR', 'IR', 'IR', 'IR', 'IR', 'O', 'O', 'O', 'O', 'O', 'O', 'O'], ['O', 'O', 'BR', 'IR', 'IR', 'IR', 'IR', 'O', 'O', 'O', 'O', 'O', 'O'], ['BR', 'IR', 'IR', 'IR', 'IR', 'IR', 'O', 'O', 'O', 'BR', 'IR', 'IR'], ['O', 'O', 'O', 'O', 'O', 'O', 'BR', 'IR', 'IR', 'IR', 'IR', 'IR', 'IR', 'IR', 'IR', 'IR', 'IR', 'IR', 'IR', 'O', 'O', 'O', 'O', 'O'], ['O', 'O', 'O', 'BR', 'IR', 'IR', 'IR', 'IR', 'IR', 'IR', 'IR', 'IR', 'O'], ['BR', 'IR', 'IR', 'O', 'O', 'O', 'O', 'O', 'O', 'O', 'O', 'O', 'O'], ['O', 'O', 'O', 'BR', 'IR', 'IR', 'IR', 'IR', 'IR', 'O', 'O', 'O', 'O', 'O'], ['O', 'BR', 'IR', 'IR', 'O', 'O', 'O', 'O'], ['O', 'O', 'O', 'BR', 'IR', 'IR', 'IR', 'IR', 'IR', 'IR', 'IR'], ['BR', 'IR', 'IR', 'O', 'O', 'O', 'O', 'O', 'O', 'O', 'O'], ['O', 'O', 'O', 'BR', 'IR', 'IR', 'O', 'O', 'BR', 'IR', 'IR'], ['O', 'BR', 'IR', 'IR', 'IR', 'IR', 'IR', 'IR', 'IR', 'IR', 'IR', 'IR', 'IR', 'IR', 'IR', 'IR', 'IR', 'IR', 'IR', 'IR'], ['O', 'O', 'O', 'BR', 'IR', 'IR', 'IR', 'IR', 'O', 'O', 'O', 'O', 'O', 'O', 'O'], ['BR'], ['O', 'O', 'BR', 'IR', 'IR', 'O', 'O', 'O', 'O', 'O'], ['BR', 'IR', 'IR', 'O', 'O', 'O', 'O', 'O', 'O', 'O'], ['O', 'BR', 'IR', 'IR', 'IR', 'IR', 'IR', 'IR', 'IR', 'IR', 'IR', 'IR', 'IR', 'IR'], ['O', 'O', 'O', 'BR', 'IR', 'IR', 'O', 'O'], ['O', 'O', 'O', 'O', 'BR', 'IR', 'IR', 'O', 'O', 'O', 'O', 'O'], ['O', 'O', 'O', 'O', 'O', 'O', 'BR', 'IR', 'IR', 'IR', 'IR', 'IR', 'IR', 'IR', 'O'], ['BR', 'IR', 'IR', 'IR', 'IR', 'IR', 'IR', 'IR', 'IR', 'IR', 'IR', 'IR', 'IR', 'IR', 'IR', 'O'], ['O', 'O', 'BR', 'IR', 'IR', 'IR', 'O'], ['O', 'BR', 'IR', 'O', 'O', 'O', 'O', 'O'], ['O', 'O', 'O', 'O', 'O', 'O', 'O', 'BR', 'IR', 'IR', 'O', 'O'], ['BR', 'IR', 'IR', 'IR', 'O', 'O', 'O', 'O', 'BR', 'IR', 'IR', 'IR'], ['BR', 'IR', 'IR', 'IR', 'O', 'O', 'O', 'O'], ['BR', 'IR', 'IR', 'IR', 'O', 'O', 'O', 'O', 'O', 'O'], ['BR', 'IR', 'IR', 'O', 'O', 'O', 'O', 'O', 'O'], ['BR', 'IR', 'IR', 'O', 'O', 'O', 'O'], ['BR', 'IR', 'IR', 'IR', 'IR', 'IR', 'O', 'O', 'O'], ['BR', 'IR', 'IR', 'IR', 'O', 'O', 'O', 'O'], ['O', 'O', 'O', 'O', 'O', 'O', 'BR', 'IR', 'IR', 'O'], ['O', 'O', 'BR', 'IR', 'IR', 'IR', 'IR', 'IR', 'IR', 'IR', 'IR', 'IR', 'IR', 'O', 'BR'], ['O', 'O', 'BR', 'IR', 'IR', 'IR', 'O', 'O'], ['BR', 'IR', 'IR', 'IR', 'IR', 'IR', 'IR', 'IR', 'IR', 'O'], ['O', 'O', 'BR', 'IR', 'IR', 'IR', 'IR', 'IR', 'O'], ['O', 'O', 'BR', 'IR', 'IR', 'IR', 'IR', 'IR', 'IR', 'O', 'O', 'O'], ['O', 'O', 'BR', 'IR', 'IR', 'O', 'O', 'O', 'O', 'O'], ['BR', 'IR', 'IR', 'O', 'O', 'O', 'O', 'O', 'O', 'O', 'O'], ['O', 'O', 'BR', 'IR', 'IR', 'O', 'O', 'O', 'O'], ['O', 'O', 'BR', 'IR', 'IR', 'IR', 'IR', 'IR', 'IR', 'O'], ['O', 'BR', 'IR', 'IR', 'IR', 'IR', 'IR', 'IR', 'IR', 'IR', 'IR', 'IR', 'IR'], ['BR', 'IR', 'O', 'O', 'O', 'O', 'O', 'O', 'O', 'O', 'O', 'O', 'O'], ['O', 'O', 'O', 'O', 'O', 'BR', 'IR', 'IR', 'IR', 'IR', 'IR', 'O', 'O'], ['BR', 'IR', 'IR', 'O', 'O', 'O', 'O', 'O', 'O', 'O', 'O'], ['BR', 'IR', 'IR', 'IR', 'O', 'O', 'O', 'O', 'O'], ['O', 'O', 'BR', 'IR', 'IR', 'IR', 'IR', 'IR', 'O', 'O'], ['BR', 'IR', 'IR', 'IR', 'O', 'O', 'O', 'O', 'O', 'O'], ['O', 'O', 'O', 'BR', 'IR', 'IR', 'O', 'O', 'O', 'O', 'O', 'O'], ['O', 'BR', 'IR', 'IR', 'IR', 'IR', 'IR', 'IR', 'IR', 'IR', 'IR', 'IR', 'IR', 'IR', 'IR'], ['O', 'BR', 'IR', 'IR', 'IR', 'IR', 'IR', 'IR', 'IR', 'O'], ['O', 'O', 'O', 'BR', 'IR', 'IR', 'O', 'O', 'O', 'O', 'O'], ['O', 'O', 'O', 'O', 'BR', 'IR', 'IR', 'IR', 'IR', 'IR', 'IR', 'IR', 'IR', 'IR', 'IR', 'IR', 'IR', 'O', 'O', 'O', 'BR', 'O', 'O', 'O', 'O'], ['BR', 'IR', 'IR', 'IR', 'IR', 'O', 'O', 'O', 'O', 'O', 'O', 'O'], ['O', 'O', 'O', 'O', 'BR', 'IR', 'IR', 'IR', 'IR', 'IR', 'IR', 'IR', 'O'], ['O', 'O', 'O', 'O', 'O', 'BR', 'IR', 'IR', 'IR', 'O', 'O'], ['O', 'BR', 'IR', 'IR', 'IR', 'O', 'O', 'O', 'O', 'O', 'O'], ['BR', 'IR', 'IR', 'IR', 'O', 'O', 'O', 'O', 'O', 'O', 'O', 'O', 'O', 'O'], ['O', 'O', 'O', 'O', 'O', 'O', 'O', 'BR', 'IR', 'O'], ['O', 'BR', 'IR', 'O', 'O', 'O', 'O', 'O', 'O', 'O', 'O'], ['BR', 'IR', 'IR', 'O', 'O', 'O', 'O', 'O', 'O', 'O', 'O', 'O'], ['O', 'O', 'O', 'BR', 'IR', 'IR', 'IR', 'IR', 'IR', 'IR', 'O', 'O', 'O', 'O', 'O', 'O', 'O'], ['O', 'O', 'O', 'O', 'O', 'O', 'BR', 'IR', 'IR', 'IR', 'IR', 'O'], ['O', 'BR', 'IR', 'IR', 'IR', 'O', 'O', 'O'], ['O', 'O', 'BR', 'IR', 'IR', 'O', 'O'], ['BR', 'IR', 'IR', 'O', 'O', 'O', 'O', 'O', 'O'], ['BR', 'IR', 'IR', 'IR', 'O', 'O', 'O', 'O'], ['BR', 'IR', 'O', 'BR', 'IR', 'IR'], ['O', 'O', 'BR', 'IR', 'IR', 'O', 'O', 'O', 'O', 'O'], ['BR', 'IR', 'IR', 'IR', 'O', 'O', 'O', 'O', 'O', 'O', 'O'], ['BR', 'IR', 'IR', 'O', 'O', 'O', 'O', 'O'], ['O', 'O', 'O', 'BR', 'IR', 'O', 'O', 'O', 'O', 'O'], ['O', 'O', 'BR', 'IR', 'IR', 'IR', 'IR', 'IR', 'IR', 'IR', 'O', 'O', 'O', 'O', 'O', 'O'], ['O', 'O', 'BR', 'IR', 'IR', 'O', 'O', 'O'], ['BR', 'IR', 'IR', 'IR', 'IR', 'IR', 'IR', 'IR', 'IR', 'IR', 'IR', 'IR', 'IR', 'O'], ['O', 'O', 'BR', 'IR', 'IR', 'IR', 'IR', 'IR', 'O', 'O'], ['BR', 'IR', 'IR', 'IR', 'O', 'O', 'O', 'O', 'O', 'O', 'O', 'O', 'O', 'O', 'O'], ['BR', 'IR', 'IR', 'O', 'O', 'O', 'O', 'O', 'O'], ['BR', 'IR', 'IR', 'IR', 'IR', 'IR', 'IR', 'IR', 'IR', 'IR', 'IR', 'IR', 'IR', 'IR', 'IR', 'IR', 'IR', 'IR'], ['O', 'O', 'O', 'BR', 'IR', 'IR', 'IR', 'O', 'O', 'O', 'O', 'O'], ['O', 'BR', 'IR', 'IR', 'IR', 'IR', 'IR', 'O', 'O', 'O', 'BR', 'IR'], ['BR', 'IR', 'IR', 'O', 'O', 'O', 'O', 'O', 'O', 'O', 'O', 'O', 'O', 'O', 'O', 'O', 'O', 'O'], ['BR', 'IR', 'IR', 'IR', 'O', 'O', 'O', 'O', 'O', 'O', 'O', 'O', 'O', 'O', 'BR', 'O'], ['O', 'O', 'O', 'O', 'BR', 'IR', 'IR', 'IR', 'O', 'O', 'O', 'O', 'O', 'O', 'O', 'O'], ['BR', 'IR', 'O', 'O', 'O', 'O', 'O', 'O', 'O', 'O', 'O', 'O', 'O'], ['O', 'O', 'O', 'O', 'O', 'O', 'O', 'O', 'BR', 'IR', 'IR', 'O', 'O'], ['BR', 'IR', 'IR', 'O', 'O', 'BR', 'IR', 'IR', 'IR', 'IR'], ['O', 'O', 'O', 'BR', 'IR', 'IR', 'IR', 'O', 'O', 'O', 'O', 'O'], ['O', 'O', 'O', 'O', 'O', 'BR', 'IR', 'IR', 'IR', 'O', 'O'], ['BR', 'IR', 'IR', 'IR', 'IR', 'IR', 'IR', 'IR', 'IR', 'IR', 'IR', 'IR', 'IR'], ['O', 'O', 'BR', 'IR', 'IR', 'IR', 'IR', 'IR', 'IR', 'IR', 'O'], ['BR', 'IR', 'IR', 'IR', 'IR', 'IR', 'O', 'O', 'O', 'O', 'O', 'BR', 'IR', 'IR', 'O', 'O'], ['BR', 'IR', 'IR', 'O', 'O', 'O', 'O', 'O', 'O', 'O'], ['O', 'BR', 'IR', 'O', 'O', 'O', 'O', 'O', 'O', 'O'], ['BR', 'IR', 'IR', 'IR', 'IR', 'IR', 'IR', 'IR', 'IR'], ['O', 'BR', 'IR', 'IR', 'IR', 'IR', 'O', 'BR', 'IR', 'IR', 'IR', 'IR'], ['BR', 'IR', 'IR', 'O', 'O', 'O', 'O'], ['O', 'O', 'O', 'O', 'O', 'O', 'BR', 'IR', 'O', 'O'], ['O', 'O', 'BR', 'IR', 'IR', 'IR', 'O'], ['O', 'O', 'BR', 'IR', 'IR', 'IR', 'IR', 'O', 'O', 'O', 'BR', 'O', 'O'], ['BR', 'IR', 'IR', 'O', 'O', 'BR', 'IR', 'IR', 'IR', 'IR'], ['O', 'O', 'BR', 'IR', 'IR', 'IR', 'IR', 'IR', 'IR', 'O'], ['O', 'O', 'BR', 'IR', 'O', 'O'], ['O', 'O', 'BR', 'IR', 'IR', 'IR', 'IR', 'IR', 'IR', 'IR', 'IR', 'IR', 'IR', 'IR'], ['O', 'O', 'O', 'O', 'O', 'BR', 'IR', 'IR', 'IR', 'IR', 'O', 'O', 'O'], ['BR', 'IR', 'IR', 'O', 'O', 'O', 'O', 'O', 'O', 'O'], ['BR', 'IR', 'IR', 'IR', 'IR', 'IR', 'IR', 'IR', 'IR', 'IR', 'IR', 'IR'], ['O', 'O', 'BR', 'IR', 'IR', 'IR', 'IR'], ['O', 'BR', 'IR', 'IR', 'O', 'O', 'O', 'O', 'O', 'O', 'O', 'O', 'O'], ['O', 'BR', 'IR', 'IR', 'O', 'O', 'O', 'O', 'O', 'O', 'O', 'O'], ['BR', 'IR', 'IR', 'IR', 'IR', 'O', 'O', 'O', 'BR', 'IR', 'IR', 'O', 'BR'], ['O', 'BR', 'IR', 'IR', 'IR', 'IR', 'O', 'O', 'O', 'O', 'O', 'O', 'O'], ['O', 'BR', 'IR', 'IR', 'IR', 'O', 'O', 'O'], ['O', 'BR', 'IR', 'IR', 'IR', 'O', 'O', 'O'], ['BR', 'IR', 'IR', 'IR', 'IR', 'O', 'O', 'O', 'O', 'O', 'O', 'O', 'O', 'O', 'O'], ['O', 'O', 'O', 'BR', 'IR', 'IR', 'IR', 'IR', 'O', 'O', 'O', 'O', 'O', 'O', 'O', 'O'], ['BR'], ['O', 'O', 'O', 'O', 'BR', 'O', 'O', 'O', 'BR', 'IR', 'IR', 'O'], ['BR', 'IR', 'IR', 'O', 'O', 'O', 'BR', 'IR', 'IR', 'IR', 'IR', 'IR'], ['BR', 'IR', 'IR', 'IR', 'O', 'O', 'O', 'O', 'O'], ['O', 'BR', 'IR', 'IR', 'O', 'O', 'O', 'O', 'O', 'O'], ['O', 'BR', 'IR', 'IR', 'IR', 'IR', 'IR', 'IR', 'IR', 'IR', 'IR', 'IR', 'IR', 'IR', 'IR', 'IR', 'IR', 'IR', 'IR', 'IR', 'IR', 'IR', 'IR', 'O', 'BR', 'IR'], ['O', 'BR', 'IR', 'IR', 'IR', 'IR', 'IR', 'IR', 'IR', 'IR', 'IR', 'O', 'O', 'O', 'O', 'O', 'O', 'O'], ['O', 'O', 'O', 'BR', 'IR', 'IR', 'IR', 'IR', 'O', 'O', 'O', 'O', 'O'], ['O', 'O', 'O', 'O', 'BR', 'IR', 'IR', 'O', 'O', 'O', 'O'], ['O', 'O', 'O', 'O', 'BR', 'IR', 'IR', 'IR', 'IR', 'IR', 'O', 'O'], ['O', 'O', 'O', 'O', 'BR', 'IR', 'IR', 'O', 'O', 'O', 'O'], ['O', 'BR', 'IR', 'IR', 'IR', 'IR', 'IR', 'IR', 'IR', 'O', 'O', 'O', 'O', 'O', 'O'], ['O', 'BR', 'IR', 'IR', 'IR', 'O', 'O', 'O', 'O', 'O', 'O'], ['O', 'BR', 'IR', 'IR', 'IR', 'IR', 'IR', 'IR', 'IR', 'IR', 'IR', 'IR', 'IR', 'IR', 'IR', 'IR', 'IR', 'IR', 'IR', 'IR', 'IR', 'IR', 'IR'], ['BR', 'IR', 'IR', 'IR', 'IR', 'IR', 'IR', 'IR', 'O', 'O', 'O', 'O', 'O', 'O'], ['O', 'O', 'O', 'BR', 'IR', 'IR', 'O', 'O', 'O', 'O'], ['O', 'O', 'O', 'O', 'O', 'O', 'BR', 'IR', 'IR', 'IR', 'O', 'O', 'O', 'O', 'O', 'O'], ['BR'], ['O', 'O', 'O', 'O', 'BR', 'IR', 'IR', 'O', 'O'], ['BR'], ['BR', 'IR', 'IR', 'O', 'O', 'O', 'O', 'O', 'O', 'O'], ['O', 'O', 'O', 'O', 'O', 'O', 'O', 'BR', 'IR', 'IR', 'IR', 'IR', 'O'], ['O', 'O', 'O', 'O', 'O', 'O', 'BR', 'IR', 'IR', 'IR', 'IR', 'IR', 'IR', 'IR'], ['O', 'O', 'O', 'BR', 'IR', 'IR', 'O', 'O', 'O', 'O', 'O', 'O', 'O', 'O', 'O', 'O'], ['O', 'O', 'BR', 'IR', 'IR', 'IR', 'IR', 'IR', 'IR', 'O'], ['O', 'BR', 'IR', 'IR', 'IR', 'O', 'O', 'O'], ['O', 'O', 'O', 'O', 'O', 'O', 'BR', 'IR', 'IR', 'IR', 'IR', 'IR', 'IR', 'IR'], ['O', 'O', 'BR', 'IR', 'IR', 'O', 'O', 'O', 'O', 'O', 'O', 'O'], ['O', 'O', 'O', 'O', 'O', 'O', 'O', 'BR', 'IR', 'IR', 'O', 'O', 'O', 'O', 'O'], ['O', 'O', 'BR', 'IR', 'IR', 'IR', 'IR', 'IR', 'IR', 'IR', 'IR', 'O', 'O'], ['O', 'O', 'O', 'O', 'O', 'O', 'O', 'BR', 'IR', 'IR', 'IR', 'O', 'O', 'O', 'O'], ['O', 'O', 'O', 'O', 'O', 'BR', 'IR', 'IR', 'IR', 'IR', 'O'], ['BR', 'IR', 'IR', 'IR', 'IR', 'IR', 'IR', 'IR', 'IR', 'IR', 'IR', 'IR', 'IR', 'IR', 'O', 'BR'], ['O', 'O', 'O', 'O', 'O', 'O', 'BR', 'IR', 'IR', 'IR'], ['O', 'O', 'O', 'BR', 'IR', 'IR', 'IR', 'IR', 'O', 'O', 'O', 'O'], ['O', 'O', 'BR', 'IR', 'IR', 'IR', 'IR', 'IR', 'O', 'O'], ['BR', 'IR', 'IR', 'IR', 'IR', 'O', 'O', 'O', 'O', 'O', 'O'], ['BR', 'IR', 'IR', 'IR', 'O', 'O', 'BR', 'O', 'O', 'BR', 'IR', 'O', 'BR', 'IR', 'IR'], ['BR', 'IR', 'IR', 'O', 'O', 'O', 'O', 'O', 'O'], ['BR', 'IR', 'IR', 'IR', 'O', 'O', 'O', 'O', 'O', 'O', 'O', 'O'], ['O', 'O', 'O', 'O', 'BR', 'IR', 'IR', 'IR', 'IR', 'IR', 'O'], ['O', 'O', 'O', 'BR', 'IR', 'IR', 'IR', 'O', 'O', 'O', 'O', 'O', 'O', 'O', 'O', 'O', 'O', 'O', 'O', 'O', 'O', 'O'], ['O', 'O', 'O', 'BR', 'IR', 'IR', 'O', 'O', 'O', 'O', 'O', 'O', 'O', 'O', 'O'], ['BR', 'O', 'BR', 'IR', 'IR', 'IR', 'IR', 'IR', 'O', 'O', 'O', 'O', 'O', 'O', 'O', 'O', 'O', 'O', 'O', 'O', 'O', 'O', 'O', 'O'], ['O', 'O', 'BR', 'IR', 'IR', 'IR', 'IR', 'IR', 'IR', 'O', 'O', 'O'], ['BR', 'IR', 'IR', 'IR', 'IR', 'O', 'BR', 'IR', 'IR', 'IR', 'IR', 'IR', 'IR', 'IR', 'IR', 'IR', 'IR', 'IR', 'O', 'O', 'O', 'O', 'O'], ['O', 'BR', 'IR', 'IR', 'O', 'O', 'O', 'O', 'O', 'O', 'O', 'O', 'O', 'O', 'O', 'O', 'O', 'O', 'O', 'O', 'O', 'O'], ['O', 'BR', 'IR', 'IR', 'IR', 'IR', 'IR', 'IR', 'IR', 'IR', 'IR', 'O', 'O', 'O', 'O', 'O', 'O', 'O', 'O', 'O'], ['O', 'BR', 'IR', 'IR', 'IR', 'O', 'O', 'O', 'O', 'O', 'O', 'O'], ['O', 'BR', 'IR', 'IR', 'IR', 'O', 'O', 'O', 'O', 'O', 'O', 'O', 'O', 'O', 'O', 'O', 'O', 'O'], ['O', 'BR', 'IR', 'IR', 'IR', 'O', 'O', 'O', 'O', 'O', 'O', 'O', 'O', 'O', 'O', 'O', 'O', 'O', 'O', 'O', 'O', 'O', 'O'], ['O', 'O', 'O', 'O', 'BR', 'IR', 'IR', 'O', 'O', 'O', 'O', 'O', 'O'], ['O', 'O', 'O', 'BR', 'IR', 'O', 'O', 'O', 'O', 'O'], ['O', 'BR', 'IR', 'IR', 'IR', 'IR', 'IR', 'IR', 'IR', 'IR', 'IR', 'IR', 'IR', 'IR', 'IR', 'IR', 'O', 'O', 'O', 'BR', 'IR'], ['O', 'O', 'O', 'BR', 'IR', 'IR', 'IR', 'IR', 'O', 'O', 'O', 'O', 'O', 'O', 'O', 'O', 'O', 'O'], ['O', 'BR', 'IR', 'IR', 'IR', 'O', 'O', 'O', 'O', 'O', 'O', 'O', 'O', 'O', 'O', 'O', 'O', 'O', 'O', 'O', 'O', 'O', 'O', 'O'], ['O', 'O', 'BR', 'IR', 'IR', 'IR', 'IR', 'IR', 'IR', 'IR', 'IR', 'IR'], ['BR', 'IR', 'IR', 'IR', 'IR', 'O', 'O', 'O', 'O', 'O', 'O', 'O', 'O'], ['O', 'O', 'O', 'BR', 'IR', 'IR', 'IR', 'IR', 'IR', 'IR', 'IR'], ['O', 'BR', 'IR', 'IR', 'O', 'O', 'O', 'O', 'O', 'O', 'O', 'O', 'O', 'O', 'O'], ['BR', 'IR', 'IR', 'IR', 'IR', 'IR', 'O', 'O', 'O', 'O', 'O', 'O', 'O', 'O', 'O', 'O', 'O', 'O', 'O', 'O', 'O', 'O', 'O', 'O', 'O', 'O'], ['O', 'O', 'O', 'O', 'O', 'BR', 'IR', 'IR', 'O', 'O', 'O', 'O', 'O', 'O', 'O', 'O', 'O', 'O', 'O', 'O', 'O', 'O', 'O', 'O', 'O', 'O'], ['O', 'O', 'O', 'O', 'O', 'O', 'BR', 'IR', 'IR', 'O', 'O', 'O', 'O', 'O', 'O', 'O', 'O', 'O', 'O', 'O', 'O', 'O', 'O', 'O', 'O', 'O', 'O'], ['O', 'O', 'O', 'O', 'O', 'BR', 'IR', 'O', 'O', 'O', 'O', 'O', 'O', 'O', 'O', 'O'], ['O', 'O', 'O', 'O', 'O', 'O', 'O', 'O', 'O', 'O', 'O', 'BR', 'IR', 'IR', 'IR', 'O', 'O', 'O'], ['BR', 'IR', 'IR', 'IR', 'IR', 'IR', 'O', 'O', 'O', 'O', 'O', 'O', 'O', 'O', 'O', 'O', 'O', 'O', 'O', 'O', 'O', 'O', 'O', 'O', 'O'], ['BR', 'IR', 'IR', 'IR', 'O', 'O', 'O', 'O', 'O', 'O', 'O', 'O', 'O', 'O', 'O', 'O', 'O', 'O', 'O', 'O', 'O', 'O', 'O', 'O', 'O', 'O', 'O', 'O'], ['O', 'BR', 'IR', 'O', 'BR', 'IR', 'IR', 'IR', 'IR', 'IR', 'IR', 'IR', 'IR', 'IR', 'IR', 'IR', 'IR', 'IR', 'IR', 'IR', 'IR', 'IR', 'IR', 'IR', 'IR', 'IR', 'IR', 'IR', 'O', 'O', 'O', 'O', 'O', 'O', 'O', 'O', 'O', 'O', 'O', 'O'], ['O', 'O', 'BR', 'IR', 'IR', 'IR', 'IR', 'IR', 'O', 'O', 'O', 'O', 'O', 'O', 'O', 'O', 'O', 'O', 'O'], ['O', 'O', 'O', 'O', 'BR', 'IR', 'IR', 'O', 'O', 'O', 'O', 'O', 'O', 'O', 'O', 'O', 'O', 'O', 'O', 'O', 'O', 'O'], ['BR', 'IR', 'IR', 'O', 'O', 'O', 'O', 'O', 'O', 'O', 'O', 'O', 'O'], ['O', 'O', 'O', 'O', 'O', 'BR', 'IR', 'IR', 'IR', 'IR', 'IR', 'IR', 'IR', 'IR', 'IR', 'IR', 'IR', 'IR', 'IR', 'O', 'O', 'O', 'O', 'O'], ['O', 'O', 'O', 'O', 'O', 'O', 'O', 'O', 'O', 'BR', 'IR', 'IR', 'IR', 'IR', 'IR', 'IR', 'IR', 'IR', 'IR', 'IR', 'O', 'O', 'O', 'O', 'O', 'O', 'O', 'O', 'O'], ['BR', 'IR', 'IR', 'IR', 'O', 'O', 'O', 'O', 'O', 'O', 'O', 'O', 'O', 'O', 'O', 'O', 'O', 'O', 'O', 'O', 'O'], ['BR', 'IR', 'IR', 'IR', 'IR', 'O', 'O', 'O', 'O', 'O', 'O', 'O', 'O', 'O', 'O', 'O', 'O', 'O'], ['O', 'O', 'BR', 'IR', 'IR', 'IR', 'IR', 'O', 'O', 'O', 'O', 'O', 'O', 'O', 'O'], ['O', 'O', 'O', 'BR', 'IR', 'IR', 'IR', 'IR', 'O', 'O', 'O', 'O', 'O', 'O'], ['O', 'BR', 'IR', 'IR', 'IR', 'O', 'O', 'O', 'O', 'O', 'O', 'O', 'O', 'O', 'O'], ['BR', 'IR', 'IR', 'IR', 'O', 'O', 'O', 'O', 'O', 'O', 'O', 'O', 'O', 'O', 'O', 'O', 'O', 'O', 'O', 'O', 'O', 'O', 'O', 'O', 'O'], ['BR', 'IR', 'O', 'O', 'BR', 'IR', 'O', 'O', 'O', 'O', 'O', 'O', 'O', 'O', 'O', 'O', 'O', 'O', 'O', 'O', 'O', 'O', 'O'], ['O', 'O', 'O', 'BR', 'IR', 'IR', 'IR', 'IR', 'IR', 'IR', 'IR', 'IR', 'IR', 'IR', 'IR', 'IR', 'IR', 'O'], ['O', 'O', 'BR', 'IR', 'IR', 'IR', 'IR', 'IR', 'IR', 'IR', 'IR', 'IR', 'IR', 'IR', 'IR', 'IR', 'IR', 'IR', 'IR', 'IR', 'IR', 'IR', 'IR', 'IR', 'O'], ['BR', 'IR', 'IR', 'IR', 'IR', 'O', 'O', 'O', 'O', 'O', 'O', 'O', 'O', 'O', 'O'], ['O', 'O', 'O', 'O', 'O', 'O', 'O', 'O', 'O', 'BR', 'IR', 'IR', 'IR', 'IR', 'IR', 'IR', 'IR', 'IR', 'IR', 'IR', 'IR', 'IR', 'IR', 'O'], ['O', 'O', 'O', 'O', 'O', 'O', 'O', 'O', 'O', 'BR', 'IR', 'IR', 'IR', 'IR', 'O'], ['O', 'O', 'O', 'O', 'BR', 'IR', 'O', 'O', 'O', 'O', 'O', 'O', 'O', 'O', 'O', 'O'], ['BR', 'IR', 'IR', 'IR', 'IR', 'O', 'O', 'O', 'O', 'O', 'O', 'O', 'O', 'O', 'O', 'O', 'O', 'O', 'O', 'O'], ['O', 'O', 'BR', 'IR', 'IR', 'IR', 'IR', 'IR', 'O', 'O', 'O', 'O', 'O', 'O', 'O', 'O', 'O'], ['O', 'O', 'O', 'O', 'O', 'O', 'O', 'O', 'O', 'O', 'O', 'O', 'BR', 'IR', 'IR', 'IR', 'IR', 'IR', 'O', 'BR'], ['O', 'O', 'BR', 'IR', 'IR', 'O', 'O', 'O', 'O', 'O', 'O', 'O', 'O'], ['O', 'O', 'O', 'O', 'O', 'O', 'BR', 'IR', 'IR', 'IR', 'O', 'O', 'O', 'O', 'O', 'O', 'O'], ['O', 'O', 'O', 'O', 'O', 'O', 'O', 'O', 'O', 'BR', 'IR', 'IR', 'IR', 'IR', 'IR', 'IR', 'IR', 'IR', 'IR', 'IR', 'IR', 'IR', 'IR'], ['O', 'O', 'O', 'O', 'O', 'O', 'O', 'BR', 'IR', 'O', 'O', 'O', 'O', 'O'], ['O', 'O', 'O', 'O', 'BR', 'IR', 'IR', 'O', 'O', 'O', 'O', 'O', 'O', 'O', 'O'], ['O', 'O', 'BR', 'IR', 'IR', 'IR', 'IR', 'IR', 'IR', 'O'], ['O', 'O', 'O', 'BR', 'IR', 'IR', 'IR', 'IR', 'O', 'O', 'O', 'O', 'O', 'O', 'O', 'O', 'O', 'O', 'O', 'O'], ['BR', 'IR', 'IR', 'IR', 'IR', 'IR', 'O', 'O', 'O', 'O', 'O', 'O', 'O', 'O', 'O', 'O', 'O'], ['O', 'O', 'O', 'BR', 'IR', 'IR', 'IR', 'IR', 'IR', 'IR', 'IR', 'IR', 'IR', 'O', 'BR', 'IR'], ['O', 'O', 'O', 'BR', 'IR', 'IR', 'IR', 'O', 'O', 'O', 'O', 'O', 'O', 'O', 'O', 'O', 'O', 'O', 'O'], ['O', 'BR', 'IR', 'IR', 'IR', 'IR', 'IR', 'IR', 'IR', 'IR', 'IR', 'IR', 'IR', 'IR', 'IR'], ['O', 'O', 'O', 'BR', 'IR', 'IR', 'IR', 'IR', 'IR', 'IR', 'IR', 'IR', 'IR', 'IR', 'IR', 'IR', 'IR', 'IR', 'IR', 'IR', 'IR', 'IR', 'O', 'O', 'O', 'O', 'O', 'O', 'O', 'O', 'O', 'O', 'O', 'O', 'O'], ['O', 'BR', 'IR', 'IR', 'IR', 'O', 'O', 'O', 'O', 'O', 'O', 'O', 'O', 'O', 'O', 'O', 'O', 'O', 'O'], ['O', 'O', 'O', 'O', 'O', 'O', 'O', 'O', 'O', 'O', 'O', 'O', 'O', 'O', 'O', 'BR', 'IR', 'IR', 'O'], ['O', 'BR', 'IR', 'IR', 'IR', 'O', 'O', 'O', 'O', 'O', 'O', 'O', 'O', 'O'], ['O', 'BR', 'IR', 'IR', 'O', 'O', 'O', 'O', 'BR', 'IR', 'O', 'O', 'O', 'O', 'O', 'O'], ['O', 'BR', 'IR', 'IR', 'IR', 'IR', 'O', 'O', 'O', 'O', 'O', 'O', 'O', 'O', 'O', 'O', 'O', 'O', 'O', 'O'], ['BR', 'IR', 'IR', 'IR', 'O', 'O', 'O', 'O', 'O', 'O', 'O', 'O', 'O', 'O', 'O', 'O', 'O', 'O', 'O', 'O'], ['O', 'BR', 'IR', 'IR', 'IR', 'O', 'O', 'BR', 'O', 'O', 'O', 'O', 'O', 'O', 'O', 'O', 'O', 'O', 'O', 'O', 'O', 'O', 'O'], ['O', 'O', 'O', 'BR', 'IR', 'IR', 'O', 'O', 'O', 'O', 'O', 'O', 'O', 'O', 'O', 'O', 'O', 'O'], ['O', 'BR', 'IR', 'IR', 'IR', 'O', 'O', 'O', 'O', 'O', 'O', 'O', 'O', 'O', 'O', 'O', 'O', 'O', 'O', 'O'], ['BR', 'IR', 'IR', 'O', 'O', 'O', 'O', 'O', 'O', 'O', 'O', 'O', 'O', 'O', 'O', 'BR', 'IR', 'IR', 'IR', 'IR', 'IR'], ['BR', 'IR', 'IR', 'IR', 'O', 'O', 'O', 'O', 'O', 'O', 'O', 'O', 'O', 'O'], ['O', 'O', 'O', 'BR', 'IR', 'IR', 'O', 'BR', 'IR', 'IR', 'IR', 'IR', 'IR', 'IR', 'IR', 'O', 'O', 'O', 'O'], ['O', 'O', 'BR', 'IR', 'IR', 'IR', 'IR', 'O', 'O', 'O', 'O', 'O', 'O', 'O', 'O', 'O', 'O'], ['O', 'BR', 'IR', 'IR', 'IR', 'IR', 'IR', 'O', 'O', 'O', 'O', 'O', 'O', 'O', 'O', 'O', 'O', 'O'], ['BR', 'IR', 'IR', 'IR', 'IR', 'O', 'BR', 'IR', 'IR', 'IR', 'IR', 'IR', 'O', 'O', 'O', 'O', 'O', 'O', 'BR', 'IR', 'O', 'O', 'O', 'O', 'O', 'BR'], ['BR', 'IR', 'IR', 'IR', 'IR', 'IR', 'O', 'BR', 'IR', 'IR', 'O', 'O', 'O', 'O', 'O', 'O', 'O', 'O', 'O', 'O', 'O', 'O', 'O', 'O'], ['BR', 'IR', 'IR', 'IR', 'IR', 'IR', 'IR', 'IR', 'IR', 'O', 'BR', 'IR'], ['O', 'O', 'BR', 'IR', 'IR', 'IR', 'IR', 'IR', 'O', 'O', 'O', 'O', 'O', 'O', 'O', 'O', 'O', 'O', 'O', 'O', 'O'], ['BR', 'IR', 'IR', 'IR', 'IR', 'O', 'O', 'O', 'O', 'O', 'O', 'O', 'O'], ['O', 'O', 'O', 'BR', 'IR', 'IR', 'IR', 'IR', 'IR', 'IR', 'O', 'O'], ['O', 'O', 'O', 'O', 'O', 'O', 'O', 'BR', 'IR', 'IR', 'O', 'O', 'O', 'O', 'O', 'O', 'O', 'O'], ['BR', 'IR', 'IR', 'IR', 'IR', 'IR', 'IR', 'IR', 'IR', 'IR', 'IR', 'IR', 'IR', 'IR', 'O', 'O', 'BR', 'IR', 'IR', 'IR'], ['O', 'O', 'O', 'O', 'O', 'O', 'O', 'O', 'O', 'BR', 'IR', 'IR', 'IR', 'O', 'O', 'O', 'O', 'O', 'O'], ['O', 'BR', 'IR', 'IR', 'O', 'O', 'O', 'O', 'O', 'O', 'O'], ['O', 'O', 'O', 'O', 'O', 'O', 'O', 'BR', 'IR', 'IR', 'IR', 'IR', 'IR', 'IR', 'IR', 'O', 'BR', 'IR', 'IR'], ['O', 'BR', 'IR', 'IR', 'IR', 'IR', 'IR', 'IR', 'IR', 'O', 'O', 'O', 'O', 'O', 'O', 'O', 'O', 'O'], ['O', 'O', 'BR', 'IR', 'IR', 'IR', 'IR', 'IR', 'IR', 'O', 'O', 'O', 'O', 'O', 'O', 'O', 'O', 'O', 'O', 'O', 'O', 'O'], ['O', 'O', 'O', 'BR', 'IR', 'O', 'O', 'O', 'O', 'O', 'O', 'O', 'O', 'O'], ['O', 'O', 'O', 'O', 'O', 'O', 'BR', 'IR', 'IR', 'O', 'O', 'O', 'O', 'O', 'O', 'O'], ['O', 'O', 'BR', 'IR', 'IR', 'O', 'O', 'O', 'O', 'O', 'O', 'O', 'O'], ['BR', 'IR', 'IR', 'IR', 'IR', 'O', 'O', 'O', 'O', 'O', 'O', 'O', 'O', 'O', 'O', 'O', 'O', 'O', 'O', 'O', 'O', 'O', 'O'], ['BR', 'IR', 'IR', 'IR', 'IR', 'O', 'O', 'O', 'O', 'O', 'O', 'O', 'O', 'O', 'O'], ['O', 'O', 'O', 'O', 'O', 'O', 'O', 'O', 'O', 'O', 'O', 'O', 'BR', 'IR', 'IR', 'O'], ['BR', 'IR', 'IR', 'IR', 'IR', 'IR', 'O', 'O', 'O', 'O', 'O', 'O', 'O', 'O', 'O', 'O', 'O', 'O', 'O'], ['O', 'O', 'BR', 'IR', 'IR', 'IR', 'IR', 'IR', 'IR', 'IR', 'IR', 'IR', 'IR', 'IR', 'IR', 'IR', 'IR', 'IR', 'IR', 'O', 'O', 'O', 'O', 'O', 'O', 'O', 'O', 'O', 'O', 'O', 'O'], ['BR', 'IR', 'IR', 'IR', 'IR', 'IR', 'IR', 'O', 'O', 'BR', 'IR', 'IR', 'IR', 'IR', 'IR', 'IR', 'IR'], ['O', 'O', 'O', 'O', 'O', 'O', 'O', 'O', 'O', 'O', 'O', 'O', 'O', 'O', 'O', 'O', 'O', 'O', 'O', 'O', 'O', 'BR', 'IR', 'IR', 'O'], ['BR', 'IR', 'IR', 'IR', 'IR', 'IR', 'IR', 'IR', 'IR', 'IR', 'IR', 'IR', 'O', 'BR', 'O', 'O', 'O', 'BR', 'IR', 'IR'], ['O', 'BR', 'IR', 'IR', 'O', 'BR', 'O', 'O', 'O', 'O', 'O', 'O', 'O', 'O', 'O', 'O', 'O', 'O'], ['O', 'O', 'O', 'O', 'O', 'O', 'O', 'BR', 'IR', 'O', 'O'], ['O', 'O', 'O', 'BR', 'IR', 'IR', 'IR', 'IR', 'IR', 'IR', 'IR', 'IR', 'O', 'O', 'O', 'O', 'O', 'O', 'O', 'O', 'O', 'O', 'O', 'O', 'O', 'O'], ['O', 'O', 'O', 'O', 'BR', 'IR', 'IR', 'IR', 'O', 'O', 'O', 'O', 'O', 'O'], ['O', 'O', 'O', 'O', 'O', 'O', 'O', 'O', 'O', 'O', 'O', 'O', 'O', 'O', 'O', 'O', 'O', 'O', 'BR', 'IR', 'IR', 'IR', 'IR', 'IR', 'IR', 'IR', 'IR', 'IR', 'IR', 'IR', 'IR'], ['O', 'O', 'O', 'O', 'O', 'BR', 'IR', 'IR', 'IR', 'O', 'O', 'O', 'O', 'O', 'O', 'O', 'O', 'O', 'O'], ['O', 'O', 'BR', 'IR', 'IR', 'IR', 'IR', 'IR', 'IR', 'IR', 'IR', 'IR', 'IR', 'O', 'O', 'O', 'BR', 'IR', 'IR', 'IR', 'IR', 'O', 'O', 'O', 'O'], ['BR', 'IR', 'IR', 'IR', 'O', 'O', 'O', 'O', 'O', 'O', 'O', 'O', 'O', 'O', 'O', 'O', 'O', 'O', 'BR', 'IR', 'IR'], ['O', 'O', 'O', 'O', 'BR', 'IR', 'IR', 'IR', 'IR', 'IR', 'IR', 'IR', 'O', 'O', 'O', 'O'], ['O', 'O', 'O', 'O', 'O', 'O', 'O', 'O', 'O', 'BR', 'IR', 'IR', 'O', 'O', 'O', 'O', 'O', 'O', 'O', 'O', 'O'], ['O', 'O', 'O', 'O', 'O', 'O', 'O', 'O', 'BR', 'IR', 'O', 'O'], ['O', 'O', 'O', 'BR', 'IR', 'IR', 'IR', 'IR', 'IR', 'IR', 'IR', 'IR', 'IR', 'IR', 'IR', 'IR', 'IR', 'IR', 'O', 'O', 'BR', 'IR', 'IR', 'IR', 'IR', 'IR'], ['BR', 'IR', 'IR', 'IR', 'O', 'BR', 'IR', 'IR', 'O', 'BR', 'IR', 'IR'], ['O', 'O', 'O', 'O', 'BR', 'IR', 'IR', 'IR', 'IR', 'IR', 'IR', 'IR', 'IR', 'IR', 'IR', 'IR', 'IR', 'IR', 'O', 'O', 'O', 'O', 'O', 'O', 'O', 'O', 'O', 'O'], ['O', 'BR', 'IR', 'IR', 'IR', 'O', 'O', 'O', 'O', 'O', 'O', 'O'], ['O', 'O', 'O', 'BR', 'IR', 'IR', 'O', 'O', 'O', 'O', 'O', 'O', 'O', 'O', 'BR', 'IR', 'O'], ['BR', 'IR', 'IR', 'IR', 'IR', 'IR', 'O', 'O', 'BR', 'O', 'O', 'O', 'O', 'O', 'O', 'O', 'O', 'O', 'O', 'O', 'O'], ['O', 'O', 'O', 'O', 'O', 'BR', 'IR', 'O', 'O', 'O', 'O', 'O', 'O', 'O', 'O'], ['O', 'O', 'O', 'BR', 'IR', 'IR', 'IR', 'IR', 'O', 'O', 'O', 'O', 'O', 'O', 'O', 'O', 'O', 'O', 'O', 'O', 'O'], ['O', 'O', 'O', 'BR', 'IR', 'IR', 'IR', 'IR', 'IR', 'IR', 'IR', 'IR', 'IR', 'IR', 'IR', 'IR', 'IR', 'IR', 'IR', 'IR', 'IR', 'IR', 'IR', 'O', 'O'], ['BR', 'IR', 'IR', 'IR', 'IR', 'IR', 'O', 'O', 'O', 'O', 'O', 'O', 'O', 'O', 'O', 'O', 'O'], ['BR', 'IR', 'IR', 'IR', 'IR', 'O', 'O', 'O', 'O', 'O', 'O', 'O', 'O', 'O', 'O', 'O', 'O'], ['O', 'O', 'O', 'O', 'O', 'O', 'BR', 'IR', 'IR', 'IR', 'IR', 'O', 'O', 'O', 'O', 'O', 'O', 'O'], ['BR', 'IR', 'IR', 'O', 'O', 'O', 'O', 'O', 'O', 'O', 'O', 'O', 'O'], ['O', 'O', 'BR', 'IR', 'IR', 'IR', 'IR', 'IR', 'IR', 'IR', 'IR', 'IR', 'IR', 'IR', 'O', 'O', 'O', 'O', 'O', 'O', 'O', 'O', 'O', 'O', 'O', 'O', 'O'], ['BR', 'IR', 'IR', 'IR', 'IR', 'IR', 'O', 'O', 'O', 'O', 'O', 'O', 'O', 'O', 'O', 'O'], ['BR', 'IR', 'IR', 'IR', 'IR', 'IR', 'IR', 'O', 'O', 'O', 'O', 'O', 'O', 'O', 'O'], ['BR', 'IR', 'IR', 'IR', 'IR', 'IR', 'O', 'O', 'O', 'BR', 'IR', 'O', 'O', 'O', 'BR', 'IR', 'IR', 'IR', 'IR', 'IR', 'IR', 'IR', 'IR', 'IR', 'IR'], ['O', 'O', 'O', 'O', 'O', 'O', 'O', 'O', 'BR', 'IR', 'IR', 'IR', 'IR', 'IR', 'IR', 'IR', 'IR', 'IR', 'IR', 'O', 'BR'], ['O', 'BR', 'IR', 'IR', 'IR', 'O', 'O', 'O', 'O', 'O', 'O', 'O', 'O', 'O'], ['BR', 'IR', 'IR', 'IR', 'O', 'O', 'O', 'O', 'O', 'O', 'O', 'O', 'O', 'O', 'O', 'O', 'O', 'O', 'O', 'O', 'O'], ['O', 'BR', 'IR', 'IR', 'IR', 'O', 'O', 'O', 'O', 'O', 'O', 'O'], ['O', 'BR', 'IR', 'IR', 'IR', 'IR', 'IR', 'IR', 'IR', 'IR', 'IR', 'IR', 'IR', 'IR', 'IR', 'IR', 'O', 'O', 'O', 'O', 'O', 'O', 'O', 'O', 'O', 'O', 'O', 'O', 'O', 'O', 'O', 'O'], ['O', 'O', 'O', 'O', 'O', 'BR', 'IR', 'IR', 'IR', 'IR', 'O', 'O', 'O', 'O', 'O', 'O', 'O', 'O', 'O', 'O', 'O', 'O'], ['BR', 'IR', 'IR', 'IR', 'IR', 'IR', 'IR', 'IR', 'IR', 'IR', 'IR', 'IR', 'IR', 'IR', 'IR', 'IR', 'IR', 'IR', 'IR', 'IR', 'IR', 'IR', 'IR'], ['O', 'BR', 'IR', 'IR', 'O', 'O', 'O', 'O', 'O', 'O', 'O', 'O', 'O', 'O', 'O', 'O'], ['O', 'BR', 'IR', 'IR', 'IR', 'IR', 'IR', 'IR', 'IR', 'IR', 'IR', 'O', 'O', 'O', 'O', 'O', 'O', 'O', 'O', 'O', 'O', 'O', 'O', 'O', 'O'], ['O', 'O', 'BR', 'IR', 'IR', 'IR', 'IR', 'IR', 'IR', 'IR', 'IR', 'IR', 'IR', 'IR', 'IR', 'IR', 'IR', 'IR', 'IR', 'IR', 'IR', 'IR', 'IR', 'IR', 'IR', 'O', 'O', 'O', 'O', 'O', 'O', 'O', 'O', 'O', 'O', 'O', 'O', 'O', 'O', 'O', 'O'], ['BR', 'IR', 'IR', 'IR', 'O', 'O', 'O', 'O', 'O', 'O', 'O', 'O', 'O'], ['O', 'BR', 'IR', 'O', 'O', 'BR', 'IR', 'IR', 'IR', 'IR', 'IR', 'IR', 'IR', 'O', 'BR', 'IR', 'IR', 'IR'], ['BR', 'IR', 'IR', 'IR', 'IR', 'IR', 'O', 'O', 'O', 'O', 'O', 'O', 'O', 'O', 'O'], ['BR', 'IR', 'IR', 'IR', 'IR', 'IR', 'O', 'O', 'O', 'O', 'O', 'O', 'O', 'O', 'O', 'O', 'O', 'O', 'O', 'O', 'O', 'O'], ['O', 'BR', 'IR', 'IR', 'IR', 'IR', 'IR', 'IR', 'IR', 'IR', 'O', 'O', 'O', 'O', 'O', 'O', 'O', 'O', 'O', 'O'], ['O', 'O', 'BR', 'IR', 'IR', 'IR', 'O', 'O', 'O', 'O', 'O', 'O', 'O', 'O', 'O', 'O', 'O', 'O'], ['BR', 'IR', 'O', 'O', 'O', 'O', 'O', 'O', 'O', 'O', 'O', 'O', 'O', 'O', 'O', 'O', 'O', 'O', 'O'], ['O', 'O', 'BR', 'IR', 'IR', 'IR', 'IR', 'IR', 'IR', 'O', 'O', 'O', 'O', 'O', 'O', 'O', 'O', 'O'], ['O', 'O', 'O', 'BR', 'IR', 'IR', 'O', 'O', 'O', 'O', 'O', 'O', 'O', 'O', 'O', 'O', 'O', 'O', 'O', 'O', 'O', 'O', 'O', 'O', 'O'], ['O', 'BR', 'IR', 'IR', 'O', 'O', 'O', 'O', 'O', 'O', 'O', 'O', 'O', 'O', 'O', 'O', 'O'], ['O', 'BR', 'IR', 'IR', 'O', 'O', 'O', 'O', 'O', 'O', 'O', 'O', 'O', 'O', 'O', 'O', 'O', 'O', 'O'], ['BR', 'IR', 'IR', 'IR', 'IR', 'IR', 'IR', 'O', 'O', 'O', 'O', 'O', 'O', 'O', 'O', 'O', 'O', 'O', 'O', 'O', 'O', 'O', 'O', 'O'], ['O', 'BR', 'IR', 'IR', 'IR', 'IR', 'IR', 'IR', 'IR', 'IR', 'IR', 'IR', 'IR', 'IR', 'IR', 'IR', 'IR', 'IR', 'IR', 'IR', 'IR', 'O', 'O'], ['O', 'O', 'O', 'BR', 'IR', 'O', 'O', 'O', 'O', 'O', 'O'], ['BR', 'IR', 'IR', 'IR', 'IR', 'O', 'O', 'O', 'O', 'O', 'O', 'O', 'O', 'O', 'O', 'O', 'O', 'O', 'O', 'O', 'O', 'O', 'O', 'O', 'O', 'O', 'O', 'O'], ['O', 'O', 'O', 'BR', 'IR', 'IR', 'IR', 'IR', 'O', 'O', 'O', 'O', 'O', 'O', 'O', 'O', 'O', 'O', 'O', 'O', 'O', 'O', 'O', 'O', 'O', 'O', 'O', 'O', 'O'], ['BR', 'IR', 'IR', 'IR', 'O', 'O', 'O', 'O', 'O', 'O', 'O', 'O', 'O', 'O', 'O', 'O', 'O', 'O', 'O', 'O', 'O', 'O', 'O', 'O', 'O', 'O', 'O', 'O'], ['O', 'O', 'O', 'O', 'O', 'O', 'BR', 'IR', 'IR', 'IR', 'IR', 'IR', 'IR', 'IR', 'O', 'O', 'O'], ['BR', 'IR', 'IR', 'IR', 'IR', 'IR', 'IR', 'IR', 'IR', 'IR', 'IR', 'IR', 'IR', 'IR', 'IR', 'IR', 'IR', 'IR', 'IR', 'IR', 'IR', 'IR', 'IR', 'O', 'O', 'O', 'O', 'O'], ['O', 'O', 'O', 'BR', 'IR', 'IR', 'IR', 'IR', 'IR', 'IR', 'IR', 'IR', 'IR', 'IR', 'IR', 'IR', 'IR', 'IR', 'IR', 'IR', 'IR', 'IR', 'IR', 'IR', 'IR', 'IR', 'O', 'O', 'O', 'BR'], ['BR', 'IR', 'O', 'O', 'O', 'O', 'O', 'O', 'O', 'O', 'O', 'O'], ['O', 'O', 'O', 'O', 'O', 'O', 'O', 'O', 'O', 'O', 'BR', 'IR', 'O'], ['BR', 'IR', 'IR', 'IR', 'IR', 'IR', 'O', 'O', 'O', 'O', 'O', 'O', 'O', 'O', 'O', 'O', 'O', 'O', 'O'], ['O', 'O', 'BR', 'IR', 'IR', 'O', 'O', 'O', 'O', 'O', 'O', 'O'], ['O', 'O', 'O', 'BR', 'IR', 'IR', 'O', 'O', 'O', 'O', 'O', 'O', 'O'], ['O', 'O', 'O', 'O', 'O', 'O', 'O', 'O', 'O', 'BR', 'IR', 'IR', 'O'], ['BR', 'IR', 'IR', 'IR', 'O', 'O', 'O', 'O', 'O', 'O', 'O', 'O'], ['BR', 'IR', 'IR', 'IR', 'IR', 'O', 'O', 'O', 'O', 'O', 'O', 'O', 'O'], ['O', 'O', 'O', 'O', 'O', 'BR', 'IR', 'IR', 'IR', 'O', 'O'], ['O', 'O', 'O', 'O', 'O', 'BR', 'IR', 'IR', 'O', 'O', 'O', 'O', 'O'], ['O', 'O', 'O', 'BR', 'IR', 'IR', 'IR', 'IR', 'IR', 'O', 'O', 'O', 'O', 'O', 'O', 'O', 'O'], ['O', 'BR', 'IR', 'IR', 'IR', 'IR', 'IR', 'IR', 'IR', 'IR', 'IR', 'IR', 'IR', 'IR', 'IR', 'IR'], ['BR', 'IR', 'IR', 'IR', 'IR', 'IR', 'IR', 'IR', 'IR', 'IR', 'O', 'O', 'O', 'O', 'O', 'O'], ['O', 'BR', 'IR', 'IR', 'IR', 'IR', 'IR', 'IR', 'IR', 'IR', 'IR', 'IR', 'IR'], ['O', 'O', 'O', 'BR', 'IR', 'IR', 'IR', 'IR', 'IR', 'IR', 'IR', 'IR', 'IR', 'IR', 'IR', 'IR', 'O', 'O'], ['O', 'BR', 'IR', 'IR', 'IR', 'O', 'O', 'O', 'O', 'O', 'O', 'O', 'O', 'O', 'O'], ['BR', 'IR', 'IR', 'IR', 'IR', 'O', 'O', 'O', 'O', 'O', 'O', 'O', 'O', 'O', 'O'], ['O', 'BR', 'IR', 'IR', 'IR', 'IR', 'O', 'O', 'O', 'O', 'O', 'O', 'O', 'O', 'O', 'O'], ['O', 'BR', 'IR', 'IR', 'O', 'O', 'O', 'O', 'O', 'O', 'O', 'O', 'O', 'O', 'O', 'O', 'O', 'O'], ['O', 'BR', 'IR', 'IR', 'O', 'O', 'O', 'O', 'O', 'O', 'O', 'O', 'O', 'O', 'O', 'O', 'BR', 'IR', 'IR', 'IR'], ['BR', 'IR', 'IR', 'O', 'O', 'O', 'O', 'O', 'O', 'O', 'O', 'O', 'O', 'O', 'O', 'O'], ['O', 'O', 'O', 'O', 'O', 'O', 'O', 'O', 'BR', 'IR', 'IR', 'IR', 'IR', 'IR', 'O', 'O', 'O', 'O', 'O', 'O', 'O', 'O'], ['O', 'O', 'O', 'O', 'O', 'O', 'O', 'O', 'O', 'O', 'O', 'BR', 'IR', 'O', 'O', 'O', 'O', 'O', 'O', 'O'], ['BR', 'IR', 'IR', 'IR', 'O', 'O', 'O', 'O', 'O', 'O', 'O', 'O'], ['O', 'O', 'O', 'O', 'O', 'O', 'BR', 'IR', 'IR', 'IR', 'IR', 'IR', 'IR', 'IR', 'IR', 'IR', 'IR', 'IR', 'O', 'O', 'O', 'O', 'O', 'O', 'O'], ['O', 'O', 'O', 'O', 'BR', 'IR', 'IR', 'IR', 'IR', 'IR', 'IR', 'IR', 'IR', 'IR', 'IR', 'IR', 'O', 'O'], ['O', 'BR', 'IR', 'IR', 'IR', 'IR', 'O', 'O', 'O', 'O', 'O', 'O', 'O', 'O', 'O', 'O', 'O', 'O', 'O', 'O', 'O', 'O', 'O', 'O'], ['O', 'O', 'O', 'O', 'O', 'O', 'O', 'O', 'O', 'O', 'O', 'O', 'O', 'BR', 'IR', 'IR', 'IR', 'IR', 'IR', 'IR', 'O', 'O', 'BR', 'IR'], ['BR', 'IR', 'IR', 'IR', 'IR', 'IR', 'IR', 'O', 'O', 'O', 'O', 'O', 'O', 'O', 'O', 'O', 'O', 'O', 'O', 'O', 'O', 'O'], ['BR', 'IR', 'IR', 'IR', 'O', 'O', 'O', 'O', 'O', 'O', 'O', 'O', 'O'], ['O', 'O', 'O', 'O', 'O', 'BR', 'IR', 'O', 'O', 'O', 'O', 'O', 'O'], ['O', 'O', 'O', 'O', 'O', 'O', 'O', 'BR', 'IR', 'IR', 'O', 'O', 'O', 'O', 'O', 'O', 'O', 'O', 'O', 'O', 'O'], ['BR', 'IR', 'IR', 'IR', 'IR', 'IR', 'IR', 'O', 'O', 'O', 'O', 'O', 'O', 'O', 'O', 'O', 'O', 'O'], ['O', 'O', 'O', 'O', 'O', 'O', 'O', 'O', 'BR', 'IR', 'IR', 'IR', 'IR', 'O', 'O', 'O', 'O'], ['O', 'O', 'BR', 'IR', 'IR', 'IR', 'IR', 'IR', 'O', 'BR', 'IR', 'IR', 'IR', 'IR', 'IR', 'IR'], ['BR', 'IR', 'IR', 'O', 'O', 'O', 'O', 'O', 'O', 'O', 'O', 'O', 'O', 'O', 'O', 'O', 'O', 'O', 'O', 'O', 'O', 'O'], ['BR', 'IR', 'IR', 'O', 'O', 'O', 'O', 'O', 'O', 'O'], ['O', 'BR', 'IR', 'IR', 'O', 'O', 'O', 'O', 'O', 'O', 'O', 'O', 'O', 'O'], ['BR', 'IR', 'IR', 'O', 'BR', 'O', 'O', 'O', 'O', 'O', 'O'], ['O', 'O', 'O', 'BR', 'IR', 'IR', 'IR', 'O', 'O', 'O', 'O', 'O', 'O', 'O', 'O', 'O'], ['O', 'O', 'O', 'O', 'BR', 'IR', 'IR', 'O', 'O', 'O', 'O', 'O', 'O', 'O', 'O', 'O', 'O'], ['O', 'BR', 'IR', 'IR', 'IR', 'IR', 'IR', 'IR', 'IR', 'IR', 'IR', 'O', 'O', 'O', 'O', 'O', 'O', 'O', 'O', 'O'], ['BR', 'IR', 'IR', 'O', 'O', 'O', 'O', 'O', 'O', 'O', 'O', 'O'], ['BR', 'IR', 'IR', 'IR', 'IR', 'O', 'O', 'O', 'O', 'O', 'O', 'O', 'O', 'O', 'O', 'O', 'O', 'O'], ['BR', 'IR', 'IR', 'IR', 'IR', 'IR', 'O', 'O', 'O', 'O', 'O', 'O', 'O', 'O', 'O', 'O', 'BR'], ['O', 'BR', 'IR', 'IR', 'O', 'O', 'O', 'O', 'O', 'O', 'O', 'O', 'O'], ['O', 'O', 'O', 'O', 'BR', 'IR', 'O', 'O', 'O'], ['BR', 'IR', 'IR', 'IR', 'IR', 'IR', 'IR', 'IR', 'IR', 'IR', 'IR', 'IR', 'IR', 'IR', 'IR', 'IR', 'IR', 'IR', 'IR', 'O', 'O', 'BR', 'IR'], ['BR', 'IR', 'IR', 'IR', 'IR', 'IR', 'O', 'O', 'O', 'O', 'O', 'O', 'O'], ['O', 'BR', 'IR', 'IR', 'O', 'O', 'O', 'O', 'O', 'O', 'O', 'O', 'O'], ['O', 'O', 'O', 'BR', 'IR', 'IR', 'O', 'O', 'O', 'O', 'O'], ['O', 'BR', 'IR', 'IR', 'O', 'O', 'O', 'O', 'O', 'O', 'O', 'O', 'O', 'O', 'O'], ['O', 'O', 'O', 'O', 'O', 'O', 'O', 'O', 'O', 'O', 'O', 'BR', 'IR', 'IR', 'O'], ['O', 'O', 'O', 'O', 'BR', 'IR', 'IR', 'IR', 'O', 'O', 'O', 'O', 'O', 'O', 'O', 'O'], ['O', 'O', 'O', 'O', 'O', 'O', 'BR', 'IR', 'IR', 'O', 'O', 'O', 'O', 'O', 'O', 'O', 'O', 'O'], ['O', 'O', 'O', 'O', 'O', 'BR', 'IR', 'IR', 'O', 'O', 'O', 'O', 'O', 'O', 'O', 'O', 'O', 'O'], ['BR', 'IR', 'IR', 'IR', 'IR', 'IR', 'IR', 'O', 'O', 'O', 'O', 'O', 'O', 'O', 'O', 'O', 'O', 'O', 'O', 'O', 'O', 'O', 'O', 'O', 'O', 'O', 'O', 'O'], ['BR', 'IR', 'IR', 'O', 'O', 'O', 'O', 'O', 'O', 'O', 'O', 'O', 'O', 'O', 'O', 'O', 'O'], ['O', 'O', 'O', 'BR', 'IR', 'IR', 'IR', 'IR', 'IR', 'IR', 'IR', 'IR', 'IR', 'IR', 'IR', 'IR', 'IR', 'IR', 'IR', 'IR', 'IR', 'IR', 'IR', 'O', 'O', 'O', 'O', 'O', 'O', 'O', 'O', 'O', 'O', 'O'], ['O', 'BR', 'IR', 'IR', 'IR', 'O', 'O', 'O', 'O', 'O', 'O', 'O', 'O', 'O', 'O', 'O'], ['O', 'O', 'O', 'O', 'BR', 'IR', 'IR', 'IR', 'IR', 'IR', 'IR', 'O', 'O'], ['O', 'O', 'O', 'O', 'O', 'BR', 'IR', 'IR', 'IR', 'IR', 'IR', 'IR', 'IR', 'IR', 'IR', 'IR', 'IR', 'IR', 'IR', 'IR', 'IR', 'IR', 'IR', 'IR', 'IR', 'IR', 'O'], ['O', 'O', 'O', 'O', 'O', 'BR', 'IR', 'O', 'BR', 'O', 'O', 'O', 'O', 'O', 'O', 'O', 'O'], ['O', 'BR', 'IR', 'O', 'O', 'O', 'O', 'O', 'O', 'O', 'O', 'O', 'O', 'O', 'O'], ['O', 'O', 'O', 'O', 'O', 'BR', 'IR', 'IR', 'IR', 'IR', 'IR', 'IR', 'IR', 'IR', 'O', 'BR', 'IR', 'IR', 'IR', 'IR', 'IR', 'IR'], ['O', 'BR', 'IR', 'IR', 'IR', 'O', 'O', 'O', 'O', 'O', 'O', 'O', 'O', 'O', 'O', 'O', 'O', 'O'], ['O', 'BR', 'IR', 'IR', 'IR', 'O', 'O', 'O', 'O', 'O', 'O', 'O', 'O', 'O', 'O', 'O', 'O', 'O', 'O'], ['O', 'BR', 'IR', 'IR', 'IR', 'O', 'O', 'O', 'O', 'O', 'O', 'O', 'O', 'O', 'O', 'O', 'O'], ['O', 'BR', 'IR', 'IR', 'IR', 'O', 'O', 'O', 'O', 'O', 'O', 'O', 'O', 'O', 'O', 'O', 'O', 'O'], ['O', 'O', 'BR', 'IR', 'IR', 'IR', 'IR', 'IR', 'IR', 'O', 'O', 'O', 'BR', 'O', 'O', 'O', 'O', 'O', 'O', 'O', 'O', 'O', 'O'], ['O', 'O', 'O', 'O', 'O', 'O', 'O', 'O', 'O', 'BR', 'IR', 'IR', 'IR', 'IR', 'O', 'O', 'O', 'O'], ['O', 'O', 'O', 'O', 'O', 'O', 'BR', 'IR', 'IR', 'IR', 'IR', 'IR', 'IR', 'O', 'O', 'BR', 'IR', 'IR', 'IR', 'IR', 'IR', 'IR'], ['O', 'O', 'O', 'O', 'BR', 'IR', 'IR', 'O', 'O', 'O', 'O', 'O', 'O', 'O', 'O', 'O'], ['BR', 'IR', 'IR', 'O', 'O', 'O', 'O', 'O', 'O', 'O', 'O', 'BR', 'IR', 'O', 'O', 'O', 'O', 'O'], ['O', 'O', 'O', 'O', 'BR', 'IR', 'IR', 'IR', 'IR', 'IR', 'IR', 'IR', 'O', 'BR', 'IR', 'IR'], ['O', 'O', 'BR', 'IR', 'IR', 'IR', 'IR', 'IR', 'IR', 'IR', 'IR', 'O', 'O', 'O', 'BR'], ['O', 'BR', 'IR', 'IR', 'IR', 'O', 'O', 'O', 'O', 'O', 'O', 'O'], ['O', 'O', 'O', 'O', 'O', 'O', 'O', 'BR', 'IR', 'IR', 'IR', 'IR', 'IR', 'IR', 'O', 'O'], ['BR', 'IR', 'IR', 'O', 'O', 'O', 'O', 'BR', 'IR', 'IR', 'IR', 'IR', 'IR'], ['O', 'BR', 'O', 'O', 'O', 'O', 'O', 'O', 'O', 'O', 'BR', 'IR', 'O', 'O', 'O', 'O', 'O', 'O', 'O', 'O', 'O', 'O', 'O', 'O', 'O', 'O', 'O'], ['BR'], ['BR', 'O', 'BR', 'IR', 'IR', 'O', 'O', 'O', 'O', 'O', 'O', 'O', 'O', 'O', 'O', 'O'], ['O', 'O', 'O', 'O', 'BR', 'IR', 'IR', 'IR', 'O', 'O', 'O', 'O', 'O'], ['BR', 'IR', 'IR', 'IR', 'O', 'O', 'O', 'O', 'O', 'O', 'O', 'O', 'O', 'O', 'O', 'O', 'O', 'O', 'O', 'O', 'O', 'O', 'O', 'O', 'O', 'O', 'O', 'O', 'O'], ['O', 'O', 'O', 'O', 'O', 'O', 'O', 'BR', 'IR', 'IR', 'IR', 'IR', 'IR', 'IR', 'O', 'O', 'O', 'O', 'O', 'O', 'O', 'O', 'O', 'O', 'O', 'O', 'O', 'O', 'O', 'O', 'O', 'O'], ['O', 'BR', 'IR', 'IR', 'O', 'O', 'O', 'O', 'O', 'O', 'O', 'O'], ['BR', 'IR', 'IR', 'IR', 'IR', 'IR', 'O', 'O', 'O', 'O', 'O', 'O', 'O'], ['BR', 'IR', 'IR', 'IR', 'IR', 'O', 'O', 'O', 'O', 'O', 'O', 'O', 'O', 'O', 'O', 'O', 'O', 'O', 'O', 'O', 'O'], ['O', 'O', 'O', 'BR', 'IR', 'IR', 'IR', 'O', 'O', 'O', 'O', 'O', 'O', 'O', 'O', 'O', 'O', 'O', 'O', 'O', 'O', 'O', 'O', 'O', 'O', 'O', 'O', 'O', 'O', 'O'], ['O', 'O', 'BR', 'IR', 'O', 'O', 'BR', 'O', 'O', 'O', 'O', 'O', 'O'], ['O', 'O', 'O', 'O', 'BR', 'IR', 'IR', 'IR', 'IR', 'IR', 'IR', 'IR', 'O', 'O', 'O', 'O', 'O', 'BR', 'IR', 'IR'], ['O', 'O', 'O', 'O', 'BR', 'IR', 'IR', 'IR', 'IR', 'IR', 'IR', 'IR', 'IR', 'IR', 'IR', 'O', 'BR', 'IR'], ['BR', 'IR', 'IR', 'IR', 'O', 'O', 'O', 'O', 'O', 'O', 'O', 'O', 'O', 'O', 'O', 'O', 'BR'], ['O', 'BR', 'IR', 'IR', 'IR', 'O', 'O', 'O', 'O', 'O', 'O', 'O', 'O', 'O', 'O', 'O', 'O'], ['O', 'O', 'O', 'O', 'O', 'O', 'BR', 'IR', 'IR', 'O'], ['O', 'O', 'O', 'O', 'BR', 'IR', 'IR', 'O', 'O', 'O'], ['O', 'BR', 'IR', 'IR', 'IR', 'IR', 'IR', 'O', 'O', 'O', 'O', 'O', 'O', 'O', 'O'], ['BR', 'IR', 'IR', 'O', 'BR', 'IR', 'IR', 'IR', 'IR', 'IR', 'IR', 'IR', 'IR', 'IR', 'IR', 'IR', 'IR'], ['O', 'O', 'BR', 'IR', 'O', 'O', 'O', 'O', 'O', 'O', 'O', 'O', 'O', 'O', 'O', 'O', 'O', 'O', 'O', 'O', 'O', 'O', 'O', 'O', 'O'], ['O', 'BR', 'IR', 'IR', 'IR', 'IR', 'O', 'O', 'O', 'O', 'O', 'O', 'O', 'O'], ['O', 'O', 'BR', 'IR', 'O', 'O', 'O', 'O', 'O', 'O'], ['O', 'O', 'O', 'BR', 'IR', 'O', 'O', 'O', 'O', 'O'], ['O', 'O', 'O', 'BR', 'IR', 'IR', 'IR', 'IR', 'IR', 'IR', 'IR', 'IR', 'IR', 'IR', 'IR', 'IR', 'IR', 'IR', 'IR', 'IR', 'IR', 'IR', 'O', 'O', 'O', 'O', 'O', 'O'], ['O', 'O', 'O', 'O', 'O', 'BR', 'IR', 'IR', 'IR', 'IR', 'IR', 'IR', 'O', 'O', 'O', 'O', 'O', 'O'], ['BR', 'IR', 'IR', 'IR', 'O', 'O', 'O', 'O', 'O', 'O', 'O', 'O', 'O', 'O', 'O', 'O', 'O', 'O', 'O', 'O'], ['BR', 'IR', 'IR', 'IR', 'O', 'O', 'O', 'O', 'O', 'O', 'O'], ['O', 'O', 'O', 'BR', 'IR', 'IR', 'IR', 'IR', 'IR', 'IR', 'IR', 'IR', 'O', 'BR', 'IR'], ['BR', 'IR', 'IR', 'IR', 'O', 'BR', 'IR', 'IR', 'IR', 'IR', 'IR', 'IR', 'IR', 'IR', 'O', 'O', 'O', 'O', 'O'], ['O', 'BR', 'IR', 'IR', 'IR', 'O', 'O', 'O', 'O', 'O', 'O', 'O', 'O', 'O'], ['O', 'O', 'O', 'O', 'O', 'O', 'O', 'O', 'O', 'O', 'O', 'O', 'O', 'O', 'O', 'O', 'O', 'O', 'O', 'BR', 'IR', 'IR', 'O', 'O'], ['O', 'O', 'BR', 'IR', 'IR', 'IR', 'IR', 'IR', 'O', 'O', 'O', 'O', 'O', 'BR', 'IR', 'IR', 'IR'], ['O', 'O', 'O', 'BR', 'IR', 'IR', 'IR', 'IR', 'IR', 'IR', 'IR', 'O', 'O', 'O', 'O', 'O'], ['O', 'O', 'O', 'O', 'O', 'BR', 'IR', 'IR', 'IR', 'IR', 'O', 'O'], ['O', 'BR', 'IR', 'IR', 'IR', 'IR', 'IR', 'IR', 'IR', 'IR', 'O', 'O', 'O', 'O', 'O', 'O', 'O', 'O', 'O', 'O'], ['O', 'BR', 'IR', 'IR', 'IR', 'O', 'O', 'O', 'O', 'O', 'O', 'O', 'O', 'O', 'O', 'O', 'O', 'O', 'O', 'O', 'O', 'O', 'O', 'O', 'O', 'O', 'O'], ['O', 'BR', 'IR', 'IR', 'IR', 'O', 'O', 'O', 'O', 'O'], ['O', 'O', 'O', 'O', 'BR', 'IR', 'IR', 'IR', 'IR', 'IR', 'IR', 'IR', 'IR', 'IR', 'IR', 'IR', 'IR', 'IR', 'IR', 'IR', 'IR', 'O'], ['O', 'O', 'BR', 'O', 'O', 'O', 'O', 'O', 'O', 'O', 'O', 'O', 'O', 'O', 'O', 'O', 'O', 'O'], ['BR', 'IR', 'IR', 'IR', 'O', 'O', 'O', 'O', 'O', 'O', 'O', 'O', 'O', 'O', 'O', 'O', 'O'], ['BR', 'IR', 'IR', 'IR', 'IR', 'O', 'O', 'O', 'O', 'O', 'O', 'O', 'O', 'O', 'O', 'O', 'O', 'O', 'O', 'O', 'O'], ['O', 'O', 'O', 'O', 'O', 'BR', 'IR', 'O', 'O', 'O', 'O', 'O'], ['O', 'O', 'BR', 'IR', 'IR', 'IR', 'IR', 'IR', 'IR', 'IR', 'IR', 'IR', 'IR', 'IR', 'IR', 'IR', 'IR', 'IR', 'IR', 'IR', 'IR', 'IR', 'IR', 'IR', 'O', 'O', 'O', 'O', 'BR', 'IR', 'IR'], ['BR', 'IR', 'IR', 'IR', 'IR', 'IR', 'IR', 'IR', 'IR', 'IR', 'IR', 'IR'], ['BR', 'IR', 'IR', 'O', 'O', 'O', 'O', 'O', 'O', 'O', 'O', 'O', 'O', 'O', 'O', 'O'], ['O', 'O', 'O', 'O', 'O', 'O', 'O', 'BR', 'IR', 'O', 'O', 'O', 'O', 'O', 'O', 'O'], ['O', 'O', 'O', 'O', 'O', 'BR', 'IR', 'IR', 'O', 'O', 'O', 'O', 'O', 'O', 'O', 'O', 'O'], ['O', 'O', 'O', 'O', 'O', 'O', 'O', 'O', 'O', 'O', 'O', 'O', 'O', 'O', 'O', 'O', 'O', 'BR', 'IR', 'IR', 'IR', 'IR', 'IR', 'IR', 'IR', 'IR', 'IR', 'IR', 'IR', 'IR'], ['O', 'BR', 'IR', 'IR', 'IR', 'IR', 'O', 'O', 'O', 'O', 'O', 'O', 'O', 'O', 'O', 'O', 'O', 'O', 'O', 'O', 'O', 'O', 'O'], ['O', 'O', 'O', 'O', 'O', 'BR', 'IR', 'IR', 'IR', 'IR', 'IR', 'O', 'O', 'O', 'O', 'O', 'O', 'O', 'O'], ['O', 'O', 'O', 'BR', 'IR', 'IR', 'IR', 'IR', 'IR', 'O', 'O', 'O', 'O'], ['BR', 'IR', 'IR', 'IR', 'IR', 'O', 'O', 'O', 'O', 'O', 'O', 'O', 'O', 'O', 'O', 'O'], ['BR', 'IR', 'IR', 'IR', 'IR', 'IR', 'O', 'O', 'O', 'O', 'O', 'O', 'O', 'O', 'O', 'O', 'O', 'BR'], ['BR', 'IR', 'IR', 'IR', 'IR', 'IR', 'O', 'O', 'O', 'O', 'O', 'O', 'O', 'O', 'BR', 'IR', 'IR', 'IR'], ['O', 'BR', 'IR', 'IR', 'IR', 'IR', 'O', 'O', 'O', 'O', 'BR', 'IR', 'IR', 'IR', 'IR', 'IR', 'IR', 'IR', 'IR', 'IR', 'IR', 'IR'], ['O', 'BR', 'IR', 'O', 'O', 'O', 'O', 'O', 'O', 'O', 'O', 'O', 'O', 'O'], ['O', 'O', 'O', 'O', 'O', 'O', 'O', 'O', 'O', 'O', 'O', 'BR', 'IR', 'IR', 'O', 'O', 'O'], ['BR', 'IR', 'IR', 'IR', 'O', 'O', 'O', 'O', 'O', 'O', 'O', 'O', 'O', 'O', 'O', 'O', 'O', 'O', 'O', 'O', 'O', 'O'], ['BR', 'IR', 'IR', 'IR', 'O', 'O', 'O', 'O', 'O', 'O', 'O', 'O', 'O', 'O', 'O', 'O', 'O', 'O', 'O', 'O', 'O'], ['BR', 'IR', 'O', 'O', 'O', 'O', 'O', 'O'], ['O', 'O', 'O', 'O', 'O', 'O', 'O', 'O', 'O', 'BR', 'IR', 'IR', 'O', 'O', 'O', 'O'], ['O', 'BR', 'IR', 'IR', 'IR', 'O', 'O', 'O', 'O', 'O', 'O', 'O', 'O', 'O', 'O', 'O', 'O', 'O'], ['BR', 'O', 'O', 'O', 'BR', 'IR', 'IR', 'IR', 'IR', 'IR', 'IR', 'IR', 'IR', 'IR', 'IR', 'IR', 'IR', 'IR', 'IR', 'IR', 'IR', 'IR', 'IR', 'IR', 'IR'], ['O', 'O', 'O', 'BR', 'IR', 'IR', 'IR', 'IR', 'IR', 'IR', 'IR', 'IR', 'IR', 'IR', 'IR', 'IR', 'IR', 'IR', 'IR', 'IR', 'IR', 'IR', 'IR', 'IR', 'IR', 'IR', 'IR', 'IR', 'IR', 'IR'], ['O', 'O', 'O', 'BR', 'IR', 'IR', 'IR', 'IR', 'IR', 'IR', 'IR', 'IR', 'IR', 'IR', 'IR', 'IR', 'IR'], ['O', 'BR', 'IR', 'O', 'O', 'O', 'O', 'O', 'O', 'O', 'O', 'O', 'O'], ['O', 'O', 'O', 'O', 'O', 'BR', 'IR', 'O', 'O', 'O', 'O', 'O', 'O', 'O', 'O'], ['O', 'BR', 'IR', 'O', 'O', 'O', 'O', 'O', 'O', 'O', 'O', 'O', 'O', 'O', 'O'], ['O', 'O', 'O', 'O', 'O', 'O', 'BR', 'IR', 'IR', 'IR', 'IR', 'O', 'O', 'O', 'O', 'O', 'O', 'O', 'O', 'O'], ['O', 'BR', 'IR', 'IR', 'IR', 'IR', 'O', 'O', 'O', 'O', 'O', 'O', 'O', 'O', 'O', 'O', 'O', 'O'], ['O', 'O', 'BR', 'IR', 'IR', 'IR', 'IR', 'IR', 'O', 'O', 'O', 'O', 'O', 'O', 'O', 'O', 'O', 'O', 'BR', 'IR', 'IR'], ['BR', 'IR', 'IR', 'IR', 'IR', 'IR', 'IR', 'IR', 'IR', 'IR', 'O', 'O', 'O', 'BR', 'IR', 'IR', 'IR', 'IR', 'IR', 'O', 'BR', 'IR'], ['O', 'O', 'O', 'BR', 'IR', 'IR', 'IR', 'O', 'O', 'O', 'O', 'O', 'O', 'O', 'O'], ['O', 'O', 'BR', 'IR', 'IR', 'IR', 'IR', 'O', 'O', 'O', 'O', 'O', 'O', 'O', 'O', 'O', 'O', 'O', 'O', 'O', 'O'], ['BR', 'IR', 'IR', 'IR', 'O', 'O', 'O', 'O', 'O', 'O', 'O', 'O', 'O', 'O', 'O', 'O', 'O', 'O', 'O', 'O', 'O'], ['BR', 'IR', 'IR', 'IR', 'O', 'O', 'O', 'O', 'O', 'O', 'O', 'O', 'O', 'O', 'O'], ['O', 'O', 'BR', 'IR', 'IR', 'IR', 'IR', 'IR', 'O', 'BR', 'IR', 'IR', 'IR', 'IR', 'IR', 'IR', 'IR', 'IR', 'IR', 'O'], ['O', 'O', 'O', 'O', 'O', 'BR', 'IR', 'IR', 'IR', 'IR'], ['O', 'BR', 'IR', 'O', 'O', 'O', 'O', 'O', 'O', 'O', 'O', 'O', 'O', 'O', 'O'], ['O', 'O', 'O', 'O', 'O', 'O', 'O', 'O', 'O', 'BR', 'IR', 'IR', 'IR', 'O', 'O', 'O', 'O', 'O', 'O', 'O', 'O'], ['BR', 'IR', 'IR', 'IR', 'IR', 'IR', 'IR', 'IR', 'IR', 'O', 'O', 'O', 'O', 'O', 'BR', 'IR', 'IR'], ['O', 'O', 'O', 'O', 'O', 'BR', 'IR', 'IR', 'O', 'O', 'O', 'O', 'O', 'O', 'O', 'O', 'O'], ['BR', 'IR', 'O', 'O', 'O', 'O', 'O', 'O', 'O', 'O', 'O', 'O', 'O', 'O', 'O', 'O', 'O', 'O', 'O', 'O', 'O', 'O', 'O'], ['O', 'O', 'O', 'O', 'BR', 'IR', 'IR', 'O', 'O'], ['BR', 'IR', 'IR', 'IR', 'IR', 'O', 'O', 'O', 'O', 'O', 'O', 'O', 'O', 'O', 'O', 'O', 'O', 'O'], ['BR', 'IR', 'IR', 'IR', 'IR', 'IR', 'O', 'O', 'O', 'O', 'O', 'O', 'O', 'O', 'O'], ['BR', 'IR', 'IR', 'O', 'O', 'O', 'O', 'O', 'O', 'O', 'O', 'BR', 'IR', 'IR'], ['BR', 'IR', 'IR', 'IR', 'IR', 'O', 'O', 'O', 'O', 'O', 'O', 'O', 'O', 'O', 'O', 'O'], ['O', 'O', 'O', 'O', 'O', 'O', 'O', 'BR', 'IR', 'IR', 'IR', 'O', 'O'], ['O', 'O', 'O', 'O', 'O', 'O', 'O', 'O', 'O', 'O', 'O', 'O', 'O', 'O', 'O', 'O', 'O', 'O', 'O', 'BR', 'IR', 'IR', 'O'], ['O', 'O', 'O', 'O', 'O', 'O', 'O', 'O', 'O', 'O', 'O', 'O', 'BR', 'IR', 'O', 'O'], ['O', 'O', 'O', 'O', 'O', 'O', 'O', 'O', 'O', 'BR', 'IR', 'IR', 'IR', 'IR', 'IR', 'O', 'O', 'O'], ['O', 'O', 'O', 'O', 'BR', 'IR', 'IR', 'IR', 'IR', 'IR', 'O', 'O'], ['BR', 'IR', 'IR', 'IR', 'O', 'O', 'O', 'O', 'O', 'O', 'O', 'O', 'O', 'O'], ['O', 'BR', 'IR', 'IR', 'IR', 'IR', 'IR', 'IR', 'IR', 'O', 'O', 'BR', 'IR', 'IR', 'IR', 'IR', 'IR', 'IR', 'IR', 'IR', 'IR', 'IR', 'IR'], ['O', 'BR', 'IR', 'IR', 'IR', 'O', 'BR', 'IR', 'IR', 'IR', 'O', 'O', 'O', 'O', 'O', 'O', 'O', 'O', 'O', 'O', 'O', 'O'], ['O', 'O', 'O', 'BR', 'IR', 'IR', 'O', 'O', 'O', 'O', 'O', 'O', 'O', 'BR', 'IR', 'IR'], ['O', 'O', 'O', 'BR', 'IR', 'O', 'O', 'O', 'O', 'O', 'O', 'O', 'O', 'O', 'O'], ['O', 'O', 'BR', 'IR', 'IR', 'IR', 'IR', 'IR', 'IR', 'IR', 'IR', 'IR', 'IR', 'IR', 'IR', 'IR', 'IR', 'IR', 'IR', 'IR'], ['O', 'O', 'BR', 'IR', 'IR', 'IR', 'IR', 'IR', 'IR', 'IR', 'IR', 'IR', 'IR', 'IR', 'IR', 'IR', 'IR', 'IR', 'IR'], ['BR', 'IR', 'IR', 'IR', 'IR', 'IR', 'O', 'O', 'BR', 'O', 'O', 'O', 'O', 'O', 'O', 'O', 'O', 'O', 'O', 'O', 'O', 'O'], ['O', 'O', 'O', 'BR', 'IR', 'IR', 'IR', 'IR', 'O', 'O', 'O', 'O', 'O', 'O', 'O', 'O', 'O', 'O'], ['O', 'O', 'O', 'BR', 'IR', 'IR', 'O', 'O', 'BR', 'IR', 'IR', 'IR', 'IR', 'IR', 'IR', 'IR', 'IR', 'IR', 'IR', 'IR'], ['BR', 'IR', 'IR', 'IR', 'O', 'O', 'O', 'O', 'O', 'O', 'O', 'O', 'O', 'O', 'O', 'O', 'O'], ['O', 'O', 'BR', 'IR', 'IR', 'IR', 'IR', 'IR', 'O', 'O', 'O', 'O', 'O', 'O', 'O', 'O', 'O', 'O', 'O', 'O'], ['O', 'BR', 'IR', 'IR', 'IR', 'IR', 'IR', 'O', 'O', 'O', 'O', 'O', 'O', 'O', 'O', 'O'], ['BR', 'IR', 'IR', 'IR', 'O', 'O', 'O', 'O', 'O', 'O', 'O', 'O', 'O', 'O', 'O'], ['BR', 'IR', 'IR', 'IR', 'O', 'O', 'O', 'O', 'O', 'O', 'O', 'O', 'O', 'O', 'O', 'O'], ['O', 'O', 'O', 'O', 'O', 'O', 'O', 'BR', 'IR', 'IR', 'IR', 'IR', 'IR', 'IR', 'O', 'O', 'O', 'O', 'O', 'O'], ['O', 'O', 'O', 'O', 'BR', 'IR', 'IR', 'O', 'O', 'O', 'O', 'O', 'O', 'O', 'O', 'O', 'O', 'O', 'O', 'O', 'O'], ['BR', 'IR', 'IR', 'IR', 'O', 'O', 'O', 'O', 'O', 'O', 'O', 'O', 'O', 'O'], ['BR', 'IR', 'IR', 'O', 'O', 'O', 'O', 'O', 'O', 'O', 'O', 'O', 'O', 'O', 'O'], ['O', 'BR', 'IR', 'IR', 'IR', 'O', 'O', 'O', 'O', 'O', 'O', 'O', 'O', 'O', 'O', 'O', 'O', 'O'], ['O', 'O', 'O', 'O', 'O', 'O', 'O', 'O', 'O', 'O', 'O', 'O', 'O', 'O', 'O', 'O', 'O', 'O', 'BR', 'IR', 'IR', 'IR', 'O'], ['O', 'BR', 'IR', 'IR', 'IR', 'O', 'O', 'O', 'O', 'O', 'O', 'O', 'O', 'O', 'O'], ['O', 'BR', 'IR', 'IR', 'IR', 'IR', 'IR', 'IR', 'IR', 'IR', 'IR', 'IR', 'IR', 'IR', 'IR', 'IR', 'IR'], ['O', 'O', 'O', 'BR', 'IR', 'IR', 'IR', 'IR', 'IR', 'IR', 'IR', 'IR', 'IR', 'IR', 'IR', 'O', 'O', 'O', 'BR', 'IR', 'IR', 'IR', 'IR', 'IR', 'IR', 'IR', 'IR', 'IR'], ['BR', 'IR', 'IR', 'O', 'O', 'O', 'O', 'O', 'O', 'O', 'O', 'O'], ['O', 'BR', 'O', 'BR', 'IR', 'IR', 'IR', 'IR', 'O', 'O', 'O', 'O', 'O', 'O', 'O', 'O', 'O', 'O', 'O', 'O', 'O', 'O', 'O', 'O', 'O', 'O', 'O', 'O'], ['O', 'O', 'O', 'O', 'O', 'O', 'O', 'O', 'O', 'O', 'BR', 'IR', 'IR', 'O', 'O'], ['BR', 'IR', 'IR', 'IR', 'IR', 'IR', 'O', 'O', 'O', 'O', 'O', 'O', 'O', 'O', 'O', 'O', 'O', 'O', 'O'], ['O', 'BR', 'IR', 'IR', 'IR', 'O', 'O', 'O', 'O', 'O', 'O', 'O', 'O', 'O', 'O', 'O', 'O', 'O', 'O', 'O', 'O', 'O', 'O', 'O'], ['O', 'BR', 'IR', 'IR', 'IR', 'IR', 'IR', 'IR', 'O', 'BR', 'O', 'O', 'O', 'O', 'O', 'O', 'O'], ['O', 'O', 'O', 'O', 'O', 'O', 'BR', 'IR', 'IR', 'O', 'O', 'O', 'O', 'O', 'O', 'O', 'O', 'O', 'O', 'O', 'O', 'O'], ['O', 'O', 'O', 'BR', 'IR', 'IR', 'IR', 'IR', 'IR', 'IR', 'IR', 'IR', 'IR', 'IR', 'IR', 'IR', 'O', 'O'], ['O', 'O', 'O', 'O', 'O', 'O', 'O', 'O', 'O', 'O', 'O', 'O', 'O', 'O', 'O', 'BR', 'IR', 'O'], ['O', 'O', 'O', 'O', 'O', 'BR', 'IR', 'IR', 'IR', 'IR', 'IR', 'IR', 'O', 'O', 'O', 'O', 'O', 'O', 'O', 'O', 'O', 'O', 'O', 'O', 'O', 'O', 'O'], ['O', 'BR', 'IR', 'IR', 'O', 'O', 'O', 'O', 'O', 'O', 'O', 'O', 'O', 'O', 'O', 'O', 'O', 'O', 'O', 'O', 'O', 'O', 'O', 'O', 'O'], ['BR', 'IR', 'IR', 'IR', 'IR', 'O', 'O', 'O', 'O', 'O', 'O', 'O', 'O', 'O', 'O'], ['O', 'BR', 'IR', 'IR', 'IR', 'IR', 'O', 'O', 'O', 'O', 'O', 'O', 'O', 'O', 'O', 'O', 'O', 'O', 'O', 'O', 'O', 'O', 'O', 'O', 'O'], ['BR', 'IR', 'IR', 'IR', 'O', 'O', 'O', 'O', 'O', 'O', 'O', 'O', 'O', 'O', 'O', 'O', 'O', 'O', 'O', 'O', 'O', 'O', 'O', 'O', 'O', 'O', 'O', 'O', 'O', 'O'], ['O', 'BR', 'IR', 'IR', 'O', 'O', 'O', 'O'], ['O', 'BR', 'IR', 'IR', 'IR', 'IR', 'IR', 'IR', 'IR', 'IR', 'IR', 'IR', 'IR', 'IR', 'IR', 'IR', 'O', 'O', 'BR', 'IR', 'IR', 'IR'], ['O', 'O', 'BR', 'IR', 'IR', 'IR', 'IR', 'O', 'O', 'O', 'O', 'O', 'O', 'O', 'O', 'O', 'O', 'O', 'O', 'O', 'O', 'O', 'O', 'O', 'O', 'O'], ['O', 'O', 'BR', 'IR', 'IR', 'IR', 'IR', 'IR', 'IR', 'IR', 'IR', 'IR', 'IR', 'IR', 'IR', 'IR', 'IR', 'IR', 'IR', 'IR', 'IR', 'IR', 'IR', 'IR', 'IR', 'IR', 'IR', 'IR', 'IR'], ['O', 'O', 'O', 'O', 'O', 'O', 'BR', 'IR', 'IR', 'IR', 'IR', 'O', 'O', 'O', 'O'], ['BR', 'O', 'O', 'O', 'O', 'O', 'O', 'O', 'O', 'O', 'O', 'O', 'O', 'O', 'O', 'O', 'O', 'BR', 'IR', 'IR', 'IR', 'IR', 'IR', 'IR', 'IR', 'IR', 'IR'], ['O', 'O', 'BR', 'IR', 'O', 'O', 'O', 'O', 'O', 'O', 'O', 'O', 'O', 'O', 'O'], ['O', 'BR', 'IR', 'IR', 'IR', 'IR', 'IR', 'IR', 'IR', 'IR', 'IR', 'IR', 'IR', 'IR', 'IR', 'O', 'BR', 'IR', 'IR', 'IR', 'IR', 'IR', 'IR', 'IR', 'IR', 'IR', 'IR', 'IR', 'IR', 'O', 'O', 'O'], ['O', 'O', 'O', 'O', 'O', 'BR', 'IR', 'IR', 'IR', 'O', 'O', 'O', 'O', 'O', 'O', 'O', 'O', 'O', 'O', 'O', 'O', 'O', 'O'], ['BR', 'IR', 'IR', 'IR', 'O', 'O', 'O', 'O', 'O', 'O', 'O', 'O', 'BR', 'IR', 'IR'], ['BR', 'IR', 'IR', 'IR', 'IR', 'O', 'O', 'O', 'O', 'O', 'O', 'O', 'O', 'O', 'O', 'O', 'O', 'O', 'O', 'O', 'O', 'O', 'O'], ['BR', 'IR', 'IR', 'O', 'O', 'O', 'O', 'O', 'O', 'O', 'O', 'O', 'O', 'O', 'O', 'O', 'O', 'O', 'O', 'O', 'O', 'O', 'O', 'O'], ['O', 'BR', 'IR', 'IR', 'IR', 'O', 'O', 'O', 'O', 'O', 'O', 'O'], ['BR', 'IR', 'IR', 'IR', 'IR', 'IR', 'IR', 'IR', 'IR', 'IR', 'IR', 'IR', 'IR', 'IR', 'IR', 'IR', 'IR', 'IR', 'IR', 'IR', 'IR', 'IR', 'IR', 'IR', 'IR'], ['O', 'O', 'O', 'O', 'O', 'O', 'O', 'O', 'BR', 'IR', 'IR', 'O', 'O', 'O'], ['BR', 'IR', 'IR', 'O', 'O', 'O', 'O', 'O', 'O', 'O'], ['O', 'BR', 'IR', 'IR', 'IR', 'O', 'O', 'O', 'O', 'O', 'O', 'O', 'O', 'O', 'O', 'O', 'O', 'O', 'O', 'O', 'O', 'O'], ['BR', 'IR', 'IR', 'O', 'O', 'O', 'O', 'O', 'O', 'O', 'O', 'O', 'O', 'O', 'O', 'O', 'O'], ['O', 'O', 'O', 'O', 'O', 'O', 'O', 'BR', 'IR', 'IR', 'O'], ['O', 'BR', 'IR', 'IR', 'IR', 'O', 'O', 'O', 'O', 'O', 'O', 'O', 'O', 'O', 'O'], ['BR', 'O', 'BR', 'IR', 'IR', 'O', 'O', 'O', 'O', 'O', 'O', 'O', 'O', 'O', 'O', 'O', 'O'], ['BR', 'IR', 'IR', 'O', 'O', 'O', 'O', 'O', 'O', 'O', 'O', 'O', 'O', 'O', 'O', 'O'], ['BR', 'IR', 'IR', 'IR', 'O', 'O', 'O', 'O', 'O', 'O', 'O', 'O', 'O', 'O', 'O', 'O'], ['BR', 'IR', 'IR', 'IR', 'IR', 'O', 'O', 'O', 'O', 'O', 'O', 'O', 'O', 'O'], ['O', 'BR', 'IR', 'IR', 'O', 'O', 'O', 'O', 'O', 'O', 'O', 'O', 'O', 'O'], ['BR', 'IR', 'IR', 'O', 'O', 'O', 'O', 'O', 'O', 'O', 'O'], ['O', 'O', 'O', 'O', 'O', 'O', 'O', 'O', 'O', 'O', 'O', 'O', 'BR', 'IR', 'IR', 'O'], ['O', 'BR', 'IR', 'IR', 'IR', 'IR', 'IR', 'O', 'O', 'O', 'O', 'O', 'O', 'O', 'O', 'O', 'O', 'O'], ['BR', 'IR', 'IR', 'IR', 'IR', 'O', 'O', 'O', 'O', 'O', 'O', 'O', 'O', 'O', 'O'], ['O', 'BR', 'IR', 'IR', 'IR', 'IR', 'IR', 'O', 'O', 'O', 'O', 'O', 'O', 'O', 'O', 'O', 'O', 'O'], ['BR', 'IR', 'IR', 'IR', 'IR', 'O', 'O', 'BR', 'IR', 'IR', 'IR', 'IR', 'IR', 'IR', 'IR', 'IR', 'IR', 'IR'], ['O', 'BR', 'IR', 'IR', 'IR', 'IR', 'IR', 'IR', 'IR', 'IR', 'IR', 'IR', 'IR'], ['O', 'O', 'O', 'O', 'O', 'O', 'O', 'O', 'O', 'BR', 'IR', 'IR', 'O'], ['O', 'O', 'O', 'BR', 'IR', 'IR', 'O', 'O', 'O', 'O', 'O', 'O', 'O', 'O'], ['O', 'O', 'O', 'O', 'O', 'BR', 'IR', 'IR', 'IR', 'IR', 'IR', 'O', 'O', 'O', 'O', 'O'], ['O', 'BR', 'IR', 'IR', 'IR', 'IR', 'IR', 'IR', 'IR', 'IR', 'IR', 'IR', 'IR', 'IR', 'O', 'O', 'O', 'O', 'O', 'O', 'O', 'O', 'O'], ['O', 'BR', 'IR', 'IR', 'IR', 'IR', 'IR', 'IR', 'IR', 'IR', 'O', 'O', 'O', 'O', 'O', 'O', 'O', 'O', 'O', 'O'], ['O', 'O', 'O', 'O', 'O', 'O', 'O', 'O', 'BR', 'IR', 'O', 'O', 'O', 'O', 'O', 'O', 'O'], ['O', 'O', 'O', 'O', 'BR', 'IR', 'IR', 'IR', 'IR', 'O', 'O', 'O', 'O', 'O', 'O', 'O', 'O', 'O', 'O', 'O'], ['BR', 'IR', 'IR', 'IR', 'IR', 'IR', 'O', 'O', 'O', 'O', 'O', 'O', 'O', 'O', 'O', 'O', 'O'], ['BR', 'IR', 'IR', 'IR', 'O', 'O', 'O', 'O', 'O', 'O', 'O', 'O', 'O', 'O', 'O'], ['BR', 'IR', 'IR', 'IR', 'IR', 'O', 'O', 'O', 'O', 'O', 'O', 'O', 'O', 'O', 'O', 'O', 'O', 'O', 'O', 'O'], ['BR', 'IR', 'O', 'O', 'O', 'O', 'BR', 'IR', 'IR', 'O', 'O', 'O'], ['O', 'O', 'O', 'O', 'O', 'BR', 'IR', 'IR', 'IR', 'O', 'O'], ['O', 'O', 'O', 'O', 'BR', 'IR', 'IR', 'O', 'O', 'O', 'O', 'O', 'O', 'O', 'O', 'O', 'O', 'O', 'O', 'O', 'O', 'O', 'O', 'O', 'O', 'O'], ['O', 'O', 'BR', 'O', 'O', 'O', 'O', 'O', 'O', 'O', 'O', 'O', 'O', 'O', 'O', 'O', 'BR', 'IR', 'IR', 'IR', 'O'], ['BR', 'IR', 'IR', 'IR', 'IR', 'IR', 'IR', 'IR', 'IR', 'IR', 'O', 'O', 'BR', 'IR', 'IR', 'IR', 'IR', 'IR', 'IR', 'IR'], ['O', 'O', 'BR', 'IR', 'O', 'O', 'O', 'O', 'O', 'O', 'O', 'O'], ['BR', 'IR', 'IR', 'IR', 'IR', 'IR', 'IR', 'IR', 'IR', 'IR', 'IR', 'IR', 'IR', 'IR', 'IR', 'IR', 'IR', 'IR', 'IR'], ['O', 'O', 'O', 'O', 'O', 'O', 'O', 'O', 'O', 'BR', 'IR', 'IR', 'O'], ['BR', 'IR', 'IR', 'IR', 'IR', 'O', 'O', 'O', 'O', 'O', 'O', 'O', 'O', 'O', 'O', 'O', 'O', 'O', 'O', 'O', 'O'], ['BR', 'IR', 'IR', 'IR', 'IR', 'O', 'O', 'O', 'O', 'O', 'O', 'O'], ['BR', 'IR', 'IR', 'IR', 'IR', 'IR', 'IR', 'IR', 'IR', 'IR', 'IR', 'IR', 'IR', 'IR'], ['BR', 'IR', 'IR', 'O', 'O', 'O', 'O', 'O', 'O', 'O', 'O', 'O', 'O', 'O', 'O', 'O', 'O', 'O', 'O'], ['O', 'O', 'O', 'O', 'O', 'BR', 'IR', 'O', 'O', 'O', 'O', 'O', 'O', 'O', 'O', 'O'], ['BR', 'IR', 'IR', 'IR', 'IR', 'O', 'O', 'BR', 'O', 'O', 'BR', 'IR', 'IR', 'IR', 'IR', 'IR', 'IR', 'IR', 'IR'], ['O', 'BR', 'IR', 'IR', 'IR', 'IR', 'IR', 'O', 'BR', 'O', 'O', 'O', 'O', 'O', 'O', 'O', 'BR'], ['O', 'O', 'O', 'O', 'O', 'O', 'O', 'O', 'O', 'O', 'O', 'O', 'BR', 'IR', 'IR', 'IR', 'IR', 'O', 'O'], ['BR', 'IR', 'IR', 'IR', 'IR', 'IR', 'IR', 'IR', 'IR', 'IR', 'IR', 'IR', 'IR', 'IR', 'IR'], ['BR', 'IR', 'IR', 'IR', 'IR', 'IR', 'O', 'O', 'O', 'O', 'O', 'O', 'O', 'O', 'O', 'O', 'O', 'O', 'O', 'O', 'O', 'O', 'O', 'O'], ['O', 'O', 'BR', 'IR', 'IR', 'IR', 'IR', 'IR', 'IR', 'IR', 'IR', 'O'], ['BR', 'IR', 'IR', 'IR', 'O', 'O', 'O', 'O', 'O', 'O', 'O', 'O', 'O', 'O', 'O', 'O', 'O', 'O', 'O'], ['BR', 'IR', 'IR', 'IR', 'IR', 'IR', 'IR', 'IR', 'IR', 'IR', 'O', 'BR', 'IR', 'IR', 'IR', 'IR', 'IR'], ['O', 'O', 'O', 'O', 'O', 'O', 'BR', 'IR', 'IR', 'IR', 'IR', 'IR', 'IR', 'IR', 'O', 'O', 'O', 'O', 'O', 'O', 'O', 'O', 'O'], ['BR', 'IR', 'IR', 'IR', 'O', 'O', 'O', 'O', 'O', 'O', 'O', 'O', 'O', 'O', 'O'], ['O', 'O', 'O', 'O', 'O', 'BR', 'IR', 'IR', 'IR', 'O', 'O', 'O'], ['O', 'O', 'BR', 'IR', 'IR', 'O', 'O', 'O', 'O', 'O', 'O', 'O', 'O'], ['BR', 'IR', 'IR', 'O', 'O', 'O', 'O', 'O', 'O'], ['O', 'O', 'BR', 'IR', 'O', 'O', 'O', 'BR', 'O', 'O', 'O', 'O'], ['O', 'O', 'BR', 'IR', 'O', 'O', 'O', 'O', 'O', 'O', 'O'], ['O', 'O', 'O', 'BR', 'IR', 'IR', 'IR', 'O', 'O', 'O', 'O', 'O', 'O', 'O', 'O', 'O', 'O'], ['O', 'O', 'BR', 'IR', 'IR', 'IR', 'O', 'O', 'O', 'O', 'O', 'O', 'O', 'O'], ['O', 'O', 'O', 'O', 'O', 'O', 'O', 'O', 'O', 'BR', 'IR', 'IR', 'IR', 'IR', 'IR', 'IR', 'IR', 'IR', 'O', 'O'], ['BR', 'IR', 'IR', 'O', 'O', 'O', 'O', 'O'], ['O', 'O', 'BR', 'IR', 'O', 'O', 'O', 'O'], ['O', 'O', 'BR', 'IR', 'IR', 'O', 'O', 'O'], ['O', 'O', 'O', 'O', 'O', 'O', 'BR', 'IR', 'IR', 'O', 'O', 'O', 'O', 'O', 'O', 'O', 'O'], ['O', 'O', 'O', 'O', 'O', 'O', 'BR', 'IR', 'O', 'O', 'O', 'O', 'O', 'O'], ['O', 'O', 'O', 'O', 'O', 'O', 'O', 'BR', 'IR', 'IR', 'IR', 'IR', 'IR', 'IR', 'IR'], ['O', 'O', 'O', 'O', 'O', 'O', 'BR', 'IR', 'IR', 'O', 'O', 'O', 'O'], ['O', 'O', 'O', 'O', 'O', 'BR', 'IR', 'IR', 'O', 'O', 'O'], ['O', 'O', 'O', 'O', 'O', 'BR', 'IR', 'IR', 'IR', 'IR', 'O'], ['O', 'BR', 'IR', 'IR', 'IR', 'IR', 'IR', 'O', 'O', 'O', 'O', 'O'], ['BR', 'IR', 'IR', 'O', 'O', 'O', 'O', 'O', 'O', 'O', 'O', 'O', 'O', 'O', 'O', 'BR', 'IR'], ['BR', 'IR', 'IR', 'O', 'O', 'O', 'O', 'O', 'BR', 'IR', 'IR', 'O', 'O'], ['BR', 'IR', 'IR', 'IR', 'IR', 'IR', 'IR', 'IR', 'IR', 'IR', 'IR', 'IR'], ['O', 'O', 'O', 'O', 'BR', 'IR', 'IR', 'O', 'O', 'O', 'O', 'O', 'O'], ['O', 'O', 'BR', 'IR', 'IR', 'IR', 'IR', 'IR', 'IR', 'O', 'O', 'BR', 'IR'], ['BR', 'IR', 'O', 'O', 'O', 'O', 'O', 'O', 'O', 'O', 'O', 'O', 'BR', 'IR', 'O', 'O'], ['O', 'O', 'O', 'O', 'O', 'O', 'BR', 'IR', 'IR', 'IR', 'IR', 'O'], ['O', 'O', 'O', 'O', 'O', 'O', 'BR', 'IR', 'IR', 'IR', 'IR', 'IR', 'O'], ['O', 'O', 'O', 'O', 'O', 'O', 'O', 'O', 'BR', 'IR', 'IR', 'IR', 'IR', 'IR', 'IR', 'IR', 'O', 'O'], ['BR', 'IR', 'IR', 'IR', 'IR', 'IR', 'IR', 'IR', 'IR', 'IR', 'IR', 'IR', 'IR', 'IR', 'O', 'O', 'O', 'O', 'O', 'O', 'O'], ['O', 'BR', 'IR', 'O', 'O', 'O', 'O', 'O', 'O'], ['O', 'O', 'O', 'O', 'O', 'O', 'O', 'O', 'O', 'O', 'BR', 'IR', 'IR', 'O'], ['O', 'O', 'O', 'BR', 'IR', 'IR', 'IR', 'IR', 'IR', 'IR', 'IR', 'IR', 'IR', 'IR', 'IR', 'IR', 'IR', 'IR', 'IR', 'IR', 'IR', 'IR', 'IR', 'IR', 'IR', 'O', 'O'], ['O', 'O', 'O', 'BR', 'IR', 'IR', 'IR', 'IR', 'IR', 'IR', 'IR', 'IR', 'O'], ['O', 'O', 'O', 'O', 'BR', 'IR', 'IR', 'IR', 'IR', 'O', 'BR', 'IR', 'IR', 'IR', 'IR', 'IR', 'IR', 'IR', 'IR', 'IR', 'IR', 'IR', 'IR', 'IR', 'O', 'O', 'O', 'O', 'O', 'O'], ['BR', 'IR', 'IR', 'IR', 'IR', 'O', 'O', 'O', 'O', 'O', 'O', 'O', 'O', 'O'], ['O', 'BR', 'IR', 'IR', 'IR', 'IR', 'IR', 'IR', 'IR', 'IR', 'IR', 'IR', 'IR', 'IR', 'IR', 'IR', 'IR', 'O', 'O', 'BR', 'IR', 'IR', 'IR'], ['BR', 'IR', 'IR', 'IR', 'IR', 'IR', 'O', 'O', 'O', 'O', 'O', 'O', 'O', 'O', 'O', 'O', 'O', 'O', 'O', 'O', 'O', 'O'], ['O', 'BR', 'IR', 'IR', 'O', 'O', 'O', 'O', 'O', 'O', 'O'], ['BR', 'IR', 'IR', 'IR', 'IR', 'IR', 'IR', 'IR', 'IR', 'IR', 'IR', 'IR', 'IR', 'IR'], ['O', 'O', 'O', 'O', 'O', 'O', 'O', 'O', 'BR', 'IR', 'IR', 'O', 'O', 'O', 'O', 'O', 'O', 'O', 'O', 'O'], ['O', 'O', 'BR', 'IR', 'IR', 'IR', 'IR', 'IR', 'IR', 'IR', 'O', 'O', 'O', 'O', 'O', 'O', 'O', 'O', 'O', 'O', 'O', 'O'], ['BR', 'IR', 'IR', 'O', 'O', 'O', 'O'], ['BR', 'IR', 'IR', 'IR', 'O', 'O', 'O', 'O', 'O', 'O', 'O'], ['BR', 'IR', 'IR', 'O', 'O', 'O', 'O', 'O', 'O', 'O'], ['O', 'O', 'O', 'O', 'O', 'O', 'BR', 'IR', 'IR', 'IR', 'IR', 'O', 'O'], ['O', 'O', 'O', 'BR', 'IR', 'IR', 'IR', 'O', 'O', 'O', 'O', 'O', 'O', 'O', 'O'], ['O', 'O', 'O', 'O', 'O', 'O', 'O', 'BR', 'IR', 'IR', 'IR', 'IR', 'IR', 'IR', 'IR', 'IR', 'IR', 'IR', 'IR', 'IR', 'O', 'BR'], ['O', 'O', 'BR', 'IR', 'O', 'O', 'O', 'O', 'O'], ['BR', 'IR', 'O', 'O', 'O', 'O', 'O', 'O', 'O', 'O', 'O', 'O', 'O', 'O', 'O'], ['BR', 'IR', 'IR', 'IR', 'IR', 'IR', 'IR', 'IR', 'IR', 'IR', 'IR', 'IR', 'IR', 'IR', 'IR', 'IR', 'IR', 'IR', 'IR', 'O'], ['O', 'O', 'BR', 'O', 'BR', 'IR', 'O', 'O', 'O', 'O'], ['O', 'O', 'BR', 'IR', 'IR', 'IR', 'IR', 'O', 'O', 'O', 'O', 'O'], ['BR', 'IR', 'IR', 'IR', 'IR', 'O', 'O', 'O', 'O', 'O', 'O', 'O'], ['O', 'O', 'BR', 'IR', 'IR', 'IR', 'IR', 'O', 'O', 'O', 'O', 'O', 'O'], ['BR', 'IR', 'IR', 'IR', 'IR', 'O', 'O', 'O', 'O', 'O', 'O', 'O', 'O', 'O', 'O', 'O', 'O', 'O'], ['O', 'O', 'O', 'BR', 'IR', 'IR', 'IR', 'IR', 'IR', 'O', 'O', 'O', 'O', 'O'], ['O', 'O', 'BR', 'IR', 'IR', 'IR', 'IR', 'IR', 'O', 'O', 'O', 'O', 'O', 'O', 'O', 'O', 'O', 'O', 'O', 'O'], ['BR', 'IR', 'IR', 'IR', 'IR', 'IR', 'IR', 'IR', 'O', 'O', 'O', 'O'], ['O', 'O', 'O', 'O', 'BR', 'O', 'O', 'O', 'O', 'BR', 'IR', 'O', 'O', 'O', 'O'], ['O', 'O', 'O', 'O', 'O', 'BR', 'IR', 'IR', 'IR', 'IR', 'IR', 'IR', 'IR', 'IR', 'IR'], ['O', 'O', 'O', 'O', 'O', 'BR', 'IR', 'IR', 'IR', 'IR', 'IR', 'IR', 'O', 'O', 'O', 'O'], ['O', 'BR', 'IR', 'O', 'O', 'O', 'O', 'O'], ['O', 'O', 'O', 'O', 'O', 'O', 'BR', 'IR', 'IR', 'IR', 'O', 'O', 'O', 'O', 'O', 'O', 'O'], ['O', 'O', 'O', 'BR', 'IR', 'O', 'O', 'O', 'O', 'O', 'O', 'O', 'O', 'O', 'O', 'O'], ['O', 'O', 'O', 'O', 'O', 'BR', 'IR', 'IR', 'O', 'O', 'O', 'O', 'O', 'O', 'O', 'O', 'O', 'O', 'O'], ['BR', 'IR', 'IR', 'IR', 'IR', 'O', 'O', 'O', 'O', 'O', 'O', 'O', 'O', 'O', 'O', 'O', 'O', 'BR', 'IR', 'IR', 'IR', 'IR'], ['O', 'O', 'O', 'O', 'O', 'O', 'O', 'O', 'BR', 'IR', 'IR', 'IR', 'IR', 'IR', 'IR', 'IR', 'IR', 'IR', 'IR', 'IR'], ['O', 'O', 'O', 'BR', 'IR', 'IR', 'IR', 'IR', 'IR', 'IR', 'IR'], ['BR', 'IR', 'IR', 'IR', 'IR', 'IR', 'O', 'O', 'O', 'O', 'O', 'O', 'O', 'O', 'O'], ['O', 'O', 'O', 'BR', 'IR', 'IR', 'IR', 'IR', 'IR', 'IR', 'IR', 'IR'], ['O', 'BR', 'IR', 'IR', 'O', 'O', 'O', 'O', 'O', 'O', 'O', 'O', 'O', 'O', 'O'], ['O', 'O', 'O', 'O', 'O', 'BR', 'IR', 'IR', 'IR', 'IR', 'O'], ['BR', 'IR', 'IR', 'IR', 'IR', 'IR', 'IR', 'IR', 'IR', 'O', 'O', 'BR', 'IR', 'IR', 'IR', 'IR'], ['O', 'O', 'O', 'O', 'O', 'O', 'BR', 'IR', 'O', 'O'], ['O', 'O', 'O', 'O', 'O', 'O', 'O', 'O', 'O', 'BR', 'IR', 'IR', 'O'], ['O', 'O', 'O', 'BR', 'IR', 'IR', 'IR', 'O', 'O', 'O', 'O', 'O', 'O', 'O', 'O', 'O', 'O', 'O', 'O'], ['O', 'O', 'O', 'BR', 'IR', 'IR', 'IR', 'O', 'O', 'O'], ['BR', 'IR', 'IR', 'IR', 'IR', 'IR', 'IR', 'IR', 'IR', 'IR', 'O', 'O', 'O', 'O', 'O'], ['O', 'BR', 'IR', 'IR', 'IR', 'IR', 'IR', 'IR', 'IR', 'IR', 'IR', 'IR', 'IR', 'O', 'O', 'O', 'O', 'O', 'O', 'O'], ['O', 'O', 'O', 'O', 'BR', 'IR', 'IR', 'IR', 'O'], ['O', 'O', 'O', 'O', 'O', 'O', 'O', 'O', 'O', 'BR', 'IR', 'IR', 'IR', 'IR', 'IR', 'O', 'O'], ['O', 'O', 'O', 'BR', 'IR', 'O', 'O', 'O', 'O', 'O', 'O', 'O', 'O', 'O', 'O', 'O', 'O'], ['O', 'O', 'O', 'O', 'BR', 'IR', 'IR', 'O', 'O', 'O', 'O', 'O', 'BR', 'IR'], ['BR', 'IR', 'IR', 'IR', 'IR', 'IR', 'IR', 'IR', 'IR', 'IR', 'IR', 'IR', 'IR', 'IR', 'IR', 'IR'], ['BR', 'IR', 'IR', 'O', 'O', 'O', 'O', 'O', 'O', 'O', 'O', 'BR', 'IR', 'IR', 'O', 'O'], ['O', 'O', 'O', 'O', 'O', 'O', 'O', 'O', 'BR', 'IR', 'IR', 'IR', 'IR', 'IR', 'IR', 'O'], ['O', 'BR', 'IR', 'O', 'O', 'O', 'BR', 'IR', 'O'], ['O', 'O', 'O', 'O', 'O', 'O', 'O', 'BR', 'IR', 'IR', 'IR', 'O'], ['BR', 'IR', 'IR', 'IR', 'O', 'O', 'O', 'O', 'O'], ['O', 'BR', 'IR', 'IR', 'IR', 'O', 'O', 'O', 'O', 'O'], ['BR', 'IR', 'IR', 'IR', 'IR', 'IR', 'IR', 'IR', 'IR', 'IR', 'IR', 'O', 'O', 'BR', 'IR'], ['O', 'O', 'O', 'O', 'O', 'BR', 'IR', 'IR', 'O', 'O', 'O', 'O'], ['BR', 'IR', 'IR', 'IR', 'O', 'O', 'O', 'O', 'O', 'O', 'O', 'O', 'O', 'O'], ['BR', 'IR', 'IR', 'IR', 'O', 'O', 'O', 'O', 'O', 'O', 'O', 'O', 'O'], ['BR', 'IR', 'IR', 'IR', 'O', 'O', 'O', 'O', 'O', 'O', 'O', 'O', 'O', 'O', 'O'], ['O', 'O', 'O', 'O', 'O', 'O', 'O', 'BR', 'IR', 'IR', 'IR', 'O', 'O', 'O', 'O'], ['O', 'O', 'O', 'O', 'O', 'O', 'O', 'O', 'O', 'O', 'O', 'BR', 'IR', 'IR', 'IR', 'IR', 'O', 'O', 'O', 'O'], ['BR', 'IR', 'IR', 'IR', 'IR', 'IR', 'IR', 'O', 'O', 'O', 'O', 'O', 'O', 'O'], ['O', 'BR', 'IR', 'IR', 'O', 'O', 'O', 'O', 'O', 'O', 'O', 'O'], ['O', 'O', 'O', 'O', 'O', 'O', 'O', 'O', 'O', 'O', 'BR', 'IR', 'IR', 'O', 'O', 'O', 'O', 'O', 'O', 'O', 'O'], ['O', 'O', 'O', 'O', 'O', 'O', 'O', 'O', 'O', 'O', 'O', 'O', 'O', 'O', 'BR', 'IR', 'IR', 'IR', 'IR', 'IR', 'O'], ['O', 'BR', 'IR', 'O', 'O', 'O', 'O', 'O', 'O', 'O', 'O'], ['BR', 'IR', 'IR', 'IR', 'IR', 'IR', 'IR', 'IR', 'IR', 'IR', 'IR', 'IR', 'O', 'O', 'O', 'O', 'O', 'O', 'O', 'O', 'O', 'O', 'O', 'O', 'O', 'O', 'O', 'O', 'O', 'O', 'O', 'O', 'O', 'O'], ['O', 'O', 'O', 'O', 'O', 'O', 'BR', 'IR', 'IR', 'IR', 'IR', 'IR', 'IR', 'O', 'O', 'O', 'O'], ['O', 'O', 'O', 'BR', 'IR', 'IR', 'IR', 'O', 'O', 'O', 'O', 'O', 'O', 'O'], ['BR', 'IR', 'IR', 'IR', 'O', 'O', 'O', 'O', 'O', 'O', 'O', 'O', 'O'], ['O', 'O', 'O', 'O', 'BR', 'IR', 'O', 'O', 'O', 'O', 'O', 'O', 'O', 'O'], ['O', 'O', 'O', 'O', 'BR', 'IR', 'IR', 'O', 'BR', 'IR', 'IR', 'IR', 'IR', 'IR'], ['O', 'BR', 'IR', 'O', 'O', 'O', 'O', 'O', 'O', 'O', 'O', 'O', 'O', 'O', 'O', 'O', 'O', 'O', 'O', 'O'], ['BR', 'IR', 'O', 'O', 'O', 'O', 'O', 'O', 'O', 'O', 'O', 'O', 'O', 'O', 'O', 'O', 'O'], ['O', 'O', 'O', 'O', 'O', 'O', 'BR', 'IR', 'IR', 'IR', 'IR', 'IR', 'O', 'O', 'O', 'O', 'O', 'O', 'O', 'O'], ['O', 'O', 'O', 'O', 'O', 'O', 'O', 'O', 'O', 'BR', 'IR', 'O', 'O', 'O', 'O', 'O'], ['O', 'O', 'O', 'O', 'O', 'O', 'O', 'O', 'O', 'O', 'BR', 'IR', 'IR', 'IR', 'IR', 'O', 'O'], ['O', 'O', 'O', 'O', 'O', 'O', 'BR', 'IR', 'IR', 'IR', 'O', 'O'], ['O', 'O', 'O', 'BR', 'IR', 'O', 'O', 'O', 'O', 'O', 'O'], ['O', 'O', 'O', 'O', 'O', 'BR', 'IR', 'IR', 'IR', 'IR', 'IR', 'IR', 'IR', 'IR', 'IR', 'IR', 'IR', 'IR', 'IR', 'O', 'O', 'O'], ['O', 'O', 'O', 'BR', 'IR', 'IR', 'IR', 'IR', 'IR', 'IR', 'IR', 'IR', 'IR', 'IR', 'IR', 'IR', 'IR', 'IR', 'IR', 'IR', 'IR', 'IR', 'IR', 'IR', 'IR', 'O', 'O', 'O', 'O', 'BR', 'IR', 'IR'], ['BR', 'IR', 'IR', 'O', 'O', 'O', 'O', 'O', 'O', 'O', 'O', 'O', 'O', 'O'], ['O', 'O', 'O', 'O', 'O', 'BR', 'IR', 'IR', 'IR', 'O', 'O', 'O', 'O', 'O', 'O'], ['O', 'O', 'O', 'BR', 'IR', 'IR', 'IR', 'IR', 'O', 'BR', 'IR', 'IR', 'IR', 'IR', 'IR', 'IR', 'IR', 'IR'], ['BR', 'IR', 'IR', 'IR', 'IR', 'IR', 'IR', 'O', 'O', 'O'], ['BR', 'IR', 'O', 'O', 'O', 'O', 'O', 'O', 'O'], ['O', 'O', 'O', 'O', 'BR', 'IR', 'IR', 'IR', 'O', 'O', 'O', 'O', 'O', 'O'], ['BR', 'IR', 'IR', 'O', 'O', 'O', 'O', 'O', 'O', 'O', 'O', 'O'], ['O', 'O', 'O', 'BR', 'IR', 'IR', 'IR', 'O', 'O', 'O', 'O', 'O'], ['O', 'O', 'O', 'O', 'O', 'O', 'BR', 'IR', 'O', 'O', 'O', 'O', 'O', 'O', 'O', 'BR', 'IR'], ['O', 'O', 'O', 'O', 'O', 'O', 'O', 'BR', 'IR', 'O', 'O', 'O', 'O'], ['O', 'O', 'O', 'O', 'O', 'O', 'BR', 'IR', 'O', 'O', 'O', 'O'], ['O', 'O', 'O', 'BR', 'IR', 'IR', 'IR', 'IR', 'IR', 'O', 'O', 'O', 'O', 'O', 'O', 'O', 'O'], ['O', 'BR', 'IR', 'IR', 'IR', 'IR', 'O', 'O', 'O', 'O', 'O', 'O'], ['BR', 'IR', 'IR', 'O', 'O', 'O', 'O', 'O', 'O'], ['BR', 'IR', 'IR', 'IR', 'O', 'O', 'O', 'O', 'O', 'O'], ['O', 'O', 'O', 'O', 'O', 'BR', 'IR', 'IR', 'O', 'O', 'O', 'O'], ['O', 'BR', 'IR', 'IR', 'IR', 'IR', 'IR', 'IR', 'IR', 'IR', 'IR', 'IR', 'IR', 'IR', 'IR', 'IR'], ['O', 'O', 'O', 'O', 'O', 'O', 'O', 'O', 'BR', 'IR', 'IR', 'IR', 'IR', 'IR', 'IR', 'IR', 'IR', 'IR', 'IR'], ['O', 'BR', 'IR', 'IR', 'IR', 'IR', 'IR', 'O', 'O', 'O', 'BR', 'IR', 'IR', 'IR', 'IR', 'IR', 'IR', 'IR', 'IR', 'IR', 'IR', 'IR', 'IR'], ['O', 'O', 'O', 'O', 'BR', 'IR', 'IR', 'O', 'BR', 'O', 'O', 'O', 'O', 'O'], ['O', 'O', 'O', 'BR', 'IR', 'IR', 'O', 'O', 'O', 'O', 'O', 'O', 'O', 'O'], ['O', 'BR', 'IR', 'IR', 'O', 'O', 'O', 'O', 'O', 'O', 'O'], ['O', 'BR', 'IR', 'IR', 'IR', 'IR', 'IR', 'IR', 'IR', 'IR', 'O', 'O', 'O', 'O', 'O', 'O', 'O'], ['O', 'BR', 'IR', 'IR', 'IR', 'IR', 'O', 'O', 'O', 'O', 'O', 'O', 'O'], ['O', 'O', 'O', 'O', 'O', 'O', 'O', 'O', 'O', 'O', 'BR', 'IR', 'IR', 'IR', 'IR', 'IR', 'O'], ['O', 'O', 'O', 'O', 'BR', 'IR', 'IR', 'O', 'O', 'O', 'O', 'O', 'O'], ['O', 'O', 'O', 'BR', 'IR', 'IR', 'IR', 'O', 'O', 'O', 'O', 'O', 'O', 'O', 'O'], ['O', 'BR', 'IR', 'IR', 'IR', 'IR', 'IR', 'IR', 'IR', 'IR', 'IR', 'IR', 'IR', 'O'], ['BR', 'IR', 'IR', 'IR', 'IR', 'O', 'O', 'O', 'O', 'O', 'O', 'O', 'BR', 'IR', 'IR', 'IR', 'IR', 'IR', 'IR', 'IR'], ['BR', 'IR', 'IR', 'IR', 'IR', 'O', 'O', 'O', 'O', 'O', 'O', 'O', 'O', 'O', 'O'], ['O', 'BR', 'IR', 'IR', 'IR', 'IR', 'IR', 'IR', 'IR', 'IR', 'IR', 'IR', 'IR', 'IR', 'IR', 'IR', 'IR', 'IR', 'IR', 'O', 'BR', 'IR', 'IR', 'IR', 'IR', 'IR', 'IR', 'IR', 'IR', 'O'], ['O', 'BR', 'IR', 'IR', 'IR', 'O', 'O', 'O', 'O', 'O', 'O'], ['O', 'O', 'O', 'O', 'BR', 'IR', 'IR', 'O', 'O', 'O', 'O', 'O', 'O', 'O'], ['O', 'O', 'BR', 'IR', 'IR', 'IR', 'O', 'O', 'O', 'O', 'O', 'O', 'O'], ['O', 'O', 'O', 'O', 'O', 'O', 'BR', 'IR', 'IR', 'IR', 'IR', 'O', 'BR', 'O', 'O'], ['O', 'BR', 'IR', 'IR', 'O', 'O', 'O', 'O', 'O', 'O', 'O'], ['BR', 'IR', 'IR', 'IR', 'IR', 'IR', 'IR', 'IR', 'IR', 'IR', 'IR', 'IR', 'O', 'O', 'O', 'O', 'O', 'O', 'O', 'O', 'O', 'O'], ['O', 'BR', 'IR', 'IR', 'IR', 'O', 'O', 'O', 'O', 'O', 'O'], ['O', 'O', 'O', 'O', 'O', 'BR', 'IR', 'IR', 'IR', 'IR', 'IR', 'IR', 'IR', 'IR', 'O', 'BR', 'IR'], ['O', 'O', 'O', 'O', 'O', 'O', 'BR', 'IR', 'IR', 'IR', 'O'], ['BR', 'IR', 'O', 'O', 'O', 'O', 'O', 'O', 'O', 'O', 'O', 'O', 'O', 'O', 'O'], ['BR', 'IR', 'IR', 'IR', 'IR', 'IR', 'IR', 'IR', 'O'], ['O', 'BR', 'IR', 'IR', 'O', 'O', 'O', 'O', 'O', 'O', 'O'], ['O', 'O', 'O', 'O', 'O', 'O', 'O', 'O', 'O', 'BR', 'IR', 'IR', 'IR', 'IR', 'O', 'O', 'O'], ['O', 'O', 'O', 'O', 'O', 'O', 'O', 'O', 'O', 'BR', 'IR', 'IR', 'IR', 'IR', 'IR', 'IR', 'IR', 'IR', 'IR', 'IR', 'IR', 'IR', 'IR'], ['BR', 'IR', 'IR', 'IR', 'IR', 'O', 'O', 'O', 'O', 'O', 'O', 'O', 'O', 'O', 'O', 'O', 'O', 'O', 'O'], ['O', 'O', 'BR', 'IR', 'O', 'O', 'O', 'O', 'O', 'O', 'O'], ['O', 'O', 'O', 'O', 'O', 'BR', 'IR', 'IR', 'IR', 'IR', 'O', 'O'], ['O', 'O', 'O', 'BR', 'IR', 'IR', 'O'], ['O', 'O', 'O', 'O', 'O', 'O', 'O', 'O', 'O', 'O', 'O', 'BR', 'IR', 'O', 'BR', 'IR', 'IR', 'O', 'O'], ['O', 'O', 'O', 'BR', 'IR', 'O', 'O', 'O', 'O', 'O'], ['O', 'O', 'O', 'BR', 'IR', 'IR', 'O', 'BR', 'IR', 'IR', 'O', 'O', 'O'], ['O', 'O', 'O', 'O', 'O', 'O', 'O', 'O', 'O', 'O', 'O', 'BR', 'IR', 'IR', 'IR', 'O', 'O'], ['O', 'O', 'O', 'O', 'O', 'O', 'O', 'O', 'O', 'O', 'BR', 'IR', 'O'], ['BR', 'IR', 'IR', 'O', 'O', 'O', 'O', 'O', 'O', 'O', 'O', 'O', 'O', 'BR'], ['O', 'O', 'O', 'O', 'O', 'O', 'O', 'O', 'O', 'BR', 'IR', 'O'], ['BR', 'IR', 'IR', 'IR', 'IR', 'IR', 'IR', 'IR', 'O', 'O', 'O', 'O', 'O', 'O', 'O', 'O', 'O'], ['BR', 'IR', 'IR', 'IR', 'IR', 'IR', 'IR', 'IR', 'IR', 'IR', 'IR', 'IR'], ['O', 'O', 'O', 'BR', 'IR', 'IR', 'IR', 'IR', 'IR', 'IR', 'IR', 'IR', 'O', 'O', 'O', 'O', 'O', 'O', 'O', 'O', 'O', 'O', 'O', 'O', 'O', 'O'], ['O', 'O', 'O', 'BR', 'IR', 'IR', 'O', 'O', 'O', 'O'], ['BR', 'IR', 'IR', 'IR', 'IR', 'IR', 'IR', 'IR', 'O', 'O', 'O', 'O', 'BR', 'IR', 'IR', 'IR', 'IR', 'IR', 'IR', 'IR'], ['BR', 'IR', 'O', 'O', 'O', 'O', 'O', 'O', 'O', 'O', 'O', 'O', 'O', 'O', 'O', 'O'], ['BR', 'IR', 'IR', 'IR', 'IR', 'IR', 'IR', 'IR', 'IR', 'IR', 'IR', 'IR', 'IR', 'O'], ['BR', 'IR', 'IR', 'IR', 'IR', 'IR', 'O', 'O', 'O', 'O', 'O', 'O', 'O'], ['BR', 'IR', 'IR', 'O', 'O', 'O', 'O', 'O', 'O', 'O'], ['BR', 'IR', 'IR', 'IR', 'O', 'O', 'O', 'O', 'O', 'O', 'O'], ['O', 'O', 'O', 'O', 'O', 'O', 'BR', 'IR', 'IR', 'IR', 'IR', 'O'], ['O', 'BR', 'IR', 'IR', 'IR', 'O', 'O', 'O', 'O', 'O', 'O', 'O'], ['BR', 'IR', 'IR', 'IR', 'IR', 'O', 'O', 'O', 'O', 'O', 'O', 'O', 'O', 'O'], ['BR', 'IR', 'IR', 'IR', 'IR', 'IR', 'IR', 'IR', 'IR', 'IR', 'IR', 'IR', 'IR', 'IR', 'O'], ['O', 'O', 'O', 'O', 'BR', 'IR', 'IR', 'IR', 'IR', 'IR', 'IR', 'IR', 'IR', 'O', 'O'], ['O', 'O', 'BR', 'IR', 'IR', 'IR', 'IR', 'O', 'O', 'O', 'O', 'O', 'O', 'O', 'O', 'O', 'O', 'O', 'O'], ['BR', 'IR', 'IR', 'IR', 'IR', 'IR', 'IR', 'O', 'BR', 'IR', 'IR', 'IR', 'IR', 'IR', 'IR', 'IR', 'IR', 'IR', 'IR', 'IR', 'IR', 'IR', 'IR'], ['O', 'BR', 'IR', 'IR', 'IR', 'IR', 'O', 'O', 'O', 'O', 'O', 'O', 'O', 'O', 'O'], ['BR', 'IR', 'IR', 'IR', 'IR', 'O', 'O', 'O', 'O', 'O', 'O', 'BR', 'IR', 'IR'], ['BR', 'IR', 'IR', 'IR', 'IR', 'O', 'O', 'O', 'O', 'O', 'O', 'O', 'O', 'O'], ['BR', 'IR', 'IR', 'IR', 'O', 'O', 'O', 'O', 'O', 'O', 'O', 'O', 'O'], ['BR', 'IR', 'IR', 'IR', 'IR', 'O', 'O', 'O', 'BR', 'IR', 'IR'], ['BR', 'IR', 'IR', 'O', 'BR', 'IR', 'IR', 'O', 'O', 'O', 'O', 'BR', 'IR'], ['O', 'O', 'O', 'O', 'O', 'O', 'BR', 'IR', 'IR', 'O', 'O', 'O', 'O', 'O', 'O'], ['O', 'O', 'O', 'O', 'O', 'O', 'O', 'O', 'O', 'BR', 'IR', 'IR', 'O', 'O'], ['O', 'O', 'BR', 'IR', 'O', 'O', 'O', 'O', 'O', 'O', 'O', 'O', 'O', 'O', 'O', 'O', 'O', 'O', 'O', 'O', 'O'], ['BR', 'IR', 'IR', 'O', 'O', 'O', 'O', 'O', 'O', 'O', 'O', 'O', 'O', 'O'], ['BR', 'IR', 'IR', 'IR', 'O', 'O', 'O', 'O', 'O', 'O', 'O', 'O', 'O', 'O', 'O'], ['BR', 'IR', 'IR', 'IR', 'IR', 'IR', 'IR', 'O', 'O', 'O', 'O', 'O'], ['O', 'O', 'O', 'O', 'O', 'O', 'BR', 'IR', 'IR', 'O', 'O'], ['BR', 'IR', 'IR', 'IR', 'IR', 'O', 'O', 'O', 'O', 'O'], ['BR', 'IR', 'IR', 'IR', 'IR', 'IR', 'IR', 'IR', 'IR', 'O', 'O', 'O', 'O', 'O', 'O', 'O', 'O', 'O', 'O'], ['O', 'BR', 'IR', 'IR', 'IR', 'O', 'O', 'O', 'O', 'O', 'BR', 'IR', 'O', 'O', 'O', 'O', 'O'], ['BR', 'IR', 'IR', 'IR', 'IR', 'IR', 'IR', 'IR', 'IR', 'IR', 'IR', 'IR', 'IR', 'IR', 'IR', 'IR', 'IR', 'IR', 'IR', 'IR', 'IR'], ['BR', 'IR', 'IR', 'IR', 'IR', 'IR', 'IR', 'IR', 'IR', 'IR', 'IR', 'IR', 'IR', 'IR', 'IR', 'IR', 'IR', 'IR', 'IR'], ['O', 'O', 'O', 'O', 'O', 'BR', 'IR', 'IR', 'O', 'O', 'O', 'O', 'O'], ['O', 'O', 'O', 'O', 'O', 'O', 'BR', 'IR', 'IR', 'IR', 'IR', 'O'], ['O', 'O', 'O', 'BR', 'IR', 'IR', 'O', 'O', 'O', 'O', 'O', 'O', 'O'], ['BR', 'IR', 'IR', 'O', 'O', 'O', 'O', 'O', 'O', 'O', 'O', 'O'], ['O', 'O', 'O', 'BR', 'IR', 'IR', 'IR', 'IR', 'O', 'O', 'O', 'O'], ['O', 'O', 'O', 'BR', 'IR', 'IR', 'O', 'O', 'O', 'O', 'O', 'O', 'O', 'O'], ['O', 'BR', 'IR', 'IR', 'IR', 'IR', 'O', 'O', 'O', 'O'], ['BR', 'IR', 'IR', 'IR', 'IR', 'O', 'O', 'O', 'O', 'O', 'O', 'O', 'O', 'O', 'O', 'O', 'O', 'O', 'O', 'O'], ['O', 'BR', 'IR', 'IR', 'IR', 'O', 'O', 'O', 'O'], ['O', 'O', 'BR', 'IR', 'IR', 'IR', 'IR', 'O', 'O'], ['O', 'BR', 'IR', 'IR', 'O', 'O', 'O', 'O'], ['O', 'O', 'O', 'O', 'O', 'O', 'O', 'O', 'O', 'BR', 'IR', 'O'], ['O', 'O', 'O', 'O', 'O', 'O', 'O', 'O', 'O', 'O', 'BR', 'IR', 'IR', 'IR', 'O', 'O'], ['O', 'O', 'O', 'O', 'O', 'BR', 'IR', 'IR', 'IR', 'O', 'O'], ['BR', 'IR', 'IR', 'IR', 'IR', 'IR', 'IR', 'IR', 'IR', 'IR', 'IR', 'IR', 'IR', 'IR', 'IR', 'O', 'O'], ['O', 'O', 'O', 'O', 'BR', 'IR', 'O', 'O', 'O', 'O', 'O', 'O'], ['O', 'O', 'O', 'O', 'O', 'O', 'O', 'BR', 'IR', 'IR', 'IR', 'IR', 'IR', 'O', 'O', 'O'], ['O', 'BR', 'IR', 'IR', 'IR', 'O', 'O', 'O', 'O', 'O', 'O', 'O', 'O', 'O'], ['BR', 'IR', 'IR', 'IR', 'O', 'O', 'O', 'O', 'O', 'O', 'O', 'O', 'O', 'O'], ['O', 'O', 'O', 'O', 'O', 'O', 'O', 'BR', 'IR', 'IR', 'O', 'O', 'O', 'O', 'O', 'O', 'O', 'O', 'O', 'O', 'O', 'O'], ['O', 'O', 'O', 'O', 'O', 'O', 'O', 'O', 'O', 'O', 'O', 'O', 'O', 'BR', 'IR', 'IR', 'IR', 'IR', 'IR', 'IR', 'IR', 'IR', 'O', 'O', 'O', 'O', 'O', 'O', 'O', 'O'], ['O', 'O', 'O', 'O', 'O', 'BR', 'IR', 'IR', 'O', 'O', 'O', 'O'], ['O', 'O', 'O', 'O', 'O', 'BR', 'IR', 'IR', 'IR', 'IR', 'IR', 'IR', 'O', 'O', 'BR', 'IR', 'IR'], ['BR', 'IR', 'IR', 'IR', 'IR', 'O', 'O', 'O', 'O', 'O', 'O', 'O'], ['BR', 'IR', 'IR', 'O', 'O', 'O', 'O', 'O'], ['BR', 'IR', 'IR', 'IR', 'IR', 'IR', 'IR', 'IR', 'IR', 'IR', 'IR', 'IR', 'IR', 'O', 'O', 'O'], ['O', 'BR', 'IR', 'IR', 'IR', 'IR', 'IR', 'IR', 'IR', 'IR', 'IR', 'IR', 'IR', 'IR', 'IR', 'IR', 'IR', 'IR', 'IR', 'IR', 'IR', 'IR', 'IR', 'IR', 'IR', 'IR'], ['O', 'O', 'O', 'O', 'O', 'O', 'O', 'BR', 'IR', 'IR', 'IR', 'IR', 'IR', 'O', 'O', 'O'], ['O', 'BR', 'IR', 'IR', 'O', 'O', 'O', 'O', 'O', 'O', 'BR', 'IR', 'O', 'O', 'O'], ['O', 'BR', 'IR', 'IR', 'IR', 'IR', 'IR', 'IR', 'IR', 'O'], ['O', 'BR', 'IR', 'IR', 'IR', 'O', 'O', 'O', 'O', 'O', 'O', 'O', 'O', 'O'], ['O', 'O', 'BR', 'IR', 'IR', 'IR', 'IR', 'IR', 'O', 'O', 'O', 'O', 'O', 'O', 'O'], ['BR', 'IR', 'O', 'O', 'O', 'O', 'O', 'O', 'O', 'O', 'O'], ['BR', 'IR', 'IR', 'IR', 'IR', 'IR', 'IR', 'IR', 'IR', 'IR', 'IR', 'IR', 'IR', 'IR', 'IR', 'IR', 'IR', 'IR'], ['O', 'O', 'O', 'O', 'BR', 'IR', 'IR', 'IR', 'IR', 'O', 'O', 'O', 'O', 'O', 'O', 'O'], ['O', 'O', 'O', 'O', 'O', 'O', 'O', 'O', 'O', 'O', 'O', 'BR', 'IR', 'IR', 'IR', 'O', 'O'], ['O', 'O', 'O', 'O', 'O', 'O', 'O', 'O', 'BR', 'IR', 'IR', 'IR', 'IR', 'IR', 'O', 'O'], ['O', 'O', 'O', 'O', 'BR', 'IR', 'IR', 'IR', 'IR', 'O', 'O', 'O', 'O'], ['O', 'O', 'O', 'O', 'O', 'O', 'O', 'O', 'BR', 'IR', 'IR', 'IR', 'IR', 'IR', 'IR', 'O', 'O'], ['O', 'BR', 'IR', 'IR', 'IR', 'IR', 'O', 'O', 'BR', 'IR', 'IR', 'O', 'O'], ['O', 'BR', 'IR', 'IR', 'IR', 'IR', 'O', 'BR', 'IR', 'IR', 'IR', 'IR', 'IR', 'IR', 'IR', 'IR'], ['O', 'O', 'O', 'O', 'O', 'O', 'O', 'O', 'O', 'O', 'O', 'O', 'O', 'BR', 'IR', 'IR', 'O', 'O', 'O', 'O'], ['O', 'O', 'O', 'BR', 'IR', 'O', 'O', 'BR', 'IR', 'IR', 'IR', 'IR', 'O', 'O', 'O', 'O', 'O', 'O', 'O'], ['O', 'O', 'O', 'BR', 'IR', 'IR', 'IR', 'IR', 'IR', 'IR', 'O', 'O', 'O', 'O', 'O'], ['O', 'O', 'O', 'BR', 'O', 'O', 'BR', 'IR', 'IR', 'IR', 'IR', 'IR', 'IR', 'IR', 'IR', 'IR', 'IR', 'O', 'O', 'O', 'O', 'O', 'O', 'O'], ['O', 'O', 'O', 'O', 'BR', 'IR', 'IR', 'IR', 'IR', 'IR', 'IR', 'IR', 'O', 'O', 'O', 'O', 'O', 'O'], ['O', 'O', 'O', 'BR', 'IR', 'IR', 'IR', 'IR', 'O', 'O', 'O', 'O'], ['O', 'O', 'O', 'O', 'O', 'O', 'O', 'BR', 'IR', 'IR', 'IR', 'IR', 'IR', 'IR', 'O', 'O'], ['BR', 'IR', 'O', 'O', 'O', 'O', 'O', 'O', 'O', 'O', 'O'], ['O', 'O', 'O', 'O', 'O', 'O', 'O', 'O', 'BR', 'IR', 'IR', 'O'], ['O', 'O', 'BR', 'IR', 'IR', 'O', 'O', 'O', 'O', 'O', 'O', 'O'], ['O', 'O', 'O', 'BR', 'IR', 'IR', 'O', 'O', 'O', 'O', 'O', 'O', 'O', 'O'], ['BR', 'IR', 'IR', 'IR', 'IR', 'IR', 'O', 'O', 'BR', 'O', 'O', 'O', 'BR', 'O', 'O', 'O', 'O'], ['O', 'O', 'O', 'O', 'O', 'O', 'BR', 'IR', 'IR', 'IR', 'O', 'O', 'O', 'O'], ['BR', 'IR', 'IR', 'O', 'O', 'O', 'O', 'O', 'O', 'O', 'O', 'O', 'O', 'O', 'O', 'O', 'O'], ['O', 'O', 'BR', 'IR', 'IR', 'O', 'O', 'O', 'BR', 'IR', 'IR', 'O', 'O', 'O'], ['BR', 'IR', 'IR', 'O', 'O', 'O', 'O', 'O', 'O', 'O', 'O', 'O', 'O', 'O'], ['O', 'O', 'O', 'BR', 'IR', 'IR', 'IR', 'IR', 'O', 'O', 'O', 'O', 'O', 'O', 'O', 'O'], ['O', 'O', 'O', 'O', 'BR', 'IR', 'IR', 'IR', 'O', 'O'], ['O', 'O', 'O', 'BR', 'IR', 'IR', 'O', 'O', 'O', 'O', 'O', 'O', 'O'], ['O', 'O', 'O', 'O', 'O', 'BR', 'IR', 'IR', 'IR', 'IR', 'IR', 'IR', 'IR', 'O', 'O', 'O', 'O'], ['BR', 'IR', 'O', 'O', 'O', 'O', 'O', 'O', 'O', 'O'], ['BR', 'IR', 'IR', 'O', 'O', 'O', 'O', 'O', 'O', 'O', 'O', 'O', 'O', 'O', 'O', 'O', 'O'], ['O', 'BR', 'IR', 'IR', 'IR', 'O', 'O', 'O', 'O', 'O', 'O', 'O', 'O'], ['BR', 'IR', 'IR', 'O', 'O', 'O', 'O', 'BR', 'IR', 'IR', 'IR', 'IR'], ['O', 'O', 'BR', 'O', 'O', 'O', 'BR', 'IR', 'IR', 'IR', 'IR', 'IR', 'O', 'O', 'O', 'O'], ['BR', 'IR', 'IR', 'IR', 'IR', 'IR', 'O', 'O', 'O', 'O', 'O', 'O', 'O', 'O', 'O'], ['BR', 'IR', 'IR', 'IR', 'O', 'O', 'O', 'O', 'O', 'O', 'O'], ['BR', 'IR', 'IR', 'IR', 'O', 'BR', 'IR', 'O', 'O', 'O', 'O', 'O', 'O'], ['O', 'O', 'BR', 'IR', 'IR', 'IR', 'IR', 'IR', 'IR', 'IR', 'IR', 'IR', 'IR', 'O', 'O', 'O', 'O', 'O', 'O', 'O'], ['BR', 'IR', 'IR', 'IR', 'O', 'O', 'O', 'O', 'O'], ['O', 'O', 'BR', 'IR', 'IR', 'IR', 'IR', 'IR', 'IR', 'O', 'O', 'O'], ['O', 'O', 'O', 'BR', 'IR', 'IR', 'IR', 'O', 'O', 'O', 'O', 'O', 'O', 'O', 'O', 'O', 'O'], ['O', 'O', 'O', 'BR', 'IR', 'IR', 'IR', 'IR', 'IR', 'IR', 'IR', 'IR', 'IR', 'IR', 'IR', 'IR', 'IR', 'O'], ['O', 'O', 'O', 'BR', 'IR', 'IR', 'IR', 'O', 'O', 'O', 'O', 'O', 'O', 'O'], ['O', 'O', 'O', 'BR', 'IR', 'IR', 'IR', 'IR', 'IR', 'IR', 'O', 'BR', 'IR', 'IR', 'IR', 'IR', 'IR', 'IR', 'IR', 'IR', 'IR', 'IR'], ['O', 'O', 'BR', 'IR', 'O', 'BR', 'IR', 'IR', 'IR', 'IR', 'IR', 'IR', 'IR', 'IR', 'IR', 'O', 'O', 'O'], ['O', 'BR', 'IR', 'IR', 'IR', 'IR', 'IR', 'IR', 'IR'], ['O', 'BR', 'IR', 'IR', 'IR', 'IR', 'IR', 'IR', 'O'], ['O', 'BR', 'IR', 'IR', 'IR', 'IR', 'IR', 'IR', 'IR'], ['O', 'O', 'O', 'O', 'BR', 'IR', 'IR', 'IR', 'IR', 'IR', 'IR', 'IR', 'IR', 'IR', 'IR', 'IR', 'O', 'O', 'O'], ['O', 'BR', 'IR', 'IR', 'O', 'O', 'O', 'O', 'O', 'O'], ['O', 'O', 'O', 'O', 'O', 'O', 'BR', 'IR', 'IR', 'IR', 'O'], ['BR', 'IR', 'IR', 'IR', 'O', 'O', 'O', 'O', 'O', 'O', 'BR', 'IR', 'IR', 'IR', 'IR'], ['O', 'O', 'O', 'O', 'O', 'O', 'O', 'BR', 'IR', 'IR', 'IR', 'IR', 'IR', 'IR', 'IR', 'IR', 'O', 'O', 'BR'], ['BR', 'IR', 'IR', 'IR', 'O', 'O', 'O', 'O', 'O', 'O', 'O', 'O', 'O', 'O', 'O', 'O'], ['O', 'BR', 'IR', 'IR', 'O', 'O', 'O', 'O', 'O', 'O', 'O'], ['BR', 'IR', 'IR', 'IR', 'O', 'O', 'O', 'O', 'O', 'O', 'O', 'O', 'O', 'O', 'O', 'O'], ['BR', 'IR', 'IR', 'IR', 'O', 'O', 'O', 'O', 'O', 'O', 'O', 'O', 'O', 'O', 'O'], ['BR', 'IR', 'IR', 'IR', 'O', 'O', 'O', 'O', 'O', 'O'], ['BR', 'IR', 'IR', 'IR', 'O', 'O', 'O', 'O', 'O', 'O', 'O', 'O', 'O'], ['O', 'O', 'O', 'O', 'BR', 'IR', 'IR', 'IR', 'IR', 'IR', 'IR', 'O', 'O', 'O', 'O', 'O', 'O'], ['BR', 'IR', 'IR', 'IR', 'IR', 'IR', 'O', 'BR', 'IR', 'IR', 'IR', 'O'], ['O', 'O', 'O', 'O', 'O', 'O', 'O', 'O', 'BR', 'IR', 'O'], ['BR', 'IR', 'IR', 'IR', 'IR', 'IR', 'O', 'O', 'O', 'O', 'O', 'O', 'O', 'O', 'O', 'O'], ['BR', 'IR', 'IR', 'IR', 'IR', 'IR', 'IR', 'IR', 'O', 'O', 'O', 'BR', 'IR', 'IR'], ['O', 'O', 'O', 'BR', 'IR', 'IR', 'IR', 'IR', 'IR', 'IR', 'IR'], ['O', 'O', 'O', 'BR', 'IR', 'IR', 'IR', 'IR', 'IR', 'IR', 'IR', 'O'], ['O', 'O', 'O', 'BR', 'IR', 'IR', 'IR', 'IR', 'IR', 'IR', 'IR', 'IR', 'IR', 'IR', 'IR'], ['BR', 'IR', 'IR', 'IR', 'IR', 'IR', 'O', 'O', 'O', 'O', 'O', 'O', 'O', 'O'], ['BR', 'IR', 'IR', 'IR', 'IR', 'O', 'O', 'O', 'O', 'O', 'O', 'O', 'O', 'O', 'O', 'O'], ['O', 'O', 'BR', 'IR', 'O', 'O', 'O', 'O', 'O', 'O'], ['O', 'O', 'O', 'O', 'O', 'O', 'BR', 'IR', 'IR', 'IR', 'O', 'O'], ['BR', 'IR', 'O', 'O', 'O', 'O', 'O', 'O', 'O', 'O', 'O', 'O', 'O', 'O', 'O', 'O'], ['O', 'O', 'O', 'BR', 'IR', 'IR', 'IR', 'IR', 'O', 'O', 'O', 'O', 'O', 'O'], ['O', 'BR', 'IR', 'IR', 'IR', 'IR', 'O', 'O', 'O', 'O', 'O', 'O'], ['O', 'O', 'O', 'BR', 'IR', 'O', 'O', 'O', 'O', 'O', 'O', 'O'], ['O', 'O', 'O', 'O', 'O', 'O', 'BR', 'IR', 'IR', 'O', 'O', 'O', 'O', 'O'], ['BR', 'IR', 'IR', 'IR', 'O', 'O', 'O', 'O', 'O', 'O', 'O', 'O', 'O', 'O', 'O', 'O', 'O', 'O'], ['O', 'O', 'BR', 'IR', 'IR', 'O', 'O', 'O', 'O', 'O', 'O', 'O'], ['O', 'O', 'O', 'O', 'O', 'O', 'BR', 'IR', 'IR', 'IR', 'IR', 'O'], ['O', 'O', 'O', 'O', 'O', 'O', 'BR', 'IR', 'IR', 'IR', 'IR', 'O', 'O', 'O'], ['BR', 'IR', 'IR', 'IR', 'IR', 'O', 'O', 'O', 'O', 'O', 'O', 'O'], ['O', 'O', 'BR', 'IR', 'IR', 'IR', 'IR', 'IR', 'IR', 'IR', 'IR', 'IR', 'IR', 'IR', 'O', 'BR', 'IR', 'IR', 'IR', 'IR', 'IR'], ['O', 'O', 'O', 'O', 'BR', 'IR', 'IR', 'O', 'O', 'O', 'O', 'O', 'O', 'O', 'O', 'O'], ['O', 'BR', 'IR', 'IR', 'IR', 'IR', 'IR', 'IR', 'IR', 'IR', 'IR'], ['BR', 'IR', 'IR', 'IR', 'IR', 'IR', 'IR', 'IR', 'IR', 'IR', 'IR', 'IR', 'IR', 'IR', 'IR', 'IR', 'IR', 'IR'], ['BR', 'IR', 'IR', 'IR', 'IR', 'IR', 'IR', 'IR', 'IR', 'O', 'O', 'O', 'O', 'BR', 'IR', 'IR', 'IR', 'IR', 'IR'], ['BR', 'IR', 'IR', 'IR', 'IR', 'O', 'O', 'O', 'O', 'O', 'O', 'O', 'O', 'O', 'O'], ['BR', 'IR', 'IR', 'O', 'O', 'O', 'O', 'O'], ['BR', 'IR', 'IR', 'O', 'O', 'O', 'O', 'O', 'O', 'O', 'O', 'O', 'O', 'O'], ['BR', 'IR', 'IR', 'O', 'O', 'O', 'O', 'O', 'O', 'O'], ['O', 'O', 'O', 'BR', 'IR', 'IR', 'IR', 'IR', 'O', 'O', 'O'], ['O', 'O', 'BR', 'IR', 'IR', 'IR', 'IR', 'IR', 'IR', 'IR', 'IR', 'IR', 'IR', 'IR', 'IR', 'IR', 'IR', 'IR', 'IR', 'IR', 'O'], ['BR', 'IR', 'IR', 'IR', 'IR', 'O', 'O', 'O', 'O', 'O', 'O', 'O', 'BR', 'IR', 'IR', 'IR'], ['O', 'O', 'O', 'BR', 'IR', 'IR', 'IR', 'IR', 'IR', 'O', 'O'], ['O', 'BR', 'IR', 'IR', 'IR', 'O', 'O', 'O', 'O', 'O', 'O'], ['O', 'BR', 'IR', 'IR', 'IR', 'IR', 'IR', 'O', 'O', 'BR', 'IR', 'IR'], ['O', 'O', 'BR', 'IR', 'IR', 'IR', 'IR', 'IR', 'IR', 'O', 'O', 'BR', 'IR', 'IR', 'IR'], ['O', 'BR', 'IR', 'IR', 'IR', 'IR', 'IR', 'IR', 'O', 'O', 'O', 'BR'], ['O', 'O', 'BR', 'IR', 'IR', 'O', 'O', 'O', 'O', 'O', 'O', 'O', 'O', 'O', 'O', 'O'], ['BR', 'IR', 'IR', 'IR', 'O', 'O', 'O', 'O', 'O'], ['O', 'O', 'O', 'O', 'BR', 'IR', 'IR', 'IR', 'IR', 'IR', 'IR', 'IR', 'IR', 'IR', 'IR', 'IR', 'IR', 'IR', 'IR', 'IR', 'IR'], ['O', 'O', 'BR', 'O', 'O', 'O', 'O', 'O', 'O', 'O', 'BR', 'IR', 'IR', 'O', 'O'], ['O', 'O', 'O', 'O', 'O', 'O', 'O', 'O', 'BR', 'O', 'BR', 'O', 'O', 'O', 'O', 'O', 'O'], ['O', 'BR', 'IR', 'IR', 'IR', 'O', 'BR', 'IR', 'IR', 'IR', 'IR', 'IR', 'IR', 'IR', 'IR'], ['BR', 'O', 'O', 'O', 'O'], ['O', 'O', 'O', 'O', 'BR', 'IR', 'IR', 'IR', 'IR', 'IR', 'IR', 'O', 'O', 'O', 'O', 'O'], ['O', 'O', 'O', 'O', 'O', 'O', 'O', 'O', 'O', 'O', 'BR', 'IR', 'IR', 'IR', 'O'], ['O', 'O', 'O', 'O', 'BR', 'IR', 'IR', 'O', 'O', 'O', 'O', 'O', 'O', 'O', 'O', 'O', 'O', 'O', 'O', 'O'], ['O', 'O', 'O', 'BR', 'IR', 'IR', 'IR', 'O', 'O', 'O', 'O'], ['BR', 'IR', 'IR', 'IR', 'IR', 'IR', 'IR', 'IR', 'IR', 'IR', 'IR', 'IR', 'O', 'O', 'O', 'O', 'O'], ['O', 'O', 'O', 'O', 'O', 'O', 'O', 'O', 'O', 'BR', 'IR', 'IR', 'IR', 'O'], ['O', 'O', 'BR', 'IR', 'IR', 'IR', 'IR', 'O'], ['O', 'O', 'O', 'O', 'O', 'O', 'BR', 'IR', 'IR', 'IR', 'IR', 'IR', 'IR', 'IR', 'O'], ['O', 'BR', 'IR', 'IR', 'IR', 'IR', 'IR', 'O', 'BR', 'O', 'O', 'O', 'O', 'BR', 'IR', 'IR', 'IR', 'IR', 'IR', 'IR', 'O', 'BR', 'IR', 'IR'], ['BR', 'IR', 'IR', 'IR', 'O', 'O', 'O', 'O', 'O', 'O', 'O', 'O', 'O', 'O', 'O', 'O', 'O'], ['O', 'O', 'O', 'O', 'O', 'O', 'O', 'O', 'O', 'BR', 'IR', 'IR', 'O', 'O', 'O'], ['O', 'BR', 'IR', 'IR', 'IR', 'IR', 'IR', 'IR', 'IR', 'O', 'O', 'O', 'O', 'O', 'O', 'O', 'O'], ['BR', 'IR', 'IR', 'IR', 'IR', 'O', 'O', 'O', 'O', 'O', 'O', 'O'], ['O', 'O', 'O', 'O', 'O', 'O', 'BR', 'IR', 'IR', 'O'], ['O', 'BR', 'IR', 'IR', 'O', 'O', 'O', 'O', 'O', 'O', 'O', 'O', 'O', 'O', 'O', 'O'], ['O', 'O', 'O', 'O', 'O', 'O', 'O', 'O', 'BR', 'IR', 'IR', 'O', 'O', 'O', 'O', 'O', 'O', 'O', 'O', 'O', 'O', 'O'], ['O', 'O', 'O', 'BR', 'IR', 'IR', 'IR', 'IR', 'IR', 'IR', 'IR', 'IR', 'IR', 'IR', 'O'], ['O', 'O', 'BR', 'IR', 'O', 'O', 'O', 'O', 'O', 'O', 'O', 'O', 'O', 'O', 'O', 'BR', 'O', 'O'], ['O', 'BR', 'IR', 'IR', 'IR', 'IR', 'IR', 'IR', 'IR', 'IR', 'IR', 'IR', 'IR', 'IR', 'IR', 'IR', 'IR', 'IR'], ['O', 'BR', 'IR', 'IR', 'O', 'BR', 'IR', 'IR', 'IR', 'IR', 'IR', 'IR', 'IR', 'IR', 'IR', 'IR', 'IR', 'IR', 'IR', 'IR'], ['O', 'BR', 'IR', 'IR', 'IR', 'O', 'O', 'O', 'O', 'O', 'O', 'O', 'O', 'O', 'O', 'O', 'O', 'O', 'O', 'O', 'O', 'O', 'O'], ['BR', 'IR', 'IR', 'O', 'O', 'O', 'O', 'O', 'O', 'O', 'O'], ['O', 'O', 'O', 'O', 'BR', 'IR', 'O', 'O', 'O', 'O', 'O', 'O', 'O', 'O', 'O', 'O', 'O'], ['O', 'O', 'O', 'BR', 'IR', 'IR', 'IR', 'IR', 'IR', 'IR', 'IR', 'IR', 'IR', 'O'], ['O', 'O', 'O', 'O', 'O', 'O', 'O', 'BR', 'IR', 'IR', 'IR', 'IR', 'O'], ['BR', 'IR', 'IR', 'IR', 'O', 'O', 'O', 'O', 'O', 'O', 'O', 'O', 'O', 'O', 'O', 'O', 'O', 'O', 'O', 'O', 'O'], ['BR', 'IR', 'IR', 'IR', 'IR', 'IR', 'IR', 'IR', 'IR', 'IR', 'IR', 'IR', 'IR', 'IR'], ['O', 'O', 'O', 'O', 'O', 'O', 'O', 'O', 'O', 'BR', 'IR', 'IR', 'IR', 'IR', 'O'], ['O', 'O', 'O', 'O', 'O', 'O', 'O', 'O', 'BR', 'IR', 'IR', 'IR', 'IR', 'IR', 'IR'], ['O', 'BR', 'IR', 'IR', 'O', 'O', 'O', 'O', 'O', 'O', 'O'], ['BR', 'IR', 'IR', 'IR', 'O', 'O', 'O', 'O', 'O', 'O', 'O', 'O', 'O', 'O', 'BR', 'IR', 'IR', 'IR', 'IR', 'IR', 'IR', 'IR', 'IR', 'IR', 'IR', 'IR', 'IR', 'IR', 'IR', 'IR'], ['BR', 'IR', 'IR', 'O', 'O', 'O', 'O', 'O', 'O', 'O', 'O'], ['O', 'BR', 'O', 'BR', 'IR', 'IR', 'IR', 'IR', 'IR', 'IR', 'IR', 'O', 'BR', 'IR', 'IR', 'IR', 'IR', 'IR', 'IR', 'IR'], ['O', 'O', 'BR', 'IR', 'IR', 'IR', 'O', 'O', 'O', 'O', 'O', 'O', 'O', 'O', 'O', 'O'], ['O', 'O', 'BR', 'IR', 'IR', 'IR', 'IR', 'O', 'O', 'O', 'O', 'O', 'O', 'O'], ['O', 'O', 'O', 'BR', 'IR', 'IR', 'IR', 'O', 'O', 'O', 'O', 'O', 'O', 'O'], ['BR', 'IR', 'O', 'O', 'O', 'O', 'O', 'O', 'O', 'O', 'O', 'BR', 'IR', 'O'], ['BR', 'IR', 'IR', 'IR', 'IR', 'IR', 'IR', 'IR', 'O', 'O', 'O', 'O', 'O', 'O', 'O'], ['BR', 'IR', 'IR', 'IR', 'IR', 'IR', 'IR', 'IR', 'IR', 'IR', 'O', 'O', 'O', 'O', 'O', 'O', 'O', 'O', 'O'], ['BR', 'IR', 'IR', 'IR', 'IR', 'IR', 'IR', 'IR', 'IR', 'IR', 'IR', 'O', 'O', 'BR', 'IR', 'IR', 'IR', 'IR', 'IR', 'IR'], ['BR', 'IR', 'IR', 'IR', 'O', 'O', 'O', 'O', 'O', 'O', 'O', 'O', 'O', 'O'], ['O', 'BR', 'IR', 'IR', 'O', 'O', 'O', 'O', 'O', 'O'], ['O', 'O', 'BR', 'IR', 'IR', 'O', 'O', 'O', 'O', 'O', 'O', 'O', 'O', 'O', 'O'], ['BR', 'IR', 'IR', 'IR', 'O', 'O', 'O', 'O', 'O', 'O', 'O', 'O', 'O', 'O', 'O', 'O', 'O'], ['BR', 'IR', 'IR', 'IR', 'O', 'O', 'O', 'O', 'O', 'O'], ['O', 'O', 'O', 'O', 'BR', 'IR', 'IR', 'O', 'O', 'O', 'O', 'O'], ['BR', 'IR', 'IR', 'IR', 'O', 'O', 'O', 'O', 'O', 'O', 'O', 'O'], ['O', 'O', 'BR', 'IR', 'IR', 'O', 'O', 'O', 'O', 'O', 'O', 'O', 'O', 'O', 'O', 'O', 'O', 'O'], ['O', 'O', 'O', 'O', 'O', 'BR', 'IR', 'IR', 'IR', 'IR', 'IR', 'IR', 'IR', 'IR', 'O', 'O', 'O', 'O', 'O', 'O', 'O'], ['BR', 'IR', 'IR', 'IR', 'IR', 'O', 'O', 'O', 'O', 'O', 'O', 'O', 'O', 'O'], ['BR', 'IR', 'IR', 'O', 'O', 'O', 'O', 'O', 'O', 'O', 'O', 'O'], ['O', 'O', 'O', 'O', 'O', 'O', 'O', 'BR', 'IR', 'IR', 'IR', 'IR', 'IR', 'IR', 'IR', 'IR', 'IR', 'IR', 'IR', 'IR', 'IR', 'IR', 'IR', 'IR', 'IR', 'IR'], ['O', 'O', 'BR', 'IR', 'IR', 'IR', 'IR', 'IR', 'O', 'O', 'O', 'O', 'O', 'O', 'O', 'O'], ['O', 'O', 'O', 'O', 'O', 'BR', 'IR', 'IR', 'IR', 'IR', 'IR', 'IR', 'O'], ['O', 'O', 'O', 'BR', 'IR', 'IR', 'O', 'O', 'O', 'O', 'O', 'O'], ['BR', 'IR', 'O', 'O', 'O', 'O', 'O', 'O', 'O', 'O', 'O', 'O', 'O', 'O', 'O'], ['BR', 'IR', 'IR', 'O', 'O', 'O', 'O', 'O', 'O', 'O', 'O', 'O', 'O', 'O'], ['O', 'O', 'O', 'O', 'O', 'O', 'BR', 'IR', 'IR', 'IR', 'IR', 'IR', 'IR', 'IR', 'O', 'O'], ['O', 'BR', 'IR', 'IR', 'IR', 'IR', 'IR', 'IR', 'IR', 'IR', 'IR', 'IR', 'IR', 'IR', 'IR', 'IR', 'IR', 'IR', 'IR', 'IR', 'IR', 'IR', 'IR', 'IR'], ['BR', 'IR', 'IR', 'IR', 'O', 'O', 'O', 'O', 'O', 'O', 'O', 'O', 'O'], ['O', 'O', 'O', 'O', 'O', 'BR', 'IR', 'IR', 'IR', 'IR', 'IR', 'IR', 'O', 'O', 'O', 'O'], ['O', 'O', 'BR', 'O', 'O', 'O', 'O', 'O', 'BR', 'IR', 'O', 'O', 'O', 'O'], ['O', 'BR', 'IR', 'IR', 'IR', 'IR', 'O', 'O', 'BR', 'IR', 'IR', 'IR', 'O', 'O', 'O', 'O', 'O', 'O', 'O'], ['BR', 'IR', 'O', 'O', 'O', 'O', 'O', 'O', 'O', 'O'], ['O', 'O', 'O', 'O', 'O', 'O', 'O', 'O', 'BR', 'IR', 'IR', 'IR', 'O', 'O', 'O'], ['O', 'BR', 'O', 'O', 'O', 'BR', 'IR', 'IR', 'IR', 'IR', 'IR', 'O', 'O', 'O'], ['O', 'O', 'O', 'O', 'O', 'O', 'BR', 'IR', 'IR', 'IR', 'IR', 'IR', 'O'], ['O', 'O', 'O', 'O', 'O', 'O', 'O', 'BR', 'IR', 'IR', 'O', 'O', 'O', 'O'], ['O', 'BR', 'IR', 'IR', 'IR', 'O', 'BR', 'IR', 'IR'], ['O', 'O', 'O', 'BR', 'IR', 'IR', 'IR', 'O', 'O', 'O', 'O', 'O', 'O'], ['O', 'BR', 'IR', 'IR', 'O', 'O', 'O', 'O', 'O', 'O'], ['O', 'BR', 'IR', 'IR', 'IR', 'IR', 'IR', 'IR', 'IR', 'IR', 'O', 'O', 'O', 'O', 'O', 'O', 'O', 'O', 'O', 'O', 'O', 'O', 'O', 'O'], ['BR', 'IR', 'IR', 'IR', 'IR', 'IR', 'O', 'O', 'O', 'O', 'O'], ['O', 'BR', 'IR', 'IR', 'O', 'O', 'O', 'O', 'O', 'O', 'O', 'O'], ['O', 'BR', 'IR', 'IR', 'O', 'O', 'O', 'O', 'O', 'O', 'O', 'O', 'O', 'O', 'O'], ['O', 'O', 'O', 'O', 'O', 'O', 'O', 'O', 'O', 'BR', 'IR', 'IR', 'IR', 'O', 'O', 'O'], ['BR', 'IR', 'IR', 'O', 'O', 'O', 'O', 'O', 'O', 'O', 'O', 'O', 'O', 'O', 'O', 'O', 'O', 'BR', 'IR', 'IR', 'IR', 'IR'], ['BR', 'IR', 'IR', 'IR', 'IR', 'IR', 'IR', 'IR', 'IR', 'IR', 'IR', 'IR', 'IR'], ['BR', 'IR', 'IR', 'IR', 'IR', 'O', 'O', 'O', 'O', 'O', 'O', 'O', 'O', 'O', 'O', 'O', 'O', 'O', 'O', 'O'], ['O', 'O', 'O', 'O', 'O', 'O', 'O', 'O', 'BR', 'IR', 'IR', 'O', 'O', 'O', 'O', 'O'], ['BR', 'IR', 'IR', 'IR', 'O', 'O', 'O', 'O', 'O', 'O'], ['BR', 'IR', 'IR', 'IR', 'IR', 'O', 'O', 'O', 'O', 'O', 'O', 'O'], ['BR', 'IR', 'IR', 'O', 'O', 'O', 'O', 'O', 'O', 'O', 'O', 'O', 'O', 'O', 'O', 'O'], ['BR', 'IR', 'IR', 'O', 'O', 'O', 'O', 'O', 'O', 'O', 'O', 'O', 'O', 'O', 'O', 'O', 'O', 'O', 'O'], ['O', 'O', 'O', 'O', 'O', 'BR', 'IR', 'O', 'O', 'O', 'O', 'O', 'O', 'O', 'O', 'O', 'O', 'O', 'O', 'O', 'O', 'O'], ['O', 'O', 'O', 'O', 'O', 'O', 'O', 'O', 'O', 'O', 'O', 'O', 'O', 'BR', 'IR', 'IR', 'IR', 'IR', 'O', 'O', 'O'], ['BR', 'IR', 'IR', 'IR', 'O', 'O', 'O', 'O', 'O', 'O', 'O', 'O'], ['BR', 'IR', 'IR', 'O', 'O', 'O', 'O', 'O', 'O', 'O', 'O', 'O', 'O'], ['O', 'O', 'O', 'BR', 'IR', 'IR', 'IR', 'IR', 'IR', 'IR', 'IR', 'IR', 'O', 'O', 'O', 'O', 'O', 'O', 'O', 'O', 'O', 'O'], ['BR', 'IR', 'IR', 'O', 'O', 'O', 'O', 'O', 'O', 'O', 'O', 'O', 'O', 'O', 'O'], ['BR', 'IR', 'IR', 'IR', 'IR', 'IR', 'IR', 'IR', 'IR', 'IR', 'IR', 'IR', 'IR', 'IR', 'IR', 'IR', 'IR'], ['BR', 'IR', 'IR', 'IR', 'IR', 'IR', 'O', 'O', 'O', 'O', 'O', 'O', 'O', 'O', 'O', 'O', 'O', 'O'], ['O', 'O', 'BR', 'IR', 'IR', 'O', 'O', 'O', 'O', 'O', 'O', 'O', 'O', 'O', 'O'], ['BR', 'IR', 'IR', 'O', 'O', 'O', 'O', 'O', 'O', 'O', 'O', 'O'], ['O', 'BR', 'IR', 'IR', 'IR', 'IR', 'O', 'O', 'O', 'O', 'O'], ['O', 'BR', 'IR', 'IR', 'O', 'O', 'O', 'O', 'O'], ['O', 'O', 'BR', 'IR', 'IR', 'IR', 'O', 'O', 'O', 'O', 'O', 'O', 'O', 'O', 'O', 'O'], ['O', 'O', 'BR', 'IR', 'IR', 'IR', 'IR', 'IR', 'O', 'O', 'O', 'O', 'O', 'O', 'O', 'O', 'O', 'O', 'O', 'O', 'O', 'O', 'O'], ['BR', 'IR', 'IR', 'IR', 'IR', 'IR', 'IR', 'IR', 'IR', 'IR', 'IR', 'IR', 'IR', 'IR', 'IR', 'IR', 'IR', 'IR', 'IR'], ['O', 'BR', 'IR', 'IR', 'IR', 'IR', 'IR', 'IR', 'IR', 'IR', 'IR', 'O', 'O', 'O', 'O', 'O'], ['O', 'BR', 'IR', 'IR', 'O', 'O', 'O', 'O', 'O', 'O', 'O', 'O'], ['O', 'O', 'O', 'BR', 'IR', 'IR', 'IR', 'O', 'O', 'O', 'O'], ['BR', 'IR', 'IR', 'IR', 'O', 'O', 'O', 'O', 'O', 'O', 'O', 'O'], ['O', 'O', 'O', 'O', 'O', 'O', 'O', 'BR', 'IR', 'IR', 'IR', 'O', 'O', 'O', 'O', 'O', 'O'], ['O', 'BR', 'IR', 'IR', 'O', 'O', 'O', 'O', 'O', 'O', 'BR', 'IR', 'IR', 'IR', 'IR', 'IR', 'IR', 'IR'], ['O', 'BR', 'IR', 'IR', 'IR', 'IR', 'IR', 'O', 'BR', 'IR', 'IR', 'IR', 'IR', 'IR', 'O', 'BR', 'IR', 'IR'], ['O', 'O', 'BR', 'O', 'O', 'BR', 'IR', 'IR', 'O', 'O'], ['O', 'BR', 'IR', 'IR', 'IR', 'O', 'O', 'O', 'O', 'O', 'O', 'O', 'O', 'O', 'O', 'O', 'O'], ['O', 'O', 'O', 'O', 'O', 'O', 'O', 'O', 'O', 'O', 'O', 'O', 'BR', 'IR', 'IR', 'IR', 'IR', 'IR', 'IR', 'O', 'O'], ['O', 'O', 'O', 'O', 'O', 'O', 'O', 'O', 'BR', 'IR', 'IR', 'IR', 'IR', 'IR', 'IR', 'IR', 'O', 'O', 'O', 'O'], ['BR', 'IR', 'IR', 'IR', 'IR', 'O', 'O', 'O', 'O', 'O', 'O', 'O', 'O', 'O', 'O', 'O'], ['BR', 'IR', 'IR', 'IR', 'O', 'O', 'O', 'O', 'O', 'O', 'BR', 'IR', 'IR', 'IR', 'IR', 'IR', 'IR', 'IR', 'IR', 'IR', 'IR', 'IR', 'IR', 'IR', 'IR'], ['BR', 'IR', 'O', 'O', 'O', 'O', 'O', 'O', 'O', 'O', 'O', 'O'], ['BR', 'IR', 'IR', 'IR', 'IR', 'O', 'O', 'O', 'O', 'O', 'O', 'O', 'O', 'O', 'O', 'O', 'O', 'O', 'O', 'O', 'O', 'O', 'O'], ['O', 'BR', 'IR', 'IR', 'IR', 'IR', 'IR', 'IR', 'IR', 'O', 'O', 'O', 'O', 'O', 'O', 'O', 'O', 'O'], ['BR', 'IR', 'O', 'O', 'O', 'O', 'O', 'O', 'O', 'O', 'O', 'BR', 'IR', 'IR'], ['BR', 'IR', 'IR', 'IR', 'O', 'O', 'O', 'O', 'O', 'O', 'O', 'O', 'O'], ['O', 'O', 'O', 'BR', 'IR', 'IR', 'O', 'O', 'O', 'O', 'O', 'O', 'O', 'O', 'O', 'O'], ['BR', 'IR', 'IR', 'IR', 'IR', 'O', 'O', 'O', 'O', 'O', 'O', 'O', 'O', 'O'], ['O', 'BR', 'IR', 'IR', 'IR', 'IR', 'IR', 'IR', 'IR', 'IR', 'IR', 'IR', 'IR', 'IR', 'O', 'BR', 'IR', 'IR'], ['O', 'BR', 'IR', 'IR', 'IR', 'IR', 'IR', 'IR', 'IR', 'IR', 'IR', 'IR', 'IR', 'IR', 'IR', 'IR'], ['O', 'O', 'O', 'O', 'O', 'O', 'BR', 'IR', 'IR', 'O', 'O', 'O'], ['O', 'O', 'O', 'O', 'O', 'O', 'O', 'O', 'O', 'BR', 'IR', 'O'], ['O', 'BR', 'IR', 'IR', 'IR', 'IR', 'IR', 'IR', 'IR', 'IR', 'IR', 'O'], ['O', 'BR', 'IR', 'IR', 'O', 'O', 'O', 'O', 'O', 'O', 'O', 'O', 'O', 'O', 'O'], ['BR', 'IR', 'IR', 'IR', 'O', 'O', 'O', 'O', 'O', 'O', 'O', 'O'], ['BR', 'IR', 'IR', 'IR', 'O', 'O', 'O', 'O', 'O', 'O', 'O', 'O', 'O', 'O', 'O', 'O'], ['BR', 'IR', 'IR', 'IR', 'IR', 'O', 'O', 'O', 'O', 'O', 'O', 'O', 'O', 'O'], ['O', 'O', 'BR', 'IR', 'IR', 'IR', 'IR', 'IR', 'IR', 'IR', 'IR', 'O', 'O', 'O', 'O'], ['BR', 'IR', 'O', 'O', 'O', 'O', 'O', 'O'], ['O', 'O', 'O', 'O', 'O', 'BR', 'IR', 'IR', 'IR', 'IR', 'IR', 'O'], ['BR', 'IR', 'IR', 'O', 'O', 'O', 'O', 'O', 'O', 'O'], ['O', 'O', 'O', 'BR', 'IR', 'IR', 'IR', 'IR', 'IR', 'IR', 'O', 'O', 'O'], ['O', 'O', 'O', 'O', 'O', 'O', 'BR', 'IR', 'IR', 'O', 'O', 'O', 'O'], ['O', 'O', 'O', 'BR', 'IR', 'IR', 'IR', 'O', 'O', 'O', 'O'], ['BR', 'IR', 'O', 'O', 'O', 'O', 'O', 'O'], ['O', 'O', 'O', 'O', 'O', 'O', 'O', 'O', 'BR', 'IR', 'IR', 'IR', 'IR', 'IR', 'IR', 'O'], ['BR', 'IR', 'IR', 'IR', 'IR', 'O', 'O', 'O', 'O', 'O', 'O', 'O', 'O', 'O', 'O'], ['O', 'O', 'BR', 'IR', 'IR', 'IR', 'IR', 'IR', 'O', 'O', 'O', 'O', 'O', 'O'], ['O', 'O', 'O', 'O', 'O', 'O', 'O', 'BR', 'IR', 'IR', 'IR', 'O'], ['BR', 'IR', 'O', 'O', 'O', 'O', 'O', 'O', 'O', 'O', 'O', 'O', 'O'], ['O', 'O', 'O', 'O', 'O', 'O', 'O', 'BR', 'IR', 'IR', 'IR', 'IR', 'IR', 'IR', 'IR', 'IR', 'IR', 'IR', 'O', 'O'], ['O', 'BR', 'IR', 'IR', 'IR', 'IR', 'IR', 'IR', 'IR', 'O', 'O', 'O', 'O', 'O', 'O', 'O', 'O', 'BR', 'IR', 'IR', 'IR', 'IR', 'IR'], ['O', 'O', 'BR', 'IR', 'IR', 'O', 'O', 'O', 'O', 'O', 'O'], ['BR', 'IR', 'IR', 'IR', 'IR', 'IR', 'O', 'O', 'O', 'O', 'O', 'O', 'O', 'O', 'O'], ['BR', 'IR', 'IR', 'IR', 'O', 'O', 'O', 'O', 'O', 'O', 'O', 'O', 'O', 'O', 'O', 'O', 'O', 'O', 'O', 'O'], ['O', 'BR', 'IR', 'IR', 'IR', 'IR', 'IR', 'IR', 'IR', 'IR', 'IR', 'IR', 'IR', 'IR', 'IR'], ['O', 'O', 'BR', 'IR', 'O', 'O', 'O', 'O', 'O', 'O', 'O', 'O', 'O', 'O', 'O'], ['BR', 'IR', 'IR', 'O', 'O', 'O', 'O', 'O', 'O', 'O', 'O', 'O', 'O'], ['BR', 'IR', 'O', 'O', 'O', 'O', 'O', 'O', 'O', 'O'], ['O', 'O', 'O', 'BR', 'IR', 'IR', 'O', 'O', 'O', 'O', 'O', 'O', 'O', 'O'], ['O', 'O', 'BR', 'IR', 'IR', 'IR', 'IR', 'IR', 'IR', 'IR', 'O', 'O', 'O', 'O', 'O', 'O', 'O', 'O', 'O'], ['O', 'O', 'O', 'O', 'O', 'O', 'O', 'O', 'BR', 'IR', 'IR', 'IR', 'IR', 'IR', 'IR', 'IR', 'IR', 'IR', 'O', 'BR', 'IR'], ['BR', 'IR', 'IR', 'IR', 'IR', 'O', 'O', 'O', 'O', 'O', 'O', 'O', 'O', 'O', 'O'], ['O', 'O', 'O', 'O', 'O', 'O', 'O', 'BR', 'IR', 'IR', 'IR', 'IR', 'IR', 'IR', 'IR', 'IR', 'IR', 'IR', 'IR', 'IR', 'IR', 'IR'], ['BR', 'IR', 'O', 'O', 'O', 'O', 'O', 'O', 'O', 'O', 'BR', 'IR', 'IR', 'IR', 'O', 'O', 'O', 'O'], ['O', 'BR', 'IR', 'O', 'O', 'O', 'O', 'O', 'O', 'O', 'O', 'O', 'O', 'O'], ['O', 'BR', 'IR', 'IR', 'IR', 'O', 'O', 'O', 'O', 'O', 'O', 'O'], ['O', 'O', 'BR', 'IR', 'IR', 'IR', 'IR', 'O', 'O', 'BR', 'IR', 'IR', 'IR', 'IR', 'IR', 'IR', 'IR'], ['O', 'O', 'O', 'BR', 'IR', 'O', 'O', 'O', 'BR', 'IR', 'IR', 'IR'], ['O', 'O', 'O', 'O', 'O', 'BR', 'IR', 'IR', 'IR', 'O', 'BR', 'O', 'O', 'O', 'O', 'O', 'O'], ['O', 'BR', 'IR', 'IR', 'IR', 'O', 'O', 'O', 'O', 'O', 'O', 'O', 'O', 'O', 'O', 'O'], ['O', 'O', 'O', 'BR', 'IR', 'IR', 'IR', 'IR', 'IR', 'O', 'O', 'O', 'O', 'O', 'O'], ['O', 'O', 'O', 'BR', 'IR', 'IR', 'O', 'BR', 'IR', 'IR', 'IR', 'IR', 'IR', 'IR', 'IR'], ['O', 'BR', 'IR', 'IR', 'O', 'O', 'O', 'O', 'O', 'O', 'O', 'O', 'O', 'O', 'O', 'O'], ['O', 'BR', 'IR', 'IR', 'IR', 'IR', 'IR', 'IR', 'IR', 'IR', 'IR', 'IR', 'IR', 'IR'], ['O', 'O', 'O', 'BR', 'IR', 'IR', 'O', 'O', 'O', 'O', 'O', 'O'], ['O', 'O', 'O', 'O', 'O', 'BR', 'IR', 'IR', 'IR', 'IR', 'O', 'O', 'O', 'O', 'O', 'O'], ['BR', 'IR', 'IR', 'IR', 'O', 'O', 'O', 'O', 'O', 'O', 'O', 'O', 'O', 'O'], ['O', 'O', 'O', 'O', 'O', 'O', 'O', 'O', 'O', 'BR', 'IR', 'IR', 'IR', 'O', 'O'], ['O', 'BR', 'IR', 'IR', 'O', 'O', 'O', 'O', 'O', 'O', 'O'], ['O', 'O', 'O', 'BR', 'IR', 'IR', 'O', 'O', 'O', 'O', 'O', 'O'], ['O', 'O', 'O', 'O', 'O', 'O', 'O', 'O', 'O', 'O', 'O', 'BR', 'IR', 'IR', 'IR', 'IR', 'IR', 'O'], ['BR', 'IR', 'IR', 'IR', 'O', 'O', 'O', 'O', 'O', 'O', 'O', 'O'], ['O', 'BR', 'IR', 'IR', 'O', 'O', 'O', 'O', 'O', 'O', 'O', 'O', 'O', 'O', 'O'], ['O', 'O', 'O', 'O', 'BR', 'IR', 'IR', 'O', 'O', 'O', 'O', 'O'], ['BR', 'IR', 'O', 'O', 'O', 'O', 'O', 'O', 'O'], ['BR', 'IR', 'IR', 'IR', 'IR', 'IR', 'O', 'BR', 'IR', 'O', 'O', 'O', 'O', 'O'], ['O', 'O', 'O', 'BR', 'IR', 'IR', 'IR', 'IR', 'IR', 'IR', 'IR', 'IR', 'IR', 'IR', 'IR'], ['O', 'BR', 'IR', 'IR', 'IR', 'IR', 'IR', 'IR', 'IR', 'O', 'O', 'O', 'O', 'O', 'O', 'O', 'O', 'O', 'O'], ['O', 'BR', 'IR', 'IR', 'IR', 'O', 'O', 'O', 'O', 'O', 'O'], ['O', 'O', 'O', 'O', 'O', 'BR', 'IR', 'IR', 'O', 'O'], ['O', 'O', 'O', 'O', 'O', 'O', 'O', 'BR', 'IR', 'IR', 'O', 'O', 'O', 'O'], ['O', 'O', 'O', 'O', 'O', 'O', 'O', 'BR', 'IR', 'IR', 'IR', 'O'], ['BR', 'IR', 'IR', 'IR', 'IR', 'IR', 'IR', 'O', 'O', 'O', 'O', 'O', 'O', 'O', 'O', 'O', 'O', 'O'], ['O', 'O', 'O', 'O', 'O', 'O', 'BR', 'IR', 'IR', 'IR', 'IR', 'IR', 'IR', 'IR', 'IR', 'O'], ['O', 'O', 'O', 'BR', 'IR', 'O', 'O', 'O', 'O', 'O'], ['O', 'O', 'O', 'BR', 'IR', 'IR', 'IR', 'O', 'O', 'O'], ['O', 'O', 'O', 'O', 'BR', 'IR', 'IR', 'IR', 'IR', 'IR', 'IR', 'IR', 'O'], ['BR', 'IR', 'IR', 'IR', 'IR', 'O', 'O', 'BR', 'IR', 'O', 'O', 'BR', 'IR', 'IR', 'IR', 'IR', 'O', 'BR'], ['O', 'BR', 'IR', 'IR', 'IR', 'IR', 'IR', 'IR', 'IR', 'IR', 'IR', 'IR', 'IR', 'IR', 'IR', 'IR', 'O', 'O', 'O', 'O', 'BR', 'O'], ['O', 'BR', 'IR', 'IR', 'IR', 'IR', 'IR', 'IR', 'IR', 'IR', 'IR', 'IR', 'IR', 'IR', 'IR', 'IR'], ['BR', 'IR', 'IR', 'O', 'O', 'O', 'O', 'O'], ['O', 'O', 'O', 'BR', 'IR', 'IR', 'IR', 'O'], ['BR', 'IR', 'IR', 'IR', 'IR', 'IR', 'IR', 'IR', 'IR', 'IR', 'IR', 'IR', 'IR', 'IR'], ['BR', 'IR', 'IR', 'IR', 'IR', 'IR', 'IR', 'IR', 'IR', 'IR', 'IR', 'IR', 'O'], ['O', 'O', 'O', 'BR', 'IR', 'O', 'O', 'O', 'O', 'O', 'O', 'O', 'O'], ['BR', 'IR', 'IR', 'O', 'O', 'O', 'O', 'O', 'O', 'O', 'O', 'O'], ['O', 'O', 'BR', 'IR', 'IR', 'IR', 'IR', 'IR', 'IR', 'IR', 'IR', 'O', 'O', 'O', 'O', 'O'], ['BR', 'IR', 'O', 'O', 'O', 'O', 'O', 'O', 'O', 'O', 'O', 'O'], ['O', 'BR', 'IR', 'O', 'O', 'O', 'O', 'O', 'O', 'O', 'O'], ['O', 'BR', 'IR', 'IR', 'O', 'O', 'O', 'O', 'O', 'O', 'O'], ['BR', 'IR', 'IR', 'IR', 'IR', 'O', 'O', 'O', 'O', 'O', 'O', 'O'], ['O', 'BR', 'IR', 'IR', 'IR', 'O', 'O', 'O', 'O', 'O', 'O', 'O', 'O'], ['BR', 'IR', 'IR', 'IR', 'O', 'O', 'O', 'O', 'O', 'O', 'O', 'O', 'O'], ['O', 'O', 'O', 'O', 'O', 'O', 'BR', 'IR', 'IR', 'IR', 'O', 'O', 'O', 'O'], ['O', 'O', 'O', 'O', 'O', 'O', 'BR', 'IR', 'IR', 'IR', 'IR', 'IR', 'O', 'O'], ['O', 'BR', 'IR', 'IR', 'IR', 'O', 'O', 'O', 'O', 'O', 'O', 'O', 'O', 'O'], ['O', 'O', 'O', 'O', 'BR', 'IR', 'O', 'O', 'O'], ['O', 'O', 'BR', 'IR', 'IR', 'IR', 'O', 'O', 'O', 'O', 'O', 'O'], ['O', 'O', 'O', 'O', 'O', 'O', 'BR', 'IR', 'IR', 'O', 'O', 'O', 'O'], ['O', 'O', 'O', 'O', 'O', 'BR', 'IR', 'IR', 'O', 'O', 'O'], ['BR', 'IR', 'IR', 'IR', 'O', 'O', 'O', 'O', 'O', 'O', 'O', 'O'], ['O', 'O', 'BR', 'IR', 'O', 'O', 'O'], ['O', 'O', 'O', 'O', 'O', 'O', 'O', 'O', 'BR', 'IR', 'IR', 'IR', 'IR', 'IR', 'O'], ['BR', 'IR', 'IR', 'IR', 'IR', 'O', 'O', 'BR'], ['O', 'O', 'BR', 'O', 'O', 'BR', 'O'], ['O', 'O', 'O', 'BR', 'IR', 'IR', 'IR', 'IR', 'IR', 'IR', 'IR'], ['BR', 'IR', 'IR', 'IR', 'O', 'O', 'O', 'O', 'O'], ['O', 'BR', 'IR', 'IR', 'O', 'O', 'O', 'O'], ['O', 'O', 'O', 'O', 'O', 'BR', 'IR', 'IR', 'IR', 'IR', 'O', 'O'], ['O', 'O', 'BR', 'IR', 'IR', 'IR', 'IR', 'O', 'BR', 'IR', 'IR', 'IR'], ['O', 'O', 'O', 'O', 'O', 'O', 'BR', 'IR', 'IR', 'IR', 'IR', 'IR', 'IR', 'IR', 'IR', 'IR', 'IR', 'IR', 'IR', 'O', 'O', 'O', 'O'], ['O', 'O', 'O', 'BR', 'IR', 'IR', 'IR', 'IR', 'IR', 'IR', 'IR', 'IR', 'IR', 'IR', 'O', 'O', 'O', 'O'], ['BR', 'IR', 'IR', 'IR', 'O', 'O', 'O', 'O', 'O'], ['O', 'O', 'O', 'O', 'BR', 'IR', 'IR', 'IR', 'O', 'BR'], ['BR', 'IR', 'IR', 'O', 'O', 'O', 'O', 'O', 'O', 'O', 'O'], ['O', 'O', 'O', 'BR', 'IR', 'IR', 'IR', 'IR', 'IR', 'IR', 'O'], ['O', 'BR', 'IR', 'IR', 'O', 'O', 'O', 'O', 'O', 'O'], ['O', 'O', 'O', 'BR', 'IR', 'IR', 'O', 'O', 'O', 'O', 'O', 'O', 'O', 'O'], ['BR', 'IR', 'IR', 'O', 'O', 'O', 'O', 'O', 'O', 'O'], ['O', 'O', 'BR', 'IR', 'IR', 'O', 'O', 'O', 'O', 'O'], ['BR', 'IR', 'IR', 'IR', 'IR', 'IR', 'IR', 'IR', 'IR', 'IR', 'O', 'O', 'O', 'O', 'O', 'O', 'O', 'O', 'O'], ['BR', 'IR', 'IR', 'IR', 'IR', 'IR', 'IR', 'IR', 'IR', 'IR'], ['O', 'O', 'O', 'O', 'O', 'O', 'O', 'O', 'O', 'O', 'BR', 'IR', 'IR', 'IR', 'IR', 'O'], ['O', 'O', 'O', 'O', 'O', 'O', 'O', 'O', 'O', 'O', 'BR', 'IR', 'IR', 'IR', 'O'], ['O', 'O', 'O', 'O', 'BR', 'IR', 'IR', 'O', 'BR', 'IR'], ['O', 'O', 'BR', 'IR', 'O', 'O', 'O', 'O', 'O', 'O', 'O', 'O'], ['BR', 'IR', 'IR', 'O', 'O', 'O', 'O', 'O', 'O', 'O'], ['BR', 'IR', 'IR', 'O', 'O', 'O', 'O', 'O'], ['BR', 'IR', 'IR', 'IR', 'IR', 'IR', 'IR', 'IR', 'IR', 'IR', 'IR', 'IR', 'IR'], ['O', 'O', 'BR', 'IR', 'IR', 'IR', 'O', 'O', 'O', 'O'], ['BR', 'IR', 'IR', 'IR', 'IR', 'IR', 'O', 'O', 'O', 'O', 'O', 'O', 'O', 'O', 'O', 'O', 'O'], ['O', 'O', 'O', 'O', 'O', 'O', 'BR', 'IR', 'IR', 'IR', 'IR', 'IR', 'IR', 'O'], ['BR', 'IR', 'IR', 'IR', 'O', 'O', 'O', 'O', 'O', 'O', 'O', 'O', 'O'], ['O', 'O', 'O', 'O', 'O', 'O', 'O', 'BR', 'IR', 'IR', 'IR', 'IR', 'IR', 'O'], ['BR', 'IR', 'IR', 'IR', 'IR', 'IR', 'IR', 'O', 'O'], ['BR', 'IR', 'O', 'O', 'O', 'O', 'O', 'O', 'O'], ['O', 'O', 'BR', 'IR', 'IR', 'IR', 'IR', 'IR', 'IR', 'IR', 'IR', 'IR', 'IR'], ['O', 'BR', 'IR', 'IR', 'IR', 'IR', 'IR', 'O', 'O', 'O', 'O', 'O', 'O', 'O'], ['O', 'O', 'O', 'O', 'O', 'O', 'BR', 'IR', 'IR', 'IR', 'IR', 'IR', 'IR', 'IR'], ['O', 'O', 'O', 'O', 'O', 'BR', 'IR', 'IR', 'O'], ['BR', 'IR', 'IR', 'O', 'O', 'O', 'O', 'O', 'O', 'O', 'O'], ['BR', 'IR', 'IR', 'IR', 'O', 'O', 'O', 'O', 'O', 'O', 'O'], ['O', 'O', 'O', 'O', 'BR', 'IR', 'IR', 'IR', 'IR', 'IR', 'IR', 'IR', 'IR', 'IR', 'IR', 'IR', 'O', 'BR', 'IR'], ['BR', 'IR', 'IR', 'IR', 'IR', 'IR', 'O', 'O', 'BR', 'IR', 'IR', 'IR'], ['O', 'BR', 'IR', 'IR', 'IR', 'O', 'O', 'O', 'O', 'O'], ['O', 'O', 'O', 'O', 'O', 'BR', 'IR', 'IR', 'IR', 'IR', 'IR', 'O', 'O'], ['O', 'O', 'O', 'O', 'O', 'O', 'O', 'O', 'BR', 'IR', 'IR', 'IR', 'O', 'O', 'O', 'O', 'O'], ['O', 'BR', 'IR', 'IR', 'IR', 'IR', 'IR', 'O', 'O', 'O', 'O', 'O', 'O'], ['O', 'O', 'O', 'BR', 'IR', 'IR', 'IR', 'IR', 'IR', 'IR', 'IR', 'IR', 'IR', 'IR', 'IR', 'IR', 'IR'], ['O', 'O', 'O', 'O', 'BR', 'IR', 'O', 'BR', 'IR', 'IR', 'IR', 'IR', 'O', 'O', 'BR'], ['BR', 'IR', 'IR', 'IR', 'O', 'O', 'O', 'O', 'O', 'O', 'O', 'O'], ['O', 'O', 'O', 'O', 'O', 'O', 'BR', 'IR', 'IR', 'IR', 'O', 'BR', 'IR', 'O', 'O', 'O', 'O', 'O'], ['BR', 'IR', 'IR', 'O', 'O', 'O', 'O', 'O', 'O', 'O', 'O'], ['BR', 'IR', 'IR', 'IR', 'IR', 'IR', 'O', 'O', 'O', 'O', 'O', 'O', 'O', 'O', 'O', 'O'], ['BR', 'IR', 'IR', 'IR', 'IR', 'IR', 'O', 'BR', 'IR', 'IR', 'IR', 'IR', 'IR', 'IR', 'IR'], ['O', 'BR', 'IR', 'IR', 'IR', 'IR', 'IR', 'IR', 'O', 'O', 'O', 'O', 'O', 'O', 'O', 'O', 'O', 'BR'], ['O', 'O', 'BR', 'IR', 'O', 'O', 'O', 'O'], ['O', 'O', 'O', 'O', 'O', 'O', 'BR', 'IR', 'IR', 'IR', 'IR', 'IR', 'O'], ['O', 'O', 'O', 'O', 'O', 'O', 'O', 'O', 'BR', 'IR', 'IR', 'IR', 'IR', 'IR', 'O'], ['O', 'O', 'O', 'O', 'O', 'O', 'O', 'BR', 'IR', 'IR', 'O'], ['BR', 'IR', 'IR', 'IR', 'IR', 'IR', 'O', 'O', 'O', 'O', 'O', 'O', 'O', 'O'], ['O', 'O', 'O', 'O', 'BR', 'IR', 'IR', 'O', 'O', 'O', 'O'], ['BR', 'IR', 'IR', 'IR', 'O', 'O', 'O', 'O', 'O', 'O', 'O', 'O', 'O', 'O', 'O'], ['O', 'O', 'BR', 'IR', 'IR', 'IR', 'IR', 'IR', 'O', 'O'], ['O', 'O', 'O', 'O', 'BR', 'IR', 'IR', 'O', 'O', 'O', 'O'], ['O', 'O', 'O', 'O', 'O', 'O', 'BR', 'IR', 'IR', 'O', 'O', 'O', 'O', 'O', 'O', 'O', 'O', 'O', 'O'], ['O', 'BR', 'IR', 'IR', 'O', 'O', 'O', 'O', 'O', 'O', 'O'], ['O', 'O', 'O', 'O', 'BR', 'IR', 'IR', 'IR', 'IR', 'IR', 'IR', 'IR', 'IR', 'IR', 'IR'], ['BR', 'IR', 'IR', 'IR', 'IR', 'IR', 'IR', 'O', 'O', 'O', 'O', 'O', 'O'], ['O', 'O', 'O', 'O', 'BR', 'IR', 'IR', 'IR', 'IR', 'IR', 'IR', 'IR', 'IR', 'IR', 'IR', 'IR', 'O', 'O'], ['BR', 'IR', 'IR', 'O', 'O', 'O', 'O', 'O', 'O', 'O', 'O', 'O', 'O'], ['O', 'BR', 'IR', 'IR', 'O', 'O', 'O', 'O', 'O', 'O'], ['O', 'O', 'O', 'O', 'O', 'BR', 'IR', 'IR', 'IR', 'IR', 'IR', 'IR', 'IR', 'IR', 'IR', 'O', 'O', 'O', 'O', 'O', 'O'], ['O', 'O', 'O', 'O', 'O', 'O', 'BR', 'IR', 'IR', 'IR', 'IR', 'O'], ['BR', 'IR', 'IR', 'IR', 'IR', 'IR', 'IR', 'O', 'O', 'O', 'O', 'O', 'O', 'O', 'O', 'BR', 'IR', 'O'], ['O', 'O', 'O', 'O', 'O', 'O', 'O', 'BR', 'IR', 'IR', 'IR', 'IR', 'IR', 'O', 'BR'], ['BR', 'IR', 'IR', 'IR', 'IR', 'O', 'O', 'O', 'O', 'O', 'O'], ['BR', 'IR', 'O', 'O', 'O', 'O', 'O', 'O', 'O', 'O'], ['O', 'BR', 'IR', 'IR', 'IR', 'IR', 'IR', 'IR', 'O', 'O', 'O', 'O'], ['O', 'O', 'BR', 'IR', 'IR', 'IR', 'IR', 'O', 'O', 'O', 'O', 'O', 'O', 'O', 'O', 'O', 'O', 'O', 'O'], ['O', 'O', 'O', 'O', 'O', 'O', 'O', 'BR', 'IR', 'IR', 'IR', 'IR', 'IR', 'IR', 'IR', 'IR', 'IR', 'IR', 'IR', 'IR', 'O', 'O', 'O', 'O'], ['O', 'O', 'BR', 'IR', 'IR', 'O', 'O', 'O', 'O', 'O'], ['O', 'O', 'O', 'BR', 'IR', 'IR', 'IR', 'IR', 'IR', 'IR', 'IR', 'IR', 'O', 'BR', 'IR', 'IR', 'IR', 'O', 'O', 'BR'], ['BR', 'IR', 'IR', 'IR', 'IR', 'O', 'O', 'O', 'O', 'O', 'O'], ['O', 'O', 'O', 'BR', 'IR', 'O', 'O', 'O', 'O'], ['BR', 'IR', 'IR', 'IR', 'O', 'O', 'O', 'O', 'O', 'O'], ['O', 'O', 'O', 'O', 'O', 'O', 'O', 'O', 'O', 'O', 'BR', 'IR', 'IR', 'O'], ['O', 'O', 'O', 'O', 'O', 'BR', 'IR', 'IR', 'O'], ['O', 'O', 'O', 'BR', 'IR', 'O', 'O', 'O'], ['O', 'O', 'O', 'BR', 'IR', 'IR', 'IR', 'O', 'O', 'O', 'O'], ['O', 'O', 'O', 'O', 'O', 'BR', 'IR', 'IR', 'IR', 'IR', 'IR', 'IR', 'IR', 'IR', 'O'], ['BR', 'IR', 'IR', 'O', 'O', 'O', 'O', 'O', 'O'], ['O', 'O', 'O', 'BR', 'IR', 'IR', 'IR', 'IR', 'IR', 'O', 'O', 'O'], ['O', 'O', 'O', 'BR', 'IR', 'O', 'O', 'O', 'O'], ['O', 'O', 'O', 'O', 'O', 'O', 'BR', 'IR', 'IR', 'IR', 'IR', 'IR', 'IR', 'IR', 'O', 'O', 'O', 'O'], ['O', 'O', 'BR', 'IR', 'IR', 'IR', 'O', 'O', 'O', 'O', 'O', 'O'], ['O', 'O', 'O', 'BR', 'IR', 'IR', 'IR', 'IR', 'IR', 'IR', 'O', 'O', 'O', 'O', 'O', 'O', 'O', 'O', 'O', 'O', 'O'], ['BR', 'IR', 'IR', 'O', 'O', 'O', 'O', 'O', 'O', 'O', 'O'], ['O', 'O', 'O', 'O', 'O', 'O', 'BR', 'IR', 'IR', 'O'], ['O', 'O', 'O', 'O', 'O', 'O', 'BR', 'IR', 'IR', 'IR', 'IR', 'IR', 'IR', 'O', 'O', 'BR'], ['BR', 'IR', 'IR', 'O', 'O', 'O', 'O', 'O', 'O', 'O', 'O'], ['O', 'O', 'O', 'O', 'O', 'O', 'O', 'O', 'O', 'O', 'O', 'O', 'BR', 'IR', 'IR', 'O'], ['O', 'O', 'O', 'O', 'O', 'O', 'O', 'O', 'BR', 'IR', 'IR', 'IR', 'IR', 'IR', 'IR', 'O'], ['O', 'BR', 'IR', 'IR', 'IR', 'IR', 'IR', 'IR', 'IR', 'O', 'O', 'O', 'O', 'O', 'O'], ['BR', 'IR', 'IR', 'IR', 'O', 'O', 'O', 'O', 'O', 'O'], ['O', 'BR', 'IR', 'IR', 'O', 'O', 'O'], ['O', 'O', 'O', 'O', 'O', 'O', 'BR', 'IR', 'IR', 'IR', 'IR', 'IR', 'O', 'O'], ['O', 'O', 'O', 'O', 'O', 'BR', 'IR', 'IR', 'IR', 'IR', 'IR', 'IR', 'IR', 'IR', 'IR', 'IR', 'IR'], ['O', 'O', 'O', 'O', 'O', 'O', 'BR', 'IR', 'IR', 'IR', 'IR', 'O'], ['O', 'O', 'O', 'O', 'BR', 'IR', 'IR', 'IR', 'O', 'O', 'BR', 'O'], ['O', 'BR', 'IR', 'IR', 'IR', 'O', 'O', 'O', 'O', 'O', 'O', 'O', 'O'], ['O', 'BR', 'IR', 'IR', 'O', 'O', 'O', 'O', 'O'], ['O', 'BR', 'IR', 'IR', 'IR', 'O', 'O', 'O', 'O', 'O'], ['BR', 'IR', 'IR', 'IR', 'IR', 'IR', 'IR', 'IR', 'IR', 'IR', 'IR', 'IR', 'IR', 'IR', 'IR', 'IR'], ['BR', 'IR', 'IR', 'IR', 'IR', 'IR', 'O', 'O', 'O', 'O', 'O', 'O', 'O', 'O', 'O'], ['O', 'O', 'O', 'BR', 'IR', 'IR', 'IR', 'IR', 'IR', 'IR', 'IR', 'IR', 'IR', 'IR', 'O'], ['O', 'O', 'O', 'BR', 'IR', 'IR', 'IR', 'IR', 'IR', 'IR', 'IR', 'O', 'O', 'O', 'O', 'O', 'O', 'O'], ['O', 'O', 'O', 'O', 'BR', 'IR', 'IR', 'IR', 'IR', 'O', 'O', 'O'], ['O', 'O', 'O', 'O', 'BR', 'IR', 'O', 'O', 'O', 'O', 'BR', 'IR', 'IR', 'O', 'O', 'O'], ['BR', 'IR', 'IR', 'IR', 'O', 'O', 'O', 'O', 'O', 'O', 'O', 'O', 'O'], ['O', 'O', 'O', 'BR', 'IR', 'O', 'O', 'O', 'O', 'O', 'O', 'O', 'O', 'O', 'O'], ['BR', 'IR', 'IR', 'O', 'O', 'O', 'O', 'O', 'O', 'O', 'O', 'O', 'O', 'O', 'O'], ['O', 'BR', 'IR', 'IR', 'IR', 'IR', 'IR', 'O', 'O', 'O', 'O', 'O', 'O'], ['BR', 'IR', 'O', 'O', 'O', 'O', 'BR', 'O', 'O', 'O', 'O', 'O', 'O', 'O'], ['BR', 'IR', 'IR', 'IR', 'O', 'O', 'O', 'O', 'O', 'O'], ['BR', 'IR', 'IR', 'IR', 'O', 'O', 'O', 'O', 'O', 'O', 'O', 'O', 'O'], ['O', 'O', 'O', 'O', 'O', 'O', 'O', 'O', 'O', 'BR', 'IR', 'IR', 'IR', 'IR', 'IR', 'O', 'O', 'O', 'O', 'O', 'O', 'O'], ['O', 'O', 'O', 'O', 'O', 'BR', 'IR', 'O', 'O', 'O', 'O', 'O', 'O'], ['O', 'O', 'BR', 'IR', 'IR', 'O', 'O', 'O', 'O', 'O', 'O', 'O', 'O', 'O', 'O', 'O'], ['O', 'O', 'O', 'BR', 'IR', 'IR', 'IR', 'IR', 'O', 'O', 'O'], ['BR', 'IR', 'IR', 'O', 'O', 'O', 'O', 'O', 'O', 'O', 'O'], ['O', 'O', 'O', 'O', 'O', 'BR', 'IR', 'IR', 'IR', 'IR', 'IR', 'IR', 'IR', 'O', 'O', 'O', 'O', 'O', 'O', 'O', 'O', 'O', 'O', 'O', 'O'], ['O', 'O', 'O', 'O', 'O', 'O', 'O', 'BR', 'IR', 'IR', 'O'], ['O', 'BR', 'IR', 'IR', 'O', 'O', 'O', 'O', 'O', 'O', 'O', 'O', 'O'], ['O', 'O', 'BR', 'IR', 'IR', 'O', 'O', 'O', 'O', 'O'], ['O', 'O', 'BR', 'IR', 'O', 'O', 'O', 'O', 'O', 'O', 'O', 'O'], ['O', 'O', 'BR', 'IR', 'IR', 'O', 'O', 'O', 'O', 'O', 'O'], ['BR', 'IR', 'IR', 'IR', 'IR', 'IR', 'IR', 'IR', 'IR', 'IR', 'IR', 'IR'], ['O', 'O', 'O', 'O', 'O', 'BR', 'IR', 'IR', 'IR', 'O', 'O', 'O', 'O', 'O'], ['BR', 'IR', 'IR', 'IR', 'O', 'O', 'O', 'O', 'O', 'O', 'O'], ['O', 'O', 'O', 'O', 'O', 'O', 'BR', 'IR', 'IR', 'IR', 'IR', 'IR', 'O', 'O', 'O', 'O'], ['BR', 'IR', 'IR', 'O', 'O', 'O', 'O', 'O', 'O', 'O', 'O'], ['O', 'O', 'O', 'BR', 'IR', 'O', 'O', 'O', 'O', 'O', 'O', 'O'], ['O', 'BR', 'IR', 'IR', 'IR', 'IR', 'IR', 'IR', 'IR', 'IR', 'O', 'BR', 'IR'], ['O', 'O', 'O', 'O', 'O', 'O', 'O', 'BR', 'IR', 'IR', 'IR', 'IR', 'O'], ['O', 'BR', 'IR', 'IR', 'IR', 'O', 'O', 'O', 'BR', 'IR', 'IR', 'IR', 'IR'], ['O', 'BR', 'IR', 'IR', 'IR', 'IR', 'IR', 'O', 'O', 'BR', 'IR', 'IR', 'IR', 'IR', 'IR', 'IR', 'IR'], ['BR', 'IR', 'IR', 'IR', 'IR', 'IR', 'IR', 'IR', 'IR', 'IR', 'IR', 'IR', 'IR', 'IR', 'IR', 'IR', 'IR', 'IR', 'IR', 'IR', 'IR', 'IR', 'IR', 'IR', 'IR', 'IR'], ['BR', 'IR', 'IR', 'IR', 'IR', 'O', 'O', 'O', 'O', 'O', 'O', 'O'], ['O', 'O', 'O', 'O', 'O', 'O', 'O', 'O', 'BR', 'IR', 'IR', 'IR', 'IR', 'IR', 'O'], ['BR', 'IR', 'IR', 'O', 'O', 'O', 'O', 'O', 'O', 'O', 'O', 'O', 'O'], ['BR', 'IR', 'IR', 'IR', 'O', 'O', 'O', 'O', 'O', 'O', 'O', 'O', 'O'], ['BR', 'IR', 'IR', 'IR', 'O', 'O', 'O', 'O', 'O', 'O', 'O', 'O', 'O', 'O', 'O', 'O', 'O'], ['O', 'O', 'O', 'BR', 'IR', 'IR', 'O', 'O', 'O', 'O', 'O', 'O'], ['O', 'O', 'O', 'O', 'O', 'O', 'O', 'O', 'O', 'O', 'BR', 'IR', 'IR', 'IR', 'O', 'BR', 'IR'], ['BR', 'IR', 'IR', 'O', 'O', 'O', 'O', 'O', 'O', 'O', 'O', 'O', 'O'], ['O', 'O', 'O', 'O', 'O', 'O', 'O', 'BR', 'IR', 'IR', 'IR', 'IR', 'IR', 'IR', 'IR', 'O'], ['O', 'O', 'BR', 'IR', 'IR', 'IR', 'IR', 'IR', 'IR', 'IR', 'IR', 'IR', 'IR', 'O', 'O', 'O', 'O', 'O', 'O', 'O', 'O'], ['BR', 'IR', 'IR', 'IR', 'IR', 'IR', 'O', 'O', 'O', 'O', 'O', 'O', 'O', 'O', 'O'], ['O', 'O', 'O', 'O', 'O', 'O', 'O', 'BR', 'IR', 'IR', 'O', 'O', 'O', 'O'], ['BR', 'IR', 'IR', 'O', 'O', 'O', 'O', 'O', 'O', 'O', 'O', 'O', 'O', 'O'], ['BR', 'IR', 'IR', 'IR', 'O', 'O', 'O', 'O', 'O', 'O', 'O', 'O', 'O', 'O'], ['BR', 'IR', 'IR', 'IR', 'IR', 'O', 'O', 'O', 'O', 'O', 'O', 'O', 'O', 'O', 'O'], ['O', 'O', 'O', 'O', 'O', 'O', 'BR', 'IR', 'IR', 'IR', 'IR', 'O', 'O', 'BR', 'IR'], ['O', 'O', 'O', 'O', 'O', 'O', 'O', 'O', 'O', 'O', 'O', 'O', 'BR', 'IR', 'O'], ['O', 'BR', 'IR', 'O', 'BR', 'IR', 'IR', 'IR', 'IR', 'IR', 'IR', 'IR', 'IR', 'IR', 'IR', 'IR'], ['BR', 'IR', 'IR', 'O', 'BR', 'IR', 'O', 'O', 'O', 'O', 'O', 'O', 'O', 'O', 'O', 'O', 'O', 'O'], ['O', 'O', 'BR', 'IR', 'IR', 'O', 'O', 'O', 'O', 'O', 'O', 'O'], ['O', 'O', 'O', 'O', 'O', 'O', 'O', 'O', 'O', 'BR', 'IR', 'IR', 'IR', 'IR', 'IR', 'O'], ['O', 'O', 'O', 'O', 'O', 'O', 'O', 'O', 'BR', 'IR', 'IR', 'O'], ['BR', 'IR', 'IR', 'IR', 'IR', 'IR', 'IR', 'IR', 'IR', 'IR', 'IR', 'IR', 'IR', 'IR', 'IR', 'O', 'O', 'O', 'BR', 'IR', 'IR', 'O', 'O', 'O', 'O', 'O', 'O'], ['BR', 'IR', 'IR', 'IR', 'IR', 'IR', 'IR', 'IR', 'IR', 'IR', 'IR', 'IR', 'IR', 'IR', 'IR', 'O', 'O', 'BR'], ['O', 'BR', 'IR', 'IR', 'IR', 'O', 'O', 'O', 'O', 'O', 'O', 'O', 'O'], ['BR', 'IR', 'IR', 'O', 'O', 'O', 'O', 'O', 'O', 'O', 'O'], ['O', 'O', 'BR', 'IR', 'IR', 'IR', 'O', 'O', 'O', 'O', 'O', 'O', 'O', 'O'], ['O', 'O', 'O', 'O', 'O', 'O', 'O', 'O', 'O', 'BR', 'IR', 'IR', 'IR', 'O'], ['O', 'O', 'O', 'BR', 'IR', 'IR', 'IR', 'IR', 'IR', 'IR', 'IR', 'IR', 'IR', 'IR', 'IR', 'IR', 'IR', 'IR'], ['O', 'O', 'O', 'O', 'O', 'O', 'O', 'O', 'BR', 'IR', 'IR', 'IR', 'IR', 'IR', 'O'], ['O', 'O', 'O', 'O', 'O', 'O', 'O', 'O', 'O', 'O', 'BR', 'IR', 'IR', 'O', 'O', 'O', 'O'], ['O', 'O', 'O', 'O', 'O', 'O', 'BR', 'IR', 'IR', 'IR', 'IR', 'IR', 'O', 'O', 'O'], ['BR', 'IR', 'IR', 'IR', 'IR', 'IR', 'IR', 'O', 'O', 'O', 'O', 'O'], ['BR', 'IR', 'IR', 'IR', 'IR', 'IR', 'IR', 'IR', 'IR', 'IR', 'IR', 'O', 'BR', 'IR', 'IR', 'IR', 'IR'], ['BR', 'IR', 'IR', 'IR', 'O', 'O', 'O', 'O', 'O', 'O', 'O'], ['BR', 'IR', 'O', 'O', 'O', 'O', 'O', 'O', 'O'], ['BR', 'IR', 'IR', 'IR', 'IR', 'IR', 'IR', 'IR', 'IR', 'IR', 'IR', 'IR', 'IR', 'IR'], ['O', 'O', 'BR', 'IR', 'IR', 'O', 'O', 'O', 'O'], ['O', 'O', 'O', 'BR', 'IR', 'O', 'O', 'O', 'O', 'O', 'O', 'O', 'O'], ['O', 'BR', 'IR', 'O', 'O', 'O', 'O', 'O', 'O'], ['O', 'BR', 'IR', 'IR', 'O', 'O', 'O', 'O', 'O', 'O', 'O'], ['O', 'BR', 'IR', 'IR', 'IR', 'IR', 'O', 'O', 'O', 'O', 'O', 'O'], ['BR', 'IR', 'IR', 'IR', 'IR', 'O', 'O', 'O', 'O', 'O', 'O'], ['BR', 'IR', 'IR', 'O', 'O', 'O', 'O', 'O', 'O', 'O', 'O', 'O', 'O'], ['O', 'BR', 'IR', 'IR', 'O', 'O', 'O', 'O', 'O', 'O', 'O', 'O', 'O'], ['O', 'BR', 'IR', 'IR', 'IR', 'O', 'O', 'O', 'BR', 'IR', 'IR'], ['O', 'O', 'BR', 'IR', 'IR', 'IR', 'IR', 'IR', 'O', 'O', 'O', 'O', 'O', 'O'], ['BR', 'IR', 'IR', 'IR', 'IR', 'O', 'O', 'O', 'O', 'O', 'O', 'O', 'O', 'O', 'O', 'O'], ['BR', 'IR', 'IR', 'IR', 'O', 'O', 'O', 'O', 'O', 'O', 'O', 'O', 'O', 'O'], ['O', 'O', 'O', 'O', 'O', 'O', 'O', 'O', 'O', 'BR', 'IR', 'IR', 'IR', 'IR', 'O'], ['O', 'O', 'BR', 'IR', 'IR', 'O', 'O', 'O', 'O', 'O', 'O'], ['BR', 'IR', 'IR', 'O', 'O', 'O', 'O', 'BR', 'IR', 'IR', 'IR', 'IR', 'IR', 'IR'], ['O', 'O', 'O', 'O', 'O', 'O', 'O', 'O', 'O', 'O', 'BR', 'IR', 'IR', 'O', 'O'], ['O', 'O', 'BR', 'IR', 'IR', 'IR', 'IR', 'IR', 'IR', 'IR', 'IR'], ['O', 'O', 'O', 'BR', 'IR', 'IR', 'IR', 'O', 'O', 'O', 'O', 'O', 'O', 'O'], ['O', 'O', 'BR', 'IR', 'IR', 'IR', 'IR', 'IR', 'IR', 'IR', 'IR', 'IR', 'IR', 'IR', 'IR'], ['O', 'O', 'O', 'O', 'O', 'O', 'O', 'BR', 'IR', 'IR', 'O', 'O', 'O', 'O'], ['O', 'O', 'O', 'O', 'O', 'BR', 'IR', 'O', 'O', 'O', 'O'], ['O', 'O', 'O', 'BR', 'IR', 'IR', 'IR', 'IR', 'O', 'O', 'O', 'O', 'O', 'O'], ['O', 'O', 'O', 'O', 'O', 'O', 'O', 'O', 'BR', 'IR', 'IR', 'O', 'O'], ['O', 'BR', 'IR', 'IR', 'IR', 'IR', 'IR', 'IR', 'IR', 'IR', 'IR', 'IR', 'IR', 'IR', 'O', 'O', 'O', 'O', 'O', 'O'], ['O', 'O', 'O', 'O', 'O', 'O', 'O', 'BR', 'IR', 'IR', 'IR', 'IR', 'IR', 'IR', 'O', 'O', 'O', 'O'], ['O', 'O', 'O', 'O', 'O', 'BR', 'IR', 'IR', 'IR', 'IR', 'IR', 'O', 'O', 'O', 'O'], ['BR', 'IR', 'IR', 'O', 'O', 'O', 'BR', 'IR', 'IR', 'IR', 'IR'], ['BR', 'IR', 'IR', 'O', 'O', 'O', 'O', 'O', 'O', 'O', 'O', 'O', 'O', 'O'], ['BR', 'IR', 'O', 'O', 'O', 'O', 'O', 'O', 'O'], ['O', 'BR', 'IR', 'IR', 'IR', 'IR', 'IR', 'IR', 'IR', 'O', 'O', 'BR'], ['BR', 'IR', 'IR', 'IR', 'IR', 'IR', 'IR', 'IR', 'O', 'O', 'BR', 'IR', 'IR'], ['BR', 'IR', 'IR', 'O', 'O', 'O', 'O', 'O', 'O'], ['O', 'O', 'BR', 'O', 'BR', 'IR', 'IR', 'IR', 'IR', 'IR', 'IR', 'O', 'O', 'O', 'O'], ['O', 'BR', 'IR', 'IR', 'IR', 'IR', 'IR', 'IR', 'IR', 'IR', 'O', 'O', 'BR'], ['O', 'O', 'O', 'O', 'O', 'O', 'BR', 'IR', 'O'], ['BR', 'IR', 'IR', 'O', 'O', 'O', 'O', 'O', 'O', 'O', 'O'], ['BR', 'IR', 'IR', 'IR', 'IR', 'O', 'O', 'O', 'O', 'O', 'O', 'O', 'O'], ['O', 'O', 'O', 'O', 'O', 'O', 'O', 'O', 'O', 'BR', 'IR', 'IR', 'O'], ['O', 'O', 'O', 'O', 'O', 'BR', 'IR', 'IR', 'IR', 'IR', 'IR', 'IR', 'IR', 'IR', 'IR', 'IR', 'IR', 'O', 'O', 'O', 'O', 'O'], ['O', 'O', 'O', 'O', 'O', 'O', 'O', 'O', 'O', 'O', 'O', 'O', 'BR', 'IR', 'IR', 'IR', 'IR', 'IR', 'O', 'O', 'O', 'O'], ['BR', 'IR', 'IR', 'O', 'O', 'O', 'O', 'O', 'O'], ['O', 'O', 'O', 'BR', 'IR', 'IR', 'IR', 'IR', 'IR', 'IR', 'IR', 'IR', 'O', 'BR'], ['O', 'O', 'O', 'O', 'O', 'O', 'BR', 'IR', 'IR', 'IR', 'IR', 'IR', 'O'], ['O', 'BR', 'IR', 'O', 'O', 'O', 'O', 'O', 'O'], ['O', 'BR', 'IR', 'IR', 'IR', 'IR', 'IR', 'IR', 'IR', 'IR', 'IR', 'IR', 'IR', 'IR', 'IR', 'O', 'BR', 'IR', 'O'], ['BR', 'IR', 'IR', 'IR', 'IR', 'IR', 'IR', 'IR', 'IR', 'IR', 'IR', 'IR', 'IR', 'IR', 'IR'], ['O', 'O', 'O', 'BR', 'IR', 'IR', 'IR', 'IR', 'IR', 'O', 'BR'], ['O', 'O', 'O', 'O', 'BR', 'IR', 'IR', 'O', 'O', 'O', 'O'], ['BR', 'IR', 'O', 'O', 'O', 'O', 'O', 'O', 'O'], ['BR', 'IR', 'IR', 'IR', 'IR', 'IR', 'IR', 'IR', 'IR', 'IR', 'IR', 'IR', 'IR', 'IR', 'IR', 'IR', 'IR', 'IR', 'IR', 'IR', 'IR', 'IR'], ['BR', 'IR', 'IR', 'IR', 'IR', 'IR', 'IR', 'IR', 'IR', 'IR', 'IR', 'IR', 'IR', 'IR', 'IR', 'IR', 'IR', 'O', 'O', 'O', 'BR'], ['O', 'O', 'BR', 'IR', 'IR', 'IR', 'O', 'O', 'O', 'O', 'O', 'O', 'O', 'O'], ['O', 'O', 'BR', 'IR', 'IR', 'IR', 'IR', 'O', 'BR', 'IR', 'IR', 'IR', 'IR', 'IR'], ['BR', 'IR', 'IR', 'IR', 'IR', 'IR', 'IR', 'IR', 'IR', 'IR', 'O', 'O', 'O', 'O', 'O', 'O', 'O', 'O', 'O', 'O', 'O'], ['BR', 'IR', 'IR', 'IR', 'O', 'O', 'O', 'O', 'O', 'O', 'O', 'O', 'O', 'O'], ['O', 'O', 'BR', 'IR', 'IR', 'IR', 'IR', 'IR', 'IR', 'IR', 'O', 'O', 'O', 'O'], ['O', 'O', 'O', 'O', 'O', 'O', 'O', 'O', 'O', 'BR', 'IR', 'IR', 'IR', 'O'], ['BR', 'IR', 'O', 'O', 'O', 'O', 'O', 'O', 'O', 'O', 'O', 'O'], ['O', 'O', 'O', 'O', 'O', 'BR', 'IR', 'IR', 'IR', 'O', 'O', 'O'], ['BR', 'O', 'BR', 'IR', 'IR', 'O', 'O', 'O', 'O', 'O', 'O'], ['BR', 'IR', 'IR', 'IR', 'IR', 'IR', 'O', 'O', 'O', 'O', 'O'], ['O', 'BR', 'IR', 'IR', 'IR', 'IR', 'IR', 'IR', 'IR', 'IR', 'IR', 'IR', 'IR', 'IR', 'IR', 'IR', 'IR', 'O', 'O', 'O', 'BR', 'IR', 'IR', 'IR', 'IR', 'IR', 'O', 'O'], ['O', 'O', 'O', 'O', 'O', 'O', 'O', 'O', 'BR', 'IR', 'IR', 'IR', 'O'], ['BR', 'IR', 'IR', 'IR', 'O', 'O', 'O', 'O', 'O', 'O', 'O'], ['BR', 'IR', 'IR', 'O', 'O', 'O', 'O', 'O', 'O', 'O', 'O', 'O', 'O'], ['BR', 'IR', 'IR', 'O', 'O', 'O', 'O', 'O', 'O', 'O', 'O', 'O', 'O', 'O', 'O'], ['BR', 'IR', 'IR', 'IR', 'IR', 'IR', 'IR', 'O', 'O', 'O', 'O', 'O', 'O', 'O'], ['O', 'O', 'O', 'O', 'O', 'O', 'O', 'O', 'BR', 'IR', 'IR', 'IR', 'IR', 'IR', 'O', 'O'], ['O', 'O', 'O', 'O', 'O', 'O', 'BR', 'IR', 'IR', 'IR', 'IR', 'IR', 'IR', 'IR', 'O', 'O', 'O', 'O', 'O', 'O', 'O'], ['BR', 'IR', 'IR', 'IR', 'O', 'O', 'O', 'O', 'O', 'O', 'O', 'O', 'O'], ['BR', 'IR', 'IR', 'IR', 'O', 'O', 'O', 'O', 'O', 'O', 'BR', 'IR', 'IR', 'IR', 'IR', 'IR', 'IR', 'O'], ['BR', 'IR', 'IR', 'IR', 'IR', 'IR'], ['O', 'O', 'O', 'O', 'O', 'O', 'BR', 'IR', 'IR', 'IR', 'O', 'O'], ['BR', 'IR', 'IR', 'IR', 'O', 'O', 'O', 'O', 'BR', 'IR', 'IR', 'IR', 'IR', 'IR', 'IR', 'IR', 'IR', 'IR', 'IR'], ['O', 'O', 'O', 'BR', 'IR', 'IR', 'O', 'O', 'O', 'O'], ['O', 'BR', 'IR', 'IR', 'O', 'O', 'O', 'O', 'O', 'O', 'O', 'O', 'O'], ['BR', 'IR', 'IR', 'IR', 'IR', 'IR', 'IR', 'IR', 'O', 'O', 'BR', 'IR', 'IR'], ['BR', 'IR', 'IR', 'O', 'O', 'O', 'O', 'O', 'O', 'O', 'O'], ['O', 'O', 'O', 'O', 'O', 'O', 'O', 'O', 'O', 'O', 'BR', 'IR', 'IR', 'IR', 'IR', 'O', 'O', 'O'], ['BR', 'IR', 'IR', 'IR', 'IR', 'IR', 'IR', 'IR', 'IR', 'IR', 'IR', 'IR', 'IR', 'IR', 'IR', 'IR', 'IR', 'IR', 'IR'], ['O', 'O', 'O', 'O', 'O', 'O', 'O', 'O', 'O', 'O', 'O', 'BR', 'IR', 'O', 'O', 'O'], ['O', 'BR', 'IR', 'IR', 'IR', 'IR', 'IR', 'IR', 'O', 'O', 'BR', 'IR', 'IR'], ['O', 'O', 'O', 'O', 'O', 'BR', 'IR', 'IR', 'IR', 'O', 'O', 'O', 'O', 'O', 'O', 'O', 'O'], ['BR', 'IR', 'IR', 'IR', 'O', 'O', 'O', 'O', 'O', 'O', 'O', 'O', 'O', 'O', 'O', 'O'], ['O', 'BR', 'IR', 'IR', 'O', 'O', 'O', 'O', 'O', 'O', 'O', 'O', 'O', 'O'], ['O', 'O', 'O', 'O', 'O', 'O', 'O', 'O', 'O', 'O', 'O', 'O', 'O'], ['BR', 'IR', 'IR', 'IR', 'IR', 'IR', 'O', 'O', 'O', 'O', 'O', 'O', 'O', 'O'], ['BR', 'IR', 'IR', 'IR', 'O', 'BR', 'O', 'O', 'O', 'O', 'BR', 'IR', 'IR'], ['BR', 'IR', 'IR', 'IR', 'O', 'BR', 'IR', 'O', 'BR', 'IR', 'O', 'BR', 'IR', 'IR', 'IR', 'IR', 'IR', 'IR'], ['O', 'O', 'O', 'O', 'O', 'O', 'BR', 'IR', 'IR', 'O', 'O', 'O', 'O', 'O'], ['O', 'O', 'BR', 'IR', 'IR', 'IR', 'IR', 'IR', 'IR', 'IR', 'IR', 'IR', 'IR', 'O', 'O'], ['O', 'BR', 'IR', 'O', 'O', 'O', 'O', 'O', 'O', 'O'], ['O', 'BR', 'IR', 'IR', 'IR', 'IR', 'IR', 'IR', 'IR', 'IR', 'IR'], ['O', 'O', 'O', 'O', 'BR', 'IR', 'IR', 'IR', 'IR', 'IR', 'IR', 'IR', 'IR', 'IR', 'IR', 'IR', 'IR', 'IR', 'IR', 'IR', 'IR', 'IR', 'IR', 'IR', 'IR', 'IR', 'IR', 'IR', 'IR', 'IR'], ['O', 'O', 'O', 'BR', 'IR', 'IR', 'IR', 'IR', 'IR', 'IR', 'IR', 'IR', 'IR', 'IR', 'IR', 'IR', 'IR', 'IR', 'IR', 'IR', 'IR', 'IR', 'IR', 'IR', 'IR', 'IR', 'IR', 'IR', 'IR', 'IR', 'IR', 'IR', 'IR'], ['BR', 'IR', 'IR', 'O', 'O', 'O', 'O', 'O', 'O', 'O', 'O'], ['O', 'O', 'BR', 'IR', 'IR', 'IR', 'IR', 'IR', 'IR', 'IR', 'IR', 'IR', 'O', 'O'], ['BR', 'IR', 'IR', 'O', 'O', 'O', 'O', 'O', 'O'], ['O', 'O', 'O', 'O', 'O', 'O', 'BR', 'IR', 'IR', 'IR', 'IR', 'IR', 'IR', 'O', 'O', 'O'], ['BR', 'IR', 'IR', 'IR', 'O', 'O', 'O', 'O', 'O', 'O', 'O', 'O', 'O', 'O', 'O', 'O'], ['BR', 'IR', 'IR', 'IR', 'IR', 'IR', 'IR', 'O', 'O', 'BR', 'IR', 'IR', 'IR', 'IR', 'IR', 'IR', 'IR'], ['BR', 'IR', 'IR', 'O', 'O', 'O', 'O', 'O', 'O', 'O', 'O', 'O', 'O'], ['O', 'O', 'O', 'BR', 'IR', 'IR', 'IR', 'IR', 'IR', 'O', 'O', 'O', 'O'], ['BR', 'IR', 'IR', 'IR', 'IR', 'IR', 'O', 'O', 'O', 'O', 'O', 'O', 'O', 'O', 'O', 'O', 'O', 'O', 'O', 'O'], ['O', 'O', 'O', 'O', 'O', 'O', 'O', 'O', 'BR', 'IR', 'IR', 'IR', 'O', 'O', 'O', 'O'], ['BR', 'IR', 'O', 'O', 'O', 'O', 'O', 'O'], ['BR', 'IR', 'O', 'O', 'O', 'O', 'O'], ['O', 'BR', 'IR', 'O', 'O', 'O', 'O', 'O'], ['BR', 'IR', 'IR', 'IR', 'IR', 'IR', 'IR', 'IR', 'IR', 'IR', 'IR'], ['BR', 'IR', 'IR', 'IR', 'IR', 'IR', 'IR', 'IR', 'IR', 'IR', 'IR', 'IR'], ['O', 'O', 'O', 'O', 'O', 'O', 'O', 'O', 'BR', 'IR', 'IR', 'IR', 'IR', 'O'], ['O', 'O', 'O', 'O', 'O', 'O', 'BR', 'IR', 'IR', 'IR', 'IR', 'IR', 'IR', 'O'], ['BR', 'IR', 'IR', 'IR', 'IR', 'IR', 'IR', 'IR', 'IR', 'IR', 'IR', 'IR', 'IR', 'IR', 'IR', 'IR', 'IR', 'IR', 'IR'], ['O', 'BR', 'IR', 'O', 'O', 'O', 'O', 'O'], ['O', 'BR', 'IR', 'IR', 'O', 'O', 'O', 'O', 'O', 'O', 'O', 'O'], ['BR', 'IR', 'IR', 'IR', 'IR', 'IR', 'IR', 'IR', 'IR', 'IR'], ['O', 'BR', 'IR', 'IR', 'IR', 'IR', 'IR', 'IR', 'O', 'BR', 'IR', 'IR'], ['BR', 'IR', 'IR', 'IR', 'O', 'O', 'O', 'O', 'O', 'O', 'O', 'O'], ['BR', 'IR', 'IR', 'IR', 'IR', 'O', 'O', 'O', 'O', 'O', 'O', 'O', 'O', 'O', 'O'], ['O', 'O', 'O', 'BR', 'IR', 'IR', 'O', 'O', 'O'], ['BR', 'IR', 'IR', 'O', 'O', 'O', 'O', 'O', 'O', 'O', 'O', 'O'], ['O', 'O', 'O', 'O', 'O', 'O', 'O', 'O', 'BR', 'IR', 'IR', 'IR', 'IR', 'IR', 'IR', 'O', 'O', 'O'], ['O', 'O', 'O', 'BR', 'IR', 'IR', 'O', 'O', 'O', 'O', 'O', 'O', 'O'], ['BR', 'IR', 'O', 'O', 'O', 'O', 'O', 'O'], ['BR', 'IR', 'IR', 'IR', 'O', 'O', 'O', 'O', 'O', 'O'], ['O', 'O', 'O', 'O', 'O', 'BR', 'IR', 'IR', 'IR', 'O', 'O', 'O', 'O', 'O', 'O', 'O', 'O'], ['O', 'O', 'O', 'BR', 'IR', 'IR', 'IR', 'O', 'O', 'O', 'O', 'O', 'O'], ['O', 'O', 'O', 'BR', 'IR', 'IR', 'O', 'O', 'O'], ['O', 'O', 'O', 'O', 'BR', 'IR', 'IR', 'IR', 'IR', 'IR', 'O', 'O', 'O'], ['O', 'BR', 'IR', 'IR', 'IR', 'IR', 'IR', 'IR', 'IR', 'O', 'O', 'BR', 'IR'], ['BR', 'IR', 'IR', 'IR', 'IR', 'O', 'O', 'O', 'O', 'O', 'O', 'O', 'O', 'O', 'O', 'O', 'O', 'O'], ['O', 'O', 'O', 'O', 'O', 'O', 'O', 'BR', 'IR', 'IR', 'O'], ['O', 'O', 'O', 'O', 'O', 'BR', 'IR', 'IR', 'IR', 'O', 'O'], ['O', 'O', 'O', 'BR', 'IR', 'IR', 'IR', 'IR', 'IR', 'IR', 'IR', 'IR', 'O'], ['O', 'BR', 'O', 'O', 'O', 'BR', 'IR', 'O', 'O', 'O', 'O', 'O', 'O'], ['O', 'O', 'O', 'BR', 'IR', 'IR', 'IR', 'IR', 'IR', 'IR', 'IR', 'O', 'O'], ['O', 'BR', 'IR', 'IR', 'IR', 'O', 'O', 'O', 'O', 'O', 'O', 'O', 'O', 'O'], ['BR', 'IR', 'IR', 'IR', 'IR', 'O', 'O', 'O', 'O', 'O', 'O', 'O', 'O', 'O', 'O'], ['O', 'O', 'O', 'O', 'O', 'O', 'BR', 'IR', 'IR', 'IR', 'IR', 'IR', 'O', 'O', 'O', 'O'], ['O', 'O', 'O', 'O', 'O', 'BR', 'IR', 'IR', 'O', 'O', 'O'], ['O', 'O', 'O', 'O', 'O', 'BR', 'IR', 'IR', 'IR', 'IR', 'IR', 'IR', 'O'], ['BR', 'IR', 'IR', 'IR', 'O', 'O', 'O', 'O', 'O', 'O', 'O', 'O', 'O', 'O'], ['O', 'O', 'O', 'O', 'O', 'BR', 'IR', 'O', 'O', 'O', 'O', 'O'], ['BR', 'IR', 'IR', 'IR', 'IR', 'IR', 'O', 'BR', 'IR', 'IR', 'IR', 'IR', 'IR', 'IR', 'IR', 'IR', 'IR'], ['O', 'O', 'O', 'BR', 'IR', 'IR', 'O', 'BR', 'O', 'O', 'O', 'O', 'O'], ['O', 'BR', 'O', 'BR', 'IR', 'IR', 'IR', 'IR', 'IR', 'IR', 'IR', 'IR', 'O', 'O', 'O', 'O'], ['O', 'O', 'BR', 'IR', 'IR', 'IR', 'IR', 'IR', 'IR', 'IR', 'IR', 'IR', 'IR', 'O'], ['O', 'BR', 'IR', 'IR', 'IR', 'IR', 'IR', 'IR', 'IR', 'IR', 'IR', 'IR', 'IR', 'IR', 'IR'], ['O', 'O', 'O', 'BR', 'IR', 'IR', 'IR', 'IR', 'O', 'O', 'O', 'O', 'O'], ['O', 'BR', 'IR', 'IR', 'IR', 'IR', 'IR', 'IR', 'IR', 'IR', 'IR', 'IR', 'IR', 'IR', 'IR', 'IR', 'IR', 'IR', 'O', 'BR', 'IR', 'IR', 'IR', 'IR', 'IR', 'O'], ['O', 'O', 'O', 'O', 'O', 'BR', 'IR', 'IR', 'IR', 'O', 'O', 'O', 'O'], ['O', 'O', 'O', 'BR', 'O', 'BR', 'IR', 'IR', 'O', 'O'], ['O', 'BR', 'IR', 'O', 'O', 'O', 'O', 'O', 'O', 'O', 'O', 'O'], ['BR', 'IR', 'IR', 'IR', 'IR', 'IR', 'IR', 'IR', 'O', 'O', 'O'], ['BR', 'IR', 'IR', 'IR', 'O', 'O', 'O', 'O', 'O', 'O', 'O', 'O', 'O', 'O', 'O'], ['O', 'O', 'O', 'O', 'O', 'BR', 'IR', 'IR', 'O', 'O', 'O', 'O', 'O', 'O', 'O', 'O', 'O'], ['O', 'O', 'O', 'O', 'O', 'O', 'BR', 'IR', 'IR', 'IR', 'IR', 'O', 'O'], ['O', 'O', 'O', 'O', 'O', 'O', 'O', 'O', 'BR', 'IR', 'IR', 'O'], ['O', 'O', 'BR', 'IR', 'O', 'O', 'O', 'O', 'O', 'BR', 'IR', 'IR', 'IR', 'IR', 'IR', 'O'], ['BR', 'IR', 'IR', 'O', 'O', 'O', 'O', 'O', 'O', 'O', 'O', 'O'], ['BR', 'IR', 'IR', 'IR', 'IR', 'O', 'O', 'O', 'O', 'O', 'O', 'O', 'O', 'O', 'O', 'O', 'O', 'O', 'O'], ['O', 'O', 'BR', 'IR', 'IR', 'IR', 'IR', 'IR', 'IR', 'O', 'O', 'BR', 'IR', 'IR'], ['BR', 'IR', 'IR', 'O', 'O', 'O', 'O', 'O', 'O', 'O'], ['BR', 'IR', 'IR', 'IR', 'O', 'BR', 'IR', 'IR', 'O', 'O', 'O', 'BR', 'O', 'BR', 'IR', 'IR'], ['BR', 'IR', 'O', 'O', 'O', 'O', 'O'], ['O', 'BR', 'IR', 'IR', 'IR', 'O', 'O', 'O', 'O', 'O', 'O', 'O'], ['O', 'O', 'O', 'O', 'O', 'O', 'BR', 'IR', 'IR', 'IR', 'IR', 'O', 'O', 'O', 'O', 'O', 'O', 'O', 'O'], ['O', 'O', 'O', 'O', 'BR', 'IR', 'IR', 'IR', 'IR', 'IR', 'IR', 'IR', 'IR', 'IR', 'IR', 'IR', 'IR', 'O', 'BR', 'O'], ['O', 'O', 'O', 'O', 'BR', 'IR', 'IR', 'IR', 'IR', 'IR', 'IR', 'IR', 'IR', 'IR', 'O', 'O', 'O'], ['BR', 'IR', 'IR', 'O', 'O', 'O', 'O', 'O', 'O', 'O', 'O'], ['O', 'O', 'O', 'O', 'BR', 'IR', 'IR', 'IR', 'IR', 'IR', 'IR', 'O', 'O', 'O', 'O', 'O'], ['BR', 'IR', 'IR', 'IR', 'O', 'O', 'O', 'O', 'O', 'O', 'O', 'O', 'O'], ['BR', 'IR', 'IR', 'IR', 'IR', 'IR', 'O', 'O', 'O', 'O', 'O', 'O', 'O', 'O'], ['BR', 'IR', 'IR', 'IR', 'O', 'O', 'O', 'O', 'O', 'O', 'O', 'O', 'O', 'O', 'O'], ['O', 'O', 'O', 'O', 'BR', 'IR', 'IR', 'O', 'O', 'O', 'O', 'O'], ['O', 'BR', 'IR', 'IR', 'IR', 'IR', 'IR', 'IR', 'IR', 'IR', 'O', 'O', 'O', 'O', 'BR', 'IR', 'IR', 'IR'], ['BR', 'IR', 'IR', 'IR', 'IR', 'O', 'O', 'O', 'O', 'O', 'O', 'O', 'O', 'O', 'O', 'O'], ['BR', 'IR', 'IR', 'IR', 'O', 'O', 'O', 'BR', 'IR', 'IR', 'IR', 'IR'], ['BR', 'IR', 'IR', 'IR', 'IR', 'IR', 'IR', 'O', 'O', 'O', 'O', 'O', 'O', 'O', 'O', 'O'], ['O', 'O', 'O', 'O', 'O', 'O', 'O', 'BR', 'IR', 'IR', 'IR', 'IR', 'IR', 'IR', 'O', 'O'], ['O', 'BR', 'IR', 'IR', 'IR', 'IR', 'O', 'O', 'O', 'O', 'O', 'O', 'O'], ['BR', 'IR', 'IR', 'IR', 'IR', 'O', 'O', 'O', 'O', 'O', 'O', 'O', 'O'], ['O', 'O', 'BR', 'IR', 'IR', 'O', 'O', 'BR', 'IR', 'IR', 'IR', 'IR', 'IR', 'IR'], ['BR', 'IR', 'IR', 'IR', 'IR', 'IR', 'IR', 'IR', 'O', 'O', 'O', 'O', 'BR', 'O', 'BR'], ['BR', 'IR', 'IR', 'O', 'O', 'O', 'O'], ['BR', 'IR', 'IR', 'IR', 'IR', 'IR', 'IR', 'IR', 'O', 'O'], ['BR', 'IR', 'O', 'O', 'O', 'O', 'BR', 'IR', 'IR', 'IR', 'IR', 'IR', 'IR', 'O'], ['O', 'O', 'BR', 'IR', 'IR', 'IR', 'O', 'O', 'O', 'O', 'O', 'O', 'O', 'O', 'O', 'O', 'O', 'O'], ['BR', 'IR', 'IR', 'O', 'O', 'O', 'O', 'O', 'O', 'O', 'O', 'O'], ['O', 'O', 'O', 'O', 'O', 'O', 'O', 'BR', 'IR', 'IR', 'IR', 'IR', 'IR', 'IR', 'IR', 'IR', 'IR', 'IR', 'IR', 'IR', 'IR', 'IR', 'O', 'O', 'O'], ['BR', 'IR', 'IR', 'O', 'O', 'O', 'O', 'O', 'O', 'O', 'O', 'O', 'O'], ['BR', 'IR', 'IR', 'IR', 'IR', 'O', 'O', 'O', 'O', 'O'], ['O', 'O', 'O', 'O', 'O', 'O', 'O', 'O', 'O', 'O', 'O', 'O', 'BR', 'IR', 'O', 'O', 'O', 'O', 'O'], ['O', 'O', 'O', 'O', 'O', 'BR', 'IR', 'IR', 'IR', 'O', 'O', 'O', 'O', 'O', 'O', 'O'], ['O', 'O', 'O', 'O', 'O', 'O', 'O', 'O', 'BR', 'IR', 'IR', 'IR', 'IR', 'IR', 'O', 'O'], ['O', 'O', 'O', 'BR', 'IR', 'IR', 'IR', 'IR', 'O', 'BR', 'IR', 'IR', 'IR', 'IR', 'IR', 'IR', 'IR', 'IR'], ['BR', 'IR', 'IR', 'IR', 'IR', 'IR', 'IR', 'IR', 'IR', 'IR', 'IR', 'IR'], ['BR', 'IR', 'IR', 'O', 'O', 'O', 'O', 'O', 'O', 'O', 'O', 'O', 'O'], ['O', 'O', 'O', 'O', 'O', 'O', 'O', 'BR', 'IR', 'O', 'O'], ['O', 'O', 'O', 'O', 'O', 'O', 'O', 'O', 'O', 'O', 'BR', 'IR', 'IR', 'IR', 'O', 'O'], ['O', 'BR', 'IR', 'IR', 'IR', 'IR', 'O', 'O', 'O', 'O', 'O'], ['O', 'O', 'O', 'O', 'O', 'O', 'BR', 'IR', 'IR', 'IR', 'IR', 'IR', 'O', 'O', 'O', 'O'], ['BR', 'IR', 'IR', 'O', 'O', 'O', 'O', 'O', 'O', 'O', 'O'], ['BR', 'IR', 'IR', 'IR', 'IR', 'IR', 'IR', 'O', 'O', 'BR', 'IR', 'IR', 'IR', 'IR', 'IR'], ['O', 'O', 'O', 'BR', 'IR', 'IR', 'O', 'O', 'O', 'O'], ['BR', 'IR', 'IR', 'O', 'O', 'O', 'O', 'O', 'O', 'O', 'O', 'O'], ['BR', 'IR', 'IR', 'O', 'O', 'O', 'O', 'O', 'O', 'O', 'O'], ['BR', 'IR', 'IR', 'IR', 'O', 'O', 'O', 'O', 'O', 'O', 'O', 'O', 'O', 'O'], ['BR', 'IR', 'IR', 'IR', 'O', 'O', 'O', 'O', 'O', 'O', 'O', 'O', 'O', 'O', 'O', 'O', 'O', 'O', 'O'], ['O', 'O', 'O', 'O', 'O', 'O', 'O', 'O', 'BR', 'IR', 'IR', 'IR', 'IR', 'IR', 'O', 'O', 'O', 'O'], ['O', 'O', 'O', 'O', 'BR', 'IR', 'IR', 'O', 'O', 'O', 'O', 'O', 'O', 'O'], ['BR', 'IR', 'O', 'BR', 'IR', 'IR', 'IR', 'IR', 'IR', 'IR', 'IR', 'IR', 'IR', 'IR', 'IR', 'IR', 'IR'], ['O', 'O', 'O', 'O', 'O', 'O', 'O', 'O', 'BR', 'IR', 'IR', 'IR', 'O'], ['BR', 'IR', 'IR', 'IR', 'O', 'O', 'O', 'O', 'O', 'O', 'O', 'O', 'O', 'O'], ['O', 'O', 'O', 'O', 'O', 'O', 'O', 'O', 'BR', 'IR', 'IR', 'O', 'O', 'O'], ['BR', 'IR', 'IR', 'IR', 'O', 'O', 'O', 'O', 'O', 'O', 'O'], ['BR', 'IR', 'IR', 'IR', 'IR', 'IR', 'IR', 'IR', 'IR', 'IR', 'IR', 'IR', 'IR', 'IR', 'O', 'O'], ['BR', 'IR', 'IR', 'IR', 'IR', 'IR', 'IR', 'IR', 'IR', 'IR', 'IR', 'IR', 'IR', 'IR', 'O', 'O', 'O', 'O', 'O', 'O', 'O', 'BR', 'IR', 'O', 'O', 'BR', 'IR', 'O', 'O'], ['O', 'O', 'BR', 'IR', 'IR', 'IR', 'IR', 'IR', 'IR', 'IR', 'IR', 'IR', 'O', 'O', 'O', 'O', 'O', 'O', 'O', 'O', 'O'], ['O', 'O', 'O', 'BR', 'IR', 'IR', 'IR', 'IR', 'IR', 'IR', 'IR', 'IR', 'IR', 'IR', 'O', 'O', 'O', 'O', 'O'], ['O', 'BR', 'IR', 'IR', 'IR', 'IR', 'IR', 'IR', 'IR', 'IR', 'IR'], ['O', 'O', 'O', 'BR', 'IR', 'IR', 'IR', 'IR', 'IR', 'IR', 'O', 'O', 'O', 'O', 'O', 'O', 'O'], ['O', 'O', 'O', 'BR', 'IR', 'IR', 'IR', 'O', 'O', 'O', 'O'], ['O', 'O', 'O', 'O', 'O', 'O', 'BR', 'IR', 'IR', 'O'], ['O', 'O', 'O', 'O', 'O', 'O', 'O', 'O', 'O', 'O', 'O', 'BR', 'IR', 'IR', 'IR', 'IR', 'IR', 'IR', 'IR', 'O', 'O', 'O'], ['O', 'O', 'O', 'O', 'O', 'O', 'O', 'O', 'O', 'O', 'BR', 'IR', 'IR', 'O', 'O', 'O', 'O'], ['O', 'BR', 'IR', 'IR', 'IR', 'O', 'O', 'O', 'O', 'O', 'O'], ['O', 'O', 'O', 'O', 'BR', 'IR', 'IR', 'O', 'O', 'O', 'O', 'O', 'O', 'O', 'O'], ['O', 'O', 'BR', 'IR', 'IR', 'IR', 'IR', 'IR', 'IR', 'IR', 'IR', 'IR', 'IR', 'IR', 'IR', 'IR', 'O'], ['BR', 'IR', 'IR', 'IR', 'IR', 'O', 'O', 'O', 'O', 'BR', 'IR', 'IR', 'IR', 'IR'], ['BR', 'IR', 'IR', 'IR', 'IR', 'O', 'O', 'O', 'O', 'O', 'O', 'O', 'O'], ['BR', 'IR', 'IR', 'IR', 'O', 'O', 'O', 'O', 'O', 'O', 'O', 'O', 'O', 'O', 'O'], ['O', 'BR', 'IR', 'IR', 'IR', 'O', 'O', 'O', 'O', 'O', 'O', 'O', 'O', 'O'], ['O', 'O', 'O', 'O', 'O', 'O', 'O', 'O', 'O', 'BR', 'IR', 'O'], ['O', 'O', 'O', 'O', 'O', 'O', 'O', 'O', 'O', 'BR', 'IR', 'IR', 'IR', 'IR', 'IR', 'IR', 'O'], ['O', 'O', 'O', 'O', 'O', 'O', 'O', 'O', 'O', 'BR', 'IR', 'IR', 'IR', 'O'], ['O', 'BR', 'IR', 'IR', 'IR', 'O', 'O', 'O', 'O', 'O', 'O', 'O', 'O', 'O', 'O', 'O', 'O'], ['BR', 'IR', 'IR', 'IR', 'O', 'O', 'O', 'O', 'O', 'O', 'O', 'O', 'O'], ['O', 'O', 'O', 'O', 'O', 'O', 'O', 'O', 'BR', 'IR', 'O', 'O', 'O'], ['BR', 'IR', 'O', 'O', 'O', 'O', 'O', 'O', 'O', 'O', 'O', 'O', 'O'], ['BR', 'IR', 'IR', 'IR', 'IR', 'O', 'BR', 'IR', 'IR', 'IR', 'IR', 'IR', 'IR', 'IR', 'IR', 'IR', 'IR', 'IR', 'IR', 'IR', 'IR'], ['O', 'O', 'BR', 'IR', 'O', 'O', 'O', 'O', 'O', 'O', 'O'], ['O', 'O', 'BR', 'IR', 'IR', 'IR', 'O', 'O', 'O', 'O', 'O', 'O', 'O', 'O', 'O', 'O'], ['BR', 'IR', 'IR', 'IR', 'IR', 'IR', 'IR', 'IR', 'IR', 'IR', 'IR', 'IR', 'IR'], ['BR', 'IR', 'IR', 'IR', 'IR', 'IR', 'IR', 'IR', 'O', 'O', 'O', 'O', 'O', 'O', 'O', 'O', 'O', 'O'], ['O', 'O', 'O', 'BR', 'IR', 'IR', 'IR', 'O', 'O'], ['O', 'O', 'O', 'O', 'O', 'BR', 'IR', 'IR', 'IR', 'IR', 'IR', 'IR', 'IR', 'O', 'O'], ['O', 'O', 'O', 'BR', 'IR', 'IR', 'IR', 'IR', 'IR', 'IR', 'IR', 'IR', 'IR', 'IR', 'O', 'O', 'O'], ['O', 'O', 'O', 'O', 'O', 'O', 'O', 'O', 'O', 'O', 'O', 'BR', 'IR', 'IR', 'IR', 'O', 'O'], ['O', 'O', 'O', 'O', 'O', 'BR', 'IR', 'IR', 'IR', 'O', 'O', 'O', 'O', 'O', 'O'], ['O', 'O', 'O', 'O', 'BR', 'IR', 'IR', 'O'], ['BR', 'IR', 'O', 'O', 'O', 'O', 'O', 'O', 'O', 'O'], ['BR', 'IR', 'IR', 'IR', 'IR', 'O', 'O', 'O', 'O', 'O', 'O', 'O', 'O', 'O'], ['O', 'O', 'O', 'O', 'O', 'BR', 'IR', 'IR', 'IR', 'IR', 'IR', 'IR', 'O'], ['O', 'O', 'O', 'O', 'BR', 'IR', 'IR', 'IR', 'O', 'O', 'O', 'O', 'O', 'O', 'O'], ['O', 'O', 'O', 'O', 'O', 'O', 'BR', 'IR', 'IR', 'IR', 'IR', 'IR', 'IR', 'IR', 'IR'], ['O', 'BR', 'IR', 'IR', 'IR', 'IR', 'IR', 'IR', 'IR', 'IR', 'IR', 'IR', 'IR', 'IR'], ['BR', 'IR', 'IR', 'IR', 'IR', 'O', 'O', 'O', 'O', 'O', 'O', 'O', 'O', 'O', 'O', 'O', 'O'], ['BR', 'IR', 'IR', 'IR', 'IR', 'IR', 'IR', 'O', 'O', 'O', 'O', 'O', 'O', 'O'], ['O', 'O', 'O', 'O', 'O', 'O', 'BR', 'IR', 'IR', 'O', 'O'], ['O', 'O', 'BR', 'IR', 'IR', 'IR', 'IR', 'IR', 'O', 'O', 'O', 'O', 'O', 'O', 'O', 'O'], ['O', 'BR', 'IR', 'IR', 'O', 'O', 'O', 'O', 'O', 'O'], ['O', 'O', 'O', 'O', 'O', 'O', 'BR', 'IR', 'IR', 'IR', 'O'], ['O', 'O', 'O', 'O', 'O', 'O', 'BR', 'IR', 'IR', 'IR', 'O'], ['BR', 'IR', 'IR', 'O', 'O', 'O', 'O', 'O', 'O', 'O', 'O', 'O', 'O'], ['O', 'O', 'O', 'O', 'O', 'BR', 'IR', 'IR', 'IR', 'IR'], ['O', 'O', 'O', 'BR', 'IR', 'O', 'O', 'O', 'O', 'O', 'O', 'O'], ['O', 'O', 'O', 'BR', 'IR', 'IR', 'IR', 'IR', 'IR', 'IR', 'O'], ['O', 'O', 'O', 'O', 'BR', 'IR', 'IR', 'IR', 'O', 'O', 'O', 'O', 'O'], ['BR', 'IR', 'IR', 'IR', 'IR', 'IR', 'IR', 'IR', 'IR', 'IR', 'IR', 'IR', 'IR', 'O', 'BR', 'IR'], ['O', 'O', 'O', 'O', 'O', 'O', 'O', 'BR', 'IR', 'IR', 'O', 'O', 'O', 'O', 'O'], ['O', 'O', 'BR', 'IR', 'IR', 'IR', 'IR', 'IR', 'IR', 'IR', 'IR', 'IR', 'IR', 'O', 'O', 'O', 'O'], ['O', 'O', 'O', 'O', 'BR', 'IR', 'IR', 'O', 'O', 'O', 'O', 'O'], ['O', 'O', 'O', 'O', 'O', 'O', 'BR', 'IR', 'IR', 'IR', 'IR', 'O'], ['BR', 'IR', 'IR', 'IR', 'IR', 'O', 'O', 'O', 'O', 'O', 'O', 'O', 'O', 'O', 'O', 'O', 'O', 'O', 'O'], ['O', 'O', 'O', 'O', 'O', 'BR', 'IR', 'IR', 'IR', 'IR', 'IR', 'IR', 'IR', 'IR', 'IR', 'IR', 'O', 'O', 'BR', 'IR'], ['BR', 'IR', 'IR', 'IR', 'IR', 'IR', 'O', 'O', 'O', 'O', 'O', 'O', 'O', 'O', 'O', 'O'], ['O', 'O', 'O', 'O', 'O', 'O', 'BR', 'IR', 'IR', 'O', 'O', 'O'], ['BR', 'IR', 'O', 'O', 'O', 'O', 'O', 'O', 'O'], ['BR', 'IR', 'IR', 'IR', 'IR', 'IR', 'IR', 'O', 'O', 'O', 'O', 'O'], ['BR', 'IR', 'IR', 'IR', 'IR', 'IR', 'IR', 'IR', 'IR', 'IR', 'IR', 'IR', 'IR', 'IR'], ['O', 'O', 'O', 'O', 'BR', 'IR', 'IR', 'IR', 'IR', 'O', 'O', 'O', 'O', 'O', 'O', 'O'], ['O', 'O', 'O', 'O', 'O', 'O', 'BR', 'IR', 'IR', 'IR', 'IR', 'IR', 'IR', 'IR', 'IR', 'O', 'O'], ['BR', 'IR', 'IR', 'IR', 'IR', 'IR', 'O', 'O', 'BR', 'IR', 'IR', 'IR', 'IR', 'IR', 'IR', 'IR', 'IR', 'IR', 'IR'], ['BR', 'IR', 'IR', 'IR', 'O', 'O', 'O', 'BR', 'IR', 'IR', 'IR', 'IR', 'IR'], ['BR', 'IR', 'IR', 'O', 'O', 'O', 'O', 'O', 'O', 'O'], ['O', 'BR', 'IR', 'IR', 'O', 'O', 'O', 'O', 'O', 'O', 'O', 'O'], ['O', 'O', 'BR', 'IR', 'IR', 'IR', 'IR', 'IR', 'IR', 'IR', 'IR', 'IR', 'O'], ['O', 'O', 'O', 'O', 'O', 'BR', 'IR', 'IR', 'O', 'O', 'O', 'O'], ['O', 'O', 'O', 'O', 'O', 'O', 'O', 'O', 'BR', 'IR', 'IR', 'IR', 'IR', 'IR', 'IR'], ['O', 'O', 'O', 'O', 'O', 'O', 'O', 'O', 'BR', 'IR', 'IR', 'IR', 'IR', 'IR', 'IR', 'IR', 'IR', 'IR', 'O'], ['O', 'O', 'O', 'O', 'BR', 'IR', 'IR', 'IR', 'O', 'O', 'O', 'O', 'O'], ['O', 'O', 'O', 'O', 'BR', 'IR', 'IR', 'IR', 'IR', 'IR', 'IR', 'O', 'O', 'O', 'O', 'O', 'O', 'O', 'O', 'O', 'O', 'O', 'O', 'O'], ['O', 'O', 'O', 'O', 'O', 'BR', 'IR', 'IR', 'IR', 'IR', 'O', 'O', 'O', 'O', 'O', 'O', 'O', 'O'], ['BR', 'IR', 'IR', 'IR', 'O', 'BR', 'IR', 'IR', 'IR', 'IR', 'O', 'O', 'O', 'O'], ['O', 'O', 'O', 'O', 'O', 'BR', 'IR', 'IR', 'IR', 'IR', 'IR', 'IR', 'IR', 'IR', 'IR', 'IR', 'IR', 'IR', 'O', 'O', 'BR', 'IR'], ['BR', 'IR', 'IR', 'IR', 'IR', 'IR', 'IR', 'IR', 'O', 'O', 'O', 'O', 'O', 'O', 'O', 'O', 'O', 'O'], ['BR', 'IR', 'IR', 'IR', 'O', 'O', 'O', 'BR', 'IR', 'IR', 'IR'], ['O', 'O', 'O', 'BR', 'IR', 'IR', 'IR', 'O', 'O', 'O', 'O', 'O'], ['O', 'O', 'O', 'BR', 'IR', 'IR', 'O', 'O', 'O', 'O', 'O', 'O', 'O', 'O'], ['O', 'O', 'BR', 'IR', 'IR', 'IR', 'O', 'O', 'O', 'O', 'O', 'O', 'O', 'O', 'O', 'O'], ['O', 'O', 'O', 'O', 'O', 'O', 'BR', 'IR', 'IR', 'IR', 'O', 'O', 'O', 'O', 'O', 'O', 'O', 'O', 'O'], ['O', 'O', 'BR', 'IR', 'IR', 'IR', 'IR', 'IR', 'IR', 'IR', 'IR', 'O', 'O', 'O', 'O', 'O', 'O', 'O'], ['O', 'O', 'O', 'O', 'BR', 'IR', 'IR', 'IR', 'O', 'O', 'O', 'O', 'O'], ['BR', 'IR', 'IR', 'IR', 'IR', 'IR', 'IR', 'IR', 'O', 'O', 'BR'], ['O', 'O', 'O', 'O', 'O', 'O', 'O', 'BR', 'IR', 'IR', 'IR', 'IR', 'O', 'O'], ['BR', 'IR', 'IR', 'IR', 'IR', 'O', 'O', 'O', 'O', 'O', 'O', 'O'], ['BR', 'IR', 'IR', 'IR', 'IR', 'IR', 'IR', 'IR', 'IR', 'IR'], ['O', 'O', 'O', 'O', 'O', 'BR', 'IR', 'IR', 'IR', 'O', 'O'], ['BR', 'IR', 'IR', 'O', 'O', 'O', 'O', 'O', 'O', 'O', 'O', 'O', 'O'], ['BR', 'IR', 'IR', 'IR', 'IR', 'O', 'BR', 'IR', 'IR', 'IR', 'IR', 'IR'], ['O', 'O', 'BR', 'IR', 'IR', 'IR', 'IR', 'IR', 'IR', 'IR', 'O'], ['O', 'O', 'O', 'O', 'O', 'O', 'O', 'O', 'O', 'BR', 'IR', 'IR', 'IR', 'IR', 'O', 'O'], ['O', 'O', 'O', 'O', 'BR', 'IR', 'IR', 'IR', 'IR', 'O', 'O'], ['O', 'BR', 'IR', 'O', 'O', 'O', 'O', 'O', 'O', 'O', 'O', 'O'], ['BR', 'IR', 'IR', 'IR', 'IR', 'IR', 'IR', 'IR', 'IR', 'IR', 'IR', 'IR', 'IR', 'IR', 'O', 'O', 'BR', 'IR'], ['BR', 'IR', 'IR', 'IR', 'IR', 'IR', 'IR', 'IR', 'IR', 'IR', 'IR', 'IR', 'IR', 'IR', 'IR', 'IR', 'IR', 'IR'], ['O', 'O', 'O', 'O', 'O', 'O', 'O', 'O', 'O', 'BR', 'IR', 'O'], ['O', 'O', 'O', 'O', 'O', 'O', 'BR', 'IR', 'O', 'O', 'O'], ['O', 'O', 'BR', 'IR', 'IR', 'IR', 'IR', 'IR', 'IR', 'IR', 'IR', 'IR', 'IR', 'IR', 'IR', 'IR', 'IR', 'IR', 'IR', 'IR', 'O', 'O', 'BR', 'IR', 'IR', 'IR', 'IR', 'IR'], ['BR', 'IR', 'IR', 'IR', 'IR', 'IR', 'IR', 'IR', 'IR', 'IR', 'IR', 'IR', 'IR', 'IR', 'IR', 'IR', 'IR', 'IR', 'IR', 'IR'], ['O', 'O', 'BR', 'IR', 'O', 'O', 'O', 'O'], ['BR', 'IR', 'IR', 'IR', 'IR', 'O', 'O', 'O', 'O', 'O', 'O', 'O'], ['O', 'O', 'O', 'O', 'O', 'O', 'O', 'O', 'BR', 'IR', 'IR', 'IR', 'IR', 'IR', 'IR', 'IR', 'IR', 'IR', 'IR'], ['BR', 'IR', 'IR', 'IR', 'IR', 'IR', 'IR', 'IR', 'IR', 'IR', 'IR', 'IR', 'IR'], ['O', 'O', 'O', 'O', 'O', 'BR', 'IR', 'IR', 'IR', 'O', 'O', 'O', 'O', 'O'], ['O', 'O', 'O', 'O', 'BR', 'IR', 'IR', 'IR', 'IR', 'IR', 'IR', 'IR', 'IR', 'IR', 'IR', 'O', 'O', 'O'], ['BR', 'IR', 'O', 'BR', 'IR', 'O', 'O', 'O', 'O', 'O', 'O', 'O', 'BR', 'IR', 'IR', 'IR'], ['O', 'BR', 'IR', 'IR', 'O', 'O', 'O', 'O', 'O', 'O', 'O', 'O', 'O'], ['O', 'O', 'O', 'O', 'O', 'O', 'O', 'O', 'BR', 'IR', 'IR', 'O'], ['O', 'O', 'O', 'O', 'O', 'O', 'BR', 'IR', 'IR', 'IR', 'O'], ['O', 'O', 'O', 'O', 'O', 'O', 'BR', 'IR', 'IR', 'IR', 'O', 'O', 'O', 'O', 'O', 'O'], ['O', 'O', 'O', 'O', 'BR', 'IR', 'IR', 'IR', 'IR', 'IR', 'IR', 'IR', 'IR', 'IR', 'O', 'O', 'O', 'O', 'O'], ['O', 'BR', 'IR', 'IR', 'IR', 'IR', 'IR', 'IR', 'O', 'O', 'O', 'O', 'O', 'O', 'O', 'O'], ['BR', 'IR', 'IR', 'IR', 'IR', 'IR', 'O', 'O', 'O', 'O', 'O', 'O', 'O', 'O', 'O'], ['BR', 'IR', 'IR', 'O', 'O', 'O', 'O', 'O', 'O', 'O', 'O', 'O'], ['O', 'BR', 'IR', 'O', 'O', 'O', 'O', 'O', 'O', 'O', 'O'], ['O', 'O', 'BR', 'IR', 'IR', 'IR', 'IR', 'IR', 'IR', 'IR', 'IR', 'IR', 'IR', 'IR', 'IR', 'IR', 'IR'], ['O', 'O', 'O', 'O', 'O', 'O', 'O', 'O', 'O', 'BR', 'IR', 'IR', 'IR', 'O', 'BR'], ['BR', 'IR', 'IR', 'IR', 'IR', 'O', 'O', 'O', 'O', 'O', 'O', 'O', 'O', 'O'], ['O', 'O', 'BR', 'IR', 'IR', 'IR', 'IR', 'IR', 'IR', 'O', 'O', 'O', 'O', 'O', 'O', 'O', 'O'], ['BR', 'IR', 'IR', 'IR', 'IR', 'O', 'O', 'O', 'O', 'O', 'O', 'O'], ['O', 'O', 'O', 'O', 'BR', 'IR', 'IR', 'IR', 'IR', 'O', 'O', 'O', 'O', 'BR', 'IR', 'IR'], ['BR', 'IR', 'IR', 'IR', 'IR', 'IR', 'O', 'O', 'O', 'O', 'O', 'O', 'O', 'O', 'O', 'O', 'O', 'O'], ['BR', 'IR', 'IR', 'IR', 'IR', 'IR', 'IR', 'O', 'O', 'O', 'O'], ['O', 'O', 'O', 'BR', 'IR', 'IR', 'IR', 'IR', 'IR', 'IR', 'O', 'O', 'BR', 'IR'], ['O', 'O', 'O', 'BR', 'IR', 'IR', 'IR', 'IR', 'O', 'O', 'O', 'O', 'O'], ['BR', 'IR', 'O', 'O', 'O', 'O', 'O', 'O', 'O'], ['O', 'O', 'O', 'O', 'O', 'O', 'BR', 'IR', 'IR', 'IR', 'O', 'O', 'O', 'O'], ['BR', 'IR', 'IR', 'IR', 'IR', 'IR', 'IR', 'IR', 'O', 'BR', 'IR', 'IR', 'IR', 'IR', 'IR', 'IR', 'IR', 'IR', 'IR'], ['BR', 'IR', 'IR', 'IR', 'IR', 'IR', 'IR', 'IR', 'O', 'O', 'O', 'O', 'O', 'O', 'O', 'O'], ['O', 'O', 'O', 'O', 'O', 'O', 'BR', 'IR', 'IR', 'IR', 'IR', 'IR', 'O'], ['O', 'O', 'O', 'O', 'O', 'O', 'BR', 'IR', 'IR', 'O'], ['O', 'O', 'BR', 'IR', 'IR', 'O', 'O', 'O', 'O', 'O', 'O', 'O', 'O'], ['BR', 'IR', 'IR', 'O', 'O', 'O', 'O', 'O', 'O', 'O', 'O'], ['O', 'O', 'O', 'O', 'BR', 'IR', 'IR', 'IR', 'O', 'O', 'O', 'O', 'O', 'O'], ['O', 'O', 'O', 'O', 'BR', 'IR', 'O', 'O', 'O', 'O', 'O', 'O', 'O', 'O'], ['BR', 'IR', 'IR', 'O', 'O', 'O', 'O', 'O', 'O', 'O', 'O', 'O', 'O', 'O', 'O'], ['BR', 'IR', 'IR', 'O', 'O', 'O', 'O', 'O'], ['O', 'O', 'O', 'BR', 'IR', 'IR', 'O', 'O'], ['O', 'O', 'BR', 'IR', 'IR', 'IR', 'IR', 'IR', 'IR', 'IR', 'IR', 'IR', 'IR', 'IR', 'IR', 'IR', 'IR', 'IR', 'IR', 'IR', 'O', 'O', 'BR', 'O', 'O'], ['BR', 'IR', 'O', 'O', 'O', 'O', 'O', 'O', 'O', 'O', 'O', 'O', 'O'], ['BR', 'IR', 'IR', 'O', 'O', 'O', 'O', 'O', 'O'], ['BR', 'IR', 'IR', 'IR', 'IR', 'O', 'O', 'O', 'O', 'O', 'O', 'O', 'O', 'O'], ['O', 'O', 'O', 'O', 'BR', 'IR', 'IR', 'O', 'O', 'O', 'O', 'O', 'O', 'O'], ['O', 'O', 'O', 'BR', 'IR', 'IR', 'IR', 'O', 'O', 'O', 'O', 'O', 'O', 'O', 'O', 'O'], ['O', 'O', 'BR', 'IR', 'IR', 'IR', 'IR', 'IR', 'IR', 'IR', 'IR', 'IR', 'IR', 'IR', 'IR', 'IR', 'IR', 'IR', 'IR'], ['O', 'O', 'O', 'BR', 'IR', 'IR', 'IR', 'IR', 'IR', 'IR', 'IR', 'IR', 'IR', 'IR', 'IR', 'IR', 'O', 'BR'], ['O', 'O', 'O', 'O', 'BR', 'IR', 'IR', 'O', 'O', 'O', 'O', 'O', 'O', 'O', 'O'], ['O', 'O', 'O', 'O', 'BR', 'IR', 'IR', 'IR', 'IR', 'IR', 'IR', 'O', 'O', 'O', 'O', 'O'], ['BR', 'IR', 'IR', 'IR', 'O', 'O', 'O', 'O', 'O', 'O', 'O', 'O', 'O'], ['O', 'O', 'O', 'BR', 'IR', 'IR', 'IR', 'IR', 'IR', 'IR', 'O', 'O', 'O', 'O'], ['BR', 'IR', 'IR', 'IR', 'IR', 'O', 'O', 'O', 'O', 'O', 'O'], ['O', 'O', 'BR', 'IR', 'O', 'O', 'O', 'O', 'O'], ['O', 'O', 'BR', 'IR', 'IR', 'IR', 'IR', 'IR', 'IR', 'IR', 'IR', 'O', 'O', 'BR', 'IR', 'IR', 'IR', 'IR', 'IR', 'IR'], ['O', 'O', 'O', 'O', 'BR', 'IR', 'O', 'O', 'O', 'O', 'O', 'O', 'O', 'O'], ['O', 'O', 'O', 'O', 'O', 'O', 'BR', 'IR', 'IR', 'IR', 'O'], ['O', 'O', 'BR', 'IR', 'IR', 'IR', 'IR', 'IR', 'IR', 'IR', 'IR', 'IR', 'IR'], ['O', 'O', 'BR', 'IR', 'IR', 'IR', 'IR', 'IR', 'IR', 'O'], ['O', 'O', 'O', 'O', 'BR', 'IR', 'IR', 'IR', 'IR', 'IR', 'IR', 'IR', 'IR', 'IR', 'IR'], ['O', 'O', 'O', 'O', 'O', 'O', 'BR', 'IR', 'IR', 'IR', 'IR', 'IR', 'O'], ['O', 'O', 'O', 'O', 'BR', 'IR', 'IR', 'IR', 'O'], ['O', 'O', 'O', 'O', 'O', 'O', 'O', 'O', 'BR', 'IR', 'O'], ['O', 'O', 'O', 'O', 'O', 'O', 'O', 'BR', 'IR', 'IR', 'IR', 'O', 'O'], ['O', 'BR', 'IR', 'IR', 'O', 'O', 'O', 'O', 'O', 'O', 'O', 'O'], ['BR', 'IR', 'IR', 'IR', 'IR', 'IR', 'IR', 'IR', 'IR', 'IR', 'IR', 'IR', 'O', 'BR', 'IR', 'IR', 'IR', 'IR', 'IR', 'IR', 'IR', 'IR', 'IR'], ['BR', 'IR', 'IR', 'IR', 'O', 'O', 'O', 'O', 'O', 'O', 'O'], ['O', 'O', 'O', 'O', 'O', 'O', 'O', 'O', 'BR', 'IR', 'IR', 'O', 'O', 'O', 'O', 'O', 'O'], ['BR', 'IR', 'IR', 'IR', 'IR', 'O', 'O', 'O', 'O', 'O', 'O', 'O', 'O', 'O', 'O', 'O', 'O', 'O', 'O', 'O', 'O', 'O'], ['O', 'O', 'O', 'BR', 'IR', 'IR', 'IR', 'IR', 'IR', 'IR', 'IR', 'IR', 'IR', 'IR', 'IR', 'IR', 'IR', 'IR', 'IR', 'IR', 'O', 'BR'], ['BR', 'IR', 'IR', 'IR', 'IR', 'IR', 'O', 'O', 'O', 'O', 'O', 'O', 'O'], ['O', 'O', 'O', 'O', 'O', 'BR', 'IR', 'IR', 'IR', 'O', 'O', 'BR'], ['O', 'O', 'BR', 'IR', 'IR', 'IR', 'IR', 'IR', 'O', 'O', 'O', 'O', 'O', 'O', 'O'], ['BR', 'IR', 'IR', 'IR', 'IR', 'IR', 'IR', 'IR', 'IR', 'IR', 'IR', 'IR', 'IR', 'IR', 'O', 'BR', 'IR', 'IR', 'IR', 'IR', 'IR', 'IR', 'IR', 'IR'], ['O', 'O', 'O', 'O', 'BR', 'IR', 'O', 'O', 'O', 'O'], ['O', 'O', 'O', 'O', 'O', 'O', 'BR', 'IR', 'IR', 'IR', 'IR', 'IR', 'IR', 'IR', 'IR', 'IR', 'O', 'BR', 'IR', 'IR', 'IR'], ['BR', 'IR', 'IR', 'IR', 'O', 'O', 'O', 'O', 'O', 'O', 'O'], ['O', 'O', 'O', 'O', 'O', 'BR', 'IR', 'IR', 'IR', 'IR', 'IR', 'IR', 'IR', 'O', 'O', 'O', 'O', 'BR', 'O', 'O', 'O', 'O', 'O', 'O', 'O', 'O'], ['O', 'O', 'O', 'O', 'O', 'O', 'O', 'O', 'O', 'O', 'BR', 'IR', 'IR', 'IR', 'O'], ['BR', 'IR', 'IR', 'IR', 'O', 'O', 'O', 'O', 'O', 'O', 'O', 'O', 'O', 'O'], ['O', 'O', 'O', 'O', 'O', 'O', 'O', 'O', 'BR', 'IR', 'IR', 'IR', 'IR', 'IR', 'O', 'O', 'O', 'O', 'O'], ['BR', 'IR', 'O', 'O', 'O', 'O', 'O', 'O', 'O', 'O', 'O', 'O', 'O'], ['BR', 'O', 'BR', 'O', 'BR', 'IR', 'IR', 'IR', 'O', 'O', 'O', 'O', 'O', 'O', 'O', 'O', 'O'], ['BR', 'IR', 'IR', 'O', 'O', 'O', 'O', 'O', 'O', 'O'], ['O', 'O', 'O', 'O', 'BR', 'IR', 'O', 'O', 'O', 'O', 'O', 'O'], ['O', 'O', 'O', 'O', 'O', 'BR', 'IR', 'IR', 'IR', 'O', 'O'], ['O', 'O', 'O', 'BR', 'IR', 'IR', 'IR', 'IR', 'IR', 'IR', 'IR'], ['O', 'O', 'BR', 'IR', 'O', 'O', 'O', 'O', 'O', 'BR', 'IR', 'IR'], ['O', 'O', 'O', 'BR', 'IR', 'IR', 'IR', 'IR', 'IR', 'IR', 'IR', 'O'], ['O', 'O', 'O', 'BR', 'IR', 'IR', 'IR', 'IR', 'IR', 'O', 'O', 'O', 'O', 'O', 'O', 'O', 'O', 'O', 'O'], ['BR', 'IR', 'IR', 'IR', 'IR', 'O', 'O', 'O', 'O', 'O'], ['BR', 'IR', 'IR', 'IR', 'O', 'O', 'O', 'O', 'O'], ['O', 'BR', 'IR', 'O', 'O', 'O', 'O'], ['O', 'O', 'O', 'O', 'O', 'O', 'O', 'O', 'BR', 'IR', 'IR', 'IR', 'O'], ['O', 'O', 'O', 'BR', 'IR', 'IR', 'O', 'O', 'O', 'O', 'O'], ['BR', 'IR', 'O', 'O', 'O', 'O', 'O', 'O', 'O', 'O', 'O', 'O', 'O', 'O', 'O', 'O', 'O', 'O', 'O'], ['BR', 'IR', 'IR', 'IR', 'O', 'O', 'O', 'O', 'O', 'O', 'O', 'O', 'O', 'O', 'O'], ['O', 'O', 'O', 'O', 'O', 'O', 'O', 'BR', 'IR', 'IR', 'IR', 'IR', 'IR', 'IR', 'IR', 'O', 'O', 'O', 'O', 'O', 'O', 'O'], ['BR', 'IR', 'IR', 'IR', 'O', 'O', 'O', 'O', 'O', 'O', 'O', 'O'], ['BR', 'IR', 'IR', 'O', 'O', 'O', 'O', 'O', 'O', 'O', 'O'], ['O', 'O', 'O', 'BR', 'IR', 'IR', 'IR', 'IR', 'IR', 'IR', 'IR', 'IR', 'O', 'O', 'O', 'O', 'O'], ['O', 'O', 'O', 'BR', 'IR', 'IR', 'IR', 'IR', 'IR', 'IR', 'IR', 'O', 'O'], ['O', 'BR', 'IR', 'IR', 'O', 'O', 'O', 'O', 'O'], ['O', 'O', 'O', 'BR', 'IR', 'IR', 'IR', 'IR', 'IR', 'IR', 'IR', 'IR', 'IR', 'IR', 'O', 'O', 'O', 'BR', 'O'], ['BR', 'IR', 'IR', 'IR', 'IR', 'IR', 'IR', 'IR', 'IR', 'IR', 'IR', 'IR', 'IR', 'IR'], ['O', 'O', 'O', 'O', 'BR', 'IR', 'IR', 'IR', 'IR', 'IR', 'IR', 'IR', 'IR', 'IR', 'IR', 'O', 'O', 'O', 'O', 'O', 'O', 'O', 'O', 'O', 'O', 'O'], ['O', 'O', 'BR', 'IR', 'IR', 'IR', 'O', 'O', 'O', 'O', 'O'], ['O', 'BR', 'IR', 'IR', 'IR', 'IR', 'IR', 'IR', 'IR', 'IR', 'IR', 'IR'], ['BR', 'IR', 'IR', 'IR', 'IR', 'IR', 'IR', 'IR', 'IR', 'IR', 'IR', 'O', 'BR'], ['O', 'BR', 'IR', 'O', 'O', 'O', 'O', 'O', 'O', 'O', 'O', 'O', 'O'], ['O', 'O', 'O', 'BR', 'IR', 'IR', 'O', 'O', 'O', 'O', 'O'], ['O', 'O', 'O', 'BR', 'IR', 'IR', 'IR', 'IR', 'O', 'O', 'O', 'O', 'O'], ['O', 'O', 'O', 'O', 'BR', 'IR', 'IR', 'O', 'O', 'O'], ['O', 'BR', 'IR', 'IR', 'O', 'O', 'O', 'O', 'O', 'O', 'O', 'O', 'O'], ['O', 'O', 'O', 'O', 'O', 'BR', 'IR', 'IR', 'IR', 'O', 'O', 'O', 'O', 'O', 'O'], ['BR', 'IR', 'O', 'O', 'O', 'O', 'O', 'O', 'O', 'O', 'O', 'O', 'O', 'O'], ['O', 'O', 'BR', 'IR', 'IR', 'IR', 'IR', 'IR', 'IR', 'IR', 'IR', 'O', 'BR', 'IR'], ['O', 'O', 'BR', 'IR', 'IR', 'O', 'O', 'O', 'O', 'O', 'O', 'O', 'O', 'O'], ['O', 'O', 'O', 'O', 'O', 'O', 'BR', 'IR', 'IR', 'IR', 'IR', 'IR', 'IR', 'IR', 'IR', 'IR', 'O', 'O', 'O', 'O'], ['O', 'BR', 'IR', 'IR', 'IR', 'IR', 'O', 'O', 'O', 'O', 'O'], ['O', 'O', 'BR', 'IR', 'IR', 'IR', 'IR', 'IR', 'O', 'O', 'O', 'O', 'O'], ['O', 'O', 'O', 'O', 'O', 'O', 'O', 'O', 'BR', 'IR', 'IR', 'IR', 'O', 'O'], ['BR', 'IR', 'IR', 'IR', 'IR', 'O', 'O', 'O', 'O', 'O', 'O', 'O', 'O', 'O'], ['BR', 'IR', 'IR', 'IR', 'O', 'O', 'O', 'O', 'O', 'O', 'O', 'O', 'O', 'O'], ['BR', 'IR', 'IR', 'IR', 'IR', 'IR', 'IR', 'O', 'O', 'BR', 'IR', 'IR', 'IR', 'O', 'O', 'O', 'O', 'O'], ['O', 'O', 'O', 'O', 'O', 'BR', 'IR', 'IR', 'O', 'O', 'O', 'O'], ['BR', 'IR', 'IR', 'IR', 'IR', 'O', 'O', 'O', 'O', 'O', 'O', 'O', 'O', 'O', 'O'], ['BR', 'IR', 'IR', 'IR', 'IR', 'IR', 'IR', 'IR', 'IR', 'IR', 'IR', 'O', 'O'], ['O', 'O', 'BR', 'IR', 'IR', 'IR', 'IR', 'IR', 'IR', 'IR', 'IR', 'IR', 'IR', 'IR', 'IR', 'IR', 'IR', 'IR', 'O', 'O', 'BR', 'IR', 'IR', 'O', 'O', 'BR'], ['O', 'O', 'O', 'O', 'O', 'BR', 'IR', 'O', 'O', 'O', 'O', 'O', 'O', 'O'], ['O', 'BR', 'IR', 'IR', 'IR', 'O', 'O', 'O', 'O', 'O', 'O', 'O', 'O', 'O', 'O', 'O'], ['O', 'O', 'O', 'O', 'O', 'O', 'BR', 'IR', 'IR', 'O', 'O', 'O', 'O', 'O'], ['O', 'O', 'O', 'O', 'BR', 'IR', 'IR', 'O', 'O', 'O', 'O', 'O', 'O'], ['O', 'O', 'O', 'BR', 'IR', 'O', 'O', 'O', 'O'], ['O', 'O', 'BR', 'IR', 'IR', 'IR', 'O', 'O', 'O', 'O', 'O', 'O', 'O', 'O', 'O', 'O'], ['O', 'O', 'BR', 'IR', 'IR', 'O', 'O', 'O', 'O', 'O', 'O', 'O', 'O', 'O', 'O'], ['O', 'O', 'O', 'O', 'BR', 'IR', 'O', 'O', 'O', 'O', 'O', 'O', 'O', 'O'], ['O', 'O', 'BR', 'IR', 'IR', 'O', 'O', 'O', 'O', 'O', 'O', 'O', 'O', 'O'], ['O', 'O', 'O', 'O', 'O', 'BR', 'IR', 'IR', 'IR', 'O', 'O'], ['O', 'O', 'BR', 'IR', 'IR', 'IR', 'IR', 'O', 'O', 'O', 'O', 'O', 'O', 'O', 'O'], ['BR', 'IR', 'IR', 'O', 'O', 'O', 'O', 'O', 'O', 'O', 'O'], ['BR', 'IR', 'O', 'O', 'O', 'O', 'O', 'O', 'O', 'O'], ['BR', 'IR', 'IR', 'IR', 'IR', 'O', 'O', 'O', 'O', 'O'], ['O', 'O', 'O', 'BR', 'IR', 'IR', 'IR', 'IR', 'O'], ['O', 'O', 'O', 'O', 'O', 'BR', 'IR', 'IR', 'IR', 'IR', 'IR', 'IR', 'IR', 'IR', 'IR', 'IR', 'IR', 'IR', 'IR', 'O', 'O', 'O', 'O', 'O'], ['O', 'O', 'O', 'O', 'O', 'O', 'BR', 'IR', 'IR', 'IR', 'IR', 'IR', 'O'], ['O', 'O', 'O', 'O', 'O', 'BR', 'IR', 'IR', 'IR', 'O', 'O', 'O'], ['BR', 'IR', 'IR', 'IR', 'O', 'O', 'O', 'O', 'O', 'O', 'O'], ['O', 'BR', 'IR', 'IR', 'O', 'O', 'O'], ['O', 'O', 'BR', 'O', 'BR', 'IR', 'IR', 'IR', 'IR', 'IR', 'IR', 'O', 'O', 'O', 'O', 'O', 'O', 'O', 'O', 'O'], ['BR', 'IR', 'IR', 'O', 'O', 'O', 'O', 'O', 'BR', 'O', 'O', 'O', 'O', 'O', 'O', 'O'], ['O', 'BR', 'IR', 'IR', 'IR', 'IR', 'IR', 'IR', 'IR', 'IR', 'IR', 'IR', 'IR', 'IR', 'IR', 'IR', 'IR', 'IR', 'IR', 'IR'], ['O', 'O', 'O', 'O', 'O', 'O', 'O', 'O', 'O', 'BR', 'IR', 'IR', 'IR', 'IR', 'O', 'O'], ['O', 'O', 'O', 'O', 'O', 'O', 'O', 'BR', 'IR', 'IR', 'IR', 'IR', 'O'], ['O', 'O', 'O', 'O', 'O', 'O', 'O', 'O', 'O', 'BR', 'IR', 'IR', 'IR', 'IR', 'IR', 'IR', 'IR', 'O', 'BR', 'IR', 'O', 'O'], ['O', 'O', 'O', 'O', 'O', 'O', 'O', 'O', 'O', 'BR', 'IR', 'IR', 'O', 'O'], ['O', 'O', 'O', 'BR', 'IR', 'IR', 'IR', 'IR', 'IR', 'O', 'O', 'O', 'O', 'O'], ['O', 'BR', 'IR', 'IR', 'IR', 'IR', 'IR', 'IR', 'IR', 'IR', 'IR', 'IR', 'IR', 'IR', 'IR', 'IR'], ['O', 'O', 'O', 'O', 'O', 'BR', 'IR', 'IR', 'IR', 'IR', 'IR', 'IR', 'O', 'O', 'O', 'O'], ['O', 'O', 'O', 'O', 'O', 'O', 'O', 'O', 'O', 'O', 'O', 'BR', 'IR', 'IR', 'IR', 'IR', 'O', 'O'], ['O', 'O', 'O', 'BR', 'IR', 'IR', 'IR', 'IR', 'IR', 'IR', 'IR', 'O', 'O', 'O', 'O', 'O', 'O', 'O'], ['BR', 'IR', 'IR', 'IR', 'O', 'O', 'O', 'O', 'O', 'O', 'O', 'O', 'O', 'O'], ['O', 'O', 'O', 'O', 'O', 'O', 'BR', 'IR', 'IR', 'IR', 'O', 'O'], ['O', 'O', 'BR', 'IR', 'IR', 'IR', 'IR', 'IR', 'O', 'O', 'O', 'O'], ['O', 'O', 'O', 'O', 'O', 'O', 'O', 'O', 'O', 'O', 'BR', 'IR', 'IR', 'IR', 'O', 'O', 'O'], ['O', 'O', 'O', 'BR', 'IR', 'IR', 'O', 'O', 'O', 'O', 'O', 'O', 'O'], ['O', 'BR', 'IR', 'IR', 'IR', 'IR', 'IR', 'O', 'O', 'O', 'O', 'O', 'O', 'O', 'O', 'O'], ['O', 'BR', 'IR', 'IR', 'IR', 'O', 'O', 'O', 'O', 'O', 'O', 'O', 'O'], ['O', 'BR', 'IR', 'IR', 'O', 'O', 'O', 'O', 'O', 'O'], ['O', 'O', 'O', 'O', 'BR', 'IR', 'IR', 'IR', 'IR', 'IR', 'IR', 'IR', 'IR', 'IR'], ['O', 'O', 'BR', 'IR', 'IR', 'IR', 'IR', 'IR', 'IR', 'O', 'O', 'O', 'O', 'O', 'O', 'O'], ['BR', 'IR', 'IR', 'IR', 'IR', 'O', 'O', 'O', 'O', 'O', 'O', 'O', 'O', 'O'], ['BR', 'IR', 'O', 'O', 'O', 'O', 'O', 'O', 'O', 'O', 'O'], ['O', 'O', 'O', 'O', 'O', 'O', 'O', 'O', 'BR', 'IR', 'IR', 'IR', 'IR', 'O', 'O', 'O'], ['O', 'O', 'O', 'O', 'O', 'O', 'O', 'O', 'O', 'BR', 'IR', 'IR', 'IR', 'O'], ['O', 'O', 'BR', 'IR', 'IR', 'IR', 'O', 'O', 'O', 'O', 'O', 'O', 'O'], ['BR', 'IR', 'IR', 'IR', 'O', 'O', 'O', 'O', 'O', 'O', 'O', 'O', 'O'], ['BR', 'O', 'BR', 'IR', 'IR', 'O', 'O', 'O', 'O', 'O', 'O', 'O', 'O'], ['O', 'BR', 'IR', 'IR', 'IR', 'IR', 'O', 'O', 'O', 'O', 'O', 'O', 'O', 'O', 'O', 'O'], ['O', 'O', 'O', 'O', 'O', 'BR', 'IR', 'IR', 'O', 'O', 'O', 'O', 'O', 'O', 'O', 'O', 'O', 'O', 'O', 'O', 'O', 'O'], ['O', 'O', 'BR', 'IR', 'IR', 'IR', 'O', 'O', 'O', 'O', 'O', 'O', 'O', 'O', 'O', 'O', 'O'], ['O', 'BR', 'IR', 'IR', 'O', 'O', 'O', 'O', 'O', 'O', 'O', 'O', 'O'], ['O', 'O', 'O', 'BR', 'IR', 'IR', 'IR', 'O', 'O', 'O', 'O', 'O', 'O', 'O', 'O', 'O', 'O', 'O', 'O', 'O', 'O', 'O', 'O'], ['BR', 'IR', 'IR', 'IR', 'IR', 'IR', 'IR', 'O', 'O', 'O', 'O', 'O', 'O', 'O', 'O', 'O', 'O', 'O', 'O'], ['O', 'O', 'BR', 'IR', 'IR', 'IR', 'IR', 'O', 'O', 'O', 'O', 'O', 'O', 'O', 'O'], ['BR', 'IR', 'IR', 'O', 'O', 'O', 'O', 'O', 'O', 'O', 'O'], ['O', 'O', 'BR', 'IR', 'IR', 'O', 'O', 'O', 'O', 'O', 'O', 'O'], ['O', 'O', 'O', 'O', 'O', 'O', 'BR', 'IR', 'IR', 'O', 'O', 'O', 'O', 'O', 'O', 'O', 'O', 'O'], ['O', 'O', 'O', 'O', 'BR', 'IR', 'IR', 'IR', 'O', 'O'], ['O', 'O', 'O', 'O', 'O', 'O', 'O', 'O', 'O', 'O', 'O', 'BR', 'IR', 'IR', 'IR', 'O', 'O', 'O', 'O', 'O'], ['O', 'O', 'O', 'BR', 'IR', 'IR', 'O', 'O', 'O', 'O', 'O', 'O', 'O', 'O', 'O', 'O', 'O', 'O', 'O'], ['O', 'BR', 'IR', 'IR', 'IR', 'IR', 'O', 'O', 'O', 'O', 'O', 'O', 'O', 'O'], ['BR', 'IR', 'IR', 'IR', 'O', 'O', 'O', 'O', 'O', 'O', 'O', 'O', 'O', 'O', 'O', 'O', 'O', 'O', 'O'], ['O', 'O', 'O', 'O', 'BR', 'IR', 'IR', 'O', 'O'], ['O', 'O', 'O', 'O', 'BR', 'IR', 'IR', 'IR', 'IR', 'O', 'O', 'O', 'O', 'O', 'O', 'O', 'O', 'O', 'O', 'O', 'O'], ['O', 'BR', 'IR', 'IR', 'O', 'O', 'O', 'O', 'O', 'O', 'O', 'O', 'O', 'O', 'O', 'O', 'O', 'O', 'O'], ['O', 'O', 'O', 'O', 'O', 'O', 'BR', 'IR', 'IR', 'O'], ['O', 'BR', 'IR', 'IR', 'IR', 'O', 'O', 'O', 'O', 'O', 'O', 'O', 'O', 'O'], ['BR', 'IR', 'IR', 'IR', 'IR', 'O', 'O', 'O', 'O', 'O', 'O'], ['BR', 'IR', 'IR', 'O', 'O', 'O', 'O', 'O', 'O', 'O', 'O', 'O'], ['BR', 'IR', 'IR', 'IR', 'IR', 'IR', 'IR', 'O', 'O', 'O', 'O', 'O', 'O', 'O', 'O', 'O'], ['O', 'BR', 'IR', 'IR', 'IR', 'IR', 'IR', 'IR', 'IR', 'IR', 'O', 'BR'], ['O', 'O', 'O', 'O', 'O', 'BR', 'IR', 'IR', 'O', 'O', 'O', 'BR'], ['O', 'O', 'O', 'O', 'BR', 'IR', 'IR', 'IR', 'IR', 'O', 'O'], ['O', 'O', 'O', 'O', 'O', 'BR', 'IR', 'IR', 'IR', 'IR', 'IR', 'IR', 'IR', 'O', 'O', 'O', 'O'], ['BR', 'IR', 'O', 'BR', 'IR', 'IR', 'O', 'O', 'O', 'O', 'O', 'O', 'O', 'O', 'O'], ['O', 'O', 'O', 'O', 'O', 'O', 'O', 'O', 'O', 'BR', 'IR', 'IR', 'IR', 'IR', 'IR', 'O', 'BR'], ['O', 'O', 'O', 'BR', 'IR', 'IR', 'IR', 'O'], ['O', 'O', 'BR', 'IR', 'IR', 'IR', 'IR', 'IR', 'IR', 'IR', 'O', 'O', 'O', 'O'], ['O', 'BR', 'IR', 'IR', 'IR', 'O', 'O', 'O', 'O', 'O', 'O'], ['BR', 'IR', 'IR', 'O', 'O', 'O', 'O', 'BR', 'IR', 'IR', 'IR', 'IR', 'IR', 'IR', 'IR', 'IR', 'IR', 'IR', 'IR'], ['BR', 'IR', 'IR', 'IR', 'O', 'O', 'O', 'O', 'O', 'O', 'O', 'O', 'O', 'O', 'O'], ['BR', 'IR', 'IR', 'IR', 'IR', 'IR', 'IR', 'IR'], ['BR', 'IR', 'IR', 'IR', 'IR', 'O', 'O', 'O', 'O', 'O', 'O'], ['O', 'BR', 'IR', 'IR', 'IR', 'IR', 'IR', 'IR', 'IR', 'IR', 'IR', 'IR', 'IR', 'IR'], ['O', 'O', 'O', 'O', 'O', 'O', 'O', 'O', 'O', 'O', 'O', 'O', 'O', 'O', 'O', 'BR', 'IR', 'IR', 'O'], ['O', 'O', 'O', 'BR', 'IR', 'O', 'O', 'O', 'O', 'O', 'O', 'O', 'O', 'O', 'O'], ['O', 'BR', 'IR', 'IR', 'IR', 'IR', 'O', 'O', 'O', 'O', 'O', 'O', 'O', 'O'], ['O', 'BR', 'IR', 'IR', 'IR', 'IR', 'O', 'O', 'O', 'BR', 'O', 'O', 'O', 'O', 'O', 'O'], ['O', 'BR', 'IR', 'IR', 'IR', 'IR', 'O', 'O', 'O', 'O', 'O', 'O', 'O', 'O', 'O', 'O', 'O', 'O', 'O'], ['O', 'O', 'O', 'O', 'O', 'O', 'O', 'O', 'O', 'O', 'O', 'O', 'BR', 'IR', 'IR', 'IR', 'IR', 'O', 'O'], ['O', 'O', 'O', 'O', 'O', 'O', 'O', 'O', 'O', 'O', 'O', 'BR', 'IR', 'IR', 'O', 'O'], ['O', 'O', 'O', 'BR', 'IR', 'O', 'O', 'O', 'O', 'O', 'O'], ['O', 'O', 'BR', 'IR', 'IR', 'IR', 'IR', 'IR', 'IR', 'IR', 'IR', 'IR', 'IR', 'IR', 'O'], ['BR', 'IR', 'IR', 'IR', 'O', 'O', 'O', 'O', 'O', 'O', 'O', 'O', 'O', 'O', 'O', 'O', 'O', 'O'], ['BR', 'IR', 'IR', 'IR', 'IR', 'IR', 'IR', 'IR', 'IR', 'IR', 'IR', 'IR', 'O', 'O', 'O', 'O'], ['O', 'O', 'O', 'O', 'BR', 'IR', 'IR', 'IR', 'O', 'O', 'O', 'O', 'O', 'O', 'O', 'O', 'O', 'O'], ['BR', 'IR', 'IR', 'IR', 'IR', 'IR', 'IR', 'IR', 'IR', 'IR', 'IR', 'IR', 'IR', 'O'], ['O', 'O', 'O', 'O', 'O', 'BR', 'IR', 'IR', 'O', 'O', 'O', 'O', 'O', 'O', 'O', 'O', 'O', 'O', 'O'], ['O', 'O', 'O', 'O', 'O', 'O', 'O', 'O', 'O', 'O', 'O', 'O', 'BR', 'IR', 'IR', 'IR', 'O', 'O'], ['BR', 'IR', 'IR', 'IR', 'IR', 'IR', 'IR', 'IR', 'IR', 'O', 'O', 'O', 'O', 'O', 'O', 'O', 'O', 'O', 'O', 'O'], ['BR', 'O', 'BR', 'IR', 'IR', 'IR', 'O', 'O', 'O', 'O', 'O', 'O', 'O', 'O', 'O', 'O'], ['O', 'O', 'O', 'O', 'O', 'O', 'O', 'O', 'BR', 'IR', 'IR', 'IR', 'IR', 'O', 'O'], ['O', 'BR', 'IR', 'IR', 'O', 'O', 'O', 'O', 'O', 'O', 'O', 'O', 'O', 'O', 'O', 'O', 'O', 'O'], ['BR', 'IR', 'IR', 'IR', 'IR', 'IR', 'O', 'O', 'O', 'O', 'O', 'O', 'O', 'O', 'O', 'O', 'O', 'O', 'O'], ['O', 'BR', 'IR', 'IR', 'O', 'O', 'O', 'O', 'O', 'O', 'O', 'O', 'O'], ['O', 'O', 'O', 'O', 'BR', 'IR', 'IR', 'IR', 'IR', 'O', 'O', 'O', 'O', 'O', 'O', 'O', 'O', 'O', 'O'], ['O', 'O', 'O', 'O', 'O', 'O', 'O', 'O', 'O', 'BR', 'IR', 'O', 'O', 'O', 'O', 'O', 'O', 'O', 'O', 'O', 'O'], ['O', 'O', 'O', 'O', 'O', 'O', 'O', 'O', 'O', 'O', 'O', 'O', 'O', 'O', 'O', 'O', 'O', 'O', 'O', 'BR', 'IR', 'IR', 'IR', 'O', 'O', 'O'], ['O', 'O', 'O', 'O', 'O', 'O', 'BR', 'IR', 'IR', 'IR', 'IR', 'IR', 'IR', 'IR', 'IR'], ['O', 'BR', 'IR', 'IR', 'IR', 'O', 'BR', 'IR', 'IR', 'IR', 'IR', 'IR', 'IR', 'IR', 'IR', 'IR', 'O', 'O', 'O', 'O', 'O', 'O', 'O', 'O', 'O', 'O', 'O', 'O'], ['O', 'O', 'O', 'O', 'O', 'O', 'O', 'O', 'O', 'O', 'O', 'O', 'O', 'O', 'O', 'O', 'O', 'O', 'BR', 'IR', 'IR', 'IR', 'IR', 'O', 'BR', 'IR'], ['O', 'O', 'O', 'O', 'O', 'O', 'O', 'O', 'O', 'BR', 'IR', 'IR', 'IR', 'IR', 'IR', 'IR', 'O', 'O', 'O'], ['O', 'O', 'O', 'O', 'O', 'O', 'O', 'O', 'O', 'O', 'O', 'O', 'O', 'O', 'BR', 'IR', 'IR', 'O', 'O', 'O', 'O', 'O', 'O'], ['O', 'O', 'O', 'O', 'O', 'O', 'O', 'O', 'O', 'BR', 'IR', 'IR', 'IR', 'IR', 'IR', 'IR', 'IR', 'O', 'O', 'O'], ['O', 'BR', 'IR', 'IR', 'O', 'O', 'O', 'O', 'O', 'O', 'O', 'O'], ['O', 'O', 'O', 'O', 'O', 'O', 'O', 'O', 'O', 'O', 'O', 'BR', 'IR', 'IR', 'IR', 'O'], ['O', 'BR', 'IR', 'IR', 'O', 'O', 'O', 'O', 'O', 'O', 'O', 'O'], ['O', 'O', 'O', 'O', 'O', 'O', 'BR', 'IR', 'IR', 'IR', 'IR', 'IR', 'O', 'O', 'O', 'O'], ['O', 'O', 'O', 'O', 'BR', 'IR', 'IR', 'IR', 'IR', 'IR', 'IR', 'IR', 'IR', 'O', 'O', 'O'], ['O', 'O', 'O', 'O', 'BR', 'IR', 'IR', 'IR', 'O', 'O', 'O', 'O'], ['BR', 'IR', 'IR', 'O', 'O', 'O', 'O', 'O', 'O', 'O', 'O', 'O', 'O'], ['O', 'O', 'O', 'O', 'BR', 'IR', 'IR', 'O', 'O', 'O', 'O'], ['BR', 'IR', 'IR', 'O', 'O', 'O', 'O', 'O', 'O', 'O', 'O', 'O'], ['BR', 'IR', 'IR', 'O', 'O', 'O', 'O', 'O', 'O', 'O', 'O'], ['BR', 'IR', 'IR', 'IR', 'IR', 'IR', 'IR', 'IR', 'IR', 'IR', 'IR', 'IR', 'IR', 'IR', 'IR', 'IR', 'IR', 'IR', 'IR'], ['O', 'O', 'O', 'O', 'O', 'O', 'BR', 'IR', 'IR', 'O', 'O', 'O', 'O', 'O', 'O', 'O'], ['O', 'O', 'O', 'O', 'O', 'O', 'O', 'O', 'O', 'O', 'O', 'O', 'O', 'O', 'O', 'O', 'BR', 'IR', 'IR', 'IR', 'IR', 'IR', 'IR', 'IR'], ['O', 'O', 'O', 'O', 'O', 'BR', 'IR', 'IR', 'IR', 'IR', 'O', 'O', 'O', 'O', 'O', 'O', 'O', 'O', 'O'], ['O', 'O', 'O', 'O', 'O', 'O', 'O', 'O', 'O', 'O', 'O', 'BR', 'IR', 'IR', 'IR', 'IR', 'IR', 'IR', 'IR', 'O', 'O'], ['O', 'O', 'O', 'O', 'O', 'O', 'O', 'O', 'BR', 'IR', 'IR', 'IR', 'IR', 'IR', 'IR', 'IR', 'IR', 'IR', 'IR', 'IR', 'IR', 'IR', 'O', 'O', 'O', 'O', 'BR', 'IR', 'IR', 'IR', 'IR', 'IR'], ['BR', 'O', 'BR', 'IR', 'IR', 'IR', 'IR', 'O', 'O', 'O', 'O', 'O', 'O', 'O', 'O'], ['BR', 'IR', 'IR', 'IR', 'IR', 'IR', 'O', 'O', 'O', 'O', 'O', 'O', 'O', 'O', 'O', 'O', 'O'], ['BR', 'IR', 'IR', 'IR', 'IR', 'IR', 'IR', 'IR', 'IR', 'IR', 'O', 'O', 'O', 'O', 'O', 'O', 'O', 'O', 'O', 'O', 'BR', 'IR', 'IR', 'IR'], ['O', 'O', 'BR', 'IR', 'IR', 'O', 'O', 'O', 'O', 'O', 'O', 'O'], ['O', 'O', 'BR', 'IR', 'IR', 'O', 'O', 'O', 'O', 'O', 'O', 'O', 'O'], ['BR', 'IR', 'IR', 'IR', 'O', 'O', 'O', 'O', 'O', 'O', 'O', 'O'], ['BR', 'IR', 'IR', 'IR', 'IR', 'IR', 'IR', 'IR', 'IR', 'IR', 'IR', 'IR', 'IR', 'IR', 'IR', 'IR', 'IR', 'IR', 'IR', 'IR', 'IR', 'IR', 'IR', 'IR', 'IR'], ['O', 'O', 'O', 'O', 'O', 'O', 'O', 'O', 'O', 'O', 'O', 'O', 'BR', 'IR', 'IR', 'O', 'O', 'O', 'O', 'O'], ['O', 'O', 'BR', 'IR', 'IR', 'IR', 'O', 'O', 'O', 'O', 'O', 'O', 'O'], ['O', 'O', 'BR', 'IR', 'IR', 'IR', 'IR', 'IR', 'IR', 'IR', 'IR', 'IR', 'O', 'O', 'O', 'O', 'O', 'O', 'O', 'O'], ['O', 'BR', 'IR', 'IR', 'IR', 'IR', 'IR', 'O', 'O', 'O', 'O', 'O', 'O', 'O'], ['BR', 'IR', 'IR', 'IR', 'O', 'O', 'O', 'O', 'O', 'O', 'O', 'O', 'O', 'O', 'O', 'O', 'O', 'O'], ['O', 'BR', 'O', 'BR', 'IR', 'O', 'BR', 'IR', 'IR', 'IR', 'IR', 'IR', 'IR', 'O', 'BR', 'IR', 'IR', 'IR', 'IR', 'IR', 'IR', 'IR', 'IR', 'IR', 'IR', 'IR', 'IR', 'IR', 'IR'], ['O', 'O', 'O', 'O', 'O', 'O', 'O', 'O', 'O', 'O', 'O', 'O', 'O', 'BR', 'IR', 'IR', 'IR', 'O', 'O'], ['BR', 'IR', 'O', 'O', 'O', 'O', 'O', 'O', 'O', 'O', 'O', 'O', 'O', 'O', 'O', 'O', 'O', 'O'], ['BR', 'IR', 'IR', 'IR', 'IR', 'IR', 'O', 'O', 'O', 'BR', 'IR', 'IR', 'IR', 'IR', 'IR', 'IR', 'IR', 'IR', 'IR', 'IR', 'IR', 'IR', 'IR', 'IR'], ['O', 'BR', 'IR', 'O', 'O', 'O', 'O', 'O', 'O', 'O', 'O', 'O', 'O', 'O', 'O'], ['BR', 'IR', 'IR', 'O', 'O', 'O', 'O', 'O', 'O', 'O', 'O', 'O', 'O', 'O', 'O', 'O', 'O', 'O', 'O'], ['O', 'BR', 'IR', 'IR', 'IR', 'IR', 'O', 'O', 'O', 'O', 'O', 'O', 'O', 'O', 'O'], ['O', 'O', 'O', 'BR', 'IR', 'IR', 'O', 'O', 'O', 'O', 'O'], ['O', 'O', 'O', 'BR', 'IR', 'IR', 'O', 'O', 'O', 'O', 'O', 'O', 'O', 'O'], ['O', 'O', 'BR', 'IR', 'IR', 'IR', 'IR', 'IR', 'IR', 'O', 'O', 'O', 'O', 'O', 'O'], ['O', 'O', 'O', 'BR', 'IR', 'O', 'O', 'O', 'O', 'O', 'O', 'O', 'O'], ['BR', 'IR', 'IR', 'IR', 'O', 'O', 'O', 'O', 'O', 'O', 'O', 'O', 'O', 'O', 'O', 'O', 'O'], ['O', 'O', 'O', 'O', 'O', 'O', 'O', 'O', 'O', 'O', 'BR', 'IR', 'IR', 'IR', 'IR', 'IR', 'IR', 'O'], ['BR', 'IR', 'IR', 'IR', 'IR', 'IR', 'O', 'O', 'O', 'BR', 'IR', 'IR', 'IR', 'IR'], ['O', 'O', 'O', 'O', 'O', 'BR', 'IR', 'IR', 'IR', 'O', 'O', 'O', 'O', 'O', 'O'], ['O', 'BR', 'IR', 'IR', 'O', 'O', 'O', 'O', 'O', 'O', 'O', 'O', 'O', 'O', 'O', 'O'], ['O', 'BR', 'IR', 'IR', 'IR', 'IR', 'IR', 'IR', 'IR', 'O', 'O', 'O', 'O', 'O', 'O', 'O', 'O', 'O'], ['O', 'O', 'O', 'O', 'O', 'O', 'O', 'O', 'BR', 'IR', 'IR', 'IR', 'IR', 'IR', 'O', 'O', 'O'], ['O', 'O', 'O', 'BR', 'IR', 'IR', 'IR', 'IR', 'O', 'O', 'O', 'O', 'O', 'O', 'O', 'O'], ['O', 'BR', 'IR', 'IR', 'IR', 'O', 'O', 'O', 'O', 'O', 'O', 'O', 'O', 'O'], ['O', 'O', 'O', 'O', 'O', 'O', 'O', 'O', 'BR', 'IR', 'IR', 'IR', 'IR', 'O', 'O'], ['O', 'O', 'O', 'O', 'O', 'O', 'O', 'O', 'BR', 'IR', 'IR', 'IR', 'IR', 'IR', 'IR', 'O', 'O'], ['O', 'BR', 'IR', 'IR', 'IR', 'O', 'O', 'O', 'O', 'O', 'O', 'O', 'O', 'O', 'O'], ['BR', 'IR', 'IR', 'IR', 'IR', 'IR', 'IR', 'IR', 'O', 'O', 'O', 'O', 'O'], ['O', 'BR', 'IR', 'IR', 'IR', 'IR', 'IR', 'IR', 'IR', 'IR', 'O', 'O', 'O', 'O', 'O', 'O', 'O', 'O', 'O'], ['O', 'O', 'O', 'O', 'O', 'O', 'O', 'O', 'O', 'BR', 'IR', 'IR', 'IR', 'O', 'O'], ['O', 'BR', 'IR', 'IR', 'IR', 'O', 'O', 'O', 'O', 'O'], ['O', 'O', 'O', 'O', 'O', 'O', 'O', 'O', 'BR', 'IR', 'IR', 'IR', 'IR', 'IR', 'IR', 'IR', 'IR', 'IR', 'IR', 'O', 'O'], ['O', 'O', 'BR', 'IR', 'IR', 'IR', 'IR', 'IR', 'IR', 'O', 'BR', 'IR', 'IR', 'IR', 'IR', 'IR'], ['O', 'O', 'O', 'BR', 'IR', 'O', 'O', 'O', 'O', 'O', 'O'], ['BR', 'IR', 'IR', 'IR', 'O', 'O', 'O', 'O', 'O', 'O', 'O'], ['O', 'O', 'O', 'O', 'O', 'BR', 'IR', 'IR', 'IR', 'O'], ['BR', 'IR', 'IR', 'IR', 'IR', 'O', 'O', 'O', 'O', 'O', 'O', 'O', 'O', 'O', 'O', 'O', 'O', 'O'], ['O', 'O', 'O', 'O', 'O', 'O', 'BR', 'IR', 'IR', 'IR', 'IR', 'IR', 'O'], ['O', 'O', 'O', 'O', 'O', 'O', 'O', 'BR', 'IR', 'IR', 'IR', 'O', 'O'], ['O', 'O', 'BR', 'IR', 'IR', 'IR', 'IR', 'IR', 'O', 'O', 'O', 'O', 'O'], ['O', 'BR', 'IR', 'IR', 'IR', 'IR', 'IR', 'IR', 'IR', 'IR', 'IR', 'IR', 'IR', 'IR', 'IR', 'O'], ['BR', 'IR', 'IR', 'IR', 'IR', 'IR', 'IR', 'IR', 'IR', 'IR', 'IR', 'O', 'O', 'O', 'O', 'O', 'O', 'O', 'BR', 'IR', 'IR', 'IR', 'IR', 'IR', 'IR', 'IR'], ['O', 'O', 'O', 'O', 'O', 'O', 'O', 'BR', 'IR', 'IR', 'O'], ['O', 'O', 'O', 'O', 'O', 'BR', 'IR', 'IR', 'IR', 'IR', 'IR', 'IR', 'IR', 'IR', 'IR', 'O', 'O', 'O', 'O', 'O', 'O', 'O', 'O'], ['O', 'BR', 'IR', 'IR', 'O', 'O', 'O', 'O', 'O', 'O', 'O', 'O', 'O', 'O'], ['O', 'BR', 'IR', 'IR', 'IR', 'O', 'O', 'O', 'O', 'O', 'O', 'O', 'O', 'O', 'O'], ['O', 'O', 'O', 'O', 'O', 'O', 'O', 'BR', 'IR', 'IR', 'IR', 'IR', 'IR', 'IR', 'IR', 'IR', 'IR', 'IR', 'IR', 'IR', 'IR', 'IR', 'IR', 'IR', 'IR'], ['BR', 'IR', 'IR', 'IR', 'O', 'O', 'O', 'O', 'O', 'O', 'O', 'O'], ['O', 'O', 'O', 'O', 'O', 'O', 'BR', 'IR', 'IR', 'IR', 'IR', 'IR', 'O', 'O', 'O', 'O', 'O', 'O', 'O'], ['O', 'BR', 'IR', 'IR', 'IR', 'IR', 'IR', 'IR', 'IR', 'IR', 'IR', 'O', 'O', 'O', 'O', 'O', 'O', 'O', 'O', 'O'], ['O', 'O', 'O', 'O', 'O', 'O', 'O', 'O', 'O', 'O', 'BR', 'IR', 'IR', 'IR', 'O'], ['O', 'BR', 'IR', 'IR', 'O', 'O'], ['O', 'O', 'O', 'O', 'O', 'BR', 'IR', 'IR', 'IR', 'IR', 'IR', 'O'], ['BR', 'IR', 'IR', 'IR', 'IR', 'IR', 'IR', 'IR', 'IR', 'IR'], ['O', 'O', 'O', 'O', 'BR', 'IR', 'IR', 'O', 'O', 'O', 'O', 'O', 'O'], ['O', 'O', 'O', 'O', 'O', 'O', 'O', 'O', 'O', 'O', 'BR', 'IR', 'IR', 'IR', 'O'], ['O', 'BR', 'IR', 'IR', 'IR', 'IR', 'IR', 'IR', 'IR', 'IR', 'IR', 'IR', 'IR', 'IR', 'IR', 'IR', 'IR', 'O', 'O'], ['O', 'O', 'O', 'O', 'O', 'BR', 'IR', 'IR', 'IR', 'IR', 'IR', 'IR', 'O'], ['O', 'O', 'O', 'O', 'BR', 'IR', 'IR', 'IR', 'IR', 'O', 'O'], ['O', 'O', 'O', 'O', 'BR', 'IR', 'IR', 'IR', 'IR', 'IR', 'IR', 'IR', 'IR', 'IR', 'O', 'BR'], ['BR', 'IR', 'IR', 'IR', 'IR', 'IR', 'IR', 'IR', 'IR', 'IR', 'O', 'BR', 'IR'], ['BR', 'IR', 'IR', 'IR', 'O', 'O', 'O', 'O', 'O'], ['O', 'O', 'BR', 'IR', 'IR', 'O', 'O', 'O', 'O', 'O', 'O', 'O'], ['BR', 'IR', 'IR', 'IR', 'IR', 'IR', 'IR', 'O', 'O', 'O', 'O', 'O', 'O', 'O', 'O', 'O', 'O', 'BR', 'IR', 'IR', 'IR'], ['O', 'O', 'O', 'O', 'O', 'O', 'O', 'BR', 'IR', 'IR', 'O'], ['O', 'O', 'O', 'O', 'BR', 'IR', 'IR', 'O'], ['O', 'O', 'BR', 'IR', 'O', 'O', 'O', 'O', 'O', 'O', 'O'], ['BR', 'IR', 'IR', 'O', 'O', 'O', 'O', 'O', 'O', 'O', 'O', 'O', 'O', 'O', 'O', 'O', 'O', 'O'], ['BR', 'IR', 'IR', 'IR', 'IR', 'IR', 'IR', 'O', 'O', 'O', 'O', 'O', 'O'], ['O', 'O', 'O', 'O', 'O', 'O', 'O', 'O', 'O', 'O', 'O', 'BR', 'IR', 'IR', 'O'], ['O', 'O', 'O', 'O', 'BR', 'IR', 'IR', 'O', 'O', 'O', 'O', 'O'], ['BR', 'IR', 'IR', 'IR', 'IR', 'IR', 'IR', 'IR', 'IR', 'IR', 'IR', 'IR', 'IR', 'IR', 'O', 'O', 'O', 'O'], ['O', 'BR', 'O', 'BR', 'IR', 'O', 'O', 'O', 'O', 'O', 'O', 'O', 'O', 'O', 'O', 'O'], ['O', 'BR', 'IR', 'IR', 'O', 'O', 'O', 'O', 'O', 'O', 'O', 'O', 'O', 'O', 'O', 'O'], ['O', 'O', 'O', 'O', 'O', 'O', 'O', 'O', 'O', 'O', 'O', 'BR', 'IR', 'IR', 'O'], ['BR', 'IR', 'IR', 'IR', 'IR', 'IR', 'IR', 'IR', 'IR', 'IR', 'IR', 'IR', 'IR', 'IR'], ['O', 'BR', 'IR', 'IR', 'IR', 'IR', 'O', 'O', 'O', 'O', 'O', 'O', 'O', 'O', 'O', 'O', 'O', 'O'], ['O', 'BR', 'IR', 'IR', 'O', 'O', 'O', 'O', 'O', 'O', 'O', 'O', 'O', 'O', 'O', 'O', 'O'], ['O', 'O', 'O', 'O', 'O', 'O', 'O', 'O', 'BR', 'IR', 'IR', 'IR', 'IR', 'O', 'O', 'O'], ['O', 'BR', 'IR', 'IR', 'IR', 'IR', 'IR', 'O', 'O', 'O', 'O', 'O', 'O'], ['O', 'O', 'O', 'O', 'O', 'BR', 'IR', 'IR', 'O', 'O', 'O', 'O'], ['O', 'BR', 'IR', 'IR', 'IR', 'IR', 'IR', 'IR', 'IR', 'IR', 'IR', 'O', 'O', 'O', 'BR', 'IR', 'IR', 'IR', 'O', 'BR', 'IR'], ['BR', 'IR', 'IR', 'IR', 'IR', 'IR', 'IR', 'IR', 'IR', 'IR', 'IR', 'IR', 'IR', 'O', 'O', 'O', 'O', 'O', 'O'], ['BR', 'O', 'BR', 'IR', 'IR', 'O', 'O', 'O', 'O'], ['O', 'O', 'O', 'BR', 'IR', 'IR', 'IR', 'IR', 'IR', 'IR', 'IR', 'IR', 'O', 'O', 'O'], ['O', 'O', 'O', 'BR', 'IR', 'IR', 'IR', 'O', 'O', 'O', 'O', 'O'], ['O', 'O', 'O', 'O', 'O', 'O', 'O', 'BR', 'IR', 'IR', 'O', 'O', 'O', 'O', 'O'], ['O', 'O', 'O', 'O', 'O', 'O', 'O', 'O', 'O', 'BR', 'IR', 'IR', 'IR', 'O', 'O'], ['O', 'O', 'BR', 'IR', 'IR', 'IR', 'IR', 'O', 'O', 'O'], ['O', 'O', 'O', 'O', 'O', 'O', 'BR', 'IR', 'IR', 'IR', 'IR', 'IR', 'IR', 'O', 'O', 'BR', 'IR', 'IR', 'IR'], ['O', 'O', 'O', 'BR', 'IR', 'IR', 'IR', 'IR', 'IR', 'IR', 'IR', 'IR', 'O', 'O', 'O', 'O', 'O', 'O'], ['O', 'O', 'O', 'BR', 'IR', 'O', 'O', 'O', 'O', 'O', 'O', 'O', 'O'], ['O', 'O', 'O', 'BR', 'O', 'O', 'O', 'O', 'BR', 'IR', 'O', 'O'], ['O', 'O', 'O', 'BR', 'IR', 'IR', 'O', 'O', 'O', 'O', 'O', 'O', 'O'], ['BR', 'IR', 'IR', 'O', 'O', 'O', 'O', 'O', 'O', 'O', 'O', 'O', 'O'], ['BR', 'IR', 'IR', 'IR', 'IR', 'IR', 'O', 'O', 'O', 'O', 'O', 'O', 'O', 'O', 'O'], ['BR', 'IR', 'IR', 'IR', 'O', 'O', 'O', 'O', 'O', 'O', 'O', 'O', 'O', 'O', 'O'], ['O', 'BR', 'IR', 'IR', 'IR', 'IR', 'IR', 'IR', 'IR', 'O', 'O', 'O', 'O', 'O', 'O', 'O', 'O'], ['O', 'O', 'O', 'BR', 'IR', 'IR', 'IR', 'IR', 'IR', 'IR', 'IR', 'IR', 'IR', 'IR', 'IR', 'IR', 'O', 'O'], ['BR', 'IR', 'IR', 'IR', 'O', 'BR', 'O', 'O', 'O', 'O', 'O', 'O', 'O', 'O', 'O', 'O', 'O', 'O'], ['O', 'O', 'O', 'O', 'O', 'O', 'O', 'O', 'O', 'O', 'O', 'O', 'BR', 'IR', 'O', 'O'], ['O', 'O', 'O', 'BR', 'IR', 'IR', 'IR', 'IR', 'IR', 'IR', 'O', 'O', 'O', 'O', 'O', 'O', 'O', 'O', 'O'], ['BR', 'IR', 'IR', 'IR', 'IR', 'IR', 'IR', 'IR', 'IR', 'IR', 'IR', 'O', 'O', 'O', 'O', 'BR', 'IR', 'IR', 'IR'], ['O', 'O', 'O', 'O', 'BR', 'IR', 'IR', 'IR', 'IR', 'IR', 'IR', 'IR', 'IR', 'IR', 'IR'], ['O', 'O', 'O', 'O', 'O', 'O', 'O', 'O', 'O', 'O', 'O', 'O', 'BR', 'IR', 'IR', 'O', 'O'], ['BR', 'IR', 'IR', 'IR', 'IR', 'O', 'O', 'O', 'O', 'O', 'O', 'O', 'O', 'O', 'O', 'O', 'O'], ['O', 'O', 'BR', 'IR', 'IR', 'IR', 'IR', 'IR', 'O', 'O', 'O', 'O', 'O', 'O', 'O', 'O'], ['O', 'O', 'O', 'O', 'O', 'O', 'O', 'O', 'O', 'O', 'O', 'O', 'BR', 'IR', 'IR', 'IR', 'IR', 'IR', 'O', 'O'], ['BR', 'IR', 'IR', 'IR', 'O', 'O', 'O', 'O', 'O', 'O', 'O', 'O'], ['BR', 'O', 'BR', 'IR', 'O', 'O', 'BR', 'IR', 'O', 'O', 'O', 'O', 'O', 'O'], ['BR', 'IR', 'IR', 'IR', 'IR', 'IR', 'IR', 'IR', 'IR', 'IR', 'IR', 'IR'], ['O', 'BR', 'IR', 'IR', 'O', 'O', 'O', 'O', 'O', 'O'], ['O', 'O', 'O', 'O', 'BR', 'IR', 'IR', 'IR', 'IR', 'IR', 'IR', 'IR', 'IR', 'IR', 'O', 'O', 'O'], ['BR', 'IR', 'IR', 'IR', 'O', 'O', 'O', 'O', 'O', 'O', 'O', 'O'], ['BR', 'IR', 'IR', 'O', 'O', 'O', 'O', 'O', 'O', 'O', 'O'], ['O', 'O', 'O', 'O', 'O', 'O', 'O', 'O', 'O', 'BR', 'IR', 'IR', 'O'], ['BR', 'IR', 'IR', 'IR', 'O', 'O', 'O', 'O', 'O', 'O', 'O'], ['O', 'O', 'O', 'O', 'BR', 'IR', 'IR', 'IR', 'IR', 'IR', 'IR', 'IR', 'IR', 'O', 'O', 'O'], ['BR', 'IR', 'IR', 'O', 'O', 'O', 'O', 'O', 'O', 'O', 'O'], ['O', 'O', 'O', 'O', 'O', 'O', 'O', 'O', 'O', 'BR', 'IR', 'IR', 'O'], ['O', 'O', 'O', 'O', 'O', 'O', 'BR', 'IR', 'IR', 'IR', 'O', 'O', 'O'], ['O', 'O', 'O', 'O', 'O', 'O', 'O', 'BR', 'O', 'O', 'O', 'O', 'O', 'O', 'O', 'O'], ['O', 'O', 'BR', 'IR', 'IR', 'IR', 'IR', 'IR', 'IR', 'IR', 'IR', 'O', 'O', 'BR'], ['BR', 'IR', 'IR', 'IR', 'IR', 'IR', 'O', 'BR', 'IR', 'O', 'O', 'O', 'O', 'O', 'O', 'O'], ['O', 'O', 'O', 'O', 'O', 'O', 'O', 'O', 'BR', 'IR', 'IR', 'IR', 'O'], ['O', 'BR', 'O', 'O', 'O', 'BR', 'IR', 'IR', 'IR', 'O', 'O', 'O', 'O', 'O'], ['O', 'O', 'O', 'O', 'O', 'O', 'O', 'O', 'O', 'O', 'O', 'O', 'O', 'BR', 'IR', 'IR', 'IR', 'O', 'O'], ['BR', 'IR', 'IR', 'IR', 'IR', 'IR', 'O', 'O', 'O', 'O', 'O', 'O', 'O', 'O', 'O'], ['O', 'O', 'O', 'O', 'O', 'O', 'O', 'O', 'O', 'O', 'O', 'O', 'BR', 'IR', 'IR', 'O', 'O'], ['O', 'BR', 'O', 'O', 'O', 'BR', 'IR', 'IR', 'IR', 'IR', 'IR', 'O'], ['O', 'O', 'BR', 'IR', 'O', 'O', 'O', 'O', 'O', 'O', 'O'], ['O', 'BR', 'IR', 'IR', 'IR', 'IR', 'O', 'O', 'O', 'O', 'O', 'O', 'O', 'O', 'O', 'O', 'O', 'O', 'O'], ['O', 'BR', 'IR', 'IR', 'IR', 'IR', 'IR', 'O', 'O', 'O', 'O', 'O', 'O', 'O', 'O', 'O', 'BR', 'IR', 'IR', 'IR'], ['O', 'O', 'O', 'O', 'O', 'O', 'O', 'O', 'O', 'BR', 'IR', 'IR', 'IR', 'IR', 'IR', 'IR', 'IR', 'IR', 'IR', 'IR', 'IR', 'O', 'BR'], ['O', 'O', 'BR', 'IR', 'O', 'O', 'O'], ['O', 'O', 'O', 'O', 'O', 'O', 'O', 'BR', 'IR', 'IR', 'O'], ['O', 'O', 'BR', 'IR', 'IR', 'IR', 'IR', 'O', 'O', 'O', 'O', 'O', 'O', 'O', 'O', 'O', 'O', 'O', 'O'], ['O', 'O', 'O', 'O', 'O', 'O', 'O', 'O', 'O', 'O', 'BR', 'IR', 'IR', 'IR', 'IR', 'IR', 'O', 'O', 'O'], ['BR', 'IR', 'IR', 'O', 'O', 'O', 'O', 'O', 'O', 'O', 'O', 'O', 'O', 'O', 'O', 'O', 'O', 'O', 'O'], ['O', 'O', 'O', 'O', 'BR', 'IR', 'IR', 'O', 'O', 'O', 'O', 'O'], ['O', 'O', 'O', 'O', 'O', 'O', 'BR', 'IR', 'IR', 'IR', 'IR', 'O', 'O', 'O', 'BR'], ['BR', 'IR', 'IR', 'IR', 'IR', 'IR', 'IR', 'IR', 'IR', 'IR', 'IR', 'IR', 'IR', 'IR', 'IR', 'IR', 'IR', 'IR', 'IR', 'IR', 'IR', 'IR', 'IR', 'IR'], ['O', 'O', 'O', 'BR', 'O', 'O', 'BR', 'O', 'O', 'O', 'O', 'O', 'O', 'O', 'BR', 'IR', 'IR', 'IR', 'IR', 'IR', 'IR', 'IR', 'IR', 'IR'], ['BR', 'IR', 'IR', 'IR', 'O', 'O', 'O', 'O', 'O', 'O', 'O', 'O', 'O', 'O', 'O', 'O', 'O', 'O', 'O', 'O'], ['O', 'O', 'O', 'BR', 'IR', 'IR', 'IR', 'O', 'O', 'O', 'O'], ['BR', 'IR', 'IR', 'O', 'O', 'O', 'O', 'O', 'O', 'O', 'O'], ['BR', 'IR', 'IR', 'IR', 'O', 'O', 'O', 'O', 'O', 'O', 'O', 'O', 'O', 'O', 'O', 'O', 'O', 'O'], ['O', 'O', 'O', 'BR', 'IR', 'IR', 'IR', 'O', 'O', 'O', 'O', 'O', 'O', 'O', 'O', 'O', 'O', 'O', 'O', 'O', 'O', 'O', 'O', 'O'], ['O', 'BR', 'O', 'O', 'BR', 'IR', 'IR', 'IR', 'IR', 'IR', 'IR', 'IR', 'IR', 'IR', 'IR', 'IR'], ['O', 'O', 'O', 'O', 'O', 'BR', 'IR', 'IR', 'O'], ['O', 'O', 'O', 'O', 'O', 'O', 'O', 'O', 'BR', 'IR', 'IR', 'O'], ['O', 'O', 'O', 'O', 'O', 'O', 'O', 'O', 'BR', 'IR', 'O', 'O', 'O', 'O', 'O', 'O', 'O'], ['O', 'O', 'O', 'O', 'O', 'BR', 'IR', 'IR', 'IR', 'IR', 'O', 'O', 'O'], ['O', 'O', 'BR', 'IR', 'IR', 'O', 'O', 'O', 'O', 'O', 'O', 'O', 'O', 'O'], ['O', 'O', 'O', 'O', 'O', 'BR', 'IR', 'IR', 'IR', 'IR', 'IR', 'O', 'O'], ['O', 'O', 'O', 'O', 'O', 'O', 'O', 'O', 'BR', 'IR', 'O'], ['O', 'O', 'O', 'O', 'O', 'O', 'O', 'O', 'BR', 'IR', 'O', 'O', 'O', 'O', 'O', 'O', 'O'], ['BR', 'IR', 'IR', 'IR', 'IR', 'IR', 'IR', 'O', 'O', 'O', 'O', 'O', 'O', 'O', 'O', 'O', 'O'], ['O', 'O', 'O', 'O', 'O', 'O', 'O', 'O', 'BR', 'IR', 'IR', 'O', 'O'], ['BR', 'IR', 'IR', 'IR', 'O', 'BR', 'IR', 'O', 'O', 'O', 'O', 'O', 'O', 'O', 'O', 'O'], ['O', 'O', 'O', 'BR', 'IR', 'IR', 'IR', 'O', 'O', 'O', 'O', 'O', 'O', 'O', 'O'], ['BR', 'IR', 'IR', 'IR', 'O', 'O', 'O', 'O', 'O', 'O', 'O', 'O', 'O', 'O', 'O'], ['O', 'O', 'O', 'O', 'O', 'O', 'O', 'BR', 'IR', 'O', 'O', 'O', 'O', 'O', 'O'], ['O', 'O', 'O', 'O', 'O', 'BR', 'IR', 'IR', 'O', 'O', 'O', 'O', 'O'], ['O', 'O', 'O', 'O', 'O', 'BR', 'IR', 'IR', 'IR', 'O', 'O', 'O', 'O', 'O'], ['BR', 'IR', 'IR', 'IR', 'IR', 'IR', 'O', 'O', 'O', 'O', 'O', 'O', 'O', 'O', 'O', 'O'], ['O', 'O', 'O', 'O', 'BR', 'IR', 'IR', 'O', 'O', 'O', 'O', 'O', 'O', 'O', 'O'], ['O', 'O', 'O', 'O', 'O', 'O', 'O', 'O', 'O', 'BR', 'IR', 'O', 'O', 'O', 'O', 'O'], ['O', 'O', 'O', 'O', 'O', 'BR', 'IR', 'O', 'O', 'O', 'O'], ['O', 'O', 'O', 'BR', 'IR', 'O', 'O', 'O', 'O'], ['O', 'BR', 'IR', 'IR', 'IR', 'O', 'O', 'O', 'O', 'O', 'O', 'O', 'O', 'O', 'O', 'O', 'O', 'O', 'O'], ['O', 'O', 'O', 'O', 'O', 'O', 'O', 'O', 'O', 'O', 'O', 'BR', 'IR', 'O', 'O', 'O'], ['O', 'O', 'O', 'O', 'O', 'BR', 'O', 'BR', 'IR', 'IR', 'IR', 'IR', 'IR', 'O', 'O', 'O'], ['O', 'BR', 'IR', 'IR', 'IR', 'IR', 'IR', 'O', 'O', 'O', 'O', 'O', 'O'], ['O', 'O', 'O', 'BR', 'IR', 'IR', 'IR', 'IR', 'IR', 'O', 'O', 'O', 'O', 'O', 'O', 'O', 'O', 'O', 'O', 'O', 'O'], ['O', 'O', 'BR', 'IR', 'IR', 'O', 'O', 'O', 'O', 'O', 'O', 'O', 'O', 'O', 'O', 'O', 'O'], ['O', 'BR', 'IR', 'IR', 'O', 'O', 'O', 'O', 'O', 'O', 'O', 'O', 'O', 'O'], ['BR', 'IR', 'IR', 'IR', 'IR', 'IR', 'IR', 'IR', 'IR', 'IR', 'IR', 'O', 'O', 'BR'], ['BR', 'IR', 'IR', 'IR', 'O', 'O', 'O', 'O', 'O', 'BR', 'IR', 'IR', 'IR', 'IR'], ['O', 'O', 'O', 'O', 'BR', 'IR', 'IR', 'IR', 'IR', 'IR', 'IR', 'IR', 'IR', 'IR', 'IR', 'IR'], ['O', 'O', 'O', 'O', 'BR', 'IR', 'IR', 'IR', 'O', 'O', 'O', 'O', 'O'], ['O', 'O', 'O', 'O', 'BR', 'IR', 'IR', 'IR', 'IR', 'IR', 'IR', 'IR', 'IR', 'IR', 'IR'], ['BR', 'IR', 'IR', 'O', 'O', 'O', 'O', 'O', 'O', 'O'], ['O', 'O', 'O', 'O', 'O', 'BR', 'IR', 'IR', 'IR', 'IR', 'IR', 'O', 'O'], ['BR', 'IR', 'IR', 'IR', 'IR', 'IR', 'IR', 'O', 'O', 'O', 'O', 'O', 'O', 'O', 'O', 'O', 'O', 'O'], ['O', 'O', 'O', 'O', 'BR', 'IR', 'IR', 'O', 'O', 'O', 'O', 'O'], ['O', 'O', 'O', 'O', 'BR', 'IR', 'O', 'O', 'O', 'O', 'O', 'O'], ['O', 'O', 'O', 'O', 'O', 'BR', 'IR', 'IR', 'IR', 'O'], ['O', 'O', 'O', 'O', 'BR', 'IR', 'O', 'O', 'O', 'O', 'O'], ['O', 'O', 'O', 'O', 'O', 'O', 'O', 'BR', 'IR', 'IR', 'IR', 'O'], ['O', 'O', 'BR', 'IR', 'IR', 'O', 'O', 'O'], ['O', 'BR', 'IR', 'IR', 'IR', 'IR', 'IR', 'IR', 'O', 'BR', 'IR', 'IR', 'IR', 'IR', 'IR', 'IR', 'IR', 'IR', 'IR', 'IR', 'IR', 'IR'], ['BR', 'IR', 'IR', 'O', 'O', 'O', 'O', 'O', 'O'], ['O', 'O', 'O', 'O', 'O', 'O', 'BR', 'IR', 'IR', 'IR', 'O', 'O', 'O'], ['O', 'BR', 'IR', 'IR', 'IR', 'O', 'O', 'O', 'O', 'O', 'O', 'O', 'O'], ['O', 'O', 'BR', 'IR', 'IR', 'O', 'O', 'O'], ['O', 'BR', 'IR', 'IR', 'IR', 'IR', 'O', 'BR', 'O', 'O', 'O', 'O', 'O', 'O', 'O', 'O', 'O', 'O', 'O', 'O'], ['BR', 'IR', 'IR', 'IR', 'IR', 'O', 'BR', 'IR', 'O', 'O', 'O', 'O', 'O', 'O', 'O', 'O', 'O', 'O', 'O', 'O', 'O', 'O', 'O', 'O'], ['O', 'O', 'BR', 'IR', 'IR', 'IR', 'O', 'O', 'O', 'O', 'O', 'O', 'O', 'O', 'O', 'O', 'O'], ['O', 'BR', 'IR', 'O', 'O', 'O', 'O', 'O'], ['O', 'O', 'O', 'O', 'O', 'O', 'O', 'O', 'BR', 'IR', 'IR', 'O', 'O', 'O', 'O', 'O', 'O', 'O', 'O', 'O', 'O'], ['O', 'O', 'O', 'O', 'BR', 'IR', 'O', 'O', 'O', 'O', 'O', 'O', 'O', 'O', 'O', 'O', 'O', 'O'], ['O', 'O', 'O', 'BR', 'IR', 'IR', 'IR', 'IR', 'IR', 'O', 'O', 'O', 'O', 'O', 'O', 'O', 'O', 'O', 'O', 'O', 'O', 'O'], ['O', 'O', 'O', 'O', 'O', 'BR', 'IR', 'IR', 'O', 'O', 'O', 'O', 'O', 'O', 'O', 'O'], ['O', 'BR', 'IR', 'IR', 'IR', 'IR', 'IR', 'O'], ['O', 'O', 'O', 'O', 'O', 'O', 'O', 'O', 'O', 'BR', 'IR', 'IR', 'IR', 'IR', 'O', 'O', 'O', 'O', 'O', 'O', 'O', 'O', 'O'], ['O', 'O', 'O', 'O', 'BR', 'IR', 'IR', 'IR', 'IR', 'IR', 'O', 'O', 'O', 'O', 'O', 'O', 'O', 'O', 'O', 'O', 'O'], ['O', 'O', 'O', 'O', 'O', 'BR', 'IR', 'IR', 'IR', 'O', 'O', 'O', 'O', 'O'], ['BR', 'IR', 'IR', 'IR', 'IR', 'IR', 'IR', 'IR', 'IR', 'IR', 'O', 'O', 'BR', 'IR', 'IR', 'IR', 'IR', 'IR', 'IR', 'IR', 'IR'], ['O', 'O', 'O', 'BR', 'IR', 'O', 'O', 'O', 'O', 'O', 'O', 'O', 'O', 'O', 'O', 'O', 'O', 'O', 'O', 'O'], ['O', 'O', 'O', 'O', 'O', 'O', 'BR', 'IR', 'IR', 'O', 'O', 'O', 'O'], ['O', 'O', 'O', 'O', 'O', 'O', 'BR', 'IR', 'IR', 'IR', 'IR', 'IR', 'IR', 'IR', 'IR', 'IR', 'IR', 'IR', 'IR', 'IR', 'IR', 'IR', 'O', 'O'], ['O', 'O', 'O', 'O', 'O', 'O', 'O', 'BR', 'IR', 'IR', 'IR', 'IR', 'O', 'O', 'O', 'O', 'O', 'O', 'O', 'O', 'O', 'O', 'O'], ['BR', 'IR', 'O', 'O', 'O', 'O', 'O'], ['O', 'O', 'O', 'O', 'O', 'O', 'BR', 'IR', 'IR', 'IR', 'IR', 'O', 'O', 'O'], ['O', 'O', 'BR', 'IR', 'O', 'O', 'O', 'O', 'O', 'O', 'O', 'O', 'O', 'O'], ['BR', 'IR', 'IR', 'O', 'O', 'BR', 'IR', 'O', 'BR', 'O', 'O', 'O', 'O', 'O', 'O', 'O', 'O'], ['BR', 'IR', 'IR', 'IR', 'IR', 'IR', 'IR', 'IR', 'IR', 'IR', 'IR', 'O', 'O', 'O', 'O', 'O', 'O', 'O'], ['BR', 'IR', 'IR', 'IR', 'IR', 'IR', 'IR', 'O', 'O', 'O', 'O', 'O', 'O', 'O', 'O', 'O', 'O', 'O', 'O', 'O'], ['O', 'O', 'O', 'O', 'BR', 'IR', 'O', 'O', 'O', 'O', 'O', 'O'], ['BR', 'IR', 'IR', 'O', 'O', 'O', 'O', 'O', 'O', 'O', 'O', 'O', 'O', 'O', 'O'], ['O', 'BR', 'IR', 'IR', 'IR', 'IR', 'IR', 'IR', 'IR', 'IR', 'IR', 'IR', 'IR', 'IR', 'IR', 'IR', 'IR', 'IR', 'IR', 'IR', 'IR', 'IR', 'IR', 'IR', 'IR', 'IR'], ['O', 'O', 'O', 'O', 'O', 'O', 'O', 'O', 'BR', 'IR', 'IR', 'O', 'O', 'O', 'O', 'O', 'O'], ['O', 'O', 'O', 'O', 'BR', 'IR', 'IR', 'IR', 'IR', 'IR', 'IR', 'IR', 'O', 'O', 'O', 'O', 'O', 'O', 'O', 'O', 'O', 'O'], ['O', 'O', 'BR', 'IR', 'IR', 'IR', 'O', 'O', 'O', 'O', 'O', 'O', 'O', 'O'], ['O', 'O', 'O', 'O', 'O', 'O', 'O', 'O', 'O', 'O', 'O', 'O', 'O', 'O', 'O', 'O', 'BR', 'IR', 'IR', 'IR', 'O'], ['O', 'BR', 'IR', 'IR', 'IR', 'O', 'O', 'O', 'O', 'O', 'O', 'O', 'O', 'O', 'O', 'O'], ['O', 'O', 'O', 'BR', 'IR', 'IR', 'O', 'O', 'O', 'O', 'O', 'O', 'O'], ['O', 'O', 'O', 'O', 'O', 'O', 'O', 'O', 'O', 'BR', 'IR', 'IR', 'IR', 'IR', 'IR', 'IR', 'IR', 'IR', 'IR', 'IR', 'IR', 'IR', 'IR', 'IR', 'O'], ['O', 'O', 'O', 'O', 'O', 'O', 'O', 'O', 'BR', 'IR', 'O', 'O', 'O', 'O', 'O', 'O', 'O', 'O', 'O', 'O', 'O', 'O', 'O'], ['O', 'O', 'O', 'O', 'O', 'BR', 'IR', 'IR', 'O', 'O', 'O', 'O', 'O', 'O', 'O', 'O', 'O', 'O', 'O', 'O'], ['O', 'O', 'O', 'BR', 'IR', 'IR', 'O', 'O', 'O', 'O', 'O', 'O', 'O', 'O', 'O'], ['O', 'O', 'O', 'BR', 'IR', 'IR', 'IR', 'IR', 'IR', 'IR', 'O', 'O', 'O', 'O', 'O', 'O'], ['BR', 'IR', 'IR', 'IR', 'IR', 'IR', 'IR', 'IR', 'IR', 'IR', 'IR', 'IR', 'IR', 'IR', 'IR', 'IR', 'IR', 'IR', 'IR', 'IR', 'IR', 'IR', 'IR', 'IR', 'IR', 'IR', 'IR'], ['BR', 'IR', 'IR', 'IR', 'IR', 'O', 'O', 'O', 'O', 'O', 'O', 'O', 'O', 'O', 'O', 'O', 'O', 'O', 'O', 'O', 'O', 'O', 'O', 'O', 'O'], ['BR', 'IR', 'IR', 'IR', 'IR', 'IR', 'IR', 'IR', 'IR', 'IR', 'O', 'O', 'BR', 'IR', 'IR'], ['BR', 'IR', 'IR', 'IR', 'IR', 'IR', 'IR', 'IR', 'IR', 'IR', 'IR', 'IR', 'IR'], ['O', 'O', 'O', 'O', 'O', 'BR', 'IR', 'IR', 'IR', 'O'], ['BR', 'O', 'BR', 'IR', 'IR', 'IR', 'IR', 'IR', 'IR', 'O', 'BR', 'IR', 'IR'], ['O', 'BR', 'IR', 'IR', 'IR', 'O', 'O', 'O', 'BR', 'O', 'O', 'O', 'O', 'O', 'O', 'O', 'O', 'O', 'O'], ['BR', 'IR', 'IR', 'O', 'O', 'O', 'O', 'O', 'O', 'O', 'O', 'O'], ['BR', 'IR', 'IR', 'O', 'O', 'O', 'O', 'O', 'O', 'O', 'O'], ['O', 'O', 'O', 'O', 'O', 'BR', 'IR', 'IR', 'O', 'O', 'O'], ['BR', 'IR', 'IR', 'IR', 'IR', 'O', 'O', 'O', 'O', 'O', 'O'], ['BR'], ['BR', 'IR', 'IR', 'IR', 'O', 'O', 'O', 'O', 'O', 'O', 'O', 'O', 'O', 'O', 'O'], ['O', 'BR', 'IR', 'IR', 'IR', 'IR', 'O', 'O', 'O', 'O', 'O', 'O', 'O', 'O'], ['O', 'O', 'O', 'O', 'BR', 'IR', 'IR', 'IR', 'IR', 'IR', 'IR', 'IR', 'O'], ['BR', 'IR', 'IR', 'IR', 'IR', 'IR', 'O', 'O', 'BR', 'IR', 'IR', 'IR', 'IR'], ['O', 'O', 'BR', 'IR', 'IR', 'IR', 'IR', 'IR', 'O', 'O', 'O', 'O'], ['O', 'O', 'O', 'O', 'O', 'O', 'O', 'O', 'O', 'BR', 'IR', 'IR', 'IR', 'IR', 'O', 'O'], ['BR', 'IR', 'IR', 'IR', 'O', 'O', 'O', 'O', 'O', 'O', 'O', 'O', 'O'], ['O', 'O', 'O', 'O', 'BR', 'IR', 'IR', 'O', 'O', 'O', 'O', 'O', 'O'], ['O', 'O', 'BR', 'IR', 'IR', 'O', 'O', 'O', 'O', 'O'], ['O', 'O', 'BR', 'IR', 'IR', 'IR', 'IR', 'IR', 'IR', 'IR', 'IR', 'IR', 'IR', 'IR', 'IR'], ['BR', 'IR', 'IR', 'O', 'O', 'O', 'O', 'O', 'O', 'O', 'O', 'O'], ['O', 'O', 'O', 'O', 'O', 'O', 'BR', 'IR', 'IR', 'IR', 'O', 'O', 'O', 'O', 'O', 'O', 'O', 'O', 'O'], ['O', 'O', 'O', 'O', 'O', 'O', 'O', 'O', 'O', 'BR', 'IR', 'IR', 'IR', 'IR', 'IR', 'IR', 'O', 'O', 'O', 'O', 'O', 'O'], ['BR', 'IR', 'IR', 'O', 'O', 'O', 'O', 'O', 'O', 'O', 'O', 'O', 'O', 'O'], ['BR', 'IR', 'IR', 'IR', 'IR', 'O', 'O', 'O', 'O', 'O', 'O', 'O', 'O', 'O'], ['O', 'O', 'O', 'O', 'O', 'O', 'BR', 'IR', 'IR', 'O', 'O', 'O', 'O', 'O', 'O', 'O', 'O', 'O'], ['O', 'O', 'BR', 'IR', 'IR', 'IR', 'IR', 'O', 'O', 'O', 'O', 'O', 'O', 'O', 'O', 'O', 'O', 'O', 'O'], ['O', 'O', 'O', 'O', 'O', 'O', 'O', 'BR', 'IR', 'IR', 'IR', 'O', 'BR', 'IR', 'IR', 'IR', 'IR', 'IR', 'IR', 'O', 'O', 'O'], ['BR', 'IR', 'IR', 'IR', 'O', 'O', 'O', 'O', 'O', 'O', 'O', 'O', 'O', 'O', 'O', 'O', 'O', 'O', 'O', 'O', 'O'], ['O', 'O', 'O', 'O', 'O', 'O', 'BR', 'IR', 'O', 'O'], ['O', 'O', 'O', 'O', 'O', 'O', 'O', 'BR', 'IR', 'IR', 'O', 'O'], ['O', 'O', 'O', 'O', 'O', 'O', 'O', 'O', 'BR', 'IR', 'IR', 'IR', 'IR', 'IR', 'O', 'O'], ['O', 'O', 'O', 'O', 'O', 'O', 'BR', 'IR', 'IR', 'O', 'O', 'O'], ['O', 'BR', 'IR', 'O', 'O', 'O', 'O', 'O', 'O', 'O', 'O', 'O'], ['BR', 'IR', 'IR', 'IR', 'IR', 'IR', 'O', 'O', 'O', 'O', 'O', 'O', 'O'], ['O', 'O', 'O', 'O', 'O', 'O', 'O', 'BR', 'IR', 'O', 'O'], ['O', 'O', 'O', 'BR', 'IR', 'IR', 'O', 'O', 'O', 'O', 'O', 'O', 'O'], ['BR', 'IR', 'IR', 'IR', 'IR', 'IR', 'IR', 'IR', 'IR', 'IR', 'IR'], ['O', 'O', 'O', 'O', 'O', 'O', 'BR', 'IR', 'IR', 'O', 'BR', 'IR', 'IR', 'IR', 'IR', 'O', 'O', 'O'], ['O', 'O', 'O', 'O', 'O', 'BR', 'IR', 'IR', 'O', 'O', 'O', 'O', 'O', 'O', 'O', 'O', 'O', 'O', 'O', 'O'], ['O', 'O', 'O', 'BR', 'O', 'O', 'O', 'O', 'O'], ['BR', 'IR', 'IR', 'IR', 'IR', 'IR', 'O', 'O', 'O', 'O', 'O', 'O', 'O', 'O', 'O', 'O', 'O', 'O', 'O'], ['O', 'O', 'O', 'O', 'O', 'O', 'O', 'BR', 'IR', 'IR', 'IR', 'IR', 'IR', 'IR', 'IR', 'IR', 'O', 'O'], ['BR', 'IR', 'IR', 'IR', 'IR', 'IR', 'IR', 'IR', 'IR'], ['O', 'O', 'O', 'O', 'O', 'O', 'O', 'O', 'O', 'O', 'O', 'O', 'O', 'O', 'O', 'O', 'BR', 'IR', 'IR', 'IR', 'O'], ['O', 'O', 'BR', 'IR', 'IR', 'IR', 'IR', 'O', 'O', 'O', 'O', 'O', 'O'], ['O', 'O', 'O', 'O', 'O', 'O', 'O', 'O', 'BR', 'IR', 'IR', 'IR', 'O', 'O', 'O', 'O', 'O'], ['O', 'O', 'O', 'O', 'O', 'O', 'BR', 'IR', 'IR', 'IR', 'IR', 'IR', 'IR', 'O', 'O', 'O'], ['O', 'O', 'O', 'O', 'O', 'O', 'BR', 'IR', 'O', 'BR', 'IR', 'IR', 'IR', 'IR', 'IR'], ['O', 'O', 'O', 'O', 'O', 'O', 'O', 'O', 'BR', 'IR', 'IR', 'IR', 'IR', 'IR', 'O'], ['O', 'O', 'O', 'BR', 'IR', 'IR', 'IR', 'O', 'O', 'O', 'O', 'O', 'O', 'O', 'O'], ['O', 'O', 'O', 'O', 'O', 'BR', 'IR', 'O', 'O', 'O', 'O', 'O', 'O', 'O'], ['BR', 'IR', 'IR', 'IR', 'IR', 'IR', 'O', 'O', 'BR', 'IR', 'IR', 'IR', 'IR', 'IR', 'IR', 'IR', 'IR', 'IR', 'IR', 'IR'], ['BR', 'IR', 'IR', 'IR', 'IR', 'IR', 'O', 'O', 'O', 'O', 'O', 'O', 'O', 'O', 'O', 'O', 'O'], ['O', 'BR', 'IR', 'IR', 'IR', 'IR', 'IR', 'IR', 'IR', 'IR', 'IR', 'IR', 'IR', 'IR', 'IR', 'IR', 'IR', 'IR', 'IR'], ['O', 'O', 'O', 'BR', 'IR', 'IR', 'IR', 'IR', 'O', 'O', 'O', 'O', 'O', 'O', 'O'], ['BR', 'IR', 'IR', 'O', 'O', 'O', 'O', 'O', 'O', 'O', 'O', 'O', 'O', 'O', 'O'], ['BR', 'IR', 'IR', 'IR', 'IR', 'O', 'O', 'BR', 'IR', 'IR', 'IR', 'O', 'O', 'O', 'O', 'O', 'O', 'O', 'O', 'O', 'O', 'O', 'O'], ['O', 'O', 'BR', 'IR', 'IR', 'IR', 'IR', 'O', 'O', 'O', 'O', 'O', 'O', 'O', 'O', 'O'], ['BR', 'IR', 'IR', 'IR', 'O', 'O', 'O', 'O', 'O', 'O', 'O'], ['BR', 'IR', 'IR', 'O', 'O', 'O', 'O', 'O', 'O', 'O', 'O', 'O'], ['BR', 'IR', 'IR', 'IR', 'O', 'BR', 'IR', 'IR', 'IR', 'IR'], ['O', 'BR', 'IR', 'IR', 'O', 'O', 'O', 'O', 'O', 'O', 'O'], ['O', 'O', 'O', 'O', 'O', 'O', 'O', 'O', 'O', 'O', 'BR', 'IR', 'IR', 'O', 'O', 'O', 'O', 'O'], ['O', 'O', 'O', 'BR', 'IR', 'IR', 'IR', 'O', 'O', 'O', 'O'], ['O', 'O', 'O', 'O', 'O', 'O', 'O', 'BR', 'IR', 'IR', 'IR', 'IR', 'IR', 'IR', 'IR', 'O', 'O'], ['O', 'O', 'BR', 'IR', 'O', 'O'], ['O', 'O', 'O', 'BR', 'IR', 'IR', 'IR', 'O', 'O', 'O', 'O', 'O'], ['O', 'O', 'BR', 'IR', 'IR', 'IR', 'IR', 'O', 'O', 'O', 'O', 'O', 'O', 'O', 'O', 'O', 'O', 'O', 'O', 'O'], ['BR', 'IR', 'IR', 'IR', 'IR', 'IR', 'IR', 'IR', 'IR', 'IR', 'O', 'O', 'O', 'BR', 'IR', 'IR', 'IR', 'IR', 'IR'], ['O', 'O', 'O', 'BR', 'IR', 'IR', 'IR', 'IR', 'O', 'O', 'O', 'O'], ['BR', 'IR', 'IR', 'IR', 'IR', 'O', 'O', 'O', 'O', 'O', 'O', 'O', 'O', 'O'], ['O', 'O', 'O', 'O', 'O', 'O', 'BR', 'IR', 'IR', 'IR', 'O'], ['O', 'O', 'O', 'BR', 'IR', 'IR', 'O', 'O', 'O', 'O', 'O', 'O'], ['O', 'O', 'O', 'BR', 'IR', 'IR', 'IR', 'O', 'O', 'O', 'O', 'O', 'O'], ['O', 'O', 'O', 'O', 'O', 'O', 'O', 'O', 'BR', 'IR', 'IR', 'O', 'O', 'O'], ['BR', 'IR', 'IR', 'O', 'BR', 'IR', 'IR', 'IR', 'IR', 'IR', 'IR', 'O', 'O', 'O', 'O', 'O', 'O', 'O', 'O'], ['O', 'O', 'O', 'O', 'O', 'O', 'O', 'BR', 'IR', 'IR', 'O', 'BR'], ['BR', 'IR', 'IR', 'IR', 'IR', 'O', 'O', 'O', 'O', 'O', 'O', 'O', 'O', 'O', 'O'], ['O', 'O', 'BR', 'IR', 'O', 'O', 'O', 'O', 'O', 'O'], ['O', 'O', 'O', 'O', 'BR', 'IR', 'IR', 'O', 'O', 'O', 'O'], ['O', 'O', 'O', 'BR', 'O', 'BR', 'IR', 'IR', 'O', 'O', 'O', 'O', 'O', 'O', 'O', 'O', 'O', 'O'], ['O', 'O', 'BR', 'IR', 'IR', 'O', 'O', 'O', 'O', 'O'], ['BR', 'IR', 'IR', 'IR', 'IR', 'IR', 'O', 'O', 'O', 'O', 'O', 'O', 'O'], ['BR', 'IR', 'IR', 'IR', 'IR', 'IR', 'O', 'BR', 'IR', 'IR', 'IR', 'IR', 'IR', 'IR', 'IR', 'IR', 'IR', 'IR', 'IR', 'IR', 'IR', 'IR'], ['BR'], ['O', 'BR', 'IR', 'IR', 'IR', 'IR', 'IR', 'IR', 'IR', 'IR', 'IR', 'IR', 'IR', 'IR', 'O', 'BR', 'IR', 'IR'], ['BR', 'IR', 'IR', 'IR', 'IR', 'IR', 'IR', 'IR', 'IR', 'IR', 'IR', 'IR', 'IR', 'O'], ['O', 'BR', 'IR', 'IR', 'IR', 'IR', 'IR', 'IR', 'IR', 'IR', 'IR', 'O', 'O', 'O', 'O', 'O', 'O', 'O', 'O', 'O'], ['BR', 'IR', 'IR', 'O', 'O', 'O', 'O', 'O', 'O'], ['O', 'O', 'O', 'BR', 'IR', 'IR', 'O', 'O', 'O', 'O', 'O', 'O', 'O'], ['O', 'BR', 'IR', 'IR', 'IR', 'IR', 'IR', 'O', 'O', 'O', 'O', 'O'], ['O', 'O', 'O', 'O', 'BR', 'IR', 'IR', 'IR', 'IR', 'IR', 'O', 'O', 'O', 'O', 'O', 'O'], ['O', 'O', 'BR', 'IR', 'O', 'O'], ['O', 'O', 'BR', 'IR', 'IR', 'IR', 'IR', 'O', 'O', 'O', 'O', 'O', 'O', 'O', 'O'], ['BR', 'IR', 'IR', 'IR', 'IR', 'IR', 'O', 'O', 'O', 'O', 'O', 'O', 'O', 'O'], ['O', 'BR', 'IR', 'IR', 'O', 'O', 'O', 'O', 'O', 'O', 'O', 'O'], ['O', 'BR', 'IR', 'IR', 'IR', 'O', 'O', 'O', 'O', 'O', 'O', 'O'], ['BR', 'IR', 'IR', 'IR', 'O', 'BR', 'IR', 'IR', 'IR', 'IR', 'O', 'BR', 'IR'], ['O', 'O', 'O', 'O', 'O', 'O', 'BR', 'O', 'O', 'O', 'BR', 'IR', 'IR', 'IR', 'IR', 'IR', 'O'], ['O', 'O', 'BR', 'IR', 'IR', 'IR', 'IR', 'O', 'O', 'BR', 'IR', 'IR', 'O', 'O', 'O', 'O', 'O', 'O', 'O', 'O'], ['BR', 'IR', 'O', 'O', 'O', 'O', 'BR', 'O', 'O', 'O', 'O', 'O', 'O'], ['O', 'O', 'BR', 'IR', 'IR', 'IR', 'IR', 'IR', 'O', 'BR', 'IR', 'IR', 'O', 'O', 'O', 'O', 'O', 'O', 'O', 'O'], ['O', 'BR', 'IR', 'IR', 'IR', 'IR', 'IR', 'O', 'O', 'O', 'O', 'O', 'O', 'O', 'O', 'O', 'O'], ['BR', 'IR', 'IR', 'O', 'O', 'O', 'O', 'O', 'O', 'O', 'O', 'O', 'O'], ['O', 'O', 'O', 'O', 'O', 'BR', 'IR', 'IR', 'IR', 'O', 'O'], ['BR', 'IR', 'IR', 'IR', 'O', 'O', 'O', 'O', 'O', 'O', 'O'], ['BR', 'IR', 'IR', 'IR', 'IR', 'IR', 'IR', 'IR', 'IR', 'O'], ['O', 'BR', 'IR', 'IR', 'IR', 'IR', 'IR', 'IR', 'IR', 'IR', 'IR', 'IR', 'O', 'BR', 'IR', 'IR'], ['O', 'O', 'BR', 'IR', 'IR', 'IR', 'IR', 'IR', 'IR'], ['O', 'O', 'BR', 'IR', 'IR', 'IR', 'O', 'O', 'O', 'O', 'O', 'O', 'O', 'O', 'O', 'O', 'O', 'O', 'O', 'O'], ['O', 'BR', 'IR', 'IR', 'IR', 'O', 'O', 'O', 'O', 'O'], ['O', 'BR', 'IR', 'O', 'O', 'O', 'O', 'O', 'O', 'O', 'O', 'O'], ['BR', 'IR', 'IR', 'O', 'O', 'O', 'O', 'O', 'O', 'O', 'O', 'BR', 'IR', 'O'], ['BR', 'IR', 'IR', 'IR', 'IR', 'IR', 'IR', 'IR', 'IR', 'IR', 'IR', 'IR', 'IR', 'IR', 'IR'], ['BR', 'IR', 'IR', 'IR', 'O', 'O', 'BR', 'IR', 'IR', 'IR', 'IR', 'IR', 'IR', 'IR', 'IR', 'IR'], ['O', 'O', 'O', 'O', 'O', 'BR', 'IR', 'O', 'O', 'O', 'O', 'O', 'O', 'O'], ['BR', 'IR', 'IR', 'O', 'O', 'O', 'O', 'O', 'O', 'O', 'O'], ['O', 'O', 'O', 'O', 'O', 'O', 'O', 'BR', 'IR', 'IR', 'IR', 'O', 'O', 'O'], ['O', 'BR', 'O', 'BR', 'O', 'BR', 'IR', 'IR', 'IR', 'O', 'O', 'O'], ['O', 'O', 'O', 'O', 'O', 'BR', 'IR', 'IR', 'IR', 'IR', 'IR', 'IR', 'IR', 'IR', 'O', 'O', 'O'], ['O', 'BR', 'IR', 'IR', 'O', 'O', 'O', 'O', 'O', 'O', 'O', 'O', 'O', 'O'], ['O', 'O', 'O', 'O', 'O', 'BR', 'IR', 'O', 'O'], ['BR', 'IR', 'IR', 'O', 'O', 'O', 'O', 'O', 'O', 'O', 'O', 'O', 'O', 'O', 'O', 'O'], ['O', 'O', 'O', 'O', 'O', 'O', 'O', 'O', 'O', 'BR', 'IR', 'IR', 'IR', 'O'], ['BR', 'IR', 'IR', 'IR', 'IR', 'O', 'O', 'O', 'O', 'O', 'O', 'O', 'O', 'O', 'O'], ['O', 'BR', 'IR', 'IR', 'IR', 'O', 'O', 'O', 'O', 'O', 'O', 'O', 'O'], ['O', 'O', 'O', 'BR', 'IR', 'IR', 'IR', 'IR', 'O', 'O', 'O', 'O'], ['O', 'O', 'BR', 'IR', 'IR', 'IR', 'IR', 'IR', 'IR', 'IR', 'IR', 'IR', 'O', 'BR', 'IR'], ['BR', 'IR', 'IR', 'IR', 'IR', 'O', 'O', 'O', 'O', 'O', 'O', 'O', 'O', 'O', 'O', 'O', 'O'], ['BR', 'IR', 'IR', 'IR', 'O', 'O', 'O', 'O', 'O', 'O', 'O', 'O', 'BR'], ['O', 'O', 'O', 'O', 'BR', 'IR', 'IR', 'IR', 'IR', 'IR', 'IR', 'O', 'O', 'O', 'O', 'O', 'O', 'O', 'O'], ['BR', 'IR', 'IR', 'IR', 'O', 'O', 'O', 'O', 'O', 'O', 'O'], ['BR', 'IR', 'IR', 'O', 'O', 'O', 'O', 'O', 'O'], ['O', 'BR', 'IR', 'IR', 'IR', 'O', 'O', 'O', 'O', 'O', 'O'], ['BR', 'IR', 'IR', 'IR', 'IR', 'O', 'BR', 'IR', 'IR', 'IR', 'IR', 'IR', 'IR', 'IR'], ['O', 'O', 'O', 'O', 'O', 'O', 'O', 'O', 'O', 'O', 'BR', 'IR', 'O'], ['BR', 'IR', 'IR', 'IR', 'IR', 'IR', 'IR', 'IR', 'IR', 'IR', 'IR', 'IR', 'IR', 'IR', 'IR', 'IR', 'IR', 'IR', 'IR', 'IR', 'IR', 'IR', 'IR', 'IR'], ['O', 'O', 'BR', 'IR', 'IR', 'IR', 'IR', 'O', 'O', 'O'], ['BR', 'IR', 'IR', 'O', 'O', 'O', 'O', 'O', 'O', 'O', 'O', 'O', 'O', 'O', 'O'], ['O', 'O', 'O', 'BR', 'IR', 'IR', 'O', 'O', 'O', 'O', 'O', 'O', 'O'], ['BR', 'IR', 'IR', 'IR', 'IR', 'O', 'BR', 'IR', 'IR', 'IR', 'IR', 'IR', 'IR'], ['O', 'O', 'BR', 'IR', 'O', 'O', 'O', 'O', 'O', 'O', 'O', 'O', 'O', 'O'], ['O', 'BR', 'IR', 'IR', 'IR', 'O', 'O', 'O', 'O', 'O', 'O', 'O'], ['O', 'BR', 'IR', 'IR', 'IR', 'O', 'O', 'O', 'O', 'O', 'O'], ['O', 'O', 'O', 'BR', 'IR', 'O', 'O', 'O'], ['O', 'O', 'O', 'O', 'O', 'BR', 'IR', 'IR', 'O'], ['O', 'BR', 'IR', 'IR', 'IR', 'IR', 'IR', 'O', 'O', 'O', 'O', 'O', 'O'], ['BR', 'IR', 'IR', 'IR', 'IR', 'IR', 'IR', 'IR', 'IR', 'IR', 'IR', 'IR', 'IR', 'IR', 'IR'], ['O', 'BR', 'IR', 'IR', 'O', 'BR', 'IR', 'IR', 'IR', 'IR', 'IR', 'IR', 'IR', 'IR', 'IR', 'IR', 'IR', 'IR', 'IR'], ['O', 'BR', 'IR', 'O', 'O', 'O', 'O', 'O', 'BR', 'IR', 'IR', 'IR', 'IR', 'IR', 'IR', 'IR'], ['O', 'BR', 'IR', 'IR', 'IR', 'IR', 'IR', 'O', 'O', 'O', 'O', 'O', 'O'], ['BR', 'IR', 'IR', 'O', 'O', 'O', 'O', 'O', 'O', 'O', 'O', 'O', 'O', 'O', 'O', 'O', 'O', 'O'], ['O', 'O', 'O', 'O', 'O', 'O', 'O', 'O', 'BR', 'IR', 'IR', 'IR', 'IR', 'IR', 'IR', 'IR', 'O', 'O', 'O', 'O', 'O'], ['BR', 'IR', 'IR', 'O', 'O', 'O', 'O', 'O', 'O', 'O', 'O'], ['BR', 'IR', 'IR', 'IR', 'O', 'O', 'O', 'O', 'O', 'O', 'O', 'O'], ['BR', 'IR', 'IR', 'IR', 'IR', 'IR', 'O', 'O', 'O', 'O', 'O', 'O', 'O', 'O', 'O'], ['BR', 'IR', 'IR', 'IR', 'IR', 'O', 'O', 'O', 'O', 'O', 'O', 'O', 'O'], ['O', 'O', 'O', 'O', 'O', 'O', 'O', 'O', 'O', 'O', 'BR', 'IR', 'IR', 'IR'], ['BR', 'IR', 'IR', 'IR', 'O', 'O', 'O', 'O', 'O', 'O', 'O', 'O', 'O'], ['BR', 'IR', 'IR', 'IR', 'O', 'O', 'O', 'O', 'O', 'O', 'O', 'O', 'O'], ['O', 'O', 'O', 'O', 'BR', 'IR', 'IR', 'O', 'O', 'O', 'O', 'O', 'O', 'O', 'O'], ['O', 'BR', 'IR', 'O', 'O', 'O', 'O', 'O', 'O', 'O'], ['BR', 'IR', 'IR', 'IR', 'IR', 'IR', 'O', 'O', 'O', 'O', 'O', 'O', 'O', 'O', 'O', 'O', 'O', 'O', 'O', 'O', 'O'], ['O', 'O', 'O', 'O', 'O', 'O', 'O', 'O', 'BR', 'IR', 'O', 'O', 'BR', 'IR'], ['O', 'O', 'O', 'O', 'O', 'O', 'O', 'O', 'BR', 'IR', 'IR', 'IR', 'IR', 'IR', 'IR', 'IR', 'IR', 'O', 'O', 'O', 'O', 'BR'], ['O', 'O', 'BR', 'IR', 'IR', 'IR', 'IR', 'O'], ['BR', 'O', 'BR', 'IR', 'IR', 'IR', 'O', 'O'], ['BR', 'IR', 'IR', 'IR', 'O', 'O', 'O'], ['O', 'BR', 'IR', 'IR', 'IR', 'IR', 'IR', 'O', 'BR', 'IR', 'IR', 'IR', 'IR', 'IR', 'IR', 'IR', 'IR', 'IR', 'O'], ['O', 'O', 'BR', 'IR', 'IR', 'IR', 'IR', 'IR', 'IR', 'IR', 'IR', 'IR', 'IR', 'IR', 'IR', 'IR'], ['O', 'BR', 'IR', 'O', 'O', 'O', 'O', 'O', 'BR', 'IR', 'IR', 'IR', 'IR', 'IR'], ['O', 'O', 'BR', 'IR', 'IR', 'O', 'O', 'O', 'O', 'O'], ['O', 'O', 'O', 'BR', 'IR', 'IR', 'IR', 'IR', 'IR', 'IR', 'O', 'O', 'O', 'O', 'O', 'O', 'O', 'O', 'O', 'O', 'O', 'O', 'O', 'O', 'O'], ['O', 'O', 'O', 'O', 'O', 'O', 'BR', 'IR', 'IR', 'IR', 'O', 'O', 'O', 'O', 'O', 'O', 'O', 'O'], ['O', 'O', 'O', 'O', 'O', 'O', 'BR', 'IR', 'O'], ['O', 'O', 'BR', 'IR', 'IR', 'IR', 'IR', 'IR', 'IR', 'O'], ['O', 'BR', 'O', 'BR', 'IR', 'IR', 'IR', 'IR', 'IR', 'IR', 'IR', 'IR', 'IR', 'IR', 'IR', 'IR', 'IR', 'IR', 'IR', 'IR', 'IR', 'IR', 'O', 'O', 'O', 'O', 'O', 'O', 'O', 'O', 'O', 'O'], ['O', 'O', 'O', 'BR', 'IR', 'IR', 'O', 'O', 'O', 'O', 'O', 'O', 'O', 'O', 'O'], ['O', 'O', 'O', 'O', 'O', 'BR', 'IR', 'IR', 'O'], ['O', 'O', 'O', 'O', 'O', 'O', 'BR', 'IR', 'IR', 'IR', 'IR', 'IR', 'O', 'BR', 'IR', 'IR'], ['O', 'BR', 'IR', 'IR', 'IR', 'IR', 'O', 'O', 'O', 'O', 'O', 'O', 'O', 'O', 'O', 'O'], ['O', 'O', 'O', 'O', 'O', 'O', 'BR', 'IR', 'IR', 'IR', 'IR', 'IR', 'IR', 'IR', 'IR', 'O'], ['O', 'O', 'O', 'O', 'O', 'BR', 'IR', 'IR', 'O', 'O', 'O', 'O', 'O', 'O', 'O', 'O', 'O', 'O'], ['O', 'O', 'O', 'O', 'BR', 'IR', 'IR', 'O', 'O', 'O', 'O'], ['O', 'O', 'BR', 'IR', 'IR', 'IR', 'IR', 'O', 'O', 'O', 'O', 'O', 'O', 'O'], ['O', 'O', 'O', 'O', 'BR', 'IR', 'O'], ['BR', 'IR', 'IR', 'IR', 'O', 'O', 'O', 'O', 'O', 'O', 'O', 'O', 'O', 'O', 'O'], ['O', 'O', 'BR', 'IR', 'O', 'O', 'O', 'O', 'O', 'O', 'O'], ['BR', 'IR', 'IR', 'IR', 'O', 'O', 'O', 'O', 'O', 'O'], ['O', 'BR', 'IR', 'IR', 'O', 'O', 'O', 'O', 'O', 'O', 'O'], ['BR', 'IR', 'IR', 'IR', 'O', 'O', 'O', 'O', 'O', 'O', 'O', 'O', 'O', 'O'], ['O', 'BR', 'IR', 'IR', 'IR', 'O', 'O', 'O', 'O', 'O', 'O', 'O', 'O', 'O'], ['O', 'O', 'O', 'O', 'BR', 'IR', 'IR', 'IR', 'IR', 'O', 'O', 'O'], ['O', 'O', 'O', 'BR', 'IR', 'IR', 'IR', 'O', 'O', 'O', 'O'], ['BR', 'IR', 'IR', 'IR', 'IR', 'IR', 'O', 'O', 'BR', 'O', 'O', 'O', 'O', 'O'], ['BR', 'IR', 'IR', 'IR', 'IR', 'O', 'O', 'O', 'O', 'O', 'O', 'O', 'O'], ['O', 'O', 'BR', 'IR', 'IR', 'O', 'O', 'O', 'O', 'O', 'O', 'O', 'O', 'O'], ['BR', 'IR', 'IR', 'IR', 'O', 'O', 'O', 'O', 'O', 'O', 'O'], ['BR', 'IR', 'IR', 'IR', 'IR', 'IR', 'IR', 'IR', 'IR', 'IR', 'IR'], ['O', 'O', 'BR', 'IR', 'IR', 'IR', 'IR', 'IR', 'IR', 'IR', 'IR', 'IR', 'IR', 'IR', 'IR', 'IR', 'IR', 'IR', 'IR', 'IR', 'IR', 'O'], ['O', 'O', 'O', 'BR', 'IR', 'IR', 'IR', 'IR', 'O', 'O', 'O', 'O'], ['O', 'O', 'O', 'O', 'BR', 'IR', 'IR', 'IR', 'IR', 'O', 'BR', 'IR'], ['O', 'O', 'O', 'BR', 'IR', 'IR', 'IR', 'IR', 'IR', 'O'], ['O', 'O', 'BR', 'IR', 'IR', 'IR', 'O', 'O', 'O', 'O'], ['O', 'O', 'O', 'O', 'O', 'O', 'BR', 'IR', 'IR', 'IR', 'IR', 'IR', 'O'], ['O', 'O', 'O', 'BR', 'IR', 'O', 'O', 'O', 'O', 'O', 'O', 'O', 'O', 'O', 'O'], ['O', 'O', 'O', 'BR', 'IR', 'IR', 'O', 'O', 'O', 'O', 'O', 'O', 'O', 'O', 'O', 'BR', 'IR', 'O'], ['O', 'O', 'O', 'O', 'O', 'O', 'O', 'O', 'O', 'BR', 'IR', 'O', 'O'], ['O', 'O', 'BR', 'IR', 'IR', 'IR', 'O', 'O', 'O', 'O', 'O'], ['O', 'BR', 'IR', 'IR', 'O', 'O', 'O', 'O', 'O', 'O', 'O', 'O', 'O', 'O', 'O'], ['O', 'O', 'O', 'O', 'O', 'O', 'O', 'O', 'BR', 'IR', 'IR', 'O'], ['O', 'O', 'O', 'O', 'O', 'O', 'O', 'BR', 'IR', 'IR', 'IR', 'IR', 'IR', 'O', 'O', 'BR', 'IR', 'IR', 'IR', 'O', 'O', 'O'], ['O', 'BR', 'IR', 'IR', 'IR', 'IR', 'IR', 'IR', 'IR', 'IR', 'IR', 'O', 'O', 'O', 'O', 'O', 'O'], ['O', 'O', 'BR', 'IR', 'IR', 'O', 'O', 'O', 'O', 'O'], ['O', 'BR', 'IR', 'IR', 'IR', 'O', 'O', 'O', 'O', 'O', 'O', 'O', 'O', 'O', 'O'], ['O', 'O', 'O', 'O', 'O', 'O', 'O', 'BR', 'IR', 'IR', 'IR', 'IR', 'O', 'O', 'O', 'O'], ['O', 'O', 'O', 'O', 'O', 'O', 'O', 'O', 'BR', 'IR', 'IR', 'O', 'O', 'O', 'O', 'O', 'O', 'O', 'O'], ['BR', 'IR', 'IR', 'IR', 'IR', 'IR', 'IR', 'IR', 'IR', 'IR', 'IR', 'IR', 'IR', 'IR', 'IR', 'IR', 'IR', 'IR', 'O'], ['O', 'O', 'O', 'O', 'BR', 'IR', 'IR', 'IR', 'O', 'O', 'O', 'O', 'O', 'O'], ['BR', 'O', 'BR', 'IR', 'IR', 'IR', 'O', 'O', 'O', 'O', 'O', 'O', 'O', 'O', 'O'], ['O', 'O', 'O', 'O', 'O', 'BR', 'IR', 'IR', 'O', 'O'], ['O', 'O', 'O', 'O', 'O', 'O', 'BR', 'IR', 'O'], ['BR', 'IR', 'O', 'O', 'O', 'O', 'O', 'O'], ['O', 'O', 'O', 'O', 'O', 'BR', 'IR', 'IR', 'O', 'O', 'O', 'O'], ['BR', 'IR', 'IR', 'IR', 'O', 'O', 'O', 'O', 'O', 'O', 'O', 'O', 'O'], ['O', 'BR', 'IR', 'IR', 'O', 'O', 'O', 'O', 'O', 'O', 'O'], ['BR', 'IR', 'IR', 'IR', 'IR', 'O', 'O', 'O', 'O', 'O', 'BR', 'IR'], ['O', 'O', 'O', 'O', 'O', 'BR', 'IR', 'IR', 'O'], ['BR', 'IR', 'IR', 'IR', 'O', 'O', 'O', 'BR', 'IR'], ['O', 'O', 'O', 'BR', 'IR', 'IR', 'IR', 'O', 'O', 'O', 'O', 'O'], ['O', 'O', 'O', 'O', 'O', 'O', 'O', 'O', 'O', 'BR', 'IR', 'IR', 'IR', 'IR', 'IR', 'IR', 'O', 'O', 'O'], ['O', 'O', 'O', 'O', 'BR', 'IR', 'IR', 'IR', 'O', 'BR', 'O', 'O', 'O', 'O'], ['O', 'O', 'O', 'O', 'O', 'O', 'O', 'BR', 'IR', 'O', 'O', 'O', 'O'], ['O', 'O', 'O', 'O', 'O', 'O', 'BR', 'IR', 'O'], ['O', 'O', 'O', 'O', 'O', 'O', 'O', 'BR', 'IR', 'IR', 'IR', 'IR', 'IR', 'IR', 'IR', 'IR', 'O'], ['O', 'BR', 'IR', 'IR', 'O', 'O', 'O', 'O', 'O', 'O', 'O', 'O'], ['BR', 'IR', 'IR', 'IR', 'IR', 'IR', 'IR', 'IR', 'IR', 'IR'], ['BR', 'IR', 'IR', 'IR', 'O', 'O', 'O', 'O', 'O', 'O', 'O', 'O', 'O'], ['O', 'O', 'BR', 'IR', 'IR', 'IR', 'O', 'O', 'O', 'O', 'O', 'O'], ['BR', 'IR', 'IR', 'O', 'O', 'O', 'O', 'O', 'O', 'O', 'BR'], ['O', 'O', 'O', 'O', 'BR', 'IR', 'IR', 'O', 'O', 'O', 'O'], ['O', 'BR', 'IR', 'IR', 'IR', 'IR', 'IR', 'IR', 'IR', 'IR', 'IR', 'IR', 'IR', 'IR', 'IR', 'O', 'BR', 'IR'], ['O', 'O', 'O', 'O', 'BR', 'IR', 'O', 'O', 'O', 'O', 'O'], ['O', 'O', 'BR', 'IR', 'IR', 'IR', 'IR', 'IR', 'IR', 'O', 'O', 'O', 'O', 'O', 'O'], ['O', 'O', 'O', 'O', 'O', 'O', 'BR', 'IR', 'IR', 'IR', 'IR', 'O'], ['O', 'O', 'O', 'O', 'O', 'O', 'O', 'BR', 'IR', 'IR', 'O'], ['O', 'O', 'BR', 'IR', 'IR', 'O', 'O', 'O'], ['O', 'O', 'O', 'O', 'O', 'O', 'BR', 'IR', 'IR', 'IR', 'IR', 'IR', 'IR', 'O'], ['BR', 'IR', 'IR', 'IR', 'O', 'O', 'O', 'O', 'O', 'O', 'O', 'O', 'O'], ['O', 'BR', 'IR', 'IR', 'IR', 'O', 'O', 'O', 'O', 'O', 'O', 'O', 'BR'], ['O', 'O', 'O', 'O', 'O', 'BR', 'IR', 'O', 'O', 'O'], ['BR', 'IR', 'IR', 'O', 'O', 'O', 'O', 'O', 'O', 'O', 'O', 'O', 'O', 'O', 'O', 'O', 'O'], ['O', 'O', 'O', 'O', 'O', 'O', 'BR', 'IR', 'IR', 'IR', 'IR', 'IR', 'IR', 'O', 'O', 'O', 'O'], ['O', 'O', 'O', 'BR', 'IR', 'O', 'O', 'O', 'O', 'O', 'O', 'O', 'O', 'O', 'O', 'O'], ['O', 'BR', 'IR', 'IR', 'IR', 'O', 'O', 'O', 'O', 'O', 'O'], ['O', 'O', 'O', 'O', 'BR', 'IR', 'IR', 'IR', 'IR', 'IR', 'O'], ['BR', 'IR', 'IR', 'IR', 'IR', 'IR', 'O', 'O', 'O', 'O', 'O', 'O', 'O', 'O', 'O'], ['O', 'BR', 'IR', 'IR', 'O', 'BR', 'IR', 'IR', 'IR', 'IR', 'O', 'O', 'O', 'O'], ['BR', 'IR', 'IR', 'IR', 'IR', 'O', 'O', 'O', 'O', 'O', 'O', 'O', 'O', 'O', 'O'], ['O', 'O', 'BR', 'IR', 'IR', 'IR', 'IR', 'IR', 'IR', 'IR', 'O'], ['O', 'O', 'O', 'O', 'BR', 'IR', 'IR', 'IR', 'IR', 'IR', 'O', 'O', 'O', 'O', 'O', 'O'], ['BR', 'IR', 'IR', 'IR', 'IR', 'IR', 'IR', 'IR', 'IR', 'O', 'O', 'O', 'O', 'BR', 'IR', 'IR', 'IR'], ['O', 'O', 'O', 'O', 'O', 'BR', 'IR', 'IR', 'IR', 'IR', 'O', 'O', 'O', 'O', 'O', 'O', 'O', 'O', 'O', 'O'], ['BR', 'IR', 'IR', 'IR', 'IR', 'IR', 'IR', 'O', 'O', 'O', 'O', 'O', 'O', 'O', 'O', 'O', 'O', 'O'], ['O', 'BR', 'IR', 'IR', 'IR', 'IR', 'IR', 'IR', 'IR', 'IR', 'IR', 'IR', 'IR', 'IR', 'IR', 'IR', 'O', 'O', 'O', 'O', 'O', 'O', 'O', 'O', 'O', 'O'], ['BR', 'IR', 'IR', 'IR', 'IR', 'O', 'O', 'O', 'O', 'O', 'O', 'O', 'O'], ['O', 'O', 'O', 'O', 'O', 'O', 'O', 'O', 'O', 'BR', 'IR', 'IR', 'O'], ['BR', 'IR', 'IR', 'IR', 'IR', 'O', 'O', 'O', 'O', 'O', 'O', 'O', 'O'], ['O', 'O', 'O', 'O', 'BR', 'IR', 'IR', 'O', 'O', 'O', 'O', 'O', 'O', 'O'], ['O', 'O', 'O', 'O', 'BR', 'IR', 'IR', 'IR', 'O', 'O', 'O', 'O', 'O'], ['O', 'O', 'O', 'O', 'BR', 'IR', 'IR', 'IR', 'IR', 'O', 'O', 'O', 'O', 'O', 'O', 'BR', 'IR', 'IR', 'IR', 'IR'], ['O', 'O', 'O', 'O', 'O', 'O', 'O', 'O', 'BR', 'IR', 'IR', 'IR', 'IR', 'O', 'O', 'O', 'O'], ['BR', 'IR', 'IR', 'O', 'O', 'O', 'O', 'O', 'O', 'O', 'O', 'O', 'O'], ['O', 'O', 'BR', 'IR', 'IR', 'IR', 'IR', 'IR', 'IR', 'IR', 'O', 'O', 'O', 'O'], ['O', 'BR', 'IR', 'IR', 'O', 'O', 'O', 'O', 'O', 'O'], ['O', 'O', 'O', 'O', 'O', 'O', 'O', 'O', 'O', 'O', 'O', 'O', 'O', 'O', 'BR', 'IR', 'IR', 'O'], ['O', 'BR', 'IR', 'O', 'O', 'O', 'O', 'O', 'O', 'O', 'O', 'O', 'O'], ['BR', 'IR', 'IR', 'O', 'O', 'O', 'O', 'O', 'O', 'O', 'O', 'O'], ['O', 'O', 'O', 'O', 'O', 'O', 'O', 'BR', 'IR', 'IR', 'O'], ['O', 'O', 'O', 'O', 'BR', 'IR', 'IR', 'O', 'O', 'O', 'O', 'O', 'O', 'O'], ['O', 'BR', 'IR', 'IR', 'IR', 'IR', 'IR', 'IR', 'O', 'O', 'O', 'O', 'O', 'O', 'O', 'O', 'O', 'O', 'O'], ['O', 'O', 'O', 'O', 'O', 'O', 'O', 'BR', 'IR', 'O', 'BR', 'IR', 'IR', 'IR', 'IR', 'IR', 'IR', 'IR'], ['BR', 'IR', 'IR', 'IR', 'IR', 'IR', 'IR', 'IR', 'IR', 'IR', 'IR', 'IR', 'IR', 'IR', 'IR', 'O', 'BR', 'IR'], ['O', 'O', 'O', 'O', 'O', 'BR', 'IR', 'IR', 'IR', 'IR', 'O', 'O'], ['O', 'O', 'O', 'O', 'BR', 'IR', 'O', 'O', 'O', 'O'], ['O', 'O', 'O', 'O', 'BR', 'IR', 'IR', 'IR', 'IR', 'O', 'O'], ['O', 'O', 'O', 'BR', 'IR', 'IR', 'IR', 'IR', 'IR', 'IR', 'IR', 'IR', 'IR', 'O'], ['O', 'O', 'O', 'BR', 'IR', 'IR', 'IR', 'O', 'O', 'O', 'O', 'O', 'O', 'O', 'O', 'O', 'O', 'O'], ['O', 'O', 'O', 'BR', 'IR', 'IR', 'IR', 'IR', 'O', 'O', 'BR', 'IR'], ['BR', 'IR', 'IR', 'IR', 'O', 'O', 'O', 'O', 'O', 'O', 'O', 'O'], ['O', 'O', 'O', 'O', 'O', 'O', 'O', 'O', 'O', 'BR', 'IR', 'IR', 'IR', 'IR', 'IR', 'IR', 'IR'], ['O', 'BR', 'IR', 'IR', 'O', 'O', 'O', 'O', 'O', 'O', 'O', 'O', 'O'], ['O', 'O', 'BR', 'IR', 'IR', 'O', 'O', 'O', 'O', 'O', 'O', 'O'], ['O', 'O', 'BR', 'IR', 'IR', 'IR', 'IR', 'IR', 'IR', 'IR', 'IR', 'IR', 'IR', 'IR', 'O', 'BR', 'O'], ['O', 'O', 'O', 'BR', 'IR', 'IR', 'O', 'O'], ['O', 'BR', 'IR', 'IR', 'IR', 'IR', 'IR', 'IR', 'IR', 'IR', 'IR', 'O', 'O', 'O', 'O', 'O', 'O', 'O'], ['O', 'O', 'O', 'O', 'O', 'O', 'O', 'O', 'O', 'O', 'BR', 'IR', 'IR', 'O', 'O', 'O', 'O'], ['BR', 'IR', 'IR', 'IR', 'IR', 'IR', 'IR', 'IR', 'IR', 'IR'], ['O', 'O', 'BR', 'IR', 'IR', 'O', 'O', 'O', 'O', 'O', 'O', 'O'], ['O', 'O', 'O', 'O', 'O', 'O', 'O', 'O', 'O', 'O', 'O', 'O', 'BR', 'IR', 'IR', 'IR', 'IR', 'IR', 'O', 'BR', 'IR'], ['BR', 'O', 'O', 'O', 'O', 'BR', 'IR', 'O', 'O', 'O', 'O', 'O', 'O', 'O', 'O', 'O'], ['O', 'BR', 'IR', 'IR', 'IR', 'IR', 'IR', 'IR', 'IR', 'IR', 'IR', 'IR', 'IR', 'IR', 'IR', 'O', 'O', 'O', 'O', 'O', 'O', 'O', 'O', 'O'], ['O', 'O', 'BR', 'IR', 'IR', 'IR', 'O', 'O', 'O', 'O', 'O'], ['O', 'O', 'BR', 'IR', 'IR', 'O', 'O', 'O'], ['O', 'O', 'O', 'BR', 'IR', 'IR', 'IR', 'IR', 'O', 'O', 'O', 'O'], ['BR', 'IR', 'IR', 'IR', 'IR', 'IR', 'IR', 'IR', 'IR', 'IR', 'IR', 'IR'], ['O', 'O', 'O', 'O', 'O', 'O', 'BR', 'IR', 'O', 'O', 'O', 'O', 'O'], ['BR', 'IR', 'IR', 'IR', 'IR', 'IR', 'O', 'O', 'O', 'O', 'O', 'O', 'O', 'O'], ['O', 'O', 'O', 'O', 'O', 'O', 'O', 'O', 'BR', 'IR', 'IR', 'IR', 'O'], ['O', 'O', 'O', 'O', 'O', 'O', 'O', 'O', 'BR', 'IR', 'IR', 'IR', 'O', 'O', 'O', 'O', 'O'], ['O', 'O', 'O', 'BR', 'IR', 'O', 'O', 'O', 'O', 'O'], ['O', 'BR', 'IR', 'IR', 'IR', 'IR', 'IR', 'IR', 'IR', 'IR', 'O', 'O', 'O', 'O', 'O', 'O', 'O', 'O', 'O'], ['O', 'BR', 'IR', 'IR', 'IR', 'IR', 'IR', 'IR', 'IR', 'IR', 'IR', 'IR', 'IR', 'O', 'O', 'O', 'O', 'O', 'O'], ['O', 'BR', 'IR', 'IR', 'IR', 'IR', 'O', 'O', 'BR', 'IR', 'IR', 'IR'], ['O', 'O', 'O', 'BR', 'IR', 'IR', 'IR', 'IR', 'IR', 'IR', 'IR', 'IR', 'IR', 'IR', 'IR', 'IR', 'IR', 'IR', 'O', 'O', 'O', 'O', 'BR'], ['O', 'O', 'O', 'O', 'O', 'BR', 'IR', 'IR', 'IR', 'IR', 'IR', 'IR', 'IR', 'IR', 'O'], ['O', 'O', 'O', 'O', 'O', 'O', 'O', 'O', 'O', 'O', 'O', 'O', 'BR', 'O', 'BR', 'IR', 'IR', 'IR', 'O'], ['O', 'O', 'O', 'O', 'O', 'BR', 'IR', 'IR', 'IR', 'O', 'O', 'O', 'O', 'O', 'O', 'O', 'O'], ['O', 'O', 'BR', 'IR', 'IR', 'IR', 'O', 'O', 'O', 'O', 'O'], ['BR', 'IR', 'IR', 'IR', 'O', 'O', 'O', 'O', 'O'], ['BR', 'IR', 'IR', 'IR', 'IR', 'O', 'O', 'O', 'O', 'O', 'O', 'O', 'O', 'O', 'O'], ['O', 'O', 'O', 'O', 'O', 'O', 'O', 'O', 'O', 'BR', 'IR', 'IR', 'IR', 'O'], ['O', 'O', 'O', 'O', 'BR', 'IR', 'IR', 'IR', 'O', 'O', 'O', 'O', 'O'], ['O', 'O', 'O', 'O', 'O', 'O', 'O', 'BR', 'IR', 'O', 'O'], ['O', 'O', 'O', 'O', 'BR', 'IR', 'IR', 'O', 'O', 'O', 'O'], ['BR', 'IR', 'IR', 'O', 'O', 'O', 'O', 'O', 'O', 'O', 'O', 'O'], ['O', 'O', 'BR', 'IR', 'IR', 'IR', 'IR', 'IR', 'IR', 'IR', 'IR', 'IR', 'IR', 'IR', 'IR', 'IR', 'IR', 'O'], ['BR', 'IR', 'IR', 'IR', 'IR', 'O', 'O', 'BR', 'O', 'O', 'BR', 'IR', 'IR'], ['O', 'O', 'O', 'O', 'BR', 'IR', 'IR', 'O', 'O', 'O', 'O'], ['BR', 'IR', 'IR', 'IR', 'IR', 'O', 'O', 'O', 'O', 'O', 'O', 'O', 'O'], ['O', 'O', 'O', 'BR', 'IR', 'O', 'O', 'O', 'O'], ['BR', 'IR', 'IR', 'IR', 'IR', 'O', 'O', 'O', 'O', 'O', 'O'], ['O', 'O', 'O', 'BR', 'IR', 'IR', 'IR', 'O', 'O', 'O', 'O'], ['O', 'BR', 'IR', 'IR', 'IR', 'IR', 'IR', 'IR', 'IR', 'IR', 'IR', 'IR', 'IR', 'O', 'BR'], ['O', 'BR', 'IR', 'IR', 'O', 'O', 'O', 'O', 'O', 'O', 'O', 'O', 'O', 'O', 'O', 'O', 'O'], ['O', 'O', 'O', 'O', 'O', 'O', 'O', 'O', 'O', 'BR', 'IR', 'O'], ['O', 'BR', 'IR', 'IR', 'O', 'O', 'O', 'O'], ['O', 'BR', 'IR', 'O', 'O', 'O', 'O'], ['O', 'O', 'BR', 'IR', 'IR', 'IR', 'IR', 'IR', 'O', 'O', 'O', 'O', 'O', 'O', 'O', 'O'], ['O', 'O', 'BR', 'IR', 'IR', 'IR', 'IR', 'IR', 'IR', 'O', 'O', 'O', 'O'], ['O', 'O', 'O', 'BR', 'IR', 'IR', 'IR', 'O', 'O', 'O', 'O'], ['BR', 'IR', 'IR', 'IR', 'IR', 'IR', 'IR', 'O', 'O', 'O'], ['BR', 'IR', 'IR', 'IR', 'O', 'O', 'O', 'O', 'O', 'O', 'O', 'O', 'O', 'O', 'O'], ['BR', 'IR', 'IR', 'O', 'O', 'O', 'O', 'O', 'O', 'O', 'O', 'O', 'O', 'O'], ['O', 'O', 'O', 'O', 'O', 'O', 'O', 'O', 'O', 'O', 'O', 'O', 'BR', 'IR', 'IR', 'IR', 'IR', 'O'], ['BR', 'IR', 'IR', 'IR', 'O', 'O', 'O', 'O', 'O', 'O', 'O', 'O', 'O'], ['O', 'O', 'O', 'O', 'O', 'O', 'O', 'BR', 'IR', 'IR', 'IR', 'O'], ['O', 'O', 'O', 'O', 'O', 'BR', 'IR', 'IR', 'O', 'O', 'O', 'O', 'O'], ['O', 'O', 'O', 'BR', 'IR', 'IR', 'O', 'O', 'O', 'O', 'O', 'O'], ['BR', 'IR', 'IR', 'IR', 'IR', 'O', 'O', 'O', 'O', 'O', 'O', 'O'], ['BR', 'IR', 'IR', 'IR', 'IR', 'O', 'O', 'O', 'O', 'O', 'O', 'O', 'O', 'O', 'O'], ['O', 'O', 'O', 'O', 'O', 'O', 'O', 'BR', 'IR', 'IR', 'IR', 'O', 'O', 'O'], ['O', 'O', 'O', 'O', 'O', 'BR', 'IR', 'O', 'O', 'O', 'O', 'O', 'O'], ['BR', 'IR', 'IR', 'IR', 'O', 'O', 'O', 'O', 'O', 'O', 'O', 'O', 'O', 'O', 'O', 'O'], ['O', 'O', 'BR', 'IR', 'IR', 'IR', 'IR', 'IR', 'O', 'O', 'O', 'O'], ['O', 'BR', 'IR', 'IR', 'IR', 'IR', 'IR', 'IR', 'IR', 'O', 'O', 'O', 'O', 'O', 'O', 'O', 'O', 'O', 'O'], ['O', 'O', 'BR', 'IR', 'IR', 'IR', 'IR', 'IR', 'IR', 'IR', 'IR', 'O', 'O', 'O', 'O'], ['BR', 'IR', 'IR', 'O', 'O', 'O', 'O', 'O', 'O', 'O', 'O'], ['O', 'O', 'O', 'BR', 'IR', 'IR', 'IR', 'IR', 'IR', 'IR', 'IR', 'O', 'O'], ['O', 'O', 'O', 'BR', 'IR', 'IR', 'IR', 'O', 'O', 'O', 'O', 'O'], ['BR', 'IR', 'IR', 'IR', 'O', 'O', 'O', 'O', 'O', 'O', 'O', 'O', 'O', 'O'], ['O', 'BR', 'IR', 'IR', 'O', 'O', 'O', 'O', 'O', 'O', 'O', 'O'], ['O', 'BR', 'IR', 'IR', 'IR', 'O', 'O', 'O', 'O', 'O', 'O', 'O'], ['O', 'O', 'BR', 'IR', 'IR', 'O', 'O', 'O', 'O', 'O'], ['BR', 'IR', 'IR', 'IR', 'IR', 'O', 'O', 'O', 'O', 'O', 'O', 'O', 'O', 'O'], ['O', 'BR', 'IR', 'IR', 'O', 'O', 'O', 'O', 'O', 'O', 'O', 'O', 'O', 'O', 'O', 'O', 'O', 'O'], ['O', 'BR', 'IR', 'IR', 'IR', 'O', 'O', 'O', 'O', 'O', 'O', 'O', 'O', 'O', 'O'], ['O', 'O', 'O', 'O', 'O', 'O', 'O', 'BR', 'IR', 'IR', 'O'], ['O', 'BR', 'IR', 'IR', 'O', 'O', 'O', 'O', 'O', 'O', 'O', 'O'], ['BR', 'IR', 'IR', 'IR', 'IR', 'IR', 'IR', 'IR', 'IR', 'IR', 'IR', 'IR', 'IR'], ['O', 'O', 'O', 'BR', 'IR', 'IR', 'O', 'O', 'O', 'O', 'O', 'O', 'O', 'O'], ['O', 'O', 'O', 'O', 'O', 'O', 'O', 'BR', 'IR', 'IR', 'IR', 'IR', 'IR', 'IR', 'O', 'O', 'BR', 'IR'], ['O', 'O', 'O', 'BR', 'IR', 'IR', 'O'], ['BR', 'IR', 'O', 'O', 'O', 'O', 'O', 'O', 'O'], ['BR', 'IR', 'IR', 'O', 'O', 'O', 'O', 'O', 'O', 'O', 'O', 'O', 'O', 'O', 'O'], ['O', 'O', 'O', 'O', 'O', 'O', 'O', 'O', 'BR', 'IR', 'IR', 'IR', 'O', 'O', 'O'], ['O', 'BR', 'IR', 'IR', 'IR', 'IR', 'IR', 'IR', 'IR', 'IR', 'IR', 'IR', 'IR', 'IR'], ['O', 'O', 'O', 'BR', 'IR', 'O', 'O', 'O', 'O', 'O', 'O'], ['BR', 'IR', 'IR', 'O', 'O', 'O', 'O', 'O', 'O', 'O', 'O', 'O', 'O'], ['BR', 'IR', 'IR', 'IR', 'O', 'O', 'O', 'O', 'O', 'O', 'O', 'O', 'O'], ['O', 'O', 'O', 'BR', 'IR', 'IR', 'IR', 'IR', 'IR', 'IR', 'IR', 'IR', 'IR', 'IR', 'O'], ['O', 'O', 'BR', 'IR', 'IR', 'IR', 'IR', 'IR', 'IR', 'O', 'O', 'O', 'O', 'O'], ['O', 'O', 'O', 'BR', 'IR', 'IR', 'O', 'O', 'O', 'O', 'O', 'O', 'O'], ['O', 'BR', 'IR', 'IR', 'IR', 'O', 'O', 'O', 'O'], ['O', 'O', 'BR', 'IR', 'IR', 'IR', 'IR', 'O', 'O', 'O', 'O', 'O', 'O', 'O'], ['O', 'O', 'O', 'O', 'O', 'BR', 'IR', 'IR', 'IR', 'IR', 'O', 'O', 'O'], ['O', 'O', 'O', 'O', 'O', 'O', 'BR', 'IR', 'IR', 'IR', 'IR', 'IR', 'IR', 'IR', 'O', 'BR', 'IR'], ['O', 'O', 'O', 'BR', 'IR', 'IR', 'O', 'O', 'O', 'O', 'O', 'O', 'O', 'O', 'O', 'O', 'O'], ['O', 'O', 'O', 'BR', 'IR', 'IR', 'O', 'O', 'O', 'O', 'O', 'O'], ['O', 'BR', 'IR', 'IR', 'O', 'O', 'O', 'O', 'O', 'O', 'O'], ['O', 'BR', 'IR', 'O', 'O', 'O', 'O', 'O', 'O'], ['BR', 'IR', 'IR', 'IR', 'IR', 'IR', 'O', 'O', 'O', 'O', 'O', 'O', 'O'], ['O', 'O', 'O', 'O', 'O', 'O', 'BR', 'IR', 'IR', 'O', 'O', 'O', 'O', 'O', 'O', 'O', 'O', 'O'], ['BR', 'IR', 'IR', 'IR', 'IR', 'IR', 'O', 'O', 'O', 'O', 'O', 'O', 'BR', 'IR', 'IR', 'IR', 'IR', 'IR'], ['O', 'O', 'BR', 'IR', 'IR', 'IR', 'IR', 'IR', 'IR', 'O', 'O', 'O', 'BR'], ['O', 'O', 'O', 'O', 'O', 'O', 'O', 'O', 'BR', 'IR', 'IR', 'IR', 'IR', 'IR', 'IR', 'IR', 'IR', 'O', 'O'], ['O', 'O', 'O', 'O', 'O', 'O', 'O', 'O', 'O', 'O', 'O', 'BR', 'IR', 'IR', 'O'], ['O', 'O', 'O', 'O', 'BR', 'IR', 'O', 'O', 'O'], ['O', 'BR', 'IR', 'IR', 'IR', 'IR', 'IR', 'IR', 'IR', 'O', 'O', 'O', 'O', 'O'], ['O', 'O', 'BR', 'IR', 'IR', 'IR', 'IR', 'IR', 'IR', 'IR', 'O', 'O', 'O', 'O', 'O', 'O', 'O', 'O', 'O'], ['O', 'O', 'BR', 'IR', 'IR', 'IR', 'IR', 'IR', 'IR', 'IR', 'IR', 'O', 'O', 'O'], ['BR', 'IR', 'IR', 'IR', 'IR', 'IR', 'IR', 'IR', 'IR', 'IR', 'IR', 'IR', 'IR', 'IR', 'IR', 'IR', 'IR', 'IR', 'IR', 'IR', 'IR'], ['O', 'O', 'O', 'O', 'O', 'O', 'BR', 'IR', 'IR', 'IR', 'IR', 'IR', 'IR', 'IR', 'IR', 'IR', 'O', 'O', 'O', 'O', 'O', 'O'], ['O', 'BR', 'IR', 'IR', 'O', 'O', 'O', 'O', 'O', 'O', 'O', 'O', 'O', 'O', 'O', 'O', 'O', 'O'], ['O', 'O', 'O', 'O', 'O', 'O', 'BR', 'IR', 'IR', 'O', 'O', 'O', 'O', 'O', 'O', 'O'], ['O', 'O', 'BR', 'IR', 'IR', 'O', 'O', 'O', 'O', 'O', 'O', 'O', 'O'], ['O', 'BR', 'IR', 'IR', 'IR', 'IR', 'O', 'O', 'O', 'O', 'O', 'O'], ['O', 'O', 'O', 'BR', 'IR', 'IR', 'O', 'O', 'O'], ['O', 'BR', 'IR', 'IR', 'O', 'O', 'O', 'O', 'O', 'O', 'O'], ['O', 'O', 'BR', 'IR', 'IR', 'IR', 'IR', 'IR', 'O', 'O', 'O'], ['O', 'O', 'O', 'BR', 'IR', 'O', 'O', 'O', 'O', 'O', 'O', 'O', 'O', 'O'], ['BR', 'IR', 'IR', 'IR', 'O', 'O', 'O', 'O', 'O', 'O', 'O', 'O'], ['BR', 'IR', 'IR', 'IR', 'O', 'O', 'O', 'O', 'O'], ['O', 'O', 'BR', 'IR', 'IR', 'IR', 'IR', 'IR', 'IR', 'O'], ['O', 'O', 'BR', 'IR', 'IR', 'IR', 'IR', 'IR', 'IR', 'IR', 'O', 'O', 'O', 'O'], ['O', 'O', 'BR', 'IR', 'IR', 'O', 'O', 'O', 'O', 'O', 'O', 'O', 'O'], ['O', 'O', 'BR', 'IR', 'O', 'O', 'O', 'O', 'O', 'O', 'O', 'O', 'O'], ['BR', 'IR', 'IR', 'O', 'O', 'O', 'O', 'O', 'O', 'O'], ['O', 'O', 'BR', 'IR', 'IR', 'IR', 'IR', 'IR', 'O', 'O', 'O', 'O'], ['O', 'BR', 'IR', 'IR', 'O', 'O', 'O', 'O', 'O', 'O', 'O', 'O', 'O', 'O', 'O', 'O'], ['O', 'O', 'O', 'BR', 'IR', 'O', 'O', 'O', 'O', 'O', 'O', 'O', 'O', 'O'], ['O', 'O', 'O', 'BR', 'IR', 'IR', 'IR', 'O', 'O', 'O', 'O', 'O', 'O', 'O', 'O', 'O', 'O', 'O'], ['O', 'BR', 'IR', 'IR', 'IR', 'IR', 'O', 'O', 'O', 'O', 'O', 'O', 'O'], ['BR', 'IR', 'IR', 'IR', 'O', 'O', 'O', 'O', 'O', 'O'], ['BR', 'IR', 'IR', 'IR', 'IR', 'O', 'O', 'O', 'O', 'O', 'O', 'O'], ['O', 'O', 'O', 'O', 'O', 'O', 'O', 'O', 'O', 'BR', 'IR', 'IR', 'O'], ['O', 'O', 'O', 'O', 'O', 'BR', 'IR', 'IR', 'O', 'O', 'O', 'O'], ['BR', 'O', 'BR', 'IR', 'IR', 'IR', 'O', 'O', 'O', 'O', 'O', 'O', 'O', 'O', 'O', 'O', 'O'], ['BR', 'IR', 'IR', 'IR', 'IR', 'O', 'O', 'O', 'O', 'O', 'O', 'O', 'O'], ['BR', 'IR', 'IR', 'IR', 'O', 'O', 'O', 'O', 'O', 'O', 'O'], ['O', 'O', 'O', 'O', 'O', 'O', 'O', 'BR', 'IR', 'IR', 'IR', 'O', 'O'], ['O', 'O', 'O', 'BR', 'IR', 'IR', 'O', 'O', 'O', 'O', 'O', 'O', 'O', 'O'], ['BR', 'IR', 'IR', 'IR', 'IR', 'O', 'O', 'O', 'O', 'O', 'O', 'O', 'O', 'O'], ['BR', 'IR', 'IR', 'IR', 'O', 'O', 'O', 'O', 'O', 'O', 'O'], ['BR', 'O', 'BR', 'O', 'BR', 'IR', 'IR', 'IR', 'IR', 'IR', 'IR', 'IR', 'IR', 'IR', 'IR', 'O', 'O', 'O', 'O', 'O', 'O', 'O'], ['BR', 'IR', 'IR', 'IR', 'IR', 'IR', 'O', 'O', 'O', 'O', 'BR'], ['O', 'O', 'O', 'O', 'O', 'O', 'BR', 'IR', 'IR', 'IR', 'IR'], ['O', 'O', 'BR', 'IR', 'O', 'O', 'O', 'O', 'O', 'O', 'O', 'O'], ['O', 'O', 'O', 'BR', 'IR', 'IR', 'O', 'O', 'O', 'O', 'O', 'O', 'O', 'O', 'O', 'O', 'O', 'O', 'O'], ['O', 'O', 'BR', 'IR', 'IR', 'IR', 'O', 'O', 'O', 'O', 'O', 'O', 'O', 'O'], ['O', 'O', 'O', 'O', 'O', 'O', 'O', 'BR', 'IR', 'IR', 'IR', 'O', 'O', 'O'], ['O', 'O', 'O', 'O', 'BR', 'IR', 'IR', 'O'], ['BR', 'IR', 'IR', 'IR', 'IR', 'IR', 'IR', 'IR', 'IR', 'IR', 'IR', 'IR', 'IR', 'IR', 'IR'], ['BR', 'IR', 'O', 'BR', 'IR', 'IR', 'IR', 'IR', 'IR', 'O', 'O'], ['O', 'O', 'BR', 'IR', 'O'], ['O', 'BR', 'IR', 'IR', 'IR', 'IR', 'O', 'O'], ['BR', 'IR', 'IR', 'O', 'O', 'O', 'O', 'O', 'O', 'O', 'O'], ['O', 'O', 'O', 'O', 'BR', 'O', 'BR', 'IR', 'IR', 'O'], ['O', 'O', 'O', 'O', 'O', 'BR', 'IR', 'IR', 'IR', 'IR', 'IR', 'IR', 'IR', 'IR', 'O', 'O'], ['O', 'O', 'O', 'O', 'O', 'O', 'BR', 'IR', 'IR', 'IR', 'IR', 'IR', 'IR', 'IR', 'IR', 'IR'], ['O', 'O', 'BR', 'IR', 'IR', 'IR', 'IR', 'IR', 'IR', 'IR', 'IR', 'O', 'O', 'O', 'O', 'O', 'O', 'BR'], ['BR', 'IR', 'IR', 'IR', 'IR', 'O', 'O', 'O', 'O', 'O', 'O', 'O'], ['O', 'O', 'O', 'BR', 'IR', 'O', 'O', 'O', 'O', 'O'], ['O', 'BR', 'IR', 'IR', 'IR', 'IR', 'IR', 'IR', 'IR', 'IR', 'O', 'BR', 'IR', 'IR'], ['BR', 'IR', 'IR', 'IR', 'IR', 'IR', 'O', 'O', 'O', 'O', 'O', 'O', 'O', 'O', 'O'], ['O', 'BR', 'IR', 'IR', 'IR', 'IR', 'IR', 'O', 'O', 'O', 'O', 'O', 'O', 'O'], ['O', 'O', 'O', 'O', 'O', 'O', 'O', 'O', 'O', 'O', 'O', 'BR', 'IR', 'O', 'O', 'O'], ['O', 'BR', 'IR', 'IR', 'IR', 'IR', 'IR', 'IR', 'IR', 'IR', 'O'], ['O', 'BR', 'IR', 'IR', 'IR', 'IR', 'O', 'O', 'O', 'O', 'O', 'O', 'O', 'O', 'O', 'O'], ['O', 'O', 'O', 'O', 'BR', 'IR', 'IR', 'IR', 'IR', 'IR', 'IR', 'IR', 'O', 'O', 'O', 'O'], ['O', 'O', 'O', 'O', 'BR', 'IR', 'IR', 'O', 'O', 'O', 'O', 'O', 'O'], ['O', 'O', 'BR', 'IR', 'IR', 'IR', 'IR', 'IR', 'IR', 'IR', 'IR', 'IR', 'IR', 'IR', 'IR', 'IR', 'IR', 'IR', 'O', 'O', 'O', 'O', 'O', 'O', 'O', 'O', 'O', 'O'], ['O', 'O', 'O', 'BR', 'IR', 'O', 'O', 'O', 'O', 'O', 'O', 'O'], ['O', 'O', 'O', 'O', 'BR', 'IR', 'IR', 'IR', 'IR', 'O', 'O', 'O'], ['O', 'O', 'O', 'BR', 'IR', 'IR', 'IR', 'IR', 'IR', 'IR', 'IR', 'IR', 'IR', 'IR', 'IR', 'O', 'O', 'BR', 'IR', 'IR', 'IR', 'IR'], ['O', 'O', 'O', 'O', 'O', 'O', 'BR', 'IR', 'IR', 'IR', 'IR', 'IR', 'IR', 'IR', 'O', 'O', 'O'], ['O', 'O', 'BR', 'IR', 'IR', 'IR', 'IR', 'IR', 'IR', 'IR', 'IR', 'IR', 'IR'], ['BR', 'O', 'O', 'O', 'O', 'O', 'O', 'O', 'O', 'O', 'O', 'O', 'O', 'O', 'O'], ['BR', 'IR', 'IR', 'IR', 'O', 'O', 'O', 'O', 'O', 'O', 'O', 'O', 'O', 'O'], ['BR', 'IR', 'IR', 'O', 'O', 'O', 'O', 'O', 'O', 'O', 'O', 'O', 'O', 'O'], ['O', 'BR', 'IR', 'IR', 'IR', 'IR', 'IR', 'IR', 'IR', 'IR', 'IR', 'IR', 'IR', 'O', 'O', 'O', 'O', 'O', 'O', 'O', 'O', 'O', 'O', 'O'], ['O', 'BR', 'IR', 'IR', 'IR', 'IR', 'IR', 'IR', 'IR', 'IR', 'IR', 'IR', 'IR', 'O', 'O', 'O', 'O'], ['O', 'O', 'O', 'BR', 'IR', 'IR', 'IR', 'IR', 'O', 'O', 'O', 'O', 'O', 'O', 'O'], ['O', 'O', 'O', 'O', 'O', 'O', 'BR', 'IR', 'IR', 'O', 'O'], ['BR', 'IR', 'IR', 'O', 'O', 'O', 'O', 'O', 'O', 'O', 'O', 'O'], ['BR', 'IR', 'IR', 'IR', 'O', 'O', 'O', 'O', 'O', 'O'], ['O', 'O', 'O', 'O', 'O', 'O', 'O', 'O', 'BR', 'IR', 'IR', 'IR', 'O', 'O'], ['O', 'O', 'O', 'O', 'O', 'O', 'O', 'O', 'O', 'BR', 'IR', 'IR', 'IR', 'IR', 'IR', 'IR', 'IR', 'O', 'O'], ['BR', 'IR', 'IR', 'IR', 'IR', 'O', 'O', 'O', 'O', 'O', 'O'], ['BR', 'IR', 'IR', 'IR', 'IR', 'O', 'O', 'O', 'O', 'O', 'O', 'O'], ['O', 'O', 'O', 'BR', 'IR', 'IR', 'IR', 'IR', 'IR', 'IR', 'IR', 'O', 'O'], ['O', 'O', 'BR', 'IR', 'IR', 'IR', 'IR', 'IR', 'IR', 'IR', 'IR', 'IR', 'IR', 'IR', 'IR', 'O', 'O', 'O', 'O', 'O', 'O'], ['BR', 'IR', 'IR', 'IR', 'O', 'O', 'O', 'O', 'O', 'O', 'O'], ['BR', 'IR', 'IR', 'IR', 'IR', 'IR', 'O', 'O', 'O', 'O', 'O', 'O', 'O', 'O', 'O', 'O'], ['O', 'O', 'O', 'BR', 'IR', 'O', 'O', 'O'], ['O', 'O', 'O', 'O', 'O', 'O', 'O', 'O', 'BR', 'IR', 'IR', 'IR', 'IR', 'O'], ['O', 'O', 'O', 'O', 'BR', 'IR', 'IR', 'IR', 'O'], ['BR', 'IR', 'IR', 'O', 'O', 'O', 'O'], ['BR', 'IR', 'IR', 'O', 'O', 'O', 'O', 'O', 'O', 'O', 'O', 'O', 'O', 'O', 'O'], ['O', 'BR', 'IR', 'IR', 'O', 'O', 'O', 'O', 'O', 'O', 'BR', 'IR', 'O', 'O', 'O', 'O'], ['O', 'O', 'O', 'O', 'O', 'O', 'O', 'O', 'O', 'BR', 'IR', 'IR', 'O', 'O'], ['O', 'O', 'O', 'O', 'O', 'O', 'O', 'O', 'O', 'BR', 'IR', 'IR', 'O', 'O', 'O', 'O', 'O', 'O', 'O', 'O', 'O'], ['BR', 'IR', 'IR', 'O', 'O', 'O', 'O', 'O', 'O', 'O'], ['O', 'O', 'BR', 'IR', 'IR', 'O', 'O'], ['BR'], ['O', 'BR', 'IR', 'IR', 'IR', 'IR', 'IR', 'IR', 'IR', 'IR', 'IR', 'IR', 'IR', 'IR', 'IR'], ['O', 'BR', 'IR', 'IR', 'IR', 'IR', 'IR', 'IR', 'IR', 'IR', 'IR', 'IR', 'IR', 'O', 'O', 'O'], ['O', 'O', 'O', 'BR', 'IR', 'IR', 'IR', 'IR', 'IR', 'IR', 'IR', 'IR', 'IR', 'IR', 'IR', 'IR', 'IR', 'IR', 'IR', 'IR'], ['O', 'O', 'O', 'BR', 'IR', 'IR', 'IR', 'O', 'O', 'O', 'O', 'O', 'O', 'O'], ['O', 'O', 'O', 'O', 'BR', 'IR', 'IR', 'IR', 'IR', 'IR', 'IR', 'IR', 'IR', 'IR', 'IR', 'IR', 'O', 'O', 'BR', 'IR'], ['O', 'O', 'O', 'BR', 'IR', 'IR', 'IR', 'IR', 'IR', 'O', 'O', 'O'], ['BR', 'IR', 'IR', 'IR', 'O', 'O', 'O', 'O', 'O', 'O'], ['O', 'O', 'O', 'O', 'O', 'O', 'O', 'O', 'O', 'O', 'O', 'BR', 'IR', 'IR', 'IR', 'O', 'O'], ['O', 'O', 'O', 'O', 'BR', 'IR', 'IR', 'IR', 'O', 'O', 'O', 'O'], ['BR', 'IR', 'IR', 'IR', 'IR', 'IR', 'IR', 'O', 'O', 'O'], ['O', 'O', 'BR', 'IR', 'IR', 'IR', 'IR', 'IR', 'IR', 'IR', 'IR', 'O', 'BR', 'IR', 'IR', 'IR'], ['BR', 'IR', 'O', 'O', 'O', 'O', 'O', 'O', 'O', 'O', 'O'], ['BR', 'IR', 'IR', 'IR', 'O', 'O', 'O', 'O', 'O', 'O', 'O', 'O', 'O', 'O', 'O', 'O', 'O'], ['BR', 'IR', 'IR', 'O', 'O', 'O', 'O', 'O', 'O', 'O', 'O'], ['O', 'O', 'O', 'BR', 'IR', 'IR', 'IR', 'IR', 'IR', 'IR', 'O', 'O', 'O'], ['O', 'O', 'O', 'O', 'O', 'O', 'O', 'O', 'BR', 'IR', 'IR', 'IR', 'IR', 'IR', 'IR', 'O', 'BR'], ['O', 'O', 'BR', 'IR', 'O', 'O', 'O', 'O', 'O', 'O', 'O', 'O', 'O'], ['BR', 'IR', 'IR', 'O', 'O', 'O', 'O', 'O', 'O', 'O', 'O', 'O', 'O'], ['O', 'O', 'O', 'O', 'O', 'O', 'O', 'O', 'O', 'O', 'BR', 'IR', 'IR', 'IR', 'O'], ['O', 'O', 'O', 'O', 'O', 'O', 'O', 'BR', 'IR', 'IR', 'IR', 'O', 'O', 'O'], ['BR', 'IR', 'IR', 'IR', 'O', 'O', 'O', 'O', 'O', 'O', 'O', 'O', 'O', 'O', 'O', 'O'], ['O', 'O', 'O', 'O', 'O', 'O', 'O', 'O', 'BR', 'IR', 'IR', 'IR', 'O', 'O', 'O'], ['O', 'O', 'BR', 'IR', 'IR', 'IR', 'IR', 'IR', 'IR', 'IR', 'IR', 'IR', 'O'], ['BR', 'IR', 'IR', 'IR', 'IR', 'O', 'O', 'O', 'O', 'O'], ['O', 'BR', 'IR', 'IR', 'O', 'O', 'O', 'O', 'O', 'O', 'O'], ['BR', 'IR', 'O', 'O', 'O', 'O', 'O', 'O', 'O', 'O'], ['O', 'O', 'BR', 'IR', 'IR', 'O', 'O', 'O'], ['O', 'BR', 'IR', 'IR', 'IR', 'IR', 'IR', 'IR', 'IR', 'IR', 'IR', 'O', 'BR', 'IR', 'IR', 'IR', 'IR', 'O', 'BR', 'IR', 'IR', 'IR', 'IR', 'IR', 'O', 'O', 'O'], ['BR', 'IR', 'IR', 'IR', 'IR', 'IR', 'O', 'O', 'O', 'O', 'O', 'O', 'O', 'O', 'O'], ['BR', 'IR', 'O', 'O', 'O', 'O', 'O', 'O', 'O'], ['O', 'BR', 'IR', 'IR', 'IR', 'O', 'O', 'O', 'O', 'O', 'O', 'O', 'O', 'O', 'O', 'O'], ['BR', 'IR', 'IR', 'IR', 'O', 'O', 'O', 'O', 'O', 'O', 'O', 'O'], ['O', 'O', 'BR', 'IR', 'IR', 'IR', 'IR', 'IR', 'IR', 'IR', 'IR', 'IR', 'IR', 'IR', 'IR', 'IR', 'O'], ['O', 'O', 'O', 'O', 'O', 'O', 'O', 'BR', 'IR', 'IR', 'IR', 'IR', 'IR', 'IR', 'IR', 'O', 'O', 'O', 'O'], ['O', 'O', 'O', 'O', 'O', 'O', 'BR', 'IR', 'O', 'O', 'O', 'O'], ['BR', 'IR', 'IR', 'IR', 'O', 'O', 'O', 'O', 'O', 'O', 'O', 'O', 'O', 'O', 'O'], ['BR', 'IR', 'IR', 'IR', 'O', 'O', 'O', 'O', 'O', 'O', 'O', 'O', 'O', 'O', 'O', 'O', 'O', 'O', 'O', 'O'], ['O', 'O', 'O', 'O', 'O', 'BR', 'IR', 'IR', 'IR', 'O', 'O', 'O', 'O', 'O'], ['BR', 'IR', 'IR', 'IR', 'IR', 'O', 'O', 'O', 'O', 'O', 'O', 'O'], ['O', 'O', 'O', 'O', 'O', 'BR', 'IR', 'IR', 'IR', 'IR', 'O'], ['O', 'O', 'O', 'O', 'BR', 'IR', 'IR', 'O', 'O', 'O', 'O', 'O', 'O', 'O', 'O', 'O'], ['O', 'O', 'O', 'BR', 'IR', 'IR', 'O'], ['BR', 'IR', 'IR', 'O', 'O', 'O', 'O', 'O'], ['O', 'O', 'O', 'O', 'O', 'O', 'O', 'O', 'O', 'O', 'BR', 'IR', 'IR', 'O'], ['BR', 'IR', 'IR', 'IR', 'O', 'O', 'O', 'O', 'O', 'O', 'O', 'O'], ['BR', 'IR', 'IR', 'IR', 'IR', 'O', 'O', 'O', 'O', 'O', 'O', 'O', 'O', 'O', 'O', 'O', 'O', 'O', 'O', 'O', 'O', 'O'], ['O', 'O', 'O', 'O', 'O', 'O', 'O', 'O', 'BR', 'IR', 'O', 'O', 'O'], ['O', 'O', 'O', 'O', 'O', 'O', 'BR', 'IR', 'IR', 'IR', 'IR', 'IR', 'IR', 'IR', 'IR', 'IR', 'IR', 'O', 'BR', 'IR'], ['O', 'O', 'BR', 'IR', 'IR', 'O', 'O', 'O', 'O', 'O', 'O', 'O', 'O', 'O'], ['O', 'O', 'O', 'O', 'BR', 'IR', 'O', 'O', 'O', 'O', 'O', 'O', 'O', 'O'], ['O', 'O', 'BR', 'IR', 'IR', 'O', 'O', 'O', 'O', 'O', 'O', 'O', 'O', 'O', 'O', 'O', 'O'], ['O', 'O', 'BR', 'IR', 'IR', 'IR', 'O', 'O', 'O', 'O', 'O', 'O', 'O', 'O', 'O', 'O', 'O', 'O'], ['O', 'BR', 'IR', 'IR', 'IR', 'IR', 'IR', 'IR', 'IR', 'IR', 'IR', 'IR', 'IR', 'IR', 'IR', 'IR', 'IR', 'IR', 'IR', 'IR', 'IR', 'IR', 'IR', 'IR', 'IR', 'IR', 'IR', 'IR'], ['O', 'O', 'O', 'O', 'O', 'O', 'O', 'BR', 'IR', 'IR', 'IR', 'O', 'O', 'O'], ['BR', 'IR', 'IR', 'O', 'O', 'O', 'O', 'O', 'O', 'O', 'O', 'O'], ['O', 'O', 'BR', 'IR', 'IR', 'O', 'O', 'O', 'O'], ['O', 'O', 'O', 'O', 'O', 'BR', 'IR', 'IR', 'O', 'O', 'O', 'O', 'O'], ['BR', 'IR', 'IR', 'IR', 'IR', 'IR', 'O', 'O', 'O', 'O', 'O', 'O', 'O', 'O', 'O', 'O', 'O', 'O'], ['O', 'O', 'BR', 'IR', 'IR', 'O', 'O', 'O', 'O', 'O', 'O', 'O', 'O'], ['BR', 'IR', 'IR', 'O', 'O', 'O', 'O', 'O', 'O', 'O', 'O', 'O', 'O'], ['BR', 'IR', 'IR', 'IR', 'O', 'O', 'O', 'O', 'O', 'O', 'O', 'O', 'O', 'O', 'O', 'O'], ['O', 'O', 'O', 'O', 'O', 'O', 'O', 'BR', 'IR', 'IR', 'IR', 'IR', 'IR', 'O'], ['O', 'BR', 'IR', 'IR', 'IR', 'IR', 'O', 'O', 'O', 'O', 'O', 'O', 'O', 'O', 'O'], ['O', 'O', 'BR', 'IR', 'IR', 'IR', 'IR', 'IR', 'IR', 'IR', 'IR', 'IR', 'IR', 'IR', 'IR', 'IR', 'IR', 'IR', 'IR', 'IR', 'IR', 'IR', 'IR', 'IR', 'IR'], ['O', 'O', 'O', 'O', 'O', 'O', 'BR', 'IR', 'O'], ['O', 'O', 'O', 'O', 'BR', 'IR', 'IR', 'IR', 'IR', 'IR', 'O', 'O', 'O', 'O', 'O', 'O'], ['O', 'O', 'O', 'BR', 'IR', 'IR', 'IR', 'IR', 'O', 'O', 'O', 'O', 'O'], ['BR', 'IR', 'IR', 'IR', 'IR', 'IR', 'IR', 'IR', 'IR', 'IR', 'O', 'O', 'O', 'O', 'O', 'O', 'O', 'O'], ['BR', 'IR', 'IR', 'O', 'O', 'O', 'O', 'O', 'O', 'O', 'O', 'O', 'O', 'O'], ['O', 'BR', 'IR', 'IR', 'IR', 'O', 'O', 'O', 'O', 'O', 'O', 'O', 'O'], ['O', 'O', 'O', 'BR', 'IR', 'IR', 'O', 'O', 'O', 'O', 'O', 'O'], ['O', 'O', 'O', 'O', 'O', 'O', 'O', 'O', 'BR', 'IR', 'IR', 'O', 'O'], ['BR', 'IR', 'IR', 'IR', 'IR', 'IR', 'IR', 'IR', 'IR', 'IR', 'O', 'O', 'O', 'O', 'O', 'O', 'O'], ['O', 'O', 'O', 'BR', 'IR', 'IR', 'IR', 'IR', 'O', 'O', 'O', 'O', 'O', 'O'], ['O', 'O', 'O', 'O', 'O', 'O', 'O', 'O', 'O', 'O', 'O', 'BR', 'IR', 'IR', 'IR', 'IR', 'IR', 'IR', 'O', 'O'], ['O', 'O', 'O', 'O', 'O', 'O', 'O', 'O', 'O', 'BR', 'IR', 'IR', 'IR', 'IR', 'IR', 'IR', 'IR', 'O', 'BR', 'IR'], ['O', 'O', 'O', 'O', 'O', 'O', 'O', 'BR', 'IR', 'O', 'O', 'O', 'O', 'O', 'O', 'O', 'O'], ['O', 'O', 'O', 'O', 'BR', 'IR', 'IR', 'O', 'O', 'O', 'O'], ['O', 'O', 'O', 'O', 'O', 'O', 'O', 'O', 'O', 'O', 'BR', 'IR', 'IR', 'IR', 'O'], ['O', 'O', 'O', 'O', 'O', 'O', 'O', 'O', 'O', 'O', 'O', 'O', 'O', 'O', 'BR', 'IR', 'IR', 'IR', 'O'], ['BR', 'IR', 'IR', 'IR', 'IR', 'IR', 'IR', 'IR', 'IR', 'IR', 'IR', 'IR', 'IR', 'IR', 'IR', 'IR', 'IR', 'O', 'O', 'O', 'O', 'O', 'O', 'O', 'O', 'O', 'O'], ['BR', 'IR', 'IR', 'IR', 'IR', 'IR', 'IR', 'O', 'O', 'O', 'BR', 'IR', 'IR', 'IR', 'IR'], ['O', 'O', 'O', 'O', 'O', 'O', 'O', 'BR', 'IR', 'IR', 'IR', 'IR', 'IR', 'O', 'O', 'O', 'O'], ['O', 'O', 'O', 'O', 'O', 'O', 'O', 'BR', 'IR', 'IR', 'IR', 'IR', 'IR', 'IR', 'IR', 'IR', 'IR', 'IR', 'IR', 'IR', 'IR', 'IR', 'IR', 'IR', 'O', 'BR', 'IR'], ['BR', 'IR', 'IR', 'IR', 'IR', 'O', 'O', 'BR', 'IR', 'IR', 'O', 'O', 'BR', 'O', 'O', 'O', 'O', 'O'], ['O', 'O', 'O', 'O', 'O', 'O', 'O', 'O', 'BR', 'IR', 'IR', 'O', 'O', 'O', 'O', 'O', 'O', 'O', 'O'], ['O', 'O', 'O', 'O', 'O', 'O', 'O', 'O', 'O', 'BR', 'IR', 'IR', 'IR', 'IR', 'O', 'O', 'O', 'O', 'O', 'O'], ['BR', 'IR', 'IR', 'IR', 'IR', 'IR', 'O', 'BR', 'IR', 'IR', 'IR', 'IR', 'IR', 'IR', 'IR'], ['O', 'O', 'O', 'O', 'BR', 'O', 'BR', 'IR', 'O', 'BR', 'O', 'O', 'O'], ['BR', 'IR', 'IR', 'O', 'O', 'O', 'O', 'O', 'O', 'O', 'O', 'O'], ['O', 'BR', 'IR', 'IR', 'IR', 'IR', 'IR', 'O', 'O', 'O', 'O', 'O', 'O', 'O'], ['O', 'BR', 'IR', 'IR', 'IR', 'O', 'O', 'O', 'O', 'O', 'O', 'O', 'O', 'O'], ['BR', 'IR', 'IR', 'IR', 'IR', 'IR', 'IR', 'IR', 'O', 'BR', 'O', 'O', 'O', 'O', 'O', 'O', 'O', 'O'], ['O', 'O', 'BR', 'IR', 'IR', 'IR', 'IR', 'IR', 'O', 'O', 'O', 'O', 'O', 'O', 'O', 'O'], ['O', 'BR', 'IR', 'O', 'O', 'O', 'O', 'O', 'O', 'O', 'O'], ['BR'], ['O', 'O', 'O', 'O', 'O', 'O', 'BR', 'IR', 'IR', 'IR', 'IR', 'IR', 'IR', 'IR', 'IR', 'O', 'O', 'BR', 'IR', 'IR'], ['BR', 'IR', 'IR', 'O', 'O', 'O', 'O', 'O', 'O', 'O', 'O', 'O', 'O', 'O'], ['O', 'O', 'BR', 'IR', 'IR', 'IR', 'IR', 'O', 'O', 'O', 'O', 'O', 'O', 'O', 'O'], ['O', 'O', 'BR', 'IR', 'IR', 'IR', 'IR', 'O', 'O', 'O', 'O', 'O', 'O', 'O'], ['O', 'BR', 'IR', 'IR', 'IR', 'IR', 'IR', 'IR', 'O', 'O', 'O', 'O', 'O', 'O', 'O', 'O', 'O', 'O', 'O', 'O', 'O', 'O'], ['O', 'O', 'O', 'O', 'O', 'BR', 'IR', 'O', 'O', 'O', 'O', 'O'], ['O', 'BR', 'IR', 'IR', 'IR', 'IR', 'IR', 'IR', 'IR', 'IR', 'IR', 'IR', 'IR', 'IR', 'IR'], ['O', 'O', 'O', 'O', 'O', 'BR', 'IR', 'IR', 'IR', 'IR', 'IR', 'IR', 'IR', 'IR', 'IR', 'IR', 'IR', 'IR', 'IR', 'IR', 'IR', 'IR', 'IR'], ['BR', 'IR', 'IR', 'IR', 'O', 'O', 'O', 'O', 'O', 'O', 'O', 'O'], ['BR', 'IR', 'IR', 'IR', 'IR', 'O', 'BR', 'IR', 'IR', 'IR', 'IR', 'IR', 'IR', 'IR', 'IR'], ['O', 'O', 'BR', 'IR', 'O', 'O', 'O', 'O', 'O', 'O'], ['O', 'O', 'O', 'O', 'O', 'O', 'BR', 'IR', 'IR', 'IR', 'O'], ['O', 'O', 'O', 'O', 'O', 'O', 'BR', 'IR', 'IR', 'O', 'O', 'O', 'O', 'O'], ['O', 'O', 'O', 'O', 'O', 'O', 'O', 'BR', 'IR', 'IR', 'O', 'O'], ['O', 'O', 'BR', 'IR', 'IR', 'O', 'O', 'O', 'O', 'O'], ['O', 'O', 'O', 'O', 'O', 'O', 'O', 'O', 'O', 'O', 'BR', 'IR', 'O'], ['BR', 'IR', 'IR', 'O', 'O', 'O', 'O', 'O', 'O', 'O', 'O', 'O'], ['O', 'O', 'O', 'O', 'O', 'O', 'BR', 'IR', 'IR', 'IR', 'IR', 'IR', 'IR', 'O', 'O'], ['O', 'O', 'O', 'O', 'O', 'O', 'BR', 'IR', 'IR', 'IR', 'IR'], ['O', 'O', 'O', 'O', 'BR', 'IR', 'IR', 'IR', 'IR', 'IR', 'IR', 'IR', 'IR', 'O', 'BR', 'IR'], ['O', 'O', 'BR', 'IR', 'IR', 'IR', 'O', 'O', 'O', 'O', 'O'], ['BR', 'IR', 'IR', 'IR', 'IR', 'O', 'O', 'O', 'O', 'O', 'O', 'O', 'O', 'O', 'O', 'O'], ['O', 'O', 'BR', 'IR', 'IR', 'IR', 'O', 'O', 'O', 'O'], ['O', 'O', 'O', 'BR', 'IR', 'IR', 'O', 'O', 'O', 'O', 'O', 'O', 'O', 'O', 'O', 'O', 'O'], ['O', 'O', 'O', 'O', 'O', 'O', 'O', 'O', 'BR', 'IR', 'IR', 'IR', 'O', 'O', 'O'], ['O', 'BR', 'IR', 'IR', 'IR', 'IR', 'IR', 'IR', 'O', 'O', 'O', 'O', 'O', 'O', 'O', 'O', 'O'], ['O', 'O', 'O', 'BR', 'IR', 'IR', 'O', 'BR', 'IR', 'IR', 'IR', 'IR', 'IR', 'IR'], ['BR', 'IR', 'IR', 'O', 'O', 'O', 'O', 'O', 'O', 'O', 'O', 'O', 'O'], ['BR', 'IR', 'O', 'O', 'O', 'O', 'O', 'O', 'O', 'O'], ['BR', 'IR', 'IR', 'O', 'O', 'O', 'O', 'O', 'O', 'O'], ['O', 'O', 'BR', 'IR', 'IR', 'IR', 'IR', 'IR', 'IR', 'IR', 'O', 'O'], ['BR', 'IR', 'IR', 'O', 'O', 'O', 'O', 'O', 'O', 'O', 'O', 'O', 'O'], ['BR', 'IR', 'IR', 'IR', 'IR', 'O', 'O', 'O', 'O', 'O', 'O', 'O', 'O', 'O'], ['BR', 'IR', 'IR', 'O', 'O', 'O', 'O', 'O', 'O', 'O', 'O'], ['O', 'O', 'O', 'BR', 'O', 'O', 'O', 'O', 'BR', 'IR', 'IR', 'IR', 'IR', 'IR', 'IR', 'IR', 'IR', 'IR'], ['BR', 'IR', 'IR', 'O', 'O', 'O', 'O', 'O', 'O', 'O', 'O', 'O', 'O'], ['O', 'O', 'BR', 'IR', 'IR', 'IR', 'O', 'O', 'O', 'O'], ['BR', 'IR', 'IR', 'IR', 'O', 'O', 'O', 'O', 'O', 'O', 'O'], ['O', 'O', 'O', 'O', 'O', 'O', 'O', 'O', 'O', 'BR', 'IR', 'IR', 'IR', 'IR', 'IR', 'IR', 'IR', 'IR', 'IR', 'IR'], ['O', 'O', 'O', 'O', 'O', 'O', 'O', 'O', 'O', 'O', 'O', 'BR', 'IR', 'IR', 'O'], ['BR', 'IR', 'IR', 'IR', 'IR', 'O', 'O', 'BR', 'IR', 'IR', 'O', 'O', 'BR', 'IR'], ['BR', 'IR', 'IR', 'IR', 'IR', 'O', 'O', 'O', 'O', 'O', 'O', 'O', 'O', 'O'], ['O', 'O', 'O', 'O', 'O', 'BR', 'IR', 'IR', 'IR', 'IR', 'O', 'O', 'O', 'O', 'O'], ['O', 'O', 'BR', 'IR', 'O', 'O', 'O', 'O', 'O', 'O'], ['BR', 'IR', 'IR', 'IR', 'O', 'O', 'O', 'O', 'O', 'O', 'O', 'O', 'O'], ['O', 'O', 'O', 'BR', 'IR', 'IR', 'IR', 'O', 'O', 'O', 'O', 'O', 'O', 'O', 'O', 'O'], ['BR', 'IR', 'IR', 'IR', 'O', 'O', 'O', 'O', 'O', 'O', 'O', 'O'], ['O', 'O', 'O', 'BR', 'IR', 'O', 'O', 'O', 'O', 'O'], ['O', 'O', 'O', 'BR', 'IR', 'IR', 'IR', 'IR', 'IR', 'O', 'O', 'O', 'O'], ['BR', 'IR', 'O', 'O', 'O', 'O', 'O', 'O', 'O', 'O', 'O', 'O', 'O', 'O', 'O', 'O'], ['BR', 'IR', 'IR', 'O', 'O', 'O', 'O', 'O', 'O', 'O', 'O', 'O', 'O', 'O', 'O'], ['O', 'O', 'O', 'O', 'O', 'O', 'O', 'O', 'BR', 'IR', 'IR', 'O'], ['O', 'BR', 'IR', 'IR', 'IR', 'IR', 'IR', 'IR', 'IR', 'IR', 'IR', 'IR', 'IR', 'IR', 'IR', 'IR', 'IR', 'IR'], ['O', 'BR', 'IR', 'IR', 'IR', 'IR', 'IR', 'O', 'O', 'O', 'O', 'O', 'O', 'O', 'O', 'O', 'O', 'O', 'BR'], ['BR', 'IR', 'IR', 'IR', 'O', 'O', 'O', 'O', 'O', 'O', 'O', 'O', 'O', 'O', 'O'], ['O', 'O', 'O', 'O', 'O', 'BR', 'IR', 'IR', 'IR', 'IR', 'IR', 'IR', 'O', 'O', 'O', 'O', 'O', 'O', 'O', 'O', 'O', 'O'], ['O', 'O', 'O', 'O', 'BR', 'IR', 'IR', 'O', 'O', 'O', 'O', 'O', 'O', 'O', 'O', 'O'], ['BR', 'IR', 'IR', 'O', 'O', 'O', 'O', 'O', 'O', 'O', 'O', 'O', 'O'], ['O', 'O', 'O', 'BR', 'IR', 'IR', 'O', 'O', 'O', 'O', 'O', 'O'], ['BR', 'IR', 'IR', 'O', 'O', 'O', 'O', 'O', 'O', 'O', 'O', 'O'], ['O', 'O', 'BR', 'IR', 'IR', 'IR', 'IR', 'O', 'O', 'BR', 'IR', 'IR', 'IR'], ['O', 'O', 'O', 'O', 'BR', 'IR', 'O', 'O', 'O', 'O', 'O', 'O', 'O'], ['O', 'O', 'BR', 'IR', 'IR', 'IR', 'IR', 'IR', 'IR', 'IR', 'IR', 'IR', 'IR', 'IR', 'IR', 'IR'], ['O', 'O', 'O', 'O', 'O', 'O', 'O', 'O', 'O', 'BR', 'IR', 'IR', 'IR', 'O', 'O', 'O'], ['O', 'O', 'O', 'O', 'O', 'O', 'O', 'O', 'O', 'O', 'O', 'O', 'O', 'O', 'O', 'BR', 'IR', 'IR', 'IR', 'IR', 'IR', 'IR', 'IR', 'IR', 'IR', 'IR', 'O', 'O', 'O'], ['O', 'O', 'O', 'O', 'BR', 'IR', 'IR', 'IR', 'IR', 'IR', 'O'], ['O', 'O', 'O', 'O', 'O', 'O', 'O', 'O', 'O', 'BR', 'IR', 'O', 'O', 'O', 'O', 'O', 'O'], ['O', 'O', 'O', 'O', 'O', 'O', 'BR', 'IR', 'IR', 'IR', 'O', 'O', 'O', 'O', 'O', 'O', 'O', 'O', 'O', 'O'], ['O', 'O', 'BR', 'IR', 'IR', 'IR', 'IR', 'IR', 'IR', 'IR', 'O', 'O', 'O', 'O', 'O', 'O', 'O', 'O', 'O', 'O', 'O', 'O'], ['O', 'O', 'BR', 'IR', 'O', 'O', 'O', 'O', 'O', 'O', 'O', 'O', 'O', 'O', 'O', 'O', 'O', 'O'], ['O', 'O', 'O', 'O', 'O', 'O', 'O', 'BR', 'IR', 'IR', 'O', 'O', 'O'], ['O', 'BR', 'IR', 'IR', 'IR', 'IR', 'IR', 'IR', 'IR', 'IR', 'IR', 'O'], ['BR', 'IR', 'IR', 'IR', 'O', 'O', 'O', 'O', 'O', 'O', 'O', 'O', 'O'], ['O', 'O', 'O', 'O', 'O', 'O', 'O', 'O', 'O', 'O', 'O', 'O', 'BR', 'IR', 'IR', 'O', 'O', 'O', 'BR', 'IR'], ['O', 'O', 'O', 'BR', 'IR', 'IR', 'O', 'O', 'O', 'O', 'O', 'O', 'O', 'O', 'O', 'O', 'O'], ['O', 'O', 'BR', 'IR', 'IR', 'IR', 'O', 'O', 'O', 'O', 'O', 'O'], ['O', 'O', 'O', 'BR', 'O', 'BR', 'IR', 'IR', 'IR', 'IR', 'IR', 'IR', 'IR', 'IR', 'IR', 'IR', 'IR', 'O', 'O', 'O', 'BR'], ['O', 'O', 'O', 'O', 'O', 'BR', 'IR', 'IR', 'IR', 'IR', 'IR', 'IR', 'O', 'O', 'O', 'O', 'O', 'O', 'O', 'O', 'O', 'O'], ['O', 'O', 'BR', 'IR', 'IR', 'IR', 'O', 'O', 'O', 'O', 'O', 'O', 'O', 'O', 'O', 'O', 'O', 'O', 'O'], ['O', 'O', 'BR', 'IR', 'IR', 'IR', 'IR', 'IR', 'IR', 'IR', 'IR', 'IR', 'O'], ['O', 'O', 'BR', 'IR', 'IR', 'O', 'O', 'O', 'O', 'O', 'O', 'O', 'O', 'O', 'O', 'O', 'O', 'O', 'O', 'O', 'O', 'O', 'O', 'O'], ['BR', 'IR', 'IR', 'IR', 'IR', 'IR', 'IR', 'IR', 'IR', 'O', 'BR', 'IR', 'IR', 'IR', 'IR', 'IR', 'IR', 'IR', 'IR'], ['O', 'O', 'O', 'BR', 'IR', 'O', 'O', 'O', 'O', 'O', 'O', 'O'], ['O', 'O', 'O', 'O', 'O', 'O', 'O', 'O', 'BR', 'IR', 'O', 'O', 'O', 'O', 'BR', 'IR', 'O'], ['BR', 'IR', 'IR', 'O', 'O', 'O', 'O', 'O', 'O', 'O', 'O'], ['O', 'O', 'O', 'BR', 'IR', 'IR', 'IR', 'IR', 'IR', 'O', 'BR', 'IR', 'IR', 'IR', 'IR'], ['O', 'O', 'O', 'O', 'O', 'O', 'O', 'BR', 'IR', 'IR', 'IR', 'O'], ['O', 'O', 'O', 'O', 'O', 'BR', 'IR', 'IR', 'IR', 'IR', 'IR', 'IR', 'O', 'O', 'O'], ['O', 'BR', 'IR', 'IR', 'O', 'O', 'O', 'O', 'O', 'O', 'O', 'O', 'O', 'O'], ['BR', 'IR', 'IR', 'IR', 'IR', 'IR', 'IR', 'IR', 'O', 'O', 'O', 'O', 'BR', 'IR', 'IR', 'IR'], ['O', 'O', 'O', 'O', 'O', 'O', 'O', 'BR', 'IR', 'IR', 'IR', 'IR', 'IR'], ['O', 'BR', 'IR', 'O', 'O', 'O', 'O', 'O', 'O', 'O', 'O', 'O', 'O'], ['O', 'O', 'BR', 'IR', 'IR', 'O', 'O', 'O', 'O', 'O', 'O', 'O', 'O', 'O', 'O', 'O', 'O'], ['O', 'O', 'O', 'O', 'O', 'O', 'BR', 'IR', 'O', 'O', 'O', 'O'], ['BR', 'IR', 'IR', 'IR', 'O', 'O', 'O', 'O', 'O', 'O', 'O', 'O', 'O', 'O'], ['BR', 'IR', 'IR', 'O', 'O', 'O', 'O', 'O', 'O', 'O', 'O', 'O', 'O'], ['BR', 'IR', 'IR', 'IR', 'IR', 'IR', 'O', 'O', 'O', 'O', 'O', 'O', 'O', 'O', 'O', 'O', 'O', 'O'], ['O', 'O', 'O', 'O', 'O', 'O', 'BR', 'IR', 'IR', 'IR', 'O', 'O', 'O', 'O', 'O'], ['O', 'BR', 'IR', 'IR', 'O', 'O', 'O', 'O', 'O', 'O', 'O', 'O'], ['O', 'O', 'O', 'O', 'O', 'O', 'BR', 'IR', 'IR', 'IR', 'IR', 'O', 'O', 'O'], ['O', 'O', 'O', 'O', 'O', 'O', 'BR', 'IR', 'IR', 'IR', 'IR', 'IR', 'IR', 'O', 'BR', 'IR', 'O'], ['O', 'O', 'O', 'O', 'O', 'O', 'O', 'O', 'O', 'O', 'O', 'O', 'O', 'BR', 'IR', 'IR', 'IR', 'IR', 'IR', 'O', 'O', 'O'], ['BR'], ['BR'], ['O', 'O', 'O', 'O', 'BR', 'IR', 'IR', 'O', 'O', 'O', 'O', 'O'], ['BR', 'IR', 'O', 'O', 'O', 'O', 'O', 'O', 'O', 'O', 'O'], ['O', 'O', 'O', 'O', 'O', 'O', 'O', 'O', 'O', 'O', 'BR', 'IR', 'IR', 'IR', 'IR', 'O', 'O', 'O', 'O'], ['O', 'O', 'BR', 'IR', 'IR', 'IR', 'O', 'O', 'O', 'O', 'O', 'O'], ['O', 'O', 'O', 'O', 'O', 'O', 'O', 'O', 'O', 'O', 'O', 'BR', 'IR', 'IR', 'O'], ['BR', 'IR', 'IR', 'IR', 'O', 'O', 'O', 'O', 'O', 'O', 'BR'], ['O', 'O', 'BR', 'IR', 'IR', 'O', 'O', 'O', 'O', 'O'], ['BR', 'IR', 'IR', 'IR', 'O', 'O', 'O', 'O', 'O', 'O', 'O', 'O', 'O', 'O', 'O'], ['O', 'O', 'O', 'O', 'O', 'O', 'O', 'O', 'O', 'O', 'BR', 'IR', 'O', 'BR', 'O', 'O', 'O'], ['BR', 'IR', 'IR', 'O', 'O', 'O', 'O', 'O', 'O', 'O'], ['O', 'O', 'O', 'BR', 'IR', 'IR', 'O', 'O', 'O', 'O', 'O', 'O'], ['O', 'BR', 'IR', 'IR', 'IR', 'IR', 'IR', 'O', 'O', 'O', 'O', 'O', 'O', 'O', 'O', 'O', 'O'], ['BR', 'IR', 'IR', 'O', 'O', 'O', 'O', 'O', 'O', 'O', 'O', 'O'], ['O', 'BR', 'IR', 'IR', 'O', 'O', 'O', 'O', 'O', 'O', 'O'], ['O', 'O', 'BR', 'IR', 'IR', 'IR', 'IR', 'IR', 'IR', 'IR', 'IR', 'IR', 'IR', 'IR', 'O', 'O', 'O', 'O', 'BR'], ['O', 'O', 'O', 'O', 'O', 'BR', 'IR', 'IR', 'IR', 'IR', 'IR', 'O', 'O'], ['BR', 'IR', 'IR', 'IR', 'O', 'O', 'O', 'O', 'O', 'O', 'O', 'O', 'O', 'O', 'O'], ['BR'], ['BR', 'IR', 'IR', 'IR', 'O', 'O', 'O', 'O', 'O', 'O', 'O'], ['BR', 'IR', 'IR', 'IR', 'O', 'O', 'O', 'O', 'O', 'O', 'O', 'O', 'O', 'O', 'O', 'O'], ['O', 'BR', 'IR', 'IR', 'IR', 'IR', 'O', 'O', 'O', 'O', 'O', 'O', 'O', 'O', 'O'], ['BR', 'IR', 'IR', 'IR', 'O', 'O', 'O', 'O', 'O', 'O', 'O', 'O', 'O', 'O', 'O'], ['O', 'O', 'O', 'O', 'O', 'O', 'O', 'O', 'O', 'O', 'BR', 'IR', 'IR', 'IR', 'IR', 'O'], ['O', 'O', 'O', 'O', 'O', 'O', 'O', 'O', 'O', 'O', 'BR', 'IR', 'IR', 'IR', 'O'], ['O', 'BR', 'IR', 'IR', 'O', 'O', 'O', 'O', 'O', 'O', 'O', 'O', 'O', 'O', 'O'], ['O', 'O', 'O', 'O', 'BR', 'IR', 'IR', 'O', 'O', 'O', 'O', 'O', 'O', 'O'], ['O', 'O', 'O', 'O', 'BR', 'IR', 'IR', 'IR', 'IR', 'O', 'O', 'O', 'O'], ['O', 'O', 'O', 'O', 'O', 'O', 'BR', 'IR', 'IR', 'IR', 'IR', 'IR', 'O'], ['O', 'O', 'O', 'O', 'O', 'O', 'O', 'BR', 'IR', 'IR', 'IR', 'IR', 'O', 'O', 'O'], ['O', 'O', 'O', 'BR', 'IR', 'IR', 'IR', 'IR', 'O', 'O', 'O', 'O', 'O', 'O', 'O', 'O', 'O'], ['O', 'O', 'O', 'O', 'O', 'BR', 'IR', 'IR', 'O', 'O', 'O', 'O', 'O'], ['O', 'O', 'O', 'O', 'O', 'BR', 'IR', 'O', 'O', 'O', 'O', 'O', 'O', 'O'], ['O', 'O', 'O', 'O', 'O', 'O', 'BR', 'IR', 'IR', 'IR', 'IR', 'IR', 'IR', 'IR', 'IR', 'IR', 'O', 'O'], ['BR', 'IR', 'IR', 'IR', 'O', 'O', 'O', 'O', 'O', 'O', 'O', 'O', 'O', 'O', 'O', 'O'], ['O', 'O', 'O', 'O', 'O', 'O', 'O', 'O', 'O', 'BR', 'IR', 'IR', 'IR', 'IR', 'IR', 'IR', 'IR', 'O', 'O'], ['BR', 'IR', 'IR', 'IR', 'IR', 'IR', 'IR', 'IR', 'IR', 'IR', 'IR', 'IR', 'IR', 'IR', 'IR', 'IR', 'IR', 'IR', 'IR', 'IR', 'IR'], ['O', 'O', 'O', 'BR', 'IR', 'IR', 'IR', 'IR', 'IR', 'IR', 'IR', 'IR', 'IR', 'IR', 'IR', 'IR', 'IR', 'IR'], ['BR', 'IR', 'IR', 'IR', 'IR', 'IR', 'O', 'O', 'O', 'O', 'O', 'O', 'O', 'O', 'O', 'O'], ['O', 'O', 'O', 'O', 'O', 'O', 'O', 'O', 'O', 'O', 'O', 'BR', 'IR', 'IR', 'O'], ['O', 'O', 'O', 'O', 'O', 'O', 'O', 'O', 'O', 'O', 'BR', 'IR', 'IR', 'O'], ['O', 'O', 'O', 'O', 'O', 'O', 'O', 'O', 'O', 'O', 'BR', 'IR', 'IR', 'IR', 'IR', 'IR', 'O', 'BR'], ['O', 'O', 'BR', 'IR', 'IR', 'IR', 'IR', 'IR', 'O', 'O', 'O'], ['O', 'O', 'O', 'O', 'O', 'O', 'BR', 'IR', 'IR', 'O', 'O'], ['O', 'O', 'O', 'BR', 'IR', 'IR', 'IR', 'O', 'O', 'O', 'O', 'O'], ['O', 'O', 'O', 'BR', 'IR', 'IR', 'IR', 'O', 'O', 'O', 'O', 'O', 'O', 'O', 'O', 'O'], ['BR', 'IR', 'IR', 'O', 'BR', 'IR', 'IR', 'IR', 'IR'], ['O', 'O', 'O', 'BR', 'IR', 'IR', 'IR', 'IR', 'IR', 'O', 'O', 'O', 'O', 'O', 'O', 'O', 'O', 'O'], ['BR', 'IR', 'IR', 'IR', 'IR', 'IR', 'IR', 'IR', 'O', 'BR', 'IR', 'IR', 'IR', 'IR', 'IR', 'IR', 'IR', 'O', 'BR'], ['O', 'BR', 'IR', 'IR', 'IR', 'O', 'O', 'O', 'O', 'O', 'O', 'O', 'O', 'O'], ['O', 'O', 'O', 'O', 'O', 'BR', 'IR', 'IR', 'O', 'O', 'O', 'O', 'O'], ['BR', 'IR', 'IR', 'IR', 'O', 'O', 'O', 'O', 'O', 'O', 'O', 'O'], ['O', 'O', 'O', 'BR', 'IR', 'IR', 'O', 'O', 'O', 'O', 'O', 'O', 'O'], ['O', 'O', 'BR', 'IR', 'IR', 'IR', 'O', 'O', 'O', 'O', 'O', 'O', 'O'], ['O', 'O', 'O', 'O', 'O', 'O', 'BR', 'IR', 'IR', 'IR', 'IR', 'O', 'BR'], ['O', 'O', 'BR', 'IR', 'IR', 'O', 'O', 'O', 'O', 'O', 'O'], ['O', 'O', 'BR', 'IR', 'IR', 'IR', 'IR', 'IR', 'O', 'O', 'O', 'O', 'O', 'O', 'O', 'O'], ['O', 'O', 'O', 'O', 'O', 'O', 'O', 'O', 'BR', 'IR', 'O'], ['O', 'O', 'O', 'BR', 'IR', 'O', 'O', 'O', 'O', 'O', 'O', 'O'], ['BR', 'IR', 'IR', 'IR', 'IR', 'O', 'O', 'O', 'O', 'O'], ['O', 'BR', 'IR', 'IR', 'O', 'O', 'O', 'O', 'O', 'O', 'O', 'O', 'O', 'O', 'O', 'O'], ['O', 'O', 'O', 'BR', 'IR', 'O', 'O', 'O', 'O', 'O', 'O'], ['BR', 'IR', 'IR', 'IR', 'O', 'O', 'O', 'O', 'O', 'O', 'O', 'O', 'O', 'O', 'O'], ['O', 'BR', 'IR', 'IR', 'IR', 'IR', 'IR', 'IR', 'IR', 'IR', 'O', 'O'], ['O', 'O', 'BR', 'IR', 'O', 'O', 'O', 'O', 'O', 'O', 'O', 'O', 'O', 'O'], ['O', 'O', 'O', 'O', 'O', 'O', 'BR', 'IR', 'IR', 'IR', 'IR', 'IR', 'IR', 'IR', 'IR', 'IR'], ['O', 'O', 'O', 'BR', 'IR', 'IR', 'IR', 'IR', 'IR', 'IR', 'IR', 'O', 'O'], ['BR', 'IR', 'IR', 'IR', 'O', 'O', 'O', 'O', 'O', 'O', 'O'], ['O', 'BR', 'IR', 'IR', 'IR', 'O', 'O', 'O', 'O', 'O'], ['O', 'O', 'O', 'BR', 'IR', 'IR', 'IR', 'IR', 'O', 'O', 'O', 'O', 'O', 'O'], ['BR', 'IR', 'IR', 'IR', 'O', 'O', 'O', 'O', 'O', 'O', 'O', 'O', 'O'], ['BR', 'IR', 'IR', 'O', 'O', 'O', 'O', 'O'], ['O', 'O', 'O', 'O', 'BR', 'IR', 'IR', 'IR', 'IR', 'IR', 'IR', 'IR', 'IR', 'IR', 'IR', 'IR', 'IR', 'O', 'O'], ['O', 'O', 'O', 'BR', 'IR', 'IR', 'IR', 'IR', 'IR', 'IR', 'O', 'O'], ['O', 'O', 'O', 'BR', 'IR', 'IR', 'IR', 'O', 'O', 'O', 'O', 'O', 'O'], ['O', 'BR', 'IR', 'IR', 'IR', 'IR', 'IR', 'IR', 'IR', 'IR', 'IR', 'IR', 'IR', 'O', 'O', 'O', 'O'], ['O', 'BR', 'IR', 'IR', 'IR', 'IR', 'IR', 'IR', 'IR', 'IR', 'IR', 'IR', 'IR'], ['BR', 'IR', 'IR', 'IR', 'O', 'O', 'O', 'O', 'O', 'O', 'O', 'O', 'O', 'O', 'O'], ['O', 'O', 'O', 'O', 'O', 'O', 'BR', 'IR', 'IR', 'IR', 'IR', 'IR', 'IR', 'IR', 'O', 'O'], ['BR', 'IR', 'IR', 'IR', 'IR', 'IR', 'IR', 'IR', 'IR', 'O', 'O'], ['BR', 'IR', 'IR', 'O', 'O', 'O', 'O', 'O', 'O', 'O', 'O', 'O', 'O', 'O', 'O'], ['O', 'O', 'BR', 'IR', 'IR', 'O', 'O', 'O'], ['BR', 'IR', 'IR', 'IR', 'O', 'O', 'O', 'O', 'O', 'O', 'O', 'O', 'O', 'O'], ['BR', 'IR', 'IR', 'IR', 'IR', 'O', 'O', 'O', 'O', 'BR', 'IR', 'IR', 'IR', 'IR', 'O', 'BR', 'IR'], ['O', 'O', 'O', 'O', 'O', 'O', 'BR', 'IR', 'IR', 'IR', 'IR', 'O', 'O'], ['O', 'O', 'O', 'O', 'O', 'O', 'O', 'O', 'O', 'BR', 'IR', 'IR', 'O', 'O', 'O'], ['BR', 'IR', 'IR', 'IR', 'IR', 'IR', 'IR', 'IR', 'IR', 'IR', 'O', 'O', 'O', 'O', 'O', 'O', 'O', 'O', 'O', 'O', 'O', 'O', 'O', 'O', 'O', 'O'], ['O', 'O', 'O', 'BR', 'IR', 'IR', 'IR', 'IR', 'IR', 'IR', 'IR', 'IR', 'IR', 'IR', 'IR', 'IR', 'IR', 'IR', 'O', 'BR', 'IR'], ['O', 'BR', 'IR', 'O', 'O', 'O', 'O', 'O', 'O', 'O', 'O', 'O', 'O', 'O', 'O', 'O', 'O', 'O'], ['O', 'O', 'O', 'O', 'O', 'O', 'O', 'BR', 'IR', 'IR', 'IR', 'IR', 'O', 'O', 'O', 'O', 'O', 'O', 'O', 'O', 'O', 'O'], ['BR', 'IR', 'IR', 'IR', 'O', 'O', 'O', 'O'], ['O', 'O', 'O', 'O', 'O', 'O', 'O', 'O', 'O', 'O', 'O', 'BR', 'IR', 'IR', 'IR', 'IR', 'O', 'O', 'O'], ['O', 'O', 'O', 'O', 'O', 'O', 'O', 'O', 'O', 'O', 'O', 'O', 'O', 'BR', 'IR', 'IR', 'IR', 'O', 'O'], ['BR', 'IR', 'IR', 'IR', 'O', 'O', 'O', 'O', 'O', 'O'], ['BR', 'IR', 'IR', 'IR', 'O', 'O', 'O', 'O', 'O', 'O', 'O'], ['BR', 'IR', 'IR', 'O', 'O', 'O', 'O', 'O', 'O', 'O', 'O', 'O'], ['O', 'O', 'O', 'O', 'BR', 'IR', 'IR', 'IR', 'IR', 'IR', 'IR', 'O', 'O', 'O', 'O'], ['O', 'O', 'O', 'BR', 'IR', 'IR', 'O', 'BR'], ['O', 'O', 'O', 'BR', 'IR', 'IR', 'IR', 'IR', 'IR', 'IR', 'O', 'O', 'O', 'BR'], ['O', 'O', 'O', 'O', 'BR', 'IR', 'IR', 'IR', 'IR', 'IR', 'O', 'O', 'O', 'O', 'O', 'O', 'O'], ['BR', 'IR', 'IR', 'O', 'O', 'O', 'O', 'O', 'O', 'O', 'O', 'O', 'O', 'O'], ['O', 'O', 'BR', 'IR', 'IR', 'IR', 'O', 'O', 'O', 'O', 'O', 'O', 'O', 'O', 'O'], ['O', 'O', 'O', 'O', 'BR', 'IR', 'IR', 'IR', 'IR', 'IR', 'O', 'O', 'O', 'O', 'O', 'O', 'O'], ['O', 'O', 'O', 'BR', 'IR', 'O', 'O', 'O', 'O', 'O', 'O', 'O'], ['O', 'O', 'O', 'BR', 'IR', 'IR', 'O', 'O', 'O', 'O', 'O', 'O', 'O', 'O', 'O'], ['BR', 'IR', 'IR', 'IR', 'O', 'O', 'O', 'O', 'O', 'O', 'O', 'O', 'O', 'O', 'O', 'O', 'O'], ['O', 'O', 'O', 'O', 'BR', 'IR', 'IR', 'IR', 'IR', 'IR', 'IR', 'IR', 'IR'], ['O', 'O', 'O', 'BR', 'IR', 'IR', 'IR', 'IR', 'IR', 'IR', 'O', 'O', 'O', 'O'], ['O', 'O', 'O', 'BR', 'IR', 'IR', 'O', 'O', 'O'], ['O', 'O', 'BR', 'IR', 'IR', 'IR', 'O', 'O', 'O', 'O', 'O', 'O', 'O', 'O'], ['O', 'BR', 'IR', 'IR', 'IR', 'IR', 'IR', 'IR', 'IR', 'IR', 'IR', 'IR'], ['BR', 'IR', 'IR', 'O', 'O', 'O', 'O', 'O', 'O', 'O', 'O', 'O', 'O', 'O'], ['BR', 'IR', 'IR', 'O', 'O', 'BR', 'IR', 'IR', 'IR', 'IR', 'IR', 'IR', 'IR'], ['BR', 'IR', 'IR', 'IR', 'O', 'O', 'O', 'O', 'O', 'O', 'O', 'O', 'O', 'O', 'O'], ['BR', 'IR', 'IR', 'O', 'O', 'O', 'O', 'O', 'O', 'O', 'O', 'O', 'O', 'O', 'O', 'O', 'O'], ['O', 'O', 'O', 'O', 'O', 'O', 'O', 'O', 'BR', 'IR', 'IR', 'IR', 'O', 'O', 'O', 'O'], ['BR', 'IR', 'IR', 'IR', 'O', 'O', 'O', 'O', 'O', 'O', 'O', 'O', 'O'], ['O', 'O', 'O', 'O', 'BR', 'IR', 'IR', 'IR', 'O', 'O', 'BR', 'IR', 'IR', 'IR', 'IR', 'IR', 'IR', 'IR', 'O', 'O', 'O', 'O'], ['O', 'O', 'O', 'O', 'O', 'O', 'BR', 'IR', 'IR', 'IR', 'O', 'O'], ['BR', 'IR', 'IR', 'O', 'O', 'O', 'O', 'O', 'O', 'O', 'O', 'O', 'O', 'O', 'O', 'O'], ['BR', 'IR', 'IR', 'IR', 'IR', 'IR', 'IR', 'IR', 'IR', 'IR', 'O', 'O'], ['O', 'O', 'O', 'O', 'O', 'O', 'O', 'O', 'BR', 'IR', 'IR', 'IR', 'O', 'O'], ['O', 'O', 'O', 'BR', 'IR', 'IR', 'O', 'O', 'O', 'O', 'O', 'O'], ['BR', 'IR', 'IR', 'O', 'O', 'O', 'O', 'O', 'O', 'O', 'O'], ['BR', 'IR', 'IR', 'IR', 'IR', 'IR', 'O', 'O', 'O', 'O', 'O', 'O', 'O', 'O'], ['O', 'O', 'O', 'BR', 'IR', 'IR', 'IR', 'IR', 'IR', 'IR', 'O', 'BR', 'IR', 'IR'], ['O', 'O', 'O', 'O', 'O', 'O', 'BR', 'IR', 'IR', 'O', 'O'], ['O', 'BR', 'IR', 'IR', 'O', 'O', 'O', 'O', 'O'], ['O', 'BR', 'IR', 'IR', 'IR', 'IR', 'IR', 'IR', 'IR', 'IR', 'IR', 'IR', 'IR', 'IR', 'O', 'O', 'O', 'O', 'O', 'O', 'O'], ['O', 'O', 'O', 'BR', 'IR', 'IR', 'IR', 'IR', 'O', 'O', 'O', 'O', 'O', 'O'], ['O', 'BR', 'IR', 'IR', 'IR', 'IR', 'IR', 'O', 'O', 'O', 'O', 'O', 'O', 'O', 'O', 'O', 'O'], ['O', 'O', 'O', 'O', 'BR', 'IR', 'IR', 'O', 'O', 'O', 'O', 'O', 'O', 'O', 'O', 'O', 'O'], ['O', 'O', 'O', 'O', 'BR', 'IR', 'IR', 'O', 'O', 'O', 'O', 'O', 'O', 'O', 'O', 'O', 'O', 'O'], ['O', 'O', 'O', 'O', 'BR', 'IR', 'IR', 'IR', 'IR', 'IR', 'IR', 'IR', 'IR', 'IR', 'IR', 'IR', 'IR', 'O', 'BR', 'IR'], ['O', 'BR', 'IR', 'IR', 'IR', 'O', 'BR', 'IR', 'O', 'O', 'O', 'O', 'O', 'O', 'O', 'O', 'O', 'O', 'O', 'O', 'O', 'O', 'O', 'O', 'O', 'O', 'O', 'O'], ['O', 'O', 'O', 'BR', 'IR', 'IR', 'IR', 'IR', 'IR', 'IR', 'IR', 'IR', 'IR', 'IR', 'IR', 'O', 'O', 'O', 'O', 'O'], ['BR', 'IR', 'IR', 'IR', 'O', 'O', 'O', 'O', 'O', 'O', 'O', 'O', 'O', 'O'], ['O', 'O', 'BR', 'IR', 'IR', 'IR', 'IR', 'IR', 'IR', 'IR', 'IR', 'IR', 'IR', 'IR', 'IR', 'IR', 'IR', 'IR', 'O', 'O', 'BR', 'IR', 'IR', 'IR'], ['BR', 'IR', 'IR', 'IR', 'O', 'O', 'O', 'O', 'O', 'O', 'O', 'O', 'O'], ['BR', 'IR', 'IR', 'O', 'O', 'O', 'O', 'O', 'O', 'O', 'O', 'O', 'O'], ['BR', 'IR', 'IR', 'O', 'O', 'O', 'O', 'O', 'O', 'O', 'O', 'O', 'O', 'O', 'O'], ['O', 'O', 'BR', 'IR', 'O', 'O', 'O', 'O', 'O', 'BR', 'IR', 'IR', 'O', 'O'], ['BR', 'IR', 'IR', 'IR', 'IR', 'IR', 'IR', 'IR', 'IR', 'IR', 'IR', 'IR', 'IR', 'IR', 'IR', 'IR', 'IR', 'IR', 'IR'], ['O', 'O', 'O', 'O', 'O', 'O', 'O', 'O', 'O', 'O', 'BR', 'IR', 'IR', 'IR', 'IR', 'O', 'O', 'O'], ['O', 'O', 'O', 'O', 'O', 'BR', 'IR', 'IR', 'IR', 'IR', 'IR', 'IR', 'IR', 'IR', 'IR', 'IR', 'IR', 'IR', 'IR', 'IR', 'IR', 'O', 'BR', 'IR'], ['BR', 'IR', 'IR', 'IR', 'O', 'O', 'O', 'O', 'O', 'O', 'O', 'O', 'O', 'O', 'O', 'O', 'O', 'O', 'O', 'O', 'O', 'O', 'O', 'O'], ['BR', 'IR', 'IR', 'IR', 'IR', 'O', 'O', 'O', 'O', 'O', 'O', 'O', 'O', 'O', 'O', 'O', 'O', 'O'], ['O', 'O', 'O', 'O', 'O', 'O', 'BR', 'IR', 'IR', 'IR', 'IR', 'IR', 'O', 'O', 'O'], ['BR', 'IR', 'IR', 'IR', 'IR', 'IR', 'IR', 'IR', 'IR', 'IR', 'IR', 'IR', 'IR', 'IR', 'IR', 'O', 'O', 'O', 'O', 'O', 'O', 'O', 'O', 'BR'], ['O', 'O', 'O', 'O', 'O', 'BR', 'IR', 'IR', 'IR', 'O', 'O', 'O'], ['O', 'O', 'O', 'O', 'BR', 'IR', 'IR', 'IR', 'IR', 'IR', 'IR', 'IR', 'O', 'O', 'O', 'O', 'O', 'O', 'O'], ['BR', 'IR', 'IR', 'IR', 'O', 'O', 'O', 'BR', 'IR', 'IR', 'IR', 'IR', 'IR', 'IR', 'IR', 'IR', 'IR', 'IR'], ['O', 'O', 'BR', 'IR', 'IR', 'O', 'O', 'O', 'O', 'O', 'O', 'O', 'O', 'O', 'O', 'O', 'O', 'O', 'O'], ['O', 'O', 'O', 'O', 'O', 'O', 'O', 'BR', 'IR', 'IR', 'IR', 'O', 'O'], ['BR', 'IR', 'IR', 'O', 'O', 'O', 'O', 'O', 'O', 'O', 'O'], ['O', 'BR', 'IR', 'IR', 'IR', 'IR', 'IR', 'IR', 'O', 'O', 'O', 'O', 'O', 'O', 'O', 'O', 'O', 'O'], ['O', 'O', 'BR', 'IR', 'IR', 'IR', 'IR', 'IR', 'IR', 'IR', 'IR', 'IR', 'IR', 'IR', 'O', 'O', 'O', 'O', 'O', 'O', 'O', 'O'], ['O', 'BR', 'IR', 'O', 'O', 'O', 'O', 'O', 'O', 'O', 'O', 'O'], ['BR', 'IR', 'IR', 'IR', 'IR', 'IR', 'IR', 'O', 'O', 'O', 'O', 'O', 'O', 'O', 'O', 'O', 'O', 'O', 'O', 'O'], ['O', 'BR', 'IR', 'O', 'O', 'O', 'O', 'O', 'BR', 'IR', 'IR', 'IR', 'IR', 'IR'], ['BR', 'IR', 'IR', 'IR', 'O', 'O', 'O', 'O', 'O', 'O', 'O', 'O'], ['O', 'O', 'O', 'BR', 'IR', 'IR', 'O', 'O', 'O', 'O', 'O', 'O', 'O', 'O', 'O', 'O', 'O', 'O'], ['O', 'O', 'O', 'O', 'O', 'O', 'O', 'O', 'BR', 'IR', 'IR', 'O', 'O', 'O', 'O', 'O', 'O'], ['O', 'BR', 'IR', 'IR', 'IR', 'O', 'O', 'O', 'O', 'O', 'O', 'O', 'O', 'O', 'O', 'O', 'O', 'O', 'O'], ['O', 'BR', 'IR', 'O', 'O', 'O', 'O', 'O', 'O'], ['O', 'O', 'O', 'O', 'BR', 'IR', 'IR', 'IR', 'IR', 'IR', 'O', 'O', 'BR'], ['O', 'BR', 'IR', 'IR', 'IR', 'O', 'O', 'O', 'O', 'O', 'O', 'O', 'O'], ['BR', 'IR', 'IR', 'IR', 'IR', 'O', 'O', 'O', 'O', 'O', 'O', 'O'], ['O', 'O', 'O', 'BR', 'IR', 'IR', 'IR', 'IR', 'O', 'O'], ['O', 'BR', 'IR', 'O', 'O', 'O', 'O', 'O'], ['O', 'O', 'O', 'O', 'BR', 'IR', 'IR', 'IR', 'IR', 'O', 'O', 'O', 'O'], ['O', 'O', 'O', 'BR', 'IR', 'IR', 'IR', 'O', 'O'], ['O', 'O', 'O', 'BR', 'IR', 'IR', 'O', 'BR', 'IR', 'IR', 'IR', 'IR', 'IR', 'IR', 'IR', 'O', 'O', 'O', 'O', 'O', 'O', 'O', 'O', 'O', 'O', 'O'], ['O', 'O', 'O', 'BR', 'IR', 'IR', 'IR', 'O', 'O', 'O', 'O', 'O', 'O', 'O', 'O', 'O', 'O', 'O', 'O', 'O', 'O', 'O'], ['O', 'O', 'O', 'O', 'O', 'O', 'BR', 'IR', 'IR', 'IR', 'IR', 'IR', 'IR', 'IR', 'IR', 'IR', 'IR', 'IR', 'IR', 'IR', 'IR', 'IR', 'IR', 'IR', 'O', 'O'], ['O', 'O', 'O', 'O', 'O', 'O', 'O', 'BR', 'IR', 'IR', 'IR', 'IR', 'IR', 'O', 'O'], ['O', 'O', 'O', 'O', 'O', 'O', 'BR', 'IR', 'IR', 'O', 'O', 'O', 'O', 'O'], ['O', 'O', 'BR', 'IR', 'IR', 'IR', 'O', 'O', 'O', 'O', 'O', 'O', 'O', 'O', 'O', 'O', 'O', 'O', 'O'], ['O', 'O', 'O', 'O', 'O', 'O', 'O', 'O', 'O', 'BR', 'IR', 'IR', 'IR', 'IR', 'IR', 'IR', 'IR', 'IR', 'IR', 'IR', 'IR', 'IR', 'IR', 'IR', 'IR', 'IR', 'IR', 'IR', 'IR', 'IR'], ['BR', 'IR', 'IR', 'O', 'O', 'O', 'O', 'O'], ['BR', 'IR', 'IR', 'O', 'O', 'O', 'O', 'O', 'O', 'O', 'O', 'O', 'O', 'O', 'O', 'O'], ['BR', 'IR', 'IR', 'IR', 'IR', 'IR', 'O', 'O', 'O', 'O', 'O', 'O', 'O', 'O', 'O', 'O', 'O', 'O', 'O', 'O', 'O', 'O', 'O'], ['O', 'O', 'BR', 'IR', 'IR', 'IR', 'IR', 'IR', 'IR', 'O', 'O'], ['O', 'O', 'O', 'BR', 'IR', 'IR', 'O', 'O', 'O', 'O'], ['O', 'O', 'O', 'BR', 'IR', 'IR', 'O', 'O', 'O', 'O', 'O', 'O', 'O', 'O', 'O', 'O', 'O', 'O', 'O', 'O', 'O', 'O'], ['BR', 'IR', 'IR', 'IR', 'O', 'O', 'O', 'O', 'O', 'O', 'O', 'O', 'O', 'O', 'O', 'O', 'O', 'O'], ['O', 'O', 'O', 'O', 'O', 'BR', 'IR', 'IR', 'IR', 'O', 'O', 'O', 'O', 'O', 'O', 'O', 'O', 'O', 'O', 'O', 'O', 'O'], ['O', 'BR', 'IR', 'IR', 'O', 'O', 'O', 'O', 'O', 'O', 'O', 'O', 'O', 'O', 'O', 'O', 'O', 'O', 'O'], ['O', 'O', 'O', 'O', 'O', 'O', 'O', 'O', 'BR', 'IR', 'IR', 'IR', 'O'], ['BR', 'IR', 'IR', 'IR', 'IR', 'IR', 'IR', 'IR', 'IR', 'IR', 'IR', 'IR', 'IR', 'IR', 'IR', 'IR', 'IR'], ['O', 'O', 'BR', 'IR', 'IR', 'O', 'O', 'O', 'O', 'O', 'O'], ['BR', 'IR', 'IR', 'IR', 'IR', 'IR', 'O', 'O', 'O', 'O', 'O'], ['O', 'O', 'O', 'BR', 'IR', 'IR', 'IR', 'IR', 'IR', 'IR', 'IR', 'IR', 'IR', 'IR', 'IR', 'IR', 'IR', 'IR', 'O', 'O'], ['O', 'O', 'O', 'O', 'O', 'O', 'O', 'O', 'O', 'BR', 'IR', 'IR', 'O'], ['O', 'O', 'O', 'O', 'O', 'BR', 'IR', 'IR', 'IR', 'IR', 'IR', 'IR', 'IR', 'IR', 'IR', 'O', 'O'], ['O', 'BR', 'IR', 'IR', 'O', 'O', 'O', 'O', 'O', 'O', 'O', 'O', 'O', 'O', 'O'], ['O', 'O', 'O', 'O', 'BR', 'IR', 'IR', 'IR', 'IR', 'IR', 'O', 'O', 'O', 'O', 'O', 'O', 'O', 'O', 'O', 'O', 'O', 'O', 'O', 'O'], ['BR', 'IR', 'O', 'O', 'O', 'O', 'O', 'O', 'O', 'O', 'O', 'O'], ['O', 'O', 'O', 'O', 'O', 'O', 'O', 'O', 'O', 'BR', 'IR', 'IR', 'IR', 'IR', 'IR', 'O'], ['BR', 'IR', 'IR', 'O', 'O', 'O', 'O', 'O', 'O', 'O', 'O'], ['O', 'O', 'O', 'BR', 'IR', 'IR', 'O', 'O', 'O', 'O'], ['BR', 'IR', 'IR', 'O', 'O', 'O', 'O', 'O', 'O', 'O', 'O', 'O', 'O', 'O', 'O', 'O', 'O', 'O'], ['BR', 'IR', 'IR', 'O', 'O', 'O', 'O', 'O', 'O', 'O', 'O', 'O', 'O', 'O', 'O', 'O', 'O', 'O', 'O', 'O', 'O', 'O', 'O'], ['BR', 'IR', 'IR', 'O', 'O', 'O', 'O', 'O', 'O', 'O', 'O', 'O', 'O', 'O', 'O', 'O', 'O', 'O', 'O', 'O', 'O'], ['O', 'BR', 'IR', 'O', 'O', 'O', 'O', 'O', 'O', 'O', 'O', 'O', 'O', 'O', 'O', 'O', 'O', 'O'], ['O', 'O', 'BR', 'IR', 'IR', 'IR', 'IR', 'IR', 'IR', 'IR', 'O', 'O', 'O', 'O', 'O'], ['BR', 'IR', 'IR', 'IR', 'IR', 'IR', 'IR', 'IR', 'IR', 'IR', 'IR', 'O', 'BR', 'IR', 'IR', 'IR', 'IR', 'IR', 'IR', 'IR', 'IR', 'IR', 'IR', 'IR', 'IR', 'IR'], ['BR', 'IR', 'IR', 'O', 'BR', 'IR', 'O', 'O', 'O', 'O', 'O', 'O', 'O', 'O', 'O', 'O', 'O', 'O'], ['O', 'O', 'O', 'O', 'O', 'BR', 'IR', 'IR', 'IR', 'O', 'O', 'O', 'O', 'O', 'O', 'O', 'O', 'O', 'O'], ['O', 'O', 'O', 'O', 'O', 'O', 'BR', 'IR', 'IR', 'IR', 'IR', 'IR', 'IR', 'IR', 'IR', 'IR', 'IR', 'IR', 'IR', 'IR', 'IR', 'IR', 'IR', 'IR', 'IR', 'IR', 'IR'], ['BR', 'IR', 'IR', 'IR', 'O', 'O', 'O', 'O', 'O', 'O', 'O', 'O', 'O', 'O', 'O', 'O', 'O', 'O', 'O'], ['O', 'O', 'O', 'O', 'O', 'O', 'O', 'O', 'O', 'BR', 'IR', 'IR', 'IR', 'IR', 'IR', 'IR', 'IR', 'O', 'O'], ['O', 'O', 'O', 'BR', 'IR', 'O', 'O', 'O', 'O', 'O', 'O', 'O', 'O', 'O', 'O', 'O', 'O', 'O', 'O'], ['BR', 'IR', 'IR', 'IR', 'IR', 'IR', 'IR', 'IR', 'IR', 'IR', 'IR'], ['O', 'O', 'O', 'O', 'O', 'O', 'BR', 'IR', 'IR', 'IR', 'IR', 'IR', 'IR', 'IR', 'IR', 'IR', 'IR', 'IR', 'IR', 'IR', 'IR', 'IR', 'IR'], ['BR', 'IR', 'IR', 'O', 'O', 'O', 'O', 'O', 'O', 'O'], ['O', 'O', 'O', 'BR', 'IR', 'IR', 'IR', 'IR', 'O', 'O', 'O', 'O', 'O', 'O'], ['O', 'O', 'BR', 'IR', 'IR', 'O', 'BR', 'IR', 'IR', 'IR', 'IR', 'IR', 'IR'], ['O', 'O', 'O', 'O', 'O', 'O', 'BR', 'IR', 'IR', 'IR', 'IR', 'IR', 'IR'], ['BR', 'IR', 'IR', 'IR', 'IR', 'IR', 'IR', 'IR', 'IR', 'IR', 'IR', 'IR', 'IR', 'IR', 'IR', 'IR', 'IR', 'IR', 'IR', 'IR', 'IR', 'IR', 'O'], ['BR', 'IR', 'IR', 'IR', 'O', 'O', 'O', 'O', 'O', 'O', 'O', 'O'], ['O', 'O', 'O', 'BR', 'IR', 'IR', 'O', 'O', 'O', 'O', 'O', 'O', 'O', 'O', 'O', 'O', 'O'], ['BR', 'IR', 'IR', 'IR', 'IR', 'IR', 'IR', 'IR', 'IR', 'IR', 'IR', 'IR', 'IR', 'IR', 'IR', 'IR', 'IR', 'IR', 'IR', 'IR', 'IR'], ['O', 'O', 'O', 'BR', 'IR', 'IR', 'IR', 'IR', 'IR', 'IR', 'IR', 'IR', 'IR', 'IR', 'IR', 'O'], ['O', 'O', 'O', 'BR', 'IR', 'IR', 'O', 'O', 'O', 'O', 'O', 'O'], ['O', 'BR', 'IR', 'IR', 'IR', 'IR', 'IR', 'O', 'BR', 'IR', 'IR', 'IR', 'IR', 'IR', 'IR', 'IR', 'IR', 'IR', 'IR'], ['BR', 'IR', 'IR', 'IR', 'O', 'O', 'O', 'O', 'BR', 'IR', 'IR', 'O', 'O', 'O', 'O', 'O', 'O', 'O', 'O', 'O', 'O', 'O', 'O', 'O', 'O', 'O'], ['BR', 'IR', 'IR', 'O', 'O', 'O', 'O', 'O', 'O', 'O', 'O', 'O', 'O', 'O', 'O', 'O'], ['O', 'O', 'O', 'O', 'O', 'O', 'O', 'O', 'O', 'BR', 'IR', 'IR', 'IR', 'O', 'O'], ['O', 'O', 'O', 'O', 'BR', 'IR', 'IR', 'IR', 'IR', 'IR', 'IR', 'IR', 'IR', 'O', 'O', 'O', 'O', 'O', 'O', 'O'], ['BR', 'IR', 'IR', 'IR', 'IR', 'IR', 'IR', 'IR', 'IR', 'IR', 'IR', 'IR', 'IR', 'IR', 'IR', 'IR', 'IR', 'IR', 'IR', 'IR', 'IR', 'IR', 'IR', 'IR', 'IR', 'IR', 'IR', 'IR', 'IR'], ['BR', 'IR', 'IR', 'IR', 'O', 'O', 'O', 'O', 'O', 'O', 'O', 'O', 'O', 'O', 'O', 'O', 'O'], ['O', 'O', 'O', 'O', 'O', 'BR', 'IR', 'IR', 'IR', 'IR', 'IR', 'O', 'O', 'O', 'O'], ['O', 'O', 'BR', 'IR', 'IR', 'IR', 'IR', 'O', 'O', 'O', 'O', 'O', 'O', 'O', 'O', 'O', 'O'], ['O', 'BR', 'IR', 'IR', 'IR', 'IR', 'IR', 'IR', 'IR', 'IR', 'IR', 'IR', 'O', 'O', 'O', 'O', 'O', 'O', 'O'], ['O', 'O', 'O', 'BR', 'IR', 'IR', 'IR', 'O', 'O', 'O', 'O', 'O', 'O', 'O', 'O'], ['O', 'BR', 'IR', 'IR', 'IR', 'IR', 'IR', 'IR', 'IR', 'IR'], ['BR', 'IR', 'IR', 'IR', 'IR', 'IR', 'IR', 'IR', 'IR', 'IR', 'O', 'BR', 'IR', 'IR', 'IR', 'IR', 'IR'], ['O', 'O', 'O', 'O', 'O', 'O', 'O', 'BR', 'IR', 'IR', 'IR', 'IR', 'O', 'O', 'O', 'O', 'O', 'O', 'O', 'O', 'O'], ['O', 'O', 'O', 'O', 'O', 'O', 'O', 'O', 'O', 'BR', 'IR', 'O'], ['O', 'O', 'O', 'O', 'O', 'O', 'O', 'O', 'O', 'BR', 'IR', 'O', 'O', 'O', 'O', 'O', 'O', 'O', 'O'], ['O', 'O', 'O', 'BR', 'O', 'BR', 'IR', 'IR', 'O', 'O', 'O', 'O', 'O'], ['O', 'O', 'BR', 'IR', 'IR', 'IR', 'IR', 'IR', 'O', 'O', 'O', 'O', 'O'], ['BR', 'IR', 'IR', 'O', 'O', 'O', 'O', 'O', 'O', 'O', 'O', 'O', 'O', 'O', 'O', 'O', 'O', 'O', 'O'], ['BR', 'IR', 'IR', 'IR', 'IR', 'O', 'O', 'O', 'O', 'O', 'O', 'O', 'O', 'O', 'O', 'O'], ['O', 'O', 'O', 'O', 'BR', 'IR', 'IR', 'IR', 'IR', 'IR', 'IR', 'IR', 'IR', 'IR', 'IR'], ['BR', 'IR', 'IR', 'IR', 'O', 'BR', 'IR', 'IR', 'IR', 'IR', 'IR', 'IR', 'IR', 'IR'], ['O', 'O', 'O', 'O', 'BR', 'IR', 'IR', 'IR', 'IR', 'IR', 'O', 'O', 'O', 'O', 'O', 'O', 'O', 'O', 'O', 'O', 'O'], ['BR', 'IR', 'IR', 'IR', 'IR', 'IR', 'IR', 'O', 'O', 'O', 'O', 'O', 'O', 'O'], ['O', 'O', 'BR', 'IR', 'IR', 'IR', 'O', 'O', 'O', 'O', 'O', 'O', 'O', 'O', 'O', 'O'], ['BR', 'IR', 'IR', 'IR', 'IR', 'O', 'O', 'O', 'O', 'O', 'O', 'O', 'O'], ['O', 'BR', 'IR', 'IR', 'IR', 'IR', 'IR', 'IR', 'IR', 'IR', 'IR', 'IR', 'IR', 'IR', 'IR', 'IR', 'IR', 'IR', 'IR', 'IR'], ['BR', 'IR', 'IR', 'IR', 'IR', 'O', 'BR', 'O', 'BR', 'IR', 'IR', 'IR', 'IR'], ['O', 'BR', 'IR', 'IR', 'O', 'O', 'O', 'O', 'BR', 'IR', 'IR', 'IR', 'IR', 'IR', 'IR', 'IR', 'IR', 'IR'], ['BR', 'IR', 'IR', 'IR', 'O', 'O', 'O', 'O', 'O', 'O', 'O'], ['O', 'O', 'O', 'O', 'O', 'O', 'O', 'BR', 'IR', 'IR', 'IR', 'IR', 'IR', 'IR', 'IR', 'O', 'BR', 'IR', 'O'], ['BR', 'IR', 'IR', 'O', 'O', 'O', 'O', 'O', 'O', 'O', 'O', 'O', 'O'], ['O', 'O', 'O', 'BR', 'IR', 'IR', 'IR', 'O', 'O', 'O', 'O', 'O', 'O', 'O', 'O', 'O'], ['O', 'BR', 'IR', 'IR', 'IR', 'O', 'O', 'O', 'O', 'O', 'O', 'O', 'O', 'O', 'O', 'O', 'O', 'O'], ['BR', 'IR', 'IR', 'O', 'O', 'O', 'O', 'O', 'O', 'O', 'O', 'O', 'O', 'O', 'O', 'O', 'O', 'O'], ['O', 'O', 'O', 'BR', 'IR', 'IR', 'IR', 'O', 'O', 'O', 'O', 'O', 'O', 'O', 'O'], ['O', 'O', 'O', 'O', 'O', 'O', 'BR', 'IR', 'IR', 'O', 'O'], ['O', 'O', 'O', 'BR', 'IR', 'IR', 'O', 'O', 'O', 'O', 'O', 'O', 'O', 'O', 'O', 'O'], ['O', 'O', 'O', 'BR', 'IR', 'IR', 'IR', 'IR', 'IR', 'IR', 'IR', 'IR', 'IR', 'IR', 'IR', 'IR', 'IR', 'IR', 'IR', 'IR', 'IR', 'IR', 'IR'], ['BR', 'IR', 'IR', 'IR', 'O', 'O', 'O', 'O', 'O', 'O', 'O', 'O', 'O'], ['O', 'BR', 'IR', 'IR', 'IR', 'IR', 'O', 'O', 'O', 'O', 'O', 'O', 'O', 'O', 'O', 'O', 'O'], ['O', 'O', 'O', 'BR', 'IR', 'O', 'O', 'O', 'O', 'O', 'O', 'O', 'O'], ['O', 'BR', 'IR', 'IR', 'O', 'O', 'O', 'O', 'O', 'O', 'O', 'O'], ['O', 'O', 'O', 'O', 'O', 'BR', 'IR', 'IR', 'IR', 'IR', 'O', 'O', 'O', 'O', 'O', 'O', 'O'], ['BR', 'IR', 'IR', 'IR', 'IR', 'O', 'O', 'O', 'O', 'O', 'O', 'O', 'O', 'O', 'O'], ['BR', 'IR', 'IR', 'O', 'O', 'O', 'O', 'O', 'BR', 'O', 'O', 'O', 'O', 'O', 'O', 'O', 'O', 'O', 'O'], ['O', 'O', 'O', 'BR', 'IR', 'IR', 'O', 'O', 'O', 'O', 'O', 'O', 'O', 'O'], ['O', 'BR', 'IR', 'O', 'O', 'O', 'O', 'O', 'O', 'O', 'O', 'O', 'O', 'O'], ['BR', 'IR', 'IR', 'O', 'O', 'O', 'BR', 'IR', 'IR', 'IR', 'IR', 'IR', 'IR', 'IR', 'IR', 'IR', 'IR', 'IR', 'IR'], ['O', 'O', 'O', 'BR', 'IR', 'IR', 'IR', 'IR', 'IR', 'O', 'O', 'O', 'O', 'O', 'O'], ['O', 'O', 'O', 'BR', 'IR', 'IR', 'IR', 'IR', 'IR', 'IR', 'IR', 'IR', 'IR', 'IR', 'O', 'O', 'O', 'O', 'O', 'O', 'O', 'O', 'O', 'O'], ['O', 'O', 'O', 'O', 'O', 'O', 'O', 'O', 'O', 'O', 'BR', 'IR', 'IR', 'IR', 'O', 'O'], ['BR', 'IR', 'IR', 'IR', 'IR', 'O', 'O', 'O', 'O', 'O', 'O', 'O', 'O', 'O', 'O', 'O'], ['O', 'O', 'O', 'O', 'BR', 'IR', 'O', 'O', 'O', 'O', 'O', 'O', 'O', 'O', 'O', 'O', 'O', 'O', 'O', 'O', 'O', 'O'], ['O', 'BR', 'IR', 'O', 'O', 'O', 'O', 'O'], ['O', 'O', 'O', 'O', 'O', 'O', 'BR', 'IR', 'IR', 'IR', 'O', 'O', 'O', 'O', 'O', 'O', 'O', 'O', 'O'], ['BR', 'IR', 'IR', 'O', 'O', 'O', 'O', 'O', 'O', 'O', 'O', 'O', 'O'], ['BR', 'IR', 'IR', 'IR', 'IR', 'IR', 'IR', 'O', 'O', 'O', 'O', 'O', 'O', 'O', 'O', 'O', 'O', 'O', 'BR', 'O', 'O', 'O'], ['BR', 'IR', 'IR', 'O', 'O', 'O', 'O', 'O', 'O', 'O', 'O', 'O', 'O'], ['O', 'BR', 'IR', 'O', 'O', 'O', 'O', 'O', 'O', 'O'], ['O', 'O', 'O', 'O', 'O', 'BR', 'IR', 'O', 'O', 'O', 'O', 'O', 'O', 'O', 'O', 'O', 'O', 'O'], ['O', 'BR', 'IR', 'IR', 'IR', 'IR', 'O', 'O', 'O', 'O', 'O', 'O', 'O', 'O', 'O', 'O', 'O', 'O', 'O'], ['O', 'O', 'O', 'BR', 'IR', 'IR', 'O', 'O', 'O', 'O', 'O', 'O', 'O', 'O', 'O'], ['O', 'O', 'O', 'O', 'O', 'BR', 'IR', 'IR', 'IR', 'IR', 'IR', 'IR', 'IR', 'IR', 'IR', 'IR', 'O', 'O', 'O', 'O', 'O', 'O', 'O', 'O'], ['O', 'O', 'O', 'O', 'BR', 'IR', 'IR', 'IR', 'IR', 'IR', 'IR', 'O', 'O', 'O', 'O', 'O', 'O', 'O', 'O'], ['O', 'O', 'O', 'BR', 'IR', 'IR', 'IR', 'IR', 'O', 'O', 'O', 'O', 'O', 'O', 'O', 'O', 'O', 'O', 'O', 'O'], ['O', 'O', 'O', 'O', 'BR', 'IR', 'IR', 'IR', 'IR', 'IR', 'IR', 'IR', 'IR', 'O', 'O', 'O', 'O', 'BR', 'O'], ['BR', 'IR', 'IR', 'IR', 'IR', 'IR', 'IR', 'O', 'O', 'O', 'O', 'O', 'O', 'O', 'O', 'O', 'O', 'O', 'O'], ['O', 'O', 'O', 'BR', 'IR', 'IR', 'O', 'O', 'O', 'O', 'O', 'O', 'O'], ['O', 'O', 'O', 'BR', 'O', 'O', 'O', 'O', 'O', 'O', 'O', 'O'], ['O', 'O', 'O', 'O', 'O', 'O', 'O', 'O', 'BR', 'IR', 'IR', 'O'], ['O', 'O', 'BR', 'IR', 'O', 'O', 'O', 'O', 'O', 'O', 'O', 'O', 'O', 'O', 'O', 'O', 'O', 'O'], ['BR', 'IR', 'IR', 'O', 'O', 'O', 'O', 'O', 'O', 'O', 'O', 'O', 'O', 'O', 'O', 'O', 'O', 'O', 'O'], ['O', 'O', 'O', 'O', 'O', 'O', 'O', 'BR', 'IR', 'IR', 'IR', 'IR', 'IR', 'IR', 'IR', 'IR', 'IR', 'IR', 'IR', 'O', 'O', 'O', 'O', 'O'], ['BR', 'IR', 'IR', 'IR', 'O', 'BR', 'IR', 'IR', 'IR', 'IR', 'IR', 'IR', 'IR', 'IR', 'IR', 'IR'], ['BR', 'IR', 'IR', 'IR', 'IR', 'IR', 'IR', 'O', 'O', 'O', 'O', 'O', 'O', 'O', 'O', 'O'], ['O', 'O', 'O', 'O', 'O', 'O', 'O', 'O', 'O', 'O', 'O', 'O', 'O', 'BR', 'IR', 'IR', 'IR', 'IR', 'IR', 'O', 'O', 'O', 'O'], ['BR', 'IR', 'IR', 'IR', 'IR', 'IR', 'O', 'O', 'O', 'O', 'O', 'O', 'O', 'O', 'O'], ['O', 'O', 'O', 'BR', 'IR', 'IR', 'IR', 'IR', 'IR', 'O', 'O'], ['O', 'BR', 'IR', 'IR', 'O', 'O', 'O', 'O', 'O', 'O', 'O', 'O', 'O'], ['O', 'O', 'BR', 'IR', 'IR', 'IR', 'IR', 'O', 'O', 'O', 'O', 'O', 'O', 'O', 'O', 'O', 'O', 'O'], ['O', 'O', 'BR', 'IR', 'IR', 'IR', 'IR', 'IR', 'IR', 'IR', 'IR', 'IR', 'IR', 'IR', 'IR', 'IR', 'IR', 'IR', 'IR'], ['BR', 'IR', 'IR', 'IR', 'IR', 'O', 'O', 'O', 'O', 'O', 'O'], ['O', 'O', 'BR', 'IR', 'IR', 'IR', 'IR', 'O', 'O', 'O', 'O', 'BR', 'IR', 'IR', 'IR', 'IR'], ['BR', 'IR', 'IR', 'IR', 'O', 'O', 'O', 'O', 'O', 'O', 'O', 'O', 'O', 'O', 'O'], ['BR', 'IR', 'IR', 'O', 'O', 'O', 'O', 'O', 'O', 'O'], ['O', 'O', 'O', 'O', 'O', 'O', 'O', 'O', 'O', 'O', 'O', 'BR', 'IR', 'O', 'O', 'O'], ['BR', 'IR', 'IR', 'IR', 'O', 'O', 'O', 'O', 'O', 'O', 'O', 'O', 'O'], ['O', 'O', 'O', 'O', 'BR', 'IR', 'IR', 'IR', 'IR', 'IR', 'O', 'O', 'O'], ['BR', 'IR', 'IR', 'IR', 'IR', 'IR', 'IR', 'IR', 'IR', 'IR', 'IR', 'IR', 'IR'], ['O', 'O', 'O', 'O', 'O', 'O', 'O', 'O', 'BR', 'O'], ['O', 'O', 'O', 'O', 'O', 'O', 'O', 'BR', 'IR', 'IR', 'IR', 'IR', 'IR', 'IR', 'IR', 'IR', 'O', 'O', 'O', 'O', 'O', 'O'], ['O', 'BR', 'IR', 'IR', 'IR', 'O', 'O', 'O', 'O', 'O', 'O', 'O', 'O', 'O'], ['BR', 'IR', 'IR', 'IR', 'O', 'O', 'O', 'O', 'O', 'O', 'O', 'O', 'O', 'O', 'O', 'O', 'O'], ['BR', 'IR', 'IR', 'IR', 'IR', 'O', 'O', 'O', 'O', 'O', 'O', 'O', 'O', 'O', 'O', 'O'], ['O', 'O', 'O', 'BR', 'IR', 'IR', 'IR', 'O', 'O', 'O', 'O', 'O', 'O', 'O', 'O'], ['O', 'O', 'O', 'O', 'O', 'BR', 'IR', 'IR', 'IR', 'IR', 'IR', 'IR', 'IR', 'O', 'O', 'O', 'O', 'O', 'O', 'O', 'O', 'O'], ['BR', 'IR', 'IR', 'O', 'O', 'O', 'O', 'O', 'O', 'O', 'O', 'O', 'O'], ['O', 'BR', 'IR', 'O', 'O', 'O', 'O', 'O', 'O', 'O', 'O'], ['BR', 'IR', 'IR', 'IR', 'IR', 'O', 'O', 'O', 'O', 'O', 'O', 'O', 'O', 'O', 'O', 'O', 'O', 'O', 'O', 'O'], ['O', 'O', 'O', 'O', 'BR', 'IR', 'IR', 'IR', 'IR', 'IR', 'IR', 'IR', 'IR', 'IR', 'IR', 'O', 'O', 'O'], ['BR', 'IR', 'IR', 'O', 'O', 'O', 'O', 'O', 'O', 'O'], ['BR', 'IR', 'IR', 'O', 'O', 'O', 'O', 'O', 'O', 'O'], ['O', 'BR', 'IR', 'IR', 'IR', 'O', 'O', 'O', 'O', 'O', 'O', 'O', 'O', 'O', 'O', 'O', 'O', 'O', 'O', 'O', 'O'], ['O', 'BR', 'IR', 'IR', 'IR', 'IR', 'IR', 'IR', 'IR', 'IR', 'IR', 'IR', 'IR', 'O', 'O', 'O', 'O', 'O', 'O', 'O', 'O', 'O', 'O', 'O', 'O', 'O', 'O', 'O', 'O', 'O', 'O', 'O', 'O', 'O', 'BR', 'IR'], ['O', 'O', 'O', 'O', 'BR', 'IR', 'IR', 'IR', 'IR', 'O', 'O', 'O', 'O', 'O', 'O', 'O', 'O', 'O', 'O', 'O', 'O'], ['O', 'O', 'O', 'O', 'BR', 'IR', 'IR', 'IR', 'IR', 'IR', 'IR', 'IR', 'IR', 'IR', 'IR'], ['BR', 'IR', 'IR', 'O', 'O', 'O', 'O', 'O', 'O', 'O', 'O', 'O', 'O', 'O', 'O'], ['O', 'BR', 'IR', 'IR', 'IR', 'IR', 'IR', 'IR', 'IR', 'IR', 'IR'], ['BR', 'IR', 'IR', 'IR', 'O', 'O', 'O', 'O', 'O', 'O', 'O'], ['O', 'O', 'O', 'BR', 'IR', 'IR', 'IR', 'O', 'O', 'O', 'O'], ['O', 'O', 'O', 'O', 'O', 'BR', 'IR', 'IR', 'IR', 'IR', 'IR', 'IR', 'IR', 'IR', 'O', 'O', 'O', 'O', 'O', 'O', 'O', 'O'], ['O', 'O', 'O', 'BR', 'IR', 'IR', 'IR', 'IR', 'O', 'O', 'O', 'O', 'O', 'O', 'O', 'O', 'O', 'O'], ['BR', 'IR', 'IR', 'IR', 'O', 'O', 'O', 'O', 'O', 'O', 'O', 'O'], ['BR', 'IR', 'IR', 'O', 'O', 'O', 'O', 'O', 'O', 'O'], ['BR', 'IR', 'IR', 'IR', 'O', 'O', 'O', 'O', 'O', 'O', 'O', 'O', 'O', 'O', 'O', 'O', 'O', 'O'], ['BR', 'IR', 'IR', 'IR', 'O', 'O', 'O', 'O', 'O', 'O', 'O', 'O', 'O', 'O', 'O'], ['O', 'O', 'O', 'O', 'O', 'BR', 'IR', 'IR', 'O', 'O'], ['O', 'O', 'O', 'O', 'O', 'O', 'BR', 'IR', 'IR', 'IR', 'O', 'O'], ['BR', 'IR', 'IR', 'O', 'O', 'O', 'O', 'O', 'O', 'O', 'O', 'O', 'O', 'O', 'O', 'O', 'O', 'O', 'O', 'O'], ['O', 'O', 'O', 'O', 'O', 'O', 'O', 'O', 'O', 'BR', 'IR', 'IR', 'IR', 'IR', 'O'], ['BR', 'IR', 'IR', 'IR', 'IR', 'O', 'O', 'O', 'O', 'O', 'O', 'O', 'O', 'O', 'O', 'O', 'O', 'O'], ['O', 'O', 'O', 'O', 'O', 'O', 'O', 'O', 'O', 'BR', 'IR', 'O'], ['O', 'O', 'O', 'BR', 'IR', 'IR', 'IR', 'IR', 'IR', 'IR', 'IR', 'IR', 'IR', 'IR', 'IR', 'IR', 'O'], ['O', 'O', 'O', 'O', 'BR', 'IR', 'IR', 'IR', 'O', 'O', 'O'], ['O', 'O', 'O', 'BR', 'IR', 'IR', 'IR', 'IR', 'O', 'O', 'O', 'O', 'O'], ['O', 'O', 'O', 'O', 'O', 'O', 'O', 'O', 'BR', 'IR', 'IR', 'IR', 'O', 'O', 'O'], ['O', 'O', 'O', 'BR', 'IR', 'O', 'O', 'O', 'O', 'O', 'O', 'O'], ['O', 'O', 'BR', 'IR', 'IR', 'O', 'O', 'O', 'O', 'O', 'O', 'O', 'O', 'O', 'O', 'O', 'O', 'O', 'O'], ['O', 'BR', 'IR', 'IR', 'O', 'O', 'O', 'O', 'O', 'O', 'O', 'O', 'O', 'O'], ['O', 'O', 'O', 'BR', 'IR', 'IR', 'IR', 'IR', 'IR', 'O', 'O', 'O'], ['O', 'O', 'O', 'BR', 'IR', 'IR', 'O', 'O', 'O'], ['O', 'O', 'O', 'BR', 'IR', 'IR', 'O', 'O', 'O', 'O', 'O', 'O', 'O', 'O'], ['BR', 'IR', 'IR', 'IR', 'IR', 'IR', 'IR', 'IR', 'IR', 'IR', 'O', 'BR', 'IR', 'IR', 'IR', 'IR', 'IR', 'IR', 'IR', 'IR', 'IR', 'IR', 'IR', 'IR', 'IR', 'IR', 'IR', 'IR'], ['O', 'O', 'O', 'BR', 'IR', 'IR', 'IR', 'IR', 'O', 'O', 'O', 'O'], ['O', 'O', 'O', 'O', 'O', 'BR', 'IR', 'IR', 'IR', 'IR', 'O', 'O', 'O', 'O', 'O', 'O', 'O', 'O'], ['BR', 'IR', 'IR', 'IR', 'O', 'O', 'O', 'O', 'O', 'O', 'O', 'O', 'O', 'O', 'O', 'O'], ['BR', 'IR', 'IR', 'IR', 'IR', 'IR', 'IR', 'O', 'O', 'O', 'O', 'O', 'O', 'O', 'O', 'O', 'O', 'O', 'O', 'BR', 'IR', 'IR'], ['O', 'O', 'O', 'BR', 'IR', 'O', 'O', 'O'], ['O', 'BR', 'IR', 'IR', 'IR', 'O', 'O', 'O', 'O', 'O', 'O', 'O', 'O', 'O', 'O', 'O', 'O', 'O', 'O', 'O', 'O', 'O', 'O', 'O', 'O', 'O'], ['O', 'O', 'O', 'O', 'O', 'O', 'O', 'O', 'BR', 'IR', 'IR', 'O'], ['O', 'O', 'O', 'O', 'O', 'O', 'O', 'O', 'O', 'O', 'O', 'O', 'BR', 'IR', 'IR', 'IR', 'IR', 'IR', 'IR', 'IR', 'IR', 'O'], ['O', 'BR', 'IR', 'IR', 'O', 'O', 'O', 'O', 'O', 'O', 'O', 'O', 'O'], ['O', 'O', 'O', 'BR', 'IR', 'IR', 'IR', 'IR', 'O', 'O', 'O'], ['BR', 'IR', 'IR', 'IR', 'O', 'O', 'O', 'BR', 'IR', 'IR', 'IR', 'IR', 'IR', 'IR', 'IR', 'IR', 'IR', 'IR', 'IR', 'IR', 'IR', 'IR', 'IR', 'IR', 'IR', 'IR', 'IR', 'IR'], ['O', 'BR', 'IR', 'IR', 'O', 'O', 'O', 'O', 'O', 'O', 'O', 'O'], ['O', 'O', 'O', 'O', 'BR', 'IR', 'O', 'O', 'O', 'O', 'O', 'O', 'O', 'O', 'O'], ['O', 'BR', 'IR', 'IR', 'IR', 'IR', 'IR', 'IR', 'IR', 'IR', 'IR', 'O'], ['O', 'O', 'BR', 'IR', 'IR', 'IR', 'IR', 'O', 'O', 'O', 'O', 'O', 'O', 'O', 'O', 'O'], ['O', 'O', 'O', 'O', 'O', 'O', 'O', 'O', 'O', 'O', 'O', 'O', 'O', 'BR', 'IR', 'IR', 'O', 'O', 'O', 'O', 'O', 'O', 'O', 'O', 'O', 'O', 'O', 'O'], ['O', 'O', 'O', 'BR', 'IR', 'O', 'O', 'O', 'O', 'O', 'O'], ['O', 'O', 'O', 'BR', 'IR', 'IR', 'IR', 'O', 'O', 'O', 'O'], ['O', 'O', 'O', 'O', 'BR', 'IR', 'O', 'O', 'O', 'O', 'O'], ['O', 'BR', 'IR', 'IR', 'IR', 'O', 'O', 'O', 'O', 'O', 'O', 'O', 'O'], ['O', 'O', 'O', 'O', 'O', 'O', 'BR', 'IR', 'IR', 'O', 'O', 'O', 'O'], ['O', 'O', 'O', 'O', 'O', 'O', 'O', 'O', 'O', 'BR', 'IR', 'O', 'O', 'O', 'O', 'O', 'O', 'O', 'O', 'O'], ['O', 'O', 'O', 'O', 'O', 'BR', 'IR', 'IR', 'IR', 'IR', 'IR', 'IR', 'IR', 'IR', 'IR', 'IR', 'IR', 'IR', 'IR', 'IR'], ['O', 'O', 'O', 'O', 'O', 'O', 'O', 'O', 'O', 'O', 'O', 'BR', 'IR', 'IR', 'IR', 'IR', 'IR', 'IR', 'O', 'O'], ['O', 'BR', 'IR', 'O', 'O', 'O', 'O', 'O', 'O', 'O'], ['O', 'O', 'O', 'O', 'O', 'O', 'O', 'O', 'O', 'O', 'O', 'BR', 'IR', 'IR', 'IR', 'IR', 'IR', 'O', 'O', 'O', 'O', 'O', 'O', 'O', 'O', 'O', 'O'], ['O', 'O', 'BR', 'IR', 'IR', 'IR', 'O', 'O', 'O', 'O', 'O', 'O', 'O', 'O', 'O', 'O', 'O', 'O', 'O', 'O', 'O'], ['BR', 'IR', 'IR', 'IR', 'IR', 'O', 'O', 'BR', 'IR', 'IR', 'IR', 'IR', 'IR', 'IR', 'IR'], ['O', 'O', 'O', 'BR', 'IR', 'IR', 'IR', 'IR', 'IR', 'O', 'O', 'O', 'O', 'O', 'O', 'O', 'O', 'O', 'O'], ['BR', 'IR', 'IR', 'IR', 'IR', 'IR', 'O', 'BR', 'IR', 'IR', 'IR', 'IR', 'IR', 'IR', 'IR', 'IR', 'IR', 'IR', 'IR'], ['O', 'BR', 'IR', 'IR', 'O', 'O', 'O', 'O', 'O', 'O', 'O', 'O', 'O', 'O', 'O', 'O', 'O', 'O', 'O', 'O', 'O', 'O', 'O'], ['BR', 'IR', 'O', 'O', 'O', 'O', 'BR', 'IR', 'IR', 'IR', 'O', 'O', 'O'], ['O', 'O', 'O', 'O', 'O', 'O', 'O', 'O', 'BR', 'O', 'O', 'O', 'O', 'O', 'O', 'O', 'O', 'O', 'O'], ['BR', 'IR', 'IR', 'O', 'O', 'O', 'O', 'O', 'O', 'O', 'O', 'O', 'BR', 'IR', 'IR'], ['O', 'O', 'O', 'O', 'O', 'O', 'O', 'O', 'BR', 'IR', 'IR', 'O', 'O', 'O', 'O', 'O', 'O', 'O', 'O', 'O', 'O', 'O', 'O', 'O'], ['O', 'O', 'O', 'O', 'O', 'O', 'O', 'O', 'O', 'BR', 'IR', 'IR', 'IR', 'IR', 'IR', 'O', 'O', 'O'], ['BR', 'IR', 'IR', 'IR', 'IR', 'IR', 'O', 'O', 'O', 'O', 'O', 'O', 'O', 'O', 'O', 'O', 'O'], ['O', 'O', 'O', 'O', 'O', 'O', 'O', 'O', 'O', 'BR', 'IR', 'O', 'O', 'O', 'O', 'O', 'O', 'O', 'BR', 'IR'], ['O', 'O', 'O', 'BR', 'IR', 'O', 'O', 'O', 'O', 'O', 'O', 'O'], ['O', 'O', 'O', 'O', 'O', 'O', 'O', 'O', 'BR', 'IR', 'IR', 'IR', 'O'], ['O', 'O', 'O', 'O', 'O', 'O', 'O', 'O', 'O', 'O', 'O', 'BR', 'IR', 'IR', 'IR', 'IR', 'IR', 'IR', 'IR', 'IR', 'IR', 'IR', 'IR', 'IR', 'IR', 'IR', 'IR', 'IR', 'IR', 'O', 'O', 'BR', 'O', 'BR'], ['BR', 'IR', 'IR', 'IR', 'IR', 'O', 'O', 'O', 'O', 'O', 'O', 'O', 'O', 'O', 'O', 'O'], ['O', 'O', 'O', 'BR', 'IR', 'IR', 'O', 'O', 'O', 'O', 'O', 'O', 'O', 'O'], ['O', 'BR', 'IR', 'IR', 'O', 'O', 'O', 'O', 'O', 'O', 'O', 'O'], ['BR', 'IR', 'IR', 'O', 'O', 'O', 'O', 'O', 'O', 'O', 'O', 'BR', 'IR', 'IR', 'IR', 'IR', 'IR'], ['O', 'O', 'BR', 'IR', 'O', 'O', 'O', 'O', 'O', 'O', 'O'], ['O', 'BR', 'IR', 'IR', 'IR', 'IR', 'IR', 'IR', 'IR', 'IR', 'IR', 'IR', 'IR', 'IR', 'IR', 'IR', 'O', 'O', 'O', 'O', 'O', 'O', 'O', 'O', 'O', 'O', 'O', 'O', 'O', 'O'], ['O', 'BR', 'IR', 'O', 'O', 'O', 'O', 'O', 'O', 'O', 'O', 'O', 'O', 'O', 'O', 'O', 'O', 'O', 'O', 'O', 'O'], ['O', 'BR', 'IR', 'IR', 'IR', 'IR', 'IR', 'IR', 'IR', 'IR', 'IR', 'IR', 'IR', 'IR', 'IR', 'IR', 'IR', 'IR', 'IR', 'IR', 'IR', 'IR', 'IR', 'IR', 'IR', 'IR', 'O', 'O', 'BR', 'IR'], ['BR', 'IR', 'IR', 'IR', 'IR', 'IR', 'IR', 'IR', 'O', 'O', 'O', 'O', 'O', 'O', 'O', 'O', 'O', 'O', 'O', 'O', 'O', 'O', 'O', 'O', 'O', 'O', 'O', 'O', 'O', 'O', 'O'], ['O', 'O', 'O', 'BR', 'IR', 'IR', 'IR', 'IR', 'O', 'O', 'O', 'O', 'O', 'O', 'O', 'O', 'O', 'O', 'O', 'O', 'O', 'O', 'O'], ['BR', 'IR', 'IR', 'IR', 'IR', 'IR', 'IR', 'IR', 'IR', 'IR', 'O', 'BR', 'IR', 'IR', 'IR', 'IR', 'O', 'O', 'O', 'O', 'O', 'O'], ['O', 'O', 'O', 'O', 'O', 'O', 'BR', 'IR', 'IR', 'O', 'O', 'O', 'O', 'O', 'O', 'O'], ['O', 'O', 'O', 'O', 'O', 'BR', 'IR', 'O', 'O', 'O', 'O', 'O', 'O'], ['O', 'BR', 'IR', 'IR', 'IR', 'O', 'O', 'O', 'O', 'O', 'O', 'O', 'O', 'O', 'O', 'O', 'O', 'O', 'O', 'O', 'O', 'O', 'O'], ['O', 'BR', 'IR', 'IR', 'IR', 'O', 'O', 'O', 'O', 'O', 'O', 'O', 'O'], ['O', 'BR', 'IR', 'IR', 'IR', 'IR', 'IR', 'IR', 'IR', 'IR', 'IR', 'IR', 'O', 'O', 'O', 'BR', 'IR', 'IR', 'IR', 'IR', 'IR', 'IR', 'IR', 'IR'], ['O', 'O', 'O', 'O', 'BR', 'IR', 'IR', 'IR', 'IR', 'IR', 'IR', 'IR', 'IR', 'IR', 'IR', 'IR', 'IR', 'IR', 'IR', 'IR', 'IR', 'IR', 'IR', 'IR'], ['BR', 'IR', 'IR', 'IR', 'O', 'O', 'O', 'O', 'O', 'O', 'O'], ['O', 'O', 'O', 'O', 'O', 'O', 'O', 'O', 'O', 'O', 'BR', 'IR', 'IR', 'IR', 'IR', 'IR', 'IR', 'IR', 'IR', 'IR', 'IR', 'IR', 'IR', 'IR', 'IR', 'IR', 'IR', 'IR', 'IR', 'IR', 'IR', 'IR', 'O', 'O'], ['O', 'O', 'O', 'BR', 'IR', 'IR', 'IR', 'O', 'O', 'O', 'O', 'O', 'O'], ['BR', 'IR', 'IR', 'O', 'O', 'O', 'O', 'O', 'O', 'O', 'O', 'O', 'O', 'O', 'O', 'O', 'O', 'O', 'O', 'O', 'O', 'O'], ['BR', 'IR', 'IR', 'IR', 'IR', 'IR', 'O', 'O', 'O', 'O', 'O', 'O', 'O'], ['O', 'O', 'O', 'O', 'O', 'O', 'O', 'BR', 'IR', 'IR', 'IR', 'IR', 'O', 'O', 'O', 'O', 'O', 'O', 'O', 'O', 'O', 'O', 'O', 'O', 'O'], ['BR', 'IR', 'IR', 'O', 'O', 'O', 'O', 'O', 'O', 'O', 'O', 'O'], ['O', 'BR', 'IR', 'IR', 'O', 'O', 'O', 'O', 'O', 'O', 'O', 'O', 'O', 'O', 'O', 'O'], ['O', 'BR', 'IR', 'IR', 'IR', 'IR', 'IR', 'O', 'O', 'O', 'O', 'O', 'O', 'O', 'O', 'O', 'O', 'O', 'O', 'O', 'O', 'O', 'O', 'O', 'O', 'O', 'O', 'O', 'O'], ['O', 'O', 'O', 'O', 'O', 'BR', 'IR', 'IR', 'IR', 'IR', 'O', 'O', 'O', 'O', 'O', 'O', 'O', 'O', 'O', 'O', 'O', 'O', 'O', 'O', 'O', 'O', 'O', 'O', 'O', 'O', 'O', 'O', 'O', 'O', 'O', 'O'], ['BR', 'O', 'BR', 'IR', 'IR', 'O', 'O', 'O', 'O', 'O', 'O', 'O', 'O', 'O', 'O', 'O', 'O', 'O', 'O', 'O', 'O', 'O', 'O'], ['O', 'O', 'O', 'O', 'O', 'O', 'O', 'O', 'O', 'O', 'O', 'O', 'O', 'O', 'O', 'O', 'O', 'O', 'O', 'O', 'O', 'O', 'O', 'O', 'O', 'O', 'O', 'O', 'BR', 'IR', 'IR', 'IR', 'IR'], ['O', 'O', 'O', 'BR', 'IR', 'IR', 'O', 'O', 'O', 'O', 'O'], ['BR', 'IR', 'IR', 'IR', 'O', 'O', 'O', 'O', 'O', 'O', 'O', 'O', 'O', 'O', 'O', 'O', 'O'], ['BR', 'IR', 'IR', 'O', 'O', 'O', 'O', 'O', 'O', 'O', 'O', 'O', 'O', 'O', 'O', 'O', 'O'], ['BR', 'IR', 'IR', 'IR', 'IR', 'IR', 'O', 'O', 'O', 'O', 'O', 'O', 'O', 'O', 'O', 'O', 'O', 'O', 'O'], ['BR', 'IR', 'IR', 'IR', 'IR', 'O', 'O', 'O', 'O', 'O', 'O', 'O', 'O', 'O', 'O', 'O', 'O', 'O', 'O', 'O'], ['BR', 'IR', 'IR', 'IR', 'O', 'O', 'O', 'O', 'O', 'O', 'O', 'O', 'O', 'O', 'O', 'O', 'O', 'O', 'O', 'O', 'O', 'O', 'O', 'O', 'O'], ['O', 'O', 'O', 'O', 'O', 'O', 'BR', 'IR', 'IR', 'IR', 'IR', 'IR', 'IR', 'IR', 'IR', 'IR', 'O'], ['BR', 'IR', 'IR', 'IR', 'IR', 'O', 'O', 'O', 'O', 'O', 'O', 'O', 'O', 'O', 'O', 'O', 'O', 'O', 'O', 'O', 'O', 'O', 'O', 'O', 'O'], ['BR', 'IR', 'IR', 'IR', 'O', 'O', 'O', 'O', 'O', 'O', 'O', 'O', 'O', 'O', 'O', 'O', 'O', 'O', 'O'], ['O', 'O', 'O', 'O', 'O', 'O', 'O', 'O', 'O', 'BR', 'IR', 'O', 'O', 'O', 'O', 'O', 'O', 'O', 'O', 'O', 'O', 'O'], ['O', 'O', 'O', 'O', 'O', 'BR', 'IR', 'IR', 'O', 'O', 'O', 'O', 'O'], ['BR', 'IR', 'IR', 'IR', 'O', 'O', 'O', 'O', 'O', 'O', 'O', 'O', 'O', 'O', 'O', 'O', 'O'], ['O', 'BR', 'IR', 'IR', 'IR', 'IR', 'IR', 'IR', 'IR', 'IR', 'IR', 'O', 'O', 'O', 'O', 'O', 'O', 'O', 'O', 'O', 'O', 'O', 'O', 'O', 'O', 'O', 'O', 'O', 'O'], ['O', 'O', 'O', 'O', 'O', 'O', 'O', 'O', 'O', 'O', 'O', 'BR', 'IR', 'IR', 'IR', 'IR', 'O'], ['BR', 'IR', 'IR', 'IR', 'IR', 'IR', 'IR', 'IR', 'IR', 'IR', 'IR', 'IR', 'IR', 'IR', 'IR', 'IR', 'IR', 'IR', 'IR', 'IR', 'O', 'O', 'BR', 'IR', 'IR', 'IR', 'IR'], ['O', 'O', 'O', 'BR', 'IR', 'IR', 'IR', 'O', 'O', 'O', 'O', 'O', 'O', 'O', 'O', 'O', 'O', 'O', 'O', 'O', 'O', 'O', 'O'], ['O', 'O', 'O', 'BR', 'IR', 'IR', 'IR', 'IR', 'IR', 'IR', 'O', 'O', 'O', 'O', 'O', 'O', 'O', 'O', 'O', 'O', 'O'], ['O', 'O', 'O', 'BR', 'IR', 'IR', 'IR', 'IR', 'O', 'O', 'O', 'O', 'O', 'O'], ['BR', 'IR', 'IR', 'IR', 'IR', 'IR', 'IR', 'O', 'O', 'O', 'O', 'O', 'O', 'O', 'O', 'O', 'O', 'O', 'O'], ['O', 'O', 'O', 'O', 'O', 'O', 'O', 'O', 'O', 'O', 'O', 'O', 'BR', 'IR', 'IR', 'IR', 'IR', 'IR', 'O', 'O', 'O', 'O'], ['O', 'O', 'BR', 'IR', 'IR', 'IR', 'IR', 'IR', 'IR', 'IR', 'O', 'O', 'O', 'O', 'O', 'O'], ['O', 'O', 'O', 'O', 'O', 'O', 'BR', 'IR', 'IR', 'IR', 'O', 'O', 'O', 'O'], ['O', 'O', 'O', 'O', 'O', 'BR', 'IR', 'IR', 'IR', 'O', 'O', 'O', 'O', 'O', 'O', 'O', 'O', 'O', 'O'], ['O', 'O', 'O', 'O', 'BR', 'IR', 'IR', 'IR', 'IR', 'IR', 'IR', 'IR', 'IR', 'IR', 'IR', 'O', 'O'], ['O', 'O', 'BR', 'IR', 'IR', 'IR', 'O', 'O', 'O', 'O', 'O', 'O', 'O', 'O', 'O'], ['O', 'O', 'BR', 'IR', 'IR', 'IR', 'O', 'O', 'O', 'O', 'O', 'O'], ['O', 'O', 'O', 'O', 'O', 'O', 'O', 'O', 'O', 'O', 'O', 'O', 'O', 'O', 'O', 'O', 'O', 'O', 'O', 'O', 'O', 'O', 'O', 'O', 'O', 'O', 'O', 'BR', 'IR', 'IR', 'IR', 'IR', 'IR', 'IR', 'O'], ['O', 'O', 'O', 'O', 'BR', 'IR', 'O', 'O', 'O', 'O', 'O', 'O', 'O', 'O', 'O', 'O', 'O', 'O', 'O', 'O', 'O', 'O', 'O'], ['O', 'O', 'O', 'BR', 'IR', 'IR', 'O', 'O', 'O', 'O', 'O', 'O', 'O', 'O'], ['O', 'O', 'O', 'O', 'BR', 'O', 'O', 'O', 'O', 'O'], ['O', 'O', 'O', 'O', 'O', 'BR', 'IR', 'IR', 'O', 'O', 'O', 'O', 'O', 'O', 'O'], ['O', 'O', 'O', 'BR', 'IR', 'IR', 'IR', 'IR', 'IR', 'O', 'O', 'O', 'O', 'O', 'O', 'O'], ['O', 'O', 'O', 'O', 'O', 'O', 'O', 'O', 'O', 'O', 'O', 'BR', 'IR', 'IR', 'O'], ['O', 'O', 'O', 'O', 'O', 'O', 'O', 'BR', 'IR', 'O', 'O', 'O', 'O'], ['O', 'O', 'BR', 'IR', 'IR', 'O', 'O', 'O', 'O', 'O', 'O'], ['BR', 'IR', 'IR', 'IR', 'IR', 'IR', 'O', 'O', 'O', 'O', 'O', 'O', 'O', 'O'], ['O', 'O', 'BR', 'IR', 'IR', 'IR', 'IR', 'IR', 'IR', 'IR', 'IR', 'IR', 'IR', 'O', 'O', 'O', 'BR'], ['O', 'O', 'O', 'BR', 'IR', 'O', 'O', 'O', 'O', 'O', 'O'], ['O', 'BR', 'IR', 'IR', 'O', 'O', 'O', 'O', 'O', 'O', 'O', 'O', 'O', 'O', 'O'], ['BR', 'IR', 'IR', 'O', 'O', 'O', 'O', 'O', 'O', 'BR', 'IR', 'IR', 'IR'], ['BR', 'IR', 'O', 'BR', 'IR', 'IR', 'IR', 'IR', 'IR', 'IR', 'IR', 'O', 'O', 'O', 'O', 'O', 'O', 'O', 'O', 'O'], ['BR', 'IR', 'IR', 'IR', 'IR', 'IR', 'IR', 'IR', 'O', 'O', 'O', 'O', 'O', 'O', 'O', 'O', 'O', 'O', 'O', 'O'], ['O', 'BR', 'IR', 'IR', 'IR', 'IR', 'O', 'O', 'O', 'O', 'O', 'O', 'O'], ['BR', 'IR', 'IR', 'O', 'O', 'O', 'O', 'O', 'O', 'O', 'O'], ['O', 'O', 'O', 'O', 'O', 'BR', 'IR', 'IR', 'IR', 'IR', 'IR', 'IR', 'O', 'O', 'O'], ['O', 'BR', 'IR', 'IR', 'O', 'O', 'O', 'O', 'O', 'O', 'O', 'O'], ['BR', 'IR', 'IR', 'IR', 'IR', 'IR', 'IR', 'IR', 'IR', 'IR', 'IR', 'IR', 'IR', 'IR', 'IR', 'IR', 'IR', 'IR', 'IR'], ['O', 'O', 'O', 'O', 'O', 'O', 'BR', 'IR', 'O', 'BR', 'IR', 'IR', 'O', 'O', 'O', 'O', 'O', 'O'], ['O', 'BR', 'IR', 'IR', 'O', 'O', 'O', 'O', 'O', 'O', 'O', 'O', 'O'], ['BR', 'IR', 'IR', 'IR', 'IR', 'O', 'O', 'O', 'O', 'O', 'O', 'O'], ['O', 'O', 'O', 'BR', 'IR', 'IR', 'O', 'O', 'O', 'O'], ['BR', 'IR', 'IR', 'O', 'O', 'O', 'O', 'O', 'O', 'O', 'O', 'O', 'O', 'O'], ['O', 'O', 'O', 'BR', 'IR', 'IR', 'IR', 'O', 'O', 'O', 'O', 'O', 'O', 'O', 'O', 'O', 'O', 'O'], ['O', 'O', 'O', 'O', 'O', 'BR', 'IR', 'IR', 'IR', 'IR', 'IR', 'IR', 'IR', 'IR', 'O', 'O'], ['O', 'O', 'O', 'O', 'O', 'O', 'BR', 'IR', 'IR', 'O', 'O', 'O', 'O'], ['BR', 'IR', 'IR', 'O', 'O', 'O', 'O', 'O', 'O', 'O', 'O'], ['O', 'O', 'BR', 'IR', 'IR', 'IR', 'IR', 'O', 'BR', 'IR', 'IR', 'IR', 'IR'], ['O', 'O', 'O', 'O', 'BR', 'IR', 'IR', 'IR', 'IR', 'IR', 'IR', 'IR', 'IR', 'IR', 'IR', 'IR', 'IR'], ['O', 'O', 'O', 'BR', 'IR', 'O', 'O', 'O', 'O', 'BR', 'IR', 'IR', 'IR', 'IR', 'IR'], ['O', 'O', 'O', 'O', 'O', 'O', 'BR', 'IR', 'IR', 'O', 'O', 'O', 'O', 'O', 'O', 'O', 'O', 'O', 'O', 'O', 'O'], ['O', 'O', 'BR', 'IR', 'IR', 'IR', 'O', 'O', 'O', 'O', 'O', 'O', 'O', 'O', 'O', 'O', 'O', 'O'], ['BR', 'IR', 'IR', 'IR', 'O', 'O', 'O', 'O', 'O', 'O', 'O', 'O', 'O', 'O'], ['O', 'O', 'O', 'O', 'O', 'O', 'O', 'O', 'O', 'O', 'O', 'O', 'O', 'BR', 'IR', 'IR', 'IR', 'IR', 'O', 'O'], ['O', 'O', 'O', 'O', 'O', 'O', 'O', 'BR', 'IR', 'IR', 'IR', 'IR', 'IR', 'IR', 'IR', 'IR', 'IR', 'IR', 'IR', 'IR', 'IR', 'O', 'O', 'BR', 'IR', 'IR', 'IR'], ['O', 'O', 'BR', 'IR', 'IR', 'IR', 'O', 'O', 'O', 'O', 'O', 'O', 'O', 'O', 'O', 'O', 'O', 'O'], ['BR', 'IR', 'IR', 'O', 'O', 'O', 'O', 'O', 'O', 'O', 'O', 'O', 'O', 'O', 'O'], ['BR', 'IR', 'IR', 'IR', 'IR', 'IR', 'IR', 'O', 'O', 'O', 'O', 'O', 'O', 'O', 'O', 'O'], ['O', 'O', 'O', 'O', 'O', 'O', 'O', 'O', 'O', 'O', 'BR', 'IR', 'IR', 'IR', 'IR', 'O'], ['O', 'O', 'O', 'BR', 'IR', 'IR', 'O', 'O', 'O', 'O', 'O', 'O', 'O'], ['O', 'O', 'O', 'O', 'BR', 'IR', 'O', 'O', 'BR'], ['O', 'O', 'O', 'O', 'O', 'BR', 'IR', 'IR', 'IR', 'O', 'O', 'O', 'O'], ['O', 'O', 'O', 'O', 'O', 'BR', 'IR', 'IR', 'O', 'O', 'O', 'O'], ['O', 'O', 'O', 'O', 'O', 'BR', 'IR', 'IR', 'O', 'O', 'O', 'O', 'O', 'O'], ['O', 'O', 'O', 'O', 'O', 'O', 'BR', 'IR', 'IR', 'O', 'O', 'O', 'O', 'O'], ['BR', 'IR', 'IR', 'O', 'O', 'O', 'O', 'O', 'O', 'O', 'O', 'O', 'O', 'O', 'O', 'O', 'O'], ['BR', 'IR', 'IR', 'IR', 'IR', 'O', 'O', 'O', 'O', 'O', 'O', 'O', 'O', 'O', 'O', 'O', 'O', 'O'], ['O', 'O', 'O', 'BR', 'IR', 'IR', 'IR', 'IR', 'IR', 'IR', 'IR', 'IR', 'IR', 'IR', 'O'], ['BR', 'IR', 'IR', 'O', 'O', 'O', 'O', 'O', 'O', 'O', 'O', 'O', 'O', 'O', 'O', 'O', 'O', 'O', 'O', 'O', 'O'], ['O', 'O', 'BR', 'IR', 'IR', 'O', 'O', 'O', 'O', 'O', 'O', 'O', 'O', 'O', 'O', 'O'], ['O', 'O', 'O', 'O', 'O', 'O', 'O', 'O', 'BR', 'IR', 'IR', 'IR', 'IR', 'O', 'O', 'O', 'O', 'O'], ['O', 'O', 'BR', 'O', 'O', 'O', 'BR', 'IR', 'O', 'O', 'O', 'O', 'O', 'O', 'O', 'O', 'O', 'O'], ['BR', 'IR', 'IR', 'IR', 'IR', 'O', 'O', 'O', 'O', 'O', 'O', 'O', 'O', 'O'], ['O', 'O', 'O', 'BR', 'O', 'O', 'O', 'O', 'O', 'BR', 'IR', 'IR', 'O', 'O', 'O'], ['BR', 'IR', 'IR', 'IR', 'O', 'O', 'O', 'O', 'O', 'O', 'O', 'O', 'O', 'O', 'O', 'O', 'O'], ['O', 'O', 'BR', 'O', 'BR', 'IR', 'IR', 'O', 'O', 'O', 'O', 'O', 'O', 'O', 'O', 'O', 'O', 'O', 'O'], ['O', 'O', 'O', 'O', 'O', 'O', 'BR', 'IR', 'IR', 'IR', 'O', 'O', 'O', 'O', 'O', 'O', 'O'], ['BR', 'IR', 'IR', 'IR', 'IR', 'O', 'O', 'O', 'O', 'O', 'O', 'O', 'O', 'O', 'O', 'O', 'O', 'O', 'O', 'O', 'O'], ['O', 'O', 'O', 'BR', 'IR', 'IR', 'IR', 'IR', 'IR', 'IR', 'IR', 'O', 'O', 'O', 'O', 'O', 'O', 'O', 'O', 'O', 'O'], ['O', 'O', 'O', 'BR', 'IR', 'IR', 'O', 'O', 'BR', 'IR', 'IR', 'IR', 'IR'], ['O', 'O', 'O', 'O', 'O', 'O', 'O', 'O', 'O', 'O', 'BR', 'IR', 'IR', 'IR', 'O', 'O', 'O'], ['BR', 'IR', 'O', 'BR', 'IR', 'O', 'O', 'O', 'O', 'O', 'O', 'O', 'O'], ['BR', 'IR', 'O', 'BR', 'IR', 'IR', 'IR', 'IR', 'IR', 'IR', 'IR', 'IR', 'IR', 'IR', 'IR', 'IR'], ['O', 'BR', 'IR', 'IR', 'IR', 'IR', 'O', 'O', 'O', 'O'], ['O', 'O', 'O', 'O', 'BR', 'IR', 'O', 'O', 'BR', 'IR', 'IR', 'O', 'O', 'O'], ['O', 'BR', 'IR', 'IR', 'IR', 'IR', 'IR', 'IR', 'IR', 'IR', 'IR', 'O', 'O', 'O', 'BR', 'IR'], ['O', 'BR', 'IR', 'IR', 'IR', 'O', 'O', 'O', 'O', 'O'], ['O', 'O', 'O', 'O', 'BR', 'IR', 'IR', 'IR', 'IR', 'IR', 'O'], ['BR', 'IR', 'O', 'BR', 'IR', 'IR', 'IR', 'IR', 'IR', 'IR', 'O', 'BR', 'O', 'O', 'O', 'O', 'O', 'O', 'O', 'O', 'O', 'O', 'O', 'O', 'O'], ['O', 'BR', 'IR', 'IR', 'O', 'O', 'O', 'O', 'O', 'O', 'O'], ['O', 'BR', 'IR', 'IR', 'IR', 'O', 'O', 'O', 'O', 'O', 'O', 'O', 'O', 'O', 'O', 'O', 'O'], ['O', 'O', 'O', 'BR', 'IR', 'IR', 'O', 'O', 'O', 'O', 'O', 'O', 'O', 'O', 'O', 'O', 'O'], ['O', 'O', 'O', 'O', 'O', 'O', 'O', 'O', 'O', 'BR', 'IR', 'IR', 'IR', 'IR', 'IR', 'IR', 'IR', 'IR', 'IR', 'IR', 'IR', 'IR', 'IR', 'IR', 'IR', 'IR', 'IR', 'IR', 'IR', 'IR', 'IR'], ['O', 'O', 'O', 'O', 'O', 'O', 'O', 'O', 'O', 'O', 'BR', 'IR', 'IR', 'O', 'O', 'O', 'O', 'O', 'O', 'O', 'O', 'O'], ['O', 'O', 'BR', 'IR', 'O', 'O', 'O', 'O', 'O', 'O', 'O', 'O', 'O', 'O', 'O'], ['BR', 'IR', 'IR', 'IR', 'IR', 'O', 'O', 'O', 'O', 'O', 'O', 'O', 'O', 'O', 'O', 'O', 'O', 'O', 'O', 'O', 'O', 'O', 'O', 'O', 'O', 'O', 'O', 'O'], ['BR', 'IR', 'IR', 'O', 'O', 'O', 'O', 'O', 'O', 'O', 'O', 'O', 'O', 'O', 'O', 'O', 'O'], ['BR', 'O', 'BR', 'IR', 'IR', 'IR', 'O', 'O', 'O', 'O', 'O', 'O', 'O', 'O', 'O', 'O', 'O', 'O', 'O', 'O'], ['BR', 'IR', 'IR', 'IR', 'IR', 'O', 'O', 'O', 'O', 'O', 'O', 'O', 'O', 'O'], ['BR', 'IR', 'IR', 'IR', 'IR', 'IR', 'O', 'O', 'O', 'O', 'O', 'O', 'O', 'O', 'O'], ['O', 'O', 'O', 'O', 'O', 'BR', 'IR', 'IR', 'O', 'O', 'O', 'O'], ['O', 'O', 'O', 'O', 'O', 'O', 'BR', 'IR', 'IR', 'O', 'O', 'O', 'O', 'O', 'O', 'O'], ['O', 'BR', 'IR', 'IR', 'IR', 'IR', 'IR', 'O', 'O', 'O', 'O', 'O', 'O', 'O', 'O', 'O', 'O', 'O'], ['O', 'O', 'BR', 'IR', 'IR', 'O', 'O', 'O', 'O', 'O', 'O', 'O', 'O', 'O'], ['O', 'O', 'O', 'O', 'BR', 'IR', 'IR', 'O', 'O', 'O', 'O'], ['O', 'O', 'BR', 'IR', 'O', 'O', 'O', 'O', 'O', 'O', 'O'], ['O', 'O', 'O', 'O', 'O', 'O', 'O', 'BR', 'IR', 'IR', 'IR', 'O', 'O', 'O', 'O', 'O', 'O', 'O', 'O', 'O'], ['BR', 'IR', 'IR', 'IR', 'IR', 'O', 'O', 'O', 'O', 'O', 'O', 'O', 'O', 'O', 'O', 'O'], ['O', 'O', 'O', 'O', 'O', 'O', 'O', 'O', 'O', 'O', 'BR', 'IR', 'IR', 'IR', 'O'], ['O', 'O', 'O', 'O', 'BR', 'IR', 'IR', 'IR', 'IR', 'IR', 'O', 'O', 'O', 'O', 'O', 'O', 'O', 'O', 'O'], ['BR', 'IR', 'IR', 'O', 'O', 'O', 'O', 'O', 'O', 'O', 'O', 'O', 'O', 'O', 'O', 'O', 'O'], ['O', 'BR', 'IR', 'IR', 'O', 'O', 'O', 'O', 'O', 'O', 'O', 'O', 'O', 'O', 'O', 'O', 'O', 'O'], ['O', 'O', 'O', 'O', 'O', 'O', 'O', 'BR', 'IR', 'IR', 'IR', 'IR', 'IR', 'IR', 'IR', 'IR', 'IR', 'IR', 'IR', 'IR', 'IR', 'IR', 'IR', 'IR', 'O', 'O', 'O', 'O', 'O', 'O'], ['BR', 'IR', 'IR', 'IR', 'IR', 'IR', 'IR', 'IR', 'O', 'O', 'O', 'O', 'O', 'O', 'O', 'O', 'O'], ['O', 'O', 'O', 'O', 'BR', 'IR', 'IR', 'IR', 'IR', 'IR', 'IR', 'IR', 'IR', 'IR', 'IR', 'IR', 'O', 'O', 'O'], ['O', 'O', 'O', 'O', 'O', 'O', 'O', 'O', 'O', 'BR', 'IR', 'IR', 'IR', 'IR', 'IR', 'O', 'O', 'BR'], ['O', 'O', 'O', 'BR', 'IR', 'IR', 'O', 'O', 'O', 'O', 'O', 'O', 'O', 'O', 'O', 'O', 'O', 'O', 'O', 'O', 'O', 'O', 'O'], ['BR', 'IR', 'IR', 'IR', 'O', 'O', 'O', 'O', 'O', 'O', 'O', 'O', 'O', 'O', 'O', 'O', 'O'], ['O', 'O', 'O', 'BR', 'IR', 'IR', 'IR', 'IR', 'IR', 'IR', 'IR', 'IR', 'IR', 'IR', 'IR'], ['O', 'O', 'O', 'O', 'O', 'O', 'O', 'BR', 'IR', 'IR', 'O', 'O', 'O'], ['O', 'O', 'O', 'O', 'O', 'O', 'BR', 'IR', 'O', 'O', 'O', 'O', 'O', 'O'], ['BR', 'IR', 'IR', 'IR', 'O', 'O', 'O', 'O', 'O', 'O', 'O', 'O', 'O', 'O', 'O', 'O'], ['O', 'O', 'O', 'O', 'BR', 'IR', 'IR', 'O', 'BR', 'IR', 'IR', 'IR', 'IR', 'IR', 'IR', 'IR', 'IR', 'IR', 'IR', 'IR', 'IR', 'IR', 'IR', 'IR', 'O', 'BR', 'IR', 'IR'], ['O', 'BR', 'IR', 'IR', 'IR', 'IR', 'IR', 'IR', 'IR', 'IR', 'IR', 'IR', 'IR', 'IR', 'IR', 'IR'], ['O', 'O', 'BR', 'IR', 'IR', 'O', 'O', 'O', 'O', 'O', 'O', 'O'], ['BR', 'IR', 'IR', 'O', 'O', 'O', 'O', 'O', 'O', 'O', 'O', 'O', 'O', 'O', 'O', 'O'], ['O', 'BR', 'IR', 'O', 'O', 'O', 'O', 'O', 'O', 'O', 'O', 'O', 'O', 'O', 'O'], ['O', 'BR', 'IR', 'IR', 'IR', 'O', 'O', 'O', 'O', 'O', 'O', 'O', 'O', 'O'], ['O', 'O', 'O', 'O', 'O', 'O', 'O', 'O', 'O', 'O', 'BR', 'IR', 'IR', 'IR', 'IR', 'IR', 'O', 'O', 'O', 'O', 'O'], ['O', 'O', 'O', 'O', 'BR', 'IR', 'IR', 'IR', 'IR', 'IR', 'IR', 'IR', 'IR', 'IR', 'IR', 'O', 'O'], ['O', 'O', 'O', 'O', 'O', 'O', 'O', 'O', 'O', 'BR', 'IR', 'IR', 'IR', 'IR', 'IR', 'IR', 'IR', 'IR', 'IR', 'IR', 'IR'], ['O', 'O', 'O', 'O', 'O', 'O', 'BR', 'IR', 'IR', 'O', 'O', 'O', 'O', 'O', 'O'], ['BR', 'IR', 'IR', 'IR', 'O', 'O', 'O', 'O', 'O', 'O', 'O', 'O', 'O', 'O', 'O', 'O', 'O', 'O'], ['O', 'BR', 'IR', 'IR', 'IR', 'IR', 'IR', 'IR', 'IR', 'IR', 'IR', 'IR', 'IR', 'IR', 'IR', 'IR', 'IR', 'IR', 'IR', 'IR', 'O', 'O'], ['O', 'O', 'BR', 'IR', 'IR', 'IR', 'IR', 'IR', 'IR', 'IR', 'IR', 'IR', 'IR', 'IR', 'IR', 'IR', 'IR', 'IR', 'O'], ['BR', 'IR', 'IR', 'IR', 'O', 'O', 'O', 'O', 'O', 'O', 'O', 'O', 'O', 'O', 'O', 'O'], ['O', 'O', 'O', 'O', 'O', 'O', 'O', 'O', 'BR', 'IR', 'IR', 'IR', 'IR', 'O', 'O', 'O', 'O'], ['O', 'O', 'O', 'O', 'BR', 'IR', 'IR', 'IR', 'IR', 'IR', 'IR', 'IR', 'IR', 'IR', 'IR', 'IR', 'O', 'O', 'O', 'O', 'O', 'O', 'O', 'O', 'O', 'O', 'BR'], ['O', 'O', 'O', 'O', 'BR', 'IR', 'IR', 'O', 'O', 'O', 'O', 'O', 'O', 'O', 'O', 'O'], ['BR', 'IR', 'IR', 'IR', 'IR', 'O', 'O', 'O', 'O', 'O', 'O', 'O', 'O', 'O', 'O', 'O', 'O'], ['O', 'O', 'O', 'O', 'BR', 'IR', 'IR', 'IR', 'IR', 'IR', 'IR', 'IR', 'IR', 'IR', 'O', 'BR', 'IR'], ['O', 'O', 'O', 'O', 'O', 'O', 'O', 'O', 'BR', 'IR', 'IR', 'IR', 'IR', 'IR', 'IR', 'IR', 'IR', 'IR', 'IR', 'IR', 'IR', 'IR'], ['O', 'O', 'O', 'O', 'O', 'O', 'O', 'O', 'BR', 'IR', 'IR', 'O', 'O', 'O', 'O'], ['BR', 'IR', 'IR', 'IR', 'IR', 'IR', 'O', 'O', 'O', 'O', 'O', 'O', 'O', 'O', 'O', 'O', 'O', 'O', 'O'], ['BR', 'IR', 'IR', 'O', 'O', 'O', 'O', 'O', 'O', 'O', 'O', 'O'], ['O', 'O', 'O', 'BR', 'IR', 'IR', 'O', 'O', 'O', 'O', 'O', 'O', 'O', 'O', 'O', 'O', 'O'], ['BR', 'IR', 'IR', 'IR', 'O', 'O', 'O', 'O', 'O', 'O', 'O', 'O', 'O', 'O', 'O', 'O', 'O', 'O', 'O'], ['O', 'O', 'O', 'BR', 'IR', 'IR', 'IR', 'O', 'O', 'O', 'O', 'O', 'O', 'O', 'O', 'O', 'O', 'O'], ['O', 'O', 'O', 'O', 'O', 'BR', 'IR', 'O', 'O', 'O', 'O', 'O', 'O'], ['O', 'O', 'O', 'O', 'O', 'O', 'O', 'O', 'BR', 'IR', 'IR', 'IR', 'O', 'O', 'O', 'O', 'O'], ['O', 'O', 'O', 'O', 'BR', 'IR', 'IR', 'IR', 'IR', 'IR', 'IR', 'IR', 'IR', 'IR', 'IR', 'O'], ['O', 'O', 'BR', 'IR', 'IR', 'O', 'O', 'O', 'O', 'O', 'O', 'O', 'O', 'O'], ['O', 'O', 'BR', 'IR', 'IR', 'O', 'O', 'O', 'O', 'O', 'O', 'O'], ['BR', 'IR', 'IR', 'O', 'O', 'O', 'O', 'O', 'O'], ['BR', 'IR', 'IR', 'IR', 'IR', 'IR', 'IR', 'IR', 'IR', 'IR', 'O', 'BR', 'IR', 'IR', 'IR', 'IR', 'IR', 'IR', 'IR', 'IR', 'IR', 'O', 'O', 'BR', 'IR', 'IR', 'IR', 'IR', 'IR', 'IR', 'IR', 'IR', 'IR', 'IR'], ['O', 'O', 'BR', 'IR', 'IR', 'IR', 'IR', 'O', 'O'], ['BR', 'IR', 'IR', 'IR', 'IR', 'O', 'O', 'O', 'O', 'O', 'O', 'O', 'O', 'O', 'O'], ['O', 'O', 'O', 'O', 'O', 'O', 'O', 'O', 'BR', 'IR', 'IR', 'IR', 'IR', 'IR', 'IR', 'IR', 'O'], ['O', 'O', 'BR', 'O', 'BR', 'IR', 'IR', 'IR', 'IR', 'IR', 'IR', 'IR'], ['O', 'O', 'O', 'O', 'O', 'O', 'O', 'BR', 'IR', 'IR', 'IR', 'IR', 'IR', 'O', 'O'], ['BR', 'IR', 'IR', 'IR', 'IR', 'IR', 'O', 'O', 'O', 'O', 'O', 'O', 'O', 'O', 'O', 'O', 'O', 'O', 'O', 'O', 'O', 'O', 'O', 'O'], ['O', 'O', 'O', 'BR', 'IR', 'IR', 'IR', 'IR', 'O', 'O', 'O', 'O', 'O', 'O', 'O', 'O', 'O', 'O', 'O'], ['O', 'O', 'O', 'O', 'O', 'O', 'O', 'O', 'O', 'O', 'BR', 'IR', 'IR', 'IR', 'IR', 'IR', 'O', 'O'], ['O', 'O', 'O', 'O', 'BR', 'IR', 'IR', 'IR', 'IR', 'IR', 'IR', 'IR', 'O', 'O', 'O'], ['BR', 'IR', 'IR', 'IR', 'IR', 'O', 'O', 'O', 'O', 'O', 'O', 'O', 'O', 'O', 'O'], ['BR', 'IR', 'IR', 'IR', 'IR', 'IR', 'IR', 'O', 'O', 'BR', 'IR', 'IR', 'IR', 'IR', 'IR', 'IR', 'IR'], ['O', 'O', 'BR', 'IR', 'IR', 'IR', 'IR', 'IR', 'IR', 'O', 'O', 'O', 'O', 'O', 'O'], ['BR', 'IR', 'IR', 'IR', 'O', 'O', 'O', 'O', 'O', 'O', 'O', 'O', 'O', 'O', 'O', 'O'], ['O', 'BR', 'IR', 'IR', 'IR', 'IR', 'IR', 'IR', 'IR', 'IR', 'IR', 'IR', 'IR', 'IR', 'IR', 'IR', 'IR', 'IR', 'O', 'BR', 'IR'], ['O', 'O', 'O', 'O', 'BR', 'IR', 'O', 'O', 'O', 'O', 'O', 'O', 'O', 'O', 'O', 'O', 'O'], ['O', 'O', 'O', 'O', 'O', 'O', 'O', 'O', 'BR', 'IR', 'IR', 'IR', 'IR', 'IR', 'O', 'O'], ['BR', 'IR', 'IR', 'IR', 'IR', 'O', 'O', 'O', 'O', 'O', 'O', 'O', 'O', 'O', 'O', 'O', 'O', 'O', 'O'], ['O', 'O', 'BR', 'IR', 'IR', 'O', 'O', 'O', 'O', 'O', 'O', 'O', 'O', 'O'], ['O', 'O', 'O', 'O', 'O', 'O', 'O', 'BR', 'IR', 'IR', 'IR', 'IR', 'IR', 'IR', 'O', 'O'], ['O', 'O', 'O', 'O', 'O', 'O', 'O', 'BR', 'IR', 'IR', 'IR', 'IR', 'O'], ['O', 'O', 'O', 'O', 'O', 'O', 'O', 'O', 'BR', 'IR', 'O', 'O', 'O'], ['O', 'O', 'O', 'O', 'BR', 'IR', 'IR', 'IR', 'IR', 'IR', 'IR', 'IR', 'IR', 'IR', 'IR', 'O', 'O', 'O'], ['O', 'O', 'BR', 'IR', 'IR', 'IR', 'O', 'O', 'O', 'O', 'O', 'O', 'O', 'O', 'O', 'O'], ['O', 'O', 'BR', 'IR', 'IR', 'IR', 'IR', 'IR', 'IR', 'IR', 'IR', 'IR', 'IR', 'O', 'BR', 'IR'], ['O', 'O', 'O', 'BR', 'IR', 'IR', 'O', 'O', 'O', 'O', 'O', 'O', 'O', 'O', 'O', 'O'], ['O', 'BR', 'IR', 'IR', 'O', 'O', 'O', 'O', 'O', 'O', 'O'], ['O', 'O', 'O', 'O', 'O', 'O', 'BR', 'IR', 'IR', 'IR', 'IR', 'O', 'O'], ['O', 'O', 'O', 'O', 'BR', 'IR', 'IR', 'IR', 'IR', 'O', 'O', 'O', 'O'], ['O', 'O', 'O', 'O', 'O', 'O', 'O', 'O', 'BR', 'IR', 'O'], ['O', 'O', 'O', 'O', 'O', 'O', 'O', 'BR', 'IR', 'IR', 'IR', 'IR', 'IR', 'O', 'O'], ['O', 'O', 'O', 'BR', 'IR', 'IR', 'IR', 'IR', 'IR', 'IR', 'IR', 'O'], ['BR', 'IR', 'IR', 'IR', 'O', 'O', 'O', 'O', 'O', 'O', 'O', 'O', 'O', 'O'], ['O', 'O', 'O', 'BR', 'IR', 'O', 'O', 'O'], ['BR', 'IR', 'IR', 'IR', 'O', 'O', 'O', 'O', 'O', 'O', 'O', 'O', 'O', 'O', 'O', 'O'], ['BR', 'IR', 'IR', 'O', 'O', 'O', 'O', 'O', 'O', 'O', 'O', 'O', 'O', 'O', 'O', 'O', 'O', 'O'], ['O', 'O', 'BR', 'IR', 'IR', 'IR', 'IR', 'IR', 'IR', 'IR', 'IR', 'O', 'O', 'O', 'O', 'O', 'O', 'O', 'O', 'O', 'O', 'O', 'O', 'O'], ['O', 'O', 'O', 'O', 'BR', 'IR', 'IR', 'IR', 'IR', 'O', 'O', 'O', 'O', 'O', 'O', 'O', 'O', 'O', 'O', 'O', 'O', 'O', 'O', 'O', 'O'], ['O', 'O', 'O', 'O', 'O', 'O', 'O', 'O', 'O', 'BR', 'IR', 'IR', 'IR', 'IR', 'IR', 'IR', 'IR', 'O', 'BR', 'IR', 'IR'], ['O', 'O', 'BR', 'IR', 'IR', 'O', 'O', 'O', 'O', 'O', 'O', 'O', 'O', 'O', 'O', 'O', 'O', 'O', 'O'], ['O', 'BR', 'IR', 'IR', 'IR', 'IR', 'IR', 'O', 'O', 'O', 'O', 'O', 'O', 'O', 'O'], ['BR', 'IR', 'IR', 'IR', 'IR', 'IR', 'IR', 'IR', 'IR', 'IR', 'IR', 'IR', 'IR', 'IR', 'IR'], ['BR', 'IR', 'IR', 'IR', 'IR', 'IR', 'IR', 'IR', 'IR', 'IR', 'IR', 'IR', 'IR', 'IR', 'IR', 'IR', 'IR', 'IR', 'O', 'O', 'O', 'O', 'O', 'O', 'BR', 'IR', 'IR', 'IR', 'IR', 'IR', 'IR', 'IR', 'IR'], ['BR', 'IR', 'O', 'O', 'O', 'O', 'O', 'O', 'O'], ['O', 'BR', 'IR', 'IR', 'O', 'O', 'O', 'O', 'O', 'O', 'O', 'O', 'O'], ['O', 'BR', 'IR', 'IR', 'IR', 'IR', 'O', 'BR', 'IR', 'IR', 'IR', 'IR', 'IR', 'IR', 'IR'], ['O', 'O', 'O', 'O', 'O', 'O', 'BR', 'IR', 'IR', 'IR', 'IR', 'O', 'O', 'O', 'O', 'O', 'O', 'O', 'O', 'O', 'O', 'O'], ['O', 'BR', 'IR', 'O', 'O', 'O', 'O', 'O', 'O', 'O', 'O', 'O', 'O', 'O'], ['O', 'O', 'O', 'O', 'BR', 'IR', 'IR', 'IR', 'IR', 'IR'], ['O', 'O', 'O', 'BR', 'IR', 'IR', 'IR', 'IR', 'IR', 'IR', 'IR', 'IR', 'IR', 'IR', 'IR', 'IR', 'IR', 'IR'], ['BR', 'IR', 'IR', 'IR', 'IR', 'O', 'O', 'O', 'O', 'O', 'O', 'O', 'O', 'O', 'O', 'O'], ['BR', 'IR', 'O', 'O', 'BR', 'IR', 'IR', 'O', 'O', 'O', 'O', 'O', 'O', 'O', 'O', 'O'], ['O', 'BR', 'IR', 'IR', 'IR', 'IR', 'O', 'O', 'O', 'O', 'O'], ['O', 'O', 'O', 'BR', 'IR', 'IR', 'IR', 'IR', 'O', 'O', 'O'], ['BR', 'IR', 'IR', 'IR', 'IR', 'IR', 'O', 'O', 'BR', 'IR'], ['O', 'O', 'O', 'O', 'O', 'BR', 'IR', 'IR', 'IR', 'IR', 'IR', 'IR', 'IR', 'IR', 'IR', 'IR', 'IR', 'IR', 'IR', 'IR', 'O', 'O', 'O', 'O', 'O'], ['O', 'O', 'O', 'O', 'O', 'BR', 'IR', 'IR', 'O', 'O', 'O', 'O'], ['BR', 'IR', 'IR', 'IR', 'IR', 'O', 'O', 'O', 'O', 'O', 'O', 'O', 'O', 'O', 'O', 'O', 'O', 'O', 'O'], ['O', 'BR', 'IR', 'IR', 'O', 'O', 'O', 'O', 'O', 'O', 'O', 'O', 'O', 'O', 'O', 'O', 'O', 'O', 'O'], ['O', 'O', 'O', 'O', 'O', 'O', 'BR', 'IR', 'IR', 'IR', 'IR', 'IR', 'IR', 'IR', 'IR', 'IR', 'IR', 'O', 'BR'], ['O', 'BR', 'IR', 'IR', 'IR', 'IR', 'IR', 'IR', 'IR', 'IR', 'O', 'O', 'O', 'O', 'O', 'O', 'O', 'O', 'O', 'O', 'O', 'O'], ['O', 'O', 'O', 'O', 'O', 'O', 'BR', 'IR', 'O', 'O', 'O', 'O'], ['O', 'O', 'O', 'O', 'BR', 'IR', 'IR', 'O', 'O', 'O', 'O', 'O', 'O'], ['O', 'O', 'BR', 'IR', 'IR', 'IR', 'IR', 'IR', 'IR', 'O', 'O', 'O', 'O', 'O', 'O', 'O', 'O', 'O', 'O'], ['O', 'O', 'BR', 'IR', 'O', 'O', 'O', 'O', 'O', 'O', 'O', 'O', 'O', 'O'], ['O', 'O', 'O', 'O', 'O', 'O', 'O', 'O', 'O', 'O', 'O', 'BR', 'IR', 'IR', 'IR', 'O'], ['O', 'O', 'O', 'BR', 'IR', 'IR', 'O', 'O', 'O', 'O', 'O', 'O', 'O', 'O', 'O', 'O', 'O', 'O'], ['BR', 'IR', 'IR', 'IR', 'IR', 'IR', 'IR', 'IR', 'IR', 'IR', 'IR', 'IR', 'O', 'O', 'O', 'O', 'O', 'O', 'O', 'BR', 'IR'], ['BR', 'IR', 'IR', 'IR', 'IR', 'IR', 'O', 'O', 'O', 'BR', 'IR', 'IR', 'IR'], ['O', 'O', 'O', 'O', 'BR', 'IR', 'IR', 'O', 'O', 'O', 'O', 'O', 'O', 'O', 'O', 'O', 'O'], ['O', 'O', 'O', 'O', 'BR', 'IR', 'IR', 'IR', 'IR', 'IR', 'O', 'BR', 'IR', 'IR', 'IR', 'IR', 'IR'], ['BR', 'IR', 'O', 'O', 'O', 'O', 'O', 'O', 'O', 'O', 'O'], ['O', 'O', 'BR', 'IR', 'IR', 'O', 'O', 'O', 'O', 'O'], ['BR', 'IR', 'IR', 'IR', 'IR', 'O', 'O', 'O', 'O', 'O', 'O', 'O', 'O', 'O'], ['O', 'O', 'O', 'O', 'O', 'O', 'O', 'O', 'O', 'O', 'O', 'O', 'O', 'BR', 'IR', 'IR', 'O'], ['BR', 'IR', 'IR', 'IR', 'O', 'O', 'O', 'O', 'O', 'O', 'O', 'O', 'O', 'O'], ['BR', 'IR', 'IR', 'IR', 'O', 'O', 'O', 'O', 'O', 'O', 'O', 'O', 'O', 'O', 'O', 'O', 'O', 'O', 'O', 'O', 'O'], ['O', 'O', 'O', 'O', 'O', 'O', 'O', 'BR', 'IR', 'O', 'O', 'O', 'O', 'O', 'O', 'O', 'O', 'O', 'O'], ['O', 'O', 'O', 'O', 'O', 'O', 'BR', 'IR', 'IR', 'IR', 'IR', 'IR', 'IR', 'IR', 'IR', 'IR', 'IR', 'IR', 'O', 'O', 'O', 'O', 'O', 'O', 'O', 'O', 'O', 'O', 'O'], ['O', 'O', 'O', 'BR', 'IR', 'IR', 'IR', 'IR', 'IR', 'IR', 'IR', 'IR', 'IR', 'IR', 'IR', 'IR', 'O', 'O', 'O', 'O', 'O', 'O', 'O', 'O', 'O', 'O', 'O'], ['O', 'BR', 'IR', 'IR', 'IR', 'IR', 'IR', 'IR', 'IR', 'IR', 'IR', 'IR', 'IR', 'IR', 'O', 'O', 'O', 'O', 'O', 'O', 'O', 'O', 'O', 'O', 'O'], ['BR', 'IR', 'IR', 'O', 'O', 'O', 'O', 'O', 'O', 'O', 'O'], ['O', 'O', 'O', 'BR', 'IR', 'IR', 'IR', 'O', 'BR', 'O', 'O', 'O'], ['BR', 'IR', 'IR', 'IR', 'O', 'O', 'O', 'O', 'O', 'O', 'O'], ['O', 'BR', 'IR', 'IR', 'IR', 'O', 'O', 'O', 'O', 'O', 'O', 'O', 'O', 'O'], ['O', 'O', 'O', 'BR', 'IR', 'IR', 'IR', 'IR', 'IR', 'IR', 'IR', 'IR', 'IR', 'IR', 'IR', 'IR', 'IR', 'IR', 'IR', 'IR', 'O', 'O', 'O', 'O', 'O', 'O', 'O'], ['O', 'BR', 'IR', 'IR', 'IR', 'IR', 'O', 'O', 'O', 'O', 'O', 'O', 'O', 'O', 'O', 'O'], ['O', 'O', 'O', 'O', 'O', 'BR', 'IR', 'IR', 'O', 'O', 'O', 'O', 'O', 'O', 'O'], ['O', 'O', 'O', 'O', 'O', 'O', 'O', 'O', 'O', 'O', 'BR', 'IR', 'IR', 'IR', 'IR', 'IR', 'IR', 'IR', 'IR', 'IR', 'IR', 'IR', 'IR', 'O', 'O', 'O', 'O'], ['O', 'O', 'O', 'O', 'O', 'O', 'BR', 'IR', 'IR', 'IR', 'O', 'O', 'O'], ['O', 'O', 'O', 'O', 'O', 'BR', 'IR', 'IR', 'IR', 'O', 'O', 'O', 'O', 'O'], ['BR', 'IR', 'IR', 'IR', 'IR', 'O', 'O', 'O', 'O', 'O', 'O', 'O', 'O', 'O', 'O', 'O'], ['O', 'O', 'O', 'O', 'O', 'BR', 'IR', 'IR', 'IR', 'IR', 'IR', 'IR', 'IR', 'IR', 'IR', 'IR', 'IR', 'IR', 'IR', 'O', 'BR', 'IR', 'IR', 'IR'], ['BR', 'IR', 'IR', 'IR', 'O', 'O', 'O', 'O', 'O', 'O', 'O', 'O', 'O', 'O'], ['O', 'O', 'O', 'O', 'O', 'O', 'O', 'O', 'O', 'O', 'O', 'BR', 'IR', 'IR', 'IR', 'IR', 'IR', 'IR', 'IR', 'IR', 'IR', 'IR', 'O', 'O', 'O'], ['O', 'O', 'O', 'O', 'O', 'O', 'O', 'O', 'O', 'O', 'O', 'O', 'O', 'O', 'O', 'O', 'BR', 'IR', 'IR', 'IR', 'IR', 'IR', 'O', 'O', 'O', 'O', 'O', 'O', 'O'], ['BR', 'IR', 'IR', 'IR', 'IR', 'IR', 'IR', 'IR', 'O', 'O', 'O', 'O', 'O', 'O', 'O', 'O', 'O', 'O', 'O', 'O', 'O'], ['O', 'BR', 'IR', 'IR', 'IR', 'IR', 'O', 'O', 'O', 'O', 'O', 'O', 'O', 'O', 'O', 'O', 'O', 'O'], ['O', 'O', 'O', 'BR', 'IR', 'IR', 'IR', 'IR', 'IR', 'IR', 'IR', 'O', 'O', 'O', 'O', 'O', 'O'], ['O', 'O', 'O', 'BR', 'IR', 'IR', 'IR', 'IR', 'O', 'O', 'O', 'O', 'O', 'O', 'O', 'O', 'O', 'O'], ['BR', 'IR', 'IR', 'IR', 'IR', 'IR', 'IR', 'IR', 'IR', 'IR', 'IR', 'IR', 'O', 'O', 'O', 'O', 'O', 'O', 'O', 'O', 'O', 'O', 'O', 'O'], ['O', 'O', 'O', 'O', 'O', 'O', 'BR', 'IR', 'IR', 'O', 'O', 'O'], ['BR', 'IR', 'IR', 'IR', 'IR', 'O', 'O', 'O', 'O', 'O', 'O', 'O', 'O'], ['O', 'O', 'O', 'BR', 'IR', 'IR', 'IR', 'IR', 'IR', 'IR', 'IR', 'IR', 'IR', 'IR', 'O'], ['O', 'O', 'O', 'BR', 'IR', 'IR', 'IR', 'IR', 'IR', 'O', 'O', 'O', 'O', 'O', 'O', 'O', 'O'], ['O', 'O', 'O', 'BR', 'IR', 'IR', 'IR', 'IR', 'O', 'O', 'O', 'O', 'O', 'O', 'O'], ['BR', 'IR', 'IR', 'O', 'O', 'O', 'O', 'O', 'O', 'O', 'O', 'O', 'O', 'O', 'O', 'O', 'O', 'O', 'O'], ['O', 'O', 'O', 'O', 'O', 'O', 'BR', 'IR', 'O', 'O', 'O', 'O', 'O'], ['O', 'O', 'O', 'O', 'O', 'O', 'O', 'BR', 'IR', 'O'], ['BR', 'IR', 'IR', 'IR', 'O', 'O', 'O', 'BR', 'IR'], ['O', 'BR', 'IR', 'IR', 'IR', 'IR', 'O', 'O', 'O', 'O', 'O', 'O', 'O', 'O', 'O', 'O', 'O', 'O', 'O', 'O'], ['BR', 'IR', 'IR', 'IR', 'IR', 'O', 'O', 'O', 'O', 'O', 'O', 'O', 'O', 'BR'], ['BR', 'IR', 'IR', 'IR', 'O', 'O', 'BR', 'IR', 'IR', 'IR', 'IR', 'IR', 'IR', 'IR', 'IR', 'O', 'BR', 'IR', 'O', 'O'], ['O', 'O', 'O', 'O', 'O', 'O', 'O', 'O', 'O', 'BR', 'IR', 'IR', 'IR', 'O', 'O', 'O', 'O', 'O', 'O'], ['BR', 'IR', 'IR', 'IR', 'IR', 'O', 'O', 'O', 'O', 'O', 'O', 'O', 'O'], ['O', 'O', 'O', 'O', 'O', 'O', 'O', 'O', 'O', 'O', 'O', 'BR', 'IR', 'IR', 'O', 'O'], ['BR', 'IR', 'IR', 'IR', 'IR', 'O', 'O', 'O', 'O', 'O', 'O', 'O', 'O', 'O'], ['BR', 'IR', 'IR', 'IR', 'O', 'O', 'O', 'O', 'O', 'O', 'O', 'O'], ['BR', 'IR', 'IR', 'IR', 'IR', 'IR', 'IR', 'IR', 'IR', 'IR', 'IR', 'IR', 'O', 'O', 'BR'], ['O', 'BR', 'IR', 'IR', 'IR', 'IR', 'O', 'O', 'O', 'O', 'O', 'O', 'O', 'O', 'O', 'O'], ['BR', 'IR', 'IR', 'IR', 'IR', 'IR', 'IR', 'IR', 'IR', 'IR'], ['BR', 'IR', 'IR', 'IR', 'IR', 'IR', 'IR', 'IR', 'IR', 'IR', 'IR', 'IR', 'IR', 'IR', 'IR', 'IR', 'IR', 'IR', 'O', 'O', 'BR', 'IR', 'IR', 'IR'], ['O', 'O', 'O', 'O', 'O', 'O', 'BR', 'IR', 'IR', 'O', 'O', 'O'], ['O', 'O', 'O', 'O', 'O', 'O', 'O', 'O', 'O', 'O', 'O', 'BR', 'IR', 'IR', 'IR', 'O', 'O'], ['O', 'O', 'O', 'O', 'O', 'O', 'O', 'O', 'O', 'O', 'O', 'O', 'O', 'O', 'O', 'BR', 'IR', 'IR', 'IR', 'IR', 'IR', 'O'], ['O', 'O', 'O', 'O', 'O', 'O', 'O', 'O', 'BR', 'IR', 'IR', 'O', 'O'], ['BR', 'IR', 'IR', 'IR', 'O', 'O', 'O', 'O', 'O', 'O', 'O', 'O', 'O', 'O', 'O', 'O', 'O', 'O', 'O', 'O'], ['O', 'O', 'O', 'BR', 'IR', 'IR', 'O', 'O', 'O', 'O', 'O', 'O', 'O', 'O', 'O'], ['O', 'O', 'O', 'BR', 'IR', 'IR', 'IR', 'IR', 'IR', 'IR', 'IR', 'IR', 'IR', 'IR', 'IR', 'O', 'O'], ['BR', 'IR', 'IR', 'IR', 'IR', 'IR', 'O', 'O', 'O', 'O', 'O', 'O', 'O', 'O', 'O', 'O'], ['BR', 'IR', 'IR', 'IR', 'O', 'O', 'O', 'O', 'BR', 'O', 'O', 'O', 'O', 'O', 'O', 'O', 'O', 'O'], ['BR'], ['O', 'O', 'BR', 'IR', 'IR', 'IR', 'IR', 'IR', 'O', 'O', 'O'], ['BR', 'IR', 'IR', 'IR', 'IR', 'IR', 'IR', 'IR', 'O', 'O', 'O', 'O', 'O', 'O', 'O', 'O', 'O', 'O', 'O', 'O', 'O'], ['BR', 'O', 'BR', 'IR', 'IR', 'O', 'O', 'O', 'O', 'O', 'O', 'O', 'O', 'O', 'O', 'O', 'O', 'O'], ['O', 'O', 'O', 'O', 'O', 'O', 'O', 'O', 'O', 'O', 'BR', 'IR', 'IR', 'IR', 'IR', 'IR', 'O', 'O', 'O', 'O', 'O', 'O', 'O', 'O'], ['BR', 'IR', 'IR', 'IR', 'O', 'O', 'O', 'O', 'O', 'O', 'O', 'O', 'O', 'O', 'O', 'O', 'O', 'O', 'O', 'O', 'O', 'O'], ['BR', 'IR', 'IR', 'IR', 'O', 'O', 'O', 'O', 'O', 'O', 'O', 'O', 'O', 'O', 'O', 'O', 'O', 'O', 'O', 'O'], ['BR', 'IR', 'IR', 'O', 'O', 'O', 'O', 'O', 'O', 'O', 'O', 'O', 'O', 'O', 'O', 'O', 'O'], ['BR', 'IR', 'O', 'O', 'O', 'O', 'O', 'O', 'O', 'O', 'O', 'O', 'O', 'O', 'O', 'O', 'O'], ['BR', 'IR', 'IR', 'IR', 'O', 'O', 'O', 'O', 'O', 'O', 'O', 'O', 'O', 'O'], ['O', 'O', 'O', 'O', 'O', 'O', 'O', 'O', 'BR', 'IR', 'IR', 'O', 'O', 'O'], ['BR', 'IR', 'IR', 'O', 'O', 'O', 'O', 'O', 'O', 'O', 'O', 'O', 'O'], ['O', 'O', 'O', 'O', 'O', 'O', 'O', 'O', 'O', 'O', 'O', 'O', 'O', 'BR', 'IR', 'IR', 'IR', 'IR', 'IR', 'IR', 'O', 'O', 'O', 'O', 'O'], ['BR', 'IR', 'IR', 'IR', 'IR', 'IR', 'O', 'O', 'O', 'O', 'O', 'O', 'O', 'O', 'O', 'O', 'O', 'O', 'O'], ['O', 'O', 'BR', 'IR', 'O', 'O', 'O', 'O', 'O', 'O', 'O', 'O', 'O', 'O', 'O', 'O', 'O'], ['O', 'BR', 'IR', 'IR', 'O', 'O', 'O', 'O', 'O', 'O', 'O', 'O', 'O', 'O', 'O', 'O', 'O', 'O'], ['O', 'O', 'O', 'O', 'O', 'O', 'BR', 'IR', 'O', 'O', 'O', 'O', 'O', 'O', 'O'], ['O', 'O', 'O', 'O', 'O', 'O', 'O', 'O', 'BR', 'IR', 'IR', 'O', 'O'], ['O', 'O', 'O', 'O', 'O', 'BR', 'IR', 'IR', 'O', 'O', 'O', 'O'], ['BR', 'IR', 'IR', 'O', 'O', 'O', 'O', 'O', 'O', 'O', 'O', 'O'], ['O', 'BR', 'IR', 'IR', 'IR', 'IR', 'IR', 'IR', 'IR', 'IR', 'IR', 'O'], ['O', 'O', 'O', 'O', 'BR', 'IR', 'IR', 'IR', 'IR', 'IR', 'O', 'O', 'O', 'O', 'O']]\n",
      "\n"
     ]
    },
    {
     "name": "stderr",
     "output_type": "stream",
     "text": [
      "/opt/conda/lib/python3.10/site-packages/seqeval/metrics/sequence_labeling.py:171: UserWarning: BR seems not to be NE tag.\n",
      "  warnings.warn('{} seems not to be NE tag.'.format(chunk))\n",
      "/opt/conda/lib/python3.10/site-packages/seqeval/metrics/sequence_labeling.py:171: UserWarning: IR seems not to be NE tag.\n",
      "  warnings.warn('{} seems not to be NE tag.'.format(chunk))\n"
     ]
    },
    {
     "name": "stdout",
     "output_type": "stream",
     "text": [
      "F1 score:  0.6380425832255028\n",
      "\n",
      "              precision    recall  f1-score   support\n",
      "\n",
      "           R       0.64      0.64      0.64      4255\n",
      "\n",
      "   micro avg       0.64      0.64      0.64      4255\n",
      "   macro avg       0.64      0.64      0.64      4255\n",
      "weighted avg       0.64      0.64      0.64      4255\n",
      "\n"
     ]
    }
   ],
   "source": [
    "#to calculate precision and recall\n",
    "# {0: 'B-br', 1: 'B-mo', 2: 'I-br', 3: 'I-mo', 4: 'O'}\n",
    "# {'B-br': 0, 'B-mo': 1, 'I-br': 2, 'I-mo': 3, 'O': 4}\n",
    "\n",
    "from sklearn.datasets import load_digits\n",
    "from sklearn.model_selection import train_test_split\n",
    "from sklearn.ensemble import RandomForestClassifier\n",
    "from sklearn.metrics import confusion_matrix\n",
    "import seaborn as sns\n",
    "import matplotlib.pyplot as plt\n",
    "from sklearn.metrics import accuracy_score, precision_score, recall_score, f1_score\n",
    "def evaluate(model, df_test):\n",
    "    \n",
    "    test_dataset = DataSequence(df_test)\n",
    "    test_dataloader = DataLoader(test_dataset, batch_size=1)\n",
    "\n",
    "    use_cuda = torch.cuda.is_available()\n",
    "    device = torch.device(\"cuda\" if use_cuda else \"cpu\")\n",
    "\n",
    "    if use_cuda:\n",
    "        model = model.cuda()\n",
    "\n",
    "    true_labels = []\n",
    "    predicted_labels = []\n",
    "    y_true=[]\n",
    "    y_pred=[]\n",
    "    for test_data, test_label in test_dataloader:\n",
    "\n",
    "        # print(test_data)\n",
    "        test_label = test_label.to(device)\n",
    "        mask = test_data['attention_mask'].squeeze(1).to(device)\n",
    "        input_id = test_data['input_ids'].squeeze(1).to(device)\n",
    "\n",
    "        loss, logits = model(input_id, mask, test_label)\n",
    "\n",
    "        for i in range(logits.shape[0]):\n",
    "            logits_clean = logits[i][test_label[i] != -100]\n",
    "            label_clean = test_label[i][test_label[i] != -100]\n",
    "            predictions = logits_clean.argmax(dim=1)\n",
    "            true_labels.extend(label_clean.cpu().numpy())\n",
    "            predicted_labels.extend(predictions.cpu().numpy())\n",
    "            # print(logits[i])\n",
    "            # print(label_clean.cpu().numpy())\n",
    "            y_true.append(label_clean.cpu().numpy().tolist())\n",
    "            y_pred.append(predictions.cpu().numpy().tolist())\n",
    "    \n",
    "    print(y_true)\n",
    "    for i in range(len(true_labels)):\n",
    "        true_labels[i] = ids_to_labels[true_labels[i]]\n",
    "\n",
    "    for i in range(len(predicted_labels)):\n",
    "        predicted_labels[i] = ids_to_labels[predicted_labels[i]]\n",
    "    \n",
    "    y_true_id=[]\n",
    "    y_pred_id=[]\n",
    "    for i in range(len(y_true)):\n",
    "        y_true_id.append([])\n",
    "        for j in range(len(y_true[i])):\n",
    "            y_true_id[i].append(ids_to_labels[y_true[i][j]])\n",
    "    \n",
    "    for i in range(len(y_pred)):\n",
    "        y_pred_id.append([])\n",
    "        for j in range(len(y_pred[i])):\n",
    "            y_pred_id[i].append(ids_to_labels[y_pred[i][j]])\n",
    "    \n",
    "    print(y_true_id)\n",
    "    \n",
    "    from seqeval.metrics import accuracy_score\n",
    "    from seqeval.metrics import classification_report\n",
    "    from seqeval.metrics import f1_score\n",
    "    print()\n",
    "    print(\"F1 score: \", f1_score(y_true_id, y_pred_id))\n",
    "    print()\n",
    "    print(classification_report(y_true_id, y_pred_id))\n",
    "\n",
    "\n",
    "evaluate(model, df_test)\n"
   ]
  },
  {
   "cell_type": "code",
   "execution_count": 14,
   "id": "b6f7e560",
   "metadata": {
    "execution": {
     "iopub.execute_input": "2023-11-24T19:39:00.836674Z",
     "iopub.status.busy": "2023-11-24T19:39:00.835803Z",
     "iopub.status.idle": "2023-11-24T19:39:00.878272Z",
     "shell.execute_reply": "2023-11-24T19:39:00.877379Z"
    },
    "papermill": {
     "duration": 0.404872,
     "end_time": "2023-11-24T19:39:00.880177",
     "exception": false,
     "start_time": "2023-11-24T19:39:00.475305",
     "status": "completed"
    },
    "tags": []
   },
   "outputs": [
    {
     "name": "stdout",
     "output_type": "stream",
     "text": [
      "Bosch 347 L Frost Free Double Door 3 Star Refrigerator model KDN43VL40I offers efficient cooling and ample storage space for your food and beverages.\n",
      "['BR', 'O', 'IR', 'IR', 'IR', 'O', 'O', 'O', 'O', 'O', 'O', 'O', 'O', 'O', 'O', 'O', 'O', 'O', 'O', 'O', 'IR', 'IR', 'IR', 'O', 'O']\n"
     ]
    }
   ],
   "source": [
    "def align_word_ids(texts):\n",
    "  \n",
    "    tokenized_inputs = tokenizer(texts, padding='max_length', max_length=512, truncation=True)\n",
    "\n",
    "    word_ids = tokenized_inputs.word_ids()\n",
    "\n",
    "    previous_word_idx = None\n",
    "    label_ids = []\n",
    "\n",
    "    for word_idx in word_ids:\n",
    "\n",
    "        if word_idx is None:\n",
    "            label_ids.append(-100)\n",
    "\n",
    "        elif word_idx != previous_word_idx:\n",
    "            try:\n",
    "                label_ids.append(1)\n",
    "            except:\n",
    "                label_ids.append(-100)\n",
    "        else:\n",
    "            try:\n",
    "                label_ids.append(1 if label_all_tokens else -100)\n",
    "            except:\n",
    "                label_ids.append(-100)\n",
    "        previous_word_idx = word_idx\n",
    "\n",
    "    return label_ids\n",
    "\n",
    "# Calculate output for a single sentence\n",
    "def evaluate_one_text(model, sentence):\n",
    "\n",
    "\n",
    "    use_cuda = torch.cuda.is_available()\n",
    "    device = torch.device(\"cuda\" if use_cuda else \"cpu\")\n",
    "\n",
    "    if use_cuda:\n",
    "        model = model.cuda()\n",
    "\n",
    "    text = tokenizer(sentence, padding='max_length', max_length = 512, truncation=True, return_tensors=\"pt\")\n",
    "\n",
    "    mask = text['attention_mask'].to(device)\n",
    "    input_id = text['input_ids'].to(device)\n",
    "    label_ids = torch.Tensor(align_word_ids(sentence)).unsqueeze(0).to(device)\n",
    "\n",
    "    logits = model(input_id, mask, None)\n",
    "    logits_clean = logits[0][label_ids != -100]\n",
    "\n",
    "    predictions = logits_clean.argmax(dim=1).tolist()\n",
    "    prediction_label = [ids_to_labels[i] for i in predictions]\n",
    "    print(sentence)\n",
    "    print(prediction_label)\n",
    "            \n",
    "evaluate_one_text(model, 'Bosch 347 L Frost Free Double Door 3 Star Refrigerator model KDN43VL40I offers efficient cooling and ample storage space for your food and beverages.')"
   ]
  },
  {
   "cell_type": "code",
   "execution_count": 15,
   "id": "e05f500e",
   "metadata": {
    "execution": {
     "iopub.execute_input": "2023-11-24T19:39:01.599157Z",
     "iopub.status.busy": "2023-11-24T19:39:01.598793Z",
     "iopub.status.idle": "2023-11-24T19:39:01.636127Z",
     "shell.execute_reply": "2023-11-24T19:39:01.635208Z"
    },
    "papermill": {
     "duration": 0.400697,
     "end_time": "2023-11-24T19:39:01.638072",
     "exception": false,
     "start_time": "2023-11-24T19:39:01.237375",
     "status": "completed"
    },
    "tags": []
   },
   "outputs": [
    {
     "name": "stdout",
     "output_type": "stream",
     "text": [
      "In the Midea MDRS619FGG28IND Frost-Free Side-by-Side Refrigerator, \"frost-free\" means the refrigerator does not have to be defrosted manually, as it has an auto-defrost feature.\n",
      "['O', 'O', 'O', 'O', 'IR', 'IR', 'O', 'IR', 'IR', 'IR', 'IR', 'IR', 'O', 'O', 'O', 'IR', 'IR', 'O', 'IR', 'O', 'O', 'O', 'O', 'O', 'O', 'O', 'O', 'O', 'O', 'IR', 'O', 'IR', 'O', 'O', 'O', 'IR', 'IR', 'IR', 'O']\n"
     ]
    }
   ],
   "source": [
    "evaluate_one_text(model, 'In the Midea MDRS619FGG28IND Frost-Free Side-by-Side Refrigerator, \"frost-free\" means the refrigerator does not have to be defrosted manually, as it has an auto-defrost feature.')"
   ]
  },
  {
   "cell_type": "code",
   "execution_count": 16,
   "id": "885952fc",
   "metadata": {
    "execution": {
     "iopub.execute_input": "2023-11-24T19:39:02.361856Z",
     "iopub.status.busy": "2023-11-24T19:39:02.361472Z",
     "iopub.status.idle": "2023-11-24T19:39:02.405372Z",
     "shell.execute_reply": "2023-11-24T19:39:02.404380Z"
    },
    "papermill": {
     "duration": 0.409071,
     "end_time": "2023-11-24T19:39:02.407319",
     "exception": false,
     "start_time": "2023-11-24T19:39:01.998248",
     "status": "completed"
    },
    "tags": []
   },
   "outputs": [
    {
     "name": "stdout",
     "output_type": "stream",
     "text": [
      "In the Midea MDRS619FGG28IND Frost Free Side by Side Refrigerator, the brand is listed as Midea and the model number is MDRS619FGG28IND.\n",
      "['O', 'O', 'O', 'BR', 'IR', 'O', 'IR', 'IR', 'O', 'O', 'IR', 'IR', 'IR', 'IR', 'IR', 'IR', 'IR', 'IR', 'IR', 'O', 'O', 'O', 'O', 'O']\n"
     ]
    }
   ],
   "source": [
    "evaluate_one_text(model, 'In the Midea MDRS619FGG28IND Frost Free Side by Side Refrigerator, the brand is listed as Midea and the model number is MDRS619FGG28IND.')"
   ]
  },
  {
   "cell_type": "code",
   "execution_count": 17,
   "id": "f0ad0427",
   "metadata": {
    "execution": {
     "iopub.execute_input": "2023-11-24T19:39:03.176804Z",
     "iopub.status.busy": "2023-11-24T19:39:03.175832Z",
     "iopub.status.idle": "2023-11-24T19:39:03.213527Z",
     "shell.execute_reply": "2023-11-24T19:39:03.212316Z"
    },
    "papermill": {
     "duration": 0.444887,
     "end_time": "2023-11-24T19:39:03.215733",
     "exception": false,
     "start_time": "2023-11-24T19:39:02.770846",
     "status": "completed"
    },
    "tags": []
   },
   "outputs": [
    {
     "name": "stdout",
     "output_type": "stream",
     "text": [
      "Whirlpool 240 L Frost Free Multi-Door Refrigerator (FP 263D PROTTON ROY, German Steel)\n",
      "['BR', 'O', 'O', 'IR', 'O', 'O', 'O', 'O', 'O', 'O', 'O', 'O', 'IR', 'IR', 'IR', 'IR', 'IR', 'IR']\n"
     ]
    }
   ],
   "source": [
    "evaluate_one_text(model, 'Whirlpool 240 L Frost Free Multi-Door Refrigerator (FP 263D PROTTON ROY, German Steel)')"
   ]
  },
  {
   "cell_type": "code",
   "execution_count": null,
   "id": "bdba973d",
   "metadata": {
    "execution": {
     "iopub.status.busy": "2023-11-23T09:12:15.054135Z",
     "iopub.status.idle": "2023-11-23T09:12:15.054517Z",
     "shell.execute_reply": "2023-11-23T09:12:15.054347Z",
     "shell.execute_reply.started": "2023-11-23T09:12:15.054330Z"
    },
    "papermill": {
     "duration": 0.362185,
     "end_time": "2023-11-24T19:39:03.940172",
     "exception": false,
     "start_time": "2023-11-24T19:39:03.577987",
     "status": "completed"
    },
    "tags": []
   },
   "outputs": [],
   "source": []
  }
 ],
 "metadata": {
  "kaggle": {
   "accelerator": "gpu",
   "dataSources": [
    {
     "datasetId": 4042399,
     "sourceId": 7028397,
     "sourceType": "datasetVersion"
    },
    {
     "datasetId": 4043013,
     "sourceId": 7029281,
     "sourceType": "datasetVersion"
    },
    {
     "datasetId": 4045862,
     "sourceId": 7033410,
     "sourceType": "datasetVersion"
    },
    {
     "datasetId": 4054175,
     "sourceId": 7045493,
     "sourceType": "datasetVersion"
    },
    {
     "datasetId": 4054233,
     "sourceId": 7045574,
     "sourceType": "datasetVersion"
    }
   ],
   "dockerImageVersionId": 30587,
   "isGpuEnabled": true,
   "isInternetEnabled": true,
   "language": "python",
   "sourceType": "notebook"
  },
  "kernelspec": {
   "display_name": "Python 3",
   "language": "python",
   "name": "python3"
  },
  "language_info": {
   "codemirror_mode": {
    "name": "ipython",
    "version": 3
   },
   "file_extension": ".py",
   "mimetype": "text/x-python",
   "name": "python",
   "nbconvert_exporter": "python",
   "pygments_lexer": "ipython3",
   "version": "3.10.12"
  },
  "papermill": {
   "default_parameters": {},
   "duration": 767.963382,
   "end_time": "2023-11-24T19:39:06.549951",
   "environment_variables": {},
   "exception": null,
   "input_path": "__notebook__.ipynb",
   "output_path": "__notebook__.ipynb",
   "parameters": {},
   "start_time": "2023-11-24T19:26:18.586569",
   "version": "2.4.0"
  },
  "widgets": {
   "application/vnd.jupyter.widget-state+json": {
    "state": {
     "07c864100da7491a9eb109647b03edfe": {
      "model_module": "@jupyter-widgets/controls",
      "model_module_version": "1.5.0",
      "model_name": "FloatProgressModel",
      "state": {
       "_dom_classes": [],
       "_model_module": "@jupyter-widgets/controls",
       "_model_module_version": "1.5.0",
       "_model_name": "FloatProgressModel",
       "_view_count": null,
       "_view_module": "@jupyter-widgets/controls",
       "_view_module_version": "1.5.0",
       "_view_name": "ProgressView",
       "bar_style": "success",
       "description": "",
       "description_tooltip": null,
       "layout": "IPY_MODEL_1a033ac7ce9e429887783436f1a4a48f",
       "max": 435755784,
       "min": 0,
       "orientation": "horizontal",
       "style": "IPY_MODEL_a32639dbeed544fda8006e207b8e68ae",
       "value": 435755784
      }
     },
     "0c2bec05d11244ea8ceb964612b182fd": {
      "model_module": "@jupyter-widgets/controls",
      "model_module_version": "1.5.0",
      "model_name": "ProgressStyleModel",
      "state": {
       "_model_module": "@jupyter-widgets/controls",
       "_model_module_version": "1.5.0",
       "_model_name": "ProgressStyleModel",
       "_view_count": null,
       "_view_module": "@jupyter-widgets/base",
       "_view_module_version": "1.2.0",
       "_view_name": "StyleView",
       "bar_color": null,
       "description_width": ""
      }
     },
     "1a033ac7ce9e429887783436f1a4a48f": {
      "model_module": "@jupyter-widgets/base",
      "model_module_version": "1.2.0",
      "model_name": "LayoutModel",
      "state": {
       "_model_module": "@jupyter-widgets/base",
       "_model_module_version": "1.2.0",
       "_model_name": "LayoutModel",
       "_view_count": null,
       "_view_module": "@jupyter-widgets/base",
       "_view_module_version": "1.2.0",
       "_view_name": "LayoutView",
       "align_content": null,
       "align_items": null,
       "align_self": null,
       "border": null,
       "bottom": null,
       "display": null,
       "flex": null,
       "flex_flow": null,
       "grid_area": null,
       "grid_auto_columns": null,
       "grid_auto_flow": null,
       "grid_auto_rows": null,
       "grid_column": null,
       "grid_gap": null,
       "grid_row": null,
       "grid_template_areas": null,
       "grid_template_columns": null,
       "grid_template_rows": null,
       "height": null,
       "justify_content": null,
       "justify_items": null,
       "left": null,
       "margin": null,
       "max_height": null,
       "max_width": null,
       "min_height": null,
       "min_width": null,
       "object_fit": null,
       "object_position": null,
       "order": null,
       "overflow": null,
       "overflow_x": null,
       "overflow_y": null,
       "padding": null,
       "right": null,
       "top": null,
       "visibility": null,
       "width": null
      }
     },
     "1a4630566d4d46318c946df2bb258719": {
      "model_module": "@jupyter-widgets/controls",
      "model_module_version": "1.5.0",
      "model_name": "FloatProgressModel",
      "state": {
       "_dom_classes": [],
       "_model_module": "@jupyter-widgets/controls",
       "_model_module_version": "1.5.0",
       "_model_name": "FloatProgressModel",
       "_view_count": null,
       "_view_module": "@jupyter-widgets/controls",
       "_view_module_version": "1.5.0",
       "_view_name": "ProgressView",
       "bar_style": "success",
       "description": "",
       "description_tooltip": null,
       "layout": "IPY_MODEL_5c9a5f8ab26b4b17b1b1f17b23d2d88d",
       "max": 435797,
       "min": 0,
       "orientation": "horizontal",
       "style": "IPY_MODEL_529ca7f7ed684f10a1c8086e2be6425c",
       "value": 435797
      }
     },
     "2102ca9242c0426c81d6c763f8a80459": {
      "model_module": "@jupyter-widgets/base",
      "model_module_version": "1.2.0",
      "model_name": "LayoutModel",
      "state": {
       "_model_module": "@jupyter-widgets/base",
       "_model_module_version": "1.2.0",
       "_model_name": "LayoutModel",
       "_view_count": null,
       "_view_module": "@jupyter-widgets/base",
       "_view_module_version": "1.2.0",
       "_view_name": "LayoutView",
       "align_content": null,
       "align_items": null,
       "align_self": null,
       "border": null,
       "bottom": null,
       "display": null,
       "flex": null,
       "flex_flow": null,
       "grid_area": null,
       "grid_auto_columns": null,
       "grid_auto_flow": null,
       "grid_auto_rows": null,
       "grid_column": null,
       "grid_gap": null,
       "grid_row": null,
       "grid_template_areas": null,
       "grid_template_columns": null,
       "grid_template_rows": null,
       "height": null,
       "justify_content": null,
       "justify_items": null,
       "left": null,
       "margin": null,
       "max_height": null,
       "max_width": null,
       "min_height": null,
       "min_width": null,
       "object_fit": null,
       "object_position": null,
       "order": null,
       "overflow": null,
       "overflow_x": null,
       "overflow_y": null,
       "padding": null,
       "right": null,
       "top": null,
       "visibility": null,
       "width": null
      }
     },
     "211701c8748b42e590a993937b823713": {
      "model_module": "@jupyter-widgets/controls",
      "model_module_version": "1.5.0",
      "model_name": "HBoxModel",
      "state": {
       "_dom_classes": [],
       "_model_module": "@jupyter-widgets/controls",
       "_model_module_version": "1.5.0",
       "_model_name": "HBoxModel",
       "_view_count": null,
       "_view_module": "@jupyter-widgets/controls",
       "_view_module_version": "1.5.0",
       "_view_name": "HBoxView",
       "box_style": "",
       "children": [
        "IPY_MODEL_83ccd37655d34564957006f30f40332f",
        "IPY_MODEL_c08948d2c2354c9696ce8d858b82b93a",
        "IPY_MODEL_c300f2c25cda42f194e844fa577a4867"
       ],
       "layout": "IPY_MODEL_f855fee0ef82499a99372d9d37dd4660"
      }
     },
     "267fdcb9b90649e8a9c4376a807b12ab": {
      "model_module": "@jupyter-widgets/controls",
      "model_module_version": "1.5.0",
      "model_name": "HBoxModel",
      "state": {
       "_dom_classes": [],
       "_model_module": "@jupyter-widgets/controls",
       "_model_module_version": "1.5.0",
       "_model_name": "HBoxModel",
       "_view_count": null,
       "_view_module": "@jupyter-widgets/controls",
       "_view_module_version": "1.5.0",
       "_view_name": "HBoxView",
       "box_style": "",
       "children": [
        "IPY_MODEL_81d1b82de1384146abb2c84e5bc1e375",
        "IPY_MODEL_47d66f2867434b7db51c1ca4d68af6ec",
        "IPY_MODEL_3de465e1f25846c69920681f9efe4e00"
       ],
       "layout": "IPY_MODEL_9464eca21cda4798ad6ca2ebb929ad1c"
      }
     },
     "2dd57d7a1fce46b6980bddf9171e5032": {
      "model_module": "@jupyter-widgets/controls",
      "model_module_version": "1.5.0",
      "model_name": "HTMLModel",
      "state": {
       "_dom_classes": [],
       "_model_module": "@jupyter-widgets/controls",
       "_model_module_version": "1.5.0",
       "_model_name": "HTMLModel",
       "_view_count": null,
       "_view_module": "@jupyter-widgets/controls",
       "_view_module_version": "1.5.0",
       "_view_name": "HTMLView",
       "description": "",
       "description_tooltip": null,
       "layout": "IPY_MODEL_6606551285394376b1de517e1b87dc23",
       "placeholder": "​",
       "style": "IPY_MODEL_894ce811860949a38c0d0ba3cfb1863f",
       "value": " 436M/436M [00:02&lt;00:00, 274MB/s]"
      }
     },
     "2f77827e630842e09948e750d03cd0fb": {
      "model_module": "@jupyter-widgets/base",
      "model_module_version": "1.2.0",
      "model_name": "LayoutModel",
      "state": {
       "_model_module": "@jupyter-widgets/base",
       "_model_module_version": "1.2.0",
       "_model_name": "LayoutModel",
       "_view_count": null,
       "_view_module": "@jupyter-widgets/base",
       "_view_module_version": "1.2.0",
       "_view_name": "LayoutView",
       "align_content": null,
       "align_items": null,
       "align_self": null,
       "border": null,
       "bottom": null,
       "display": null,
       "flex": null,
       "flex_flow": null,
       "grid_area": null,
       "grid_auto_columns": null,
       "grid_auto_flow": null,
       "grid_auto_rows": null,
       "grid_column": null,
       "grid_gap": null,
       "grid_row": null,
       "grid_template_areas": null,
       "grid_template_columns": null,
       "grid_template_rows": null,
       "height": null,
       "justify_content": null,
       "justify_items": null,
       "left": null,
       "margin": null,
       "max_height": null,
       "max_width": null,
       "min_height": null,
       "min_width": null,
       "object_fit": null,
       "object_position": null,
       "order": null,
       "overflow": null,
       "overflow_x": null,
       "overflow_y": null,
       "padding": null,
       "right": null,
       "top": null,
       "visibility": null,
       "width": null
      }
     },
     "331baffc8d944ab7bc95a8f829c7af1c": {
      "model_module": "@jupyter-widgets/controls",
      "model_module_version": "1.5.0",
      "model_name": "DescriptionStyleModel",
      "state": {
       "_model_module": "@jupyter-widgets/controls",
       "_model_module_version": "1.5.0",
       "_model_name": "DescriptionStyleModel",
       "_view_count": null,
       "_view_module": "@jupyter-widgets/base",
       "_view_module_version": "1.2.0",
       "_view_name": "StyleView",
       "description_width": ""
      }
     },
     "336746df5d0e4330b47d43f15c7e4784": {
      "model_module": "@jupyter-widgets/base",
      "model_module_version": "1.2.0",
      "model_name": "LayoutModel",
      "state": {
       "_model_module": "@jupyter-widgets/base",
       "_model_module_version": "1.2.0",
       "_model_name": "LayoutModel",
       "_view_count": null,
       "_view_module": "@jupyter-widgets/base",
       "_view_module_version": "1.2.0",
       "_view_name": "LayoutView",
       "align_content": null,
       "align_items": null,
       "align_self": null,
       "border": null,
       "bottom": null,
       "display": null,
       "flex": null,
       "flex_flow": null,
       "grid_area": null,
       "grid_auto_columns": null,
       "grid_auto_flow": null,
       "grid_auto_rows": null,
       "grid_column": null,
       "grid_gap": null,
       "grid_row": null,
       "grid_template_areas": null,
       "grid_template_columns": null,
       "grid_template_rows": null,
       "height": null,
       "justify_content": null,
       "justify_items": null,
       "left": null,
       "margin": null,
       "max_height": null,
       "max_width": null,
       "min_height": null,
       "min_width": null,
       "object_fit": null,
       "object_position": null,
       "order": null,
       "overflow": null,
       "overflow_x": null,
       "overflow_y": null,
       "padding": null,
       "right": null,
       "top": null,
       "visibility": null,
       "width": null
      }
     },
     "36200814e51045c3bd37c353ee55622e": {
      "model_module": "@jupyter-widgets/controls",
      "model_module_version": "1.5.0",
      "model_name": "HBoxModel",
      "state": {
       "_dom_classes": [],
       "_model_module": "@jupyter-widgets/controls",
       "_model_module_version": "1.5.0",
       "_model_name": "HBoxModel",
       "_view_count": null,
       "_view_module": "@jupyter-widgets/controls",
       "_view_module_version": "1.5.0",
       "_view_name": "HBoxView",
       "box_style": "",
       "children": [
        "IPY_MODEL_90dafa5901ce4987bc6c9c180a3d7d59",
        "IPY_MODEL_8378ea2a6acf42ecb37714a92f5a6b59",
        "IPY_MODEL_e449f314aa514747b8aa8a786210455a"
       ],
       "layout": "IPY_MODEL_991124b89dcd48acb5017e36c255fa1d"
      }
     },
     "396d33347eff45e9b8589ded66273e56": {
      "model_module": "@jupyter-widgets/base",
      "model_module_version": "1.2.0",
      "model_name": "LayoutModel",
      "state": {
       "_model_module": "@jupyter-widgets/base",
       "_model_module_version": "1.2.0",
       "_model_name": "LayoutModel",
       "_view_count": null,
       "_view_module": "@jupyter-widgets/base",
       "_view_module_version": "1.2.0",
       "_view_name": "LayoutView",
       "align_content": null,
       "align_items": null,
       "align_self": null,
       "border": null,
       "bottom": null,
       "display": null,
       "flex": null,
       "flex_flow": null,
       "grid_area": null,
       "grid_auto_columns": null,
       "grid_auto_flow": null,
       "grid_auto_rows": null,
       "grid_column": null,
       "grid_gap": null,
       "grid_row": null,
       "grid_template_areas": null,
       "grid_template_columns": null,
       "grid_template_rows": null,
       "height": null,
       "justify_content": null,
       "justify_items": null,
       "left": null,
       "margin": null,
       "max_height": null,
       "max_width": null,
       "min_height": null,
       "min_width": null,
       "object_fit": null,
       "object_position": null,
       "order": null,
       "overflow": null,
       "overflow_x": null,
       "overflow_y": null,
       "padding": null,
       "right": null,
       "top": null,
       "visibility": null,
       "width": null
      }
     },
     "3de465e1f25846c69920681f9efe4e00": {
      "model_module": "@jupyter-widgets/controls",
      "model_module_version": "1.5.0",
      "model_name": "HTMLModel",
      "state": {
       "_dom_classes": [],
       "_model_module": "@jupyter-widgets/controls",
       "_model_module_version": "1.5.0",
       "_model_name": "HTMLModel",
       "_view_count": null,
       "_view_module": "@jupyter-widgets/controls",
       "_view_module_version": "1.5.0",
       "_view_name": "HTMLView",
       "description": "",
       "description_tooltip": null,
       "layout": "IPY_MODEL_6bf818b639c647658b1760b563824a3c",
       "placeholder": "​",
       "style": "IPY_MODEL_755f03b7709c475095cbb90a5d92c331",
       "value": " 570/570 [00:00&lt;00:00, 50.6kB/s]"
      }
     },
     "40dbde90f33643a6a56a59615fbefff1": {
      "model_module": "@jupyter-widgets/base",
      "model_module_version": "1.2.0",
      "model_name": "LayoutModel",
      "state": {
       "_model_module": "@jupyter-widgets/base",
       "_model_module_version": "1.2.0",
       "_model_name": "LayoutModel",
       "_view_count": null,
       "_view_module": "@jupyter-widgets/base",
       "_view_module_version": "1.2.0",
       "_view_name": "LayoutView",
       "align_content": null,
       "align_items": null,
       "align_self": null,
       "border": null,
       "bottom": null,
       "display": null,
       "flex": null,
       "flex_flow": null,
       "grid_area": null,
       "grid_auto_columns": null,
       "grid_auto_flow": null,
       "grid_auto_rows": null,
       "grid_column": null,
       "grid_gap": null,
       "grid_row": null,
       "grid_template_areas": null,
       "grid_template_columns": null,
       "grid_template_rows": null,
       "height": null,
       "justify_content": null,
       "justify_items": null,
       "left": null,
       "margin": null,
       "max_height": null,
       "max_width": null,
       "min_height": null,
       "min_width": null,
       "object_fit": null,
       "object_position": null,
       "order": null,
       "overflow": null,
       "overflow_x": null,
       "overflow_y": null,
       "padding": null,
       "right": null,
       "top": null,
       "visibility": null,
       "width": null
      }
     },
     "42c5c4dc255c483da67cedff9954dbd9": {
      "model_module": "@jupyter-widgets/controls",
      "model_module_version": "1.5.0",
      "model_name": "DescriptionStyleModel",
      "state": {
       "_model_module": "@jupyter-widgets/controls",
       "_model_module_version": "1.5.0",
       "_model_name": "DescriptionStyleModel",
       "_view_count": null,
       "_view_module": "@jupyter-widgets/base",
       "_view_module_version": "1.2.0",
       "_view_name": "StyleView",
       "description_width": ""
      }
     },
     "47d66f2867434b7db51c1ca4d68af6ec": {
      "model_module": "@jupyter-widgets/controls",
      "model_module_version": "1.5.0",
      "model_name": "FloatProgressModel",
      "state": {
       "_dom_classes": [],
       "_model_module": "@jupyter-widgets/controls",
       "_model_module_version": "1.5.0",
       "_model_name": "FloatProgressModel",
       "_view_count": null,
       "_view_module": "@jupyter-widgets/controls",
       "_view_module_version": "1.5.0",
       "_view_name": "ProgressView",
       "bar_style": "success",
       "description": "",
       "description_tooltip": null,
       "layout": "IPY_MODEL_e243d5b7d2204d01910636c65acaf33a",
       "max": 570,
       "min": 0,
       "orientation": "horizontal",
       "style": "IPY_MODEL_682f0c681959490d8dae242866fd62c4",
       "value": 570
      }
     },
     "529ca7f7ed684f10a1c8086e2be6425c": {
      "model_module": "@jupyter-widgets/controls",
      "model_module_version": "1.5.0",
      "model_name": "ProgressStyleModel",
      "state": {
       "_model_module": "@jupyter-widgets/controls",
       "_model_module_version": "1.5.0",
       "_model_name": "ProgressStyleModel",
       "_view_count": null,
       "_view_module": "@jupyter-widgets/base",
       "_view_module_version": "1.2.0",
       "_view_name": "StyleView",
       "bar_color": null,
       "description_width": ""
      }
     },
     "5348437510da4b79aed8da319c0eb33c": {
      "model_module": "@jupyter-widgets/base",
      "model_module_version": "1.2.0",
      "model_name": "LayoutModel",
      "state": {
       "_model_module": "@jupyter-widgets/base",
       "_model_module_version": "1.2.0",
       "_model_name": "LayoutModel",
       "_view_count": null,
       "_view_module": "@jupyter-widgets/base",
       "_view_module_version": "1.2.0",
       "_view_name": "LayoutView",
       "align_content": null,
       "align_items": null,
       "align_self": null,
       "border": null,
       "bottom": null,
       "display": null,
       "flex": null,
       "flex_flow": null,
       "grid_area": null,
       "grid_auto_columns": null,
       "grid_auto_flow": null,
       "grid_auto_rows": null,
       "grid_column": null,
       "grid_gap": null,
       "grid_row": null,
       "grid_template_areas": null,
       "grid_template_columns": null,
       "grid_template_rows": null,
       "height": null,
       "justify_content": null,
       "justify_items": null,
       "left": null,
       "margin": null,
       "max_height": null,
       "max_width": null,
       "min_height": null,
       "min_width": null,
       "object_fit": null,
       "object_position": null,
       "order": null,
       "overflow": null,
       "overflow_x": null,
       "overflow_y": null,
       "padding": null,
       "right": null,
       "top": null,
       "visibility": null,
       "width": null
      }
     },
     "559aedbf28a04ddcbe6b7aa7350deac5": {
      "model_module": "@jupyter-widgets/controls",
      "model_module_version": "1.5.0",
      "model_name": "HTMLModel",
      "state": {
       "_dom_classes": [],
       "_model_module": "@jupyter-widgets/controls",
       "_model_module_version": "1.5.0",
       "_model_name": "HTMLModel",
       "_view_count": null,
       "_view_module": "@jupyter-widgets/controls",
       "_view_module_version": "1.5.0",
       "_view_name": "HTMLView",
       "description": "",
       "description_tooltip": null,
       "layout": "IPY_MODEL_876c57e5360047eeb3362cc4ec385ba3",
       "placeholder": "​",
       "style": "IPY_MODEL_42c5c4dc255c483da67cedff9954dbd9",
       "value": " 436k/436k [00:00&lt;00:00, 1.85MB/s]"
      }
     },
     "59ad37f4d70e4e42ba831db39eeefa45": {
      "model_module": "@jupyter-widgets/controls",
      "model_module_version": "1.5.0",
      "model_name": "DescriptionStyleModel",
      "state": {
       "_model_module": "@jupyter-widgets/controls",
       "_model_module_version": "1.5.0",
       "_model_name": "DescriptionStyleModel",
       "_view_count": null,
       "_view_module": "@jupyter-widgets/base",
       "_view_module_version": "1.2.0",
       "_view_name": "StyleView",
       "description_width": ""
      }
     },
     "5c9a5f8ab26b4b17b1b1f17b23d2d88d": {
      "model_module": "@jupyter-widgets/base",
      "model_module_version": "1.2.0",
      "model_name": "LayoutModel",
      "state": {
       "_model_module": "@jupyter-widgets/base",
       "_model_module_version": "1.2.0",
       "_model_name": "LayoutModel",
       "_view_count": null,
       "_view_module": "@jupyter-widgets/base",
       "_view_module_version": "1.2.0",
       "_view_name": "LayoutView",
       "align_content": null,
       "align_items": null,
       "align_self": null,
       "border": null,
       "bottom": null,
       "display": null,
       "flex": null,
       "flex_flow": null,
       "grid_area": null,
       "grid_auto_columns": null,
       "grid_auto_flow": null,
       "grid_auto_rows": null,
       "grid_column": null,
       "grid_gap": null,
       "grid_row": null,
       "grid_template_areas": null,
       "grid_template_columns": null,
       "grid_template_rows": null,
       "height": null,
       "justify_content": null,
       "justify_items": null,
       "left": null,
       "margin": null,
       "max_height": null,
       "max_width": null,
       "min_height": null,
       "min_width": null,
       "object_fit": null,
       "object_position": null,
       "order": null,
       "overflow": null,
       "overflow_x": null,
       "overflow_y": null,
       "padding": null,
       "right": null,
       "top": null,
       "visibility": null,
       "width": null
      }
     },
     "6203c1de6def495eac2afbacc155d128": {
      "model_module": "@jupyter-widgets/base",
      "model_module_version": "1.2.0",
      "model_name": "LayoutModel",
      "state": {
       "_model_module": "@jupyter-widgets/base",
       "_model_module_version": "1.2.0",
       "_model_name": "LayoutModel",
       "_view_count": null,
       "_view_module": "@jupyter-widgets/base",
       "_view_module_version": "1.2.0",
       "_view_name": "LayoutView",
       "align_content": null,
       "align_items": null,
       "align_self": null,
       "border": null,
       "bottom": null,
       "display": null,
       "flex": null,
       "flex_flow": null,
       "grid_area": null,
       "grid_auto_columns": null,
       "grid_auto_flow": null,
       "grid_auto_rows": null,
       "grid_column": null,
       "grid_gap": null,
       "grid_row": null,
       "grid_template_areas": null,
       "grid_template_columns": null,
       "grid_template_rows": null,
       "height": null,
       "justify_content": null,
       "justify_items": null,
       "left": null,
       "margin": null,
       "max_height": null,
       "max_width": null,
       "min_height": null,
       "min_width": null,
       "object_fit": null,
       "object_position": null,
       "order": null,
       "overflow": null,
       "overflow_x": null,
       "overflow_y": null,
       "padding": null,
       "right": null,
       "top": null,
       "visibility": null,
       "width": null
      }
     },
     "6606551285394376b1de517e1b87dc23": {
      "model_module": "@jupyter-widgets/base",
      "model_module_version": "1.2.0",
      "model_name": "LayoutModel",
      "state": {
       "_model_module": "@jupyter-widgets/base",
       "_model_module_version": "1.2.0",
       "_model_name": "LayoutModel",
       "_view_count": null,
       "_view_module": "@jupyter-widgets/base",
       "_view_module_version": "1.2.0",
       "_view_name": "LayoutView",
       "align_content": null,
       "align_items": null,
       "align_self": null,
       "border": null,
       "bottom": null,
       "display": null,
       "flex": null,
       "flex_flow": null,
       "grid_area": null,
       "grid_auto_columns": null,
       "grid_auto_flow": null,
       "grid_auto_rows": null,
       "grid_column": null,
       "grid_gap": null,
       "grid_row": null,
       "grid_template_areas": null,
       "grid_template_columns": null,
       "grid_template_rows": null,
       "height": null,
       "justify_content": null,
       "justify_items": null,
       "left": null,
       "margin": null,
       "max_height": null,
       "max_width": null,
       "min_height": null,
       "min_width": null,
       "object_fit": null,
       "object_position": null,
       "order": null,
       "overflow": null,
       "overflow_x": null,
       "overflow_y": null,
       "padding": null,
       "right": null,
       "top": null,
       "visibility": null,
       "width": null
      }
     },
     "682f0c681959490d8dae242866fd62c4": {
      "model_module": "@jupyter-widgets/controls",
      "model_module_version": "1.5.0",
      "model_name": "ProgressStyleModel",
      "state": {
       "_model_module": "@jupyter-widgets/controls",
       "_model_module_version": "1.5.0",
       "_model_name": "ProgressStyleModel",
       "_view_count": null,
       "_view_module": "@jupyter-widgets/base",
       "_view_module_version": "1.2.0",
       "_view_name": "StyleView",
       "bar_color": null,
       "description_width": ""
      }
     },
     "6bf818b639c647658b1760b563824a3c": {
      "model_module": "@jupyter-widgets/base",
      "model_module_version": "1.2.0",
      "model_name": "LayoutModel",
      "state": {
       "_model_module": "@jupyter-widgets/base",
       "_model_module_version": "1.2.0",
       "_model_name": "LayoutModel",
       "_view_count": null,
       "_view_module": "@jupyter-widgets/base",
       "_view_module_version": "1.2.0",
       "_view_name": "LayoutView",
       "align_content": null,
       "align_items": null,
       "align_self": null,
       "border": null,
       "bottom": null,
       "display": null,
       "flex": null,
       "flex_flow": null,
       "grid_area": null,
       "grid_auto_columns": null,
       "grid_auto_flow": null,
       "grid_auto_rows": null,
       "grid_column": null,
       "grid_gap": null,
       "grid_row": null,
       "grid_template_areas": null,
       "grid_template_columns": null,
       "grid_template_rows": null,
       "height": null,
       "justify_content": null,
       "justify_items": null,
       "left": null,
       "margin": null,
       "max_height": null,
       "max_width": null,
       "min_height": null,
       "min_width": null,
       "object_fit": null,
       "object_position": null,
       "order": null,
       "overflow": null,
       "overflow_x": null,
       "overflow_y": null,
       "padding": null,
       "right": null,
       "top": null,
       "visibility": null,
       "width": null
      }
     },
     "755f03b7709c475095cbb90a5d92c331": {
      "model_module": "@jupyter-widgets/controls",
      "model_module_version": "1.5.0",
      "model_name": "DescriptionStyleModel",
      "state": {
       "_model_module": "@jupyter-widgets/controls",
       "_model_module_version": "1.5.0",
       "_model_name": "DescriptionStyleModel",
       "_view_count": null,
       "_view_module": "@jupyter-widgets/base",
       "_view_module_version": "1.2.0",
       "_view_name": "StyleView",
       "description_width": ""
      }
     },
     "81d1b82de1384146abb2c84e5bc1e375": {
      "model_module": "@jupyter-widgets/controls",
      "model_module_version": "1.5.0",
      "model_name": "HTMLModel",
      "state": {
       "_dom_classes": [],
       "_model_module": "@jupyter-widgets/controls",
       "_model_module_version": "1.5.0",
       "_model_name": "HTMLModel",
       "_view_count": null,
       "_view_module": "@jupyter-widgets/controls",
       "_view_module_version": "1.5.0",
       "_view_name": "HTMLView",
       "description": "",
       "description_tooltip": null,
       "layout": "IPY_MODEL_6203c1de6def495eac2afbacc155d128",
       "placeholder": "​",
       "style": "IPY_MODEL_d34af68ef99e4102aeaae7e7871f9df9",
       "value": "Downloading config.json: 100%"
      }
     },
     "8378ea2a6acf42ecb37714a92f5a6b59": {
      "model_module": "@jupyter-widgets/controls",
      "model_module_version": "1.5.0",
      "model_name": "FloatProgressModel",
      "state": {
       "_dom_classes": [],
       "_model_module": "@jupyter-widgets/controls",
       "_model_module_version": "1.5.0",
       "_model_name": "FloatProgressModel",
       "_view_count": null,
       "_view_module": "@jupyter-widgets/controls",
       "_view_module_version": "1.5.0",
       "_view_name": "ProgressView",
       "bar_style": "success",
       "description": "",
       "description_tooltip": null,
       "layout": "IPY_MODEL_ff577223a8de488299c1cd47451e9dc2",
       "max": 29,
       "min": 0,
       "orientation": "horizontal",
       "style": "IPY_MODEL_0c2bec05d11244ea8ceb964612b182fd",
       "value": 29
      }
     },
     "83ccd37655d34564957006f30f40332f": {
      "model_module": "@jupyter-widgets/controls",
      "model_module_version": "1.5.0",
      "model_name": "HTMLModel",
      "state": {
       "_dom_classes": [],
       "_model_module": "@jupyter-widgets/controls",
       "_model_module_version": "1.5.0",
       "_model_name": "HTMLModel",
       "_view_count": null,
       "_view_module": "@jupyter-widgets/controls",
       "_view_module_version": "1.5.0",
       "_view_name": "HTMLView",
       "description": "",
       "description_tooltip": null,
       "layout": "IPY_MODEL_396d33347eff45e9b8589ded66273e56",
       "placeholder": "​",
       "style": "IPY_MODEL_a109d8143f834a6f896fb06a54e0dbc8",
       "value": "Downloading vocab.txt: 100%"
      }
     },
     "876c57e5360047eeb3362cc4ec385ba3": {
      "model_module": "@jupyter-widgets/base",
      "model_module_version": "1.2.0",
      "model_name": "LayoutModel",
      "state": {
       "_model_module": "@jupyter-widgets/base",
       "_model_module_version": "1.2.0",
       "_model_name": "LayoutModel",
       "_view_count": null,
       "_view_module": "@jupyter-widgets/base",
       "_view_module_version": "1.2.0",
       "_view_name": "LayoutView",
       "align_content": null,
       "align_items": null,
       "align_self": null,
       "border": null,
       "bottom": null,
       "display": null,
       "flex": null,
       "flex_flow": null,
       "grid_area": null,
       "grid_auto_columns": null,
       "grid_auto_flow": null,
       "grid_auto_rows": null,
       "grid_column": null,
       "grid_gap": null,
       "grid_row": null,
       "grid_template_areas": null,
       "grid_template_columns": null,
       "grid_template_rows": null,
       "height": null,
       "justify_content": null,
       "justify_items": null,
       "left": null,
       "margin": null,
       "max_height": null,
       "max_width": null,
       "min_height": null,
       "min_width": null,
       "object_fit": null,
       "object_position": null,
       "order": null,
       "overflow": null,
       "overflow_x": null,
       "overflow_y": null,
       "padding": null,
       "right": null,
       "top": null,
       "visibility": null,
       "width": null
      }
     },
     "894ce811860949a38c0d0ba3cfb1863f": {
      "model_module": "@jupyter-widgets/controls",
      "model_module_version": "1.5.0",
      "model_name": "DescriptionStyleModel",
      "state": {
       "_model_module": "@jupyter-widgets/controls",
       "_model_module_version": "1.5.0",
       "_model_name": "DescriptionStyleModel",
       "_view_count": null,
       "_view_module": "@jupyter-widgets/base",
       "_view_module_version": "1.2.0",
       "_view_name": "StyleView",
       "description_width": ""
      }
     },
     "89b19cc62068405e8dab6945ae801d88": {
      "model_module": "@jupyter-widgets/controls",
      "model_module_version": "1.5.0",
      "model_name": "HTMLModel",
      "state": {
       "_dom_classes": [],
       "_model_module": "@jupyter-widgets/controls",
       "_model_module_version": "1.5.0",
       "_model_name": "HTMLModel",
       "_view_count": null,
       "_view_module": "@jupyter-widgets/controls",
       "_view_module_version": "1.5.0",
       "_view_name": "HTMLView",
       "description": "",
       "description_tooltip": null,
       "layout": "IPY_MODEL_2f77827e630842e09948e750d03cd0fb",
       "placeholder": "​",
       "style": "IPY_MODEL_fa545e8278a7483189698343b6b94303",
       "value": "Downloading model.safetensors: 100%"
      }
     },
     "90dafa5901ce4987bc6c9c180a3d7d59": {
      "model_module": "@jupyter-widgets/controls",
      "model_module_version": "1.5.0",
      "model_name": "HTMLModel",
      "state": {
       "_dom_classes": [],
       "_model_module": "@jupyter-widgets/controls",
       "_model_module_version": "1.5.0",
       "_model_name": "HTMLModel",
       "_view_count": null,
       "_view_module": "@jupyter-widgets/controls",
       "_view_module_version": "1.5.0",
       "_view_name": "HTMLView",
       "description": "",
       "description_tooltip": null,
       "layout": "IPY_MODEL_94877243883a498a9defc2287056231b",
       "placeholder": "​",
       "style": "IPY_MODEL_e0781a6d2a96404792e3bca9bfcda9ad",
       "value": "Downloading tokenizer_config.json: 100%"
      }
     },
     "91d5b5ab63ce41aa9ded1d3dd4d3fd3e": {
      "model_module": "@jupyter-widgets/controls",
      "model_module_version": "1.5.0",
      "model_name": "HBoxModel",
      "state": {
       "_dom_classes": [],
       "_model_module": "@jupyter-widgets/controls",
       "_model_module_version": "1.5.0",
       "_model_name": "HBoxModel",
       "_view_count": null,
       "_view_module": "@jupyter-widgets/controls",
       "_view_module_version": "1.5.0",
       "_view_name": "HBoxView",
       "box_style": "",
       "children": [
        "IPY_MODEL_f3a72f17678b475c9a6bf4bf6a5b2545",
        "IPY_MODEL_1a4630566d4d46318c946df2bb258719",
        "IPY_MODEL_559aedbf28a04ddcbe6b7aa7350deac5"
       ],
       "layout": "IPY_MODEL_ac128b051f8849ee82a9fc6234dd0802"
      }
     },
     "9464eca21cda4798ad6ca2ebb929ad1c": {
      "model_module": "@jupyter-widgets/base",
      "model_module_version": "1.2.0",
      "model_name": "LayoutModel",
      "state": {
       "_model_module": "@jupyter-widgets/base",
       "_model_module_version": "1.2.0",
       "_model_name": "LayoutModel",
       "_view_count": null,
       "_view_module": "@jupyter-widgets/base",
       "_view_module_version": "1.2.0",
       "_view_name": "LayoutView",
       "align_content": null,
       "align_items": null,
       "align_self": null,
       "border": null,
       "bottom": null,
       "display": null,
       "flex": null,
       "flex_flow": null,
       "grid_area": null,
       "grid_auto_columns": null,
       "grid_auto_flow": null,
       "grid_auto_rows": null,
       "grid_column": null,
       "grid_gap": null,
       "grid_row": null,
       "grid_template_areas": null,
       "grid_template_columns": null,
       "grid_template_rows": null,
       "height": null,
       "justify_content": null,
       "justify_items": null,
       "left": null,
       "margin": null,
       "max_height": null,
       "max_width": null,
       "min_height": null,
       "min_width": null,
       "object_fit": null,
       "object_position": null,
       "order": null,
       "overflow": null,
       "overflow_x": null,
       "overflow_y": null,
       "padding": null,
       "right": null,
       "top": null,
       "visibility": null,
       "width": null
      }
     },
     "94877243883a498a9defc2287056231b": {
      "model_module": "@jupyter-widgets/base",
      "model_module_version": "1.2.0",
      "model_name": "LayoutModel",
      "state": {
       "_model_module": "@jupyter-widgets/base",
       "_model_module_version": "1.2.0",
       "_model_name": "LayoutModel",
       "_view_count": null,
       "_view_module": "@jupyter-widgets/base",
       "_view_module_version": "1.2.0",
       "_view_name": "LayoutView",
       "align_content": null,
       "align_items": null,
       "align_self": null,
       "border": null,
       "bottom": null,
       "display": null,
       "flex": null,
       "flex_flow": null,
       "grid_area": null,
       "grid_auto_columns": null,
       "grid_auto_flow": null,
       "grid_auto_rows": null,
       "grid_column": null,
       "grid_gap": null,
       "grid_row": null,
       "grid_template_areas": null,
       "grid_template_columns": null,
       "grid_template_rows": null,
       "height": null,
       "justify_content": null,
       "justify_items": null,
       "left": null,
       "margin": null,
       "max_height": null,
       "max_width": null,
       "min_height": null,
       "min_width": null,
       "object_fit": null,
       "object_position": null,
       "order": null,
       "overflow": null,
       "overflow_x": null,
       "overflow_y": null,
       "padding": null,
       "right": null,
       "top": null,
       "visibility": null,
       "width": null
      }
     },
     "9826d7fad799441784ac3c4b8004aa07": {
      "model_module": "@jupyter-widgets/controls",
      "model_module_version": "1.5.0",
      "model_name": "DescriptionStyleModel",
      "state": {
       "_model_module": "@jupyter-widgets/controls",
       "_model_module_version": "1.5.0",
       "_model_name": "DescriptionStyleModel",
       "_view_count": null,
       "_view_module": "@jupyter-widgets/base",
       "_view_module_version": "1.2.0",
       "_view_name": "StyleView",
       "description_width": ""
      }
     },
     "991124b89dcd48acb5017e36c255fa1d": {
      "model_module": "@jupyter-widgets/base",
      "model_module_version": "1.2.0",
      "model_name": "LayoutModel",
      "state": {
       "_model_module": "@jupyter-widgets/base",
       "_model_module_version": "1.2.0",
       "_model_name": "LayoutModel",
       "_view_count": null,
       "_view_module": "@jupyter-widgets/base",
       "_view_module_version": "1.2.0",
       "_view_name": "LayoutView",
       "align_content": null,
       "align_items": null,
       "align_self": null,
       "border": null,
       "bottom": null,
       "display": null,
       "flex": null,
       "flex_flow": null,
       "grid_area": null,
       "grid_auto_columns": null,
       "grid_auto_flow": null,
       "grid_auto_rows": null,
       "grid_column": null,
       "grid_gap": null,
       "grid_row": null,
       "grid_template_areas": null,
       "grid_template_columns": null,
       "grid_template_rows": null,
       "height": null,
       "justify_content": null,
       "justify_items": null,
       "left": null,
       "margin": null,
       "max_height": null,
       "max_width": null,
       "min_height": null,
       "min_width": null,
       "object_fit": null,
       "object_position": null,
       "order": null,
       "overflow": null,
       "overflow_x": null,
       "overflow_y": null,
       "padding": null,
       "right": null,
       "top": null,
       "visibility": null,
       "width": null
      }
     },
     "9bb840c9dae44a40af183ae826df78e4": {
      "model_module": "@jupyter-widgets/base",
      "model_module_version": "1.2.0",
      "model_name": "LayoutModel",
      "state": {
       "_model_module": "@jupyter-widgets/base",
       "_model_module_version": "1.2.0",
       "_model_name": "LayoutModel",
       "_view_count": null,
       "_view_module": "@jupyter-widgets/base",
       "_view_module_version": "1.2.0",
       "_view_name": "LayoutView",
       "align_content": null,
       "align_items": null,
       "align_self": null,
       "border": null,
       "bottom": null,
       "display": null,
       "flex": null,
       "flex_flow": null,
       "grid_area": null,
       "grid_auto_columns": null,
       "grid_auto_flow": null,
       "grid_auto_rows": null,
       "grid_column": null,
       "grid_gap": null,
       "grid_row": null,
       "grid_template_areas": null,
       "grid_template_columns": null,
       "grid_template_rows": null,
       "height": null,
       "justify_content": null,
       "justify_items": null,
       "left": null,
       "margin": null,
       "max_height": null,
       "max_width": null,
       "min_height": null,
       "min_width": null,
       "object_fit": null,
       "object_position": null,
       "order": null,
       "overflow": null,
       "overflow_x": null,
       "overflow_y": null,
       "padding": null,
       "right": null,
       "top": null,
       "visibility": null,
       "width": null
      }
     },
     "a109d8143f834a6f896fb06a54e0dbc8": {
      "model_module": "@jupyter-widgets/controls",
      "model_module_version": "1.5.0",
      "model_name": "DescriptionStyleModel",
      "state": {
       "_model_module": "@jupyter-widgets/controls",
       "_model_module_version": "1.5.0",
       "_model_name": "DescriptionStyleModel",
       "_view_count": null,
       "_view_module": "@jupyter-widgets/base",
       "_view_module_version": "1.2.0",
       "_view_name": "StyleView",
       "description_width": ""
      }
     },
     "a32639dbeed544fda8006e207b8e68ae": {
      "model_module": "@jupyter-widgets/controls",
      "model_module_version": "1.5.0",
      "model_name": "ProgressStyleModel",
      "state": {
       "_model_module": "@jupyter-widgets/controls",
       "_model_module_version": "1.5.0",
       "_model_name": "ProgressStyleModel",
       "_view_count": null,
       "_view_module": "@jupyter-widgets/base",
       "_view_module_version": "1.2.0",
       "_view_name": "StyleView",
       "bar_color": null,
       "description_width": ""
      }
     },
     "ac128b051f8849ee82a9fc6234dd0802": {
      "model_module": "@jupyter-widgets/base",
      "model_module_version": "1.2.0",
      "model_name": "LayoutModel",
      "state": {
       "_model_module": "@jupyter-widgets/base",
       "_model_module_version": "1.2.0",
       "_model_name": "LayoutModel",
       "_view_count": null,
       "_view_module": "@jupyter-widgets/base",
       "_view_module_version": "1.2.0",
       "_view_name": "LayoutView",
       "align_content": null,
       "align_items": null,
       "align_self": null,
       "border": null,
       "bottom": null,
       "display": null,
       "flex": null,
       "flex_flow": null,
       "grid_area": null,
       "grid_auto_columns": null,
       "grid_auto_flow": null,
       "grid_auto_rows": null,
       "grid_column": null,
       "grid_gap": null,
       "grid_row": null,
       "grid_template_areas": null,
       "grid_template_columns": null,
       "grid_template_rows": null,
       "height": null,
       "justify_content": null,
       "justify_items": null,
       "left": null,
       "margin": null,
       "max_height": null,
       "max_width": null,
       "min_height": null,
       "min_width": null,
       "object_fit": null,
       "object_position": null,
       "order": null,
       "overflow": null,
       "overflow_x": null,
       "overflow_y": null,
       "padding": null,
       "right": null,
       "top": null,
       "visibility": null,
       "width": null
      }
     },
     "c08948d2c2354c9696ce8d858b82b93a": {
      "model_module": "@jupyter-widgets/controls",
      "model_module_version": "1.5.0",
      "model_name": "FloatProgressModel",
      "state": {
       "_dom_classes": [],
       "_model_module": "@jupyter-widgets/controls",
       "_model_module_version": "1.5.0",
       "_model_name": "FloatProgressModel",
       "_view_count": null,
       "_view_module": "@jupyter-widgets/controls",
       "_view_module_version": "1.5.0",
       "_view_name": "ProgressView",
       "bar_style": "success",
       "description": "",
       "description_tooltip": null,
       "layout": "IPY_MODEL_336746df5d0e4330b47d43f15c7e4784",
       "max": 213450,
       "min": 0,
       "orientation": "horizontal",
       "style": "IPY_MODEL_db3918332343472b982525f5f92f33d3",
       "value": 213450
      }
     },
     "c300f2c25cda42f194e844fa577a4867": {
      "model_module": "@jupyter-widgets/controls",
      "model_module_version": "1.5.0",
      "model_name": "HTMLModel",
      "state": {
       "_dom_classes": [],
       "_model_module": "@jupyter-widgets/controls",
       "_model_module_version": "1.5.0",
       "_model_name": "HTMLModel",
       "_view_count": null,
       "_view_module": "@jupyter-widgets/controls",
       "_view_module_version": "1.5.0",
       "_view_name": "HTMLView",
       "description": "",
       "description_tooltip": null,
       "layout": "IPY_MODEL_2102ca9242c0426c81d6c763f8a80459",
       "placeholder": "​",
       "style": "IPY_MODEL_59ad37f4d70e4e42ba831db39eeefa45",
       "value": " 213k/213k [00:00&lt;00:00, 1.35MB/s]"
      }
     },
     "d2f487d6e6604799a7d398117c03d59e": {
      "model_module": "@jupyter-widgets/controls",
      "model_module_version": "1.5.0",
      "model_name": "HBoxModel",
      "state": {
       "_dom_classes": [],
       "_model_module": "@jupyter-widgets/controls",
       "_model_module_version": "1.5.0",
       "_model_name": "HBoxModel",
       "_view_count": null,
       "_view_module": "@jupyter-widgets/controls",
       "_view_module_version": "1.5.0",
       "_view_name": "HBoxView",
       "box_style": "",
       "children": [
        "IPY_MODEL_89b19cc62068405e8dab6945ae801d88",
        "IPY_MODEL_07c864100da7491a9eb109647b03edfe",
        "IPY_MODEL_2dd57d7a1fce46b6980bddf9171e5032"
       ],
       "layout": "IPY_MODEL_5348437510da4b79aed8da319c0eb33c"
      }
     },
     "d34af68ef99e4102aeaae7e7871f9df9": {
      "model_module": "@jupyter-widgets/controls",
      "model_module_version": "1.5.0",
      "model_name": "DescriptionStyleModel",
      "state": {
       "_model_module": "@jupyter-widgets/controls",
       "_model_module_version": "1.5.0",
       "_model_name": "DescriptionStyleModel",
       "_view_count": null,
       "_view_module": "@jupyter-widgets/base",
       "_view_module_version": "1.2.0",
       "_view_name": "StyleView",
       "description_width": ""
      }
     },
     "db3918332343472b982525f5f92f33d3": {
      "model_module": "@jupyter-widgets/controls",
      "model_module_version": "1.5.0",
      "model_name": "ProgressStyleModel",
      "state": {
       "_model_module": "@jupyter-widgets/controls",
       "_model_module_version": "1.5.0",
       "_model_name": "ProgressStyleModel",
       "_view_count": null,
       "_view_module": "@jupyter-widgets/base",
       "_view_module_version": "1.2.0",
       "_view_name": "StyleView",
       "bar_color": null,
       "description_width": ""
      }
     },
     "e0781a6d2a96404792e3bca9bfcda9ad": {
      "model_module": "@jupyter-widgets/controls",
      "model_module_version": "1.5.0",
      "model_name": "DescriptionStyleModel",
      "state": {
       "_model_module": "@jupyter-widgets/controls",
       "_model_module_version": "1.5.0",
       "_model_name": "DescriptionStyleModel",
       "_view_count": null,
       "_view_module": "@jupyter-widgets/base",
       "_view_module_version": "1.2.0",
       "_view_name": "StyleView",
       "description_width": ""
      }
     },
     "e243d5b7d2204d01910636c65acaf33a": {
      "model_module": "@jupyter-widgets/base",
      "model_module_version": "1.2.0",
      "model_name": "LayoutModel",
      "state": {
       "_model_module": "@jupyter-widgets/base",
       "_model_module_version": "1.2.0",
       "_model_name": "LayoutModel",
       "_view_count": null,
       "_view_module": "@jupyter-widgets/base",
       "_view_module_version": "1.2.0",
       "_view_name": "LayoutView",
       "align_content": null,
       "align_items": null,
       "align_self": null,
       "border": null,
       "bottom": null,
       "display": null,
       "flex": null,
       "flex_flow": null,
       "grid_area": null,
       "grid_auto_columns": null,
       "grid_auto_flow": null,
       "grid_auto_rows": null,
       "grid_column": null,
       "grid_gap": null,
       "grid_row": null,
       "grid_template_areas": null,
       "grid_template_columns": null,
       "grid_template_rows": null,
       "height": null,
       "justify_content": null,
       "justify_items": null,
       "left": null,
       "margin": null,
       "max_height": null,
       "max_width": null,
       "min_height": null,
       "min_width": null,
       "object_fit": null,
       "object_position": null,
       "order": null,
       "overflow": null,
       "overflow_x": null,
       "overflow_y": null,
       "padding": null,
       "right": null,
       "top": null,
       "visibility": null,
       "width": null
      }
     },
     "e449f314aa514747b8aa8a786210455a": {
      "model_module": "@jupyter-widgets/controls",
      "model_module_version": "1.5.0",
      "model_name": "HTMLModel",
      "state": {
       "_dom_classes": [],
       "_model_module": "@jupyter-widgets/controls",
       "_model_module_version": "1.5.0",
       "_model_name": "HTMLModel",
       "_view_count": null,
       "_view_module": "@jupyter-widgets/controls",
       "_view_module_version": "1.5.0",
       "_view_name": "HTMLView",
       "description": "",
       "description_tooltip": null,
       "layout": "IPY_MODEL_40dbde90f33643a6a56a59615fbefff1",
       "placeholder": "​",
       "style": "IPY_MODEL_331baffc8d944ab7bc95a8f829c7af1c",
       "value": " 29.0/29.0 [00:00&lt;00:00, 2.42kB/s]"
      }
     },
     "f3a72f17678b475c9a6bf4bf6a5b2545": {
      "model_module": "@jupyter-widgets/controls",
      "model_module_version": "1.5.0",
      "model_name": "HTMLModel",
      "state": {
       "_dom_classes": [],
       "_model_module": "@jupyter-widgets/controls",
       "_model_module_version": "1.5.0",
       "_model_name": "HTMLModel",
       "_view_count": null,
       "_view_module": "@jupyter-widgets/controls",
       "_view_module_version": "1.5.0",
       "_view_name": "HTMLView",
       "description": "",
       "description_tooltip": null,
       "layout": "IPY_MODEL_9bb840c9dae44a40af183ae826df78e4",
       "placeholder": "​",
       "style": "IPY_MODEL_9826d7fad799441784ac3c4b8004aa07",
       "value": "Downloading tokenizer.json: 100%"
      }
     },
     "f855fee0ef82499a99372d9d37dd4660": {
      "model_module": "@jupyter-widgets/base",
      "model_module_version": "1.2.0",
      "model_name": "LayoutModel",
      "state": {
       "_model_module": "@jupyter-widgets/base",
       "_model_module_version": "1.2.0",
       "_model_name": "LayoutModel",
       "_view_count": null,
       "_view_module": "@jupyter-widgets/base",
       "_view_module_version": "1.2.0",
       "_view_name": "LayoutView",
       "align_content": null,
       "align_items": null,
       "align_self": null,
       "border": null,
       "bottom": null,
       "display": null,
       "flex": null,
       "flex_flow": null,
       "grid_area": null,
       "grid_auto_columns": null,
       "grid_auto_flow": null,
       "grid_auto_rows": null,
       "grid_column": null,
       "grid_gap": null,
       "grid_row": null,
       "grid_template_areas": null,
       "grid_template_columns": null,
       "grid_template_rows": null,
       "height": null,
       "justify_content": null,
       "justify_items": null,
       "left": null,
       "margin": null,
       "max_height": null,
       "max_width": null,
       "min_height": null,
       "min_width": null,
       "object_fit": null,
       "object_position": null,
       "order": null,
       "overflow": null,
       "overflow_x": null,
       "overflow_y": null,
       "padding": null,
       "right": null,
       "top": null,
       "visibility": null,
       "width": null
      }
     },
     "fa545e8278a7483189698343b6b94303": {
      "model_module": "@jupyter-widgets/controls",
      "model_module_version": "1.5.0",
      "model_name": "DescriptionStyleModel",
      "state": {
       "_model_module": "@jupyter-widgets/controls",
       "_model_module_version": "1.5.0",
       "_model_name": "DescriptionStyleModel",
       "_view_count": null,
       "_view_module": "@jupyter-widgets/base",
       "_view_module_version": "1.2.0",
       "_view_name": "StyleView",
       "description_width": ""
      }
     },
     "ff577223a8de488299c1cd47451e9dc2": {
      "model_module": "@jupyter-widgets/base",
      "model_module_version": "1.2.0",
      "model_name": "LayoutModel",
      "state": {
       "_model_module": "@jupyter-widgets/base",
       "_model_module_version": "1.2.0",
       "_model_name": "LayoutModel",
       "_view_count": null,
       "_view_module": "@jupyter-widgets/base",
       "_view_module_version": "1.2.0",
       "_view_name": "LayoutView",
       "align_content": null,
       "align_items": null,
       "align_self": null,
       "border": null,
       "bottom": null,
       "display": null,
       "flex": null,
       "flex_flow": null,
       "grid_area": null,
       "grid_auto_columns": null,
       "grid_auto_flow": null,
       "grid_auto_rows": null,
       "grid_column": null,
       "grid_gap": null,
       "grid_row": null,
       "grid_template_areas": null,
       "grid_template_columns": null,
       "grid_template_rows": null,
       "height": null,
       "justify_content": null,
       "justify_items": null,
       "left": null,
       "margin": null,
       "max_height": null,
       "max_width": null,
       "min_height": null,
       "min_width": null,
       "object_fit": null,
       "object_position": null,
       "order": null,
       "overflow": null,
       "overflow_x": null,
       "overflow_y": null,
       "padding": null,
       "right": null,
       "top": null,
       "visibility": null,
       "width": null
      }
     }
    },
    "version_major": 2,
    "version_minor": 0
   }
  }
 },
 "nbformat": 4,
 "nbformat_minor": 5
}
