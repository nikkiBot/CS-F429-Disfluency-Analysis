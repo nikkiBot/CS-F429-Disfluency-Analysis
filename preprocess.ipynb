{
 "cells": [
  {
   "cell_type": "code",
   "execution_count": 17,
   "metadata": {},
   "outputs": [],
   "source": [
    "import csv\n",
    "import re\n",
    "\n",
    "file = open('switchboard2.utt')"
   ]
  },
  {
   "cell_type": "code",
   "execution_count": 27,
   "metadata": {},
   "outputs": [],
   "source": [
    "#Getting rid of the speaker names and other non-dialogue information, so as to only store the dialogue\n",
    "\n",
    "input_file = 'switchboard2.utt'\n",
    "\n",
    "output_file = 'dialogues.txt'\n",
    "\n",
    "with open(input_file, 'r') as in_file, open(output_file, 'w') as out_file:\n",
    "    for line in in_file:\n",
    "        parts = line.split(':')\n",
    "        if len(parts) == 2:\n",
    "            dialogue = parts[1].split('/')[0].strip()  \n",
    "            out_file.write(dialogue + '\\n')  \n",
    "\n",
    "in_file.close()\n",
    "out_file.close()\n"
   ]
  },
  {
   "cell_type": "code",
   "execution_count": 28,
   "metadata": {},
   "outputs": [],
   "source": [
    "#Code for removing curly braces and their contents i.e removing the uh, um type disfluencies since we are concentrating on repair type disfluency\n",
    "\n",
    "input_file = 'dialogues.txt'\n",
    "\n",
    "output_file = 'modified_dialogues.txt'\n",
    "\n",
    "def remove_curly_braces(text):\n",
    "    in_braces = False\n",
    "    result = []\n",
    "    for char in text:\n",
    "        if char == '{':\n",
    "            in_braces = True\n",
    "        elif char == '}':\n",
    "            in_braces = False\n",
    "        elif not in_braces:\n",
    "            result.append(char)\n",
    "    return ''.join(result)\n",
    "\n",
    "with open(input_file, 'r') as in_file, open(output_file, 'w') as out_file:\n",
    "    for line in in_file:\n",
    "        modified_line = remove_curly_braces(line)\n",
    "        out_file.write(modified_line)\n",
    "\n",
    "in_file.close()\n",
    "out_file.close()\n"
   ]
  },
  {
   "cell_type": "code",
   "execution_count": 29,
   "metadata": {},
   "outputs": [],
   "source": [
    "#Removing punctuation marks\n",
    "input_file = 'modified_dialogues.txt'\n",
    "\n",
    "output_file = 'cleaned_dialogues.txt'\n",
    "\n",
    "chars_to_remove = [',', '.', '--']\n",
    "\n",
    "with open(input_file, 'r') as in_file, open(output_file, 'w') as out_file:\n",
    "    for line in in_file:\n",
    "        modified_line = line\n",
    "        for char in chars_to_remove:\n",
    "            modified_line = modified_line.replace(char, '')  # Remove the specified characters\n",
    "\n",
    "        out_file.write(modified_line)\n",
    "\n",
    "in_file.close()\n",
    "out_file.close()\n"
   ]
  },
  {
   "cell_type": "code",
   "execution_count": 30,
   "metadata": {},
   "outputs": [],
   "source": [
    "#Lowercasing all dialogue\n",
    "input_file = 'cleaned_dialogues.txt'\n",
    "\n",
    "output_file = 'lowercase_dialogues.txt'\n",
    "\n",
    "with open(input_file, 'r') as in_file, open(output_file, 'w') as out_file:\n",
    "    for line in in_file:\n",
    "        # Lowercase all characters in the line\n",
    "        modified_line = line.lower()\n",
    "        out_file.write(modified_line)\n",
    "\n",
    "in_file.close()\n",
    "out_file.close()\n"
   ]
  },
  {
   "cell_type": "code",
   "execution_count": 34,
   "metadata": {},
   "outputs": [],
   "source": [
    "#Removing unnecessary whitespaces\n",
    "input_file = 'lowercase_dialogues.txt'\n",
    "\n",
    "output_file = 'someBracketsLeft.txt'\n",
    "\n",
    "with open(input_file, 'r') as in_file, open(output_file, 'w') as out_file:\n",
    "    for line in in_file:\n",
    "        cleaned_line = ' '.join(line.split())        \n",
    "        out_file.write(cleaned_line + '\\n')\n",
    "\n",
    "in_file.close()\n",
    "out_file.close()\n",
    "\n"
   ]
  },
  {
   "cell_type": "code",
   "execution_count": 1,
   "metadata": {},
   "outputs": [],
   "source": [
    "#Removing other annotations, such as <> and ## which are irrelevant to our task\n",
    "\n",
    "input_file = 'someBracketsLeft.txt'\n",
    "\n",
    "output_file = 'onlyDisLeft.txt'\n",
    "\n",
    "def remove_angle_brackets(text):\n",
    "    result = ''\n",
    "    inside_tags = 0  # Count of '<' encountered\n",
    "    for char in text:\n",
    "        if char == '<':\n",
    "            inside_tags += 1\n",
    "        elif char == '>':\n",
    "            inside_tags -= 1\n",
    "        elif inside_tags == 0:\n",
    "            result += char\n",
    "    return result\n",
    "\n",
    "def remove_double_hashtags(text):\n",
    "    result = ''\n",
    "    inside_hashtags = 0  # Count of '#' encountered\n",
    "    for char in text:\n",
    "        if char == '#':\n",
    "            inside_hashtags += 1\n",
    "            if inside_hashtags % 2 == 1:\n",
    "                result = result.rstrip()  # Remove trailing space before a single '#'\n",
    "        elif inside_hashtags % 2 == 0:\n",
    "            result += char\n",
    "    return result\n",
    "\n",
    "with open(input_file, 'r') as in_file, open(output_file, 'w') as out_file:\n",
    "    for line in in_file:\n",
    "        line = remove_double_hashtags(line)  # Remove content enclosed by two '#' symbols\n",
    "        cleaned_line = remove_angle_brackets(line)  # Remove content enclosed by '<' and '>'\n",
    "        out_file.write(cleaned_line)\n",
    "\n",
    "in_file.close()\n",
    "out_file.close()\n"
   ]
  },
  {
   "cell_type": "code",
   "execution_count": 3,
   "metadata": {},
   "outputs": [],
   "source": [
    "#Adding an end of sentence marker\n",
    "input_file = 'onlyDisLeft.txt'\n",
    "\n",
    "output_file = 'sentence-marked.txt'\n",
    "\n",
    "with open(input_file, 'r') as in_file, open(output_file, 'w') as out_file:\n",
    "    for line in in_file:\n",
    "        # Add ' $' at the end of each line\n",
    "        line_with_dollar = line.rstrip() + ' $'\n",
    "        out_file.write(line_with_dollar + '\\n')\n",
    "\n",
    "in_file.close()\n",
    "out_file.close()\n",
    "\n"
   ]
  },
  {
   "cell_type": "code",
   "execution_count": 2,
   "metadata": {},
   "outputs": [
    {
     "name": "stdout",
     "output_type": "stream",
     "text": [
      "[('okay', 'O'), ('$', 'EOS'), ('first', 'O'), ('i', 'O'), ('need', 'O'), ('to', 'O'), ('know', 'O'), ('how', 'O'), ('do', 'O'), ('you', 'O'), ('feel', 'O'), ('about', 'RM'), ('about', 'RP'), ('sending', 'O'), ('an', 'O'), ('elderly', 'O'), ('family', 'O'), ('member', 'O'), ('to', 'O'), ('a', 'O'), ('nursing', 'O'), ('home?', 'O'), ('$', 'EOS'), ('of', 'O'), ('course', 'O'), ('one', 'O'), ('of', 'O'), ('the', 'O'), ('last', 'O'), ('few', 'O'), ('things', 'O'), ('in', 'O'), ('the', 'O'), ('world', 'O'), (\"you'd\", 'O'), ('ever', 'O'), ('want', 'O'), ('to', 'O'), ('do', 'O'), ('unless', 'O'), (\"it's\", 'O'), ('just', 'O'), ('really', 'O'), ('and', 'O'), ('for', 'RM'), ('their', 'RM'), ('for', 'RP'), ('their', 'RP'), ('own', 'O'), ('good', 'O'), ('$', 'EOS'), ('yes', 'O'), ('$', 'EOS'), ('yeah', 'O'), ('$', 'EOS'), (\"i'd\", 'O'), ('be', 'O'), ('very', 'O'), ('very', 'O'), ('careful', 'O'), ('and', 'RM'), ('checking', 'O'), ('them', 'O'), ('out', 'O'), ('$', 'EOS'), ('our', 'O'), ('-', 'O'), ('$', 'EOS'), ('had', 'O'), ('t-', 'O'), ('place', 'O'), ('my', 'O'), ('mother', 'O'), ('in', 'O'), ('a', 'O'), ('nursing', 'O'), ('home', 'O'), ('$', 'EOS'), ('she', 'O'), ('had', 'O'), ('a', 'O'), ('rather', 'O'), ('massive', 'O'), ('stroke', 'O'), ('about', 'RM'), ('about', 'RP'), ('$', 'EOS'), ('uh-huh', 'O'), ('$', 'EOS'), ('eight', 'O'), ('months', 'O'), ('ago', 'O'), ('i', 'O'), ('guess', 'O'), ('$', 'EOS'), ('we', 'RM'), ('were', 'RM'), ('i', 'RP'), ('was', 'RP'), ('fortunate', 'O'), ('in', 'O'), ('that', 'O'), ('$', 'EOS'), ('i', 'O'), ('was', 'O'), ('personally', 'O'), ('acquainted', 'O'), ('with', 'O'), ('the', 'O'), ('people', 'O'), ('who', 'O'), ('ran', 'O'), ('the', 'O'), ('nursing', 'O'), ('home', 'O'), ('in', 'O'), ('our', 'O'), ('little', 'O'), ('hometown', 'O'), ('$', 'EOS'), ('yeah', 'O'), ('$', 'EOS'), ('i', 'O'), ('was', 'O'), ('very', 'O'), ('comfortable', 'O'), ('in', 'O'), ('doing', 'O'), ('it', 'O'), ('when', 'O'), ('it', 'O'), ('got', 'O'), ('to', 'O'), ('the', 'O'), ('point', 'O'), ('that', 'O'), ('we', 'O'), ('had', 'O'), ('to', 'O'), ('do', 'O'), ('it', 'O'), ('$', 'EOS'), (\"there's\", 'O'), ('-', 'O'), ('$', 'EOS'), ('i', 'O'), ('had', 'O'), ('an', 'O'), ('occasion', 'O'), ('for', 'O'), ('my', 'O'), ('mother-in-law', 'O'), ('who', 'O'), ('had', 'O'), ('fell', 'O'), ('and', 'O'), ('needed', 'RM'), ('to', 'RM'), ('be', 'RM'), ('could', 'O'), ('not', 'O'), ('take', 'O'), ('care', 'O'), ('of', 'O'), ('herself', 'O'), ('anymore', 'O'), ('was', 'O'), ('confined', 'O'), ('to', 'O'), ('a', 'O'), ('nursing', 'O'), ('home', 'O'), ('for', 'O'), ('a', 'O'), ('while', 'O'), ('$', 'EOS'), ('that', 'O'), ('was', 'O'), ('really', 'O'), ('not', 'O'), ('a', 'O'), ('very', 'O'), ('good', 'O'), ('experience', 'O'), ('$', 'EOS'), ('it', 'O'), ('had', 'O'), ('to', 'O'), ('be', 'O'), ('done', 'O'), ('in', 'O'), ('a', 'O'), ('hurry', 'O'), ('$', 'EOS'), ('we', 'O'), (\"didn't\", 'O'), ('have', 'O'), ('six', 'O'), ('months', 'O'), ('to', 'O'), ('check', 'O'), ('all', 'O'), ('of', 'O'), ('these', 'O'), ('places', 'O'), ('out', 'O'), ('$', 'EOS'), ('it', 'O'), ('was', 'O'), ('really', 'O'), ('not', 'RM'), ('not', 'RP'), ('very', 'O'), ('good', 'O'), ('deal', 'O'), ('$', 'EOS'), ('yeah', 'O'), ('$', 'EOS'), ('we', 'O'), ('were', 'O'), ('not', 'O'), ('really', 'O'), ('happy', 'O'), ('with', 'O'), ('$', 'EOS'), ('yeah', 'O'), ('$', 'EOS'), ('nursing', 'O'), ('home', 'O'), ('that', 'O'), ('we', 'O'), ('finally', 'O'), ('had', 'O'), ('$', 'EOS'), ('fortunately', 'O'), ('she', 'O'), ('only', 'O'), ('had', 'O'), ('to', 'O'), ('stay', 'O'), ('a', 'O'), ('few', 'O'), ('weeks', 'O'), ('$', 'EOS'), ('she', 'O'), ('was', 'O'), ('able', 'O'), ('to', 'RM'), ('to', 'RP'), ('return', 'O'), ('to', 'O'), ('her', 'O'), ('apartment', 'O'), ('again', 'O'), ('$', 'EOS'), (\"it's\", 'O'), ('really', 'O'), ('a', 'O'), ('big', 'RM'), ('big', 'RP'), ('$', 'EOS'), ('yeah', 'O'), ('$', 'EOS'), ('decision', 'O'), ('as', 'RM'), ('to', 'RM'), ('when', 'RP'), ('to', 'RP'), ('do', 'O'), ('it', 'O'), ('$', 'EOS'), ('is', 'O'), ('there', 'O'), ('something', 'O'), ('else', 'O'), ('we', 'O'), ('could', 'O'), ('have', 'O'), ('done', 'O'), ('in', 'O'), ('checking', 'O'), ('out', 'O'), ('all', 'O'), ('the', 'O'), ('places', 'O'), ('that', 'O'), ('might', 'O'), ('be', 'O'), ('available', 'O'), ('$', 'EOS'), ('of', 'O'), ('course', 'O'), (\"there's\", 'O'), ('not', 'O'), ('one', 'O'), ('on', 'O'), ('every', 'O'), ('corner', 'O'), ('$', 'EOS'), ('yeah', 'O'), ('$', 'EOS'), ('especially', 'O'), ('smaller', 'O'), ('areas', 'O'), ('$', 'EOS'), ('uh-huh', 'O'), ('$', 'EOS'), ('smaller', 'O'), ('towns', 'O'), ('$', 'EOS'), ('uh-huh', 'O'), ('$', 'EOS'), ('yeah', 'O'), ('$', 'EOS'), ('probably', 'O'), ('the', 'O'), ('hardest', 'O'), ('thing', 'O'), ('in', 'RM'), ('in', 'RP'), ('my', 'O'), ('family', 'O'), ('my', 'O'), ('grandmother', 'O'), ('she', 'O'), ('had', 'O'), ('to', 'O'), ('be', 'O'), ('put', 'O'), ('in', 'O'), ('a', 'O'), ('nursing', 'O'), ('home', 'O'), ('$', 'EOS'), ('she', 'O'), ('had', 'O'), ('used', 'O'), ('the', 'O'), ('walker', 'O'), ('for', 'RM'), ('for', 'RP'), ('quite', 'O'), ('some', 'O'), ('time', 'O'), ('probably', 'O'), ('about', 'O'), ('six', 'O'), ('to', 'O'), ('nine', 'O'), ('months', 'O'), ('$', 'EOS'), ('she', 'O'), ('had', 'O'), ('a', 'O'), ('fall', 'O'), ('$', 'EOS'), ('finally', 'O'), ('she', 'O'), ('had', 'O'), (\"parkinson's\", 'O'), ('disease', 'O'), ('$', 'EOS'), ('oh', 'O'), ('$', 'EOS'), ('it', 'O'), ('got', 'O'), ('so', 'O'), ('much', 'O'), ('that', 'O'), ('she', 'O'), ('could', 'O'), ('not', 'O'), ('take', 'O'), ('care', 'O'), ('of', 'O'), ('her', 'O'), ('house', 'O'), ('$', 'EOS'), ('right', 'O'), ('$', 'EOS'), ('then', 'O'), ('she', 'O'), ('lived', 'O'), ('in', 'O'), ('an', 'O'), ('apartment', 'O'), ('$', 'EOS'), ('that', 'O'), ('was', 'O'), ('even', 'O'), ('harder', 'O'), ('$', 'EOS'), ('uh-huh', 'O'), ('$', 'EOS'), ('actually', 'O'), ('$', 'EOS'), ('uh-huh', 'O'), ('$', 'EOS'), ('it', 'RM'), ('was', 'RM'), ('it', 'RP'), ('was', 'RP'), ('just', 'O'), ('a', 'O'), ('change', 'RM'), ('of', 'RM'), ('change', 'RP'), ('of', 'RP'), ('location', 'O'), ('$', 'EOS'), ('it', 'O'), ('was', 'O'), ('very', 'O'), ('disturbing', 'O'), ('for', 'O'), ('her', 'O'), ('because', 'O'), ('she', 'O'), ('had', 'O'), ('been', 'O'), ('so', 'O'), ('used', 'O'), ('to', 'O'), ('traveling', 'O'), ('$', 'EOS'), ('yes', 'O'), ('$', 'EOS'), ('she', 'RM'), ('she', 'RP'), ('had', 'RP'), ('+', 'O'), ('she', 'O'), ('had', 'O'), ('children', 'O'), ('all', 'O'), ('across', 'O'), ('the', 'O'), ('united', 'O'), ('states', 'O'), ('$', 'EOS'), ('uh-huh', 'O'), ('$', 'EOS'), ('she', 'O'), ('spent', 'O'), ('nine', 'O'), ('months', 'O'), ('out', 'O'), ('of', 'O'), ('the', 'O'), ('year', 'O'), ('just', 'O'), ('visiting', 'O'), ('her', 'O'), ('children', 'O'), ('$', 'EOS'), ('right', 'O'), ('$', 'EOS'), ('uh-huh', 'O'), ('$', 'EOS'), ('that', 'O'), ('was', 'O'), ('pretty', 'O'), ('heart-rending', 'O'), ('for', 'O'), ('her', 'O'), ('$', 'EOS'), ('i', 'O'), ('can', 'O'), ('imagine', 'O'), ('$', 'EOS'), ('i', 'O'), ('think', 'O'), ('when', 'O'), ('she', 'O'), ('finally', 'O'), ('came', 'O'), ('to', 'O'), ('the', 'O'), ('realization', 'O'), ('that', 'O'), ('no', 'O'), ('i', 'RM'), ('cannot', 'RM'), ('i', 'RP'), ('cannot', 'RP'), ('take', 'O'), ('care', 'O'), ('of', 'O'), ('myself', 'O'), ('$', 'EOS'), ('uh-huh', 'O'), ('$', 'EOS'), (\"that's\", 'O'), ('tough', 'O'), ('$', 'EOS'), (\"that's\", 'O'), ('tough', 'O'), ('$', 'EOS'), ('yeah', 'O'), ('$', 'EOS'), ('for', 'O'), ('somebody', 'O'), ('who', 'O'), ('is', 'RM'), ('for', 'O'), ('most', 'O'), ('of', 'O'), ('their', 'O'), ('life', 'O'), ('has', 'RM'), ('has', 'RP'), ('not', 'O'), ('just', 'O'), ('merely', 'O'), ('had', 'O'), ('a', 'O'), ('farm', 'O'), ('but', 'O'), ('had', 'O'), ('ten', 'O'), ('children', 'O'), ('$', 'EOS'), ('uh-huh', 'O'), ('$', 'EOS'), ('had', 'O'), ('a', 'O'), ('farm', 'O'), ('ran', 'O'), ('everything', 'O'), ('because', 'O'), ('her', 'O'), ('husband', 'O'), ('was', 'O'), ('away', 'O'), ('in', 'O'), ('the', 'O'), ('coal', 'O'), ('mines', 'O'), ('$', 'EOS'), ('uh-huh', 'O'), ('$', 'EOS'), ('facing', 'O'), ('that', 'O'), ('situation', 'O'), ('quite', 'O'), ('a', 'O'), ('dilemma', 'O'), ('$', 'EOS'), ('yes', 'O'), ('$', 'EOS'), ('i', 'O'), ('think', 'O'), ('-', 'O'), ('$', 'EOS'), ('my', 'O'), ('mother', 'O'), ('-', 'O'), ('$', 'EOS'), ('go', 'O'), ('ahead', 'O'), ('$', 'EOS'), ('yeah', 'O'), ('$', 'EOS'), ('my', 'RM'), ('my', 'RP'), ('-', 'O'), ('$', 'EOS'), ('probably', 'O'), ('one', 'O'), ('of', 'O'), ('the', 'O'), ('biggest', 'O'), ('decisions', 'O'), ('i', 'O'), ('think', 'O'), ('that', 'O'), ('was', 'O'), ('very', 'O'), ('strengthening', 'O'), ('for', 'O'), ('our', 'O'), ('family', 'O'), ('was', 'O'), ('rather', 'O'), ('than', 'O'), ('have', 'O'), ('one', 'O'), ('child', 'O'), ('make', 'O'), ('that', 'O'), ('decision', 'O'), ('$', 'EOS'), ('uh-huh', 'O'), ('$', 'EOS'), ('than', 'O'), ('just', 'O'), ('delegate', 'O'), ('it', 'O'), ('$', 'EOS'), ('i', 'O'), ('think', 'O'), ('that', 'O'), ('they', 'RM'), ('they', 'RP'), ('had', 'O'), ('a', 'O'), ('great', 'O'), ('deal', 'O'), ('of', 'O'), ('-', 'O'), ('$', 'EOS'), ('all', 'O'), ('the', 'O'), ('brothers', 'O'), ('and', 'O'), ('sisters', 'O'), ('got', 'O'), ('together', 'O'), ('$', 'EOS'), ('they', 'O'), ('actually', 'O'), ('had', 'O'), ('a', 'O'), ('conference', 'O'), ('$', 'EOS'), (\"that's\", 'O'), ('great', 'O'), ('$', 'EOS'), ('it', 'RM'), ('was', 'RM'), ('just', 'RM'), ('it', 'RP'), ('was', 'RP'), ('probably', 'RP'), ('one', 'O'), ('of', 'O'), ('the', 'O'), ('most', 'O'), ('strengthening', 'O'), ('things', 'O'), ('for', 'O'), ('our', 'O'), ('family', 'O'), ('getting', 'O'), ('down', 'O'), ('together', 'O'), ('and', 'O'), ('doing', 'O'), ('that', 'O'), ('$', 'EOS'), (\"that's\", 'O'), ('right', 'O'), ('$', 'EOS'), ('just', 'O'), ('the', 'O'), ('children', 'O'), ('were', 'O'), ('involved', 'O'), ('in', 'O'), ('the', 'O'), ('decision', 'O'), ('because', 'O'), ('it', 'O'), ('involved', 'O'), ('just', 'O'), ('them', 'O'), ('$', 'EOS'), ('right', 'O'), ('$', 'EOS'), ('yeah', 'O'), ('$', 'EOS'), ('and', 'RM'), ('making', 'O'), ('that', 'O'), ('decision', 'O'), ('and', 'O'), ('then', 'O'), ('finding', 'O'), ('a', 'O'), ('place', 'O'), ('$', 'EOS'), ('everybody', 'O'), ('had', 'O'), ('duties', 'O'), ('$', 'EOS'), ('uh-huh', 'O'), ('$', 'EOS'), ('to', 'O'), ('perform', 'O'), ('$', 'EOS'), ('whether', 'O'), ('it', 'O'), ('was', 'O'), ('just', 'O'), ('giving', 'O'), ('money', 'O'), ('or', 'O'), ('whether', 'O'), ('it', 'O'), ('was', 'O'), ('actually', 'O'), ('taking', 'O'), ('part', 'O'), ('in', 'O'), ('a', 'O'), ('lot', 'O'), ('$', 'EOS'), ('uh-huh', 'O'), ('$', 'EOS'), ('of', 'O'), ('the', 'O'), ('decision', 'O'), ('making', 'O'), ('$', 'EOS'), ('yep', 'O'), ('$', 'EOS'), ('like', 'O'), ('finding', 'O'), ('a', 'O'), ('proper', 'O'), ('nursing', 'O'), ('home', 'O'), ('$', 'EOS'), ('you', 'O'), ('were', 'O'), ('very', 'O'), ('$', 'EOS'), ('they', 'O'), ('-', 'O'), ('$', 'EOS'), ('fortunate', 'O'), ('$', 'EOS'), ('i', 'O'), ('know', 'O'), ('$', 'EOS'), ('they', 'RM'), ('they', 'RP'), ('had', 'RP'), ('they', 'RP'), ('had', 'RP'), ('+', 'O'), ('they', 'O'), ('had', 'O'), ('seen', 'O'), ('it', 'O'), ('coming', 'O'), ('$', 'EOS'), ('uh-huh', 'O'), ('$', 'EOS'), ('-', 'O'), ('$', 'EOS'), ('it', 'O'), ('-', 'O'), ('$', 'EOS'), ('i', 'RM'), ('i', 'RP'), ('+', 'O'), ('i', 'O'), ('+', 'O'), ('i', 'O'), ('har-', 'O'), ('+', 'O'), ('i', 'O'), ('+', 'O'), ('i', 'O'), ('truly', 'O'), ('wish', 'O'), ('that', 'O'), ('if', 'O'), ('something', 'O'), ('like', 'O'), ('that', 'O'), ('were', 'O'), ('to', 'O'), ('happen', 'O'), ('that', 'O'), ('my', 'O'), ('children', 'O'), ('would', 'O'), ('do', 'O'), ('something', 'O'), ('like', 'O'), ('$', 'EOS'), ('uh-huh', 'O'), ('$', 'EOS'), ('that', 'O'), ('for', 'O'), ('me', 'O'), ('$', 'EOS'), ('uh-huh', 'O'), ('$', 'EOS'), ('absolutely', 'O'), ('$', 'EOS'), ('unfortunately', 'O'), ('a', 'O'), ('lot', 'O'), ('of', 'O'), ('times', 'O'), ('it', 'RM'), ('responsibilities', 'RP'), ('like', 'O'), ('that', 'O'), ('seem', 'O'), ('to', 'O'), ('fall', 'O'), ('to', 'O'), ('maybe', 'O'), ('one', 'O'), ('child', 'O'), ('in', 'O'), ('the', 'O'), ('whole', 'O'), ('family', 'O'), ('$', 'EOS'), ('yeah', 'O'), ('$', 'EOS'), ('yeah', 'O'), ('$', 'EOS'), ('we', 'RM'), ('we', 'RP'), ('-', 'O'), ('$', 'EOS'), (\"it's\", 'O'), ('usually', 'O'), ('not', 'O'), ('a', 'O'), ('very', 'O'), ('smooth', 'RM'), ('yeah', 'RP'), ('smooth', 'RP'), ('thing', 'O'), ('$', 'EOS'), ('we', 'RM'), ('were', 'RM'), ('i', 'RP'), ('was', 'RP'), ('lucky', 'O'), ('too', 'O'), ('that', 'O'), ('i', 'O'), ('only', 'O'), ('have', 'O'), ('one', 'O'), ('brother', 'O'), ('$', 'EOS'), ('uh-huh', 'O'), ('$', 'EOS'), ('fortunately', 'O'), ('we', 'O'), ('agreed', 'O'), ('on', 'O'), ('exactly', 'O'), ('what', 'O'), ('we', 'O'), ('thought', 'O'), ('should', 'O'), ('be', 'O'), ('done', 'O'), ('$', 'EOS'), ('my', 'O'), ('mother', 'O'), ('also', 'O'), ('was', 'O'), ('very', 'RM'), ('very', 'RP'), ('independent', 'O'), ('$', 'EOS'), ('she', 'O'), ('had', 'RM'), ('her', 'RM'), ('own', 'RM'), ('still', 'RP'), ('had', 'RP'), ('her', 'RP'), ('own', 'RP'), ('little', 'O'), ('house', 'O'), ('and', 'O'), ('still', 'O'), ('driving', 'O'), ('her', 'O'), ('own', 'O'), ('car', 'O'), ('$', 'EOS'), ('yeah', 'O'), ('$', 'EOS'), ('at', 'O'), ('age', 'O'), ('eighty-three', 'O'), ('$', 'EOS'), ('we', 'O'), ('were', 'O'), ('lucky', 'O'), ('in', 'RM'), ('that', 'RM'), ('in', 'RP'), ('one', 'RP'), ('respect', 'O'), ('in', 'O'), ('that', 'O'), ('after', 'O'), ('she', 'O'), ('had', 'O'), ('her', 'O'), ('stroke', 'O'), ('she', 'O'), (\"wasn't\", 'O'), ('really', 'RM'), ('really', 'RP'), ('much', 'O'), ('aware', 'O'), ('of', 'O'), ('what', 'O'), ('was', 'O'), ('going', 'O'), ('on', 'O'), ('$', 'EOS'), ('uh-huh', 'O'), ('$', 'EOS'), ('that', 'O'), ('nursing', 'O'), ('home', 'O'), ('life', 'O'), ('would', 'O'), ('not', 'O'), ('have', 'O'), ('been', 'O'), ('anything', 'O'), ('of', 'O'), ('her', 'O'), ('choosing', 'O'), ('$', 'EOS'), ('of', 'O'), ('course', 'O'), ('she', 'RM'), ('would', 'RM'), ('she', 'RP'), ('would', 'RP'), ('not', 'O'), ('have', 'O'), ('been', 'O'), ('happy', 'O'), ('there', 'O'), ('at', 'O'), ('all', 'O'), ('$', 'EOS'), ('$', 'EOS'), ('as', 'O'), ('it', 'O'), ('turned', 'O'), ('out', 'O'), ('the', 'O'), ('stroke', 'O'), ('took', 'O'), ('care', 'O'), ('of', 'O'), ('that', 'O'), ('concern', 'O'), ('for', 'O'), ('us', 'O'), ('$', 'EOS'), ('yeah', 'O'), ('$', 'EOS'), ('yeah', 'O'), ('$', 'EOS'), ('with', 'RM'), ('my', 'RM'), ('with', 'RP'), ('my', 'RP'), ('grandmother', 'O'), ('i', 'O'), ('think', 'O'), ('it', 'RM'), ('was', 'RM'), ('it', 'RP'), ('was', 'RP'), ('such', 'O'), ('that', 'RM'), ('that', 'RP'), ('she', 'O'), ('did', 'O'), ('not', 'O'), ('have', 'O'), ('the', 'O'), ('problem', 'O'), ('with', 'O'), ('-', 'O'), ('$', 'EOS'), ('she', 'O'), ('was', 'O'), ('very', 'O'), ('well', 'O'), ('aware', 'O'), ('$', 'EOS'), ('her', 'O'), ('daughter', 'O'), ('came', 'O'), ('and', 'O'), ('visited', 'O'), ('her', 'O'), ('$', 'EOS'), ('uh-huh', 'O'), ('$', 'EOS'), ('at', 'O'), ('least', 'O'), ('her', 'O'), ('daughter', 'O'), ('$', 'EOS'), ('uh-huh', 'O'), ('$', 'EOS'), ('came', 'O'), ('and', 'O'), ('visited', 'O'), ('her', 'O'), ('and', 'O'), ('also', 'O'), ('her', 'O'), ('several', 'O'), ('grandchildren', 'O'), ('$', 'EOS'), ('uh-huh', 'O'), ('$', 'EOS'), ('came', 'O'), ('and', 'O'), ('visited', 'O'), ('her', 'O'), ('every', 'O'), ('day', 'O'), ('$', 'EOS'), (\"that's\", 'O'), ('great', 'O'), ('$', 'EOS'), ('i', 'O'), ('think', 'O'), ('that', 'O'), ('when', 'O'), ('she', 'O'), ('passed', 'O'), ('away', 'O'), ('it', 'O'), ('was', 'O'), ('probably', 'O'), ('one', 'O'), ('of', 'O'), ('the', 'O'), ('greatest', 'O'), ('-', 'O'), ('$', 'EOS'), ('i', 'RM'), ('i', 'RP'), ('+', 'O'), ('i', 'O'), ('think', 'O'), ('it', 'O'), ('would', 'O'), ('be', 'O'), ('-', 'O'), ('$', 'EOS'), ('it', 'O'), ('was', 'O'), ('more', 'O'), ('of', 'O'), ('a', 'O'), ('relief', 'O'), ('$', 'EOS'), ('uh-huh', 'O'), ('$', 'EOS'), ('for', 'O'), ('her', 'O'), ('$', 'EOS'), ('sure', 'O'), ('$', 'EOS'), ('-', 'O'), ('$', 'EOS'), ('she', 'RM'), ('was', 'RM'), ('truly', 'RM'), ('she', 'RP'), ('was', 'RP'), ('truly', 'RP'), ('aware', 'O'), ('$', 'EOS'), ('i', 'RM'), ('i', 'RP'), ('+', 'O'), ('i', 'O'), ('di-', 'O'), ('+', 'O'), ('i', 'O'), (\"don't\", 'O'), ('know', 'O'), ('how', 'RM'), ('i', 'RM'), ('would', 'RM'), ('how', 'RP'), ('i', 'RP'), ('would', 'RP'), ('deal', 'O'), ('if', 'O'), ('one', 'O'), ('of', 'O'), ('my', 'O'), ('parents', 'O'), ('came', 'O'), ('with', 'RM'), ('with', 'RP'), (\"alzheimer's\", 'O'), ('$', 'EOS'), ('uh-huh', 'O'), ('$', 'EOS'), ('or', 'O'), ('something', 'O'), ('like', 'O'), ('$', 'EOS'), ('that', 'O'), ('would', 'O'), ('be', 'O'), ('tough', 'O'), ('$', 'EOS'), ('that', 'O'), ('which', 'RM'), ('is', 'RM'), ('which', 'RP'), ('is', 'RP'), ('far', 'O'), ('more', 'O'), ('devastating', 'O'), ('$', 'EOS'), ('yes', 'O'), ('$', 'EOS'), ('absolutely', 'O'), ('$', 'EOS'), ('i', 'RM'), ('i', 'RP'), ('+', 'O'), ('i', 'O'), ('think', 'O'), ('that', 'O'), ('what', 'O'), ('one', 'O'), ('thing', 'O'), ('that', 'O'), ('they', 'O'), ('were', 'O'), ('concerned', 'O'), ('probably', 'O'), ('was', 'O'), ('the', 'O'), ('fact', 'O'), ('it', 'O'), (\"wasn't\", 'O'), ('necessarily', 'O'), ('like', 'O'), ('the', 'O'), ('quantity', 'O'), ('of', 'O'), ('care', 'O'), ('$', 'EOS'), ('uh-huh', 'O'), ('$', 'EOS'), ('but', 'O'), ('the', 'O'), ('quality', 'O'), ('of', 'O'), ('$', 'EOS'), ('yes', 'O'), ('$', 'EOS'), ('care', 'O'), ('$', 'EOS'), ('that', 'O'), ('the', 'O'), ('people', 'O'), ('that', 'O'), ('worked', 'O'), ('there', 'O'), ('$', 'EOS'), ('right', 'O'), ('$', 'EOS'), ('were', 'RM'), ('very', 'RM'), ('were', 'RP'), ('very', 'RP'), ('interested', 'O'), ('that', 'O'), ('to', 'O'), ('make', 'O'), ('it', 'O'), ('as', 'O'), ('close', 'O'), ('a', 'O'), ('home', 'O'), ('environment', 'O'), ('$', 'EOS'), ('uh-huh', 'O'), ('$', 'EOS'), ('as', 'O'), ('possible', 'O'), ('$', 'EOS'), ('yes', 'O'), ('$', 'EOS'), ('it', 'O'), ('would', 'O'), ('-', 'O'), ('$', 'EOS'), ('i', 'RM'), ('think', 'RM'), ('i', 'RP'), ('think', 'RP'), ('+', 'O'), ('i', 'O'), ('think', 'O'), ('for', 'O'), ('myself', 'O'), ('i', 'RM'), ('i', 'RP'), ('see', 'O'), ('that', 'O'), ('as', 'O'), ('probably', 'O'), ('the', 'RM'), ('the', 'RP'), ('what', 'O'), ('everything', 'O'), ('would', 'O'), ('hinge', 'O'), ('upon', 'O'), ('$', 'EOS'), ('$', 'EOS'), ('is', 'O'), ('it', 'O'), ('-', 'O'), ('$', 'EOS'), ('how', 'O'), ('close', 'O'), ('is', 'O'), ('it', 'O'), ('to', 'O'), ('a', 'O'), ('home', 'O'), ('environment', 'O'), ('$', 'EOS'), ('yes', 'O'), ('$', 'EOS'), (\"that's\", 'O'), ('right', 'O'), ('$', 'EOS'), ('the', 'RM'), ('probably', 'RP'), ('the', 'RP'), ('major', 'O'), ('question', 'O'), ('$', 'EOS'), ('i', 'O'), ('think', 'O'), ('that', 'O'), ('great', 'O'), ('strides', 'O'), ('are', 'O'), ('being', 'O'), ('made', 'O'), ('nowadays', 'O'), ('in', 'RM'), ('in', 'RP'), ('caring', 'O'), ('for', 'O'), ('the', 'O'), ('elderly', 'O'), ('in', 'RM'), ('several', 'RM'), ('in', 'RP'), ('a', 'RP'), ('+', 'O'), ('$', 'EOS'), ('yeah', 'O'), ('$', 'EOS'), ('in', 'O'), ('a', 'O'), ('whole', 'O'), ('lot', 'O'), ('of', 'O'), ('areas', 'O'), ('$', 'EOS'), ('yeah', 'O'), ('$', 'EOS'), ('just', 'O'), ('people', 'O'), ('are', 'O'), ('of', 'O'), ('course', 'O'), ('populations', 'O'), ('getting', 'O'), ('older', 'O'), ('$', 'EOS'), ('yeah', 'O'), ('$', 'EOS'), ('interesting', 'O'), ('that', 'RM'), ('that', 'RP'), ('a', 'RM'), ('lot', 'RM'), ('the', 'O'), ('population', 'O'), ('of', 'O'), ('the', 'O'), ('united', 'O'), ('states', 'O'), ('is', 'O'), ('changing', 'O'), ('because', 'O'), ('now', 'O'), ('that', 'O'), ('so', 'O'), ('many', 'O'), ('more', 'O'), ('minorities', 'O'), ('where', 'O'), ('they', 'O'), ('have', 'O'), ('had', 'O'), ('extended', 'O'), ('families', 'O'), ('for', 'O'), ('such', 'O'), ('a', 'O'), ('long', 'O'), ('time', 'O'), ('$', 'EOS'), ('uh-huh', 'O'), ('$', 'EOS'), ('matter', 'O'), ('of', 'O'), ('fact', 'O'), ('in', 'O'), ('the', 'O'), ('united', 'O'), ('states', 'O'), ('we', 'O'), ('used', 'O'), ('to', 'O'), ('have', 'O'), ('extended', 'O'), ('families', 'O'), ('$', 'EOS'), ('uh-huh', 'O'), ('$', 'EOS'), ('it', 'O'), (\"wasn't\", 'O'), ('$', 'EOS'), ('true', 'O'), ('$', 'EOS'), ('i', 'O'), ('guess', 'O'), ('as', 'O'), ('we', 'O'), ('become', 'O'), ('more', 'O'), ('industrialized', 'O'), ('and', 'O'), ('more', 'O'), ('less', 'O'), ('in', 'O'), ('a', 'O'), ('rural', 'O'), ('situation', 'O'), ('$', 'EOS'), ('yes', 'O'), ('$', 'EOS'), ('we', 'RM'), ('we', 'RP'), ('+', 'O'), ('we', 'O'), ('+', 'O'), ('we', 'O'), ('+', 'O'), ('we', 'O'), ('choose', 'O'), ('not', 'O'), ('to', 'O'), ('deal', 'O'), ('with', 'O'), ('the', 'O'), ('$', 'EOS'), ('uh-huh', 'O'), ('$', 'EOS'), ('extended', 'O'), ('family', 'O'), ('$', 'EOS'), ('uh-huh', 'O'), ('$', 'EOS'), ('because', 'O'), ('we', 'O'), ('feel', 'O'), (\"it's\", 'O'), ('kind', 'O'), ('of', 'O'), ('cumbersome', 'O'), ('$', 'EOS'), (\"that's\", 'O'), ('right', 'O'), ('$', 'EOS'), ('when', 'O'), ('in', 'O'), ('reality', 'O'), ('it', 'O'), ('makes', 'O'), ('things', 'O'), ('much', 'O'), ('much', 'O'), ('easier', 'O'), ('$', 'EOS'), ('sure', 'O'), ('$', 'EOS'), ('absolutely', 'O'), ('$', 'EOS'), ('$', 'EOS'), ('$', 'EOS'), ('people', 'RM'), ('things', 'RP'), ('are', 'O'), ('scattered', 'O'), ('so', 'O'), ('much', 'O'), ('nowadays', 'O'), ('$', 'EOS'), ('yeah', 'O'), ('$', 'EOS'), ('yeah', 'O'), ('$', 'EOS'), ('i', 'RM'), ('i', 'RP'), ('+', 'O'), ('i', 'O'), ('think', 'O'), ('that', 'O'), ('perhaps', 'RM'), ('perhaps', 'RP'), ('the', 'O'), ('extended', 'O'), ('family', 'O'), ('that', 'O'), ('it', 'O'), ('maybe', 'O'), ('one', 'O'), ('of', 'O'), ('the', 'O'), ('solutions', 'O'), ('to', 'O'), ('a', 'O'), ('lot', 'O'), ('of', 'O'), ('things', 'O'), ('even', 'O'), ('child', 'O'), ('care', 'O'), ('$', 'EOS'), ('yes', 'O'), ('$', 'EOS'), ('of', 'O'), ('course', 'O'), ('there', 'RM'), ('there', 'RP'), ('comes', 'O'), ('other', 'O'), ('issues', 'O'), ('whether', 'O'), ('or', 'O'), ('not', 'O'), ('any', 'O'), ('of', 'O'), ('the', 'O'), ('grandparents', 'O'), ('whether', 'O'), ('((', 'O'), ('we', 'O'), ('feel', 'O'), ('like', 'O'), ('))', 'O'), ('are', 'RM'), ('going', 'RM'), ('to', 'RM'), ('be', 'RM'), ('a', 'RM'), ('good', 'RM'), ('going', 'RP'), ('to', 'RP'), ('be', 'RP'), ('a', 'RP'), ('good', 'RP'), ('caretaker', 'O'), ('for', 'O'), ('our', 'O'), ('children', 'O'), ('$', 'EOS'), ('yes', 'O'), ('$', 'EOS'), ('-', 'O'), ('$', 'EOS'), ('just', 'O'), ('because', 'O'), (\"they're\", 'O'), ('grandparents', 'O'), ('$', 'EOS'), ('they', 'O'), ('raised', 'O'), ('us', 'O'), ('after', 'O'), ('all', 'O'), ('$', 'EOS'), ('yeah', 'O'), ('$', 'EOS'), ('just', 'O'), ('because', 'O'), (\"they're\", 'O'), ('grandparents', 'O'), ('that', 'O'), (\"doesn't\", 'O'), ('automatically', 'O'), ('make', 'O'), ('them', 'O'), ('a', 'O'), ('good', 'O'), ('child', 'O'), ('carer', 'O'), ('$', 'EOS'), ('yeah', 'O'), ('$', 'EOS'), ('i', 'RM'), ('i', 'RP'), ('+', 'O'), ('i', 'O'), ('think', 'O'), ('that', 'O'), ('we', 'RM'), ('always', 'RM'), ('had', 'O'), ('a', 'O'), ('lot', 'O'), ('of', 'O'), ('good', 'O'), ('experiences', 'O'), ('with', 'RM'), ('with', 'RP'), ('many', 'RM'), ('many', 'RP'), ('people', 'O'), ('especially', 'O'), ('where', 'O'), (\"they've\", 'O'), ('had', 'O'), ('extended', 'O'), ('family', 'O'), ('$', 'EOS'), ('i', 'RM'), ('i', 'RP'), ('i', 'RP'), ('kind', 'O'), ('of', 'O'), ('see', 'O'), ('that', 'RM'), ('that', 'RP'), ('perhaps', 'O'), ('we', 'O'), ('may', 'O'), ('need', 'O'), ('to', 'O'), ('get', 'O'), ('close', 'O'), ('to', 'O'), ('the', 'O'), ('family', 'O'), ('environment', 'O'), ('and', 'RM'), ('and', 'RP'), ('get', 'O'), ('down', 'O'), ('to', 'O'), ('the', 'O'), ('values', 'O'), ('of', 'O'), ('-', 'O'), ('$', 'EOS'), (\"it's\", 'O'), ('-', 'O'), ('$', 'EOS'), ('money', 'O'), ('seems', 'O'), ('to', 'O'), ('be', 'O'), ('too', 'O'), ('big', 'O'), ('of', 'O'), ('an', 'O'), ('issue', 'O'), ('$', 'EOS'), ('yeah', 'O'), ('$', 'EOS'), ('with', 'RM'), ('sure', 'RP'), ('with', 'RP'), ('+', 'O'), ('with', 'O'), ('+', 'O'), ('$', 'EOS'), ('realistically', 'O'), ('it', 'O'), ('is', 'O'), ('$', 'EOS'), ('with', 'O'), (\"what's\", 'O'), ('going', 'O'), ('on', 'O'), ('today', 'O'), ('$', 'EOS'), ('i', 'RM'), ('i', 'RP'), ('think', 'O'), ('+', 'O'), ('i', 'O'), ('think', 'O'), ('that', 'O'), ('we', 'RM'), ('may', 'RM'), ('not', 'RM'), ('that', 'RP'), ('may', 'RP'), ('be', 'RP'), ('perhaps', 'O'), ('if', 'O'), ('we', 'O'), ('put', 'O'), ('money', 'O'), ('on', 'O'), ('the', 'O'), ('back', 'O'), ('burner', 'O'), ('$', 'EOS'), ('uh-huh', 'O'), ('$', 'EOS'), ('that', 'RM'), ('may', 'RM'), ('that', 'RP'), ('may', 'RP'), ('choose', 'O'), ('to', 'O'), ('alleviate', 'O'), ('a', 'O'), ('lot', 'O'), ('of', 'O'), ('the', 'O'), ('problem', 'O'), ('$', 'EOS'), ('that', 'O'), ('would', 'O'), ('$', 'EOS'), ('$', 'EOS'), ('certainly', 'O'), ('help', 'O'), ('$', 'EOS'), ('we', 'RM'), ('may', 'RM'), ('not', 'RM'), ('we', 'RP'), ('may', 'RP'), ('not', 'RP'), ('have', 'O'), ('as', 'O'), ('high', 'O'), ('a', 'O'), ('standard', 'O'), ('of', 'O'), ('living', 'O'), ('$', 'EOS'), ('uh-huh', 'O'), ('$', 'EOS'), ('but', 'RM'), ('the', 'RM'), ('but', 'RP'), ('actually', 'RP'), ('have', 'RP'), ('a', 'RP'), ('truer', 'RP'), ('standard', 'RP'), ('of', 'O'), ('living', 'O'), ('$', 'EOS'), ('right', 'O'), ('$', 'EOS'), (\"that's\", 'O'), ('just', 'O'), ('a', 'O'), ('matter', 'O'), ('of', 'O'), ('defining', 'O'), ('priorities', 'O'), ('i', 'O'), ('guess', 'O'), ('$', 'EOS'), ('yeah', 'O'), ('$', 'EOS'), ('yeah', 'O'), ('$', 'EOS'), ('or', 'O'), ('some', 'O'), ('priorities', 'O'), ('anyway', 'O'), ('$', 'EOS'), ('yeah', 'O'), ('$', 'EOS'), ('i', 'O'), ('think', 'O'), ('your', 'O'), ('right', 'O'), ('$', 'EOS'), ('okay', 'O'), ('$', 'EOS'), ('i', 'O'), ('guess', 'O'), ('that', 'O'), ('was', 'O'), ('it', 'O'), ('$', 'EOS'), ('okay', 'O'), ('$', 'EOS'), ('it', 'O'), ('was', 'O'), ('good', 'O'), ('talking', 'O'), ('to', 'O'), ('you', 'O'), ('$', 'EOS'), ('okay', 'O'), ('$', 'EOS'), ('yeah', 'O'), ('$', 'EOS'), ('all', 'O'), ('right', 'O'), ('$', 'EOS'), ('take', 'O'), ('care', 'O'), ('$', 'EOS'), ('hey', 'O'), ('$', 'EOS')]\n"
     ]
    }
   ],
   "source": [
    "#Generating the tuples with the annotations for disfluency detection\n",
    "\n",
    "# Input file\n",
    "input_file = 'sentence-marked.txt'\n",
    "\n",
    "# Dictionary to store word-classification pairs\n",
    "word_classification = []\n",
    "\n",
    "with open(input_file, 'r') as in_file:\n",
    "    inbracket = False\n",
    "    beforePlus = True\n",
    "    \n",
    "    for line in in_file:\n",
    "        line = line.split() #splits the line as per the whitespace character\n",
    "        for i in line:\n",
    "            # print(i) #checks if alphabetical or not\n",
    "            if(i == '['):\n",
    "                inbracket = True\n",
    "            if(i == ']'):\n",
    "                inbracket = False\n",
    "                beforePlus = True\n",
    "                continue\n",
    "            \n",
    "            if(inbracket == False):\n",
    "                if(i == '$'):\n",
    "                    word_classification.append((i, 'EOS')) #if it is alphanumeric and outside the bracket, we give it the marker O\n",
    "                else:\n",
    "                    word_classification.append((i, 'O'))\n",
    "            \n",
    "            else:\n",
    "                if(beforePlus == True):\n",
    "                    if(i.isalpha()):\n",
    "                        word_classification.append((i, 'RM')) #RM is the Reperandum\n",
    "                    elif(i == '+'):\n",
    "                        beforePlus = False\n",
    "                else:\n",
    "                    if(i.isalpha()):\n",
    "                        word_classification.append((i, 'RP')) #RP is the repair\n",
    "\n",
    "\n",
    "print(word_classification)\n",
    "\n",
    "                \n",
    "                \n"
   ]
  },
  {
   "cell_type": "code",
   "execution_count": 3,
   "metadata": {},
   "outputs": [],
   "source": [
    "#Write the annotated tuples to a file\n",
    "\n",
    "output_file = 'preprocesslist.txt'\n",
    "with open('preprocesslist.txt', 'w') as file:\n",
    "    for  i in word_classification:\n",
    "        file.write(str(i) + '\\n')\n"
   ]
  }
 ],
 "metadata": {
  "interpreter": {
   "hash": "f509be570ac8b070ce4965372a65d99981b0ddefba49f11483b86c56cb6e7d83"
  },
  "kernelspec": {
   "display_name": "Python 3.10.6 ('torchEnv': venv)",
   "language": "python",
   "name": "python3"
  },
  "language_info": {
   "codemirror_mode": {
    "name": "ipython",
    "version": 3
   },
   "file_extension": ".py",
   "mimetype": "text/x-python",
   "name": "python",
   "nbconvert_exporter": "python",
   "pygments_lexer": "ipython3",
   "version": "3.10.6"
  },
  "orig_nbformat": 4
 },
 "nbformat": 4,
 "nbformat_minor": 2
}
